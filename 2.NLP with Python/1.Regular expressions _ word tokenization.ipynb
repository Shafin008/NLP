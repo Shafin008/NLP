{
 "cells": [
  {
   "cell_type": "markdown",
   "id": "fba2ea0f",
   "metadata": {},
   "source": [
    "### Exercise 1: Which pattern?\n",
    "Find Regex pattern results in the following text?\n",
    "\n",
    "`>>> my_string = \"Let's write RegEx!\"`\n",
    "\n",
    "`>>> re.findall(PATTERN, my_string)`\n",
    "\n",
    "`output: ['Let', 's', 'write', 'RegEx']`"
   ]
  },
  {
   "cell_type": "code",
   "execution_count": 2,
   "id": "fde83697",
   "metadata": {},
   "outputs": [],
   "source": [
    "import re"
   ]
  },
  {
   "cell_type": "code",
   "execution_count": 3,
   "id": "0e4c4577",
   "metadata": {},
   "outputs": [
    {
     "data": {
      "text/plain": [
       "['Let', 's', 'write', 'RegEx']"
      ]
     },
     "execution_count": 3,
     "metadata": {},
     "output_type": "execute_result"
    }
   ],
   "source": [
    "my_string = \"Let's write RegEx!\"\n",
    "\n",
    "pattern = r\"\\w+\"\n",
    "\n",
    "re.findall(pattern, my_string)"
   ]
  },
  {
   "cell_type": "code",
   "execution_count": 12,
   "id": "845f0165",
   "metadata": {},
   "outputs": [
    {
     "data": {
      "text/plain": [
       "['Let', \"'\", 's', 'write', 'RegEx', '!']"
      ]
     },
     "execution_count": 12,
     "metadata": {},
     "output_type": "execute_result"
    }
   ],
   "source": [
    "my_string = \"Let's write RegEx!\"\n",
    "\n",
    "pattern = r\"\\w+|\\S\"\n",
    "\n",
    "re.findall(pattern, my_string)"
   ]
  },
  {
   "cell_type": "markdown",
   "id": "871a186b",
   "metadata": {},
   "source": [
    "### Exercise 2:\n",
    "\n",
    "`my_string2 = \"Let's write RegEx!  Won't that be fun?  I sure think so.  Can you find 4 sentences?  Or perhaps, all 19 words?\"`\n",
    "\n",
    "- Split my_string on each sentence ending. To do this:\n",
    "  \n",
    "  - Write a pattern called sentence_endings to match sentence endings `(.?!)`.\n",
    "  - Use `re.split()` to split my_string2 on the pattern and print the result.\n",
    "  \n",
    "  \n",
    "- Find and print all `capitalized` words in my_string by writing a pattern called capitalized_words and using re.findall().\n",
    "\n",
    "  - Remember the [a-z] pattern shown in the video to match lowercase groups? Modify that pattern appropriately in order to match uppercase groups.\n",
    "\n",
    "- Write a pattern called `spaces` to match one or more spaces `(\"\\s+\")` and then use `re.split()` to split my_string2 on this pattern, keeping all punctuation intact. Print the result.\n",
    "\n",
    "\n",
    "- Find all digits in my_string by writing a pattern called digits `(\"\\d+\")` and using `re.findall()`. Print the result."
   ]
  },
  {
   "cell_type": "code",
   "execution_count": 20,
   "id": "b7a0b332",
   "metadata": {},
   "outputs": [
    {
     "data": {
      "text/plain": [
       "\"Let's write RegEx!  Won't that be fun?  I sure think so.  Can you find 4 sentences?  Or perhaps, all 19 words?\""
      ]
     },
     "execution_count": 20,
     "metadata": {},
     "output_type": "execute_result"
    }
   ],
   "source": [
    "## q1:\n",
    "my_string2 = \"Let's write RegEx!  Won't that be fun?  I sure think so.  Can you find 4 sentences?  Or perhaps, all 19 words?\"\n",
    "my_string2"
   ]
  },
  {
   "cell_type": "code",
   "execution_count": 29,
   "id": "c5d5105a",
   "metadata": {},
   "outputs": [
    {
     "data": {
      "text/plain": [
       "[\"Let's write RegEx\",\n",
       " \"  Won't that be fun\",\n",
       " '  I sure think so',\n",
       " '  Can you find 4 sentences',\n",
       " '  Or perhaps, all 19 words',\n",
       " '']"
      ]
     },
     "execution_count": 29,
     "metadata": {},
     "output_type": "execute_result"
    }
   ],
   "source": [
    "sentence_endings = r\"[!\\.\\?]\"\n",
    "re.split(sentence_endings, my_string2)"
   ]
  },
  {
   "cell_type": "code",
   "execution_count": 26,
   "id": "76558719",
   "metadata": {},
   "outputs": [
    {
     "data": {
      "text/plain": [
       "[\"Let's write RegEx\",\n",
       " \"  Won't that be fun\",\n",
       " '  I sure think so',\n",
       " '  Can you find 4 sentences',\n",
       " '  Or perhaps, all 19 words',\n",
       " '']"
      ]
     },
     "execution_count": 26,
     "metadata": {},
     "output_type": "execute_result"
    }
   ],
   "source": [
    "sentence_endings = r\"!|\\.|\\?\"\n",
    "re.split(sentence_endings, my_string2)"
   ]
  },
  {
   "cell_type": "code",
   "execution_count": 30,
   "id": "0af466dc",
   "metadata": {},
   "outputs": [
    {
     "data": {
      "text/plain": [
       "\"Let's write RegEx!  Won't that be fun?  I sure think so.  Can you find 4 sentences?  Or perhaps, all 19 words?\""
      ]
     },
     "execution_count": 30,
     "metadata": {},
     "output_type": "execute_result"
    }
   ],
   "source": [
    "## q2\n",
    "my_string2"
   ]
  },
  {
   "cell_type": "code",
   "execution_count": 34,
   "id": "ed44abe2",
   "metadata": {},
   "outputs": [
    {
     "data": {
      "text/plain": [
       "['Let', 'RegEx', 'Won', 'Can', 'Or']"
      ]
     },
     "execution_count": 34,
     "metadata": {},
     "output_type": "execute_result"
    }
   ],
   "source": [
    "capitalized_words = r'[A-Z]\\w+'\n",
    "re.findall(capitalized_words, my_string2)"
   ]
  },
  {
   "cell_type": "code",
   "execution_count": 37,
   "id": "2a433967",
   "metadata": {
    "scrolled": true
   },
   "outputs": [
    {
     "data": {
      "text/plain": [
       "[\"Let's\",\n",
       " 'write',\n",
       " 'RegEx!',\n",
       " \"Won't\",\n",
       " 'that',\n",
       " 'be',\n",
       " 'fun?',\n",
       " 'I',\n",
       " 'sure',\n",
       " 'think',\n",
       " 'so.',\n",
       " 'Can',\n",
       " 'you',\n",
       " 'find',\n",
       " '4',\n",
       " 'sentences?',\n",
       " 'Or',\n",
       " 'perhaps,',\n",
       " 'all',\n",
       " '19',\n",
       " 'words?']"
      ]
     },
     "execution_count": 37,
     "metadata": {},
     "output_type": "execute_result"
    }
   ],
   "source": [
    "## q3\n",
    "spaces = r'\\s+'\n",
    "re.split(spaces, my_string2)"
   ]
  },
  {
   "cell_type": "code",
   "execution_count": 38,
   "id": "c1ac66cb",
   "metadata": {},
   "outputs": [
    {
     "data": {
      "text/plain": [
       "\"Let's write RegEx!  Won't that be fun?  I sure think so.  Can you find 4 sentences?  Or perhaps, all 19 words?\""
      ]
     },
     "execution_count": 38,
     "metadata": {},
     "output_type": "execute_result"
    }
   ],
   "source": [
    "## q4: \n",
    "my_string2"
   ]
  },
  {
   "cell_type": "code",
   "execution_count": 39,
   "id": "20b9c269",
   "metadata": {},
   "outputs": [
    {
     "data": {
      "text/plain": [
       "['4', '19']"
      ]
     },
     "execution_count": 39,
     "metadata": {},
     "output_type": "execute_result"
    }
   ],
   "source": [
    "digits = \"\\d+\"\n",
    "re.findall(digits, my_string2)"
   ]
  },
  {
   "cell_type": "markdown",
   "id": "329bb838",
   "metadata": {},
   "source": [
    "### What is tokenization?\n",
    "\n",
    "Tokenization is the process of transforming a string or document into smaller chunks, which we call tokens. This is usually one step in the process of preparing a text for natural language processing. \n",
    "\n",
    "There are many different theories and rules regarding tokenization, and you can create your own tokenization rules using regular expresssions, but normally tokenization will do things like:\n",
    "\n",
    "- break out words or sentences, \n",
    "\n",
    "- often separate punctuation or \n",
    "\n",
    "- you can even just tokenize parts of a string like separating all hashtags in a Tweet.\n",
    "\n",
    "###  Why tokenize?\n",
    "\n",
    "Why bother with tokenization? Because it can help us with some simple text processing tasks like mapping part of speech, matching common words and perhaps removing unwanted tokens like common words or repeated words.\n",
    "\n",
    "### nltk library\n",
    "\n",
    "One library that is commonly used for simple tokenization is nltk, the natural language toolkit library. Here is a short example of using the word_tokenize method to break down a string into tokens. \n",
    "\n",
    "<img src=\"n.jpg\" style=\"max-width:600px\">\n",
    "\n",
    "We can see from the result that words are separated and punctuation are individual tokens as well.\n",
    "\n",
    "\n",
    "### Other nltk tokenizers\n",
    "\n",
    "Beyond just tokenizing words, NLTK has plenty of other tokenizers you can use. \n",
    "\n",
    "- The `sent_tokenize` function will `split a document into individual sentences`. \n",
    "\n",
    "\n",
    "- The `regexp_tokenize` uses `regular expressions to tokenize the string`, giving you more granular control over the process. \n",
    "\n",
    "\n",
    "- The `TweetTokenizer` does neat things like recognize hashtags, mentions and when you have too many punctuation symbols following a sentence."
   ]
  },
  {
   "cell_type": "code",
   "execution_count": 40,
   "id": "7175d2b3",
   "metadata": {},
   "outputs": [],
   "source": [
    "import pandas as pd"
   ]
  },
  {
   "cell_type": "code",
   "execution_count": 61,
   "id": "eea2e9dd",
   "metadata": {},
   "outputs": [
    {
     "data": {
      "text/plain": [
       "\"SCENE 1: [wind] [clop clop clop] \\nKING ARTHUR: Whoa there!  [clop clop clop] \\nSOLDIER #1: Halt!  Who goes there?\\nARTHUR: It is I, Arthur, son of Uther Pendragon, from the castle of Camelot.  King of the Britons, defeator of the Saxons, sovereign of all England!\\nSOLDIER #1: Pull the other one!\\nARTHUR: I am, ...  and this is my trusty servant Patsy.  We have ridden the length and breadth of the land in search of knights who will join me in my court at Camelot.  I must speak with your lord and master.\\nSOLDIER #1: What?  Ridden on a horse?\\nARTHUR: Yes!\\nSOLDIER #1: You're using coconuts!\\nARTHUR: What?\\nSOLDIER #1: You've got two empty halves of coconut and you're bangin' 'em together.\\nARTHUR: So?  We have ridden since the snows of winter covered this land, through the kingdom of Mercea, through--\\nSOLDIER #1: Where'd you get the coconuts?\\nARTHUR: We found them.\\nSOLDIER #1: Found them?  In Mercea?  The coconut's tropical!\\nARTHUR: What do you mean?\\nSOLDIER #1: Well, this is a temperate zone.\\nARTHUR: The swallow may fly south with the sun or the house martin or the plover may seek warmer climes in winter, yet these are not strangers to our land?\\nSOLDIER #1: Are you suggesting coconuts migrate?\\nARTHUR: Not at all.  They could be carried.\\nSOLDIER #1: What?  A swallow carrying a coconut?\\nARTHUR: It could grip it by the husk!\\nSOLDIER #1: It's not a question of where he grips it!  It's a simple question of weight ratios!  A five ounce bird could not carry a one pound coconut.\\nARTHUR: Well, it doesn't matter.  Will you go and tell your master that Arthur from the Court of Camelot is here.\\nSOLDIER #1: Listen.  In order to maintain air-speed velocity, a swallow needs to beat its wings forty-three times every second, right?\\nARTHUR: Please!\\nSOLDIER #1: Am I right?\\nARTHUR: I'm not interested!\\nSOLDIER #2: It could be carried by an African swallow!\\nSOLDIER #1: Oh, yeah, an African swallow maybe, but not a European swallow.  That's my point.\\nSOLDIER #2: Oh, yeah, I agree with that.\\nARTHUR: Will you ask your master if he wants to join my court at Camelot?!\\nSOLDIER #1: But then of course a-- African swallows are non-migratory.\\nSOLDIER #2: Oh, yeah...\\nSOLDIER #1: So they couldn't bring a coconut back anyway...  [clop clop clop] \\nSOLDIER #2: Wait a minute!  Supposing two swallows carried it together?\\nSOLDIER #1: No, they'd have to have it on a line.\\nSOLDIER #2: Well, simple!  They'd just use a strand of creeper!\\nSOLDIER #1: What, held under the dorsal guiding feathers?\\nSOLDIER #2: Well, why not?\""
      ]
     },
     "execution_count": 61,
     "metadata": {},
     "output_type": "execute_result"
    }
   ],
   "source": [
    "scene_one = '''SCENE 1: [wind] [clop clop clop] \n",
    "KING ARTHUR: Whoa there!  [clop clop clop] \n",
    "SOLDIER #1: Halt!  Who goes there?\n",
    "ARTHUR: It is I, Arthur, son of Uther Pendragon, from the castle of Camelot.  King of the Britons, defeator of the Saxons, sovereign of all England!\n",
    "SOLDIER #1: Pull the other one!\n",
    "ARTHUR: I am, ...  and this is my trusty servant Patsy.  We have ridden the length and breadth of the land in search of knights who will join me in my court at Camelot.  I must speak with your lord and master.\n",
    "SOLDIER #1: What?  Ridden on a horse?\n",
    "ARTHUR: Yes!\n",
    "SOLDIER #1: You're using coconuts!\n",
    "ARTHUR: What?\n",
    "SOLDIER #1: You've got two empty halves of coconut and you're bangin' 'em together.\n",
    "ARTHUR: So?  We have ridden since the snows of winter covered this land, through the kingdom of Mercea, through--\n",
    "SOLDIER #1: Where'd you get the coconuts?\n",
    "ARTHUR: We found them.\n",
    "SOLDIER #1: Found them?  In Mercea?  The coconut's tropical!\n",
    "ARTHUR: What do you mean?\n",
    "SOLDIER #1: Well, this is a temperate zone.\n",
    "ARTHUR: The swallow may fly south with the sun or the house martin or the plover may seek warmer climes in winter, yet these are not strangers to our land?\n",
    "SOLDIER #1: Are you suggesting coconuts migrate?\n",
    "ARTHUR: Not at all.  They could be carried.\n",
    "SOLDIER #1: What?  A swallow carrying a coconut?\n",
    "ARTHUR: It could grip it by the husk!\n",
    "SOLDIER #1: It's not a question of where he grips it!  It's a simple question of weight ratios!  A five ounce bird could not carry a one pound coconut.\n",
    "ARTHUR: Well, it doesn't matter.  Will you go and tell your master that Arthur from the Court of Camelot is here.\n",
    "SOLDIER #1: Listen.  In order to maintain air-speed velocity, a swallow needs to beat its wings forty-three times every second, right?\n",
    "ARTHUR: Please!\n",
    "SOLDIER #1: Am I right?\n",
    "ARTHUR: I'm not interested!\n",
    "SOLDIER #2: It could be carried by an African swallow!\n",
    "SOLDIER #1: Oh, yeah, an African swallow maybe, but not a European swallow.  That's my point.\n",
    "SOLDIER #2: Oh, yeah, I agree with that.\n",
    "ARTHUR: Will you ask your master if he wants to join my court at Camelot?!\n",
    "SOLDIER #1: But then of course a-- African swallows are non-migratory.\n",
    "SOLDIER #2: Oh, yeah...\n",
    "SOLDIER #1: So they couldn't bring a coconut back anyway...  [clop clop clop] \n",
    "SOLDIER #2: Wait a minute!  Supposing two swallows carried it together?\n",
    "SOLDIER #1: No, they'd have to have it on a line.\n",
    "SOLDIER #2: Well, simple!  They'd just use a strand of creeper!\n",
    "SOLDIER #1: What, held under the dorsal guiding feathers?\n",
    "SOLDIER #2: Well, why not?'''\n",
    "\n",
    "scene_one"
   ]
  },
  {
   "cell_type": "code",
   "execution_count": 62,
   "id": "0115315f",
   "metadata": {},
   "outputs": [],
   "source": [
    "from nltk import sent_tokenize, word_tokenize"
   ]
  },
  {
   "cell_type": "markdown",
   "id": "0ea251c6",
   "metadata": {},
   "source": [
    "### Exercise 3: Word tokenization with NLTK\n",
    "\n",
    "Here, you'll be using the first scene of Monty Python's Holy Grail, which has been pre-loaded as `scene_one`\n",
    "\n",
    "- Tokenize all the `sentences` in `scene_one` using the sent_tokenize() function.\n",
    "\n",
    "\n",
    "- Tokenize the `fourth sentenc`e in `sentences`, which you can access as sentences[3], using the word_tokenize() function.\n",
    "\n",
    "\n",
    "- Find the `unique tokens` in the entire scene by using word_tokenize() on scene_one and then converting it into a set using set(). Print the unique tokens found. "
   ]
  },
  {
   "cell_type": "code",
   "execution_count": 67,
   "id": "904e48af",
   "metadata": {
    "scrolled": true
   },
   "outputs": [
    {
     "name": "stdout",
     "output_type": "stream",
     "text": [
      "['SCENE 1: [wind] [clop clop clop] \\nKING ARTHUR: Whoa there!', '[clop clop clop] \\nSOLDIER #1: Halt!', 'Who goes there?', 'ARTHUR: It is I, Arthur, son of Uther Pendragon, from the castle of Camelot.', 'King of the Britons, defeator of the Saxons, sovereign of all England!', 'SOLDIER #1: Pull the other one!', 'ARTHUR: I am, ...  and this is my trusty servant Patsy.', 'We have ridden the length and breadth of the land in search of knights who will join me in my court at Camelot.', 'I must speak with your lord and master.', 'SOLDIER #1: What?', 'Ridden on a horse?', 'ARTHUR: Yes!', \"SOLDIER #1: You're using coconuts!\", 'ARTHUR: What?', \"SOLDIER #1: You've got two empty halves of coconut and you're bangin' 'em together.\", 'ARTHUR: So?', \"We have ridden since the snows of winter covered this land, through the kingdom of Mercea, through--\\nSOLDIER #1: Where'd you get the coconuts?\", 'ARTHUR: We found them.', 'SOLDIER #1: Found them?', 'In Mercea?', \"The coconut's tropical!\", 'ARTHUR: What do you mean?', 'SOLDIER #1: Well, this is a temperate zone.', 'ARTHUR: The swallow may fly south with the sun or the house martin or the plover may seek warmer climes in winter, yet these are not strangers to our land?', 'SOLDIER #1: Are you suggesting coconuts migrate?', 'ARTHUR: Not at all.', 'They could be carried.', 'SOLDIER #1: What?', 'A swallow carrying a coconut?', 'ARTHUR: It could grip it by the husk!', \"SOLDIER #1: It's not a question of where he grips it!\", \"It's a simple question of weight ratios!\", 'A five ounce bird could not carry a one pound coconut.', \"ARTHUR: Well, it doesn't matter.\", 'Will you go and tell your master that Arthur from the Court of Camelot is here.', 'SOLDIER #1: Listen.', 'In order to maintain air-speed velocity, a swallow needs to beat its wings forty-three times every second, right?', 'ARTHUR: Please!', 'SOLDIER #1: Am I right?', \"ARTHUR: I'm not interested!\", 'SOLDIER #2: It could be carried by an African swallow!', 'SOLDIER #1: Oh, yeah, an African swallow maybe, but not a European swallow.', \"That's my point.\", 'SOLDIER #2: Oh, yeah, I agree with that.', 'ARTHUR: Will you ask your master if he wants to join my court at Camelot?!', 'SOLDIER #1: But then of course a-- African swallows are non-migratory.', 'SOLDIER #2: Oh, yeah...', \"SOLDIER #1: So they couldn't bring a coconut back anyway...  [clop clop clop] \\nSOLDIER #2: Wait a minute!\", 'Supposing two swallows carried it together?', \"SOLDIER #1: No, they'd have to have it on a line.\", 'SOLDIER #2: Well, simple!', \"They'd just use a strand of creeper!\", 'SOLDIER #1: What, held under the dorsal guiding feathers?', 'SOLDIER #2: Well, why not?']\n"
     ]
    }
   ],
   "source": [
    "## q1\n",
    "# Split scene_one into sentences: sentences\n",
    "sentences = sent_tokenize(scene_one)\n",
    "print(sentences)"
   ]
  },
  {
   "cell_type": "code",
   "execution_count": 68,
   "id": "a05cf3ca",
   "metadata": {},
   "outputs": [
    {
     "name": "stdout",
     "output_type": "stream",
     "text": [
      "['ARTHUR', ':', 'It', 'is', 'I', ',', 'Arthur', ',', 'son', 'of', 'Uther', 'Pendragon', ',', 'from', 'the', 'castle', 'of', 'Camelot', '.']\n"
     ]
    }
   ],
   "source": [
    "## q2\n",
    "# Use word_tokenize to tokenize the fourth sentence: tokenized_sent\n",
    "tokenized_sent = word_tokenize(sentences[3])\n",
    "print(tokenized_sent)"
   ]
  },
  {
   "cell_type": "code",
   "execution_count": 69,
   "id": "5d4199ca",
   "metadata": {},
   "outputs": [
    {
     "name": "stdout",
     "output_type": "stream",
     "text": [
      "{'to', 'covered', 'strand', 'five', 'an', 'creeper', 'two', 'castle', 'master', 'my', 'held', 'Are', 'maintain', 'anyway', 'beat', 'husk', 'question', 'Oh', 'that', 'its', 'you', 'England', '--', 'search', '2', 'right', 'join', 'So', 'have', 'court', 'wings', 'speak', 'through', 'a', 'yet', 'simple', 'goes', 'back', 'plover', 'are', 'breadth', 'sun', 'other', 'of', 'forty-three', 'Whoa', 'trusty', 'You', 'No', 'line', 'agree', 'Patsy', 'just', 'fly', 'point', 'sovereign', '!', 'use', 'they', ':', 'It', 'who', 'Well', 'here', 'mean', 'In', 'lord', 'then', 'by', 'in', 'all', 'maybe', 'the', 'do', 'ounce', 'where', 'Pendragon', 'one', 'will', 'zone', 'yeah', 'winter', 'under', 'Britons', 'from', 'SOLDIER', 'We', 'Please', 'bird', 'I', \"'\", 'your', 'horse', 'house', 'carried', 'dorsal', 'not', 'using', 'at', 'Listen', 'Not', 'Yes', 'may', 'air-speed', 'and', 'knights', 'Supposing', 'swallow', 'could', 'Uther', 'A', '...', 'me', 'kingdom', 'it', 'That', 'with', 'together', \"'m\", 'wind', 'go', 'non-migratory', 'strangers', 'times', 'coconut', 'ARTHUR', \"'d\", 'them', 'carry', 'tell', 'since', 'course', 'defeator', 'velocity', 'swallows', 'Court', 'bring', 'Mercea', 'he', '1', 'halves', 'or', 'be', 'suggesting', 'every', 'is', 'got', 'grip', 'snows', 'found', 'coconuts', 'Found', \"'s\", 'order', 'African', 'Arthur', 'servant', 'Will', '#', 'son', 'length', 'these', \"n't\", 'Where', 'clop', 'second', '?', 'Camelot', 'They', 'ask', 'bangin', 'ridden', \"'em\", 'am', 'this', 'if', 'grips', 'European', 'pound', 'south', 'but', 'Am', 'carrying', 'Saxons', ']', 'martin', 'The', 'ratios', 'feathers', 'Halt', 'Wait', 'KING', 'wants', 'King', \"'ve\", 'does', 'But', 'needs', '[', 'minute', 'seek', 'guiding', 'temperate', '.', 'Pull', ',', 'Ridden', 'SCENE', 'get', 'tropical', 'migrate', 'What', 'Who', 'land', \"'re\", 'warmer', 'weight', 'there', 'interested', 'empty', 'on', 'why', 'our', 'climes', 'matter', 'must'}\n"
     ]
    }
   ],
   "source": [
    "## q3\n",
    "# Make a set of unique tokens in the entire scene: unique_tokens\n",
    "unique_tokens = set(word_tokenize(scene_one))\n",
    "\n",
    "# Print the unique tokens result\n",
    "print(unique_tokens)"
   ]
  },
  {
   "cell_type": "markdown",
   "id": "c49f2f02",
   "metadata": {},
   "source": [
    "### Exercise 4: \n",
    "\n",
    "You have both `scene_one` and `sentences` available from the last exercise.\n",
    "\n",
    "- Use `re.search()` to search for the first occurrence of the word `\"coconuts\"` in `scene_one`. Store the result in `match`. Print the `start` and `end` indexes of match using its `.start()` and `.end()` methods, respectively.\n",
    "\n",
    "\n",
    "- Write a regular expression called `pattern1` to find anything in `square brackets`. Use `re.search()` with the pattern to find the `first text` in `scene_one` in `square brackets` in the scene. Print the result.\n",
    "\n",
    "\n",
    "- Create a pattern to match the script notation (e.g. `Character:`), assigning the result to `pattern2`. Remember that you will want to match any words or spaces that precede the : (such as the space within `SOLDIER #1:`). \n",
    "\n",
    "\n",
    "- Use `re.match()` with your new pattern to find and print the script notation in the `fourth line`. The tokenized sentences are available in your namespace as `sentences`"
   ]
  },
  {
   "cell_type": "code",
   "execution_count": 70,
   "id": "6db79d82",
   "metadata": {},
   "outputs": [
    {
     "name": "stdout",
     "output_type": "stream",
     "text": [
      "<re.Match object; span=(580, 588), match='coconuts'>\n",
      "580 588\n"
     ]
    }
   ],
   "source": [
    "## q1\n",
    "match = re.search(r'coconuts', scene_one)\n",
    "print(match)\n",
    "print(match.start(), match.end())"
   ]
  },
  {
   "cell_type": "code",
   "execution_count": 74,
   "id": "52f288b5",
   "metadata": {},
   "outputs": [
    {
     "data": {
      "text/plain": [
       "<re.Match object; span=(9, 32), match='[wind] [clop clop clop]'>"
      ]
     },
     "execution_count": 74,
     "metadata": {},
     "output_type": "execute_result"
    }
   ],
   "source": [
    "## q2\n",
    "pattern1 = r\"\\[.*\\]\"\n",
    "re.search(pattern1, scene_one)"
   ]
  },
  {
   "cell_type": "code",
   "execution_count": 78,
   "id": "f16bb630",
   "metadata": {},
   "outputs": [
    {
     "data": {
      "text/plain": [
       "<re.Match object; span=(9, 32), match='[wind] [clop clop clop]'>"
      ]
     },
     "execution_count": 78,
     "metadata": {},
     "output_type": "execute_result"
    }
   ],
   "source": [
    "pattern1 = r\"\\[.*]\"\n",
    "re.search(pattern1, scene_one)"
   ]
  },
  {
   "cell_type": "code",
   "execution_count": 77,
   "id": "ee687d38",
   "metadata": {},
   "outputs": [],
   "source": [
    "pattern1 = r\"\\[.*\\]\"\n",
    "re.match(pattern1, scene_one)"
   ]
  },
  {
   "cell_type": "code",
   "execution_count": 76,
   "id": "1150d0b6",
   "metadata": {
    "scrolled": true
   },
   "outputs": [
    {
     "data": {
      "text/plain": [
       "['[wind] [clop clop clop]', '[clop clop clop]', '[clop clop clop]']"
      ]
     },
     "execution_count": 76,
     "metadata": {},
     "output_type": "execute_result"
    }
   ],
   "source": [
    "pattern1 = r\"\\[.*\\]\"\n",
    "re.findall(pattern1, scene_one)"
   ]
  },
  {
   "cell_type": "code",
   "execution_count": 79,
   "id": "c1330458",
   "metadata": {
    "scrolled": true
   },
   "outputs": [
    {
     "data": {
      "text/plain": [
       "['SCENE 1: [wind] [clop clop clop] \\nKING ARTHUR: Whoa there!',\n",
       " '[clop clop clop] \\nSOLDIER #1: Halt!',\n",
       " 'Who goes there?',\n",
       " 'ARTHUR: It is I, Arthur, son of Uther Pendragon, from the castle of Camelot.',\n",
       " 'King of the Britons, defeator of the Saxons, sovereign of all England!',\n",
       " 'SOLDIER #1: Pull the other one!',\n",
       " 'ARTHUR: I am, ...  and this is my trusty servant Patsy.',\n",
       " 'We have ridden the length and breadth of the land in search of knights who will join me in my court at Camelot.',\n",
       " 'I must speak with your lord and master.',\n",
       " 'SOLDIER #1: What?',\n",
       " 'Ridden on a horse?',\n",
       " 'ARTHUR: Yes!',\n",
       " \"SOLDIER #1: You're using coconuts!\",\n",
       " 'ARTHUR: What?',\n",
       " \"SOLDIER #1: You've got two empty halves of coconut and you're bangin' 'em together.\",\n",
       " 'ARTHUR: So?',\n",
       " \"We have ridden since the snows of winter covered this land, through the kingdom of Mercea, through--\\nSOLDIER #1: Where'd you get the coconuts?\",\n",
       " 'ARTHUR: We found them.',\n",
       " 'SOLDIER #1: Found them?',\n",
       " 'In Mercea?',\n",
       " \"The coconut's tropical!\",\n",
       " 'ARTHUR: What do you mean?',\n",
       " 'SOLDIER #1: Well, this is a temperate zone.',\n",
       " 'ARTHUR: The swallow may fly south with the sun or the house martin or the plover may seek warmer climes in winter, yet these are not strangers to our land?',\n",
       " 'SOLDIER #1: Are you suggesting coconuts migrate?',\n",
       " 'ARTHUR: Not at all.',\n",
       " 'They could be carried.',\n",
       " 'SOLDIER #1: What?',\n",
       " 'A swallow carrying a coconut?',\n",
       " 'ARTHUR: It could grip it by the husk!',\n",
       " \"SOLDIER #1: It's not a question of where he grips it!\",\n",
       " \"It's a simple question of weight ratios!\",\n",
       " 'A five ounce bird could not carry a one pound coconut.',\n",
       " \"ARTHUR: Well, it doesn't matter.\",\n",
       " 'Will you go and tell your master that Arthur from the Court of Camelot is here.',\n",
       " 'SOLDIER #1: Listen.',\n",
       " 'In order to maintain air-speed velocity, a swallow needs to beat its wings forty-three times every second, right?',\n",
       " 'ARTHUR: Please!',\n",
       " 'SOLDIER #1: Am I right?',\n",
       " \"ARTHUR: I'm not interested!\",\n",
       " 'SOLDIER #2: It could be carried by an African swallow!',\n",
       " 'SOLDIER #1: Oh, yeah, an African swallow maybe, but not a European swallow.',\n",
       " \"That's my point.\",\n",
       " 'SOLDIER #2: Oh, yeah, I agree with that.',\n",
       " 'ARTHUR: Will you ask your master if he wants to join my court at Camelot?!',\n",
       " 'SOLDIER #1: But then of course a-- African swallows are non-migratory.',\n",
       " 'SOLDIER #2: Oh, yeah...',\n",
       " \"SOLDIER #1: So they couldn't bring a coconut back anyway...  [clop clop clop] \\nSOLDIER #2: Wait a minute!\",\n",
       " 'Supposing two swallows carried it together?',\n",
       " \"SOLDIER #1: No, they'd have to have it on a line.\",\n",
       " 'SOLDIER #2: Well, simple!',\n",
       " \"They'd just use a strand of creeper!\",\n",
       " 'SOLDIER #1: What, held under the dorsal guiding feathers?',\n",
       " 'SOLDIER #2: Well, why not?']"
      ]
     },
     "execution_count": 79,
     "metadata": {},
     "output_type": "execute_result"
    }
   ],
   "source": [
    "## q3 & q4\n",
    "sentences"
   ]
  },
  {
   "cell_type": "code",
   "execution_count": 85,
   "id": "18b83d95",
   "metadata": {},
   "outputs": [
    {
     "data": {
      "text/plain": [
       "<re.Match object; span=(0, 7), match='ARTHUR:'>"
      ]
     },
     "execution_count": 85,
     "metadata": {},
     "output_type": "execute_result"
    }
   ],
   "source": [
    "pattern2 = r'[A-Z\\w\\s]+:'\n",
    "re.match(pattern2, sentences[3])"
   ]
  },
  {
   "cell_type": "code",
   "execution_count": 86,
   "id": "d76aeb2d",
   "metadata": {},
   "outputs": [
    {
     "data": {
      "text/plain": [
       "<re.Match object; span=(0, 8), match='SCENE 1:'>"
      ]
     },
     "execution_count": 86,
     "metadata": {},
     "output_type": "execute_result"
    }
   ],
   "source": [
    "pattern2 = r'[A-Z\\w\\s]+:'\n",
    "re.match(pattern2, scene_one)"
   ]
  },
  {
   "cell_type": "code",
   "execution_count": 96,
   "id": "5779cd86",
   "metadata": {
    "scrolled": true
   },
   "outputs": [
    {
     "data": {
      "text/plain": [
       "['SCENE 1:',\n",
       " ' \\nKING ARTHUR:',\n",
       " ' \\nSOLDIER #1:',\n",
       " '\\nARTHUR:',\n",
       " '\\nSOLDIER #1:',\n",
       " '\\nARTHUR:',\n",
       " '\\nSOLDIER #1:',\n",
       " '\\nARTHUR:',\n",
       " '\\nSOLDIER #1:',\n",
       " '\\nARTHUR:',\n",
       " '\\nSOLDIER #1:',\n",
       " '\\nARTHUR:',\n",
       " '\\nSOLDIER #1:',\n",
       " '\\nARTHUR:',\n",
       " '\\nSOLDIER #1:',\n",
       " '\\nARTHUR:',\n",
       " '\\nSOLDIER #1:',\n",
       " '\\nARTHUR:',\n",
       " '\\nSOLDIER #1:',\n",
       " '\\nARTHUR:',\n",
       " '\\nSOLDIER #1:',\n",
       " '\\nARTHUR:',\n",
       " '\\nSOLDIER #1:',\n",
       " '\\nARTHUR:',\n",
       " '\\nSOLDIER #1:',\n",
       " '\\nARTHUR:',\n",
       " '\\nSOLDIER #1:',\n",
       " '\\nARTHUR:',\n",
       " '\\nSOLDIER #2:',\n",
       " '\\nSOLDIER #1:',\n",
       " '\\nSOLDIER #2:',\n",
       " '\\nARTHUR:',\n",
       " '\\nSOLDIER #1:',\n",
       " '\\nSOLDIER #2:',\n",
       " '\\nSOLDIER #1:',\n",
       " ' \\nSOLDIER #2:',\n",
       " '\\nSOLDIER #1:',\n",
       " '\\nSOLDIER #2:',\n",
       " '\\nSOLDIER #1:',\n",
       " '\\nSOLDIER #2:']"
      ]
     },
     "execution_count": 96,
     "metadata": {},
     "output_type": "execute_result"
    }
   ],
   "source": [
    "pattern2 = r'[A-Z\\w\\s#\\d]+:'\n",
    "re.findall(pattern2, scene_one)"
   ]
  },
  {
   "cell_type": "code",
   "execution_count": null,
   "id": "774a0316",
   "metadata": {},
   "outputs": [],
   "source": []
  },
  {
   "cell_type": "markdown",
   "id": "577a1716",
   "metadata": {},
   "source": [
    "### Exercise 5: Choosing a tokenizer\n",
    "\n",
    "Given the following string, find pattern for best tokenizer? If possible, you want to retain sentence punctuation as separate tokens, but have '#1' remain a single token.\n",
    "\n",
    "`my_string3 = \"SOLDIER #1: Found them? In Mercea? The coconut's tropical!\"`"
   ]
  },
  {
   "cell_type": "code",
   "execution_count": 97,
   "id": "0d7a4d71",
   "metadata": {},
   "outputs": [
    {
     "data": {
      "text/plain": [
       "\"SOLDIER #1: Found them? In Mercea? The coconut's tropical!\""
      ]
     },
     "execution_count": 97,
     "metadata": {},
     "output_type": "execute_result"
    }
   ],
   "source": [
    "my_string3 = \"SOLDIER #1: Found them? In Mercea? The coconut's tropical!\"\n",
    "my_string3"
   ]
  },
  {
   "cell_type": "code",
   "execution_count": 98,
   "id": "d8a6fa7c",
   "metadata": {},
   "outputs": [],
   "source": [
    "from nltk import regexp_tokenize"
   ]
  },
  {
   "cell_type": "code",
   "execution_count": 128,
   "id": "872e6e45",
   "metadata": {
    "scrolled": true
   },
   "outputs": [
    {
     "data": {
      "text/plain": [
       "['SOLDIER',\n",
       " '#1',\n",
       " 'Found',\n",
       " 'them',\n",
       " '?',\n",
       " 'In',\n",
       " 'Mercea',\n",
       " '?',\n",
       " 'The',\n",
       " 'coconut',\n",
       " 's',\n",
       " 'tropical',\n",
       " '!']"
      ]
     },
     "execution_count": 128,
     "metadata": {},
     "output_type": "execute_result"
    }
   ],
   "source": [
    "pattern4 = r'(\\w+|#\\d|\\?|!)'\n",
    "regexp_tokenize(my_string3, pattern4)"
   ]
  },
  {
   "cell_type": "code",
   "execution_count": 155,
   "id": "0563de85",
   "metadata": {},
   "outputs": [
    {
     "data": {
      "text/plain": [
       "['SOLDIER',\n",
       " '#1',\n",
       " 'Found',\n",
       " 'them',\n",
       " '?',\n",
       " 'In',\n",
       " 'Mercea',\n",
       " '?',\n",
       " 'The',\n",
       " 'coconut',\n",
       " 's',\n",
       " 'tropical',\n",
       " '!']"
      ]
     },
     "execution_count": 155,
     "metadata": {},
     "output_type": "execute_result"
    }
   ],
   "source": [
    "re.findall(r'(\\w+|#\\d|\\?|!)', my_string3)"
   ]
  },
  {
   "cell_type": "code",
   "execution_count": 158,
   "id": "e12d798e",
   "metadata": {},
   "outputs": [
    {
     "data": {
      "text/plain": [
       "\"SOLDIER #1: Found them? In Mercea? The coconut's tropical!\""
      ]
     },
     "execution_count": 158,
     "metadata": {},
     "output_type": "execute_result"
    }
   ],
   "source": [
    "my_string3"
   ]
  },
  {
   "cell_type": "code",
   "execution_count": 176,
   "id": "2b4cae74",
   "metadata": {
    "scrolled": false
   },
   "outputs": [
    {
     "data": {
      "text/plain": [
       "['SOLDIER',\n",
       " '#1',\n",
       " ':',\n",
       " 'Found',\n",
       " 'them',\n",
       " '?',\n",
       " 'In',\n",
       " 'Mercea',\n",
       " '?',\n",
       " 'The',\n",
       " 'coconut',\n",
       " \"'\",\n",
       " 's',\n",
       " 'tropical',\n",
       " '!']"
      ]
     },
     "execution_count": 176,
     "metadata": {},
     "output_type": "execute_result"
    }
   ],
   "source": [
    "re.findall(r'[\\w#\\d]+|\\S', my_string3)"
   ]
  },
  {
   "cell_type": "code",
   "execution_count": 129,
   "id": "bc4332b6",
   "metadata": {},
   "outputs": [
    {
     "data": {
      "text/plain": [
       "['SOLDIER',\n",
       " '#',\n",
       " '1',\n",
       " ':',\n",
       " 'Found',\n",
       " 'them',\n",
       " '?',\n",
       " 'In',\n",
       " 'Mercea',\n",
       " '?',\n",
       " 'The',\n",
       " 'coconut',\n",
       " \"'s\",\n",
       " 'tropical',\n",
       " '!']"
      ]
     },
     "execution_count": 129,
     "metadata": {},
     "output_type": "execute_result"
    }
   ],
   "source": [
    "word_tokenize(my_string3)"
   ]
  },
  {
   "cell_type": "code",
   "execution_count": null,
   "id": "24121307",
   "metadata": {},
   "outputs": [],
   "source": []
  },
  {
   "cell_type": "code",
   "execution_count": 166,
   "id": "2ba3d3b0",
   "metadata": {},
   "outputs": [
    {
     "data": {
      "text/plain": [
       "['This is the best #nlp exercise ive found online! #python',\n",
       " '#NLP is super fun! <3 #learning',\n",
       " 'Thanks @datacamp :) #nlp #python']"
      ]
     },
     "execution_count": 166,
     "metadata": {},
     "output_type": "execute_result"
    }
   ],
   "source": [
    "tweets = ['This is the best #nlp exercise ive found online! #python', '#NLP is super fun! <3 #learning',\n",
    "          'Thanks @datacamp :) #nlp #python']\n",
    "tweets"
   ]
  },
  {
   "cell_type": "markdown",
   "id": "e11096e1",
   "metadata": {},
   "source": [
    "### Exercise 6: Regex with NLTK tokenization\n",
    "\n",
    "Twitter is a frequently used source for NLP text and tasks. In this exercise, you'll build a more complex tokenizer for tweets with hashtags and mentions using nltk and regex. \n",
    "\n",
    "The `nltk.tokenize.TweetTokenizer` class gives you some extra methods and attributes for parsing tweets.\n",
    "\n",
    "Here, you're given some example tweets to parse using both `TweetTokenizer` and `regexp_tokenize` from the nltk.tokenize module. These example tweets have been pre-loaded into the variable `tweets`.\n",
    "\n",
    "- Create regex pattern called `pattern5`. Call regexp_tokenize() with this hashtag pattern on the `first tweet` in tweets and assign the result to `hashtags`. Print `hashtags`\n",
    "\n",
    "\n",
    "- Write a new pattern called `pattern6` to match `mentions` and `hashtags`. A mention is something like `@DataCamp`. Then, call `regexp_tokenize()` with your new hashtag pattern on the `last tweet` in tweets and assign the result to `mentions_hashtags`. You can access the last element of a list using -1 as the index, for example, tweets[-1]. Print `mentions_hashtags`\n",
    "\n",
    "\n",
    "- Create an instance of `TweetTokenizer` called `tknzr` and use it inside a list comprehension to tokenize each tweet into a new list called `all_tokens`. To do this, use the `.tokenize()` method of `tknzr`, with `t` as your `iterator` variable. Print `all_tokens`"
   ]
  },
  {
   "cell_type": "code",
   "execution_count": 165,
   "id": "6c470678",
   "metadata": {},
   "outputs": [],
   "source": [
    "from nltk import TweetTokenizer"
   ]
  },
  {
   "cell_type": "code",
   "execution_count": 167,
   "id": "e8dbf6e5",
   "metadata": {},
   "outputs": [
    {
     "data": {
      "text/plain": [
       "['This is the best #nlp exercise ive found online! #python',\n",
       " '#NLP is super fun! <3 #learning',\n",
       " 'Thanks @datacamp :) #nlp #python']"
      ]
     },
     "execution_count": 167,
     "metadata": {},
     "output_type": "execute_result"
    }
   ],
   "source": [
    "tweets"
   ]
  },
  {
   "cell_type": "code",
   "execution_count": 169,
   "id": "9be06692",
   "metadata": {},
   "outputs": [
    {
     "data": {
      "text/plain": [
       "['#nlp', '#python']"
      ]
     },
     "execution_count": 169,
     "metadata": {},
     "output_type": "execute_result"
    }
   ],
   "source": [
    "## q1\n",
    "pattern5 = r\"#\\w+\"\n",
    "hashtags = regexp_tokenize(tweets[0], pattern5)\n",
    "hashtags"
   ]
  },
  {
   "cell_type": "code",
   "execution_count": 172,
   "id": "26040259",
   "metadata": {},
   "outputs": [
    {
     "data": {
      "text/plain": [
       "['@datacamp', '#nlp', '#python']"
      ]
     },
     "execution_count": 172,
     "metadata": {},
     "output_type": "execute_result"
    }
   ],
   "source": [
    "## q2\n",
    "pattern6 = r'[#@]\\w+'\n",
    "mentions_hashtags = regexp_tokenize(tweets[-1], pattern6)\n",
    "mentions_hashtags"
   ]
  },
  {
   "cell_type": "code",
   "execution_count": 180,
   "id": "862deef5",
   "metadata": {},
   "outputs": [
    {
     "name": "stdout",
     "output_type": "stream",
     "text": [
      "[['This', 'is', 'the', 'best', '#nlp', 'exercise', 'ive', 'found', 'online', '!', '#python'], ['#NLP', 'is', 'super', 'fun', '!', '<3', '#learning'], ['Thanks', '@datacamp', ':)', '#nlp', '#python']]\n"
     ]
    }
   ],
   "source": [
    "## q3\n",
    "tknzr = TweetTokenizer()\n",
    "all_tokens = [tknzr.tokenize(t) for t in tweets]\n",
    "print(all_tokens)"
   ]
  },
  {
   "cell_type": "code",
   "execution_count": 179,
   "id": "7b45666a",
   "metadata": {},
   "outputs": [
    {
     "data": {
      "text/plain": [
       "['This is the best #nlp exercise ive found online! #python',\n",
       " '#NLP is super fun! <3 #learning',\n",
       " 'Thanks @datacamp :) #nlp #python']"
      ]
     },
     "execution_count": 179,
     "metadata": {},
     "output_type": "execute_result"
    }
   ],
   "source": [
    "tweets"
   ]
  },
  {
   "cell_type": "code",
   "execution_count": 181,
   "id": "8844ec91",
   "metadata": {
    "scrolled": true
   },
   "outputs": [
    {
     "name": "stdout",
     "output_type": "stream",
     "text": [
      "[['This', 'is', 'the', 'best', '#', 'nlp', 'exercise', 'ive', 'found', 'online', '!', '#', 'python'], ['#', 'NLP', 'is', 'super', 'fun', '!', '<', '3', '#', 'learning'], ['Thanks', '@', 'datacamp', ':', ')', '#', 'nlp', '#', 'python']]\n"
     ]
    }
   ],
   "source": [
    "all_tokens = [word_tokenize(t) for t in tweets]\n",
    "print(all_tokens)"
   ]
  },
  {
   "cell_type": "code",
   "execution_count": null,
   "id": "06b31337",
   "metadata": {},
   "outputs": [],
   "source": []
  },
  {
   "cell_type": "code",
   "execution_count": 183,
   "id": "bf1eb5e6",
   "metadata": {},
   "outputs": [
    {
     "name": "stdout",
     "output_type": "stream",
     "text": [
      "Wann gehen wir Pizza essen? 🍕 Und fährst du mit Über? 🚕\n"
     ]
    }
   ],
   "source": [
    "german_text = 'Wann gehen wir Pizza essen? 🍕 Und fährst du mit Über? 🚕'\n",
    "print(german_text)"
   ]
  },
  {
   "cell_type": "markdown",
   "id": "a594fa54",
   "metadata": {},
   "source": [
    "### Exercise 7: Non-ascii tokenization\n",
    "\n",
    "In this exercise, you'll practice advanced tokenization by tokenizing some `non-ascii` based text. You'll be using `German` with `emoji`!\n",
    "\n",
    "Here, you have access to a string called `german_text`, which has been printed for you. Notice the emoji and the German characters!\n",
    "\n",
    "The following modules have been pre-imported from nltk.tokenize: regexp_tokenize and word_tokenize.\n",
    "\n",
    "Unicode ranges for emoji are:\n",
    "\n",
    "`('\\U0001F300'-'\\U0001F5FF'), ('\\U0001F600-\\U0001F64F'), ('\\U0001F680-\\U0001F6FF'), and ('\\u2600'-\\u26FF-\\u2700-\\u27BF')`.\n",
    "\n",
    "\n",
    "- Tokenize all the words in german_text using word_tokenize(), and print the result.\n",
    "\n",
    "\n",
    "- Tokenize only the capital words in german_text.\n",
    "    \n",
    "    - First, write a pattern called capital_words to match only capital words. Make sure to check for the `German Ü`! To use this character in the exercise, copy and paste it from these instructions. Then, tokenize it using `regexp_tokenize()`.\n",
    "\n",
    "\n",
    "- Tokenize only the `emoji` in german_text. Use `regexp_tokenize()` to tokenize the emoji."
   ]
  },
  {
   "cell_type": "code",
   "execution_count": 184,
   "id": "c151ac3d",
   "metadata": {},
   "outputs": [
    {
     "data": {
      "text/plain": [
       "'Wann gehen wir Pizza essen? 🍕 Und fährst du mit Über? 🚕'"
      ]
     },
     "execution_count": 184,
     "metadata": {},
     "output_type": "execute_result"
    }
   ],
   "source": [
    "german_text"
   ]
  },
  {
   "cell_type": "code",
   "execution_count": 185,
   "id": "a22fd5ca",
   "metadata": {
    "scrolled": true
   },
   "outputs": [
    {
     "data": {
      "text/plain": [
       "['Wann',\n",
       " 'gehen',\n",
       " 'wir',\n",
       " 'Pizza',\n",
       " 'essen',\n",
       " '?',\n",
       " '🍕',\n",
       " 'Und',\n",
       " 'fährst',\n",
       " 'du',\n",
       " 'mit',\n",
       " 'Über',\n",
       " '?',\n",
       " '🚕']"
      ]
     },
     "execution_count": 185,
     "metadata": {},
     "output_type": "execute_result"
    }
   ],
   "source": [
    "# q1\n",
    "all_words = word_tokenize(german_text)\n",
    "all_words"
   ]
  },
  {
   "cell_type": "code",
   "execution_count": 187,
   "id": "2c80108c",
   "metadata": {},
   "outputs": [
    {
     "data": {
      "text/plain": [
       "['Wann', 'Pizza', 'Und', 'Über']"
      ]
     },
     "execution_count": 187,
     "metadata": {},
     "output_type": "execute_result"
    }
   ],
   "source": [
    "## q2\n",
    "capital_words = regexp_tokenize(german_text, r'[A-ZÜ]\\w+')\n",
    "capital_words"
   ]
  },
  {
   "cell_type": "code",
   "execution_count": 194,
   "id": "460d31b3",
   "metadata": {},
   "outputs": [
    {
     "data": {
      "text/plain": [
       "['🍕', '🚕']"
      ]
     },
     "execution_count": 194,
     "metadata": {},
     "output_type": "execute_result"
    }
   ],
   "source": [
    "# q3\n",
    "emoji = r\"['\\U0001F300-\\U0001F5FF'|'\\U0001F600-\\U0001F64F'|'\\U0001F680-\\U0001F6FF'|'\\u2600-\\u26FF\\u2700-\\u27BF']\"\n",
    "regexp_tokenize(german_text, emoji)"
   ]
  },
  {
   "cell_type": "code",
   "execution_count": null,
   "id": "cffe2491",
   "metadata": {},
   "outputs": [],
   "source": []
  },
  {
   "cell_type": "markdown",
   "id": "f866270b",
   "metadata": {},
   "source": [
    "### Exercise 8: Charting practice\n",
    "\n",
    "Try using your new skills to find and chart the number of words per line in the script using matplotlib. The Holy Grail script is loaded for you, and you need to use regex to find the words per line.\n",
    "\n",
    "Using list comprehensions here will speed up your computations. For example: \n",
    "\n",
    "`my_lines = [tokenize(l) for l in lines]` will call a function tokenize on each line in the list lines. The new transformed list will be saved in the my_lines variable.\n",
    "\n",
    "You have access to the entire script in the variable `holy_grail`. Go for it!\n",
    "\n",
    "- `Split` the script `holy_grail` into `lines` using the `newline ('\\n')` character.\n",
    "\n",
    "\n",
    "- Use `re.sub()` inside a `list comprehension` to `replace` the prompts such as `ARTHUR: and SOLDIER #1`.\n",
    "\n",
    "- Use a `list comprehension` to tokenize lines with `regexp_tokenize()`, keeping only words. Recall that the pattern for words is \"\\w+\".\n",
    "\n",
    "\n",
    "- Use a list comprehension to create a list of line lengths called line_num_words.\n",
    "    \n",
    "    - Use t_line as your iterator variable to iterate over tokenized_lines, and then len() function to compute line lengths.\n",
    "\n",
    "\n",
    "- Plot a histogram of line_num_words using plt.hist(). Don't forgot to use plt.show() as well to display the plot."
   ]
  },
  {
   "cell_type": "code",
   "execution_count": 197,
   "id": "655f5300",
   "metadata": {},
   "outputs": [
    {
     "name": "stdout",
     "output_type": "stream",
     "text": [
      "SCENE 1: [wind] [clop clop clop] \n",
      "KING ARTHUR: Whoa there!  [clop clop clop] \n",
      "SOLDIER #1: Halt!  Who goes there?\n",
      "ARTHUR: It is I, Arthur, son of Uther Pendragon, from the castle of Camelot.  King of the Britons, defeator of the Saxons, sovereign of all England!\n",
      "SOLDIER #1: Pull the other one!\n",
      "ARTHUR: I am, ...  and this is my trusty servant Patsy.  We have ridden the length and breadth of the land in search of knights who will join me in my court at Camelot.  I must speak with your lord and master.\n",
      "SOLDIER #1: What?  Ridden on a horse?\n",
      "ARTHUR: Yes!\n",
      "SOLDIER #1: You're using coconuts!\n",
      "ARTHUR: What?\n",
      "SOLDIER #1: You've got two empty halves of coconut and you're bangin' 'em together.\n",
      "ARTHUR: So?  We have ridden since the snows of winter covered this land, through the kingdom of Mercea, through--\n",
      "SOLDIER #1: Where'd you get the coconuts?\n",
      "ARTHUR: We found them.\n",
      "SOLDIER #1: Found them?  In Mercea?  The coconut's tropical!\n",
      "ARTHUR: What do you mean?\n",
      "SOLDIER #1: Well, this is a temperate zone.\n",
      "ARTHUR: The swallow may fly south with the sun or the house martin or the plover may seek warmer climes in winter, yet these are not strangers to our land?\n",
      "SOLDIER #1: Are you suggesting coconuts migrate?\n",
      "ARTHUR: Not at all.  They could be carried.\n",
      "SOLDIER #1: What?  A swallow carrying a coconut?\n",
      "ARTHUR: It could grip it by the husk!\n",
      "SOLDIER #1: It's not a question of where he grips it!  It's a simple question of weight ratios!  A five ounce bird could not carry a one pound coconut.\n",
      "ARTHUR: Well, it doesn't matter.  Will you go and tell your master that Arthur from the Court of Camelot is here.\n",
      "SOLDIER #1: Listen.  In order to maintain air-speed velocity, a swallow needs to beat its wings forty-three times every second, right?\n",
      "ARTHUR: Please!\n",
      "SOLDIER #1: Am I right?\n",
      "ARTHUR: I'm not interested!\n",
      "SOLDIER #2: It could be carried by an African swallow!\n",
      "SOLDIER #1: Oh, yeah, an African swallow maybe, but not a European swallow.  That's my point.\n",
      "SOLDIER #2: Oh, yeah, I agree with that.\n",
      "ARTHUR: Will you ask your master if he wants to join my court at Camelot?!\n",
      "SOLDIER #1: But then of course a-- African swallows are non-migratory.\n",
      "SOLDIER #2: Oh, yeah...\n",
      "SOLDIER #1: So they couldn't bring a coconut back anyway...  [clop clop clop] \n",
      "SOLDIER #2: Wait a minute!  Supposing two swallows carried it together?\n",
      "SOLDIER #1: No, they'd have to have it on a line.\n",
      "SOLDIER #2: Well, simple!  They'd just use a strand of creeper!\n",
      "SOLDIER #1: What, held under the dorsal guiding feathers?\n",
      "SOLDIER #2: Well, why not?\n",
      "SCENE 2: [thud] [clang] \n",
      "CART-MASTER: Bring out your dead!  [clang] Bring out your dead!  [clang] Bring out your dead!  [clang] Bring out your dead!  [clang] Bring out your dead!  [cough cough...] [clang] [... cough cough] Bring out your dead!  [clang] Bring out your dead!  [clang] Bring out your dead!  Ninepence.  [clang] Bring out your dead!  [clang] Bring out your dead!  [clang] Bring out...  [rewr!] ... your dead!  [rewr!] [clang] Bring out your dead!\n",
      "CUSTOMER: Here's one.\n",
      "CART-MASTER: Ninepence.\n",
      "DEAD PERSON: I'm not dead!\n",
      "CART-MASTER: What?\n",
      "CUSTOMER: Nothing.  Here's your ninepence.\n",
      "DEAD PERSON: I'm not dead!\n",
      "CART-MASTER: 'Ere.  He says he's not dead!\n",
      "CUSTOMER: Yes he is.\n",
      "DEAD PERSON: I'm not!\n",
      "CART-MASTER: He isn't?\n",
      "CUSTOMER: Well, he will be soon.  He's very ill.\n",
      "DEAD PERSON: I'm getting better!  \n",
      "CUSTOMER: No you're not.  You'll be stone dead in a moment.\n",
      "CART-MASTER: Oh, I can't take him like that.  It's against regulations.\n",
      "DEAD PERSON: I don't want to go on the cart!\n",
      "CUSTOMER: Oh, don't be such a baby.\n",
      "CART-MASTER: I can't take him.\n",
      "DEAD PERSON: I feel fine!\n",
      "CUSTOMER: Well, do us a favor.\n",
      "CART-MASTER: I can't.\n",
      "CUSTOMER: Well, can you hang around a couple of minutes?  He won't be long.\n",
      "CART-MASTER: No, I've got to go to the Robinson's.  They've lost nine today.\n",
      "CUSTOMER: Well, when's your next round?\n",
      "CART-MASTER: Thursday.\n",
      "DEAD PERSON: I think I'll go for a walk.\n",
      "CUSTOMER: You're not fooling anyone you know.  Look, isn't there something you can do?\n",
      "DEAD PERSON: [singing] I feel happy...  I feel happy.  [whop] \n",
      "CUSTOMER: Ah, thanks very much.\n",
      "CART-MASTER: Not at all.  See you on Thursday.\n",
      "CUSTOMER: Right.  All right.  [howl] [clop clop clop] Who's that then?\n",
      "CART-MASTER: I dunno.  Must be a king.\n",
      "CUSTOMER: Why?\n",
      "CART-MASTER: He hasn't got shit all over him.\n",
      "SCENE 3: [thud] [King Arthur music] [thud thud thud] [King Arthur music stops] \n",
      "ARTHUR: Old woman!\n",
      "DENNIS: Man!\n",
      "ARTHUR: Man.  Sorry.  What knight live in that castle over there?\n",
      "DENNIS: I'm thirty-seven.\n",
      "ARTHUR: I-- what?\n",
      "DENNIS: I'm thirty-seven.  I'm not old.\n",
      "ARTHUR: Well, I can't just call you 'Man'.\n",
      "DENNIS: Well, you could say 'Dennis'.\n",
      "ARTHUR: Well, I didn't know you were called 'Dennis'.\n",
      "DENNIS: Well, you didn't bother to find out, did you?\n",
      "ARTHUR: I did say 'sorry' about the 'old woman', but from the behind you looked--\n",
      "DENNIS: What I object to is that you automatically treat me like an inferior!\n",
      "ARTHUR: Well, I am king!\n",
      "DENNIS: Oh king, eh, very nice.  And how d'you get that, eh?  By exploiting the workers!  By 'anging on to outdated imperialist dogma which perpetuates the economic and social differences in our society.  If there's ever going to be any progress with the--\n",
      "WOMAN: Dennis, there's some lovely filth down here.  Oh!  How d'you do?\n",
      "ARTHUR: How do you do, good lady.  I am Arthur, King of the Britons.  Who's castle is that?\n",
      "WOMAN: King of the who?\n",
      "ARTHUR: The Britons.\n",
      "WOMAN: Who are the Britons?\n",
      "ARTHUR: Well, we all are.  We are all Britons, and I am your king.\n",
      "WOMAN: I didn't know we had a king.  I thought we were an autonomous collective.\n",
      "DENNIS: You're fooling yourself.  We're living in a dictatorship.  A self-perpetuating autocracy in which the working classes--\n",
      "WOMAN: Oh, there you go, bringing class into it again.\n",
      "DENNIS: That's what it's all about.  If only people would hear of--\n",
      "ARTHUR: Please, please good people.  I am in haste.  Who lives in that castle?\n",
      "WOMAN: No one live there.\n",
      "ARTHUR: Then who is your lord?\n",
      "WOMAN: We don't have a lord.\n",
      "ARTHUR: What?\n",
      "DENNIS: I told you.  We're an anarcho-syndicalist commune.  We take it in turns to act as a sort of executive officer for the week.\n",
      "ARTHUR: Yes.\n",
      "DENNIS: But all the decision of that officer have to be ratified at a special bi-weekly meeting--\n",
      "ARTHUR: Yes, I see.\n",
      "DENNIS: By a simple majority in the case of purely internal affairs,--\n",
      "ARTHUR: Be quiet!\n",
      "DENNIS: But by a two-thirds majority in the case of more major--\n",
      "ARTHUR: Be quiet!  I order you to be quiet!\n",
      "WOMAN: Order, eh?  Who does he think he is?  Heh.\n",
      "ARTHUR: I am your king!\n",
      "WOMAN: Well, I didn't vote for you.\n",
      "ARTHUR: You don't vote for kings.\n",
      "WOMAN: Well, how did you become king then?\n",
      "ARTHUR: The Lady of the Lake, ... [angels sing] ... her arm clad in the purest shimmering samite, held aloft Excalibur from the bosom of the water signifying by Divine Providence that I, Arthur, was to carry Excalibur. [singing stops] That is why I am your king!\n",
      "DENNIS: Listen, strange women lying in ponds distributing swords is no basis for a system of government.  Supreme executive power derives from a mandate from the masses, not from some farcical aquatic ceremony.\n",
      "ARTHUR: Be quiet!\n",
      "DENNIS: Well, but you can't expect to wield supreme executive power just 'cause some watery tart threw a sword at you!\n",
      "ARTHUR: Shut up!\n",
      "DENNIS: I mean, if I went 'round saying I was an emperor just because some moistened bint had lobbed a scimitar at me, they'd put me away!\n",
      "ARTHUR: Shut up, will you.  Shut up!\n",
      "DENNIS: Ah, now we see the violence inherent in the system.\n",
      "ARTHUR: Shut up!\n",
      "DENNIS: Oh!  Come and see the violence inherent in the system!  Help, help!  I'm being repressed!\n",
      "ARTHUR: Bloody peasant!\n",
      "DENNIS: Oh, what a give-away.  Did you hear that?  Did you hear that, eh?  That's what I'm on about.  Did you see him repressing me?  You saw it, didn't you\n",
      "SCENE 4: [King Arthur music] [music stops] \n",
      "BLACK KNIGHT: Aaagh!  [King Arthur music] [music stops] \n",
      "BLACK KNIGHT: Aaagh!\n",
      "GREEN KNIGHT: Ooh! [King Arthur music] [music stops] [stab] \n",
      "BLACK KNIGHT: Aagh!\n",
      "GREEN KNIGHT: Oh! [King Arthur music] Ooh! [music stops] \n",
      "BLACK KNIGHT: Aaagh! [clang] \n",
      "BLACK KNIGHT and GREEN KNIGHT: Agh!, oh!, etc.\n",
      "GREEN KNIGHT: Aaaaaah!  Aaaaaaaaah! [woosh] [BLACK KNIGHT kills GREEN KNIGHT] [thud] [scrape] \n",
      "BLACK KNIGHT: Umm! [clop clop clop] \n",
      "ARTHUR: You fight with the strength of many men, Sir Knight. [pause] I am Arthur, King of the Britons. [pause] I seek the finest and the bravest knights in the land to join me in my court at Camelot. [pause] You have proved yourself worthy.  Will you join me? [pause] You make me sad.  So be it.  Come, Patsy.\n",
      "BLACK KNIGHT: None shall pass.\n",
      "ARTHUR: What?\n",
      "BLACK KNIGHT: None shall pass.\n",
      "ARTHUR: I have no quarrel with you, good Sir Knight, but I must cross this bridge.\n",
      "BLACK KNIGHT: Then you shall die.\n",
      "ARTHUR: I command you, as King of the Britons, to stand aside!\n",
      "BLACK KNIGHT: I move for no man.\n",
      "ARTHUR: So be it!\n",
      "ARTHUR and BLACK KNIGHT: Aaah!, hiyaah!, etc. [ARTHUR chops the BLACK KNIGHT's left arm off] \n",
      "ARTHUR: Now stand aside, worthy adversary.\n",
      "BLACK KNIGHT: 'Tis but a scratch.\n",
      "ARTHUR: A scratch?  Your arm's off!\n",
      "BLACK KNIGHT: No, it isn't.\n",
      "ARTHUR: Well, what's that then?\n",
      "BLACK KNIGHT: I've had worse.\n",
      "ARTHUR: You liar!\n",
      "BLACK KNIGHT: Come on, you pansy! [clang] Huyah! [clang] Hiyaah! [clang] Aaaaaaaah! [ARTHUR chops the BLACK KNIGHT's right arm off] \n",
      "ARTHUR: Victory is mine! [kneeling] We thank Thee Lord, that in Thy mer--\n",
      "BLACK KNIGHT: Hah! [clunk] Come on then.\n",
      "ARTHUR: What?\n",
      "BLACK KNIGHT: Have at you! [kick] \n",
      "ARTHUR: Eh.  You are indeed brave, Sir Knight, but the fight is mine.\n",
      "BLACK KNIGHT: Oh, had enough, eh?\n",
      "ARTHUR: Look, you stupid bastard.  You've got no arms left.\n",
      "BLACK KNIGHT: Yes I have.\n",
      "ARTHUR: Look!\n",
      "BLACK KNIGHT: Just a flesh wound. [kick] \n",
      "ARTHUR: Look, stop that.\n",
      "BLACK KNIGHT: Chicken! [kick] Chickennn!\n",
      "ARTHUR: Look, I'll have your leg. [kick] Right! [whop] [ARTHUR chops the BLACK KNIGHT's right leg off] \n",
      "BLACK KNIGHT: Right.  I'll do you for that!\n",
      "ARTHUR: You'll what?\n",
      "BLACK KNIGHT: Come here!\n",
      "ARTHUR: What are you going to do, bleed on me?\n",
      "BLACK KNIGHT: I'm invincible!\n",
      "ARTHUR: You're a looney.\n",
      "BLACK KNIGHT: The Black Knight always triumphs!  Have at you!  Come on then. [whop] [ARTHUR chops the BLACK KNIGHT's last leg off] \n",
      "BLACK KNIGHT: Ooh.  All right, we'll call it a draw.\n",
      "ARTHUR: Come, Patsy.\n",
      "BLACK KNIGHT: Oh.  Oh, I see.  Running away, eh?  You yellow bastards!  Come back here and take what's coming to you.  I'll bite your legs off\n",
      "SCENE 5:\n",
      "MONKS: [chanting] Pie Iesu domine, dona eis requiem. [bonk] Pie Iesu domine, ... [bonk] ... dona eis requiem. [bonk] Pie Iesu domine, ... [bonk] ... dona eis requiem.\n",
      "CROWD: A witch!  A witch! [bonk] A witch!  A witch!\n",
      "MONKS: [chanting] Pie Iesu domine...\n",
      "CROWD: A witch!  A witch!  A witch!  A witch!  We've found a witch!  A witch!  A witch!  A witch!  A witch!  We've got a witch!  A witch!  A witch!  Burn her!  Burn her!  Burn her!  We've found a witch!  We've found a witch!  A witch!  A witch!  A witch!\n",
      "VILLAGER #1: We have found a witch.  May we burn her?\n",
      "CROWD: Burn her!  Burn!  Burn her!  Burn her!\n",
      "BEDEVERE: How do you know she is a witch?\n",
      "VILLAGER #2: She looks like one.\n",
      "CROWD: Right!  Yeah!  Yeah!\n",
      "BEDEVERE: Bring her forward.\n",
      "WITCH: I'm not a witch.  I'm not a witch.\n",
      "BEDEVERE: Uh, but you are dressed as one.\n",
      "WITCH: They dressed me up like this.\n",
      "CROWD: Augh, we didn't!  We didn't...\n",
      "WITCH: And this isn't my nose.  It's a false one.\n",
      "BEDEVERE: Well?\n",
      "VILLAGER #1: Well, we did do the nose.\n",
      "BEDEVERE: The nose?\n",
      "VILLAGER #1: And the hat, but she is a witch!\n",
      "VILLAGER #2: Yeah!\n",
      "CROWD: We burn her!  Right!  Yeaaah!  Yeaah!\n",
      "BEDEVERE: Did you dress her up like this?\n",
      "VILLAGER #1: No!\n",
      "VILLAGER #2 and 3: No.  No.\n",
      "VILLAGER #2: No.\n",
      "VILLAGER #1: No.\n",
      "VILLAGERS #2 and #3: No.\n",
      "VILLAGER #1: Yes.\n",
      "VILLAGER #2: Yes.\n",
      "VILLAGER #1: Yes.  Yeah, a bit.\n",
      "VILLAGER #3: A bit.\n",
      "VILLAGERS #1 and #2: A bit.\n",
      "VILLAGER #3: A bit.\n",
      "VILLAGER #1: She has got a wart.\n",
      "RANDOM: [cough] \n",
      "BEDEVERE: What makes you think she is a witch?\n",
      "VILLAGER #3: Well, she turned me into a newt.\n",
      "BEDEVERE: A newt?\n",
      "VILLAGER #3: I got better.\n",
      "VILLAGER #2: Burn her anyway!\n",
      "VILLAGER #1: Burn!\n",
      "CROWD: Burn her!  Burn!  Burn her! ...\n",
      "BEDEVERE: Quiet!  Quiet!  Quiet!  Quiet!  There are ways of telling whether she is a witch.\n",
      "VILLAGER #1: Are there?\n",
      "VILLAGER #2: Ah?\n",
      "VILLAGER #1: What are they?\n",
      "CROWD: Tell us!  Tell us! ...\n",
      "BEDEVERE: Tell me, what do you do with witches?\n",
      "VILLAGER #2: Burn!\n",
      "VILLAGER #1: Burn!\n",
      "CROWD: Burn!  Burn them up!  Burn! ...\n",
      "BEDEVERE: And what do you burn apart from witches?\n",
      "VILLAGER #1: More witches!\n",
      "VILLAGER #3: Shh!\n",
      "VILLAGER #2: Wood!\n",
      "BEDEVERE: So, why do witches burn? [pause] \n",
      "VILLAGER #3: B--...  'cause they're made of...  wood?\n",
      "BEDEVERE: Good!  Heh heh.\n",
      "CROWD: Oh yeah.  Oh.\n",
      "BEDEVERE: So, how do we tell whether she is made of wood?\n",
      "VILLAGER #1: Build a bridge out of her.\n",
      "BEDEVERE: Ah, but can you not also make bridges out of stone?\n",
      "VILLAGER #1: Oh, yeah.\n",
      "RANDOM: Oh, yeah.  True.  Uhh...\n",
      "BEDEVERE: Does wood sink in water?\n",
      "VILLAGER #1: No.  No.\n",
      "VILLAGER #2: No, it floats!  It floats!\n",
      "VILLAGER #1: Throw her into the pond!\n",
      "CROWD: The pond!  Throw her into the pond!\n",
      "BEDEVERE: What also floats in water?\n",
      "VILLAGER #1: Bread!\n",
      "VILLAGER #2: Apples!\n",
      "VILLAGER #3: Uh, very small rocks!\n",
      "VILLAGER #1: Cider!\n",
      "VILLAGER #2: Uh, gra-- gravy!\n",
      "VILLAGER #1: Cherries!\n",
      "VILLAGER #2: Mud!\n",
      "VILLAGER #3: Churches!  Churches!\n",
      "VILLAGER #2: Lead!  Lead!\n",
      "ARTHUR: A duck!\n",
      "CROWD: Oooh.\n",
      "BEDEVERE: Exactly.  So, logically...\n",
      "VILLAGER #1: If...  she...  weighs...  the same as a duck, ...  she's made of wood.\n",
      "BEDEVERE: And therefore?\n",
      "VILLAGER #2: A witch!\n",
      "VILLAGER #1: A witch!\n",
      "CROWD: A witch!  A witch! ...\n",
      "VILLAGER #4: Here is a duck.  Use this duck. [quack quack quack] \n",
      "BEDEVERE: We shall use my largest scales.\n",
      "CROWD: Ohh!  Ohh!  Burn the witch!  Burn the witch!  Burn her!  Burn her!  Burn her!  Burn her!  Burn her!  Burn her!  Burn her!  Ahh!  Ahh...\n",
      "BEDEVERE: Right.  Remove the supports! [whop] [clunk] [creak] \n",
      "CROWD: A witch!  A witch!  A witch!\n",
      "WITCH: It's a fair cop.\n",
      "VILLAGER #3: Burn her!\n",
      "CROWD: Burn her!  Burn her!  Burn her!  Burn!  Burn! ...\n",
      "BEDEVERE: Who are you who are so wise in the ways of science?\n",
      "ARTHUR: I am Arthur, King of the Britons.\n",
      "BEDEVERE: My liege!\n",
      "ARTHUR: Good Sir Knight, will you come with me to Camelot, and join us at the Round Table?\n",
      "BEDEVERE: My liege!  I would be honored.\n",
      "ARTHUR: What is your name?\n",
      "BEDEVERE: Bedevere, my liege.\n",
      "ARTHUR: Then I dub you Sir Bedevere, Knight of the Round Table\n",
      "NARRATOR: The wise Sir Bedevere was the first to join King Arthur's knights, but other illustrious names were soon to follow: Sir Lancelot the Brave; Sir Gallahad the Pure; and Sir Robin the-not-quite-so-brave-as-Sir-Lancelot, who had nearly fought the Dragon of Angnor, who had nearly stood up to the vicious Chicken of Bristol, and who had personally wet himself at the Battle of Badon Hill; and the aptly named Sir Not-appearing-in-this-film.  Together they formed a band whose names and deeds were to be retold throughout the centuries: the Knights of the Round Table\n",
      "SCENE 6: [clop clop clop] \n",
      "SIR BEDEVERE: And that, my liege, is how we know the earth to be banana-shaped.\n",
      "ARTHUR: This new learning amazes me, Sir Bedevere.  Explain again how sheep's bladders may be employed to prevent earthquakes.\n",
      "BEDEVERE: Oh, certainly, sir.\n",
      "SIR LAUNCELOT: Look, my liege! [trumpets] \n",
      "ARTHUR: Camelot!\n",
      "SIR GALAHAD: Camelot!\n",
      "LAUNCELOT: Camelot!\n",
      "PATSY: It's only a model.\n",
      "ARTHUR: Shh!  Knights, I bid you welcome to your new home.  Let us ride... to...  Camelot! [in medieval hall] \n",
      "KNIGHTS: [singing] We're knights of the round table.  We dance when e'er we're able.  We do routines and chorus scenes With footwork impeccable.  We dine well here in Camelot.  We eat ham and jam and spam a lot [dancing] We're knights of the Round Table. Our shows are formidable, But many times we're given rhymes That are quite unsingable. We're opera mad in Camelot. We sing from the diaphragm a lot [in dungeon] \n",
      "PRISONER: [clap clap clap clap] [in medieval hall] \n",
      "KNIGHTS: [tap-dancing] In war we're tough and able, Quite indefatigable.  Between our quests we sequin vests and impersonate Clark Gable.  It's a busy life in Camelot.\n",
      "MAN: I have to push the pram a lot [outdoors] \n",
      "ARTHUR: Well, on second thought, let's not go to Camelot.  It is a silly place.\n",
      "KNIGHTS: Right.  Right\n",
      "SCENE 7: [clop clop clop] [boom boom] [angels sing] \n",
      "GOD: Arthur!  Arthur, King of the Britons!  Oh, don't grovel! [singing stops] One thing I can't stand, it's people groveling.\n",
      "ARTHUR: Sorry. [boom] \n",
      "GOD: And don't apologise.  Every time I try to talk to someone it's 'sorry this' and 'forgive me that' and 'I'm not worthy'. [boom] What are you doing now?!\n",
      "ARTHUR: I'm averting my eyes, O Lord.\n",
      "GOD: Well, don't.  It's like those miserable Psalms-- they're so depressing. Now knock it off!\n",
      "ARTHUR: Yes, Lord.\n",
      "GOD: Right!  Arthur, King of the Britons, your Knights of the Round Table shall have a task to make them an example in these dark times.\n",
      "ARTHUR: Good idea, O Lord!\n",
      "GOD: 'Course it's a good idea!  Behold! [angels sing] Arthur, this is the Holy Grail.  Look well, Arthur, for it is your sacred task to seek this grail.  That is your purpose, Arthur...  the quest for the Holy Grail. [boom] [singing stops] \n",
      "LAUNCELOT: A blessing!  A blessing from the Lord!\n",
      "GALAHAD: God be praised\n",
      "SCENE 8: [King Arthur music] [clop clop clop] \n",
      "ARTHUR: Halt! [horn] Hallo! [pause] Hallo!\n",
      "FRENCH GUARD: Allo!  Who is eet?\n",
      "ARTHUR: It is King Arthur, and these are my Knights of the Round Table.  Who's castle is this?\n",
      "FRENCH GUARD: This is the castle of my master Guy de Loimbard.\n",
      "ARTHUR: Go and tell your master that we have been charged by God with a sacred quest.  If he will give us food and shelter for the night he can join us in our quest for the Holy Grail.\n",
      "FRENCH GUARD: Well, I'll ask him, but I don't think he'll be very keen.  Uh, he's already got one, you see?\n",
      "ARTHUR: What?\n",
      "GALAHAD: He says they've already got one!\n",
      "ARTHUR: Are you sure he's got one?\n",
      "FRENCH GUARD: Oh, yes, it's very nice-a.  (I told him we already got one.)\n",
      "ARTHUR: Well, u-- um, can we come up and have a look?\n",
      "FRENCH GUARD: Of course not!  You are English types-a!\n",
      "ARTHUR: Well, what are you then?\n",
      "FRENCH GUARD: I'm French!  Why do think I have this outrageous accent, you silly king-a?!\n",
      "GALAHAD: What are you doing in England?\n",
      "FRENCH GUARD: Mind your own business!\n",
      "ARTHUR: If you will not show us the Grail, we shall take your castle by force!\n",
      "FRENCH GUARD: You don't frighten us, English pig-dogs!  Go and boil your bottom, sons of a silly person.  I blow my nose at you, so-called Arthur King, you and all your silly English k-nnnnniggets.  Thpppppt!  Thppt! Thppt!\n",
      "GALAHAD: What a strange person.\n",
      "ARTHUR: Now look here, my good man--\n",
      "FRENCH GUARD: I don't wanna talk to you no more, you empty headed animal food trough wiper!  I fart in your general direction!  You mother was a hamster and your father smelt of elderberries!\n",
      "GALAHAD: Is there someone else up there we could talk to?\n",
      "FRENCH GUARD: No, now go away or I shall taunt you a second time-a! [sniff] \n",
      "ARTHUR: Now, this is your last chance.  I've been more than reasonable.\n",
      "FRENCH GUARD: (Fetchez la vache.)\n",
      "OTHER FRENCH GUARD: Quoi?\n",
      "FRENCH GUARD: (Fetchez la vache!) [mooo] \n",
      "ARTHUR: If you do not agree to my commands, then I shall-- [twong] [mooooooo] Jesus Christ!\n",
      "KNIGHTS: Christ! [thud] Ah!  Ohh!\n",
      "ARTHUR: Right!  Charge!\n",
      "KNIGHTS: Charge! [mayhem] \n",
      "FRENCH GUARD: Hey, this one is for your mother!  There you go. [mayhem] \n",
      "FRENCH GUARD: And this one's for your dad!\n",
      "ARTHUR: Run away!\n",
      "KNIGHTS: Run away!\n",
      "FRENCH GUARD: Thppppt!\n",
      "FRENCH GUARDS: [taunting] \n",
      "LAUNCELOT: Fiends!  I'll tear them apart!\n",
      "ARTHUR: No, no.  No, no.\n",
      "BEDEVERE: Sir!  I have a plan, sir. [later] [wind] [saw saw saw saw saw saw saw saw saw saw saw saw saw saw saw saw] [clunk] [bang] [rewr!] [squeak squeak squeak squeak squeak squeak squeak squeak squeak squeak] [rrrr rrrr rrrr] [drilllll] [sawwwww] [clunk] [crash] [clang] [squeak squeak squeak squeak squeak...] [creak] \n",
      "FRENCH GUARDS: [whispering] C'est un lapin, lapin de bois.  Quoi?  Un cadeau.  What?  A present.  Oh, un cadeau.  Oui, oui.  Hurry.  What?  Let's go.  Oh. On y va.  Bon magne.  Over here... [squeak squeak squeak squeak squeak...] [clllank] \n",
      "ARTHUR: What happens now?\n",
      "BEDEVERE: Well, now, uh, Launcelot, Galahad, and I, uh, wait until nightfall, and then leap out of the rabbit, taking the French, uh, by surprise.  Not only by surprise, but totally unarmed!\n",
      "ARTHUR: Who leaps out?\n",
      "BEDEVERE: U-- u-- uh, Launcelot, Galahad, and I.  Uh, leap out of the rabbit, uh, and uh...\n",
      "ARTHUR: Ohh.\n",
      "BEDEVERE: Oh.  Um, l-- look, i-- i-- if we built this large wooden badger-- [clank] [twong] \n",
      "ARTHUR: Run away!\n",
      "KNIGHTS: Run away!  Run away!  Run away!  Run away!  Run away!  Run away!  Run away! [CRASH] \n",
      "FRENCH GUARDS: Oh, haw haw haw haw!  Haw!  Haw haw heh..\n",
      "SCENE 9: [clack] \n",
      "VOICE: Picture for Schools, take eight.\n",
      "DIRECTOR: Action!\n",
      "HISTORIAN: Defeat at the castle seems to have utterly disheartened King Arthur.  The ferocity of the French taunting took him completely by surprise, and Arthur became convinced that a new strategy was required if the quest for the Holy Grail were to be brought to a successful conclusion.  Arthur, having consulted his closest knights, decided that they should separate, and search for the Grail individually. [clop clop clop] Now, this is what they did: Launcelot--\n",
      "KNIGHT: Aaaah! [slash] [KNIGHT kills HISTORIAN] \n",
      "HISTORIAN'S WIFE: Frank\n",
      "SCENE 10: [trumpets] \n",
      "NARRATOR: The Tale of Sir Robin.  So each of the knights went their separate ways.  Sir Robin rode north, through the dark forest of Ewing, accompanied by his favorite minstrels.\n",
      "MINSTREL: [singing] Bravely bold Sir Robin, rode forth from Camelot.  He was not afraid to die, O brave Sir Robin.  He was not at all afraid to be killed in nasty ways.  Brave, brave, brave, brave Sir Robin!  He was not in the least bit scared to be mashed into a pulp, Or to have his eyes gouged out, and his elbows broken.  To have his kneecaps split, and his body burned away, And his limbs all hacked and mangled, brave Sir Robin!\n",
      "His head smashed in and his heart cut out, And his liver removed and his bowels unplugged, And his nostrils raped and his bottom burned off, And his pen--\n",
      "SIR ROBIN: That's-- that's, uh-- that's enough music for now, lads.  Heh.  Looks like there's dirty work afoot.\n",
      "DENNIS: Anarcho-syndicalism is a way of preserving freedom.\n",
      "WOMAN: Oh, Dennis, forget about freedom.  We haven't got enough mud.\n",
      "ALL HEADS: Halt!  Who art thou?\n",
      "MINSTREL: [singing] He is brave Sir Robin, brave Sir Robin, who--\n",
      "ROBIN: Shut up!  Um, n-- n-- n-- nobody really, I'm j-- j-- j-- ju-- just um, just passing through.\n",
      "ALL HEADS: What do you want?\n",
      "MINSTREL: [singing] To fight and--\n",
      "ROBIN: Shut up!  Um, oo, a-- nothing, nothing really.  I, uh, j-- j-- just--just to um, just to p-- pass through, good Sir Knight.\n",
      "ALL HEADS: I'm afraid not!\n",
      "ROBIN: Ah.  W-- well, actually I-- I am a Knight of the Round Table.\n",
      "ALL HEADS: You're a Knight of the Round Table?\n",
      "ROBIN: I am.\n",
      "LEFT HEAD: In that case I shall have to kill you.\n",
      "MIDDLE HEAD: Shall I?\n",
      "RIGHT HEAD: Oh, I don't think so.\n",
      "MIDDLE HEAD: Well, what do I think?\n",
      "LEFT HEAD: I think kill him.\n",
      "RIGHT HEAD: Oh, let's be nice to him.\n",
      "LEFT HEAD: Oh shut up.\n",
      "ROBIN: Perhaps I could--\n",
      "LEFT HEAD: And you.  Oh, quick!  Get the sword out.  I want to cut his headoff!\n",
      "RIGHT HEAD: Oh, cut your own head off!\n",
      "MIDDLE HEAD: Yes, do us all a favor!\n",
      "LEFT HEAD: What?\n",
      "RIGHT HEAD: Yapping on all the time.\n",
      "MIDDLE HEAD: You're lucky.  You're not next to him.\n",
      "LEFT HEAD: What do you mean?\n",
      "MIDDLE HEAD: You snore!\n",
      "LEFT HEAD: Oh, I don't.  Anyway, you've got bad breath.\n",
      "MIDDLE HEAD: Well it's only because you don't brush my teeth.\n",
      "RIGHT HEAD: Oh stop bitching and let's go have tea.\n",
      "LEFT HEAD: Oh, all right.  All right.  All right.  We'll kill him first and then have tea and biscuits.\n",
      "MIDDLE HEAD: Yes.\n",
      "RIGHT HEAD: Oh, not biscuits.\n",
      "LEFT HEAD: All right.  All right, not biscuits, but let's kill him anyway.\n",
      "ALL HEADS: Right!\n",
      "MIDDLE HEAD: He buggered off.\n",
      "RIGHT HEAD: So he has.  He's scarper\n",
      "MINSTREL: [singing] Brave Sir Robin ran away.\n",
      "ROBIN: No!\n",
      "MINSTREL: [singing] Bravely ran away away.\n",
      "ROBIN: I didn't!\n",
      "MINSTREL: [singing] When danger reared its ugly head, he bravely turned his tail and fled.\n",
      "ROBIN: No!\n",
      "MINSTREL: [singing] Yes, brave Sir Robin turned about\n",
      "ROBIN: I didn't!\n",
      "MINSTREL: [singing] And gallantly he chickened out, bravely taking to his feet.\n",
      "ROBIN: I never did!\n",
      "MINSTREL: [singing] He beat a very brave retreat.\n",
      "ROBIN: All lies!\n",
      "MINSTREL: [singing] Bravest of the brave, Sir Robin.\n",
      "ROBIN: I never\n",
      "CARTOON MONKS: [chanting] Pie Iesu domine, dona eis requiem.\n",
      "CARTOON CHARACTER: Heh heh heeh ooh... [twang] \n",
      "CARTOON MONKS: [chanting] Pie Iesu domine, ...\n",
      "CARTOON CHARACTERS: Wayy! [splash] Ho ho.  Woa, wayy! [twang] [splash] Heh heh heh heh ho!  Heh heh heh!\n",
      "CARTOON MONKS: [chanting] ... dona eis requiem.\n",
      "CARTOON CHARACTER: Wayy! [twang] Wayy! [twang] \n",
      "VOICE: [whispering] Forgive me for asking.\n",
      "CARTOON CHARACTER: Oh!  Oooo\n",
      "SCENE 11: [trumpets] \n",
      "NARRATOR: The Tale of Sir Galahad. [boom] [wind] [howl] [howl] [boom] [angels singing] [howl] [boom] [howl] [boom] [pound pound pound] \n",
      "GALAHAD: Open the door!  Open the door! [pound pound pound] In the name of King Arthur, open the door! [squeak] [thump] [squeak] [boom] \n",
      "GIRLS: Hello!\n",
      "ZOOT: Welcome gentle Sir Knight.  Welcome to the Castle Anthrax.\n",
      "GALAHAD: The Castle Anthrax?\n",
      "ZOOT: Yes.  Oh, it's not a very good name is it?  Oh, but we are nice and we will attend to your every, every need!\n",
      "GALAHAD: You are the keepers of the Holy Grail?\n",
      "ZOOT: The what?\n",
      "GALAHAD: The Grail.  It is here.\n",
      "ZOOT: Oh, but you are tired, and you must rest awhile.  Midget!  Crapper!\n",
      "MIDGET and CRAPPER: Yes, O Zoot?\n",
      "ZOOT: Prepare a bed for our guest.\n",
      "MIDGET and CRAPPER: Oh thank you!  Thank you!  Thank you!  Thank you!  Thank you!  Thank you! ...\n",
      "ZOOT: Away, away varletesses.  The beds here are warm and soft, and very, very big.\n",
      "GALAHAD: Well, look, I-- I-- uh--\n",
      "ZOOT: What is your name, handsome knight?\n",
      "GALAHAD: Sir Galahad...  the Chaste.\n",
      "ZOOT: Mine is Zoot.  Just Zoot.  Oh, but come.\n",
      "GALAHAD: Look, please!  In God's name, show me the Grail!\n",
      "ZOOT: Oh, you have suffered much.  You are delirious.\n",
      "GALAHAD: No, look.  I have seen it!  It is here, in this--\n",
      "ZOOT: Sir Galahad!  You would not be so ungallant as to refuse our hospitality.\n",
      "GALAHAD: Well, I-- I-- uh--\n",
      "ZOOT: Oh, I am afraid our life must seem very dull and quiet compared to yours.  We are but eight score young blondes and brunettes, all between sixteen and nineteen-and-a-half, cut off in this castle with no one to protect us.  Oooh.  It is a lonely life: bathing, dressing, undressing, making exciting underwear.  We are just not used to handsome knights.  Nay.  Nay.  Come.  Come.  You may lie here.  Oh, but you are wounded!\n",
      "GALAHAD: No, no-- it's-- it's nothing.\n",
      "ZOOT: Oh, you must see the doctors immediately!  No, no, please!  Lie down. [clap clap] \n",
      "PIGLET: Well, what seems to be the trouble?\n",
      "GALAHAD: They're doctors?!\n",
      "ZOOT: Uh, they have a basic medical training, yes.\n",
      "GALAHAD: B-- but--\n",
      "ZOOT: Oh, come, come.  You must try to rest.  Doctor Piglet!  Doctor Winston!  Practice your art.\n",
      "WINSTON: Try to relax.\n",
      "GALAHAD: Are you sure that's absolutely necessary?\n",
      "PIGLET: We must examine you.\n",
      "GALAHAD: There's nothing wrong with that!\n",
      "PIGLET: Please.  We are doctors.\n",
      "GALAHAD: Look!  This cannot be.  I am sworn to chastity.\n",
      "PIGLET: Back to your bed!  At once!\n",
      "GALAHAD: Torment me no longer.  I have seen the Grail!\n",
      "PIGLET: There's no grail here.\n",
      "GALAHAD: I have seen it!  I have seen it! [clank] I have seen--\n",
      "GIRLS: Hello.\n",
      "GALAHAD: Oh.\n",
      "GIRLS: Hello.  Hello.  Hello.  Hello.  Hello.  Hello.  Hello.  Hello.  Hello.  Hello.  Hello.  Hello.  Hello.  Hello.  Hello.  Hello.  Hello.  Hello.  Hello.  Hello.  Hello.  Hello.  Hello.\n",
      "GALAHAD: Zoot!\n",
      "DINGO: No, I am Zoot's identical twin sister, Dingo.\n",
      "GALAHAD: Oh, well, excuse me, I--\n",
      "DINGO: Where are you going?\n",
      "GALAHAD: I seek the Grail!  I have seen it, here in this castle!\n",
      "DINGO: Oh no.  Oh, no!  Bad, bad Zoot!\n",
      "GALAHAD: Well, what is it?\n",
      "DINGO: Oh, wicked, bad, naughty Zoot!  She has been setting alight to our beacon, which, I have just remembered, is grail-shaped.  It's not the first time we've had this problem.\n",
      "GALAHAD: It's not the real Grail?\n",
      "DINGO: Oh, wicked, bad, naughty, evil Zoot!  She is a bad person and must pay the penalty.  Do you think this scene should have been cut?  We were so worried when the boys were writing it, but now, we're glad.  It's better than some of the previous scenes, I think.\n",
      "LEFT HEAD: At least ours was better visually.\n",
      "DENNIS: Well, at least ours was committed.  It wasn't just a string of pussy jokes.\n",
      "OLD MAN: Get on with it.\n",
      "TIM THE ENCHANTER: Yes, get on with it!\n",
      "ARMY OF KNIGHTS: Yes, get on with it!\n",
      "DINGO: Oh, I am enjoying this scene.\n",
      "GOD: Get on with it!\n",
      "DINGO: [sigh] Oh, wicked, wicked Zoot.  Oh, she is a naughty person, and she must pay the penalty.  And here in Castle Anthrax, we have but one punishment for setting alight the grail-shaped beacon.  You must tie her down on a bed and spank her.\n",
      "GIRLS: A spanking!  A spanking!\n",
      "DINGO: You must spank her well.  And after you have spanked her, you may deal with her as you like.  And then, spank me.\n",
      "AMAZING: And spank me.\n",
      "STUNNER: And me.\n",
      "LOVELY: And me.\n",
      "DINGO: Yes, yes, you must give us all a good spanking!\n",
      "GIRLS: A spanking!  A spanking!  There is going to be a spanking tonight!\n",
      "DINGO: And after the spanking, the oral sex.\n",
      "GIRLS: The oral sex!  The oral sex!\n",
      "GALAHAD: Well, I could stay a bit longer.\n",
      "LAUNCELOT: Sir Galahad!\n",
      "GALAHAD: Oh, hello.\n",
      "LAUNCELOT: Quick!\n",
      "GALAHAD: What?\n",
      "LAUNCELOT: Quick!\n",
      "GALAHAD: Why?\n",
      "LAUNCELOT: You are in great peril!\n",
      "DINGO: No he isn't.\n",
      "LAUNCELOT: Silence, foul temptress!\n",
      "GALAHAD: You know, she's got a point.\n",
      "LAUNCELOT: Come on!  We will cover your escape!\n",
      "GALAHAD: Look, I'm fine!\n",
      "LAUNCELOT: Come on!\n",
      "GIRLS: Sir Galahad!\n",
      "GALAHAD: No.  Look, I can tackle this lot single-handed!\n",
      "DINGO: Yes!  Let him tackle us single-handed!\n",
      "GIRLS: Yes!  Let him tackle us single-handed!\n",
      "LAUNCELOT: No, Sir Galahad.  Come on!\n",
      "GALAHAD: No!  Really!  Honestly, I can cope.  I can handle this lot easily.\n",
      "DINGO: Oh, yes.  Let him handle us easily.\n",
      "GIRLS: Yes.  Let him handle us easily.\n",
      "LAUNCELOT: No.  Quick!  Quick!\n",
      "GALAHAD: Please!  I can defeat them!  There's only a hundred-and-fifty of them!\n",
      "DINGO: Yes, yes!  He will beat us easily!  We haven't a chance.\n",
      "GIRLS: We haven't a chance.  He will beat us easily... [boom] \n",
      "DINGO: Oh, shit.\n",
      "LAUNCELOT: We were in the nick of time.  You were in great peril.\n",
      "GALAHAD: I don't think I was.\n",
      "LAUNCELOT: Yes you were.  You were in terrible peril.\n",
      "GALAHAD: Look, let me go back in there and face the peril.\n",
      "LAUNCELOT: No, it's too perilous.\n",
      "GALAHAD: Look, it's my duty as a knight to sample as much peril as I can.\n",
      "LAUNCELOT: No, we've got to find the Holy Grail.  Come on!\n",
      "GALAHAD: Oh, let me have just a little bit of peril?\n",
      "LAUNCELOT: No.  It's unhealthy.\n",
      "GALAHAD: I bet you're gay.\n",
      "LAUNCELOT: No I'm not\n",
      "NARRATOR: Sir Launcelot had saved Sir Galahad from almost certain temptation, but they were still no nearer the Grail.  Meanwhile, King Arthur and Sir Bedevere, not more than a swallow's flight away, had discovered something.  Oh, that's an unladen swallow's flight, obviously.  I mean, they were more than two laden swallows' flights away-- four, really, if they had a coconut on a line between them.  I mean, if the birds were walking and dragging--\n",
      "CROWD: Get on with it!\n",
      "NARRATOR: Oh, anyway.  On to scene twenty-four, which is a smashing scene with some lovely acting, in which Arthur discovers a vital clue, and in which there aren't any swallows, although I think you can hear a starling-- oooh\n",
      "SCENE 12:\n",
      "OLD MAN: Heh, hee ha ha hee hee!  Hee hee hee ha ha ha...\n",
      "ARTHUR: And this enchanter of whom you speak, he has seen the Grail?\n",
      "OLD MAN: ... Ha ha ha ha!  Heh, hee ha ha hee!  Ha hee ha!  Ha ha ha ha...\n",
      "ARTHUR: Where does he live?\n",
      "OLD MAN: ... Heh heh heh heh...\n",
      "ARTHUR: Old man, where does he live?\n",
      "OLD MAN: ... Hee ha ha ha.  He knows of a cave, a cave which no man has entered.\n",
      "ARTHUR: And the Grail.  The Grail is there?\n",
      "OLD MAN: There is much danger, for beyond the cave lies the Gorge of Eternal Peril, which no man has ever crossed.\n",
      "ARTHUR: But the Grail!  Where is the Grail?!\n",
      "OLD MAN: Seek you the Bridge of Death.\n",
      "ARTHUR: The Bridge of Death, which leads to the Grail?\n",
      "OLD MAN: Heh, hee hee hee hee!  Ha ha ha ha ha!  Hee ha ha..\n",
      "SCENE 13: [spooky music] [music stops] \n",
      "HEAD KNIGHT OF NI: Ni!\n",
      "KNIGHTS OF NI: Ni!  Ni!  Ni!  Ni!  Ni!\n",
      "ARTHUR: Who are you?\n",
      "HEAD KNIGHT: We are the Knights Who Say...  'Ni'!\n",
      "RANDOM: Ni!\n",
      "ARTHUR: No!  Not the Knights Who Say 'Ni'!\n",
      "HEAD KNIGHT: The same!\n",
      "BEDEVERE: Who are they?\n",
      "HEAD KNIGHT: We are the keepers of the sacred words: Ni, Peng, and Neee-wom!\n",
      "RANDOM: Neee-wom!\n",
      "ARTHUR: Those who hear them seldom live to tell the tale!\n",
      "HEAD KNIGHT: The Knights Who Say 'Ni' demand a sacrifice!\n",
      "ARTHUR: Knights of Ni, we are but simple travellers who seek the enchanter who lives beyond these woods.\n",
      "HEAD KNIGHT: Ni!\n",
      "KNIGHTS OF NI: Ni!  Ni!  Ni!  Ni!  Ni! ...\n",
      "ARTHUR: Ow!  Ow!  Ow!  Agh!\n",
      "HEAD KNIGHT: We shall say 'ni' again to you if you do not appease us.\n",
      "ARTHUR: Well, what is it you want?\n",
      "HEAD KNIGHT: We want...  a shrubbery! [dramatic chord] \n",
      "ARTHUR: A what?\n",
      "KNIGHTS OF NI: Ni!  Ni!  Ni!  Ni!\n",
      "ARTHUR and PARTY: Ow!  Oh!\n",
      "ARTHUR: Please, please!  No more!  We will find you a shrubbery.\n",
      "HEAD KNIGHT: You must return here with a shrubbery or else you will never pass through this wood alive!\n",
      "ARTHUR: O Knights of Ni, you are just and fair, and we will return with a shrubbery.\n",
      "HEAD KNIGHT: One that looks nice.\n",
      "ARTHUR: Of course.\n",
      "HEAD KNIGHT: And not too expensive.\n",
      "ARTHUR: Yes.\n",
      "HEAD KNIGHT: Now...  go [trumpets] \n",
      "CARTOON CHARACTER: Hmm hmm-- [boom] Oh!  Great scott!  Hm.  Hmm. [boom] Hm!  Hmm.  [mumble mumble mumble] [boom] [mumble mumble mumble] [boom] [mumble mumble mumble] [boom] [mumble mumble mumble] [boom] [mumble mumble mumble] [boom] [mumble mumble mumble] [boom] [mumble mumble mumble] [boom] [mumble mumble mumble] [boom] Ohh! [crash] [mumble mumble mumble] [boom] \n",
      "SUN: Ay, up!  Thsss. [boom] Ayy, up! [boom] Thsss. [boom] Ayy, up!\n",
      "CARTOON CHARACTER: Stop that!  Stop that! [boom] \n",
      "SUN: Ay, up!\n",
      "CARTOON CHARACTER: Stop that! [boom] Look on!  Clear off!  Go on!  Go away!  Go away!  Go away!  And you!  Clear off!  [sniff] \n",
      "SUN: [mumble mumble mumble] [bells] \n",
      "CARTOON CHARACTER: Hah.  Bloody weather\n",
      "SCENE 14:\n",
      "NARRATOR: The Tale of Sir Launcelot.\n",
      "FATHER: One day, lad, all this will be yours!\n",
      "PRINCE HERBERT: What, the curtains?\n",
      "FATHER: No.  Not the curtains, lad.  All that you can see, stretched out over the hills and valleys of this land!  This'll be your kingdom, lad.\n",
      "HERBERT: But Mother--\n",
      "FATHER: Father, lad.  Father.\n",
      "HERBERT: B-- b-- but Father, I don't want any of that.\n",
      "FATHER: Listen, lad.  I built this kingdom up from nothing.  When I started here, all there was was swamp.  Other kings said I was daft to build a castle on a swamp, but I built it all the same, just to show 'em.  It sank into the swamp.  So, I built a second one.  That sank into the swamp.  So I built a third one.  That burned down, fell over, then sank into the swamp.  But the fourth one...  stayed up!  And that's what you're gonna get, lad: the strongest castle in these islands.\n",
      "HERBERT: But I don't want any of that.  I'd rather--\n",
      "FATHER: Rather what?!\n",
      "HERBERT: I'd rather... [music] ... just...  sing!\n",
      "FATHER: Stop that!  Stop that!  You're not going into a song while I'm here.  Now listen, lad.  In twenty minutes you're getting married to a girl whose father owns the biggest tracts of open land in Britain.\n",
      "HERBERT: B-- but I don't want land.\n",
      "FATHER: Listen, Alice,--\n",
      "HERBERT: Herbert.\n",
      "FATHER: 'Erbert.  We live in a bloody swamp.  We need all the land we can get.\n",
      "HERBERT: But-- but I don't like her.\n",
      "FATHER: Don't like her?!  What's wrong with her?!  She's beautiful.  She's rich.  She's got huge...  tracts o' land.\n",
      "HERBERT: I know, but I want the-- the girl that I marry to have...  [music] ... a certain...  special...  something!\n",
      "FATHER: Cut that out!  Cut that out!  Look, you're marrying Princess Lucky, so you'd better get used to the idea! [smack] Guards!  Make sure the Prince doesn't leave this room until I come and get him.\n",
      "GUARD #1: Not to leave the room even if you come and get him.\n",
      "GUARD #2: Hic!\n",
      "FATHER: No, no.  Until I come and get him.\n",
      "GUARD #1: Until you come and get him, we're not to enter the room.\n",
      "FATHER: No, no.  No.  You stay in the room and make sure he doesn't leave.\n",
      "GUARD #1: And you'll come and get him.\n",
      "GUARD #2: Hic!\n",
      "FATHER: Right.\n",
      "GUARD #1: We don't need to do anything, apart from just stop him entering the room.\n",
      "FATHER: No, no.  Leaving the room.\n",
      "GUARD #1: Leaving the room.  Yes. [sniff] \n",
      "FATHER: All right?\n",
      "GUARD #1: Right.\n",
      "GUARD #2: Hic!\n",
      "FATHER: Right.\n",
      "GUARD #1: Oh, if-- if-- if-- uhh-- if-- if-- w-- ehh-- i-- if-- if we--\n",
      "FATHER: Yes?  What is it?\n",
      "GUARD #1: Oh, i-- if-- i-- oh--\n",
      "FATHER: Look, it's quite simple.\n",
      "GUARD #1: Uh...\n",
      "FATHER: You just stay here, and make sure 'e doesn't leave the room.  Alright?\n",
      "GUARD #2: Hic!\n",
      "FATHER: Right.\n",
      "GUARD #1: Oh, I remember.  Uhh, can he leave the room with us?\n",
      "FATHER: N-- no no.  No.  You just keep him in here, and make sure he--\n",
      "GUARD #1: Oh, yes.  We'll keep him in here, obviously.  But if he had to leave and we were with him--\n",
      "FATHER: No, no, no, no.  Just keep him in here--\n",
      "GUARD #1: Until you, or anyone else--\n",
      "FATHER: No, not anyone else.  Just me.\n",
      "GUARD #1: Just you.\n",
      "GUARD #2: Hic!\n",
      "FATHER: Get back.\n",
      "GUARD #1: Get back.\n",
      "FATHER: All right?\n",
      "GUARD #1: Right.  We'll stay here until you get back.\n",
      "GUARD #2: Hic!\n",
      "FATHER: And, uh, make sure he doesn't leave.\n",
      "GUARD #1: What?\n",
      "FATHER: Make sure 'e doesn't leave.\n",
      "GUARD #1: The Prince?\n",
      "FATHER: Yes.  Make sure 'e doesn't leave.\n",
      "GUARD #1: Oh, yes, of course.  \n",
      "GUARD #2: Hic!\n",
      "GUARD #1: Ah.  I thought you meant him.  You know, it seemed a bit daft me havin' to guard him when he's a guard.\n",
      "FATHER: Is that clear?\n",
      "GUARD #2: Hic!\n",
      "GUARD #1: Oh, quite clear.  No problems.\n",
      "FATHER: Right.  Where are you going?\n",
      "GUARD #1: We're coming with you.\n",
      "FATHER: No, no.  I want you to stay here and make sure 'e doesn't leave.\n",
      "GUARD #1: Oh, I see.  Right.\n",
      "HERBERT: But Father!\n",
      "FATHER: Shut your noise, you!  And get that suit on! [music] And no singing!\n",
      "GUARD #2: Hic!\n",
      "FATHER: Oh, go and get a glass of water. [clank] [scribble scribble scribble fold fold] [twong]\n",
      "SCENE 15:\n",
      "LAUNCELOT: Well taken, Concorde!\n",
      "CONCORDE: Thank you, sir!  Most kind.\n",
      "LAUNCELOT: And again!  Over we go!  Good.  Steady!  And now, the big one!  Uuh!  Come on, Concorde! [thwonk] \n",
      "CONCORDE: Message for you, sir. [fwump] \n",
      "LAUNCELOT: Concorde!  Concorde!  Speak to me!  'To whoever finds this note: I have been imprisoned by my father, who wishes me to marry against my will.  Please, please, please come and rescue me.  I am in the Tall Tower of Swamp Castle.' At last!  A call!  A cry of distress!  This could be the sign that leads us to the Holy Grail!  Brave, brave Concorde, you shall not have died in vain!\n",
      "CONCORDE: Uh, I'm-- I'm not quite dead, sir.\n",
      "LAUNCELOT: Well, you shall not have been mortally wounded in vain!\n",
      "CONCORDE: I-- I-- I think I c-- I could pull through, sir.\n",
      "LAUNCELOT: Oh, I see.\n",
      "CONCORDE: Actually, I think I'm all right to come with you, sir--\n",
      "LAUNCELOT: No, no, sweet Concorde!  Stay here!  I will send help as soon as I have accomplished a daring and heroic rescue in my own particular...  [sigh] \n",
      "CONCORDE: Idiom, sir?\n",
      "LAUNCELOT: Idiom!\n",
      "CONCORDE: No, I feel fine, actually, sir.\n",
      "LAUNCELOT: Farewell, sweet Concorde!\n",
      "CONCORDE: I'll, um, I'll just stay here then.  Shall I, sir?  Yeah\n",
      "SCENE 16: [inside castle] \n",
      "PRINCESS LUCKY and GIRLS: [giggle giggle giggle] [outside castle] \n",
      "GUEST: 'Morning!\n",
      "SENTRY #1: 'Morning.\n",
      "SENTRY #2: Oooh.\n",
      "SENTRY #1: [ptoo] \n",
      "LAUNCELOT: Ha ha!  Hiyya!\n",
      "SENTRY #2: Hey!\n",
      "LAUNCELOT: Hiyya!, Ha!, etc.\n",
      "PRINCESS LUCKY and GIRLS: [giggle giggle giggle] \n",
      "LAUNCELOT: Ha ha!  Huy!\n",
      "GUESTS: Uuh!  Aaah!\n",
      "LAUNCELOT: Ha ha!  And take this!  Aah!  Hiyah!  Aah!  Aaah!  Hyy!  Hya!  Hiyya!  Ha! ...\n",
      "GUARD #1: Now, you're not allowed to enter the room-- aaugh!\n",
      "LAUNCELOT: O fair one, behold your humble servant Sir Launcelot of Camelot.  I have come to take y-- Oh, I'm terribly sorry.\n",
      "HERBERT: You got my note!\n",
      "LAUNCELOT: Uh, well, I-- I got a-- a note.\n",
      "HERBERT: You've come to rescue me!\n",
      "LAUNCELOT: Uh, well, no.  You see, I hadn't--\n",
      "HERBERT: I knew someone would.  I knew that somewhere out there...  [music] \n",
      "LAUNCELOT: Well, I--\n",
      "HERBERT: ... there must be...  someone...\n",
      "FATHER: Stop that!  Stop that!  Stop it!  Stop it!  Who are you?\n",
      "HERBERT: I'm your son!\n",
      "FATHER: No, not you.\n",
      "LAUNCELOT: Uh, I am Sir Launcelot, sir.\n",
      "HERBERT: He's come to rescue me, Father.\n",
      "LAUNCELOT: Well, let's not jump to conclusions.\n",
      "FATHER: Did you kill all those guards?\n",
      "LAUNCELOT: Uh...  Oh, yes.  Sorry.\n",
      "FATHER: They cost fifty pounds each!\n",
      "LAUNCELOT: Well, I'm awfully sorry.  Um, I really can explain everything.\n",
      "HERBERT: Don't be afraid of him, Sir Launcelot.  I've got a rope all ready.\n",
      "FATHER: You killed eight wedding guests in all!\n",
      "LAUNCELOT: Well, uh, you see, the thing is, I thought your son was a lady.\n",
      "FATHER: I can understand that.\n",
      "HERBERT: Hurry, Sir Launcelot!  Hurry!\n",
      "FATHER: Shut up!  You only killed the bride's father, that's all!\n",
      "LAUNCELOT: Well, I really didn't mean to...\n",
      "FATHER: Didn't mean to?!  You put your sword right through his head!\n",
      "LAUNCELOT: Oh, dear.  Is he all right?\n",
      "FATHER: You even kicked the bride in the chest!  This is going to cost me a fortune!\n",
      "LAUNCELOT: Well, I can explain.  I was in the forest, um, riding north from Camelot, when I got this note, you see--\n",
      "FATHER: Camelot?  Are you from, uh, Camelot?\n",
      "HERBERT: Hurry, Sir Launcelot!\n",
      "LAUNCELOT: Uh, I am a Knight of King Arthur, sir.\n",
      "FATHER: Very nice castle, Camelot.  Uh, very good pig country...\n",
      "LAUNCELOT: Is it?\n",
      "HERBERT: Hurry!  I'm ready!\n",
      "FATHER: Would you, uh, like to come and have a drink?\n",
      "LAUNCELOT: Well, that-- that's, uh, awfully nice of you, ...\n",
      "HERBERT: I am ready!\n",
      "LAUNCELOT: ... um, I mean to be so understanding. [thonk] Um, ... [woosh] \n",
      "HERBERT: Oooh!\n",
      "LAUNCELOT: ... I'm afraid when I'm in this idiom, I sometimes get a bit, uh, sort of carried away.\n",
      "FATHER: Oh, don't worry about that.\n",
      "HERBERT: Oooh! [splat] \n",
      "SCENE 17:\n",
      "GUESTS: [crying] \n",
      "FATHER: Well, this is the main hall.  We're going to have all this knocked through, and made into one big, uh, living room.\n",
      "GUEST: There he is!\n",
      "FATHER: Oh, bloody hell.\n",
      "LAUNCELOT: Ha ha ha!  Hey!  Ha ha!\n",
      "FATHER: Hold it!  Stop it!  Hold it!  Hold it!  Hold it!  Hold it!  Hold it!  Please!\n",
      "LAUNCELOT: Sorry.  Sorry.  You see what I mean?  I just get carried away.  I'm really most awfully sorry.  Sorry!  Sorry, everyone.\n",
      "GUEST #1: He's killed the best man!\n",
      "GUESTS: [yelling] \n",
      "FATHER: Hold it!  Hold it!  Please!  Hold it!  This is Sir Launcelot from the Court of Camelot, a very brave and influential knight, and my special guest here today.\n",
      "LAUNCELOT: Hello.\n",
      "GUEST: He killed my auntie!\n",
      "GUESTS: [yelling] \n",
      "FATHER: Please!  Please!  This is supposed to be a happy occasion!  Let's not bicker and argue about who killed who.  We are here today to witness the union of two young people in the joyful bond of the holy wedlock.  Unfortunately, one of them, my son Herbert, has just fallen to his death.\n",
      "GUESTS: Oh!  Oh no!\n",
      "FATHER: But I don't want to think I've not lost a son, so much as...  gained a daughter! [clap clap clap] For, since the tragic death of her father--\n",
      "GUEST #2: He's not quite dead!\n",
      "FATHER: Since the near fatal wounding of her father--\n",
      "GUEST #2: He's getting better!\n",
      "FATHER: For, since her own father, who, when he seemed about to recover, suddenly felt the icy hand of death upon him.\n",
      "BRIDE'S FATHER: Uugh!\n",
      "GUEST #2: Oh, he's died!\n",
      "FATHER: And I want his only daughter to look upon me as her old dad, in a very real, and legally binding sense. [clap clap clap] And I feel sure that the merger-- er, the union between the Princess and the brave, but dangerous, Sir Launcelot of Camelot--\n",
      "LAUNCELOT: What?\n",
      "GUEST #2: Look!  The dead Prince!\n",
      "GUESTS: Oooh!  The dead Prince!\n",
      "CONCORDE: He's not quite dead.\n",
      "HERBERT: No, I feel much better.\n",
      "FATHER: You fell out of the Tall Tower, you creep!\n",
      "HERBERT: No, I was saved at the last minute.\n",
      "FATHER: How?!\n",
      "HERBERT: Well, I'll tell you. [music] \n",
      "FATHER: Not like that!  Not like that!  No!  Stop it!\n",
      "GUESTS: [singing] He's going to tell!  He's going to tell! ...\n",
      "FATHER: Shut uuup!\n",
      "GUESTS: [singing] He's going to tell! ...\n",
      "FATHER: Shut up!\n",
      "GUESTS: [singing] He's going to tell! ...\n",
      "FATHER: Shut up!\n",
      "GUESTS: [singing] He's going to tell! ...\n",
      "FATHER: Not like that!\n",
      "GUESTS: [singing] He's going to tell!  He's going to tell!  He's going to tell!  He's going to tell! ...\n",
      "CONCORDE: Quickly, sir!\n",
      "GUESTS: [singing] He's going to tell! ...\n",
      "CONCORDE: Come this way!\n",
      "GUESTS: [singing] He's going to tell!  He's going to tell! ...\n",
      "LAUNCELOT: No!  It's not right for my idiom!\n",
      "GUESTS: [singing] He's going to tell about his great escape...\n",
      "LAUNCELOT: I must escape more...  [sigh] \n",
      "GUESTS: [singing] Oh, he fell a long, long way...\n",
      "CONCORDE: Dramatically, sir?\n",
      "LAUNCELOT: Dramatically!\n",
      "GUESTS: [singing] But he's here with us today...\n",
      "LAUNCELOT: Heee!  Hoa! [crash] Hoo!\n",
      "GUESTS: [singing] What a wonderful escape!\n",
      "LAUNCELOT: Excuse me.  Could, uh-- could somebody give me a push, please\n",
      "SCENE 18: [King Arthur music] [clop clop clop] [rewr!  rewr!  rewr!  rewr!  rewr!  rewr!] \n",
      "ARTHUR: Old crone! [rewr!] [music stops] Is there anywhere in this town where we could buy a shrubbery? [dramatic chord] \n",
      "OLD CRONE: Who sent you?\n",
      "ARTHUR: The Knights Who Say 'Ni'.\n",
      "CRONE: Aggh!  No!  Never!  We have no shrubberies here.\n",
      "ARTHUR: If you do not tell us where we can buy a shrubbery, my friend and I will say...  we will say...  'ni'.\n",
      "CRONE: Agh!  Do your worst!\n",
      "ARTHUR: Very well!  If you will not assist us voluntarily, ...  ni!\n",
      "CRONE: No!  Never!  No shrubberies!\n",
      "ARTHUR: Ni!\n",
      "CRONE: [cough] \n",
      "BEDEVERE: Nu!\n",
      "ARTHUR: No, no, no, no...\n",
      "BEDEVERE: Nu!\n",
      "ARTHUR: No, it's not that, it's 'ni'.\n",
      "BEDEVERE: Nu!\n",
      "ARTHUR: No, no-- 'ni'.  You're not doing it properly.  No.\n",
      "BEDEVERE: Ni!\n",
      "ARTHUR and BEDEVERE: Ni!\n",
      "ARTHUR: That's it.  That's it.  You've got it.\n",
      "ARTHUR and BEDEVERE: Ni!\n",
      "CRONE: Ohh!\n",
      "BEDEVERE: Ni!\n",
      "ARTHUR: Ni!\n",
      "CRONE: Agh!\n",
      "BEDEVERE: Ni!\n",
      "ARTHUR: Ni!\n",
      "BEDEVERE: Ni!\n",
      "ARTHUR: Ni!\n",
      "BEDEVERE: Ni!\n",
      "ROGER THE SHRUBBER: Are you saying 'ni' to that old woman?\n",
      "ARTHUR: Erm, yes.\n",
      "ROGER: Oh, what sad times are these when passing ruffians can 'ni' at will to old ladies.  There is a pestilence upon this land.  Nothing is sacred. Even those who arrange and design shrubberies are under considerable economic stress at this period in history.\n",
      "ARTHUR: Did you say 'shrubberies'?\n",
      "ROGER: Yes.  Shrubberies are my trade.  I am a shrubber.  My name is Roger the Shrubber.  I arrange, design, and sell shrubberies.\n",
      "BEDEVERE: Ni!\n",
      "ARTHUR: No!  No, no, no!  No\n",
      "SCENE 19:\n",
      "ARTHUR: O Knights of Ni, we have brought you your shrubbery.  May we go now?\n",
      "HEAD KNIGHT: It is a good shrubbery.  I like the laurels particularly.  But there is one small problem.\n",
      "ARTHUR: What is that?\n",
      "HEAD KNIGHT: We are now...  no longer the Knights Who Say 'Ni'.\n",
      "KNIGHTS OF NI: Ni!  Shh!\n",
      "HEAD KNIGHT: Shh!  We are now the Knights Who Say 'Ecky-ecky-ecky-ecky-pikang-zoop-boing-goodem-zoo-owli-zhiv'.\n",
      "RANDOM: Ni!\n",
      "HEAD KNIGHT: Therefore, we must give you a test.\n",
      "ARTHUR: What is this test, O Knights of-- Knights Who 'Til Recently Said 'Ni'?\n",
      "HEAD KNIGHT: Firstly, you must find...  another shrubbery! [dramatic chord] \n",
      "ARTHUR: Not another shrubbery!\n",
      "RANDOM: Ni!\n",
      "HEAD KNIGHT: Then, when you have found the shrubbery, you must place it here beside this shrubbery, only slightly higher so you get the two-level effect with a little path running down the middle.\n",
      "KNIGHTS OF NI: A path!  A path!  A path!  Ni!  Shh!  Ni!  Ni!  Ni!  Shh!  Shh! ...\n",
      "HEAD KNIGHT: Then, when you have found the shrubbery, you must cut down the mightiest tree in the forest...  with...  a herring! [dramatic chord] \n",
      "ARTHUR: We shall do no such thing!\n",
      "HEAD KNIGHT: Oh, please!\n",
      "ARTHUR: Cut down a tree with a herring?  It can't be done.\n",
      "KNIGHTS OF NI: Aaaugh!  Aaaugh!\n",
      "HEAD KNIGHT: Augh!  Ohh!  Don't say that word.\n",
      "ARTHUR: What word?\n",
      "HEAD KNIGHT: I cannot tell, suffice to say is one of the words the Knights of Ni cannot hear.\n",
      "ARTHUR: How can we not say the word if you don't tell us what it is?\n",
      "KNIGHTS OF NI: Aaaaugh!\n",
      "HEAD KNIGHT: You said it again!\n",
      "ARTHUR: What, 'is'?\n",
      "KNIGHTS OF NI: Agh!  No, not 'is'.\n",
      "HEAD KNIGHT: No, not 'is'.  You wouldn't get vary far in life not saying 'is'.\n",
      "KNIGHTS OF NI: No, not 'is'.  Not 'is'.\n",
      "BEDEVERE: My liege, it's Sir Robin!\n",
      "MINSTREL: [singing] Packing it in and packing it up, And sneaking away and buggering up, And chickening out and pissing off home, Yes, bravely he is throwing in the sponge.\n",
      "ARTHUR: Sir Robin!\n",
      "ROBIN: My liege!  It's good to see you.\n",
      "HEAD KNIGHT: Now he's said the word!  \n",
      "ARTHUR: Surely you've not given up your quest for the Holy Grail?\n",
      "MINSTREL: [singing] He is sneaking away and buggering up--\n",
      "ROBIN: Shut up!  No, no.  No.  Far from it.\n",
      "HEAD KNIGHT: He said the word again!\n",
      "KNIGHTS OF NI: Aaaaugh!\n",
      "ROBIN: I was looking for it.\n",
      "KNIGHTS OF NI: Aaaaugh!\n",
      "ROBIN: Uh, here-- here in this forest.\n",
      "ARTHUR: No, it is far from this place.\n",
      "KNIGHTS OF NI: Aaaaugh!\n",
      "HEAD KNIGHT: Aaaaugh!  Stop saying the word!  The word...\n",
      "ARTHUR: Oh, stop it!\n",
      "KNIGHTS OF NI: ... we cannot hear!\n",
      "HEAD KNIGHT: Ow!  He said it again!\n",
      "ARTHUR: Patsy!\n",
      "HEAD KNIGHT: Wait!  I said it!  I said it! [clop clop clop] Ooh!  I said it again!  And there again!  That's three 'it's!  Ohh!\n",
      "KNIGHTS OF NI: Aaaaugh\n",
      "NARRATOR: And so, Arthur and Bedevere and Sir Robin set out on their search to find the enchanter of whom the old man had spoken in scene twenty-four.  Beyond the forest they met Launcelot and Galahad, and there was much rejoicing.\n",
      "KNIGHTS: Yay!  Yay! [woosh] \n",
      "NARRATOR: In the frozen land of Nador, they were forced to eat Robin's minstrels.\n",
      "MINSTREL: [high-pitched] Get back!  Eee!\n",
      "NARRATOR: And there was much rejoicing.\n",
      "KNIGHTS: Yay!\n",
      "NARRATOR: A year passed.\n",
      "CARTOON CHARACTER: [shivering] \n",
      "NARRATOR: Winter changed into Spring.\n",
      "CARTOON CHARACTER: Mmm, nice.\n",
      "NARRATOR: Spring changed into Summer.\n",
      "CARTOON CHARACTER: Oh.  Ahh.\n",
      "NARRATOR: Summer changed back into Winter.\n",
      "CARTOON CHARACTER: Oh?\n",
      "NARRATOR: And Winter gave Spring and Summer a miss and went straight on into Autumn.\n",
      "CARTOON CHARACTER: Aah. [snap] Oh!  Waa!\n",
      "NARRATOR: Until one day..\n",
      "SCENE 20: [King Arthur music] [clop clop clop] [music stops] [boom] \n",
      "KNIGHTS: Eh.  Oh.  See it?  Oh.  Oh.\n",
      "ARTHUR: Knights!  Forward! [boom boom boom boom boom] [squeak] [boom boom boom boom] What manner of man are you that can summon up fire without flint or tinder?\n",
      "TIM THE ENCHANTER: I...  am an enchanter.\n",
      "ARTHUR: By what name are you known?\n",
      "TIM: There are some who call me...  Tim?\n",
      "ARTHUR: Greetings, Tim the Enchanter.\n",
      "TIM: Greetings, King Arthur!\n",
      "ARTHUR: You know my name?\n",
      "TIM: I do. [zoosh] You seek the Holy Grail!\n",
      "ARTHUR: That is our quest.  You know much that is hidden, O Tim.\n",
      "TIM: Quite. [pweeng boom] [clap clap clap] \n",
      "ROBIN: Oh.\n",
      "ARTHUR: Yes, we're-- we're looking for the Holy Grail.  Our quest is to find the Holy Grail.\n",
      "KNIGHTS: Yeah.  Yes.  It is.  It is.  Yeah.  Yup.  Yup.  Hm.\n",
      "ARTHUR: And so we're-- we're-- we're-- we're looking for it.\n",
      "BEDEVERE: Yes, we are.\n",
      "GALAHAD: Yeah.  \n",
      "ROBIN: We are.  We are.\n",
      "BEDEVERE: We have been for some time.\n",
      "ROBIN: Ages.\n",
      "BEDEVERE: Umhm.\n",
      "ARTHUR: Uh-- uh, so, uh, anything that you could do to, uh-- to help, would be...  very...  helpful.\n",
      "GALAHAD: Look, can you tell us where-- [boom] \n",
      "ARTHUR: Fine.  Um, I don't want to waste any more of your time, but, uh, I don't suppose you could, uh, tell us where we might find a, um-- find a, uh-- a, um-- a, uh--\n",
      "TIM: A what...?\n",
      "ARTHUR: A g-- a-- a g-- a g-- a-- a g--\n",
      "TIM: A grail?!\n",
      "ARTHUR: Yes, I think so.\n",
      "ROBIN: Y-- y-- yes.\n",
      "ARTHUR: Yes.\n",
      "GALAHAD: Yup.\n",
      "KNIGHTS: That's it...\n",
      "TIM: Yes!\n",
      "ROBIN: Oh.\n",
      "ARTHUR: Oh.  Thank you.\n",
      "ROBIN: Ahh.\n",
      "GALAHAD: Oh.  Fine.\n",
      "ARTHUR: Thank you.\n",
      "ROBIN: Splendid.\n",
      "KNIGHTS: Aah... [boom pweeng boom boom] \n",
      "ARTHUR: Look, um, you're a busy man, uh--\n",
      "TIM: Yes, I can help you find the Holy Grail.\n",
      "KNIGHTS: Oh, thank you.  Oh...\n",
      "TIM: To the north there lies a cave-- the cave of Caerbannog-- wherein, carved in mystic runes upon the very living rock, the last words of Olfin Bedwere of Rheged... [boom] ... make plain the last resting place of the most Holy Grail.\n",
      "ARTHUR: Where could we find this cave, O Tim?\n",
      "TIM: Follow.  But!  Follow only if ye be men of valor, for the entrance to this cave is guarded by a creature so foul, so cruel that no man yet has fought with it and lived!  Bones of full fifty men lie strewn about its lair.  So, brave knights, if you do doubt your courage or your strength, come no further, for death awaits you all with nasty, big, pointy teeth.\n",
      "ARTHUR: What an eccentric performance\n",
      "SCENE 21: [clop clop clop] [whinny whinny] \n",
      "GALAHAD: They're nervous, sire.\n",
      "ARTHUR: Then we'd best leave them here and carry on on foot.  Dis-mount!\n",
      "TIM: Behold the cave of Caerbannog!\n",
      "ARTHUR: Right!  Keep me covered.\n",
      "GALAHAD: What with?\n",
      "ARTHUR: W-- just keep me covered.\n",
      "TIM: Too late! [dramatic chord] \n",
      "ARTHUR: What?\n",
      "TIM: There he is!\n",
      "ARTHUR: Where?\n",
      "TIM: There!\n",
      "ARTHUR: What, behind the rabbit?\n",
      "TIM: It is the rabbit!\n",
      "ARTHUR: You silly sod!\n",
      "TIM: What?\n",
      "ARTHUR: You got us all worked up!\n",
      "TIM: Well, that's no ordinary rabbit.\n",
      "ARTHUR: Ohh.\n",
      "TIM: That's the most foul, cruel, and bad-tempered rodent you ever set eyes on.\n",
      "ROBIN: You tit!  I soiled my armor I was so scared!\n",
      "TIM: Look, that rabbit's got a vicious streak a mile wide; it's a killer!\n",
      "GALAHAD: Get stuffed!\n",
      "TIM: He'll do you up a treat mate!\n",
      "GALAHAD: Oh, yeah?\n",
      "ROBIN: You mangy scots git!\n",
      "TIM: I'm warning you!\n",
      "ROBIN: What's he do, nibble your bum?\n",
      "TIM: He's got huge, sharp-- eh-- he can leap about-- look at the bones!\n",
      "ARTHUR: Go on, Bors.  Chop his head off!\n",
      "BORS: Right!  Silly little bleeder.  One rabbit stew comin' right up!\n",
      "TIM: Look! [squeak] \n",
      "BORS: Aaaugh! [dramatic chord] [clunk] \n",
      "ARTHUR: Jesus Christ!\n",
      "TIM: I warned you!\n",
      "ROBIN: I done it again!\n",
      "TIM: I warned you, but did you listen to me?  Oh, no, you knew it all, didn't you?  Oh, it's just a harmless little bunny, isn't it?  Well, it's always the same.  I always tell them--\n",
      "ARTHUR: Oh, shut up!\n",
      "TIM: Do they listen to me?\n",
      "ARTHUR: Right!\n",
      "TIM: Oh, no...\n",
      "KNIGHTS: Charge! [squeak squeak squeak] \n",
      "KNIGHTS: Aaaaugh!, Aaaugh!, etc.\n",
      "ARTHUR: Run away!  Run away!\n",
      "KNIGHTS: Run away!  Run away! ...\n",
      "TIM: Ha ha ha ha!  Ha haw haw!  Ha!  Ha ha!\n",
      "ARTHUR: Right.  How many did we lose?\n",
      "LAUNCELOT: Gawain.\n",
      "GALAHAD: Ector.\n",
      "ARTHUR: And Bors.  That's five.\n",
      "GALAHAD: Three, sir.\n",
      "ARTHUR: Three.  Three.  And we'd better not risk another frontal assault.  That rabbit's dynamite.\n",
      "ROBIN: Would it help to confuse it if we run away more?\n",
      "ARTHUR: Oh, shut up and go and change your armor.\n",
      "GALAHAD: Let us taunt it!  It may become so cross that it will make a mistake.\n",
      "ARTHUR: Like what?\n",
      "GALAHAD: Well...  ooh.\n",
      "LAUNCELOT: Have we got bows?\n",
      "ARTHUR: No.\n",
      "LAUNCELOT: We have the Holy Hand Grenade.\n",
      "ARTHUR: Yes, of course!  The Holy Hand Grenade of Antioch!  'Tis one of the sacred relics Brother Maynard carries with him!  Brother Maynard!  Bring up the Holy Hand Grenade!\n",
      "MONKS: [chanting] Pie Iesu domine, dona eis requiem.  Pie Iesu domine, donaeis requiem.  Pie Iesu domine, dona eis requiem.  Pie Iesu domine, dona eisrequiem.\n",
      "ARTHUR: How does it, um-- how does it work?\n",
      "LAUNCELOT: I know not, my liege.\n",
      "ARTHUR: Consult the Book of Armaments!\n",
      "BROTHER MAYNARD: Armaments, Chapter Two, verses Nine to Twenty-one.\n",
      "SECOND BROTHER: And Saint Attila raised the hand grenade up on high, saying,'O Lord, bless this thy hand grenade that with it thou mayest blow thine enemies to tiny bits, in thy mercy.' And the Lord did grin, and the people did feast upon the lambs and sloths and carp and anchovies and orangutans and breakfast cereals and fruit bats and large chu--\n",
      "MAYNARD: Skip a bit, Brother.\n",
      "SECOND BROTHER: And the Lord spake, saying, 'First shalt thou take out the Holy Pin.  Then, shalt thou count to three, no more, no less.  Three shalt be the number thou shalt count, and the number of the counting shall be three.  Four shalt thou not count, nor either count thou two, excepting that thou then proceed to three.  Five is right out.  Once the number three, being the third number, be reached, then lobbest thou thy Holy Hand Grenade of Antioch towards thy foe, who, being naughty in my sight, shall snuff it.'\n",
      "MAYNARD: Amen.\n",
      "KNIGHTS: Amen.\n",
      "ARTHUR: Right!  One...  two...  five!\n",
      "GALAHAD: Three, sir!\n",
      "ARTHUR: Three! [angels sing] [boom] \n",
      "SCENE 22:\n",
      "ARTHUR: There!  Look!\n",
      "LAUNCELOT: What does it say?\n",
      "GALAHAD: What language is that?\n",
      "ARTHUR: Brother Maynard!  You are a scholar.\n",
      "MAYNARD: It's Aramaic!\n",
      "GALAHAD: Of course!  Joseph of Arimathea!\n",
      "LAUNCELOT: 'Course!\n",
      "ARTHUR: What does it say?\n",
      "MAYNARD: It reads, 'Here may be found the last words of Joseph of Arimathea.  He who is valiant and pure of spirit may find the Holy Grail in the Castle of uuggggggh'.\n",
      "ARTHUR: What?\n",
      "MAYNARD: '...  the Castle of uuggggggh'.\n",
      "BEDEVERE: What is that?\n",
      "MAYNARD: He must have died while carving it.\n",
      "LAUNCELOT: Oh, come on!\n",
      "MAYNARD: Well, that's what it says.\n",
      "ARTHUR: Look, if he was dying, he wouldn't bother to carve 'aaggggh'.  He'd just say it!\n",
      "MAYNARD: Well, that's what's carved in the rock!\n",
      "GALAHAD: Perhaps he was dictating.\n",
      "ARTHUR: Oh, shut up.  Well, does it say anything else?\n",
      "MAYNARD: No.  Just, 'uuggggggh'.\n",
      "LAUNCELOT: Aauuggghhh.\n",
      "ARTHUR: Aaauggh.\n",
      "BEDEVERE: Do you suppose he meant the Camaaaaaargue?\n",
      "GALAHAD: Where's that?\n",
      "BEDEVERE: France, I think.\n",
      "LAUNCELOT: Isn't there a Saint Aauuuves in Cornwall?\n",
      "ARTHUR: No, that's Saint Ives.\n",
      "LAUNCELOT: Oh, yes.  Saint Iiiives.\n",
      "KNIGHTS: Iiiiives.\n",
      "BEDEVERE: Oooohoohohooo!\n",
      "LAUNCELOT: No, no.  'Aauuuuugh', at the back of the throat.  Aauuugh.\n",
      "BEDEVERE: N-- no.  No, no, no, no.  'Oooooooh', in surprise and alarm.\n",
      "LAUNCELOT: Oh, you mean sort of a 'aaaah'!\n",
      "BEDEVERE: Yes, but I-- aaaaaah!\n",
      "ARTHUR: Oooh!\n",
      "GALAHAD: My God! [dramatic chord] [roar] \n",
      "MAYNARD: It's the legendary Black Beast of Aaauugh! [Black Beast of Aaauugh eats BROTHER MAYNARD] \n",
      "BEDEVERE: That's it!  That's it!\n",
      "ARTHUR: Run away!\n",
      "KNIGHTS: Run away! [roar] Run away!  Run awaaay!  Run awaaaaay! [roar] Keep running! [boom] [roar] Shh!  Shh!  Shh!  Shh!  Shh!  Shh!  Shh!  Shh! ...\n",
      "BEDEVERE: We've lost him. [roar] \n",
      "KNIGHTS: Aagh!\n",
      "NARRATOR: As the horrendous Black Beast lunged forward, escape for Arthur and his knights seemed hopeless, when suddenly, the animator suffered a fatal heart attack.\n",
      "ANIMATOR: Ulk! [thump] \n",
      "NARRATOR: The cartoon peril was no more.  The quest for Holy Grail could continue.\n",
      "SCENE 23: [gurgle] \n",
      "GALAHAD: There it is!\n",
      "ARTHUR: The Bridge of Death!\n",
      "ROBIN: Oh, great.\n",
      "ARTHUR: Look!  There's the old man from scene twenty-four!\n",
      "BEDEVERE: What is he doing here?\n",
      "ARTHUR: He is the keeper of the Bridge of Death.  He asks each traveller five questions--\n",
      "GALAHAD: Three questions.\n",
      "ARTHUR: Three questions.  He who answers the five questions--\n",
      "GALAHAD: Three questions.\n",
      "ARTHUR: Three questions may cross in safety.\n",
      "ROBIN: What if you get a question wrong?\n",
      "ARTHUR: Then you are cast into the Gorge of Eternal Peril.\n",
      "ROBIN: Oh, I won't go.\n",
      "GALAHAD: Who's going to answer the questions?\n",
      "ARTHUR: Sir Robin!\n",
      "ROBIN: Yes?\n",
      "ARTHUR: Brave Sir Robin, you go.\n",
      "ROBIN: Hey!  I've got a great idea.  Why doesn't Launcelot go?\n",
      "LAUNCELOT: Yes.  Let me go, my liege.  I will take him single-handed.  I shall make a feint to the north-east that s--\n",
      "ARTHUR: No, no.  No.  Hang on!  Hang on!  Hang on!  Just answer the five questions--\n",
      "GALAHAD: Three questions.\n",
      "ARTHUR: Three questions as best you can.  And we shall watch...  and pray.\n",
      "LAUNCELOT: I understand, my liege.\n",
      "ARTHUR: Good luck, brave Sir Launcelot.  God be with you.\n",
      "BRIDGEKEEPER: Stop!  Who would cross the Bridge of Death must answer me these questions three, ere the other side he see.\n",
      "LAUNCELOT: Ask me the questions, bridgekeeper.  I am not afraid.\n",
      "BRIDGEKEEPER: What is your name?\n",
      "LAUNCELOT: My name is Sir Launcelot of Camelot.\n",
      "BRIDGEKEEPER: What is your quest?\n",
      "LAUNCELOT: To seek the Holy Grail.\n",
      "BRIDGEKEEPER: What is your favorite color?\n",
      "LAUNCELOT: Blue.\n",
      "BRIDGEKEEPER: Right.  Off you go.\n",
      "LAUNCELOT: Oh, thank you.  Thank you very much.\n",
      "ROBIN: That's easy!\n",
      "BRIDGEKEEPER: Stop!  Who approacheth the Bridge of Death must answer me these questions three, ere the other side he see.\n",
      "ROBIN: Ask me the questions, bridgekeeper.  I'm not afraid.\n",
      "BRIDGEKEEPER: What is your name?\n",
      "ROBIN: Sir Robin of Camelot.\n",
      "BRIDGEKEEPER: What is your quest?\n",
      "ROBIN: To seek the Holy Grail.\n",
      "BRIDGEKEEPER: What is the capital of Assyria?\n",
      "ROBIN: I don't know that!  Auuuuuuuugh!\n",
      "BRIDGEKEEPER: Stop!  What is your name?\n",
      "GALAHAD: Sir Galahad of Camelot.\n",
      "BRIDGEKEEPER: What is your quest?\n",
      "GALAHAD: I seek the Grail.\n",
      "BRIDGEKEEPER: What is your favorite color?\n",
      "GALAHAD: Blue.  No yel-- auuuuuuuugh!\n",
      "BRIDGEKEEPER: Hee hee heh.  Stop!  What is your name?\n",
      "ARTHUR: It is Arthur, King of the Britons.\n",
      "BRIDGEKEEPER: What is your quest?\n",
      "ARTHUR: To seek the Holy Grail.\n",
      "BRIDGEKEEPER: What is the air-speed velocity of an unladen swallow?\n",
      "ARTHUR: What do you mean?  An African or European swallow?\n",
      "BRIDGEKEEPER: Huh?  I-- I don't know that!  Auuuuuuuugh!\n",
      "BEDEVERE: How do know so much about swallows?\n",
      "ARTHUR: Well, you have to know these things when you're a king, you know. [suspenseful music] [music suddenly stops] [intermission] [suspenseful music resumes]\n",
      "SCENE 24:\n",
      "ARTHUR: Launcelot!  Launcelot!  Launcelot!\n",
      "BEDEVERE: Launcelot!  Launcelot!\n",
      "ARTHUR: Launcelot! [police radio] Launcelot!\n",
      "BEDEVERE: Launcelot!  Launcelot! [angels sing] [singing stops] [ethereal music] \n",
      "ARTHUR: The Castle Aaagh.  Our quest is at an end!  God be praised!  Almighty God, we thank Thee that Thou hast vouchsafed to us the most holy-- [twong] [baaaa] Jesus Christ! [thud] \n",
      "FRENCH GUARD: Allo, dappy English k-niggets and Monsieur Arthur King, who has the brain of a duck, you know.  So, we French fellows outwit you a second time!\n",
      "ARTHUR: How dare you profane this place with your presence!  I command you, in the name of the Knights of Camelot, to open the doors of this sacred castle, to which God Himself has guided us!\n",
      "FRENCH GUARD: How you English say, 'I one more time, mac, unclog my nose in your direction', sons of a window-dresser!  So, you think you could out-clever us French folk with your silly knees-bent running about advancing behaviour?!  I wave my private parts at your aunties, you cheesy lot of second hand electric donkey-bottom biters.\n",
      "ARTHUR: In the name of the Lord, we demand entrance to this sacred castle!\n",
      "FRENCH GUARD: No chance, English bed-wetting types.  I burst my pimples at you and call your door-opening request a silly thing, you tiny-brained wipers of other people's bottoms!\n",
      "ARTHUR: If you do not open this door, we shall take this castle by force! [splat] In the name of God and the glory of our-- [splat] \n",
      "FRENCH GUARDS: [laughing] \n",
      "ARTHUR: Agh.  Right!  That settles it!\n",
      "FRENCH GUARD: Yes, depart a lot at this time, and cut the approaching any more or we fire arrows at the tops of your heads and make castanets out of your testicles already!  Ha ha haaa ha!\n",
      "ARTHUR: Walk away.  Just ignore them.\n",
      "FRENCH GUARD: And now, remain gone, illegitimate-faced bugger-folk!  And, if you think you got a nasty taunting this time, you ain't heard nothing yet, dappy English k-nnniggets!  Thpppt!\n",
      "FRENCH GUARDS: [taunting] \n",
      "ARTHUR: We shall attack at once!\n",
      "BEDEVERE: Yes, my liege!\n",
      "ARTHUR: Stand by for attack! [exciting music] [music stops] [silence] French persons!\n",
      "FRENCH GUARDS: [taunting] ... Dappy! ...\n",
      "ARTHUR: Today the blood of many a valiant knight shall be avenged.  In the name of God, ...\n",
      "FRENCH GUARDS: Hoo hoo!  Ohh, ha ha ha ha ha! ...\n",
      "ARTHUR: ... we shall not stop our fight 'til each one of you lies dead, and the Holy Grail returns to those whom God has chosen!\n",
      "FRENCH GUARDS: ... Ha ha ha! ...\n",
      "ARTHUR: Charge!\n",
      "ARMY OF KNIGHTS: Hooray! [police siren] \n",
      "HISTORIAN'S WIFE: Yes.  They're the ones.  I'm sure.\n",
      "INSPECTOR: Come on.  Anybody armed must go too.\n",
      "OFFICER #1: All right.  Come on.  Back.\n",
      "HISTORIAN'S WIFE: Get that one.\n",
      "OFFICER #1: Back.  Right away.  Just...  pull it off.  Come on.  Come along.\n",
      "INSPECTOR: Put this man in the van.\n",
      "OFFICER #1: Clear off.  Come on.\n",
      "BEDEVERE: With whom?\n",
      "INSPECTOR: Which one?\n",
      "OFFICER #1: Oh-- this one.\n",
      "INSPECTOR: Come on.  Put him in the van.\n",
      "OFFICER #2: Get a blanket.\n",
      "OFFICER #1: We have no hospital.\n",
      "RANDOM: Ahh. [squeak] \n",
      "RANDOM: Ooh.\n",
      "OFFICER #1: Come on.  Back.  Riiight back.  Come on!\n",
      "OFFICER #2: Run along!  Run along!\n",
      "OFFICER #1: Pull that off.  My, that's an offensive weapon, that is.\n",
      "OFFICER #2: Come on.  Back with 'em.  Back.  Right.  Come along.\n",
      "INSPECTOR: Everything? [squeak] \n",
      "OFFICER #1: All right, sonny.  That's enough.  Just pack that in. [crash] \n",
      "CAMERAMAN: Christ!\n",
      "\n"
     ]
    }
   ],
   "source": [
    "with open(\"grail.txt\", 'r') as f:\n",
    "    holy_grail = f.read()\n",
    "\n",
    "print(holy_grail)  "
   ]
  },
  {
   "cell_type": "code",
   "execution_count": 198,
   "id": "3e4e3e62",
   "metadata": {},
   "outputs": [
    {
     "name": "stdout",
     "output_type": "stream",
     "text": [
      "['SCENE 1: [wind] [clop clop clop] ', 'KING ARTHUR: Whoa there!  [clop clop clop] ', 'SOLDIER #1: Halt!  Who goes there?', 'ARTHUR: It is I, Arthur, son of Uther Pendragon, from the castle of Camelot.  King of the Britons, defeator of the Saxons, sovereign of all England!', 'SOLDIER #1: Pull the other one!', 'ARTHUR: I am, ...  and this is my trusty servant Patsy.  We have ridden the length and breadth of the land in search of knights who will join me in my court at Camelot.  I must speak with your lord and master.', 'SOLDIER #1: What?  Ridden on a horse?', 'ARTHUR: Yes!', \"SOLDIER #1: You're using coconuts!\", 'ARTHUR: What?', \"SOLDIER #1: You've got two empty halves of coconut and you're bangin' 'em together.\", 'ARTHUR: So?  We have ridden since the snows of winter covered this land, through the kingdom of Mercea, through--', \"SOLDIER #1: Where'd you get the coconuts?\", 'ARTHUR: We found them.', \"SOLDIER #1: Found them?  In Mercea?  The coconut's tropical!\", 'ARTHUR: What do you mean?', 'SOLDIER #1: Well, this is a temperate zone.', 'ARTHUR: The swallow may fly south with the sun or the house martin or the plover may seek warmer climes in winter, yet these are not strangers to our land?', 'SOLDIER #1: Are you suggesting coconuts migrate?', 'ARTHUR: Not at all.  They could be carried.', 'SOLDIER #1: What?  A swallow carrying a coconut?', 'ARTHUR: It could grip it by the husk!', \"SOLDIER #1: It's not a question of where he grips it!  It's a simple question of weight ratios!  A five ounce bird could not carry a one pound coconut.\", \"ARTHUR: Well, it doesn't matter.  Will you go and tell your master that Arthur from the Court of Camelot is here.\", 'SOLDIER #1: Listen.  In order to maintain air-speed velocity, a swallow needs to beat its wings forty-three times every second, right?', 'ARTHUR: Please!', 'SOLDIER #1: Am I right?', \"ARTHUR: I'm not interested!\", 'SOLDIER #2: It could be carried by an African swallow!', \"SOLDIER #1: Oh, yeah, an African swallow maybe, but not a European swallow.  That's my point.\", 'SOLDIER #2: Oh, yeah, I agree with that.', 'ARTHUR: Will you ask your master if he wants to join my court at Camelot?!', 'SOLDIER #1: But then of course a-- African swallows are non-migratory.', 'SOLDIER #2: Oh, yeah...', \"SOLDIER #1: So they couldn't bring a coconut back anyway...  [clop clop clop] \", 'SOLDIER #2: Wait a minute!  Supposing two swallows carried it together?', \"SOLDIER #1: No, they'd have to have it on a line.\", \"SOLDIER #2: Well, simple!  They'd just use a strand of creeper!\", 'SOLDIER #1: What, held under the dorsal guiding feathers?', 'SOLDIER #2: Well, why not?', 'SCENE 2: [thud] [clang] ', 'CART-MASTER: Bring out your dead!  [clang] Bring out your dead!  [clang] Bring out your dead!  [clang] Bring out your dead!  [clang] Bring out your dead!  [cough cough...] [clang] [... cough cough] Bring out your dead!  [clang] Bring out your dead!  [clang] Bring out your dead!  Ninepence.  [clang] Bring out your dead!  [clang] Bring out your dead!  [clang] Bring out...  [rewr!] ... your dead!  [rewr!] [clang] Bring out your dead!', \"CUSTOMER: Here's one.\", 'CART-MASTER: Ninepence.', \"DEAD PERSON: I'm not dead!\", 'CART-MASTER: What?', \"CUSTOMER: Nothing.  Here's your ninepence.\", \"DEAD PERSON: I'm not dead!\", \"CART-MASTER: 'Ere.  He says he's not dead!\", 'CUSTOMER: Yes he is.', \"DEAD PERSON: I'm not!\", \"CART-MASTER: He isn't?\", \"CUSTOMER: Well, he will be soon.  He's very ill.\", \"DEAD PERSON: I'm getting better!  \", \"CUSTOMER: No you're not.  You'll be stone dead in a moment.\", \"CART-MASTER: Oh, I can't take him like that.  It's against regulations.\", \"DEAD PERSON: I don't want to go on the cart!\", \"CUSTOMER: Oh, don't be such a baby.\", \"CART-MASTER: I can't take him.\", 'DEAD PERSON: I feel fine!', 'CUSTOMER: Well, do us a favor.', \"CART-MASTER: I can't.\", \"CUSTOMER: Well, can you hang around a couple of minutes?  He won't be long.\", \"CART-MASTER: No, I've got to go to the Robinson's.  They've lost nine today.\", \"CUSTOMER: Well, when's your next round?\", 'CART-MASTER: Thursday.', \"DEAD PERSON: I think I'll go for a walk.\", \"CUSTOMER: You're not fooling anyone you know.  Look, isn't there something you can do?\", 'DEAD PERSON: [singing] I feel happy...  I feel happy.  [whop] ', 'CUSTOMER: Ah, thanks very much.', 'CART-MASTER: Not at all.  See you on Thursday.', \"CUSTOMER: Right.  All right.  [howl] [clop clop clop] Who's that then?\", 'CART-MASTER: I dunno.  Must be a king.', 'CUSTOMER: Why?', \"CART-MASTER: He hasn't got shit all over him.\", 'SCENE 3: [thud] [King Arthur music] [thud thud thud] [King Arthur music stops] ', 'ARTHUR: Old woman!', 'DENNIS: Man!', 'ARTHUR: Man.  Sorry.  What knight live in that castle over there?', \"DENNIS: I'm thirty-seven.\", 'ARTHUR: I-- what?', \"DENNIS: I'm thirty-seven.  I'm not old.\", \"ARTHUR: Well, I can't just call you 'Man'.\", \"DENNIS: Well, you could say 'Dennis'.\", \"ARTHUR: Well, I didn't know you were called 'Dennis'.\", \"DENNIS: Well, you didn't bother to find out, did you?\", \"ARTHUR: I did say 'sorry' about the 'old woman', but from the behind you looked--\", 'DENNIS: What I object to is that you automatically treat me like an inferior!', 'ARTHUR: Well, I am king!', \"DENNIS: Oh king, eh, very nice.  And how d'you get that, eh?  By exploiting the workers!  By 'anging on to outdated imperialist dogma which perpetuates the economic and social differences in our society.  If there's ever going to be any progress with the--\", \"WOMAN: Dennis, there's some lovely filth down here.  Oh!  How d'you do?\", \"ARTHUR: How do you do, good lady.  I am Arthur, King of the Britons.  Who's castle is that?\", 'WOMAN: King of the who?', 'ARTHUR: The Britons.', 'WOMAN: Who are the Britons?', 'ARTHUR: Well, we all are.  We are all Britons, and I am your king.', \"WOMAN: I didn't know we had a king.  I thought we were an autonomous collective.\", \"DENNIS: You're fooling yourself.  We're living in a dictatorship.  A self-perpetuating autocracy in which the working classes--\", 'WOMAN: Oh, there you go, bringing class into it again.', \"DENNIS: That's what it's all about.  If only people would hear of--\", 'ARTHUR: Please, please good people.  I am in haste.  Who lives in that castle?', 'WOMAN: No one live there.', 'ARTHUR: Then who is your lord?', \"WOMAN: We don't have a lord.\", 'ARTHUR: What?', \"DENNIS: I told you.  We're an anarcho-syndicalist commune.  We take it in turns to act as a sort of executive officer for the week.\", 'ARTHUR: Yes.', 'DENNIS: But all the decision of that officer have to be ratified at a special bi-weekly meeting--', 'ARTHUR: Yes, I see.', 'DENNIS: By a simple majority in the case of purely internal affairs,--', 'ARTHUR: Be quiet!', 'DENNIS: But by a two-thirds majority in the case of more major--', 'ARTHUR: Be quiet!  I order you to be quiet!', 'WOMAN: Order, eh?  Who does he think he is?  Heh.', 'ARTHUR: I am your king!', \"WOMAN: Well, I didn't vote for you.\", \"ARTHUR: You don't vote for kings.\", 'WOMAN: Well, how did you become king then?', 'ARTHUR: The Lady of the Lake, ... [angels sing] ... her arm clad in the purest shimmering samite, held aloft Excalibur from the bosom of the water signifying by Divine Providence that I, Arthur, was to carry Excalibur. [singing stops] That is why I am your king!', 'DENNIS: Listen, strange women lying in ponds distributing swords is no basis for a system of government.  Supreme executive power derives from a mandate from the masses, not from some farcical aquatic ceremony.', 'ARTHUR: Be quiet!', \"DENNIS: Well, but you can't expect to wield supreme executive power just 'cause some watery tart threw a sword at you!\", 'ARTHUR: Shut up!', \"DENNIS: I mean, if I went 'round saying I was an emperor just because some moistened bint had lobbed a scimitar at me, they'd put me away!\", 'ARTHUR: Shut up, will you.  Shut up!', 'DENNIS: Ah, now we see the violence inherent in the system.', 'ARTHUR: Shut up!', \"DENNIS: Oh!  Come and see the violence inherent in the system!  Help, help!  I'm being repressed!\", 'ARTHUR: Bloody peasant!', \"DENNIS: Oh, what a give-away.  Did you hear that?  Did you hear that, eh?  That's what I'm on about.  Did you see him repressing me?  You saw it, didn't you\", 'SCENE 4: [King Arthur music] [music stops] ', 'BLACK KNIGHT: Aaagh!  [King Arthur music] [music stops] ', 'BLACK KNIGHT: Aaagh!', 'GREEN KNIGHT: Ooh! [King Arthur music] [music stops] [stab] ', 'BLACK KNIGHT: Aagh!', 'GREEN KNIGHT: Oh! [King Arthur music] Ooh! [music stops] ', 'BLACK KNIGHT: Aaagh! [clang] ', 'BLACK KNIGHT and GREEN KNIGHT: Agh!, oh!, etc.', 'GREEN KNIGHT: Aaaaaah!  Aaaaaaaaah! [woosh] [BLACK KNIGHT kills GREEN KNIGHT] [thud] [scrape] ', 'BLACK KNIGHT: Umm! [clop clop clop] ', 'ARTHUR: You fight with the strength of many men, Sir Knight. [pause] I am Arthur, King of the Britons. [pause] I seek the finest and the bravest knights in the land to join me in my court at Camelot. [pause] You have proved yourself worthy.  Will you join me? [pause] You make me sad.  So be it.  Come, Patsy.', 'BLACK KNIGHT: None shall pass.', 'ARTHUR: What?', 'BLACK KNIGHT: None shall pass.', 'ARTHUR: I have no quarrel with you, good Sir Knight, but I must cross this bridge.', 'BLACK KNIGHT: Then you shall die.', 'ARTHUR: I command you, as King of the Britons, to stand aside!', 'BLACK KNIGHT: I move for no man.', 'ARTHUR: So be it!', \"ARTHUR and BLACK KNIGHT: Aaah!, hiyaah!, etc. [ARTHUR chops the BLACK KNIGHT's left arm off] \", 'ARTHUR: Now stand aside, worthy adversary.', \"BLACK KNIGHT: 'Tis but a scratch.\", \"ARTHUR: A scratch?  Your arm's off!\", \"BLACK KNIGHT: No, it isn't.\", \"ARTHUR: Well, what's that then?\", \"BLACK KNIGHT: I've had worse.\", 'ARTHUR: You liar!', \"BLACK KNIGHT: Come on, you pansy! [clang] Huyah! [clang] Hiyaah! [clang] Aaaaaaaah! [ARTHUR chops the BLACK KNIGHT's right arm off] \", 'ARTHUR: Victory is mine! [kneeling] We thank Thee Lord, that in Thy mer--', 'BLACK KNIGHT: Hah! [clunk] Come on then.', 'ARTHUR: What?', 'BLACK KNIGHT: Have at you! [kick] ', 'ARTHUR: Eh.  You are indeed brave, Sir Knight, but the fight is mine.', 'BLACK KNIGHT: Oh, had enough, eh?', \"ARTHUR: Look, you stupid bastard.  You've got no arms left.\", 'BLACK KNIGHT: Yes I have.', 'ARTHUR: Look!', 'BLACK KNIGHT: Just a flesh wound. [kick] ', 'ARTHUR: Look, stop that.', 'BLACK KNIGHT: Chicken! [kick] Chickennn!', \"ARTHUR: Look, I'll have your leg. [kick] Right! [whop] [ARTHUR chops the BLACK KNIGHT's right leg off] \", \"BLACK KNIGHT: Right.  I'll do you for that!\", \"ARTHUR: You'll what?\", 'BLACK KNIGHT: Come here!', 'ARTHUR: What are you going to do, bleed on me?', \"BLACK KNIGHT: I'm invincible!\", \"ARTHUR: You're a looney.\", \"BLACK KNIGHT: The Black Knight always triumphs!  Have at you!  Come on then. [whop] [ARTHUR chops the BLACK KNIGHT's last leg off] \", \"BLACK KNIGHT: Ooh.  All right, we'll call it a draw.\", 'ARTHUR: Come, Patsy.', \"BLACK KNIGHT: Oh.  Oh, I see.  Running away, eh?  You yellow bastards!  Come back here and take what's coming to you.  I'll bite your legs off\", 'SCENE 5:', 'MONKS: [chanting] Pie Iesu domine, dona eis requiem. [bonk] Pie Iesu domine, ... [bonk] ... dona eis requiem. [bonk] Pie Iesu domine, ... [bonk] ... dona eis requiem.', 'CROWD: A witch!  A witch! [bonk] A witch!  A witch!', 'MONKS: [chanting] Pie Iesu domine...', \"CROWD: A witch!  A witch!  A witch!  A witch!  We've found a witch!  A witch!  A witch!  A witch!  A witch!  We've got a witch!  A witch!  A witch!  Burn her!  Burn her!  Burn her!  We've found a witch!  We've found a witch!  A witch!  A witch!  A witch!\", 'VILLAGER #1: We have found a witch.  May we burn her?', 'CROWD: Burn her!  Burn!  Burn her!  Burn her!', 'BEDEVERE: How do you know she is a witch?', 'VILLAGER #2: She looks like one.', 'CROWD: Right!  Yeah!  Yeah!', 'BEDEVERE: Bring her forward.', \"WITCH: I'm not a witch.  I'm not a witch.\", 'BEDEVERE: Uh, but you are dressed as one.', 'WITCH: They dressed me up like this.', \"CROWD: Augh, we didn't!  We didn't...\", \"WITCH: And this isn't my nose.  It's a false one.\", 'BEDEVERE: Well?', 'VILLAGER #1: Well, we did do the nose.', 'BEDEVERE: The nose?', 'VILLAGER #1: And the hat, but she is a witch!', 'VILLAGER #2: Yeah!', 'CROWD: We burn her!  Right!  Yeaaah!  Yeaah!', 'BEDEVERE: Did you dress her up like this?', 'VILLAGER #1: No!', 'VILLAGER #2 and 3: No.  No.', 'VILLAGER #2: No.', 'VILLAGER #1: No.', 'VILLAGERS #2 and #3: No.', 'VILLAGER #1: Yes.', 'VILLAGER #2: Yes.', 'VILLAGER #1: Yes.  Yeah, a bit.', 'VILLAGER #3: A bit.', 'VILLAGERS #1 and #2: A bit.', 'VILLAGER #3: A bit.', 'VILLAGER #1: She has got a wart.', 'RANDOM: [cough] ', 'BEDEVERE: What makes you think she is a witch?', 'VILLAGER #3: Well, she turned me into a newt.', 'BEDEVERE: A newt?', 'VILLAGER #3: I got better.', 'VILLAGER #2: Burn her anyway!', 'VILLAGER #1: Burn!', 'CROWD: Burn her!  Burn!  Burn her! ...', 'BEDEVERE: Quiet!  Quiet!  Quiet!  Quiet!  There are ways of telling whether she is a witch.', 'VILLAGER #1: Are there?', 'VILLAGER #2: Ah?', 'VILLAGER #1: What are they?', 'CROWD: Tell us!  Tell us! ...', 'BEDEVERE: Tell me, what do you do with witches?', 'VILLAGER #2: Burn!', 'VILLAGER #1: Burn!', 'CROWD: Burn!  Burn them up!  Burn! ...', 'BEDEVERE: And what do you burn apart from witches?', 'VILLAGER #1: More witches!', 'VILLAGER #3: Shh!', 'VILLAGER #2: Wood!', 'BEDEVERE: So, why do witches burn? [pause] ', \"VILLAGER #3: B--...  'cause they're made of...  wood?\", 'BEDEVERE: Good!  Heh heh.', 'CROWD: Oh yeah.  Oh.', 'BEDEVERE: So, how do we tell whether she is made of wood?', 'VILLAGER #1: Build a bridge out of her.', 'BEDEVERE: Ah, but can you not also make bridges out of stone?', 'VILLAGER #1: Oh, yeah.', 'RANDOM: Oh, yeah.  True.  Uhh...', 'BEDEVERE: Does wood sink in water?', 'VILLAGER #1: No.  No.', 'VILLAGER #2: No, it floats!  It floats!', 'VILLAGER #1: Throw her into the pond!', 'CROWD: The pond!  Throw her into the pond!', 'BEDEVERE: What also floats in water?', 'VILLAGER #1: Bread!', 'VILLAGER #2: Apples!', 'VILLAGER #3: Uh, very small rocks!', 'VILLAGER #1: Cider!', 'VILLAGER #2: Uh, gra-- gravy!', 'VILLAGER #1: Cherries!', 'VILLAGER #2: Mud!', 'VILLAGER #3: Churches!  Churches!', 'VILLAGER #2: Lead!  Lead!', 'ARTHUR: A duck!', 'CROWD: Oooh.', 'BEDEVERE: Exactly.  So, logically...', \"VILLAGER #1: If...  she...  weighs...  the same as a duck, ...  she's made of wood.\", 'BEDEVERE: And therefore?', 'VILLAGER #2: A witch!', 'VILLAGER #1: A witch!', 'CROWD: A witch!  A witch! ...', 'VILLAGER #4: Here is a duck.  Use this duck. [quack quack quack] ', 'BEDEVERE: We shall use my largest scales.', 'CROWD: Ohh!  Ohh!  Burn the witch!  Burn the witch!  Burn her!  Burn her!  Burn her!  Burn her!  Burn her!  Burn her!  Burn her!  Ahh!  Ahh...', 'BEDEVERE: Right.  Remove the supports! [whop] [clunk] [creak] ', 'CROWD: A witch!  A witch!  A witch!', \"WITCH: It's a fair cop.\", 'VILLAGER #3: Burn her!', 'CROWD: Burn her!  Burn her!  Burn her!  Burn!  Burn! ...', 'BEDEVERE: Who are you who are so wise in the ways of science?', 'ARTHUR: I am Arthur, King of the Britons.', 'BEDEVERE: My liege!', 'ARTHUR: Good Sir Knight, will you come with me to Camelot, and join us at the Round Table?', 'BEDEVERE: My liege!  I would be honored.', 'ARTHUR: What is your name?', 'BEDEVERE: Bedevere, my liege.', 'ARTHUR: Then I dub you Sir Bedevere, Knight of the Round Table', \"NARRATOR: The wise Sir Bedevere was the first to join King Arthur's knights, but other illustrious names were soon to follow: Sir Lancelot the Brave; Sir Gallahad the Pure; and Sir Robin the-not-quite-so-brave-as-Sir-Lancelot, who had nearly fought the Dragon of Angnor, who had nearly stood up to the vicious Chicken of Bristol, and who had personally wet himself at the Battle of Badon Hill; and the aptly named Sir Not-appearing-in-this-film.  Together they formed a band whose names and deeds were to be retold throughout the centuries: the Knights of the Round Table\", 'SCENE 6: [clop clop clop] ', 'SIR BEDEVERE: And that, my liege, is how we know the earth to be banana-shaped.', \"ARTHUR: This new learning amazes me, Sir Bedevere.  Explain again how sheep's bladders may be employed to prevent earthquakes.\", 'BEDEVERE: Oh, certainly, sir.', 'SIR LAUNCELOT: Look, my liege! [trumpets] ', 'ARTHUR: Camelot!', 'SIR GALAHAD: Camelot!', 'LAUNCELOT: Camelot!', \"PATSY: It's only a model.\", 'ARTHUR: Shh!  Knights, I bid you welcome to your new home.  Let us ride... to...  Camelot! [in medieval hall] ', \"KNIGHTS: [singing] We're knights of the round table.  We dance when e'er we're able.  We do routines and chorus scenes With footwork impeccable.  We dine well here in Camelot.  We eat ham and jam and spam a lot [dancing] We're knights of the Round Table. Our shows are formidable, But many times we're given rhymes That are quite unsingable. We're opera mad in Camelot. We sing from the diaphragm a lot [in dungeon] \", 'PRISONER: [clap clap clap clap] [in medieval hall] ', \"KNIGHTS: [tap-dancing] In war we're tough and able, Quite indefatigable.  Between our quests we sequin vests and impersonate Clark Gable.  It's a busy life in Camelot.\", 'MAN: I have to push the pram a lot [outdoors] ', \"ARTHUR: Well, on second thought, let's not go to Camelot.  It is a silly place.\", 'KNIGHTS: Right.  Right', 'SCENE 7: [clop clop clop] [boom boom] [angels sing] ', \"GOD: Arthur!  Arthur, King of the Britons!  Oh, don't grovel! [singing stops] One thing I can't stand, it's people groveling.\", 'ARTHUR: Sorry. [boom] ', \"GOD: And don't apologise.  Every time I try to talk to someone it's 'sorry this' and 'forgive me that' and 'I'm not worthy'. [boom] What are you doing now?!\", \"ARTHUR: I'm averting my eyes, O Lord.\", \"GOD: Well, don't.  It's like those miserable Psalms-- they're so depressing. Now knock it off!\", 'ARTHUR: Yes, Lord.', 'GOD: Right!  Arthur, King of the Britons, your Knights of the Round Table shall have a task to make them an example in these dark times.', 'ARTHUR: Good idea, O Lord!', \"GOD: 'Course it's a good idea!  Behold! [angels sing] Arthur, this is the Holy Grail.  Look well, Arthur, for it is your sacred task to seek this grail.  That is your purpose, Arthur...  the quest for the Holy Grail. [boom] [singing stops] \", 'LAUNCELOT: A blessing!  A blessing from the Lord!', 'GALAHAD: God be praised', 'SCENE 8: [King Arthur music] [clop clop clop] ', 'ARTHUR: Halt! [horn] Hallo! [pause] Hallo!', 'FRENCH GUARD: Allo!  Who is eet?', \"ARTHUR: It is King Arthur, and these are my Knights of the Round Table.  Who's castle is this?\", 'FRENCH GUARD: This is the castle of my master Guy de Loimbard.', 'ARTHUR: Go and tell your master that we have been charged by God with a sacred quest.  If he will give us food and shelter for the night he can join us in our quest for the Holy Grail.', \"FRENCH GUARD: Well, I'll ask him, but I don't think he'll be very keen.  Uh, he's already got one, you see?\", 'ARTHUR: What?', \"GALAHAD: He says they've already got one!\", \"ARTHUR: Are you sure he's got one?\", \"FRENCH GUARD: Oh, yes, it's very nice-a.  (I told him we already got one.)\", 'ARTHUR: Well, u-- um, can we come up and have a look?', 'FRENCH GUARD: Of course not!  You are English types-a!', 'ARTHUR: Well, what are you then?', \"FRENCH GUARD: I'm French!  Why do think I have this outrageous accent, you silly king-a?!\", 'GALAHAD: What are you doing in England?', 'FRENCH GUARD: Mind your own business!', 'ARTHUR: If you will not show us the Grail, we shall take your castle by force!', \"FRENCH GUARD: You don't frighten us, English pig-dogs!  Go and boil your bottom, sons of a silly person.  I blow my nose at you, so-called Arthur King, you and all your silly English k-nnnnniggets.  Thpppppt!  Thppt! Thppt!\", 'GALAHAD: What a strange person.', 'ARTHUR: Now look here, my good man--', \"FRENCH GUARD: I don't wanna talk to you no more, you empty headed animal food trough wiper!  I fart in your general direction!  You mother was a hamster and your father smelt of elderberries!\", 'GALAHAD: Is there someone else up there we could talk to?', 'FRENCH GUARD: No, now go away or I shall taunt you a second time-a! [sniff] ', \"ARTHUR: Now, this is your last chance.  I've been more than reasonable.\", 'FRENCH GUARD: (Fetchez la vache.)', 'OTHER FRENCH GUARD: Quoi?', 'FRENCH GUARD: (Fetchez la vache!) [mooo] ', 'ARTHUR: If you do not agree to my commands, then I shall-- [twong] [mooooooo] Jesus Christ!', 'KNIGHTS: Christ! [thud] Ah!  Ohh!', 'ARTHUR: Right!  Charge!', 'KNIGHTS: Charge! [mayhem] ', 'FRENCH GUARD: Hey, this one is for your mother!  There you go. [mayhem] ', \"FRENCH GUARD: And this one's for your dad!\", 'ARTHUR: Run away!', 'KNIGHTS: Run away!', 'FRENCH GUARD: Thppppt!', 'FRENCH GUARDS: [taunting] ', \"LAUNCELOT: Fiends!  I'll tear them apart!\", 'ARTHUR: No, no.  No, no.', 'BEDEVERE: Sir!  I have a plan, sir. [later] [wind] [saw saw saw saw saw saw saw saw saw saw saw saw saw saw saw saw] [clunk] [bang] [rewr!] [squeak squeak squeak squeak squeak squeak squeak squeak squeak squeak] [rrrr rrrr rrrr] [drilllll] [sawwwww] [clunk] [crash] [clang] [squeak squeak squeak squeak squeak...] [creak] ', \"FRENCH GUARDS: [whispering] C'est un lapin, lapin de bois.  Quoi?  Un cadeau.  What?  A present.  Oh, un cadeau.  Oui, oui.  Hurry.  What?  Let's go.  Oh. On y va.  Bon magne.  Over here... [squeak squeak squeak squeak squeak...] [clllank] \", 'ARTHUR: What happens now?', 'BEDEVERE: Well, now, uh, Launcelot, Galahad, and I, uh, wait until nightfall, and then leap out of the rabbit, taking the French, uh, by surprise.  Not only by surprise, but totally unarmed!', 'ARTHUR: Who leaps out?', 'BEDEVERE: U-- u-- uh, Launcelot, Galahad, and I.  Uh, leap out of the rabbit, uh, and uh...', 'ARTHUR: Ohh.', 'BEDEVERE: Oh.  Um, l-- look, i-- i-- if we built this large wooden badger-- [clank] [twong] ', 'ARTHUR: Run away!', 'KNIGHTS: Run away!  Run away!  Run away!  Run away!  Run away!  Run away!  Run away! [CRASH] ', 'FRENCH GUARDS: Oh, haw haw haw haw!  Haw!  Haw haw heh..', 'SCENE 9: [clack] ', 'VOICE: Picture for Schools, take eight.', 'DIRECTOR: Action!', 'HISTORIAN: Defeat at the castle seems to have utterly disheartened King Arthur.  The ferocity of the French taunting took him completely by surprise, and Arthur became convinced that a new strategy was required if the quest for the Holy Grail were to be brought to a successful conclusion.  Arthur, having consulted his closest knights, decided that they should separate, and search for the Grail individually. [clop clop clop] Now, this is what they did: Launcelot--', 'KNIGHT: Aaaah! [slash] [KNIGHT kills HISTORIAN] ', \"HISTORIAN'S WIFE: Frank\", 'SCENE 10: [trumpets] ', 'NARRATOR: The Tale of Sir Robin.  So each of the knights went their separate ways.  Sir Robin rode north, through the dark forest of Ewing, accompanied by his favorite minstrels.', 'MINSTREL: [singing] Bravely bold Sir Robin, rode forth from Camelot.  He was not afraid to die, O brave Sir Robin.  He was not at all afraid to be killed in nasty ways.  Brave, brave, brave, brave Sir Robin!  He was not in the least bit scared to be mashed into a pulp, Or to have his eyes gouged out, and his elbows broken.  To have his kneecaps split, and his body burned away, And his limbs all hacked and mangled, brave Sir Robin!', 'His head smashed in and his heart cut out, And his liver removed and his bowels unplugged, And his nostrils raped and his bottom burned off, And his pen--', \"SIR ROBIN: That's-- that's, uh-- that's enough music for now, lads.  Heh.  Looks like there's dirty work afoot.\", 'DENNIS: Anarcho-syndicalism is a way of preserving freedom.', \"WOMAN: Oh, Dennis, forget about freedom.  We haven't got enough mud.\", 'ALL HEADS: Halt!  Who art thou?', 'MINSTREL: [singing] He is brave Sir Robin, brave Sir Robin, who--', \"ROBIN: Shut up!  Um, n-- n-- n-- nobody really, I'm j-- j-- j-- ju-- just um, just passing through.\", 'ALL HEADS: What do you want?', 'MINSTREL: [singing] To fight and--', 'ROBIN: Shut up!  Um, oo, a-- nothing, nothing really.  I, uh, j-- j-- just--just to um, just to p-- pass through, good Sir Knight.', \"ALL HEADS: I'm afraid not!\", 'ROBIN: Ah.  W-- well, actually I-- I am a Knight of the Round Table.', \"ALL HEADS: You're a Knight of the Round Table?\", 'ROBIN: I am.', 'LEFT HEAD: In that case I shall have to kill you.', 'MIDDLE HEAD: Shall I?', \"RIGHT HEAD: Oh, I don't think so.\", 'MIDDLE HEAD: Well, what do I think?', 'LEFT HEAD: I think kill him.', \"RIGHT HEAD: Oh, let's be nice to him.\", 'LEFT HEAD: Oh shut up.', 'ROBIN: Perhaps I could--', 'LEFT HEAD: And you.  Oh, quick!  Get the sword out.  I want to cut his headoff!', 'RIGHT HEAD: Oh, cut your own head off!', 'MIDDLE HEAD: Yes, do us all a favor!', 'LEFT HEAD: What?', 'RIGHT HEAD: Yapping on all the time.', \"MIDDLE HEAD: You're lucky.  You're not next to him.\", 'LEFT HEAD: What do you mean?', 'MIDDLE HEAD: You snore!', \"LEFT HEAD: Oh, I don't.  Anyway, you've got bad breath.\", \"MIDDLE HEAD: Well it's only because you don't brush my teeth.\", \"RIGHT HEAD: Oh stop bitching and let's go have tea.\", \"LEFT HEAD: Oh, all right.  All right.  All right.  We'll kill him first and then have tea and biscuits.\", 'MIDDLE HEAD: Yes.', 'RIGHT HEAD: Oh, not biscuits.', \"LEFT HEAD: All right.  All right, not biscuits, but let's kill him anyway.\", 'ALL HEADS: Right!', 'MIDDLE HEAD: He buggered off.', \"RIGHT HEAD: So he has.  He's scarper\", 'MINSTREL: [singing] Brave Sir Robin ran away.', 'ROBIN: No!', 'MINSTREL: [singing] Bravely ran away away.', \"ROBIN: I didn't!\", 'MINSTREL: [singing] When danger reared its ugly head, he bravely turned his tail and fled.', 'ROBIN: No!', 'MINSTREL: [singing] Yes, brave Sir Robin turned about', \"ROBIN: I didn't!\", 'MINSTREL: [singing] And gallantly he chickened out, bravely taking to his feet.', 'ROBIN: I never did!', 'MINSTREL: [singing] He beat a very brave retreat.', 'ROBIN: All lies!', 'MINSTREL: [singing] Bravest of the brave, Sir Robin.', 'ROBIN: I never', 'CARTOON MONKS: [chanting] Pie Iesu domine, dona eis requiem.', 'CARTOON CHARACTER: Heh heh heeh ooh... [twang] ', 'CARTOON MONKS: [chanting] Pie Iesu domine, ...', 'CARTOON CHARACTERS: Wayy! [splash] Ho ho.  Woa, wayy! [twang] [splash] Heh heh heh heh ho!  Heh heh heh!', 'CARTOON MONKS: [chanting] ... dona eis requiem.', 'CARTOON CHARACTER: Wayy! [twang] Wayy! [twang] ', 'VOICE: [whispering] Forgive me for asking.', 'CARTOON CHARACTER: Oh!  Oooo', 'SCENE 11: [trumpets] ', 'NARRATOR: The Tale of Sir Galahad. [boom] [wind] [howl] [howl] [boom] [angels singing] [howl] [boom] [howl] [boom] [pound pound pound] ', 'GALAHAD: Open the door!  Open the door! [pound pound pound] In the name of King Arthur, open the door! [squeak] [thump] [squeak] [boom] ', 'GIRLS: Hello!', 'ZOOT: Welcome gentle Sir Knight.  Welcome to the Castle Anthrax.', 'GALAHAD: The Castle Anthrax?', \"ZOOT: Yes.  Oh, it's not a very good name is it?  Oh, but we are nice and we will attend to your every, every need!\", 'GALAHAD: You are the keepers of the Holy Grail?', 'ZOOT: The what?', 'GALAHAD: The Grail.  It is here.', 'ZOOT: Oh, but you are tired, and you must rest awhile.  Midget!  Crapper!', 'MIDGET and CRAPPER: Yes, O Zoot?', 'ZOOT: Prepare a bed for our guest.', 'MIDGET and CRAPPER: Oh thank you!  Thank you!  Thank you!  Thank you!  Thank you!  Thank you! ...', 'ZOOT: Away, away varletesses.  The beds here are warm and soft, and very, very big.', 'GALAHAD: Well, look, I-- I-- uh--', 'ZOOT: What is your name, handsome knight?', 'GALAHAD: Sir Galahad...  the Chaste.', 'ZOOT: Mine is Zoot.  Just Zoot.  Oh, but come.', \"GALAHAD: Look, please!  In God's name, show me the Grail!\", 'ZOOT: Oh, you have suffered much.  You are delirious.', 'GALAHAD: No, look.  I have seen it!  It is here, in this--', 'ZOOT: Sir Galahad!  You would not be so ungallant as to refuse our hospitality.', 'GALAHAD: Well, I-- I-- uh--', 'ZOOT: Oh, I am afraid our life must seem very dull and quiet compared to yours.  We are but eight score young blondes and brunettes, all between sixteen and nineteen-and-a-half, cut off in this castle with no one to protect us.  Oooh.  It is a lonely life: bathing, dressing, undressing, making exciting underwear.  We are just not used to handsome knights.  Nay.  Nay.  Come.  Come.  You may lie here.  Oh, but you are wounded!', \"GALAHAD: No, no-- it's-- it's nothing.\", 'ZOOT: Oh, you must see the doctors immediately!  No, no, please!  Lie down. [clap clap] ', 'PIGLET: Well, what seems to be the trouble?', \"GALAHAD: They're doctors?!\", 'ZOOT: Uh, they have a basic medical training, yes.', 'GALAHAD: B-- but--', 'ZOOT: Oh, come, come.  You must try to rest.  Doctor Piglet!  Doctor Winston!  Practice your art.', 'WINSTON: Try to relax.', \"GALAHAD: Are you sure that's absolutely necessary?\", 'PIGLET: We must examine you.', \"GALAHAD: There's nothing wrong with that!\", 'PIGLET: Please.  We are doctors.', 'GALAHAD: Look!  This cannot be.  I am sworn to chastity.', 'PIGLET: Back to your bed!  At once!', 'GALAHAD: Torment me no longer.  I have seen the Grail!', \"PIGLET: There's no grail here.\", 'GALAHAD: I have seen it!  I have seen it! [clank] I have seen--', 'GIRLS: Hello.', 'GALAHAD: Oh.', 'GIRLS: Hello.  Hello.  Hello.  Hello.  Hello.  Hello.  Hello.  Hello.  Hello.  Hello.  Hello.  Hello.  Hello.  Hello.  Hello.  Hello.  Hello.  Hello.  Hello.  Hello.  Hello.  Hello.  Hello.', 'GALAHAD: Zoot!', \"DINGO: No, I am Zoot's identical twin sister, Dingo.\", 'GALAHAD: Oh, well, excuse me, I--', 'DINGO: Where are you going?', 'GALAHAD: I seek the Grail!  I have seen it, here in this castle!', 'DINGO: Oh no.  Oh, no!  Bad, bad Zoot!', 'GALAHAD: Well, what is it?', \"DINGO: Oh, wicked, bad, naughty Zoot!  She has been setting alight to our beacon, which, I have just remembered, is grail-shaped.  It's not the first time we've had this problem.\", \"GALAHAD: It's not the real Grail?\", \"DINGO: Oh, wicked, bad, naughty, evil Zoot!  She is a bad person and must pay the penalty.  Do you think this scene should have been cut?  We were so worried when the boys were writing it, but now, we're glad.  It's better than some of the previous scenes, I think.\", 'LEFT HEAD: At least ours was better visually.', \"DENNIS: Well, at least ours was committed.  It wasn't just a string of pussy jokes.\", 'OLD MAN: Get on with it.', 'TIM THE ENCHANTER: Yes, get on with it!', 'ARMY OF KNIGHTS: Yes, get on with it!', 'DINGO: Oh, I am enjoying this scene.', 'GOD: Get on with it!', 'DINGO: [sigh] Oh, wicked, wicked Zoot.  Oh, she is a naughty person, and she must pay the penalty.  And here in Castle Anthrax, we have but one punishment for setting alight the grail-shaped beacon.  You must tie her down on a bed and spank her.', 'GIRLS: A spanking!  A spanking!', 'DINGO: You must spank her well.  And after you have spanked her, you may deal with her as you like.  And then, spank me.', 'AMAZING: And spank me.', 'STUNNER: And me.', 'LOVELY: And me.', 'DINGO: Yes, yes, you must give us all a good spanking!', 'GIRLS: A spanking!  A spanking!  There is going to be a spanking tonight!', 'DINGO: And after the spanking, the oral sex.', 'GIRLS: The oral sex!  The oral sex!', 'GALAHAD: Well, I could stay a bit longer.', 'LAUNCELOT: Sir Galahad!', 'GALAHAD: Oh, hello.', 'LAUNCELOT: Quick!', 'GALAHAD: What?', 'LAUNCELOT: Quick!', 'GALAHAD: Why?', 'LAUNCELOT: You are in great peril!', \"DINGO: No he isn't.\", 'LAUNCELOT: Silence, foul temptress!', \"GALAHAD: You know, she's got a point.\", 'LAUNCELOT: Come on!  We will cover your escape!', \"GALAHAD: Look, I'm fine!\", 'LAUNCELOT: Come on!', 'GIRLS: Sir Galahad!', 'GALAHAD: No.  Look, I can tackle this lot single-handed!', 'DINGO: Yes!  Let him tackle us single-handed!', 'GIRLS: Yes!  Let him tackle us single-handed!', 'LAUNCELOT: No, Sir Galahad.  Come on!', 'GALAHAD: No!  Really!  Honestly, I can cope.  I can handle this lot easily.', 'DINGO: Oh, yes.  Let him handle us easily.', 'GIRLS: Yes.  Let him handle us easily.', 'LAUNCELOT: No.  Quick!  Quick!', \"GALAHAD: Please!  I can defeat them!  There's only a hundred-and-fifty of them!\", \"DINGO: Yes, yes!  He will beat us easily!  We haven't a chance.\", \"GIRLS: We haven't a chance.  He will beat us easily... [boom] \", 'DINGO: Oh, shit.', 'LAUNCELOT: We were in the nick of time.  You were in great peril.', \"GALAHAD: I don't think I was.\", 'LAUNCELOT: Yes you were.  You were in terrible peril.', 'GALAHAD: Look, let me go back in there and face the peril.', \"LAUNCELOT: No, it's too perilous.\", \"GALAHAD: Look, it's my duty as a knight to sample as much peril as I can.\", \"LAUNCELOT: No, we've got to find the Holy Grail.  Come on!\", 'GALAHAD: Oh, let me have just a little bit of peril?', \"LAUNCELOT: No.  It's unhealthy.\", \"GALAHAD: I bet you're gay.\", \"LAUNCELOT: No I'm not\", \"NARRATOR: Sir Launcelot had saved Sir Galahad from almost certain temptation, but they were still no nearer the Grail.  Meanwhile, King Arthur and Sir Bedevere, not more than a swallow's flight away, had discovered something.  Oh, that's an unladen swallow's flight, obviously.  I mean, they were more than two laden swallows' flights away-- four, really, if they had a coconut on a line between them.  I mean, if the birds were walking and dragging--\", 'CROWD: Get on with it!', \"NARRATOR: Oh, anyway.  On to scene twenty-four, which is a smashing scene with some lovely acting, in which Arthur discovers a vital clue, and in which there aren't any swallows, although I think you can hear a starling-- oooh\", 'SCENE 12:', 'OLD MAN: Heh, hee ha ha hee hee!  Hee hee hee ha ha ha...', 'ARTHUR: And this enchanter of whom you speak, he has seen the Grail?', 'OLD MAN: ... Ha ha ha ha!  Heh, hee ha ha hee!  Ha hee ha!  Ha ha ha ha...', 'ARTHUR: Where does he live?', 'OLD MAN: ... Heh heh heh heh...', 'ARTHUR: Old man, where does he live?', 'OLD MAN: ... Hee ha ha ha.  He knows of a cave, a cave which no man has entered.', 'ARTHUR: And the Grail.  The Grail is there?', 'OLD MAN: There is much danger, for beyond the cave lies the Gorge of Eternal Peril, which no man has ever crossed.', 'ARTHUR: But the Grail!  Where is the Grail?!', 'OLD MAN: Seek you the Bridge of Death.', 'ARTHUR: The Bridge of Death, which leads to the Grail?', 'OLD MAN: Heh, hee hee hee hee!  Ha ha ha ha ha!  Hee ha ha..', 'SCENE 13: [spooky music] [music stops] ', 'HEAD KNIGHT OF NI: Ni!', 'KNIGHTS OF NI: Ni!  Ni!  Ni!  Ni!  Ni!', 'ARTHUR: Who are you?', \"HEAD KNIGHT: We are the Knights Who Say...  'Ni'!\", 'RANDOM: Ni!', \"ARTHUR: No!  Not the Knights Who Say 'Ni'!\", 'HEAD KNIGHT: The same!', 'BEDEVERE: Who are they?', 'HEAD KNIGHT: We are the keepers of the sacred words: Ni, Peng, and Neee-wom!', 'RANDOM: Neee-wom!', 'ARTHUR: Those who hear them seldom live to tell the tale!', \"HEAD KNIGHT: The Knights Who Say 'Ni' demand a sacrifice!\", 'ARTHUR: Knights of Ni, we are but simple travellers who seek the enchanter who lives beyond these woods.', 'HEAD KNIGHT: Ni!', 'KNIGHTS OF NI: Ni!  Ni!  Ni!  Ni!  Ni! ...', 'ARTHUR: Ow!  Ow!  Ow!  Agh!', \"HEAD KNIGHT: We shall say 'ni' again to you if you do not appease us.\", 'ARTHUR: Well, what is it you want?', 'HEAD KNIGHT: We want...  a shrubbery! [dramatic chord] ', 'ARTHUR: A what?', 'KNIGHTS OF NI: Ni!  Ni!  Ni!  Ni!', 'ARTHUR and PARTY: Ow!  Oh!', 'ARTHUR: Please, please!  No more!  We will find you a shrubbery.', 'HEAD KNIGHT: You must return here with a shrubbery or else you will never pass through this wood alive!', 'ARTHUR: O Knights of Ni, you are just and fair, and we will return with a shrubbery.', 'HEAD KNIGHT: One that looks nice.', 'ARTHUR: Of course.', 'HEAD KNIGHT: And not too expensive.', 'ARTHUR: Yes.', 'HEAD KNIGHT: Now...  go [trumpets] ', 'CARTOON CHARACTER: Hmm hmm-- [boom] Oh!  Great scott!  Hm.  Hmm. [boom] Hm!  Hmm.  [mumble mumble mumble] [boom] [mumble mumble mumble] [boom] [mumble mumble mumble] [boom] [mumble mumble mumble] [boom] [mumble mumble mumble] [boom] [mumble mumble mumble] [boom] [mumble mumble mumble] [boom] [mumble mumble mumble] [boom] Ohh! [crash] [mumble mumble mumble] [boom] ', 'SUN: Ay, up!  Thsss. [boom] Ayy, up! [boom] Thsss. [boom] Ayy, up!', 'CARTOON CHARACTER: Stop that!  Stop that! [boom] ', 'SUN: Ay, up!', 'CARTOON CHARACTER: Stop that! [boom] Look on!  Clear off!  Go on!  Go away!  Go away!  Go away!  And you!  Clear off!  [sniff] ', 'SUN: [mumble mumble mumble] [bells] ', 'CARTOON CHARACTER: Hah.  Bloody weather', 'SCENE 14:', 'NARRATOR: The Tale of Sir Launcelot.', 'FATHER: One day, lad, all this will be yours!', 'PRINCE HERBERT: What, the curtains?', \"FATHER: No.  Not the curtains, lad.  All that you can see, stretched out over the hills and valleys of this land!  This'll be your kingdom, lad.\", 'HERBERT: But Mother--', 'FATHER: Father, lad.  Father.', \"HERBERT: B-- b-- but Father, I don't want any of that.\", \"FATHER: Listen, lad.  I built this kingdom up from nothing.  When I started here, all there was was swamp.  Other kings said I was daft to build a castle on a swamp, but I built it all the same, just to show 'em.  It sank into the swamp.  So, I built a second one.  That sank into the swamp.  So I built a third one.  That burned down, fell over, then sank into the swamp.  But the fourth one...  stayed up!  And that's what you're gonna get, lad: the strongest castle in these islands.\", \"HERBERT: But I don't want any of that.  I'd rather--\", 'FATHER: Rather what?!', \"HERBERT: I'd rather... [music] ... just...  sing!\", \"FATHER: Stop that!  Stop that!  You're not going into a song while I'm here.  Now listen, lad.  In twenty minutes you're getting married to a girl whose father owns the biggest tracts of open land in Britain.\", \"HERBERT: B-- but I don't want land.\", 'FATHER: Listen, Alice,--', 'HERBERT: Herbert.', \"FATHER: 'Erbert.  We live in a bloody swamp.  We need all the land we can get.\", \"HERBERT: But-- but I don't like her.\", \"FATHER: Don't like her?!  What's wrong with her?!  She's beautiful.  She's rich.  She's got huge...  tracts o' land.\", 'HERBERT: I know, but I want the-- the girl that I marry to have...  [music] ... a certain...  special...  something!', \"FATHER: Cut that out!  Cut that out!  Look, you're marrying Princess Lucky, so you'd better get used to the idea! [smack] Guards!  Make sure the Prince doesn't leave this room until I come and get him.\", 'GUARD #1: Not to leave the room even if you come and get him.', 'GUARD #2: Hic!', 'FATHER: No, no.  Until I come and get him.', \"GUARD #1: Until you come and get him, we're not to enter the room.\", \"FATHER: No, no.  No.  You stay in the room and make sure he doesn't leave.\", \"GUARD #1: And you'll come and get him.\", 'GUARD #2: Hic!', 'FATHER: Right.', \"GUARD #1: We don't need to do anything, apart from just stop him entering the room.\", 'FATHER: No, no.  Leaving the room.', 'GUARD #1: Leaving the room.  Yes. [sniff] ', 'FATHER: All right?', 'GUARD #1: Right.', 'GUARD #2: Hic!', 'FATHER: Right.', 'GUARD #1: Oh, if-- if-- if-- uhh-- if-- if-- w-- ehh-- i-- if-- if we--', 'FATHER: Yes?  What is it?', 'GUARD #1: Oh, i-- if-- i-- oh--', \"FATHER: Look, it's quite simple.\", 'GUARD #1: Uh...', \"FATHER: You just stay here, and make sure 'e doesn't leave the room.  Alright?\", 'GUARD #2: Hic!', 'FATHER: Right.', 'GUARD #1: Oh, I remember.  Uhh, can he leave the room with us?', 'FATHER: N-- no no.  No.  You just keep him in here, and make sure he--', \"GUARD #1: Oh, yes.  We'll keep him in here, obviously.  But if he had to leave and we were with him--\", 'FATHER: No, no, no, no.  Just keep him in here--', 'GUARD #1: Until you, or anyone else--', 'FATHER: No, not anyone else.  Just me.', 'GUARD #1: Just you.', 'GUARD #2: Hic!', 'FATHER: Get back.', 'GUARD #1: Get back.', 'FATHER: All right?', \"GUARD #1: Right.  We'll stay here until you get back.\", 'GUARD #2: Hic!', \"FATHER: And, uh, make sure he doesn't leave.\", 'GUARD #1: What?', \"FATHER: Make sure 'e doesn't leave.\", 'GUARD #1: The Prince?', \"FATHER: Yes.  Make sure 'e doesn't leave.\", 'GUARD #1: Oh, yes, of course.  ', 'GUARD #2: Hic!', \"GUARD #1: Ah.  I thought you meant him.  You know, it seemed a bit daft me havin' to guard him when he's a guard.\", 'FATHER: Is that clear?', 'GUARD #2: Hic!', 'GUARD #1: Oh, quite clear.  No problems.', 'FATHER: Right.  Where are you going?', \"GUARD #1: We're coming with you.\", \"FATHER: No, no.  I want you to stay here and make sure 'e doesn't leave.\", 'GUARD #1: Oh, I see.  Right.', 'HERBERT: But Father!', 'FATHER: Shut your noise, you!  And get that suit on! [music] And no singing!', 'GUARD #2: Hic!', 'FATHER: Oh, go and get a glass of water. [clank] [scribble scribble scribble fold fold] [twong]', 'SCENE 15:', 'LAUNCELOT: Well taken, Concorde!', 'CONCORDE: Thank you, sir!  Most kind.', 'LAUNCELOT: And again!  Over we go!  Good.  Steady!  And now, the big one!  Uuh!  Come on, Concorde! [thwonk] ', 'CONCORDE: Message for you, sir. [fwump] ', \"LAUNCELOT: Concorde!  Concorde!  Speak to me!  'To whoever finds this note: I have been imprisoned by my father, who wishes me to marry against my will.  Please, please, please come and rescue me.  I am in the Tall Tower of Swamp Castle.' At last!  A call!  A cry of distress!  This could be the sign that leads us to the Holy Grail!  Brave, brave Concorde, you shall not have died in vain!\", \"CONCORDE: Uh, I'm-- I'm not quite dead, sir.\", 'LAUNCELOT: Well, you shall not have been mortally wounded in vain!', 'CONCORDE: I-- I-- I think I c-- I could pull through, sir.', 'LAUNCELOT: Oh, I see.', \"CONCORDE: Actually, I think I'm all right to come with you, sir--\", 'LAUNCELOT: No, no, sweet Concorde!  Stay here!  I will send help as soon as I have accomplished a daring and heroic rescue in my own particular...  [sigh] ', 'CONCORDE: Idiom, sir?', 'LAUNCELOT: Idiom!', 'CONCORDE: No, I feel fine, actually, sir.', 'LAUNCELOT: Farewell, sweet Concorde!', \"CONCORDE: I'll, um, I'll just stay here then.  Shall I, sir?  Yeah\", 'SCENE 16: [inside castle] ', 'PRINCESS LUCKY and GIRLS: [giggle giggle giggle] [outside castle] ', \"GUEST: 'Morning!\", \"SENTRY #1: 'Morning.\", 'SENTRY #2: Oooh.', 'SENTRY #1: [ptoo] ', 'LAUNCELOT: Ha ha!  Hiyya!', 'SENTRY #2: Hey!', 'LAUNCELOT: Hiyya!, Ha!, etc.', 'PRINCESS LUCKY and GIRLS: [giggle giggle giggle] ', 'LAUNCELOT: Ha ha!  Huy!', 'GUESTS: Uuh!  Aaah!', 'LAUNCELOT: Ha ha!  And take this!  Aah!  Hiyah!  Aah!  Aaah!  Hyy!  Hya!  Hiyya!  Ha! ...', \"GUARD #1: Now, you're not allowed to enter the room-- aaugh!\", \"LAUNCELOT: O fair one, behold your humble servant Sir Launcelot of Camelot.  I have come to take y-- Oh, I'm terribly sorry.\", 'HERBERT: You got my note!', 'LAUNCELOT: Uh, well, I-- I got a-- a note.', \"HERBERT: You've come to rescue me!\", \"LAUNCELOT: Uh, well, no.  You see, I hadn't--\", 'HERBERT: I knew someone would.  I knew that somewhere out there...  [music] ', 'LAUNCELOT: Well, I--', 'HERBERT: ... there must be...  someone...', 'FATHER: Stop that!  Stop that!  Stop it!  Stop it!  Who are you?', \"HERBERT: I'm your son!\", 'FATHER: No, not you.', 'LAUNCELOT: Uh, I am Sir Launcelot, sir.', \"HERBERT: He's come to rescue me, Father.\", \"LAUNCELOT: Well, let's not jump to conclusions.\", 'FATHER: Did you kill all those guards?', 'LAUNCELOT: Uh...  Oh, yes.  Sorry.', 'FATHER: They cost fifty pounds each!', \"LAUNCELOT: Well, I'm awfully sorry.  Um, I really can explain everything.\", \"HERBERT: Don't be afraid of him, Sir Launcelot.  I've got a rope all ready.\", 'FATHER: You killed eight wedding guests in all!', 'LAUNCELOT: Well, uh, you see, the thing is, I thought your son was a lady.', 'FATHER: I can understand that.', 'HERBERT: Hurry, Sir Launcelot!  Hurry!', \"FATHER: Shut up!  You only killed the bride's father, that's all!\", \"LAUNCELOT: Well, I really didn't mean to...\", \"FATHER: Didn't mean to?!  You put your sword right through his head!\", 'LAUNCELOT: Oh, dear.  Is he all right?', 'FATHER: You even kicked the bride in the chest!  This is going to cost me a fortune!', 'LAUNCELOT: Well, I can explain.  I was in the forest, um, riding north from Camelot, when I got this note, you see--', 'FATHER: Camelot?  Are you from, uh, Camelot?', 'HERBERT: Hurry, Sir Launcelot!', 'LAUNCELOT: Uh, I am a Knight of King Arthur, sir.', 'FATHER: Very nice castle, Camelot.  Uh, very good pig country...', 'LAUNCELOT: Is it?', \"HERBERT: Hurry!  I'm ready!\", 'FATHER: Would you, uh, like to come and have a drink?', \"LAUNCELOT: Well, that-- that's, uh, awfully nice of you, ...\", 'HERBERT: I am ready!', 'LAUNCELOT: ... um, I mean to be so understanding. [thonk] Um, ... [woosh] ', 'HERBERT: Oooh!', \"LAUNCELOT: ... I'm afraid when I'm in this idiom, I sometimes get a bit, uh, sort of carried away.\", \"FATHER: Oh, don't worry about that.\", 'HERBERT: Oooh! [splat] ', 'SCENE 17:', 'GUESTS: [crying] ', \"FATHER: Well, this is the main hall.  We're going to have all this knocked through, and made into one big, uh, living room.\", 'GUEST: There he is!', 'FATHER: Oh, bloody hell.', 'LAUNCELOT: Ha ha ha!  Hey!  Ha ha!', 'FATHER: Hold it!  Stop it!  Hold it!  Hold it!  Hold it!  Hold it!  Hold it!  Please!', \"LAUNCELOT: Sorry.  Sorry.  You see what I mean?  I just get carried away.  I'm really most awfully sorry.  Sorry!  Sorry, everyone.\", \"GUEST #1: He's killed the best man!\", 'GUESTS: [yelling] ', 'FATHER: Hold it!  Hold it!  Please!  Hold it!  This is Sir Launcelot from the Court of Camelot, a very brave and influential knight, and my special guest here today.', 'LAUNCELOT: Hello.', 'GUEST: He killed my auntie!', 'GUESTS: [yelling] ', \"FATHER: Please!  Please!  This is supposed to be a happy occasion!  Let's not bicker and argue about who killed who.  We are here today to witness the union of two young people in the joyful bond of the holy wedlock.  Unfortunately, one of them, my son Herbert, has just fallen to his death.\", 'GUESTS: Oh!  Oh no!', \"FATHER: But I don't want to think I've not lost a son, so much as...  gained a daughter! [clap clap clap] For, since the tragic death of her father--\", \"GUEST #2: He's not quite dead!\", 'FATHER: Since the near fatal wounding of her father--', \"GUEST #2: He's getting better!\", 'FATHER: For, since her own father, who, when he seemed about to recover, suddenly felt the icy hand of death upon him.', \"BRIDE'S FATHER: Uugh!\", \"GUEST #2: Oh, he's died!\", 'FATHER: And I want his only daughter to look upon me as her old dad, in a very real, and legally binding sense. [clap clap clap] And I feel sure that the merger-- er, the union between the Princess and the brave, but dangerous, Sir Launcelot of Camelot--', 'LAUNCELOT: What?', 'GUEST #2: Look!  The dead Prince!', 'GUESTS: Oooh!  The dead Prince!', \"CONCORDE: He's not quite dead.\", 'HERBERT: No, I feel much better.', 'FATHER: You fell out of the Tall Tower, you creep!', 'HERBERT: No, I was saved at the last minute.', 'FATHER: How?!', \"HERBERT: Well, I'll tell you. [music] \", 'FATHER: Not like that!  Not like that!  No!  Stop it!', \"GUESTS: [singing] He's going to tell!  He's going to tell! ...\", 'FATHER: Shut uuup!', \"GUESTS: [singing] He's going to tell! ...\", 'FATHER: Shut up!', \"GUESTS: [singing] He's going to tell! ...\", 'FATHER: Shut up!', \"GUESTS: [singing] He's going to tell! ...\", 'FATHER: Not like that!', \"GUESTS: [singing] He's going to tell!  He's going to tell!  He's going to tell!  He's going to tell! ...\", 'CONCORDE: Quickly, sir!', \"GUESTS: [singing] He's going to tell! ...\", 'CONCORDE: Come this way!', \"GUESTS: [singing] He's going to tell!  He's going to tell! ...\", \"LAUNCELOT: No!  It's not right for my idiom!\", \"GUESTS: [singing] He's going to tell about his great escape...\", 'LAUNCELOT: I must escape more...  [sigh] ', 'GUESTS: [singing] Oh, he fell a long, long way...', 'CONCORDE: Dramatically, sir?', 'LAUNCELOT: Dramatically!', \"GUESTS: [singing] But he's here with us today...\", 'LAUNCELOT: Heee!  Hoa! [crash] Hoo!', 'GUESTS: [singing] What a wonderful escape!', 'LAUNCELOT: Excuse me.  Could, uh-- could somebody give me a push, please', 'SCENE 18: [King Arthur music] [clop clop clop] [rewr!  rewr!  rewr!  rewr!  rewr!  rewr!] ', 'ARTHUR: Old crone! [rewr!] [music stops] Is there anywhere in this town where we could buy a shrubbery? [dramatic chord] ', 'OLD CRONE: Who sent you?', \"ARTHUR: The Knights Who Say 'Ni'.\", 'CRONE: Aggh!  No!  Never!  We have no shrubberies here.', \"ARTHUR: If you do not tell us where we can buy a shrubbery, my friend and I will say...  we will say...  'ni'.\", 'CRONE: Agh!  Do your worst!', 'ARTHUR: Very well!  If you will not assist us voluntarily, ...  ni!', 'CRONE: No!  Never!  No shrubberies!', 'ARTHUR: Ni!', 'CRONE: [cough] ', 'BEDEVERE: Nu!', 'ARTHUR: No, no, no, no...', 'BEDEVERE: Nu!', \"ARTHUR: No, it's not that, it's 'ni'.\", 'BEDEVERE: Nu!', \"ARTHUR: No, no-- 'ni'.  You're not doing it properly.  No.\", 'BEDEVERE: Ni!', 'ARTHUR and BEDEVERE: Ni!', \"ARTHUR: That's it.  That's it.  You've got it.\", 'ARTHUR and BEDEVERE: Ni!', 'CRONE: Ohh!', 'BEDEVERE: Ni!', 'ARTHUR: Ni!', 'CRONE: Agh!', 'BEDEVERE: Ni!', 'ARTHUR: Ni!', 'BEDEVERE: Ni!', 'ARTHUR: Ni!', 'BEDEVERE: Ni!', \"ROGER THE SHRUBBER: Are you saying 'ni' to that old woman?\", 'ARTHUR: Erm, yes.', \"ROGER: Oh, what sad times are these when passing ruffians can 'ni' at will to old ladies.  There is a pestilence upon this land.  Nothing is sacred. Even those who arrange and design shrubberies are under considerable economic stress at this period in history.\", \"ARTHUR: Did you say 'shrubberies'?\", 'ROGER: Yes.  Shrubberies are my trade.  I am a shrubber.  My name is Roger the Shrubber.  I arrange, design, and sell shrubberies.', 'BEDEVERE: Ni!', 'ARTHUR: No!  No, no, no!  No', 'SCENE 19:', 'ARTHUR: O Knights of Ni, we have brought you your shrubbery.  May we go now?', 'HEAD KNIGHT: It is a good shrubbery.  I like the laurels particularly.  But there is one small problem.', 'ARTHUR: What is that?', \"HEAD KNIGHT: We are now...  no longer the Knights Who Say 'Ni'.\", 'KNIGHTS OF NI: Ni!  Shh!', \"HEAD KNIGHT: Shh!  We are now the Knights Who Say 'Ecky-ecky-ecky-ecky-pikang-zoop-boing-goodem-zoo-owli-zhiv'.\", 'RANDOM: Ni!', 'HEAD KNIGHT: Therefore, we must give you a test.', \"ARTHUR: What is this test, O Knights of-- Knights Who 'Til Recently Said 'Ni'?\", 'HEAD KNIGHT: Firstly, you must find...  another shrubbery! [dramatic chord] ', 'ARTHUR: Not another shrubbery!', 'RANDOM: Ni!', 'HEAD KNIGHT: Then, when you have found the shrubbery, you must place it here beside this shrubbery, only slightly higher so you get the two-level effect with a little path running down the middle.', 'KNIGHTS OF NI: A path!  A path!  A path!  Ni!  Shh!  Ni!  Ni!  Ni!  Shh!  Shh! ...', 'HEAD KNIGHT: Then, when you have found the shrubbery, you must cut down the mightiest tree in the forest...  with...  a herring! [dramatic chord] ', 'ARTHUR: We shall do no such thing!', 'HEAD KNIGHT: Oh, please!', \"ARTHUR: Cut down a tree with a herring?  It can't be done.\", 'KNIGHTS OF NI: Aaaugh!  Aaaugh!', \"HEAD KNIGHT: Augh!  Ohh!  Don't say that word.\", 'ARTHUR: What word?', 'HEAD KNIGHT: I cannot tell, suffice to say is one of the words the Knights of Ni cannot hear.', \"ARTHUR: How can we not say the word if you don't tell us what it is?\", 'KNIGHTS OF NI: Aaaaugh!', 'HEAD KNIGHT: You said it again!', \"ARTHUR: What, 'is'?\", \"KNIGHTS OF NI: Agh!  No, not 'is'.\", \"HEAD KNIGHT: No, not 'is'.  You wouldn't get vary far in life not saying 'is'.\", \"KNIGHTS OF NI: No, not 'is'.  Not 'is'.\", \"BEDEVERE: My liege, it's Sir Robin!\", 'MINSTREL: [singing] Packing it in and packing it up, And sneaking away and buggering up, And chickening out and pissing off home, Yes, bravely he is throwing in the sponge.', 'ARTHUR: Sir Robin!', \"ROBIN: My liege!  It's good to see you.\", \"HEAD KNIGHT: Now he's said the word!  \", \"ARTHUR: Surely you've not given up your quest for the Holy Grail?\", 'MINSTREL: [singing] He is sneaking away and buggering up--', 'ROBIN: Shut up!  No, no.  No.  Far from it.', 'HEAD KNIGHT: He said the word again!', 'KNIGHTS OF NI: Aaaaugh!', 'ROBIN: I was looking for it.', 'KNIGHTS OF NI: Aaaaugh!', 'ROBIN: Uh, here-- here in this forest.', 'ARTHUR: No, it is far from this place.', 'KNIGHTS OF NI: Aaaaugh!', 'HEAD KNIGHT: Aaaaugh!  Stop saying the word!  The word...', 'ARTHUR: Oh, stop it!', 'KNIGHTS OF NI: ... we cannot hear!', 'HEAD KNIGHT: Ow!  He said it again!', 'ARTHUR: Patsy!', \"HEAD KNIGHT: Wait!  I said it!  I said it! [clop clop clop] Ooh!  I said it again!  And there again!  That's three 'it's!  Ohh!\", 'KNIGHTS OF NI: Aaaaugh', 'NARRATOR: And so, Arthur and Bedevere and Sir Robin set out on their search to find the enchanter of whom the old man had spoken in scene twenty-four.  Beyond the forest they met Launcelot and Galahad, and there was much rejoicing.', 'KNIGHTS: Yay!  Yay! [woosh] ', \"NARRATOR: In the frozen land of Nador, they were forced to eat Robin's minstrels.\", 'MINSTREL: [high-pitched] Get back!  Eee!', 'NARRATOR: And there was much rejoicing.', 'KNIGHTS: Yay!', 'NARRATOR: A year passed.', 'CARTOON CHARACTER: [shivering] ', 'NARRATOR: Winter changed into Spring.', 'CARTOON CHARACTER: Mmm, nice.', 'NARRATOR: Spring changed into Summer.', 'CARTOON CHARACTER: Oh.  Ahh.', 'NARRATOR: Summer changed back into Winter.', 'CARTOON CHARACTER: Oh?', 'NARRATOR: And Winter gave Spring and Summer a miss and went straight on into Autumn.', 'CARTOON CHARACTER: Aah. [snap] Oh!  Waa!', 'NARRATOR: Until one day..', 'SCENE 20: [King Arthur music] [clop clop clop] [music stops] [boom] ', 'KNIGHTS: Eh.  Oh.  See it?  Oh.  Oh.', 'ARTHUR: Knights!  Forward! [boom boom boom boom boom] [squeak] [boom boom boom boom] What manner of man are you that can summon up fire without flint or tinder?', 'TIM THE ENCHANTER: I...  am an enchanter.', 'ARTHUR: By what name are you known?', 'TIM: There are some who call me...  Tim?', 'ARTHUR: Greetings, Tim the Enchanter.', 'TIM: Greetings, King Arthur!', 'ARTHUR: You know my name?', 'TIM: I do. [zoosh] You seek the Holy Grail!', 'ARTHUR: That is our quest.  You know much that is hidden, O Tim.', 'TIM: Quite. [pweeng boom] [clap clap clap] ', 'ROBIN: Oh.', \"ARTHUR: Yes, we're-- we're looking for the Holy Grail.  Our quest is to find the Holy Grail.\", 'KNIGHTS: Yeah.  Yes.  It is.  It is.  Yeah.  Yup.  Yup.  Hm.', \"ARTHUR: And so we're-- we're-- we're-- we're looking for it.\", 'BEDEVERE: Yes, we are.', 'GALAHAD: Yeah.  ', 'ROBIN: We are.  We are.', 'BEDEVERE: We have been for some time.', 'ROBIN: Ages.', 'BEDEVERE: Umhm.', 'ARTHUR: Uh-- uh, so, uh, anything that you could do to, uh-- to help, would be...  very...  helpful.', 'GALAHAD: Look, can you tell us where-- [boom] ', \"ARTHUR: Fine.  Um, I don't want to waste any more of your time, but, uh, I don't suppose you could, uh, tell us where we might find a, um-- find a, uh-- a, um-- a, uh--\", 'TIM: A what...?', 'ARTHUR: A g-- a-- a g-- a g-- a-- a g--', 'TIM: A grail?!', 'ARTHUR: Yes, I think so.', 'ROBIN: Y-- y-- yes.', 'ARTHUR: Yes.', 'GALAHAD: Yup.', \"KNIGHTS: That's it...\", 'TIM: Yes!', 'ROBIN: Oh.', 'ARTHUR: Oh.  Thank you.', 'ROBIN: Ahh.', 'GALAHAD: Oh.  Fine.', 'ARTHUR: Thank you.', 'ROBIN: Splendid.', 'KNIGHTS: Aah... [boom pweeng boom boom] ', \"ARTHUR: Look, um, you're a busy man, uh--\", 'TIM: Yes, I can help you find the Holy Grail.', 'KNIGHTS: Oh, thank you.  Oh...', 'TIM: To the north there lies a cave-- the cave of Caerbannog-- wherein, carved in mystic runes upon the very living rock, the last words of Olfin Bedwere of Rheged... [boom] ... make plain the last resting place of the most Holy Grail.', 'ARTHUR: Where could we find this cave, O Tim?', 'TIM: Follow.  But!  Follow only if ye be men of valor, for the entrance to this cave is guarded by a creature so foul, so cruel that no man yet has fought with it and lived!  Bones of full fifty men lie strewn about its lair.  So, brave knights, if you do doubt your courage or your strength, come no further, for death awaits you all with nasty, big, pointy teeth.', 'ARTHUR: What an eccentric performance', 'SCENE 21: [clop clop clop] [whinny whinny] ', \"GALAHAD: They're nervous, sire.\", \"ARTHUR: Then we'd best leave them here and carry on on foot.  Dis-mount!\", 'TIM: Behold the cave of Caerbannog!', 'ARTHUR: Right!  Keep me covered.', 'GALAHAD: What with?', 'ARTHUR: W-- just keep me covered.', 'TIM: Too late! [dramatic chord] ', 'ARTHUR: What?', 'TIM: There he is!', 'ARTHUR: Where?', 'TIM: There!', 'ARTHUR: What, behind the rabbit?', 'TIM: It is the rabbit!', 'ARTHUR: You silly sod!', 'TIM: What?', 'ARTHUR: You got us all worked up!', \"TIM: Well, that's no ordinary rabbit.\", 'ARTHUR: Ohh.', \"TIM: That's the most foul, cruel, and bad-tempered rodent you ever set eyes on.\", 'ROBIN: You tit!  I soiled my armor I was so scared!', \"TIM: Look, that rabbit's got a vicious streak a mile wide; it's a killer!\", 'GALAHAD: Get stuffed!', \"TIM: He'll do you up a treat mate!\", 'GALAHAD: Oh, yeah?', 'ROBIN: You mangy scots git!', \"TIM: I'm warning you!\", \"ROBIN: What's he do, nibble your bum?\", \"TIM: He's got huge, sharp-- eh-- he can leap about-- look at the bones!\", 'ARTHUR: Go on, Bors.  Chop his head off!', \"BORS: Right!  Silly little bleeder.  One rabbit stew comin' right up!\", 'TIM: Look! [squeak] ', 'BORS: Aaaugh! [dramatic chord] [clunk] ', 'ARTHUR: Jesus Christ!', 'TIM: I warned you!', 'ROBIN: I done it again!', \"TIM: I warned you, but did you listen to me?  Oh, no, you knew it all, didn't you?  Oh, it's just a harmless little bunny, isn't it?  Well, it's always the same.  I always tell them--\", 'ARTHUR: Oh, shut up!', 'TIM: Do they listen to me?', 'ARTHUR: Right!', 'TIM: Oh, no...', 'KNIGHTS: Charge! [squeak squeak squeak] ', 'KNIGHTS: Aaaaugh!, Aaaugh!, etc.', 'ARTHUR: Run away!  Run away!', 'KNIGHTS: Run away!  Run away! ...', 'TIM: Ha ha ha ha!  Ha haw haw!  Ha!  Ha ha!', 'ARTHUR: Right.  How many did we lose?', 'LAUNCELOT: Gawain.', 'GALAHAD: Ector.', \"ARTHUR: And Bors.  That's five.\", 'GALAHAD: Three, sir.', \"ARTHUR: Three.  Three.  And we'd better not risk another frontal assault.  That rabbit's dynamite.\", 'ROBIN: Would it help to confuse it if we run away more?', 'ARTHUR: Oh, shut up and go and change your armor.', 'GALAHAD: Let us taunt it!  It may become so cross that it will make a mistake.', 'ARTHUR: Like what?', 'GALAHAD: Well...  ooh.', 'LAUNCELOT: Have we got bows?', 'ARTHUR: No.', 'LAUNCELOT: We have the Holy Hand Grenade.', \"ARTHUR: Yes, of course!  The Holy Hand Grenade of Antioch!  'Tis one of the sacred relics Brother Maynard carries with him!  Brother Maynard!  Bring up the Holy Hand Grenade!\", 'MONKS: [chanting] Pie Iesu domine, dona eis requiem.  Pie Iesu domine, donaeis requiem.  Pie Iesu domine, dona eis requiem.  Pie Iesu domine, dona eisrequiem.', 'ARTHUR: How does it, um-- how does it work?', 'LAUNCELOT: I know not, my liege.', 'ARTHUR: Consult the Book of Armaments!', 'BROTHER MAYNARD: Armaments, Chapter Two, verses Nine to Twenty-one.', \"SECOND BROTHER: And Saint Attila raised the hand grenade up on high, saying,'O Lord, bless this thy hand grenade that with it thou mayest blow thine enemies to tiny bits, in thy mercy.' And the Lord did grin, and the people did feast upon the lambs and sloths and carp and anchovies and orangutans and breakfast cereals and fruit bats and large chu--\", 'MAYNARD: Skip a bit, Brother.', \"SECOND BROTHER: And the Lord spake, saying, 'First shalt thou take out the Holy Pin.  Then, shalt thou count to three, no more, no less.  Three shalt be the number thou shalt count, and the number of the counting shall be three.  Four shalt thou not count, nor either count thou two, excepting that thou then proceed to three.  Five is right out.  Once the number three, being the third number, be reached, then lobbest thou thy Holy Hand Grenade of Antioch towards thy foe, who, being naughty in my sight, shall snuff it.'\", 'MAYNARD: Amen.', 'KNIGHTS: Amen.', 'ARTHUR: Right!  One...  two...  five!', 'GALAHAD: Three, sir!', 'ARTHUR: Three! [angels sing] [boom] ', 'SCENE 22:', 'ARTHUR: There!  Look!', 'LAUNCELOT: What does it say?', 'GALAHAD: What language is that?', 'ARTHUR: Brother Maynard!  You are a scholar.', \"MAYNARD: It's Aramaic!\", 'GALAHAD: Of course!  Joseph of Arimathea!', \"LAUNCELOT: 'Course!\", 'ARTHUR: What does it say?', \"MAYNARD: It reads, 'Here may be found the last words of Joseph of Arimathea.  He who is valiant and pure of spirit may find the Holy Grail in the Castle of uuggggggh'.\", 'ARTHUR: What?', \"MAYNARD: '...  the Castle of uuggggggh'.\", 'BEDEVERE: What is that?', 'MAYNARD: He must have died while carving it.', 'LAUNCELOT: Oh, come on!', \"MAYNARD: Well, that's what it says.\", \"ARTHUR: Look, if he was dying, he wouldn't bother to carve 'aaggggh'.  He'd just say it!\", \"MAYNARD: Well, that's what's carved in the rock!\", 'GALAHAD: Perhaps he was dictating.', 'ARTHUR: Oh, shut up.  Well, does it say anything else?', \"MAYNARD: No.  Just, 'uuggggggh'.\", 'LAUNCELOT: Aauuggghhh.', 'ARTHUR: Aaauggh.', 'BEDEVERE: Do you suppose he meant the Camaaaaaargue?', \"GALAHAD: Where's that?\", 'BEDEVERE: France, I think.', \"LAUNCELOT: Isn't there a Saint Aauuuves in Cornwall?\", \"ARTHUR: No, that's Saint Ives.\", 'LAUNCELOT: Oh, yes.  Saint Iiiives.', 'KNIGHTS: Iiiiives.', 'BEDEVERE: Oooohoohohooo!', \"LAUNCELOT: No, no.  'Aauuuuugh', at the back of the throat.  Aauuugh.\", \"BEDEVERE: N-- no.  No, no, no, no.  'Oooooooh', in surprise and alarm.\", \"LAUNCELOT: Oh, you mean sort of a 'aaaah'!\", 'BEDEVERE: Yes, but I-- aaaaaah!', 'ARTHUR: Oooh!', 'GALAHAD: My God! [dramatic chord] [roar] ', \"MAYNARD: It's the legendary Black Beast of Aaauugh! [Black Beast of Aaauugh eats BROTHER MAYNARD] \", \"BEDEVERE: That's it!  That's it!\", 'ARTHUR: Run away!', 'KNIGHTS: Run away! [roar] Run away!  Run awaaay!  Run awaaaaay! [roar] Keep running! [boom] [roar] Shh!  Shh!  Shh!  Shh!  Shh!  Shh!  Shh!  Shh! ...', \"BEDEVERE: We've lost him. [roar] \", 'KNIGHTS: Aagh!', 'NARRATOR: As the horrendous Black Beast lunged forward, escape for Arthur and his knights seemed hopeless, when suddenly, the animator suffered a fatal heart attack.', 'ANIMATOR: Ulk! [thump] ', 'NARRATOR: The cartoon peril was no more.  The quest for Holy Grail could continue.', 'SCENE 23: [gurgle] ', 'GALAHAD: There it is!', 'ARTHUR: The Bridge of Death!', 'ROBIN: Oh, great.', \"ARTHUR: Look!  There's the old man from scene twenty-four!\", 'BEDEVERE: What is he doing here?', 'ARTHUR: He is the keeper of the Bridge of Death.  He asks each traveller five questions--', 'GALAHAD: Three questions.', 'ARTHUR: Three questions.  He who answers the five questions--', 'GALAHAD: Three questions.', 'ARTHUR: Three questions may cross in safety.', 'ROBIN: What if you get a question wrong?', 'ARTHUR: Then you are cast into the Gorge of Eternal Peril.', \"ROBIN: Oh, I won't go.\", \"GALAHAD: Who's going to answer the questions?\", 'ARTHUR: Sir Robin!', 'ROBIN: Yes?', 'ARTHUR: Brave Sir Robin, you go.', \"ROBIN: Hey!  I've got a great idea.  Why doesn't Launcelot go?\", 'LAUNCELOT: Yes.  Let me go, my liege.  I will take him single-handed.  I shall make a feint to the north-east that s--', 'ARTHUR: No, no.  No.  Hang on!  Hang on!  Hang on!  Just answer the five questions--', 'GALAHAD: Three questions.', 'ARTHUR: Three questions as best you can.  And we shall watch...  and pray.', 'LAUNCELOT: I understand, my liege.', 'ARTHUR: Good luck, brave Sir Launcelot.  God be with you.', 'BRIDGEKEEPER: Stop!  Who would cross the Bridge of Death must answer me these questions three, ere the other side he see.', 'LAUNCELOT: Ask me the questions, bridgekeeper.  I am not afraid.', 'BRIDGEKEEPER: What is your name?', 'LAUNCELOT: My name is Sir Launcelot of Camelot.', 'BRIDGEKEEPER: What is your quest?', 'LAUNCELOT: To seek the Holy Grail.', 'BRIDGEKEEPER: What is your favorite color?', 'LAUNCELOT: Blue.', 'BRIDGEKEEPER: Right.  Off you go.', 'LAUNCELOT: Oh, thank you.  Thank you very much.', \"ROBIN: That's easy!\", 'BRIDGEKEEPER: Stop!  Who approacheth the Bridge of Death must answer me these questions three, ere the other side he see.', \"ROBIN: Ask me the questions, bridgekeeper.  I'm not afraid.\", 'BRIDGEKEEPER: What is your name?', 'ROBIN: Sir Robin of Camelot.', 'BRIDGEKEEPER: What is your quest?', 'ROBIN: To seek the Holy Grail.', 'BRIDGEKEEPER: What is the capital of Assyria?', \"ROBIN: I don't know that!  Auuuuuuuugh!\", 'BRIDGEKEEPER: Stop!  What is your name?', 'GALAHAD: Sir Galahad of Camelot.', 'BRIDGEKEEPER: What is your quest?', 'GALAHAD: I seek the Grail.', 'BRIDGEKEEPER: What is your favorite color?', 'GALAHAD: Blue.  No yel-- auuuuuuuugh!', 'BRIDGEKEEPER: Hee hee heh.  Stop!  What is your name?', 'ARTHUR: It is Arthur, King of the Britons.', 'BRIDGEKEEPER: What is your quest?', 'ARTHUR: To seek the Holy Grail.', 'BRIDGEKEEPER: What is the air-speed velocity of an unladen swallow?', 'ARTHUR: What do you mean?  An African or European swallow?', \"BRIDGEKEEPER: Huh?  I-- I don't know that!  Auuuuuuuugh!\", 'BEDEVERE: How do know so much about swallows?', \"ARTHUR: Well, you have to know these things when you're a king, you know. [suspenseful music] [music suddenly stops] [intermission] [suspenseful music resumes]\", 'SCENE 24:', 'ARTHUR: Launcelot!  Launcelot!  Launcelot!', 'BEDEVERE: Launcelot!  Launcelot!', 'ARTHUR: Launcelot! [police radio] Launcelot!', 'BEDEVERE: Launcelot!  Launcelot! [angels sing] [singing stops] [ethereal music] ', 'ARTHUR: The Castle Aaagh.  Our quest is at an end!  God be praised!  Almighty God, we thank Thee that Thou hast vouchsafed to us the most holy-- [twong] [baaaa] Jesus Christ! [thud] ', 'FRENCH GUARD: Allo, dappy English k-niggets and Monsieur Arthur King, who has the brain of a duck, you know.  So, we French fellows outwit you a second time!', 'ARTHUR: How dare you profane this place with your presence!  I command you, in the name of the Knights of Camelot, to open the doors of this sacred castle, to which God Himself has guided us!', \"FRENCH GUARD: How you English say, 'I one more time, mac, unclog my nose in your direction', sons of a window-dresser!  So, you think you could out-clever us French folk with your silly knees-bent running about advancing behaviour?!  I wave my private parts at your aunties, you cheesy lot of second hand electric donkey-bottom biters.\", 'ARTHUR: In the name of the Lord, we demand entrance to this sacred castle!', \"FRENCH GUARD: No chance, English bed-wetting types.  I burst my pimples at you and call your door-opening request a silly thing, you tiny-brained wipers of other people's bottoms!\", 'ARTHUR: If you do not open this door, we shall take this castle by force! [splat] In the name of God and the glory of our-- [splat] ', 'FRENCH GUARDS: [laughing] ', 'ARTHUR: Agh.  Right!  That settles it!', 'FRENCH GUARD: Yes, depart a lot at this time, and cut the approaching any more or we fire arrows at the tops of your heads and make castanets out of your testicles already!  Ha ha haaa ha!', 'ARTHUR: Walk away.  Just ignore them.', \"FRENCH GUARD: And now, remain gone, illegitimate-faced bugger-folk!  And, if you think you got a nasty taunting this time, you ain't heard nothing yet, dappy English k-nnniggets!  Thpppt!\", 'FRENCH GUARDS: [taunting] ', 'ARTHUR: We shall attack at once!', 'BEDEVERE: Yes, my liege!', 'ARTHUR: Stand by for attack! [exciting music] [music stops] [silence] French persons!', 'FRENCH GUARDS: [taunting] ... Dappy! ...', 'ARTHUR: Today the blood of many a valiant knight shall be avenged.  In the name of God, ...', 'FRENCH GUARDS: Hoo hoo!  Ohh, ha ha ha ha ha! ...', \"ARTHUR: ... we shall not stop our fight 'til each one of you lies dead, and the Holy Grail returns to those whom God has chosen!\", 'FRENCH GUARDS: ... Ha ha ha! ...', 'ARTHUR: Charge!', 'ARMY OF KNIGHTS: Hooray! [police siren] ', \"HISTORIAN'S WIFE: Yes.  They're the ones.  I'm sure.\", 'INSPECTOR: Come on.  Anybody armed must go too.', 'OFFICER #1: All right.  Come on.  Back.', \"HISTORIAN'S WIFE: Get that one.\", 'OFFICER #1: Back.  Right away.  Just...  pull it off.  Come on.  Come along.', 'INSPECTOR: Put this man in the van.', 'OFFICER #1: Clear off.  Come on.', 'BEDEVERE: With whom?', 'INSPECTOR: Which one?', 'OFFICER #1: Oh-- this one.', 'INSPECTOR: Come on.  Put him in the van.', 'OFFICER #2: Get a blanket.', 'OFFICER #1: We have no hospital.', 'RANDOM: Ahh. [squeak] ', 'RANDOM: Ooh.', 'OFFICER #1: Come on.  Back.  Riiight back.  Come on!', 'OFFICER #2: Run along!  Run along!', \"OFFICER #1: Pull that off.  My, that's an offensive weapon, that is.\", \"OFFICER #2: Come on.  Back with 'em.  Back.  Right.  Come along.\", 'INSPECTOR: Everything? [squeak] ', \"OFFICER #1: All right, sonny.  That's enough.  Just pack that in. [crash] \", 'CAMERAMAN: Christ!', '']\n"
     ]
    }
   ],
   "source": [
    "# Split the script into lines: lines\n",
    "lines = holy_grail.split('\\n')\n",
    "print(lines)"
   ]
  },
  {
   "cell_type": "code",
   "execution_count": 199,
   "id": "8915bc1f",
   "metadata": {
    "scrolled": true
   },
   "outputs": [
    {
     "name": "stdout",
     "output_type": "stream",
     "text": [
      "['SCENE 1: [wind] [clop clop clop] ', ' Whoa there!  [clop clop clop] ', ' Halt!  Who goes there?', ' It is I, Arthur, son of Uther Pendragon, from the castle of Camelot.  King of the Britons, defeator of the Saxons, sovereign of all England!', ' Pull the other one!', ' I am, ...  and this is my trusty servant Patsy.  We have ridden the length and breadth of the land in search of knights who will join me in my court at Camelot.  I must speak with your lord and master.', ' What?  Ridden on a horse?', ' Yes!', \" You're using coconuts!\", ' What?', \" You've got two empty halves of coconut and you're bangin' 'em together.\", ' So?  We have ridden since the snows of winter covered this land, through the kingdom of Mercea, through--', \" Where'd you get the coconuts?\", ' We found them.', \" Found them?  In Mercea?  The coconut's tropical!\", ' What do you mean?', ' Well, this is a temperate zone.', ' The swallow may fly south with the sun or the house martin or the plover may seek warmer climes in winter, yet these are not strangers to our land?', ' Are you suggesting coconuts migrate?', ' Not at all.  They could be carried.', ' What?  A swallow carrying a coconut?', ' It could grip it by the husk!', \" It's not a question of where he grips it!  It's a simple question of weight ratios!  A five ounce bird could not carry a one pound coconut.\", \" Well, it doesn't matter.  Will you go and tell your master that Arthur from the Court of Camelot is here.\", ' Listen.  In order to maintain air-speed velocity, a swallow needs to beat its wings forty-three times every second, right?', ' Please!', ' Am I right?', \" I'm not interested!\", ' It could be carried by an African swallow!', \" Oh, yeah, an African swallow maybe, but not a European swallow.  That's my point.\", ' Oh, yeah, I agree with that.', ' Will you ask your master if he wants to join my court at Camelot?!', ' But then of course a-- African swallows are non-migratory.', ' Oh, yeah...', \" So they couldn't bring a coconut back anyway...  [clop clop clop] \", ' Wait a minute!  Supposing two swallows carried it together?', \" No, they'd have to have it on a line.\", \" Well, simple!  They'd just use a strand of creeper!\", ' What, held under the dorsal guiding feathers?', ' Well, why not?', 'SCENE 2: [thud] [clang] ', 'CART- Bring out your dead!  [clang] Bring out your dead!  [clang] Bring out your dead!  [clang] Bring out your dead!  [clang] Bring out your dead!  [cough cough...] [clang] [... cough cough] Bring out your dead!  [clang] Bring out your dead!  [clang] Bring out your dead!  Ninepence.  [clang] Bring out your dead!  [clang] Bring out your dead!  [clang] Bring out...  [rewr!] ... your dead!  [rewr!] [clang] Bring out your dead!', \" Here's one.\", 'CART- Ninepence.', \" I'm not dead!\", 'CART- What?', \" Nothing.  Here's your ninepence.\", \" I'm not dead!\", \"CART- 'Ere.  He says he's not dead!\", ' Yes he is.', \" I'm not!\", \"CART- He isn't?\", \" Well, he will be soon.  He's very ill.\", \" I'm getting better!  \", \" No you're not.  You'll be stone dead in a moment.\", \"CART- Oh, I can't take him like that.  It's against regulations.\", \" I don't want to go on the cart!\", \" Oh, don't be such a baby.\", \"CART- I can't take him.\", ' I feel fine!', ' Well, do us a favor.', \"CART- I can't.\", \" Well, can you hang around a couple of minutes?  He won't be long.\", \"CART- No, I've got to go to the Robinson's.  They've lost nine today.\", \" Well, when's your next round?\", 'CART- Thursday.', \" I think I'll go for a walk.\", \" You're not fooling anyone you know.  Look, isn't there something you can do?\", ' [singing] I feel happy...  I feel happy.  [whop] ', ' Ah, thanks very much.', 'CART- Not at all.  See you on Thursday.', \" Right.  All right.  [howl] [clop clop clop] Who's that then?\", 'CART- I dunno.  Must be a king.', ' Why?', \"CART- He hasn't got shit all over him.\", 'SCENE 3: [thud] [King Arthur music] [thud thud thud] [King Arthur music stops] ', ' Old woman!', ' Man!', ' Man.  Sorry.  What knight live in that castle over there?', \" I'm thirty-seven.\", ' I-- what?', \" I'm thirty-seven.  I'm not old.\", \" Well, I can't just call you 'Man'.\", \" Well, you could say 'Dennis'.\", \" Well, I didn't know you were called 'Dennis'.\", \" Well, you didn't bother to find out, did you?\", \" I did say 'sorry' about the 'old woman', but from the behind you looked--\", ' What I object to is that you automatically treat me like an inferior!', ' Well, I am king!', \" Oh king, eh, very nice.  And how d'you get that, eh?  By exploiting the workers!  By 'anging on to outdated imperialist dogma which perpetuates the economic and social differences in our society.  If there's ever going to be any progress with the--\", \" Dennis, there's some lovely filth down here.  Oh!  How d'you do?\", \" How do you do, good lady.  I am Arthur, King of the Britons.  Who's castle is that?\", ' King of the who?', ' The Britons.', ' Who are the Britons?', ' Well, we all are.  We are all Britons, and I am your king.', \" I didn't know we had a king.  I thought we were an autonomous collective.\", \" You're fooling yourself.  We're living in a dictatorship.  A self-perpetuating autocracy in which the working classes--\", ' Oh, there you go, bringing class into it again.', \" That's what it's all about.  If only people would hear of--\", ' Please, please good people.  I am in haste.  Who lives in that castle?', ' No one live there.', ' Then who is your lord?', \" We don't have a lord.\", ' What?', \" I told you.  We're an anarcho-syndicalist commune.  We take it in turns to act as a sort of executive officer for the week.\", ' Yes.', ' But all the decision of that officer have to be ratified at a special bi-weekly meeting--', ' Yes, I see.', ' By a simple majority in the case of purely internal affairs,--', ' Be quiet!', ' But by a two-thirds majority in the case of more major--', ' Be quiet!  I order you to be quiet!', ' Order, eh?  Who does he think he is?  Heh.', ' I am your king!', \" Well, I didn't vote for you.\", \" You don't vote for kings.\", ' Well, how did you become king then?', ' The Lady of the Lake, ... [angels sing] ... her arm clad in the purest shimmering samite, held aloft Excalibur from the bosom of the water signifying by Divine Providence that I, Arthur, was to carry Excalibur. [singing stops] That is why I am your king!', ' Listen, strange women lying in ponds distributing swords is no basis for a system of government.  Supreme executive power derives from a mandate from the masses, not from some farcical aquatic ceremony.', ' Be quiet!', \" Well, but you can't expect to wield supreme executive power just 'cause some watery tart threw a sword at you!\", ' Shut up!', \" I mean, if I went 'round saying I was an emperor just because some moistened bint had lobbed a scimitar at me, they'd put me away!\", ' Shut up, will you.  Shut up!', ' Ah, now we see the violence inherent in the system.', ' Shut up!', \" Oh!  Come and see the violence inherent in the system!  Help, help!  I'm being repressed!\", ' Bloody peasant!', \" Oh, what a give-away.  Did you hear that?  Did you hear that, eh?  That's what I'm on about.  Did you see him repressing me?  You saw it, didn't you\", 'SCENE 4: [King Arthur music] [music stops] ', ' Aaagh!  [King Arthur music] [music stops] ', ' Aaagh!', ' Ooh! [King Arthur music] [music stops] [stab] ', ' Aagh!', ' Oh! [King Arthur music] Ooh! [music stops] ', ' Aaagh! [clang] ', 'BLACK KNIGHT and  Agh!, oh!, etc.', ' Aaaaaah!  Aaaaaaaaah! [woosh] [BLACK KNIGHT kills GREEN KNIGHT] [thud] [scrape] ', ' Umm! [clop clop clop] ', ' You fight with the strength of many men, Sir Knight. [pause] I am Arthur, King of the Britons. [pause] I seek the finest and the bravest knights in the land to join me in my court at Camelot. [pause] You have proved yourself worthy.  Will you join me? [pause] You make me sad.  So be it.  Come, Patsy.', ' None shall pass.', ' What?', ' None shall pass.', ' I have no quarrel with you, good Sir Knight, but I must cross this bridge.', ' Then you shall die.', ' I command you, as King of the Britons, to stand aside!', ' I move for no man.', ' So be it!', \"ARTHUR and  Aaah!, hiyaah!, etc. [ARTHUR chops the BLACK KNIGHT's left arm off] \", ' Now stand aside, worthy adversary.', \" 'Tis but a scratch.\", \" A scratch?  Your arm's off!\", \" No, it isn't.\", \" Well, what's that then?\", \" I've had worse.\", ' You liar!', \" Come on, you pansy! [clang] Huyah! [clang] Hiyaah! [clang] Aaaaaaaah! [ARTHUR chops the BLACK KNIGHT's right arm off] \", ' Victory is mine! [kneeling] We thank Thee Lord, that in Thy mer--', ' Hah! [clunk] Come on then.', ' What?', ' Have at you! [kick] ', ' Eh.  You are indeed brave, Sir Knight, but the fight is mine.', ' Oh, had enough, eh?', \" Look, you stupid bastard.  You've got no arms left.\", ' Yes I have.', ' Look!', ' Just a flesh wound. [kick] ', ' Look, stop that.', ' Chicken! [kick] Chickennn!', \" Look, I'll have your leg. [kick] Right! [whop] [ARTHUR chops the BLACK KNIGHT's right leg off] \", \" Right.  I'll do you for that!\", \" You'll what?\", ' Come here!', ' What are you going to do, bleed on me?', \" I'm invincible!\", \" You're a looney.\", \" The Black Knight always triumphs!  Have at you!  Come on then. [whop] [ARTHUR chops the BLACK KNIGHT's last leg off] \", \" Ooh.  All right, we'll call it a draw.\", ' Come, Patsy.', \" Oh.  Oh, I see.  Running away, eh?  You yellow bastards!  Come back here and take what's coming to you.  I'll bite your legs off\", 'SCENE 5:', ' [chanting] Pie Iesu domine, dona eis requiem. [bonk] Pie Iesu domine, ... [bonk] ... dona eis requiem. [bonk] Pie Iesu domine, ... [bonk] ... dona eis requiem.', ' A witch!  A witch! [bonk] A witch!  A witch!', ' [chanting] Pie Iesu domine...', \" A witch!  A witch!  A witch!  A witch!  We've found a witch!  A witch!  A witch!  A witch!  A witch!  We've got a witch!  A witch!  A witch!  Burn her!  Burn her!  Burn her!  We've found a witch!  We've found a witch!  A witch!  A witch!  A witch!\", ' We have found a witch.  May we burn her?', ' Burn her!  Burn!  Burn her!  Burn her!', ' How do you know she is a witch?', ' She looks like one.', ' Right!  Yeah!  Yeah!', ' Bring her forward.', \" I'm not a witch.  I'm not a witch.\", ' Uh, but you are dressed as one.', ' They dressed me up like this.', \" Augh, we didn't!  We didn't...\", \" And this isn't my nose.  It's a false one.\", ' Well?', ' Well, we did do the nose.', ' The nose?', ' And the hat, but she is a witch!', ' Yeah!', ' We burn her!  Right!  Yeaaah!  Yeaah!', ' Did you dress her up like this?', ' No!', 'VILLAGER #2 and 3: No.  No.', ' No.', ' No.', 'VILLAGERS #2 and #3: No.', ' Yes.', ' Yes.', ' Yes.  Yeah, a bit.', ' A bit.', 'VILLAGERS #1 and #2: A bit.', ' A bit.', ' She has got a wart.', ' [cough] ', ' What makes you think she is a witch?', ' Well, she turned me into a newt.', ' A newt?', ' I got better.', ' Burn her anyway!', ' Burn!', ' Burn her!  Burn!  Burn her! ...', ' Quiet!  Quiet!  Quiet!  Quiet!  There are ways of telling whether she is a witch.', ' Are there?', ' Ah?', ' What are they?', ' Tell us!  Tell us! ...', ' Tell me, what do you do with witches?', ' Burn!', ' Burn!', ' Burn!  Burn them up!  Burn! ...', ' And what do you burn apart from witches?', ' More witches!', ' Shh!', ' Wood!', ' So, why do witches burn? [pause] ', \" B--...  'cause they're made of...  wood?\", ' Good!  Heh heh.', ' Oh yeah.  Oh.', ' So, how do we tell whether she is made of wood?', ' Build a bridge out of her.', ' Ah, but can you not also make bridges out of stone?', ' Oh, yeah.', ' Oh, yeah.  True.  Uhh...', ' Does wood sink in water?', ' No.  No.', ' No, it floats!  It floats!', ' Throw her into the pond!', ' The pond!  Throw her into the pond!', ' What also floats in water?', ' Bread!', ' Apples!', ' Uh, very small rocks!', ' Cider!', ' Uh, gra-- gravy!', ' Cherries!', ' Mud!', ' Churches!  Churches!', ' Lead!  Lead!', ' A duck!', ' Oooh.', ' Exactly.  So, logically...', \" If...  she...  weighs...  the same as a duck, ...  she's made of wood.\", ' And therefore?', ' A witch!', ' A witch!', ' A witch!  A witch! ...', ' Here is a duck.  Use this duck. [quack quack quack] ', ' We shall use my largest scales.', ' Ohh!  Ohh!  Burn the witch!  Burn the witch!  Burn her!  Burn her!  Burn her!  Burn her!  Burn her!  Burn her!  Burn her!  Ahh!  Ahh...', ' Right.  Remove the supports! [whop] [clunk] [creak] ', ' A witch!  A witch!  A witch!', \" It's a fair cop.\", ' Burn her!', ' Burn her!  Burn her!  Burn her!  Burn!  Burn! ...', ' Who are you who are so wise in the ways of science?', ' I am Arthur, King of the Britons.', ' My liege!', ' Good Sir Knight, will you come with me to Camelot, and join us at the Round Table?', ' My liege!  I would be honored.', ' What is your name?', ' Bedevere, my liege.', ' Then I dub you Sir Bedevere, Knight of the Round Table', \" The wise Sir Bedevere was the first to join King Arthur's knights, but other illustrious names were soon to follow: Sir Lancelot the Brave; Sir Gallahad the Pure; and Sir Robin the-not-quite-so-brave-as-Sir-Lancelot, who had nearly fought the Dragon of Angnor, who had nearly stood up to the vicious Chicken of Bristol, and who had personally wet himself at the Battle of Badon Hill; and the aptly named Sir Not-appearing-in-this-film.  Together they formed a band whose names and deeds were to be retold throughout the centuries: the Knights of the Round Table\", 'SCENE 6: [clop clop clop] ', ' And that, my liege, is how we know the earth to be banana-shaped.', \" This new learning amazes me, Sir Bedevere.  Explain again how sheep's bladders may be employed to prevent earthquakes.\", ' Oh, certainly, sir.', ' Look, my liege! [trumpets] ', ' Camelot!', ' Camelot!', ' Camelot!', \" It's only a model.\", ' Shh!  Knights, I bid you welcome to your new home.  Let us ride... to...  Camelot! [in medieval hall] ', \" [singing] We're knights of the round table.  We dance when e'er we're able.  We do routines and chorus scenes With footwork impeccable.  We dine well here in Camelot.  We eat ham and jam and spam a lot [dancing] We're knights of the Round Table. Our shows are formidable, But many times we're given rhymes That are quite unsingable. We're opera mad in Camelot. We sing from the diaphragm a lot [in dungeon] \", ' [clap clap clap clap] [in medieval hall] ', \" [tap-dancing] In war we're tough and able, Quite indefatigable.  Between our quests we sequin vests and impersonate Clark Gable.  It's a busy life in Camelot.\", ' I have to push the pram a lot [outdoors] ', \" Well, on second thought, let's not go to Camelot.  It is a silly place.\", ' Right.  Right', 'SCENE 7: [clop clop clop] [boom boom] [angels sing] ', \" Arthur!  Arthur, King of the Britons!  Oh, don't grovel! [singing stops] One thing I can't stand, it's people groveling.\", ' Sorry. [boom] ', \" And don't apologise.  Every time I try to talk to someone it's 'sorry this' and 'forgive me that' and 'I'm not worthy'. [boom] What are you doing now?!\", \" I'm averting my eyes, O Lord.\", \" Well, don't.  It's like those miserable Psalms-- they're so depressing. Now knock it off!\", ' Yes, Lord.', ' Right!  Arthur, King of the Britons, your Knights of the Round Table shall have a task to make them an example in these dark times.', ' Good idea, O Lord!', \" 'Course it's a good idea!  Behold! [angels sing] Arthur, this is the Holy Grail.  Look well, Arthur, for it is your sacred task to seek this grail.  That is your purpose, Arthur...  the quest for the Holy Grail. [boom] [singing stops] \", ' A blessing!  A blessing from the Lord!', ' God be praised', 'SCENE 8: [King Arthur music] [clop clop clop] ', ' Halt! [horn] Hallo! [pause] Hallo!', ' Allo!  Who is eet?', \" It is King Arthur, and these are my Knights of the Round Table.  Who's castle is this?\", ' This is the castle of my master Guy de Loimbard.', ' Go and tell your master that we have been charged by God with a sacred quest.  If he will give us food and shelter for the night he can join us in our quest for the Holy Grail.', \" Well, I'll ask him, but I don't think he'll be very keen.  Uh, he's already got one, you see?\", ' What?', \" He says they've already got one!\", \" Are you sure he's got one?\", \" Oh, yes, it's very nice-a.  (I told him we already got one.)\", ' Well, u-- um, can we come up and have a look?', ' Of course not!  You are English types-a!', ' Well, what are you then?', \" I'm French!  Why do think I have this outrageous accent, you silly king-a?!\", ' What are you doing in England?', ' Mind your own business!', ' If you will not show us the Grail, we shall take your castle by force!', \" You don't frighten us, English pig-dogs!  Go and boil your bottom, sons of a silly person.  I blow my nose at you, so-called Arthur King, you and all your silly English k-nnnnniggets.  Thpppppt!  Thppt! Thppt!\", ' What a strange person.', ' Now look here, my good man--', \" I don't wanna talk to you no more, you empty headed animal food trough wiper!  I fart in your general direction!  You mother was a hamster and your father smelt of elderberries!\", ' Is there someone else up there we could talk to?', ' No, now go away or I shall taunt you a second time-a! [sniff] ', \" Now, this is your last chance.  I've been more than reasonable.\", ' (Fetchez la vache.)', 'OTHER  Quoi?', ' (Fetchez la vache!) [mooo] ', ' If you do not agree to my commands, then I shall-- [twong] [mooooooo] Jesus Christ!', ' Christ! [thud] Ah!  Ohh!', ' Right!  Charge!', ' Charge! [mayhem] ', ' Hey, this one is for your mother!  There you go. [mayhem] ', \" And this one's for your dad!\", ' Run away!', ' Run away!', ' Thppppt!', ' [taunting] ', \" Fiends!  I'll tear them apart!\", ' No, no.  No, no.', ' Sir!  I have a plan, sir. [later] [wind] [saw saw saw saw saw saw saw saw saw saw saw saw saw saw saw saw] [clunk] [bang] [rewr!] [squeak squeak squeak squeak squeak squeak squeak squeak squeak squeak] [rrrr rrrr rrrr] [drilllll] [sawwwww] [clunk] [crash] [clang] [squeak squeak squeak squeak squeak...] [creak] ', \" [whispering] C'est un lapin, lapin de bois.  Quoi?  Un cadeau.  What?  A present.  Oh, un cadeau.  Oui, oui.  Hurry.  What?  Let's go.  Oh. On y va.  Bon magne.  Over here... [squeak squeak squeak squeak squeak...] [clllank] \", ' What happens now?', ' Well, now, uh, Launcelot, Galahad, and I, uh, wait until nightfall, and then leap out of the rabbit, taking the French, uh, by surprise.  Not only by surprise, but totally unarmed!', ' Who leaps out?', ' U-- u-- uh, Launcelot, Galahad, and I.  Uh, leap out of the rabbit, uh, and uh...', ' Ohh.', ' Oh.  Um, l-- look, i-- i-- if we built this large wooden badger-- [clank] [twong] ', ' Run away!', ' Run away!  Run away!  Run away!  Run away!  Run away!  Run away!  Run away! [CRASH] ', ' Oh, haw haw haw haw!  Haw!  Haw haw heh..', 'SCENE 9: [clack] ', ' Picture for Schools, take eight.', ' Action!', ' Defeat at the castle seems to have utterly disheartened King Arthur.  The ferocity of the French taunting took him completely by surprise, and Arthur became convinced that a new strategy was required if the quest for the Holy Grail were to be brought to a successful conclusion.  Arthur, having consulted his closest knights, decided that they should separate, and search for the Grail individually. [clop clop clop] Now, this is what they did: Launcelot--', ' Aaaah! [slash] [KNIGHT kills HISTORIAN] ', \"HISTORIAN'S  Frank\", 'SCENE 10: [trumpets] ', ' The Tale of Sir Robin.  So each of the knights went their separate ways.  Sir Robin rode north, through the dark forest of Ewing, accompanied by his favorite minstrels.', ' [singing] Bravely bold Sir Robin, rode forth from Camelot.  He was not afraid to die, O brave Sir Robin.  He was not at all afraid to be killed in nasty ways.  Brave, brave, brave, brave Sir Robin!  He was not in the least bit scared to be mashed into a pulp, Or to have his eyes gouged out, and his elbows broken.  To have his kneecaps split, and his body burned away, And his limbs all hacked and mangled, brave Sir Robin!', 'His head smashed in and his heart cut out, And his liver removed and his bowels unplugged, And his nostrils raped and his bottom burned off, And his pen--', \" That's-- that's, uh-- that's enough music for now, lads.  Heh.  Looks like there's dirty work afoot.\", ' Anarcho-syndicalism is a way of preserving freedom.', \" Oh, Dennis, forget about freedom.  We haven't got enough mud.\", ' Halt!  Who art thou?', ' [singing] He is brave Sir Robin, brave Sir Robin, who--', \" Shut up!  Um, n-- n-- n-- nobody really, I'm j-- j-- j-- ju-- just um, just passing through.\", ' What do you want?', ' [singing] To fight and--', ' Shut up!  Um, oo, a-- nothing, nothing really.  I, uh, j-- j-- just--just to um, just to p-- pass through, good Sir Knight.', \" I'm afraid not!\", ' Ah.  W-- well, actually I-- I am a Knight of the Round Table.', \" You're a Knight of the Round Table?\", ' I am.', ' In that case I shall have to kill you.', ' Shall I?', \" Oh, I don't think so.\", ' Well, what do I think?', ' I think kill him.', \" Oh, let's be nice to him.\", ' Oh shut up.', ' Perhaps I could--', ' And you.  Oh, quick!  Get the sword out.  I want to cut his headoff!', ' Oh, cut your own head off!', ' Yes, do us all a favor!', ' What?', ' Yapping on all the time.', \" You're lucky.  You're not next to him.\", ' What do you mean?', ' You snore!', \" Oh, I don't.  Anyway, you've got bad breath.\", \" Well it's only because you don't brush my teeth.\", \" Oh stop bitching and let's go have tea.\", \" Oh, all right.  All right.  All right.  We'll kill him first and then have tea and biscuits.\", ' Yes.', ' Oh, not biscuits.', \" All right.  All right, not biscuits, but let's kill him anyway.\", ' Right!', ' He buggered off.', \" So he has.  He's scarper\", ' [singing] Brave Sir Robin ran away.', ' No!', ' [singing] Bravely ran away away.', \" I didn't!\", ' [singing] When danger reared its ugly head, he bravely turned his tail and fled.', ' No!', ' [singing] Yes, brave Sir Robin turned about', \" I didn't!\", ' [singing] And gallantly he chickened out, bravely taking to his feet.', ' I never did!', ' [singing] He beat a very brave retreat.', ' All lies!', ' [singing] Bravest of the brave, Sir Robin.', ' I never', ' [chanting] Pie Iesu domine, dona eis requiem.', ' Heh heh heeh ooh... [twang] ', ' [chanting] Pie Iesu domine, ...', ' Wayy! [splash] Ho ho.  Woa, wayy! [twang] [splash] Heh heh heh heh ho!  Heh heh heh!', ' [chanting] ... dona eis requiem.', ' Wayy! [twang] Wayy! [twang] ', ' [whispering] Forgive me for asking.', ' Oh!  Oooo', 'SCENE 11: [trumpets] ', ' The Tale of Sir Galahad. [boom] [wind] [howl] [howl] [boom] [angels singing] [howl] [boom] [howl] [boom] [pound pound pound] ', ' Open the door!  Open the door! [pound pound pound] In the name of King Arthur, open the door! [squeak] [thump] [squeak] [boom] ', ' Hello!', ' Welcome gentle Sir Knight.  Welcome to the Castle Anthrax.', ' The Castle Anthrax?', \" Yes.  Oh, it's not a very good name is it?  Oh, but we are nice and we will attend to your every, every need!\", ' You are the keepers of the Holy Grail?', ' The what?', ' The Grail.  It is here.', ' Oh, but you are tired, and you must rest awhile.  Midget!  Crapper!', 'MIDGET and  Yes, O Zoot?', ' Prepare a bed for our guest.', 'MIDGET and  Oh thank you!  Thank you!  Thank you!  Thank you!  Thank you!  Thank you! ...', ' Away, away varletesses.  The beds here are warm and soft, and very, very big.', ' Well, look, I-- I-- uh--', ' What is your name, handsome knight?', ' Sir Galahad...  the Chaste.', ' Mine is Zoot.  Just Zoot.  Oh, but come.', \" Look, please!  In God's name, show me the Grail!\", ' Oh, you have suffered much.  You are delirious.', ' No, look.  I have seen it!  It is here, in this--', ' Sir Galahad!  You would not be so ungallant as to refuse our hospitality.', ' Well, I-- I-- uh--', ' Oh, I am afraid our life must seem very dull and quiet compared to yours.  We are but eight score young blondes and brunettes, all between sixteen and nineteen-and-a-half, cut off in this castle with no one to protect us.  Oooh.  It is a lonely life: bathing, dressing, undressing, making exciting underwear.  We are just not used to handsome knights.  Nay.  Nay.  Come.  Come.  You may lie here.  Oh, but you are wounded!', \" No, no-- it's-- it's nothing.\", ' Oh, you must see the doctors immediately!  No, no, please!  Lie down. [clap clap] ', ' Well, what seems to be the trouble?', \" They're doctors?!\", ' Uh, they have a basic medical training, yes.', ' B-- but--', ' Oh, come, come.  You must try to rest.  Doctor Piglet!  Doctor Winston!  Practice your art.', ' Try to relax.', \" Are you sure that's absolutely necessary?\", ' We must examine you.', \" There's nothing wrong with that!\", ' Please.  We are doctors.', ' Look!  This cannot be.  I am sworn to chastity.', ' Back to your bed!  At once!', ' Torment me no longer.  I have seen the Grail!', \" There's no grail here.\", ' I have seen it!  I have seen it! [clank] I have seen--', ' Hello.', ' Oh.', ' Hello.  Hello.  Hello.  Hello.  Hello.  Hello.  Hello.  Hello.  Hello.  Hello.  Hello.  Hello.  Hello.  Hello.  Hello.  Hello.  Hello.  Hello.  Hello.  Hello.  Hello.  Hello.  Hello.', ' Zoot!', \" No, I am Zoot's identical twin sister, Dingo.\", ' Oh, well, excuse me, I--', ' Where are you going?', ' I seek the Grail!  I have seen it, here in this castle!', ' Oh no.  Oh, no!  Bad, bad Zoot!', ' Well, what is it?', \" Oh, wicked, bad, naughty Zoot!  She has been setting alight to our beacon, which, I have just remembered, is grail-shaped.  It's not the first time we've had this problem.\", \" It's not the real Grail?\", \" Oh, wicked, bad, naughty, evil Zoot!  She is a bad person and must pay the penalty.  Do you think this scene should have been cut?  We were so worried when the boys were writing it, but now, we're glad.  It's better than some of the previous scenes, I think.\", ' At least ours was better visually.', \" Well, at least ours was committed.  It wasn't just a string of pussy jokes.\", ' Get on with it.', 'TIM  Yes, get on with it!', 'ARMY  Yes, get on with it!', ' Oh, I am enjoying this scene.', ' Get on with it!', ' [sigh] Oh, wicked, wicked Zoot.  Oh, she is a naughty person, and she must pay the penalty.  And here in Castle Anthrax, we have but one punishment for setting alight the grail-shaped beacon.  You must tie her down on a bed and spank her.', ' A spanking!  A spanking!', ' You must spank her well.  And after you have spanked her, you may deal with her as you like.  And then, spank me.', ' And spank me.', ' And me.', ' And me.', ' Yes, yes, you must give us all a good spanking!', ' A spanking!  A spanking!  There is going to be a spanking tonight!', ' And after the spanking, the oral sex.', ' The oral sex!  The oral sex!', ' Well, I could stay a bit longer.', ' Sir Galahad!', ' Oh, hello.', ' Quick!', ' What?', ' Quick!', ' Why?', ' You are in great peril!', \" No he isn't.\", ' Silence, foul temptress!', \" You know, she's got a point.\", ' Come on!  We will cover your escape!', \" Look, I'm fine!\", ' Come on!', ' Sir Galahad!', ' No.  Look, I can tackle this lot single-handed!', ' Yes!  Let him tackle us single-handed!', ' Yes!  Let him tackle us single-handed!', ' No, Sir Galahad.  Come on!', ' No!  Really!  Honestly, I can cope.  I can handle this lot easily.', ' Oh, yes.  Let him handle us easily.', ' Yes.  Let him handle us easily.', ' No.  Quick!  Quick!', \" Please!  I can defeat them!  There's only a hundred-and-fifty of them!\", \" Yes, yes!  He will beat us easily!  We haven't a chance.\", \" We haven't a chance.  He will beat us easily... [boom] \", ' Oh, shit.', ' We were in the nick of time.  You were in great peril.', \" I don't think I was.\", ' Yes you were.  You were in terrible peril.', ' Look, let me go back in there and face the peril.', \" No, it's too perilous.\", \" Look, it's my duty as a knight to sample as much peril as I can.\", \" No, we've got to find the Holy Grail.  Come on!\", ' Oh, let me have just a little bit of peril?', \" No.  It's unhealthy.\", \" I bet you're gay.\", \" No I'm not\", \" Sir Launcelot had saved Sir Galahad from almost certain temptation, but they were still no nearer the Grail.  Meanwhile, King Arthur and Sir Bedevere, not more than a swallow's flight away, had discovered something.  Oh, that's an unladen swallow's flight, obviously.  I mean, they were more than two laden swallows' flights away-- four, really, if they had a coconut on a line between them.  I mean, if the birds were walking and dragging--\", ' Get on with it!', \" Oh, anyway.  On to scene twenty-four, which is a smashing scene with some lovely acting, in which Arthur discovers a vital clue, and in which there aren't any swallows, although I think you can hear a starling-- oooh\", 'SCENE 12:', ' Heh, hee ha ha hee hee!  Hee hee hee ha ha ha...', ' And this enchanter of whom you speak, he has seen the Grail?', ' ... Ha ha ha ha!  Heh, hee ha ha hee!  Ha hee ha!  Ha ha ha ha...', ' Where does he live?', ' ... Heh heh heh heh...', ' Old man, where does he live?', ' ... Hee ha ha ha.  He knows of a cave, a cave which no man has entered.', ' And the Grail.  The Grail is there?', ' There is much danger, for beyond the cave lies the Gorge of Eternal Peril, which no man has ever crossed.', ' But the Grail!  Where is the Grail?!', ' Seek you the Bridge of Death.', ' The Bridge of Death, which leads to the Grail?', ' Heh, hee hee hee hee!  Ha ha ha ha ha!  Hee ha ha..', 'SCENE 13: [spooky music] [music stops] ', 'HEAD KNIGHT  Ni!', 'KNIGHTS  Ni!  Ni!  Ni!  Ni!  Ni!', ' Who are you?', \" We are the Knights Who Say...  'Ni'!\", ' Ni!', \" No!  Not the Knights Who Say 'Ni'!\", ' The same!', ' Who are they?', ' We are the keepers of the sacred words: Ni, Peng, and Neee-wom!', ' Neee-wom!', ' Those who hear them seldom live to tell the tale!', \" The Knights Who Say 'Ni' demand a sacrifice!\", ' Knights of Ni, we are but simple travellers who seek the enchanter who lives beyond these woods.', ' Ni!', 'KNIGHTS  Ni!  Ni!  Ni!  Ni!  Ni! ...', ' Ow!  Ow!  Ow!  Agh!', \" We shall say 'ni' again to you if you do not appease us.\", ' Well, what is it you want?', ' We want...  a shrubbery! [dramatic chord] ', ' A what?', 'KNIGHTS  Ni!  Ni!  Ni!  Ni!', 'ARTHUR and  Ow!  Oh!', ' Please, please!  No more!  We will find you a shrubbery.', ' You must return here with a shrubbery or else you will never pass through this wood alive!', ' O Knights of Ni, you are just and fair, and we will return with a shrubbery.', ' One that looks nice.', ' Of course.', ' And not too expensive.', ' Yes.', ' Now...  go [trumpets] ', ' Hmm hmm-- [boom] Oh!  Great scott!  Hm.  Hmm. [boom] Hm!  Hmm.  [mumble mumble mumble] [boom] [mumble mumble mumble] [boom] [mumble mumble mumble] [boom] [mumble mumble mumble] [boom] [mumble mumble mumble] [boom] [mumble mumble mumble] [boom] [mumble mumble mumble] [boom] [mumble mumble mumble] [boom] Ohh! [crash] [mumble mumble mumble] [boom] ', ' Ay, up!  Thsss. [boom] Ayy, up! [boom] Thsss. [boom] Ayy, up!', ' Stop that!  Stop that! [boom] ', ' Ay, up!', ' Stop that! [boom] Look on!  Clear off!  Go on!  Go away!  Go away!  Go away!  And you!  Clear off!  [sniff] ', ' [mumble mumble mumble] [bells] ', ' Hah.  Bloody weather', 'SCENE 14:', ' The Tale of Sir Launcelot.', ' One day, lad, all this will be yours!', ' What, the curtains?', \" No.  Not the curtains, lad.  All that you can see, stretched out over the hills and valleys of this land!  This'll be your kingdom, lad.\", ' But Mother--', ' Father, lad.  Father.', \" B-- b-- but Father, I don't want any of that.\", \" Listen, lad.  I built this kingdom up from nothing.  When I started here, all there was was swamp.  Other kings said I was daft to build a castle on a swamp, but I built it all the same, just to show 'em.  It sank into the swamp.  So, I built a second one.  That sank into the swamp.  So I built a third one.  That burned down, fell over, then sank into the swamp.  But the fourth one...  stayed up!  And that's what you're gonna get, lad: the strongest castle in these islands.\", \" But I don't want any of that.  I'd rather--\", ' Rather what?!', \" I'd rather... [music] ... just...  sing!\", \" Stop that!  Stop that!  You're not going into a song while I'm here.  Now listen, lad.  In twenty minutes you're getting married to a girl whose father owns the biggest tracts of open land in Britain.\", \" B-- but I don't want land.\", ' Listen, Alice,--', ' Herbert.', \" 'Erbert.  We live in a bloody swamp.  We need all the land we can get.\", \" But-- but I don't like her.\", \" Don't like her?!  What's wrong with her?!  She's beautiful.  She's rich.  She's got huge...  tracts o' land.\", ' I know, but I want the-- the girl that I marry to have...  [music] ... a certain...  special...  something!', \" Cut that out!  Cut that out!  Look, you're marrying Princess Lucky, so you'd better get used to the idea! [smack] Guards!  Make sure the Prince doesn't leave this room until I come and get him.\", ' Not to leave the room even if you come and get him.', ' Hic!', ' No, no.  Until I come and get him.', \" Until you come and get him, we're not to enter the room.\", \" No, no.  No.  You stay in the room and make sure he doesn't leave.\", \" And you'll come and get him.\", ' Hic!', ' Right.', \" We don't need to do anything, apart from just stop him entering the room.\", ' No, no.  Leaving the room.', ' Leaving the room.  Yes. [sniff] ', ' All right?', ' Right.', ' Hic!', ' Right.', ' Oh, if-- if-- if-- uhh-- if-- if-- w-- ehh-- i-- if-- if we--', ' Yes?  What is it?', ' Oh, i-- if-- i-- oh--', \" Look, it's quite simple.\", ' Uh...', \" You just stay here, and make sure 'e doesn't leave the room.  Alright?\", ' Hic!', ' Right.', ' Oh, I remember.  Uhh, can he leave the room with us?', ' N-- no no.  No.  You just keep him in here, and make sure he--', \" Oh, yes.  We'll keep him in here, obviously.  But if he had to leave and we were with him--\", ' No, no, no, no.  Just keep him in here--', ' Until you, or anyone else--', ' No, not anyone else.  Just me.', ' Just you.', ' Hic!', ' Get back.', ' Get back.', ' All right?', \" Right.  We'll stay here until you get back.\", ' Hic!', \" And, uh, make sure he doesn't leave.\", ' What?', \" Make sure 'e doesn't leave.\", ' The Prince?', \" Yes.  Make sure 'e doesn't leave.\", ' Oh, yes, of course.  ', ' Hic!', \" Ah.  I thought you meant him.  You know, it seemed a bit daft me havin' to guard him when he's a guard.\", ' Is that clear?', ' Hic!', ' Oh, quite clear.  No problems.', ' Right.  Where are you going?', \" We're coming with you.\", \" No, no.  I want you to stay here and make sure 'e doesn't leave.\", ' Oh, I see.  Right.', ' But Father!', ' Shut your noise, you!  And get that suit on! [music] And no singing!', ' Hic!', ' Oh, go and get a glass of water. [clank] [scribble scribble scribble fold fold] [twong]', 'SCENE 15:', ' Well taken, Concorde!', ' Thank you, sir!  Most kind.', ' And again!  Over we go!  Good.  Steady!  And now, the big one!  Uuh!  Come on, Concorde! [thwonk] ', ' Message for you, sir. [fwump] ', \" Concorde!  Concorde!  Speak to me!  'To whoever finds this note: I have been imprisoned by my father, who wishes me to marry against my will.  Please, please, please come and rescue me.  I am in the Tall Tower of Swamp Castle.' At last!  A call!  A cry of distress!  This could be the sign that leads us to the Holy Grail!  Brave, brave Concorde, you shall not have died in vain!\", \" Uh, I'm-- I'm not quite dead, sir.\", ' Well, you shall not have been mortally wounded in vain!', ' I-- I-- I think I c-- I could pull through, sir.', ' Oh, I see.', \" Actually, I think I'm all right to come with you, sir--\", ' No, no, sweet Concorde!  Stay here!  I will send help as soon as I have accomplished a daring and heroic rescue in my own particular...  [sigh] ', ' Idiom, sir?', ' Idiom!', ' No, I feel fine, actually, sir.', ' Farewell, sweet Concorde!', \" I'll, um, I'll just stay here then.  Shall I, sir?  Yeah\", 'SCENE 16: [inside castle] ', 'PRINCESS LUCKY and  [giggle giggle giggle] [outside castle] ', \" 'Morning!\", \" 'Morning.\", ' Oooh.', ' [ptoo] ', ' Ha ha!  Hiyya!', ' Hey!', ' Hiyya!, Ha!, etc.', 'PRINCESS LUCKY and  [giggle giggle giggle] ', ' Ha ha!  Huy!', ' Uuh!  Aaah!', ' Ha ha!  And take this!  Aah!  Hiyah!  Aah!  Aaah!  Hyy!  Hya!  Hiyya!  Ha! ...', \" Now, you're not allowed to enter the room-- aaugh!\", \" O fair one, behold your humble servant Sir Launcelot of Camelot.  I have come to take y-- Oh, I'm terribly sorry.\", ' You got my note!', ' Uh, well, I-- I got a-- a note.', \" You've come to rescue me!\", \" Uh, well, no.  You see, I hadn't--\", ' I knew someone would.  I knew that somewhere out there...  [music] ', ' Well, I--', ' ... there must be...  someone...', ' Stop that!  Stop that!  Stop it!  Stop it!  Who are you?', \" I'm your son!\", ' No, not you.', ' Uh, I am Sir Launcelot, sir.', \" He's come to rescue me, Father.\", \" Well, let's not jump to conclusions.\", ' Did you kill all those guards?', ' Uh...  Oh, yes.  Sorry.', ' They cost fifty pounds each!', \" Well, I'm awfully sorry.  Um, I really can explain everything.\", \" Don't be afraid of him, Sir Launcelot.  I've got a rope all ready.\", ' You killed eight wedding guests in all!', ' Well, uh, you see, the thing is, I thought your son was a lady.', ' I can understand that.', ' Hurry, Sir Launcelot!  Hurry!', \" Shut up!  You only killed the bride's father, that's all!\", \" Well, I really didn't mean to...\", \" Didn't mean to?!  You put your sword right through his head!\", ' Oh, dear.  Is he all right?', ' You even kicked the bride in the chest!  This is going to cost me a fortune!', ' Well, I can explain.  I was in the forest, um, riding north from Camelot, when I got this note, you see--', ' Camelot?  Are you from, uh, Camelot?', ' Hurry, Sir Launcelot!', ' Uh, I am a Knight of King Arthur, sir.', ' Very nice castle, Camelot.  Uh, very good pig country...', ' Is it?', \" Hurry!  I'm ready!\", ' Would you, uh, like to come and have a drink?', \" Well, that-- that's, uh, awfully nice of you, ...\", ' I am ready!', ' ... um, I mean to be so understanding. [thonk] Um, ... [woosh] ', ' Oooh!', \" ... I'm afraid when I'm in this idiom, I sometimes get a bit, uh, sort of carried away.\", \" Oh, don't worry about that.\", ' Oooh! [splat] ', 'SCENE 17:', ' [crying] ', \" Well, this is the main hall.  We're going to have all this knocked through, and made into one big, uh, living room.\", ' There he is!', ' Oh, bloody hell.', ' Ha ha ha!  Hey!  Ha ha!', ' Hold it!  Stop it!  Hold it!  Hold it!  Hold it!  Hold it!  Hold it!  Please!', \" Sorry.  Sorry.  You see what I mean?  I just get carried away.  I'm really most awfully sorry.  Sorry!  Sorry, everyone.\", \" He's killed the best man!\", ' [yelling] ', ' Hold it!  Hold it!  Please!  Hold it!  This is Sir Launcelot from the Court of Camelot, a very brave and influential knight, and my special guest here today.', ' Hello.', ' He killed my auntie!', ' [yelling] ', \" Please!  Please!  This is supposed to be a happy occasion!  Let's not bicker and argue about who killed who.  We are here today to witness the union of two young people in the joyful bond of the holy wedlock.  Unfortunately, one of them, my son Herbert, has just fallen to his death.\", ' Oh!  Oh no!', \" But I don't want to think I've not lost a son, so much as...  gained a daughter! [clap clap clap] For, since the tragic death of her father--\", \" He's not quite dead!\", ' Since the near fatal wounding of her father--', \" He's getting better!\", ' For, since her own father, who, when he seemed about to recover, suddenly felt the icy hand of death upon him.', \"BRIDE'S  Uugh!\", \" Oh, he's died!\", ' And I want his only daughter to look upon me as her old dad, in a very real, and legally binding sense. [clap clap clap] And I feel sure that the merger-- er, the union between the Princess and the brave, but dangerous, Sir Launcelot of Camelot--', ' What?', ' Look!  The dead Prince!', ' Oooh!  The dead Prince!', \" He's not quite dead.\", ' No, I feel much better.', ' You fell out of the Tall Tower, you creep!', ' No, I was saved at the last minute.', ' How?!', \" Well, I'll tell you. [music] \", ' Not like that!  Not like that!  No!  Stop it!', \" [singing] He's going to tell!  He's going to tell! ...\", ' Shut uuup!', \" [singing] He's going to tell! ...\", ' Shut up!', \" [singing] He's going to tell! ...\", ' Shut up!', \" [singing] He's going to tell! ...\", ' Not like that!', \" [singing] He's going to tell!  He's going to tell!  He's going to tell!  He's going to tell! ...\", ' Quickly, sir!', \" [singing] He's going to tell! ...\", ' Come this way!', \" [singing] He's going to tell!  He's going to tell! ...\", \" No!  It's not right for my idiom!\", \" [singing] He's going to tell about his great escape...\", ' I must escape more...  [sigh] ', ' [singing] Oh, he fell a long, long way...', ' Dramatically, sir?', ' Dramatically!', \" [singing] But he's here with us today...\", ' Heee!  Hoa! [crash] Hoo!', ' [singing] What a wonderful escape!', ' Excuse me.  Could, uh-- could somebody give me a push, please', 'SCENE 18: [King Arthur music] [clop clop clop] [rewr!  rewr!  rewr!  rewr!  rewr!  rewr!] ', ' Old crone! [rewr!] [music stops] Is there anywhere in this town where we could buy a shrubbery? [dramatic chord] ', ' Who sent you?', \" The Knights Who Say 'Ni'.\", ' Aggh!  No!  Never!  We have no shrubberies here.', \" If you do not tell us where we can buy a shrubbery, my friend and I will say...  we will say...  'ni'.\", ' Agh!  Do your worst!', ' Very well!  If you will not assist us voluntarily, ...  ni!', ' No!  Never!  No shrubberies!', ' Ni!', ' [cough] ', ' Nu!', ' No, no, no, no...', ' Nu!', \" No, it's not that, it's 'ni'.\", ' Nu!', \" No, no-- 'ni'.  You're not doing it properly.  No.\", ' Ni!', 'ARTHUR and  Ni!', \" That's it.  That's it.  You've got it.\", 'ARTHUR and  Ni!', ' Ohh!', ' Ni!', ' Ni!', ' Agh!', ' Ni!', ' Ni!', ' Ni!', ' Ni!', ' Ni!', \"ROGER  Are you saying 'ni' to that old woman?\", ' Erm, yes.', \" Oh, what sad times are these when passing ruffians can 'ni' at will to old ladies.  There is a pestilence upon this land.  Nothing is sacred. Even those who arrange and design shrubberies are under considerable economic stress at this period in history.\", \" Did you say 'shrubberies'?\", ' Yes.  Shrubberies are my trade.  I am a shrubber.  My name is Roger the Shrubber.  I arrange, design, and sell shrubberies.', ' Ni!', ' No!  No, no, no!  No', 'SCENE 19:', ' O Knights of Ni, we have brought you your shrubbery.  May we go now?', ' It is a good shrubbery.  I like the laurels particularly.  But there is one small problem.', ' What is that?', \" We are now...  no longer the Knights Who Say 'Ni'.\", 'KNIGHTS  Ni!  Shh!', \" Shh!  We are now the Knights Who Say 'Ecky-ecky-ecky-ecky-pikang-zoop-boing-goodem-zoo-owli-zhiv'.\", ' Ni!', ' Therefore, we must give you a test.', \" What is this test, O Knights of-- Knights Who 'Til Recently Said 'Ni'?\", ' Firstly, you must find...  another shrubbery! [dramatic chord] ', ' Not another shrubbery!', ' Ni!', ' Then, when you have found the shrubbery, you must place it here beside this shrubbery, only slightly higher so you get the two-level effect with a little path running down the middle.', 'KNIGHTS  A path!  A path!  A path!  Ni!  Shh!  Ni!  Ni!  Ni!  Shh!  Shh! ...', ' Then, when you have found the shrubbery, you must cut down the mightiest tree in the forest...  with...  a herring! [dramatic chord] ', ' We shall do no such thing!', ' Oh, please!', \" Cut down a tree with a herring?  It can't be done.\", 'KNIGHTS  Aaaugh!  Aaaugh!', \" Augh!  Ohh!  Don't say that word.\", ' What word?', ' I cannot tell, suffice to say is one of the words the Knights of Ni cannot hear.', \" How can we not say the word if you don't tell us what it is?\", 'KNIGHTS  Aaaaugh!', ' You said it again!', \" What, 'is'?\", \"KNIGHTS  Agh!  No, not 'is'.\", \" No, not 'is'.  You wouldn't get vary far in life not saying 'is'.\", \"KNIGHTS  No, not 'is'.  Not 'is'.\", \" My liege, it's Sir Robin!\", ' [singing] Packing it in and packing it up, And sneaking away and buggering up, And chickening out and pissing off home, Yes, bravely he is throwing in the sponge.', ' Sir Robin!', \" My liege!  It's good to see you.\", \" Now he's said the word!  \", \" Surely you've not given up your quest for the Holy Grail?\", ' [singing] He is sneaking away and buggering up--', ' Shut up!  No, no.  No.  Far from it.', ' He said the word again!', 'KNIGHTS  Aaaaugh!', ' I was looking for it.', 'KNIGHTS  Aaaaugh!', ' Uh, here-- here in this forest.', ' No, it is far from this place.', 'KNIGHTS  Aaaaugh!', ' Aaaaugh!  Stop saying the word!  The word...', ' Oh, stop it!', 'KNIGHTS  ... we cannot hear!', ' Ow!  He said it again!', ' Patsy!', \" Wait!  I said it!  I said it! [clop clop clop] Ooh!  I said it again!  And there again!  That's three 'it's!  Ohh!\", 'KNIGHTS  Aaaaugh', ' And so, Arthur and Bedevere and Sir Robin set out on their search to find the enchanter of whom the old man had spoken in scene twenty-four.  Beyond the forest they met Launcelot and Galahad, and there was much rejoicing.', ' Yay!  Yay! [woosh] ', \" In the frozen land of Nador, they were forced to eat Robin's minstrels.\", ' [high-pitched] Get back!  Eee!', ' And there was much rejoicing.', ' Yay!', ' A year passed.', ' [shivering] ', ' Winter changed into Spring.', ' Mmm, nice.', ' Spring changed into Summer.', ' Oh.  Ahh.', ' Summer changed back into Winter.', ' Oh?', ' And Winter gave Spring and Summer a miss and went straight on into Autumn.', ' Aah. [snap] Oh!  Waa!', ' Until one day..', 'SCENE 20: [King Arthur music] [clop clop clop] [music stops] [boom] ', ' Eh.  Oh.  See it?  Oh.  Oh.', ' Knights!  Forward! [boom boom boom boom boom] [squeak] [boom boom boom boom] What manner of man are you that can summon up fire without flint or tinder?', 'TIM  I...  am an enchanter.', ' By what name are you known?', ' There are some who call me...  Tim?', ' Greetings, Tim the Enchanter.', ' Greetings, King Arthur!', ' You know my name?', ' I do. [zoosh] You seek the Holy Grail!', ' That is our quest.  You know much that is hidden, O Tim.', ' Quite. [pweeng boom] [clap clap clap] ', ' Oh.', \" Yes, we're-- we're looking for the Holy Grail.  Our quest is to find the Holy Grail.\", ' Yeah.  Yes.  It is.  It is.  Yeah.  Yup.  Yup.  Hm.', \" And so we're-- we're-- we're-- we're looking for it.\", ' Yes, we are.', ' Yeah.  ', ' We are.  We are.', ' We have been for some time.', ' Ages.', ' Umhm.', ' Uh-- uh, so, uh, anything that you could do to, uh-- to help, would be...  very...  helpful.', ' Look, can you tell us where-- [boom] ', \" Fine.  Um, I don't want to waste any more of your time, but, uh, I don't suppose you could, uh, tell us where we might find a, um-- find a, uh-- a, um-- a, uh--\", ' A what...?', ' A g-- a-- a g-- a g-- a-- a g--', ' A grail?!', ' Yes, I think so.', ' Y-- y-- yes.', ' Yes.', ' Yup.', \" That's it...\", ' Yes!', ' Oh.', ' Oh.  Thank you.', ' Ahh.', ' Oh.  Fine.', ' Thank you.', ' Splendid.', ' Aah... [boom pweeng boom boom] ', \" Look, um, you're a busy man, uh--\", ' Yes, I can help you find the Holy Grail.', ' Oh, thank you.  Oh...', ' To the north there lies a cave-- the cave of Caerbannog-- wherein, carved in mystic runes upon the very living rock, the last words of Olfin Bedwere of Rheged... [boom] ... make plain the last resting place of the most Holy Grail.', ' Where could we find this cave, O Tim?', ' Follow.  But!  Follow only if ye be men of valor, for the entrance to this cave is guarded by a creature so foul, so cruel that no man yet has fought with it and lived!  Bones of full fifty men lie strewn about its lair.  So, brave knights, if you do doubt your courage or your strength, come no further, for death awaits you all with nasty, big, pointy teeth.', ' What an eccentric performance', 'SCENE 21: [clop clop clop] [whinny whinny] ', \" They're nervous, sire.\", \" Then we'd best leave them here and carry on on foot.  Dis-mount!\", ' Behold the cave of Caerbannog!', ' Right!  Keep me covered.', ' What with?', ' W-- just keep me covered.', ' Too late! [dramatic chord] ', ' What?', ' There he is!', ' Where?', ' There!', ' What, behind the rabbit?', ' It is the rabbit!', ' You silly sod!', ' What?', ' You got us all worked up!', \" Well, that's no ordinary rabbit.\", ' Ohh.', \" That's the most foul, cruel, and bad-tempered rodent you ever set eyes on.\", ' You tit!  I soiled my armor I was so scared!', \" Look, that rabbit's got a vicious streak a mile wide; it's a killer!\", ' Get stuffed!', \" He'll do you up a treat mate!\", ' Oh, yeah?', ' You mangy scots git!', \" I'm warning you!\", \" What's he do, nibble your bum?\", \" He's got huge, sharp-- eh-- he can leap about-- look at the bones!\", ' Go on, Bors.  Chop his head off!', \" Right!  Silly little bleeder.  One rabbit stew comin' right up!\", ' Look! [squeak] ', ' Aaaugh! [dramatic chord] [clunk] ', ' Jesus Christ!', ' I warned you!', ' I done it again!', \" I warned you, but did you listen to me?  Oh, no, you knew it all, didn't you?  Oh, it's just a harmless little bunny, isn't it?  Well, it's always the same.  I always tell them--\", ' Oh, shut up!', ' Do they listen to me?', ' Right!', ' Oh, no...', ' Charge! [squeak squeak squeak] ', ' Aaaaugh!, Aaaugh!, etc.', ' Run away!  Run away!', ' Run away!  Run away! ...', ' Ha ha ha ha!  Ha haw haw!  Ha!  Ha ha!', ' Right.  How many did we lose?', ' Gawain.', ' Ector.', \" And Bors.  That's five.\", ' Three, sir.', \" Three.  Three.  And we'd better not risk another frontal assault.  That rabbit's dynamite.\", ' Would it help to confuse it if we run away more?', ' Oh, shut up and go and change your armor.', ' Let us taunt it!  It may become so cross that it will make a mistake.', ' Like what?', ' Well...  ooh.', ' Have we got bows?', ' No.', ' We have the Holy Hand Grenade.', \" Yes, of course!  The Holy Hand Grenade of Antioch!  'Tis one of the sacred relics Brother Maynard carries with him!  Brother Maynard!  Bring up the Holy Hand Grenade!\", ' [chanting] Pie Iesu domine, dona eis requiem.  Pie Iesu domine, donaeis requiem.  Pie Iesu domine, dona eis requiem.  Pie Iesu domine, dona eisrequiem.', ' How does it, um-- how does it work?', ' I know not, my liege.', ' Consult the Book of Armaments!', ' Armaments, Chapter Two, verses Nine to Twenty-one.', \" And Saint Attila raised the hand grenade up on high, saying,'O Lord, bless this thy hand grenade that with it thou mayest blow thine enemies to tiny bits, in thy mercy.' And the Lord did grin, and the people did feast upon the lambs and sloths and carp and anchovies and orangutans and breakfast cereals and fruit bats and large chu--\", ' Skip a bit, Brother.', \" And the Lord spake, saying, 'First shalt thou take out the Holy Pin.  Then, shalt thou count to three, no more, no less.  Three shalt be the number thou shalt count, and the number of the counting shall be three.  Four shalt thou not count, nor either count thou two, excepting that thou then proceed to three.  Five is right out.  Once the number three, being the third number, be reached, then lobbest thou thy Holy Hand Grenade of Antioch towards thy foe, who, being naughty in my sight, shall snuff it.'\", ' Amen.', ' Amen.', ' Right!  One...  two...  five!', ' Three, sir!', ' Three! [angels sing] [boom] ', 'SCENE 22:', ' There!  Look!', ' What does it say?', ' What language is that?', ' Brother Maynard!  You are a scholar.', \" It's Aramaic!\", ' Of course!  Joseph of Arimathea!', \" 'Course!\", ' What does it say?', \" It reads, 'Here may be found the last words of Joseph of Arimathea.  He who is valiant and pure of spirit may find the Holy Grail in the Castle of uuggggggh'.\", ' What?', \" '...  the Castle of uuggggggh'.\", ' What is that?', ' He must have died while carving it.', ' Oh, come on!', \" Well, that's what it says.\", \" Look, if he was dying, he wouldn't bother to carve 'aaggggh'.  He'd just say it!\", \" Well, that's what's carved in the rock!\", ' Perhaps he was dictating.', ' Oh, shut up.  Well, does it say anything else?', \" No.  Just, 'uuggggggh'.\", ' Aauuggghhh.', ' Aaauggh.', ' Do you suppose he meant the Camaaaaaargue?', \" Where's that?\", ' France, I think.', \" Isn't there a Saint Aauuuves in Cornwall?\", \" No, that's Saint Ives.\", ' Oh, yes.  Saint Iiiives.', ' Iiiiives.', ' Oooohoohohooo!', \" No, no.  'Aauuuuugh', at the back of the throat.  Aauuugh.\", \" N-- no.  No, no, no, no.  'Oooooooh', in surprise and alarm.\", \" Oh, you mean sort of a 'aaaah'!\", ' Yes, but I-- aaaaaah!', ' Oooh!', ' My God! [dramatic chord] [roar] ', \" It's the legendary Black Beast of Aaauugh! [Black Beast of Aaauugh eats BROTHER MAYNARD] \", \" That's it!  That's it!\", ' Run away!', ' Run away! [roar] Run away!  Run awaaay!  Run awaaaaay! [roar] Keep running! [boom] [roar] Shh!  Shh!  Shh!  Shh!  Shh!  Shh!  Shh!  Shh! ...', \" We've lost him. [roar] \", ' Aagh!', ' As the horrendous Black Beast lunged forward, escape for Arthur and his knights seemed hopeless, when suddenly, the animator suffered a fatal heart attack.', ' Ulk! [thump] ', ' The cartoon peril was no more.  The quest for Holy Grail could continue.', 'SCENE 23: [gurgle] ', ' There it is!', ' The Bridge of Death!', ' Oh, great.', \" Look!  There's the old man from scene twenty-four!\", ' What is he doing here?', ' He is the keeper of the Bridge of Death.  He asks each traveller five questions--', ' Three questions.', ' Three questions.  He who answers the five questions--', ' Three questions.', ' Three questions may cross in safety.', ' What if you get a question wrong?', ' Then you are cast into the Gorge of Eternal Peril.', \" Oh, I won't go.\", \" Who's going to answer the questions?\", ' Sir Robin!', ' Yes?', ' Brave Sir Robin, you go.', \" Hey!  I've got a great idea.  Why doesn't Launcelot go?\", ' Yes.  Let me go, my liege.  I will take him single-handed.  I shall make a feint to the north-east that s--', ' No, no.  No.  Hang on!  Hang on!  Hang on!  Just answer the five questions--', ' Three questions.', ' Three questions as best you can.  And we shall watch...  and pray.', ' I understand, my liege.', ' Good luck, brave Sir Launcelot.  God be with you.', ' Stop!  Who would cross the Bridge of Death must answer me these questions three, ere the other side he see.', ' Ask me the questions, bridgekeeper.  I am not afraid.', ' What is your name?', ' My name is Sir Launcelot of Camelot.', ' What is your quest?', ' To seek the Holy Grail.', ' What is your favorite color?', ' Blue.', ' Right.  Off you go.', ' Oh, thank you.  Thank you very much.', \" That's easy!\", ' Stop!  Who approacheth the Bridge of Death must answer me these questions three, ere the other side he see.', \" Ask me the questions, bridgekeeper.  I'm not afraid.\", ' What is your name?', ' Sir Robin of Camelot.', ' What is your quest?', ' To seek the Holy Grail.', ' What is the capital of Assyria?', \" I don't know that!  Auuuuuuuugh!\", ' Stop!  What is your name?', ' Sir Galahad of Camelot.', ' What is your quest?', ' I seek the Grail.', ' What is your favorite color?', ' Blue.  No yel-- auuuuuuuugh!', ' Hee hee heh.  Stop!  What is your name?', ' It is Arthur, King of the Britons.', ' What is your quest?', ' To seek the Holy Grail.', ' What is the air-speed velocity of an unladen swallow?', ' What do you mean?  An African or European swallow?', \" Huh?  I-- I don't know that!  Auuuuuuuugh!\", ' How do know so much about swallows?', \" Well, you have to know these things when you're a king, you know. [suspenseful music] [music suddenly stops] [intermission] [suspenseful music resumes]\", 'SCENE 24:', ' Launcelot!  Launcelot!  Launcelot!', ' Launcelot!  Launcelot!', ' Launcelot! [police radio] Launcelot!', ' Launcelot!  Launcelot! [angels sing] [singing stops] [ethereal music] ', ' The Castle Aaagh.  Our quest is at an end!  God be praised!  Almighty God, we thank Thee that Thou hast vouchsafed to us the most holy-- [twong] [baaaa] Jesus Christ! [thud] ', ' Allo, dappy English k-niggets and Monsieur Arthur King, who has the brain of a duck, you know.  So, we French fellows outwit you a second time!', ' How dare you profane this place with your presence!  I command you, in the name of the Knights of Camelot, to open the doors of this sacred castle, to which God Himself has guided us!', \" How you English say, 'I one more time, mac, unclog my nose in your direction', sons of a window-dresser!  So, you think you could out-clever us French folk with your silly knees-bent running about advancing behaviour?!  I wave my private parts at your aunties, you cheesy lot of second hand electric donkey-bottom biters.\", ' In the name of the Lord, we demand entrance to this sacred castle!', \" No chance, English bed-wetting types.  I burst my pimples at you and call your door-opening request a silly thing, you tiny-brained wipers of other people's bottoms!\", ' If you do not open this door, we shall take this castle by force! [splat] In the name of God and the glory of our-- [splat] ', ' [laughing] ', ' Agh.  Right!  That settles it!', ' Yes, depart a lot at this time, and cut the approaching any more or we fire arrows at the tops of your heads and make castanets out of your testicles already!  Ha ha haaa ha!', ' Walk away.  Just ignore them.', \" And now, remain gone, illegitimate-faced bugger-folk!  And, if you think you got a nasty taunting this time, you ain't heard nothing yet, dappy English k-nnniggets!  Thpppt!\", ' [taunting] ', ' We shall attack at once!', ' Yes, my liege!', ' Stand by for attack! [exciting music] [music stops] [silence] French persons!', ' [taunting] ... Dappy! ...', ' Today the blood of many a valiant knight shall be avenged.  In the name of God, ...', ' Hoo hoo!  Ohh, ha ha ha ha ha! ...', \" ... we shall not stop our fight 'til each one of you lies dead, and the Holy Grail returns to those whom God has chosen!\", ' ... Ha ha ha! ...', ' Charge!', 'ARMY  Hooray! [police siren] ', \"HISTORIAN'S  Yes.  They're the ones.  I'm sure.\", ' Come on.  Anybody armed must go too.', ' All right.  Come on.  Back.', \"HISTORIAN'S  Get that one.\", ' Back.  Right away.  Just...  pull it off.  Come on.  Come along.', ' Put this man in the van.', ' Clear off.  Come on.', ' With whom?', ' Which one?', ' Oh-- this one.', ' Come on.  Put him in the van.', ' Get a blanket.', ' We have no hospital.', ' Ahh. [squeak] ', ' Ooh.', ' Come on.  Back.  Riiight back.  Come on!', ' Run along!  Run along!', \" Pull that off.  My, that's an offensive weapon, that is.\", \" Come on.  Back with 'em.  Back.  Right.  Come along.\", ' Everything? [squeak] ', \" All right, sonny.  That's enough.  Just pack that in. [crash] \", ' Christ!', '']\n"
     ]
    }
   ],
   "source": [
    "# Replace all script lines for speaker\n",
    "pattern = \"[A-Z]{2,}(\\s)?(#\\d)?([A-Z]{2,})?:\"\n",
    "lines = [re.sub(pattern, '', l) for l in lines]\n",
    "print(lines)"
   ]
  },
  {
   "cell_type": "code",
   "execution_count": 201,
   "id": "6364f727",
   "metadata": {},
   "outputs": [
    {
     "name": "stdout",
     "output_type": "stream",
     "text": [
      "[['SCENE', '1', 'wind', 'clop', 'clop', 'clop'], ['Whoa', 'there', 'clop', 'clop', 'clop'], ['Halt', 'Who', 'goes', 'there'], ['It', 'is', 'I', 'Arthur', 'son', 'of', 'Uther', 'Pendragon', 'from', 'the', 'castle', 'of', 'Camelot', 'King', 'of', 'the', 'Britons', 'defeator', 'of', 'the', 'Saxons', 'sovereign', 'of', 'all', 'England'], ['Pull', 'the', 'other', 'one'], ['I', 'am', 'and', 'this', 'is', 'my', 'trusty', 'servant', 'Patsy', 'We', 'have', 'ridden', 'the', 'length', 'and', 'breadth', 'of', 'the', 'land', 'in', 'search', 'of', 'knights', 'who', 'will', 'join', 'me', 'in', 'my', 'court', 'at', 'Camelot', 'I', 'must', 'speak', 'with', 'your', 'lord', 'and', 'master'], ['What', 'Ridden', 'on', 'a', 'horse'], ['Yes'], ['You', 're', 'using', 'coconuts'], ['What'], ['You', 've', 'got', 'two', 'empty', 'halves', 'of', 'coconut', 'and', 'you', 're', 'bangin', 'em', 'together'], ['So', 'We', 'have', 'ridden', 'since', 'the', 'snows', 'of', 'winter', 'covered', 'this', 'land', 'through', 'the', 'kingdom', 'of', 'Mercea', 'through'], ['Where', 'd', 'you', 'get', 'the', 'coconuts'], ['We', 'found', 'them'], ['Found', 'them', 'In', 'Mercea', 'The', 'coconut', 's', 'tropical'], ['What', 'do', 'you', 'mean'], ['Well', 'this', 'is', 'a', 'temperate', 'zone'], ['The', 'swallow', 'may', 'fly', 'south', 'with', 'the', 'sun', 'or', 'the', 'house', 'martin', 'or', 'the', 'plover', 'may', 'seek', 'warmer', 'climes', 'in', 'winter', 'yet', 'these', 'are', 'not', 'strangers', 'to', 'our', 'land'], ['Are', 'you', 'suggesting', 'coconuts', 'migrate'], ['Not', 'at', 'all', 'They', 'could', 'be', 'carried'], ['What', 'A', 'swallow', 'carrying', 'a', 'coconut'], ['It', 'could', 'grip', 'it', 'by', 'the', 'husk'], ['It', 's', 'not', 'a', 'question', 'of', 'where', 'he', 'grips', 'it', 'It', 's', 'a', 'simple', 'question', 'of', 'weight', 'ratios', 'A', 'five', 'ounce', 'bird', 'could', 'not', 'carry', 'a', 'one', 'pound', 'coconut'], ['Well', 'it', 'doesn', 't', 'matter', 'Will', 'you', 'go', 'and', 'tell', 'your', 'master', 'that', 'Arthur', 'from', 'the', 'Court', 'of', 'Camelot', 'is', 'here'], ['Listen', 'In', 'order', 'to', 'maintain', 'air', 'speed', 'velocity', 'a', 'swallow', 'needs', 'to', 'beat', 'its', 'wings', 'forty', 'three', 'times', 'every', 'second', 'right'], ['Please'], ['Am', 'I', 'right'], ['I', 'm', 'not', 'interested'], ['It', 'could', 'be', 'carried', 'by', 'an', 'African', 'swallow'], ['Oh', 'yeah', 'an', 'African', 'swallow', 'maybe', 'but', 'not', 'a', 'European', 'swallow', 'That', 's', 'my', 'point'], ['Oh', 'yeah', 'I', 'agree', 'with', 'that'], ['Will', 'you', 'ask', 'your', 'master', 'if', 'he', 'wants', 'to', 'join', 'my', 'court', 'at', 'Camelot'], ['But', 'then', 'of', 'course', 'a', 'African', 'swallows', 'are', 'non', 'migratory'], ['Oh', 'yeah'], ['So', 'they', 'couldn', 't', 'bring', 'a', 'coconut', 'back', 'anyway', 'clop', 'clop', 'clop'], ['Wait', 'a', 'minute', 'Supposing', 'two', 'swallows', 'carried', 'it', 'together'], ['No', 'they', 'd', 'have', 'to', 'have', 'it', 'on', 'a', 'line'], ['Well', 'simple', 'They', 'd', 'just', 'use', 'a', 'strand', 'of', 'creeper'], ['What', 'held', 'under', 'the', 'dorsal', 'guiding', 'feathers'], ['Well', 'why', 'not'], ['SCENE', '2', 'thud', 'clang'], ['CART', 'Bring', 'out', 'your', 'dead', 'clang', 'Bring', 'out', 'your', 'dead', 'clang', 'Bring', 'out', 'your', 'dead', 'clang', 'Bring', 'out', 'your', 'dead', 'clang', 'Bring', 'out', 'your', 'dead', 'cough', 'cough', 'clang', 'cough', 'cough', 'Bring', 'out', 'your', 'dead', 'clang', 'Bring', 'out', 'your', 'dead', 'clang', 'Bring', 'out', 'your', 'dead', 'Ninepence', 'clang', 'Bring', 'out', 'your', 'dead', 'clang', 'Bring', 'out', 'your', 'dead', 'clang', 'Bring', 'out', 'rewr', 'your', 'dead', 'rewr', 'clang', 'Bring', 'out', 'your', 'dead'], ['Here', 's', 'one'], ['CART', 'Ninepence'], ['I', 'm', 'not', 'dead'], ['CART', 'What'], ['Nothing', 'Here', 's', 'your', 'ninepence'], ['I', 'm', 'not', 'dead'], ['CART', 'Ere', 'He', 'says', 'he', 's', 'not', 'dead'], ['Yes', 'he', 'is'], ['I', 'm', 'not'], ['CART', 'He', 'isn', 't'], ['Well', 'he', 'will', 'be', 'soon', 'He', 's', 'very', 'ill'], ['I', 'm', 'getting', 'better'], ['No', 'you', 're', 'not', 'You', 'll', 'be', 'stone', 'dead', 'in', 'a', 'moment'], ['CART', 'Oh', 'I', 'can', 't', 'take', 'him', 'like', 'that', 'It', 's', 'against', 'regulations'], ['I', 'don', 't', 'want', 'to', 'go', 'on', 'the', 'cart'], ['Oh', 'don', 't', 'be', 'such', 'a', 'baby'], ['CART', 'I', 'can', 't', 'take', 'him'], ['I', 'feel', 'fine'], ['Well', 'do', 'us', 'a', 'favor'], ['CART', 'I', 'can', 't'], ['Well', 'can', 'you', 'hang', 'around', 'a', 'couple', 'of', 'minutes', 'He', 'won', 't', 'be', 'long'], ['CART', 'No', 'I', 've', 'got', 'to', 'go', 'to', 'the', 'Robinson', 's', 'They', 've', 'lost', 'nine', 'today'], ['Well', 'when', 's', 'your', 'next', 'round'], ['CART', 'Thursday'], ['I', 'think', 'I', 'll', 'go', 'for', 'a', 'walk'], ['You', 're', 'not', 'fooling', 'anyone', 'you', 'know', 'Look', 'isn', 't', 'there', 'something', 'you', 'can', 'do'], ['singing', 'I', 'feel', 'happy', 'I', 'feel', 'happy', 'whop'], ['Ah', 'thanks', 'very', 'much'], ['CART', 'Not', 'at', 'all', 'See', 'you', 'on', 'Thursday'], ['Right', 'All', 'right', 'howl', 'clop', 'clop', 'clop', 'Who', 's', 'that', 'then'], ['CART', 'I', 'dunno', 'Must', 'be', 'a', 'king'], ['Why'], ['CART', 'He', 'hasn', 't', 'got', 'shit', 'all', 'over', 'him'], ['SCENE', '3', 'thud', 'King', 'Arthur', 'music', 'thud', 'thud', 'thud', 'King', 'Arthur', 'music', 'stops'], ['Old', 'woman'], ['Man'], ['Man', 'Sorry', 'What', 'knight', 'live', 'in', 'that', 'castle', 'over', 'there'], ['I', 'm', 'thirty', 'seven'], ['I', 'what'], ['I', 'm', 'thirty', 'seven', 'I', 'm', 'not', 'old'], ['Well', 'I', 'can', 't', 'just', 'call', 'you', 'Man'], ['Well', 'you', 'could', 'say', 'Dennis'], ['Well', 'I', 'didn', 't', 'know', 'you', 'were', 'called', 'Dennis'], ['Well', 'you', 'didn', 't', 'bother', 'to', 'find', 'out', 'did', 'you'], ['I', 'did', 'say', 'sorry', 'about', 'the', 'old', 'woman', 'but', 'from', 'the', 'behind', 'you', 'looked'], ['What', 'I', 'object', 'to', 'is', 'that', 'you', 'automatically', 'treat', 'me', 'like', 'an', 'inferior'], ['Well', 'I', 'am', 'king'], ['Oh', 'king', 'eh', 'very', 'nice', 'And', 'how', 'd', 'you', 'get', 'that', 'eh', 'By', 'exploiting', 'the', 'workers', 'By', 'anging', 'on', 'to', 'outdated', 'imperialist', 'dogma', 'which', 'perpetuates', 'the', 'economic', 'and', 'social', 'differences', 'in', 'our', 'society', 'If', 'there', 's', 'ever', 'going', 'to', 'be', 'any', 'progress', 'with', 'the'], ['Dennis', 'there', 's', 'some', 'lovely', 'filth', 'down', 'here', 'Oh', 'How', 'd', 'you', 'do'], ['How', 'do', 'you', 'do', 'good', 'lady', 'I', 'am', 'Arthur', 'King', 'of', 'the', 'Britons', 'Who', 's', 'castle', 'is', 'that'], ['King', 'of', 'the', 'who'], ['The', 'Britons'], ['Who', 'are', 'the', 'Britons'], ['Well', 'we', 'all', 'are', 'We', 'are', 'all', 'Britons', 'and', 'I', 'am', 'your', 'king'], ['I', 'didn', 't', 'know', 'we', 'had', 'a', 'king', 'I', 'thought', 'we', 'were', 'an', 'autonomous', 'collective'], ['You', 're', 'fooling', 'yourself', 'We', 're', 'living', 'in', 'a', 'dictatorship', 'A', 'self', 'perpetuating', 'autocracy', 'in', 'which', 'the', 'working', 'classes'], ['Oh', 'there', 'you', 'go', 'bringing', 'class', 'into', 'it', 'again'], ['That', 's', 'what', 'it', 's', 'all', 'about', 'If', 'only', 'people', 'would', 'hear', 'of'], ['Please', 'please', 'good', 'people', 'I', 'am', 'in', 'haste', 'Who', 'lives', 'in', 'that', 'castle'], ['No', 'one', 'live', 'there'], ['Then', 'who', 'is', 'your', 'lord'], ['We', 'don', 't', 'have', 'a', 'lord'], ['What'], ['I', 'told', 'you', 'We', 're', 'an', 'anarcho', 'syndicalist', 'commune', 'We', 'take', 'it', 'in', 'turns', 'to', 'act', 'as', 'a', 'sort', 'of', 'executive', 'officer', 'for', 'the', 'week'], ['Yes'], ['But', 'all', 'the', 'decision', 'of', 'that', 'officer', 'have', 'to', 'be', 'ratified', 'at', 'a', 'special', 'bi', 'weekly', 'meeting'], ['Yes', 'I', 'see'], ['By', 'a', 'simple', 'majority', 'in', 'the', 'case', 'of', 'purely', 'internal', 'affairs'], ['Be', 'quiet'], ['But', 'by', 'a', 'two', 'thirds', 'majority', 'in', 'the', 'case', 'of', 'more', 'major'], ['Be', 'quiet', 'I', 'order', 'you', 'to', 'be', 'quiet'], ['Order', 'eh', 'Who', 'does', 'he', 'think', 'he', 'is', 'Heh'], ['I', 'am', 'your', 'king'], ['Well', 'I', 'didn', 't', 'vote', 'for', 'you'], ['You', 'don', 't', 'vote', 'for', 'kings'], ['Well', 'how', 'did', 'you', 'become', 'king', 'then'], ['The', 'Lady', 'of', 'the', 'Lake', 'angels', 'sing', 'her', 'arm', 'clad', 'in', 'the', 'purest', 'shimmering', 'samite', 'held', 'aloft', 'Excalibur', 'from', 'the', 'bosom', 'of', 'the', 'water', 'signifying', 'by', 'Divine', 'Providence', 'that', 'I', 'Arthur', 'was', 'to', 'carry', 'Excalibur', 'singing', 'stops', 'That', 'is', 'why', 'I', 'am', 'your', 'king'], ['Listen', 'strange', 'women', 'lying', 'in', 'ponds', 'distributing', 'swords', 'is', 'no', 'basis', 'for', 'a', 'system', 'of', 'government', 'Supreme', 'executive', 'power', 'derives', 'from', 'a', 'mandate', 'from', 'the', 'masses', 'not', 'from', 'some', 'farcical', 'aquatic', 'ceremony'], ['Be', 'quiet'], ['Well', 'but', 'you', 'can', 't', 'expect', 'to', 'wield', 'supreme', 'executive', 'power', 'just', 'cause', 'some', 'watery', 'tart', 'threw', 'a', 'sword', 'at', 'you'], ['Shut', 'up'], ['I', 'mean', 'if', 'I', 'went', 'round', 'saying', 'I', 'was', 'an', 'emperor', 'just', 'because', 'some', 'moistened', 'bint', 'had', 'lobbed', 'a', 'scimitar', 'at', 'me', 'they', 'd', 'put', 'me', 'away'], ['Shut', 'up', 'will', 'you', 'Shut', 'up'], ['Ah', 'now', 'we', 'see', 'the', 'violence', 'inherent', 'in', 'the', 'system'], ['Shut', 'up'], ['Oh', 'Come', 'and', 'see', 'the', 'violence', 'inherent', 'in', 'the', 'system', 'Help', 'help', 'I', 'm', 'being', 'repressed'], ['Bloody', 'peasant'], ['Oh', 'what', 'a', 'give', 'away', 'Did', 'you', 'hear', 'that', 'Did', 'you', 'hear', 'that', 'eh', 'That', 's', 'what', 'I', 'm', 'on', 'about', 'Did', 'you', 'see', 'him', 'repressing', 'me', 'You', 'saw', 'it', 'didn', 't', 'you'], ['SCENE', '4', 'King', 'Arthur', 'music', 'music', 'stops'], ['Aaagh', 'King', 'Arthur', 'music', 'music', 'stops'], ['Aaagh'], ['Ooh', 'King', 'Arthur', 'music', 'music', 'stops', 'stab'], ['Aagh'], ['Oh', 'King', 'Arthur', 'music', 'Ooh', 'music', 'stops'], ['Aaagh', 'clang'], ['BLACK', 'KNIGHT', 'and', 'Agh', 'oh', 'etc'], ['Aaaaaah', 'Aaaaaaaaah', 'woosh', 'BLACK', 'KNIGHT', 'kills', 'GREEN', 'KNIGHT', 'thud', 'scrape'], ['Umm', 'clop', 'clop', 'clop'], ['You', 'fight', 'with', 'the', 'strength', 'of', 'many', 'men', 'Sir', 'Knight', 'pause', 'I', 'am', 'Arthur', 'King', 'of', 'the', 'Britons', 'pause', 'I', 'seek', 'the', 'finest', 'and', 'the', 'bravest', 'knights', 'in', 'the', 'land', 'to', 'join', 'me', 'in', 'my', 'court', 'at', 'Camelot', 'pause', 'You', 'have', 'proved', 'yourself', 'worthy', 'Will', 'you', 'join', 'me', 'pause', 'You', 'make', 'me', 'sad', 'So', 'be', 'it', 'Come', 'Patsy'], ['None', 'shall', 'pass'], ['What'], ['None', 'shall', 'pass'], ['I', 'have', 'no', 'quarrel', 'with', 'you', 'good', 'Sir', 'Knight', 'but', 'I', 'must', 'cross', 'this', 'bridge'], ['Then', 'you', 'shall', 'die'], ['I', 'command', 'you', 'as', 'King', 'of', 'the', 'Britons', 'to', 'stand', 'aside'], ['I', 'move', 'for', 'no', 'man'], ['So', 'be', 'it'], ['ARTHUR', 'and', 'Aaah', 'hiyaah', 'etc', 'ARTHUR', 'chops', 'the', 'BLACK', 'KNIGHT', 's', 'left', 'arm', 'off'], ['Now', 'stand', 'aside', 'worthy', 'adversary'], ['Tis', 'but', 'a', 'scratch'], ['A', 'scratch', 'Your', 'arm', 's', 'off'], ['No', 'it', 'isn', 't'], ['Well', 'what', 's', 'that', 'then'], ['I', 've', 'had', 'worse'], ['You', 'liar'], ['Come', 'on', 'you', 'pansy', 'clang', 'Huyah', 'clang', 'Hiyaah', 'clang', 'Aaaaaaaah', 'ARTHUR', 'chops', 'the', 'BLACK', 'KNIGHT', 's', 'right', 'arm', 'off'], ['Victory', 'is', 'mine', 'kneeling', 'We', 'thank', 'Thee', 'Lord', 'that', 'in', 'Thy', 'mer'], ['Hah', 'clunk', 'Come', 'on', 'then'], ['What'], ['Have', 'at', 'you', 'kick'], ['Eh', 'You', 'are', 'indeed', 'brave', 'Sir', 'Knight', 'but', 'the', 'fight', 'is', 'mine'], ['Oh', 'had', 'enough', 'eh'], ['Look', 'you', 'stupid', 'bastard', 'You', 've', 'got', 'no', 'arms', 'left'], ['Yes', 'I', 'have'], ['Look'], ['Just', 'a', 'flesh', 'wound', 'kick'], ['Look', 'stop', 'that'], ['Chicken', 'kick', 'Chickennn'], ['Look', 'I', 'll', 'have', 'your', 'leg', 'kick', 'Right', 'whop', 'ARTHUR', 'chops', 'the', 'BLACK', 'KNIGHT', 's', 'right', 'leg', 'off'], ['Right', 'I', 'll', 'do', 'you', 'for', 'that'], ['You', 'll', 'what'], ['Come', 'here'], ['What', 'are', 'you', 'going', 'to', 'do', 'bleed', 'on', 'me'], ['I', 'm', 'invincible'], ['You', 're', 'a', 'looney'], ['The', 'Black', 'Knight', 'always', 'triumphs', 'Have', 'at', 'you', 'Come', 'on', 'then', 'whop', 'ARTHUR', 'chops', 'the', 'BLACK', 'KNIGHT', 's', 'last', 'leg', 'off'], ['Ooh', 'All', 'right', 'we', 'll', 'call', 'it', 'a', 'draw'], ['Come', 'Patsy'], ['Oh', 'Oh', 'I', 'see', 'Running', 'away', 'eh', 'You', 'yellow', 'bastards', 'Come', 'back', 'here', 'and', 'take', 'what', 's', 'coming', 'to', 'you', 'I', 'll', 'bite', 'your', 'legs', 'off'], ['SCENE', '5'], ['chanting', 'Pie', 'Iesu', 'domine', 'dona', 'eis', 'requiem', 'bonk', 'Pie', 'Iesu', 'domine', 'bonk', 'dona', 'eis', 'requiem', 'bonk', 'Pie', 'Iesu', 'domine', 'bonk', 'dona', 'eis', 'requiem'], ['A', 'witch', 'A', 'witch', 'bonk', 'A', 'witch', 'A', 'witch'], ['chanting', 'Pie', 'Iesu', 'domine'], ['A', 'witch', 'A', 'witch', 'A', 'witch', 'A', 'witch', 'We', 've', 'found', 'a', 'witch', 'A', 'witch', 'A', 'witch', 'A', 'witch', 'A', 'witch', 'We', 've', 'got', 'a', 'witch', 'A', 'witch', 'A', 'witch', 'Burn', 'her', 'Burn', 'her', 'Burn', 'her', 'We', 've', 'found', 'a', 'witch', 'We', 've', 'found', 'a', 'witch', 'A', 'witch', 'A', 'witch', 'A', 'witch'], ['We', 'have', 'found', 'a', 'witch', 'May', 'we', 'burn', 'her'], ['Burn', 'her', 'Burn', 'Burn', 'her', 'Burn', 'her'], ['How', 'do', 'you', 'know', 'she', 'is', 'a', 'witch'], ['She', 'looks', 'like', 'one'], ['Right', 'Yeah', 'Yeah'], ['Bring', 'her', 'forward'], ['I', 'm', 'not', 'a', 'witch', 'I', 'm', 'not', 'a', 'witch'], ['Uh', 'but', 'you', 'are', 'dressed', 'as', 'one'], ['They', 'dressed', 'me', 'up', 'like', 'this'], ['Augh', 'we', 'didn', 't', 'We', 'didn', 't'], ['And', 'this', 'isn', 't', 'my', 'nose', 'It', 's', 'a', 'false', 'one'], ['Well'], ['Well', 'we', 'did', 'do', 'the', 'nose'], ['The', 'nose'], ['And', 'the', 'hat', 'but', 'she', 'is', 'a', 'witch'], ['Yeah'], ['We', 'burn', 'her', 'Right', 'Yeaaah', 'Yeaah'], ['Did', 'you', 'dress', 'her', 'up', 'like', 'this'], ['No'], ['VILLAGER', '2', 'and', '3', 'No', 'No'], ['No'], ['No'], ['VILLAGERS', '2', 'and', '3', 'No'], ['Yes'], ['Yes'], ['Yes', 'Yeah', 'a', 'bit'], ['A', 'bit'], ['VILLAGERS', '1', 'and', '2', 'A', 'bit'], ['A', 'bit'], ['She', 'has', 'got', 'a', 'wart'], ['cough'], ['What', 'makes', 'you', 'think', 'she', 'is', 'a', 'witch'], ['Well', 'she', 'turned', 'me', 'into', 'a', 'newt'], ['A', 'newt'], ['I', 'got', 'better'], ['Burn', 'her', 'anyway'], ['Burn'], ['Burn', 'her', 'Burn', 'Burn', 'her'], ['Quiet', 'Quiet', 'Quiet', 'Quiet', 'There', 'are', 'ways', 'of', 'telling', 'whether', 'she', 'is', 'a', 'witch'], ['Are', 'there'], ['Ah'], ['What', 'are', 'they'], ['Tell', 'us', 'Tell', 'us'], ['Tell', 'me', 'what', 'do', 'you', 'do', 'with', 'witches'], ['Burn'], ['Burn'], ['Burn', 'Burn', 'them', 'up', 'Burn'], ['And', 'what', 'do', 'you', 'burn', 'apart', 'from', 'witches'], ['More', 'witches'], ['Shh'], ['Wood'], ['So', 'why', 'do', 'witches', 'burn', 'pause'], ['B', 'cause', 'they', 're', 'made', 'of', 'wood'], ['Good', 'Heh', 'heh'], ['Oh', 'yeah', 'Oh'], ['So', 'how', 'do', 'we', 'tell', 'whether', 'she', 'is', 'made', 'of', 'wood'], ['Build', 'a', 'bridge', 'out', 'of', 'her'], ['Ah', 'but', 'can', 'you', 'not', 'also', 'make', 'bridges', 'out', 'of', 'stone'], ['Oh', 'yeah'], ['Oh', 'yeah', 'True', 'Uhh'], ['Does', 'wood', 'sink', 'in', 'water'], ['No', 'No'], ['No', 'it', 'floats', 'It', 'floats'], ['Throw', 'her', 'into', 'the', 'pond'], ['The', 'pond', 'Throw', 'her', 'into', 'the', 'pond'], ['What', 'also', 'floats', 'in', 'water'], ['Bread'], ['Apples'], ['Uh', 'very', 'small', 'rocks'], ['Cider'], ['Uh', 'gra', 'gravy'], ['Cherries'], ['Mud'], ['Churches', 'Churches'], ['Lead', 'Lead'], ['A', 'duck'], ['Oooh'], ['Exactly', 'So', 'logically'], ['If', 'she', 'weighs', 'the', 'same', 'as', 'a', 'duck', 'she', 's', 'made', 'of', 'wood'], ['And', 'therefore'], ['A', 'witch'], ['A', 'witch'], ['A', 'witch', 'A', 'witch'], ['Here', 'is', 'a', 'duck', 'Use', 'this', 'duck', 'quack', 'quack', 'quack'], ['We', 'shall', 'use', 'my', 'largest', 'scales'], ['Ohh', 'Ohh', 'Burn', 'the', 'witch', 'Burn', 'the', 'witch', 'Burn', 'her', 'Burn', 'her', 'Burn', 'her', 'Burn', 'her', 'Burn', 'her', 'Burn', 'her', 'Burn', 'her', 'Ahh', 'Ahh'], ['Right', 'Remove', 'the', 'supports', 'whop', 'clunk', 'creak'], ['A', 'witch', 'A', 'witch', 'A', 'witch'], ['It', 's', 'a', 'fair', 'cop'], ['Burn', 'her'], ['Burn', 'her', 'Burn', 'her', 'Burn', 'her', 'Burn', 'Burn'], ['Who', 'are', 'you', 'who', 'are', 'so', 'wise', 'in', 'the', 'ways', 'of', 'science'], ['I', 'am', 'Arthur', 'King', 'of', 'the', 'Britons'], ['My', 'liege'], ['Good', 'Sir', 'Knight', 'will', 'you', 'come', 'with', 'me', 'to', 'Camelot', 'and', 'join', 'us', 'at', 'the', 'Round', 'Table'], ['My', 'liege', 'I', 'would', 'be', 'honored'], ['What', 'is', 'your', 'name'], ['Bedevere', 'my', 'liege'], ['Then', 'I', 'dub', 'you', 'Sir', 'Bedevere', 'Knight', 'of', 'the', 'Round', 'Table'], ['The', 'wise', 'Sir', 'Bedevere', 'was', 'the', 'first', 'to', 'join', 'King', 'Arthur', 's', 'knights', 'but', 'other', 'illustrious', 'names', 'were', 'soon', 'to', 'follow', 'Sir', 'Lancelot', 'the', 'Brave', 'Sir', 'Gallahad', 'the', 'Pure', 'and', 'Sir', 'Robin', 'the', 'not', 'quite', 'so', 'brave', 'as', 'Sir', 'Lancelot', 'who', 'had', 'nearly', 'fought', 'the', 'Dragon', 'of', 'Angnor', 'who', 'had', 'nearly', 'stood', 'up', 'to', 'the', 'vicious', 'Chicken', 'of', 'Bristol', 'and', 'who', 'had', 'personally', 'wet', 'himself', 'at', 'the', 'Battle', 'of', 'Badon', 'Hill', 'and', 'the', 'aptly', 'named', 'Sir', 'Not', 'appearing', 'in', 'this', 'film', 'Together', 'they', 'formed', 'a', 'band', 'whose', 'names', 'and', 'deeds', 'were', 'to', 'be', 'retold', 'throughout', 'the', 'centuries', 'the', 'Knights', 'of', 'the', 'Round', 'Table'], ['SCENE', '6', 'clop', 'clop', 'clop'], ['And', 'that', 'my', 'liege', 'is', 'how', 'we', 'know', 'the', 'earth', 'to', 'be', 'banana', 'shaped'], ['This', 'new', 'learning', 'amazes', 'me', 'Sir', 'Bedevere', 'Explain', 'again', 'how', 'sheep', 's', 'bladders', 'may', 'be', 'employed', 'to', 'prevent', 'earthquakes'], ['Oh', 'certainly', 'sir'], ['Look', 'my', 'liege', 'trumpets'], ['Camelot'], ['Camelot'], ['Camelot'], ['It', 's', 'only', 'a', 'model'], ['Shh', 'Knights', 'I', 'bid', 'you', 'welcome', 'to', 'your', 'new', 'home', 'Let', 'us', 'ride', 'to', 'Camelot', 'in', 'medieval', 'hall'], ['singing', 'We', 're', 'knights', 'of', 'the', 'round', 'table', 'We', 'dance', 'when', 'e', 'er', 'we', 're', 'able', 'We', 'do', 'routines', 'and', 'chorus', 'scenes', 'With', 'footwork', 'impeccable', 'We', 'dine', 'well', 'here', 'in', 'Camelot', 'We', 'eat', 'ham', 'and', 'jam', 'and', 'spam', 'a', 'lot', 'dancing', 'We', 're', 'knights', 'of', 'the', 'Round', 'Table', 'Our', 'shows', 'are', 'formidable', 'But', 'many', 'times', 'we', 're', 'given', 'rhymes', 'That', 'are', 'quite', 'unsingable', 'We', 're', 'opera', 'mad', 'in', 'Camelot', 'We', 'sing', 'from', 'the', 'diaphragm', 'a', 'lot', 'in', 'dungeon'], ['clap', 'clap', 'clap', 'clap', 'in', 'medieval', 'hall'], ['tap', 'dancing', 'In', 'war', 'we', 're', 'tough', 'and', 'able', 'Quite', 'indefatigable', 'Between', 'our', 'quests', 'we', 'sequin', 'vests', 'and', 'impersonate', 'Clark', 'Gable', 'It', 's', 'a', 'busy', 'life', 'in', 'Camelot'], ['I', 'have', 'to', 'push', 'the', 'pram', 'a', 'lot', 'outdoors'], ['Well', 'on', 'second', 'thought', 'let', 's', 'not', 'go', 'to', 'Camelot', 'It', 'is', 'a', 'silly', 'place'], ['Right', 'Right'], ['SCENE', '7', 'clop', 'clop', 'clop', 'boom', 'boom', 'angels', 'sing'], ['Arthur', 'Arthur', 'King', 'of', 'the', 'Britons', 'Oh', 'don', 't', 'grovel', 'singing', 'stops', 'One', 'thing', 'I', 'can', 't', 'stand', 'it', 's', 'people', 'groveling'], ['Sorry', 'boom'], ['And', 'don', 't', 'apologise', 'Every', 'time', 'I', 'try', 'to', 'talk', 'to', 'someone', 'it', 's', 'sorry', 'this', 'and', 'forgive', 'me', 'that', 'and', 'I', 'm', 'not', 'worthy', 'boom', 'What', 'are', 'you', 'doing', 'now'], ['I', 'm', 'averting', 'my', 'eyes', 'O', 'Lord'], ['Well', 'don', 't', 'It', 's', 'like', 'those', 'miserable', 'Psalms', 'they', 're', 'so', 'depressing', 'Now', 'knock', 'it', 'off'], ['Yes', 'Lord'], ['Right', 'Arthur', 'King', 'of', 'the', 'Britons', 'your', 'Knights', 'of', 'the', 'Round', 'Table', 'shall', 'have', 'a', 'task', 'to', 'make', 'them', 'an', 'example', 'in', 'these', 'dark', 'times'], ['Good', 'idea', 'O', 'Lord'], ['Course', 'it', 's', 'a', 'good', 'idea', 'Behold', 'angels', 'sing', 'Arthur', 'this', 'is', 'the', 'Holy', 'Grail', 'Look', 'well', 'Arthur', 'for', 'it', 'is', 'your', 'sacred', 'task', 'to', 'seek', 'this', 'grail', 'That', 'is', 'your', 'purpose', 'Arthur', 'the', 'quest', 'for', 'the', 'Holy', 'Grail', 'boom', 'singing', 'stops'], ['A', 'blessing', 'A', 'blessing', 'from', 'the', 'Lord'], ['God', 'be', 'praised'], ['SCENE', '8', 'King', 'Arthur', 'music', 'clop', 'clop', 'clop'], ['Halt', 'horn', 'Hallo', 'pause', 'Hallo'], ['Allo', 'Who', 'is', 'eet'], ['It', 'is', 'King', 'Arthur', 'and', 'these', 'are', 'my', 'Knights', 'of', 'the', 'Round', 'Table', 'Who', 's', 'castle', 'is', 'this'], ['This', 'is', 'the', 'castle', 'of', 'my', 'master', 'Guy', 'de', 'Loimbard'], ['Go', 'and', 'tell', 'your', 'master', 'that', 'we', 'have', 'been', 'charged', 'by', 'God', 'with', 'a', 'sacred', 'quest', 'If', 'he', 'will', 'give', 'us', 'food', 'and', 'shelter', 'for', 'the', 'night', 'he', 'can', 'join', 'us', 'in', 'our', 'quest', 'for', 'the', 'Holy', 'Grail'], ['Well', 'I', 'll', 'ask', 'him', 'but', 'I', 'don', 't', 'think', 'he', 'll', 'be', 'very', 'keen', 'Uh', 'he', 's', 'already', 'got', 'one', 'you', 'see'], ['What'], ['He', 'says', 'they', 've', 'already', 'got', 'one'], ['Are', 'you', 'sure', 'he', 's', 'got', 'one'], ['Oh', 'yes', 'it', 's', 'very', 'nice', 'a', 'I', 'told', 'him', 'we', 'already', 'got', 'one'], ['Well', 'u', 'um', 'can', 'we', 'come', 'up', 'and', 'have', 'a', 'look'], ['Of', 'course', 'not', 'You', 'are', 'English', 'types', 'a'], ['Well', 'what', 'are', 'you', 'then'], ['I', 'm', 'French', 'Why', 'do', 'think', 'I', 'have', 'this', 'outrageous', 'accent', 'you', 'silly', 'king', 'a'], ['What', 'are', 'you', 'doing', 'in', 'England'], ['Mind', 'your', 'own', 'business'], ['If', 'you', 'will', 'not', 'show', 'us', 'the', 'Grail', 'we', 'shall', 'take', 'your', 'castle', 'by', 'force'], ['You', 'don', 't', 'frighten', 'us', 'English', 'pig', 'dogs', 'Go', 'and', 'boil', 'your', 'bottom', 'sons', 'of', 'a', 'silly', 'person', 'I', 'blow', 'my', 'nose', 'at', 'you', 'so', 'called', 'Arthur', 'King', 'you', 'and', 'all', 'your', 'silly', 'English', 'k', 'nnnnniggets', 'Thpppppt', 'Thppt', 'Thppt'], ['What', 'a', 'strange', 'person'], ['Now', 'look', 'here', 'my', 'good', 'man'], ['I', 'don', 't', 'wanna', 'talk', 'to', 'you', 'no', 'more', 'you', 'empty', 'headed', 'animal', 'food', 'trough', 'wiper', 'I', 'fart', 'in', 'your', 'general', 'direction', 'You', 'mother', 'was', 'a', 'hamster', 'and', 'your', 'father', 'smelt', 'of', 'elderberries'], ['Is', 'there', 'someone', 'else', 'up', 'there', 'we', 'could', 'talk', 'to'], ['No', 'now', 'go', 'away', 'or', 'I', 'shall', 'taunt', 'you', 'a', 'second', 'time', 'a', 'sniff'], ['Now', 'this', 'is', 'your', 'last', 'chance', 'I', 've', 'been', 'more', 'than', 'reasonable'], ['Fetchez', 'la', 'vache'], ['OTHER', 'Quoi'], ['Fetchez', 'la', 'vache', 'mooo'], ['If', 'you', 'do', 'not', 'agree', 'to', 'my', 'commands', 'then', 'I', 'shall', 'twong', 'mooooooo', 'Jesus', 'Christ'], ['Christ', 'thud', 'Ah', 'Ohh'], ['Right', 'Charge'], ['Charge', 'mayhem'], ['Hey', 'this', 'one', 'is', 'for', 'your', 'mother', 'There', 'you', 'go', 'mayhem'], ['And', 'this', 'one', 's', 'for', 'your', 'dad'], ['Run', 'away'], ['Run', 'away'], ['Thppppt'], ['taunting'], ['Fiends', 'I', 'll', 'tear', 'them', 'apart'], ['No', 'no', 'No', 'no'], ['Sir', 'I', 'have', 'a', 'plan', 'sir', 'later', 'wind', 'saw', 'saw', 'saw', 'saw', 'saw', 'saw', 'saw', 'saw', 'saw', 'saw', 'saw', 'saw', 'saw', 'saw', 'saw', 'saw', 'clunk', 'bang', 'rewr', 'squeak', 'squeak', 'squeak', 'squeak', 'squeak', 'squeak', 'squeak', 'squeak', 'squeak', 'squeak', 'rrrr', 'rrrr', 'rrrr', 'drilllll', 'sawwwww', 'clunk', 'crash', 'clang', 'squeak', 'squeak', 'squeak', 'squeak', 'squeak', 'creak'], ['whispering', 'C', 'est', 'un', 'lapin', 'lapin', 'de', 'bois', 'Quoi', 'Un', 'cadeau', 'What', 'A', 'present', 'Oh', 'un', 'cadeau', 'Oui', 'oui', 'Hurry', 'What', 'Let', 's', 'go', 'Oh', 'On', 'y', 'va', 'Bon', 'magne', 'Over', 'here', 'squeak', 'squeak', 'squeak', 'squeak', 'squeak', 'clllank'], ['What', 'happens', 'now'], ['Well', 'now', 'uh', 'Launcelot', 'Galahad', 'and', 'I', 'uh', 'wait', 'until', 'nightfall', 'and', 'then', 'leap', 'out', 'of', 'the', 'rabbit', 'taking', 'the', 'French', 'uh', 'by', 'surprise', 'Not', 'only', 'by', 'surprise', 'but', 'totally', 'unarmed'], ['Who', 'leaps', 'out'], ['U', 'u', 'uh', 'Launcelot', 'Galahad', 'and', 'I', 'Uh', 'leap', 'out', 'of', 'the', 'rabbit', 'uh', 'and', 'uh'], ['Ohh'], ['Oh', 'Um', 'l', 'look', 'i', 'i', 'if', 'we', 'built', 'this', 'large', 'wooden', 'badger', 'clank', 'twong'], ['Run', 'away'], ['Run', 'away', 'Run', 'away', 'Run', 'away', 'Run', 'away', 'Run', 'away', 'Run', 'away', 'Run', 'away', 'CRASH'], ['Oh', 'haw', 'haw', 'haw', 'haw', 'Haw', 'Haw', 'haw', 'heh'], ['SCENE', '9', 'clack'], ['Picture', 'for', 'Schools', 'take', 'eight'], ['Action'], ['Defeat', 'at', 'the', 'castle', 'seems', 'to', 'have', 'utterly', 'disheartened', 'King', 'Arthur', 'The', 'ferocity', 'of', 'the', 'French', 'taunting', 'took', 'him', 'completely', 'by', 'surprise', 'and', 'Arthur', 'became', 'convinced', 'that', 'a', 'new', 'strategy', 'was', 'required', 'if', 'the', 'quest', 'for', 'the', 'Holy', 'Grail', 'were', 'to', 'be', 'brought', 'to', 'a', 'successful', 'conclusion', 'Arthur', 'having', 'consulted', 'his', 'closest', 'knights', 'decided', 'that', 'they', 'should', 'separate', 'and', 'search', 'for', 'the', 'Grail', 'individually', 'clop', 'clop', 'clop', 'Now', 'this', 'is', 'what', 'they', 'did', 'Launcelot'], ['Aaaah', 'slash', 'KNIGHT', 'kills', 'HISTORIAN'], ['HISTORIAN', 'S', 'Frank'], ['SCENE', '10', 'trumpets'], ['The', 'Tale', 'of', 'Sir', 'Robin', 'So', 'each', 'of', 'the', 'knights', 'went', 'their', 'separate', 'ways', 'Sir', 'Robin', 'rode', 'north', 'through', 'the', 'dark', 'forest', 'of', 'Ewing', 'accompanied', 'by', 'his', 'favorite', 'minstrels'], ['singing', 'Bravely', 'bold', 'Sir', 'Robin', 'rode', 'forth', 'from', 'Camelot', 'He', 'was', 'not', 'afraid', 'to', 'die', 'O', 'brave', 'Sir', 'Robin', 'He', 'was', 'not', 'at', 'all', 'afraid', 'to', 'be', 'killed', 'in', 'nasty', 'ways', 'Brave', 'brave', 'brave', 'brave', 'Sir', 'Robin', 'He', 'was', 'not', 'in', 'the', 'least', 'bit', 'scared', 'to', 'be', 'mashed', 'into', 'a', 'pulp', 'Or', 'to', 'have', 'his', 'eyes', 'gouged', 'out', 'and', 'his', 'elbows', 'broken', 'To', 'have', 'his', 'kneecaps', 'split', 'and', 'his', 'body', 'burned', 'away', 'And', 'his', 'limbs', 'all', 'hacked', 'and', 'mangled', 'brave', 'Sir', 'Robin'], ['His', 'head', 'smashed', 'in', 'and', 'his', 'heart', 'cut', 'out', 'And', 'his', 'liver', 'removed', 'and', 'his', 'bowels', 'unplugged', 'And', 'his', 'nostrils', 'raped', 'and', 'his', 'bottom', 'burned', 'off', 'And', 'his', 'pen'], ['That', 's', 'that', 's', 'uh', 'that', 's', 'enough', 'music', 'for', 'now', 'lads', 'Heh', 'Looks', 'like', 'there', 's', 'dirty', 'work', 'afoot'], ['Anarcho', 'syndicalism', 'is', 'a', 'way', 'of', 'preserving', 'freedom'], ['Oh', 'Dennis', 'forget', 'about', 'freedom', 'We', 'haven', 't', 'got', 'enough', 'mud'], ['Halt', 'Who', 'art', 'thou'], ['singing', 'He', 'is', 'brave', 'Sir', 'Robin', 'brave', 'Sir', 'Robin', 'who'], ['Shut', 'up', 'Um', 'n', 'n', 'n', 'nobody', 'really', 'I', 'm', 'j', 'j', 'j', 'ju', 'just', 'um', 'just', 'passing', 'through'], ['What', 'do', 'you', 'want'], ['singing', 'To', 'fight', 'and'], ['Shut', 'up', 'Um', 'oo', 'a', 'nothing', 'nothing', 'really', 'I', 'uh', 'j', 'j', 'just', 'just', 'to', 'um', 'just', 'to', 'p', 'pass', 'through', 'good', 'Sir', 'Knight'], ['I', 'm', 'afraid', 'not'], ['Ah', 'W', 'well', 'actually', 'I', 'I', 'am', 'a', 'Knight', 'of', 'the', 'Round', 'Table'], ['You', 're', 'a', 'Knight', 'of', 'the', 'Round', 'Table'], ['I', 'am'], ['In', 'that', 'case', 'I', 'shall', 'have', 'to', 'kill', 'you'], ['Shall', 'I'], ['Oh', 'I', 'don', 't', 'think', 'so'], ['Well', 'what', 'do', 'I', 'think'], ['I', 'think', 'kill', 'him'], ['Oh', 'let', 's', 'be', 'nice', 'to', 'him'], ['Oh', 'shut', 'up'], ['Perhaps', 'I', 'could'], ['And', 'you', 'Oh', 'quick', 'Get', 'the', 'sword', 'out', 'I', 'want', 'to', 'cut', 'his', 'headoff'], ['Oh', 'cut', 'your', 'own', 'head', 'off'], ['Yes', 'do', 'us', 'all', 'a', 'favor'], ['What'], ['Yapping', 'on', 'all', 'the', 'time'], ['You', 're', 'lucky', 'You', 're', 'not', 'next', 'to', 'him'], ['What', 'do', 'you', 'mean'], ['You', 'snore'], ['Oh', 'I', 'don', 't', 'Anyway', 'you', 've', 'got', 'bad', 'breath'], ['Well', 'it', 's', 'only', 'because', 'you', 'don', 't', 'brush', 'my', 'teeth'], ['Oh', 'stop', 'bitching', 'and', 'let', 's', 'go', 'have', 'tea'], ['Oh', 'all', 'right', 'All', 'right', 'All', 'right', 'We', 'll', 'kill', 'him', 'first', 'and', 'then', 'have', 'tea', 'and', 'biscuits'], ['Yes'], ['Oh', 'not', 'biscuits'], ['All', 'right', 'All', 'right', 'not', 'biscuits', 'but', 'let', 's', 'kill', 'him', 'anyway'], ['Right'], ['He', 'buggered', 'off'], ['So', 'he', 'has', 'He', 's', 'scarper'], ['singing', 'Brave', 'Sir', 'Robin', 'ran', 'away'], ['No'], ['singing', 'Bravely', 'ran', 'away', 'away'], ['I', 'didn', 't'], ['singing', 'When', 'danger', 'reared', 'its', 'ugly', 'head', 'he', 'bravely', 'turned', 'his', 'tail', 'and', 'fled'], ['No'], ['singing', 'Yes', 'brave', 'Sir', 'Robin', 'turned', 'about'], ['I', 'didn', 't'], ['singing', 'And', 'gallantly', 'he', 'chickened', 'out', 'bravely', 'taking', 'to', 'his', 'feet'], ['I', 'never', 'did'], ['singing', 'He', 'beat', 'a', 'very', 'brave', 'retreat'], ['All', 'lies'], ['singing', 'Bravest', 'of', 'the', 'brave', 'Sir', 'Robin'], ['I', 'never'], ['chanting', 'Pie', 'Iesu', 'domine', 'dona', 'eis', 'requiem'], ['Heh', 'heh', 'heeh', 'ooh', 'twang'], ['chanting', 'Pie', 'Iesu', 'domine'], ['Wayy', 'splash', 'Ho', 'ho', 'Woa', 'wayy', 'twang', 'splash', 'Heh', 'heh', 'heh', 'heh', 'ho', 'Heh', 'heh', 'heh'], ['chanting', 'dona', 'eis', 'requiem'], ['Wayy', 'twang', 'Wayy', 'twang'], ['whispering', 'Forgive', 'me', 'for', 'asking'], ['Oh', 'Oooo'], ['SCENE', '11', 'trumpets'], ['The', 'Tale', 'of', 'Sir', 'Galahad', 'boom', 'wind', 'howl', 'howl', 'boom', 'angels', 'singing', 'howl', 'boom', 'howl', 'boom', 'pound', 'pound', 'pound'], ['Open', 'the', 'door', 'Open', 'the', 'door', 'pound', 'pound', 'pound', 'In', 'the', 'name', 'of', 'King', 'Arthur', 'open', 'the', 'door', 'squeak', 'thump', 'squeak', 'boom'], ['Hello'], ['Welcome', 'gentle', 'Sir', 'Knight', 'Welcome', 'to', 'the', 'Castle', 'Anthrax'], ['The', 'Castle', 'Anthrax'], ['Yes', 'Oh', 'it', 's', 'not', 'a', 'very', 'good', 'name', 'is', 'it', 'Oh', 'but', 'we', 'are', 'nice', 'and', 'we', 'will', 'attend', 'to', 'your', 'every', 'every', 'need'], ['You', 'are', 'the', 'keepers', 'of', 'the', 'Holy', 'Grail'], ['The', 'what'], ['The', 'Grail', 'It', 'is', 'here'], ['Oh', 'but', 'you', 'are', 'tired', 'and', 'you', 'must', 'rest', 'awhile', 'Midget', 'Crapper'], ['MIDGET', 'and', 'Yes', 'O', 'Zoot'], ['Prepare', 'a', 'bed', 'for', 'our', 'guest'], ['MIDGET', 'and', 'Oh', 'thank', 'you', 'Thank', 'you', 'Thank', 'you', 'Thank', 'you', 'Thank', 'you', 'Thank', 'you'], ['Away', 'away', 'varletesses', 'The', 'beds', 'here', 'are', 'warm', 'and', 'soft', 'and', 'very', 'very', 'big'], ['Well', 'look', 'I', 'I', 'uh'], ['What', 'is', 'your', 'name', 'handsome', 'knight'], ['Sir', 'Galahad', 'the', 'Chaste'], ['Mine', 'is', 'Zoot', 'Just', 'Zoot', 'Oh', 'but', 'come'], ['Look', 'please', 'In', 'God', 's', 'name', 'show', 'me', 'the', 'Grail'], ['Oh', 'you', 'have', 'suffered', 'much', 'You', 'are', 'delirious'], ['No', 'look', 'I', 'have', 'seen', 'it', 'It', 'is', 'here', 'in', 'this'], ['Sir', 'Galahad', 'You', 'would', 'not', 'be', 'so', 'ungallant', 'as', 'to', 'refuse', 'our', 'hospitality'], ['Well', 'I', 'I', 'uh'], ['Oh', 'I', 'am', 'afraid', 'our', 'life', 'must', 'seem', 'very', 'dull', 'and', 'quiet', 'compared', 'to', 'yours', 'We', 'are', 'but', 'eight', 'score', 'young', 'blondes', 'and', 'brunettes', 'all', 'between', 'sixteen', 'and', 'nineteen', 'and', 'a', 'half', 'cut', 'off', 'in', 'this', 'castle', 'with', 'no', 'one', 'to', 'protect', 'us', 'Oooh', 'It', 'is', 'a', 'lonely', 'life', 'bathing', 'dressing', 'undressing', 'making', 'exciting', 'underwear', 'We', 'are', 'just', 'not', 'used', 'to', 'handsome', 'knights', 'Nay', 'Nay', 'Come', 'Come', 'You', 'may', 'lie', 'here', 'Oh', 'but', 'you', 'are', 'wounded'], ['No', 'no', 'it', 's', 'it', 's', 'nothing'], ['Oh', 'you', 'must', 'see', 'the', 'doctors', 'immediately', 'No', 'no', 'please', 'Lie', 'down', 'clap', 'clap'], ['Well', 'what', 'seems', 'to', 'be', 'the', 'trouble'], ['They', 're', 'doctors'], ['Uh', 'they', 'have', 'a', 'basic', 'medical', 'training', 'yes'], ['B', 'but'], ['Oh', 'come', 'come', 'You', 'must', 'try', 'to', 'rest', 'Doctor', 'Piglet', 'Doctor', 'Winston', 'Practice', 'your', 'art'], ['Try', 'to', 'relax'], ['Are', 'you', 'sure', 'that', 's', 'absolutely', 'necessary'], ['We', 'must', 'examine', 'you'], ['There', 's', 'nothing', 'wrong', 'with', 'that'], ['Please', 'We', 'are', 'doctors'], ['Look', 'This', 'cannot', 'be', 'I', 'am', 'sworn', 'to', 'chastity'], ['Back', 'to', 'your', 'bed', 'At', 'once'], ['Torment', 'me', 'no', 'longer', 'I', 'have', 'seen', 'the', 'Grail'], ['There', 's', 'no', 'grail', 'here'], ['I', 'have', 'seen', 'it', 'I', 'have', 'seen', 'it', 'clank', 'I', 'have', 'seen'], ['Hello'], ['Oh'], ['Hello', 'Hello', 'Hello', 'Hello', 'Hello', 'Hello', 'Hello', 'Hello', 'Hello', 'Hello', 'Hello', 'Hello', 'Hello', 'Hello', 'Hello', 'Hello', 'Hello', 'Hello', 'Hello', 'Hello', 'Hello', 'Hello', 'Hello'], ['Zoot'], ['No', 'I', 'am', 'Zoot', 's', 'identical', 'twin', 'sister', 'Dingo'], ['Oh', 'well', 'excuse', 'me', 'I'], ['Where', 'are', 'you', 'going'], ['I', 'seek', 'the', 'Grail', 'I', 'have', 'seen', 'it', 'here', 'in', 'this', 'castle'], ['Oh', 'no', 'Oh', 'no', 'Bad', 'bad', 'Zoot'], ['Well', 'what', 'is', 'it'], ['Oh', 'wicked', 'bad', 'naughty', 'Zoot', 'She', 'has', 'been', 'setting', 'alight', 'to', 'our', 'beacon', 'which', 'I', 'have', 'just', 'remembered', 'is', 'grail', 'shaped', 'It', 's', 'not', 'the', 'first', 'time', 'we', 've', 'had', 'this', 'problem'], ['It', 's', 'not', 'the', 'real', 'Grail'], ['Oh', 'wicked', 'bad', 'naughty', 'evil', 'Zoot', 'She', 'is', 'a', 'bad', 'person', 'and', 'must', 'pay', 'the', 'penalty', 'Do', 'you', 'think', 'this', 'scene', 'should', 'have', 'been', 'cut', 'We', 'were', 'so', 'worried', 'when', 'the', 'boys', 'were', 'writing', 'it', 'but', 'now', 'we', 're', 'glad', 'It', 's', 'better', 'than', 'some', 'of', 'the', 'previous', 'scenes', 'I', 'think'], ['At', 'least', 'ours', 'was', 'better', 'visually'], ['Well', 'at', 'least', 'ours', 'was', 'committed', 'It', 'wasn', 't', 'just', 'a', 'string', 'of', 'pussy', 'jokes'], ['Get', 'on', 'with', 'it'], ['TIM', 'Yes', 'get', 'on', 'with', 'it'], ['ARMY', 'Yes', 'get', 'on', 'with', 'it'], ['Oh', 'I', 'am', 'enjoying', 'this', 'scene'], ['Get', 'on', 'with', 'it'], ['sigh', 'Oh', 'wicked', 'wicked', 'Zoot', 'Oh', 'she', 'is', 'a', 'naughty', 'person', 'and', 'she', 'must', 'pay', 'the', 'penalty', 'And', 'here', 'in', 'Castle', 'Anthrax', 'we', 'have', 'but', 'one', 'punishment', 'for', 'setting', 'alight', 'the', 'grail', 'shaped', 'beacon', 'You', 'must', 'tie', 'her', 'down', 'on', 'a', 'bed', 'and', 'spank', 'her'], ['A', 'spanking', 'A', 'spanking'], ['You', 'must', 'spank', 'her', 'well', 'And', 'after', 'you', 'have', 'spanked', 'her', 'you', 'may', 'deal', 'with', 'her', 'as', 'you', 'like', 'And', 'then', 'spank', 'me'], ['And', 'spank', 'me'], ['And', 'me'], ['And', 'me'], ['Yes', 'yes', 'you', 'must', 'give', 'us', 'all', 'a', 'good', 'spanking'], ['A', 'spanking', 'A', 'spanking', 'There', 'is', 'going', 'to', 'be', 'a', 'spanking', 'tonight'], ['And', 'after', 'the', 'spanking', 'the', 'oral', 'sex'], ['The', 'oral', 'sex', 'The', 'oral', 'sex'], ['Well', 'I', 'could', 'stay', 'a', 'bit', 'longer'], ['Sir', 'Galahad'], ['Oh', 'hello'], ['Quick'], ['What'], ['Quick'], ['Why'], ['You', 'are', 'in', 'great', 'peril'], ['No', 'he', 'isn', 't'], ['Silence', 'foul', 'temptress'], ['You', 'know', 'she', 's', 'got', 'a', 'point'], ['Come', 'on', 'We', 'will', 'cover', 'your', 'escape'], ['Look', 'I', 'm', 'fine'], ['Come', 'on'], ['Sir', 'Galahad'], ['No', 'Look', 'I', 'can', 'tackle', 'this', 'lot', 'single', 'handed'], ['Yes', 'Let', 'him', 'tackle', 'us', 'single', 'handed'], ['Yes', 'Let', 'him', 'tackle', 'us', 'single', 'handed'], ['No', 'Sir', 'Galahad', 'Come', 'on'], ['No', 'Really', 'Honestly', 'I', 'can', 'cope', 'I', 'can', 'handle', 'this', 'lot', 'easily'], ['Oh', 'yes', 'Let', 'him', 'handle', 'us', 'easily'], ['Yes', 'Let', 'him', 'handle', 'us', 'easily'], ['No', 'Quick', 'Quick'], ['Please', 'I', 'can', 'defeat', 'them', 'There', 's', 'only', 'a', 'hundred', 'and', 'fifty', 'of', 'them'], ['Yes', 'yes', 'He', 'will', 'beat', 'us', 'easily', 'We', 'haven', 't', 'a', 'chance'], ['We', 'haven', 't', 'a', 'chance', 'He', 'will', 'beat', 'us', 'easily', 'boom'], ['Oh', 'shit'], ['We', 'were', 'in', 'the', 'nick', 'of', 'time', 'You', 'were', 'in', 'great', 'peril'], ['I', 'don', 't', 'think', 'I', 'was'], ['Yes', 'you', 'were', 'You', 'were', 'in', 'terrible', 'peril'], ['Look', 'let', 'me', 'go', 'back', 'in', 'there', 'and', 'face', 'the', 'peril'], ['No', 'it', 's', 'too', 'perilous'], ['Look', 'it', 's', 'my', 'duty', 'as', 'a', 'knight', 'to', 'sample', 'as', 'much', 'peril', 'as', 'I', 'can'], ['No', 'we', 've', 'got', 'to', 'find', 'the', 'Holy', 'Grail', 'Come', 'on'], ['Oh', 'let', 'me', 'have', 'just', 'a', 'little', 'bit', 'of', 'peril'], ['No', 'It', 's', 'unhealthy'], ['I', 'bet', 'you', 're', 'gay'], ['No', 'I', 'm', 'not'], ['Sir', 'Launcelot', 'had', 'saved', 'Sir', 'Galahad', 'from', 'almost', 'certain', 'temptation', 'but', 'they', 'were', 'still', 'no', 'nearer', 'the', 'Grail', 'Meanwhile', 'King', 'Arthur', 'and', 'Sir', 'Bedevere', 'not', 'more', 'than', 'a', 'swallow', 's', 'flight', 'away', 'had', 'discovered', 'something', 'Oh', 'that', 's', 'an', 'unladen', 'swallow', 's', 'flight', 'obviously', 'I', 'mean', 'they', 'were', 'more', 'than', 'two', 'laden', 'swallows', 'flights', 'away', 'four', 'really', 'if', 'they', 'had', 'a', 'coconut', 'on', 'a', 'line', 'between', 'them', 'I', 'mean', 'if', 'the', 'birds', 'were', 'walking', 'and', 'dragging'], ['Get', 'on', 'with', 'it'], ['Oh', 'anyway', 'On', 'to', 'scene', 'twenty', 'four', 'which', 'is', 'a', 'smashing', 'scene', 'with', 'some', 'lovely', 'acting', 'in', 'which', 'Arthur', 'discovers', 'a', 'vital', 'clue', 'and', 'in', 'which', 'there', 'aren', 't', 'any', 'swallows', 'although', 'I', 'think', 'you', 'can', 'hear', 'a', 'starling', 'oooh'], ['SCENE', '12'], ['Heh', 'hee', 'ha', 'ha', 'hee', 'hee', 'Hee', 'hee', 'hee', 'ha', 'ha', 'ha'], ['And', 'this', 'enchanter', 'of', 'whom', 'you', 'speak', 'he', 'has', 'seen', 'the', 'Grail'], ['Ha', 'ha', 'ha', 'ha', 'Heh', 'hee', 'ha', 'ha', 'hee', 'Ha', 'hee', 'ha', 'Ha', 'ha', 'ha', 'ha'], ['Where', 'does', 'he', 'live'], ['Heh', 'heh', 'heh', 'heh'], ['Old', 'man', 'where', 'does', 'he', 'live'], ['Hee', 'ha', 'ha', 'ha', 'He', 'knows', 'of', 'a', 'cave', 'a', 'cave', 'which', 'no', 'man', 'has', 'entered'], ['And', 'the', 'Grail', 'The', 'Grail', 'is', 'there'], ['There', 'is', 'much', 'danger', 'for', 'beyond', 'the', 'cave', 'lies', 'the', 'Gorge', 'of', 'Eternal', 'Peril', 'which', 'no', 'man', 'has', 'ever', 'crossed'], ['But', 'the', 'Grail', 'Where', 'is', 'the', 'Grail'], ['Seek', 'you', 'the', 'Bridge', 'of', 'Death'], ['The', 'Bridge', 'of', 'Death', 'which', 'leads', 'to', 'the', 'Grail'], ['Heh', 'hee', 'hee', 'hee', 'hee', 'Ha', 'ha', 'ha', 'ha', 'ha', 'Hee', 'ha', 'ha'], ['SCENE', '13', 'spooky', 'music', 'music', 'stops'], ['HEAD', 'KNIGHT', 'Ni'], ['KNIGHTS', 'Ni', 'Ni', 'Ni', 'Ni', 'Ni'], ['Who', 'are', 'you'], ['We', 'are', 'the', 'Knights', 'Who', 'Say', 'Ni'], ['Ni'], ['No', 'Not', 'the', 'Knights', 'Who', 'Say', 'Ni'], ['The', 'same'], ['Who', 'are', 'they'], ['We', 'are', 'the', 'keepers', 'of', 'the', 'sacred', 'words', 'Ni', 'Peng', 'and', 'Neee', 'wom'], ['Neee', 'wom'], ['Those', 'who', 'hear', 'them', 'seldom', 'live', 'to', 'tell', 'the', 'tale'], ['The', 'Knights', 'Who', 'Say', 'Ni', 'demand', 'a', 'sacrifice'], ['Knights', 'of', 'Ni', 'we', 'are', 'but', 'simple', 'travellers', 'who', 'seek', 'the', 'enchanter', 'who', 'lives', 'beyond', 'these', 'woods'], ['Ni'], ['KNIGHTS', 'Ni', 'Ni', 'Ni', 'Ni', 'Ni'], ['Ow', 'Ow', 'Ow', 'Agh'], ['We', 'shall', 'say', 'ni', 'again', 'to', 'you', 'if', 'you', 'do', 'not', 'appease', 'us'], ['Well', 'what', 'is', 'it', 'you', 'want'], ['We', 'want', 'a', 'shrubbery', 'dramatic', 'chord'], ['A', 'what'], ['KNIGHTS', 'Ni', 'Ni', 'Ni', 'Ni'], ['ARTHUR', 'and', 'Ow', 'Oh'], ['Please', 'please', 'No', 'more', 'We', 'will', 'find', 'you', 'a', 'shrubbery'], ['You', 'must', 'return', 'here', 'with', 'a', 'shrubbery', 'or', 'else', 'you', 'will', 'never', 'pass', 'through', 'this', 'wood', 'alive'], ['O', 'Knights', 'of', 'Ni', 'you', 'are', 'just', 'and', 'fair', 'and', 'we', 'will', 'return', 'with', 'a', 'shrubbery'], ['One', 'that', 'looks', 'nice'], ['Of', 'course'], ['And', 'not', 'too', 'expensive'], ['Yes'], ['Now', 'go', 'trumpets'], ['Hmm', 'hmm', 'boom', 'Oh', 'Great', 'scott', 'Hm', 'Hmm', 'boom', 'Hm', 'Hmm', 'mumble', 'mumble', 'mumble', 'boom', 'mumble', 'mumble', 'mumble', 'boom', 'mumble', 'mumble', 'mumble', 'boom', 'mumble', 'mumble', 'mumble', 'boom', 'mumble', 'mumble', 'mumble', 'boom', 'mumble', 'mumble', 'mumble', 'boom', 'mumble', 'mumble', 'mumble', 'boom', 'mumble', 'mumble', 'mumble', 'boom', 'Ohh', 'crash', 'mumble', 'mumble', 'mumble', 'boom'], ['Ay', 'up', 'Thsss', 'boom', 'Ayy', 'up', 'boom', 'Thsss', 'boom', 'Ayy', 'up'], ['Stop', 'that', 'Stop', 'that', 'boom'], ['Ay', 'up'], ['Stop', 'that', 'boom', 'Look', 'on', 'Clear', 'off', 'Go', 'on', 'Go', 'away', 'Go', 'away', 'Go', 'away', 'And', 'you', 'Clear', 'off', 'sniff'], ['mumble', 'mumble', 'mumble', 'bells'], ['Hah', 'Bloody', 'weather'], ['SCENE', '14'], ['The', 'Tale', 'of', 'Sir', 'Launcelot'], ['One', 'day', 'lad', 'all', 'this', 'will', 'be', 'yours'], ['What', 'the', 'curtains'], ['No', 'Not', 'the', 'curtains', 'lad', 'All', 'that', 'you', 'can', 'see', 'stretched', 'out', 'over', 'the', 'hills', 'and', 'valleys', 'of', 'this', 'land', 'This', 'll', 'be', 'your', 'kingdom', 'lad'], ['But', 'Mother'], ['Father', 'lad', 'Father'], ['B', 'b', 'but', 'Father', 'I', 'don', 't', 'want', 'any', 'of', 'that'], ['Listen', 'lad', 'I', 'built', 'this', 'kingdom', 'up', 'from', 'nothing', 'When', 'I', 'started', 'here', 'all', 'there', 'was', 'was', 'swamp', 'Other', 'kings', 'said', 'I', 'was', 'daft', 'to', 'build', 'a', 'castle', 'on', 'a', 'swamp', 'but', 'I', 'built', 'it', 'all', 'the', 'same', 'just', 'to', 'show', 'em', 'It', 'sank', 'into', 'the', 'swamp', 'So', 'I', 'built', 'a', 'second', 'one', 'That', 'sank', 'into', 'the', 'swamp', 'So', 'I', 'built', 'a', 'third', 'one', 'That', 'burned', 'down', 'fell', 'over', 'then', 'sank', 'into', 'the', 'swamp', 'But', 'the', 'fourth', 'one', 'stayed', 'up', 'And', 'that', 's', 'what', 'you', 're', 'gonna', 'get', 'lad', 'the', 'strongest', 'castle', 'in', 'these', 'islands'], ['But', 'I', 'don', 't', 'want', 'any', 'of', 'that', 'I', 'd', 'rather'], ['Rather', 'what'], ['I', 'd', 'rather', 'music', 'just', 'sing'], ['Stop', 'that', 'Stop', 'that', 'You', 're', 'not', 'going', 'into', 'a', 'song', 'while', 'I', 'm', 'here', 'Now', 'listen', 'lad', 'In', 'twenty', 'minutes', 'you', 're', 'getting', 'married', 'to', 'a', 'girl', 'whose', 'father', 'owns', 'the', 'biggest', 'tracts', 'of', 'open', 'land', 'in', 'Britain'], ['B', 'but', 'I', 'don', 't', 'want', 'land'], ['Listen', 'Alice'], ['Herbert'], ['Erbert', 'We', 'live', 'in', 'a', 'bloody', 'swamp', 'We', 'need', 'all', 'the', 'land', 'we', 'can', 'get'], ['But', 'but', 'I', 'don', 't', 'like', 'her'], ['Don', 't', 'like', 'her', 'What', 's', 'wrong', 'with', 'her', 'She', 's', 'beautiful', 'She', 's', 'rich', 'She', 's', 'got', 'huge', 'tracts', 'o', 'land'], ['I', 'know', 'but', 'I', 'want', 'the', 'the', 'girl', 'that', 'I', 'marry', 'to', 'have', 'music', 'a', 'certain', 'special', 'something'], ['Cut', 'that', 'out', 'Cut', 'that', 'out', 'Look', 'you', 're', 'marrying', 'Princess', 'Lucky', 'so', 'you', 'd', 'better', 'get', 'used', 'to', 'the', 'idea', 'smack', 'Guards', 'Make', 'sure', 'the', 'Prince', 'doesn', 't', 'leave', 'this', 'room', 'until', 'I', 'come', 'and', 'get', 'him'], ['Not', 'to', 'leave', 'the', 'room', 'even', 'if', 'you', 'come', 'and', 'get', 'him'], ['Hic'], ['No', 'no', 'Until', 'I', 'come', 'and', 'get', 'him'], ['Until', 'you', 'come', 'and', 'get', 'him', 'we', 're', 'not', 'to', 'enter', 'the', 'room'], ['No', 'no', 'No', 'You', 'stay', 'in', 'the', 'room', 'and', 'make', 'sure', 'he', 'doesn', 't', 'leave'], ['And', 'you', 'll', 'come', 'and', 'get', 'him'], ['Hic'], ['Right'], ['We', 'don', 't', 'need', 'to', 'do', 'anything', 'apart', 'from', 'just', 'stop', 'him', 'entering', 'the', 'room'], ['No', 'no', 'Leaving', 'the', 'room'], ['Leaving', 'the', 'room', 'Yes', 'sniff'], ['All', 'right'], ['Right'], ['Hic'], ['Right'], ['Oh', 'if', 'if', 'if', 'uhh', 'if', 'if', 'w', 'ehh', 'i', 'if', 'if', 'we'], ['Yes', 'What', 'is', 'it'], ['Oh', 'i', 'if', 'i', 'oh'], ['Look', 'it', 's', 'quite', 'simple'], ['Uh'], ['You', 'just', 'stay', 'here', 'and', 'make', 'sure', 'e', 'doesn', 't', 'leave', 'the', 'room', 'Alright'], ['Hic'], ['Right'], ['Oh', 'I', 'remember', 'Uhh', 'can', 'he', 'leave', 'the', 'room', 'with', 'us'], ['N', 'no', 'no', 'No', 'You', 'just', 'keep', 'him', 'in', 'here', 'and', 'make', 'sure', 'he'], ['Oh', 'yes', 'We', 'll', 'keep', 'him', 'in', 'here', 'obviously', 'But', 'if', 'he', 'had', 'to', 'leave', 'and', 'we', 'were', 'with', 'him'], ['No', 'no', 'no', 'no', 'Just', 'keep', 'him', 'in', 'here'], ['Until', 'you', 'or', 'anyone', 'else'], ['No', 'not', 'anyone', 'else', 'Just', 'me'], ['Just', 'you'], ['Hic'], ['Get', 'back'], ['Get', 'back'], ['All', 'right'], ['Right', 'We', 'll', 'stay', 'here', 'until', 'you', 'get', 'back'], ['Hic'], ['And', 'uh', 'make', 'sure', 'he', 'doesn', 't', 'leave'], ['What'], ['Make', 'sure', 'e', 'doesn', 't', 'leave'], ['The', 'Prince'], ['Yes', 'Make', 'sure', 'e', 'doesn', 't', 'leave'], ['Oh', 'yes', 'of', 'course'], ['Hic'], ['Ah', 'I', 'thought', 'you', 'meant', 'him', 'You', 'know', 'it', 'seemed', 'a', 'bit', 'daft', 'me', 'havin', 'to', 'guard', 'him', 'when', 'he', 's', 'a', 'guard'], ['Is', 'that', 'clear'], ['Hic'], ['Oh', 'quite', 'clear', 'No', 'problems'], ['Right', 'Where', 'are', 'you', 'going'], ['We', 're', 'coming', 'with', 'you'], ['No', 'no', 'I', 'want', 'you', 'to', 'stay', 'here', 'and', 'make', 'sure', 'e', 'doesn', 't', 'leave'], ['Oh', 'I', 'see', 'Right'], ['But', 'Father'], ['Shut', 'your', 'noise', 'you', 'And', 'get', 'that', 'suit', 'on', 'music', 'And', 'no', 'singing'], ['Hic'], ['Oh', 'go', 'and', 'get', 'a', 'glass', 'of', 'water', 'clank', 'scribble', 'scribble', 'scribble', 'fold', 'fold', 'twong'], ['SCENE', '15'], ['Well', 'taken', 'Concorde'], ['Thank', 'you', 'sir', 'Most', 'kind'], ['And', 'again', 'Over', 'we', 'go', 'Good', 'Steady', 'And', 'now', 'the', 'big', 'one', 'Uuh', 'Come', 'on', 'Concorde', 'thwonk'], ['Message', 'for', 'you', 'sir', 'fwump'], ['Concorde', 'Concorde', 'Speak', 'to', 'me', 'To', 'whoever', 'finds', 'this', 'note', 'I', 'have', 'been', 'imprisoned', 'by', 'my', 'father', 'who', 'wishes', 'me', 'to', 'marry', 'against', 'my', 'will', 'Please', 'please', 'please', 'come', 'and', 'rescue', 'me', 'I', 'am', 'in', 'the', 'Tall', 'Tower', 'of', 'Swamp', 'Castle', 'At', 'last', 'A', 'call', 'A', 'cry', 'of', 'distress', 'This', 'could', 'be', 'the', 'sign', 'that', 'leads', 'us', 'to', 'the', 'Holy', 'Grail', 'Brave', 'brave', 'Concorde', 'you', 'shall', 'not', 'have', 'died', 'in', 'vain'], ['Uh', 'I', 'm', 'I', 'm', 'not', 'quite', 'dead', 'sir'], ['Well', 'you', 'shall', 'not', 'have', 'been', 'mortally', 'wounded', 'in', 'vain'], ['I', 'I', 'I', 'think', 'I', 'c', 'I', 'could', 'pull', 'through', 'sir'], ['Oh', 'I', 'see'], ['Actually', 'I', 'think', 'I', 'm', 'all', 'right', 'to', 'come', 'with', 'you', 'sir'], ['No', 'no', 'sweet', 'Concorde', 'Stay', 'here', 'I', 'will', 'send', 'help', 'as', 'soon', 'as', 'I', 'have', 'accomplished', 'a', 'daring', 'and', 'heroic', 'rescue', 'in', 'my', 'own', 'particular', 'sigh'], ['Idiom', 'sir'], ['Idiom'], ['No', 'I', 'feel', 'fine', 'actually', 'sir'], ['Farewell', 'sweet', 'Concorde'], ['I', 'll', 'um', 'I', 'll', 'just', 'stay', 'here', 'then', 'Shall', 'I', 'sir', 'Yeah'], ['SCENE', '16', 'inside', 'castle'], ['PRINCESS', 'LUCKY', 'and', 'giggle', 'giggle', 'giggle', 'outside', 'castle'], ['Morning'], ['Morning'], ['Oooh'], ['ptoo'], ['Ha', 'ha', 'Hiyya'], ['Hey'], ['Hiyya', 'Ha', 'etc'], ['PRINCESS', 'LUCKY', 'and', 'giggle', 'giggle', 'giggle'], ['Ha', 'ha', 'Huy'], ['Uuh', 'Aaah'], ['Ha', 'ha', 'And', 'take', 'this', 'Aah', 'Hiyah', 'Aah', 'Aaah', 'Hyy', 'Hya', 'Hiyya', 'Ha'], ['Now', 'you', 're', 'not', 'allowed', 'to', 'enter', 'the', 'room', 'aaugh'], ['O', 'fair', 'one', 'behold', 'your', 'humble', 'servant', 'Sir', 'Launcelot', 'of', 'Camelot', 'I', 'have', 'come', 'to', 'take', 'y', 'Oh', 'I', 'm', 'terribly', 'sorry'], ['You', 'got', 'my', 'note'], ['Uh', 'well', 'I', 'I', 'got', 'a', 'a', 'note'], ['You', 've', 'come', 'to', 'rescue', 'me'], ['Uh', 'well', 'no', 'You', 'see', 'I', 'hadn', 't'], ['I', 'knew', 'someone', 'would', 'I', 'knew', 'that', 'somewhere', 'out', 'there', 'music'], ['Well', 'I'], ['there', 'must', 'be', 'someone'], ['Stop', 'that', 'Stop', 'that', 'Stop', 'it', 'Stop', 'it', 'Who', 'are', 'you'], ['I', 'm', 'your', 'son'], ['No', 'not', 'you'], ['Uh', 'I', 'am', 'Sir', 'Launcelot', 'sir'], ['He', 's', 'come', 'to', 'rescue', 'me', 'Father'], ['Well', 'let', 's', 'not', 'jump', 'to', 'conclusions'], ['Did', 'you', 'kill', 'all', 'those', 'guards'], ['Uh', 'Oh', 'yes', 'Sorry'], ['They', 'cost', 'fifty', 'pounds', 'each'], ['Well', 'I', 'm', 'awfully', 'sorry', 'Um', 'I', 'really', 'can', 'explain', 'everything'], ['Don', 't', 'be', 'afraid', 'of', 'him', 'Sir', 'Launcelot', 'I', 've', 'got', 'a', 'rope', 'all', 'ready'], ['You', 'killed', 'eight', 'wedding', 'guests', 'in', 'all'], ['Well', 'uh', 'you', 'see', 'the', 'thing', 'is', 'I', 'thought', 'your', 'son', 'was', 'a', 'lady'], ['I', 'can', 'understand', 'that'], ['Hurry', 'Sir', 'Launcelot', 'Hurry'], ['Shut', 'up', 'You', 'only', 'killed', 'the', 'bride', 's', 'father', 'that', 's', 'all'], ['Well', 'I', 'really', 'didn', 't', 'mean', 'to'], ['Didn', 't', 'mean', 'to', 'You', 'put', 'your', 'sword', 'right', 'through', 'his', 'head'], ['Oh', 'dear', 'Is', 'he', 'all', 'right'], ['You', 'even', 'kicked', 'the', 'bride', 'in', 'the', 'chest', 'This', 'is', 'going', 'to', 'cost', 'me', 'a', 'fortune'], ['Well', 'I', 'can', 'explain', 'I', 'was', 'in', 'the', 'forest', 'um', 'riding', 'north', 'from', 'Camelot', 'when', 'I', 'got', 'this', 'note', 'you', 'see'], ['Camelot', 'Are', 'you', 'from', 'uh', 'Camelot'], ['Hurry', 'Sir', 'Launcelot'], ['Uh', 'I', 'am', 'a', 'Knight', 'of', 'King', 'Arthur', 'sir'], ['Very', 'nice', 'castle', 'Camelot', 'Uh', 'very', 'good', 'pig', 'country'], ['Is', 'it'], ['Hurry', 'I', 'm', 'ready'], ['Would', 'you', 'uh', 'like', 'to', 'come', 'and', 'have', 'a', 'drink'], ['Well', 'that', 'that', 's', 'uh', 'awfully', 'nice', 'of', 'you'], ['I', 'am', 'ready'], ['um', 'I', 'mean', 'to', 'be', 'so', 'understanding', 'thonk', 'Um', 'woosh'], ['Oooh'], ['I', 'm', 'afraid', 'when', 'I', 'm', 'in', 'this', 'idiom', 'I', 'sometimes', 'get', 'a', 'bit', 'uh', 'sort', 'of', 'carried', 'away'], ['Oh', 'don', 't', 'worry', 'about', 'that'], ['Oooh', 'splat'], ['SCENE', '17'], ['crying'], ['Well', 'this', 'is', 'the', 'main', 'hall', 'We', 're', 'going', 'to', 'have', 'all', 'this', 'knocked', 'through', 'and', 'made', 'into', 'one', 'big', 'uh', 'living', 'room'], ['There', 'he', 'is'], ['Oh', 'bloody', 'hell'], ['Ha', 'ha', 'ha', 'Hey', 'Ha', 'ha'], ['Hold', 'it', 'Stop', 'it', 'Hold', 'it', 'Hold', 'it', 'Hold', 'it', 'Hold', 'it', 'Hold', 'it', 'Please'], ['Sorry', 'Sorry', 'You', 'see', 'what', 'I', 'mean', 'I', 'just', 'get', 'carried', 'away', 'I', 'm', 'really', 'most', 'awfully', 'sorry', 'Sorry', 'Sorry', 'everyone'], ['He', 's', 'killed', 'the', 'best', 'man'], ['yelling'], ['Hold', 'it', 'Hold', 'it', 'Please', 'Hold', 'it', 'This', 'is', 'Sir', 'Launcelot', 'from', 'the', 'Court', 'of', 'Camelot', 'a', 'very', 'brave', 'and', 'influential', 'knight', 'and', 'my', 'special', 'guest', 'here', 'today'], ['Hello'], ['He', 'killed', 'my', 'auntie'], ['yelling'], ['Please', 'Please', 'This', 'is', 'supposed', 'to', 'be', 'a', 'happy', 'occasion', 'Let', 's', 'not', 'bicker', 'and', 'argue', 'about', 'who', 'killed', 'who', 'We', 'are', 'here', 'today', 'to', 'witness', 'the', 'union', 'of', 'two', 'young', 'people', 'in', 'the', 'joyful', 'bond', 'of', 'the', 'holy', 'wedlock', 'Unfortunately', 'one', 'of', 'them', 'my', 'son', 'Herbert', 'has', 'just', 'fallen', 'to', 'his', 'death'], ['Oh', 'Oh', 'no'], ['But', 'I', 'don', 't', 'want', 'to', 'think', 'I', 've', 'not', 'lost', 'a', 'son', 'so', 'much', 'as', 'gained', 'a', 'daughter', 'clap', 'clap', 'clap', 'For', 'since', 'the', 'tragic', 'death', 'of', 'her', 'father'], ['He', 's', 'not', 'quite', 'dead'], ['Since', 'the', 'near', 'fatal', 'wounding', 'of', 'her', 'father'], ['He', 's', 'getting', 'better'], ['For', 'since', 'her', 'own', 'father', 'who', 'when', 'he', 'seemed', 'about', 'to', 'recover', 'suddenly', 'felt', 'the', 'icy', 'hand', 'of', 'death', 'upon', 'him'], ['BRIDE', 'S', 'Uugh'], ['Oh', 'he', 's', 'died'], ['And', 'I', 'want', 'his', 'only', 'daughter', 'to', 'look', 'upon', 'me', 'as', 'her', 'old', 'dad', 'in', 'a', 'very', 'real', 'and', 'legally', 'binding', 'sense', 'clap', 'clap', 'clap', 'And', 'I', 'feel', 'sure', 'that', 'the', 'merger', 'er', 'the', 'union', 'between', 'the', 'Princess', 'and', 'the', 'brave', 'but', 'dangerous', 'Sir', 'Launcelot', 'of', 'Camelot'], ['What'], ['Look', 'The', 'dead', 'Prince'], ['Oooh', 'The', 'dead', 'Prince'], ['He', 's', 'not', 'quite', 'dead'], ['No', 'I', 'feel', 'much', 'better'], ['You', 'fell', 'out', 'of', 'the', 'Tall', 'Tower', 'you', 'creep'], ['No', 'I', 'was', 'saved', 'at', 'the', 'last', 'minute'], ['How'], ['Well', 'I', 'll', 'tell', 'you', 'music'], ['Not', 'like', 'that', 'Not', 'like', 'that', 'No', 'Stop', 'it'], ['singing', 'He', 's', 'going', 'to', 'tell', 'He', 's', 'going', 'to', 'tell'], ['Shut', 'uuup'], ['singing', 'He', 's', 'going', 'to', 'tell'], ['Shut', 'up'], ['singing', 'He', 's', 'going', 'to', 'tell'], ['Shut', 'up'], ['singing', 'He', 's', 'going', 'to', 'tell'], ['Not', 'like', 'that'], ['singing', 'He', 's', 'going', 'to', 'tell', 'He', 's', 'going', 'to', 'tell', 'He', 's', 'going', 'to', 'tell', 'He', 's', 'going', 'to', 'tell'], ['Quickly', 'sir'], ['singing', 'He', 's', 'going', 'to', 'tell'], ['Come', 'this', 'way'], ['singing', 'He', 's', 'going', 'to', 'tell', 'He', 's', 'going', 'to', 'tell'], ['No', 'It', 's', 'not', 'right', 'for', 'my', 'idiom'], ['singing', 'He', 's', 'going', 'to', 'tell', 'about', 'his', 'great', 'escape'], ['I', 'must', 'escape', 'more', 'sigh'], ['singing', 'Oh', 'he', 'fell', 'a', 'long', 'long', 'way'], ['Dramatically', 'sir'], ['Dramatically'], ['singing', 'But', 'he', 's', 'here', 'with', 'us', 'today'], ['Heee', 'Hoa', 'crash', 'Hoo'], ['singing', 'What', 'a', 'wonderful', 'escape'], ['Excuse', 'me', 'Could', 'uh', 'could', 'somebody', 'give', 'me', 'a', 'push', 'please'], ['SCENE', '18', 'King', 'Arthur', 'music', 'clop', 'clop', 'clop', 'rewr', 'rewr', 'rewr', 'rewr', 'rewr', 'rewr'], ['Old', 'crone', 'rewr', 'music', 'stops', 'Is', 'there', 'anywhere', 'in', 'this', 'town', 'where', 'we', 'could', 'buy', 'a', 'shrubbery', 'dramatic', 'chord'], ['Who', 'sent', 'you'], ['The', 'Knights', 'Who', 'Say', 'Ni'], ['Aggh', 'No', 'Never', 'We', 'have', 'no', 'shrubberies', 'here'], ['If', 'you', 'do', 'not', 'tell', 'us', 'where', 'we', 'can', 'buy', 'a', 'shrubbery', 'my', 'friend', 'and', 'I', 'will', 'say', 'we', 'will', 'say', 'ni'], ['Agh', 'Do', 'your', 'worst'], ['Very', 'well', 'If', 'you', 'will', 'not', 'assist', 'us', 'voluntarily', 'ni'], ['No', 'Never', 'No', 'shrubberies'], ['Ni'], ['cough'], ['Nu'], ['No', 'no', 'no', 'no'], ['Nu'], ['No', 'it', 's', 'not', 'that', 'it', 's', 'ni'], ['Nu'], ['No', 'no', 'ni', 'You', 're', 'not', 'doing', 'it', 'properly', 'No'], ['Ni'], ['ARTHUR', 'and', 'Ni'], ['That', 's', 'it', 'That', 's', 'it', 'You', 've', 'got', 'it'], ['ARTHUR', 'and', 'Ni'], ['Ohh'], ['Ni'], ['Ni'], ['Agh'], ['Ni'], ['Ni'], ['Ni'], ['Ni'], ['Ni'], ['ROGER', 'Are', 'you', 'saying', 'ni', 'to', 'that', 'old', 'woman'], ['Erm', 'yes'], ['Oh', 'what', 'sad', 'times', 'are', 'these', 'when', 'passing', 'ruffians', 'can', 'ni', 'at', 'will', 'to', 'old', 'ladies', 'There', 'is', 'a', 'pestilence', 'upon', 'this', 'land', 'Nothing', 'is', 'sacred', 'Even', 'those', 'who', 'arrange', 'and', 'design', 'shrubberies', 'are', 'under', 'considerable', 'economic', 'stress', 'at', 'this', 'period', 'in', 'history'], ['Did', 'you', 'say', 'shrubberies'], ['Yes', 'Shrubberies', 'are', 'my', 'trade', 'I', 'am', 'a', 'shrubber', 'My', 'name', 'is', 'Roger', 'the', 'Shrubber', 'I', 'arrange', 'design', 'and', 'sell', 'shrubberies'], ['Ni'], ['No', 'No', 'no', 'no', 'No'], ['SCENE', '19'], ['O', 'Knights', 'of', 'Ni', 'we', 'have', 'brought', 'you', 'your', 'shrubbery', 'May', 'we', 'go', 'now'], ['It', 'is', 'a', 'good', 'shrubbery', 'I', 'like', 'the', 'laurels', 'particularly', 'But', 'there', 'is', 'one', 'small', 'problem'], ['What', 'is', 'that'], ['We', 'are', 'now', 'no', 'longer', 'the', 'Knights', 'Who', 'Say', 'Ni'], ['KNIGHTS', 'Ni', 'Shh'], ['Shh', 'We', 'are', 'now', 'the', 'Knights', 'Who', 'Say', 'Ecky', 'ecky', 'ecky', 'ecky', 'pikang', 'zoop', 'boing', 'goodem', 'zoo', 'owli', 'zhiv'], ['Ni'], ['Therefore', 'we', 'must', 'give', 'you', 'a', 'test'], ['What', 'is', 'this', 'test', 'O', 'Knights', 'of', 'Knights', 'Who', 'Til', 'Recently', 'Said', 'Ni'], ['Firstly', 'you', 'must', 'find', 'another', 'shrubbery', 'dramatic', 'chord'], ['Not', 'another', 'shrubbery'], ['Ni'], ['Then', 'when', 'you', 'have', 'found', 'the', 'shrubbery', 'you', 'must', 'place', 'it', 'here', 'beside', 'this', 'shrubbery', 'only', 'slightly', 'higher', 'so', 'you', 'get', 'the', 'two', 'level', 'effect', 'with', 'a', 'little', 'path', 'running', 'down', 'the', 'middle'], ['KNIGHTS', 'A', 'path', 'A', 'path', 'A', 'path', 'Ni', 'Shh', 'Ni', 'Ni', 'Ni', 'Shh', 'Shh'], ['Then', 'when', 'you', 'have', 'found', 'the', 'shrubbery', 'you', 'must', 'cut', 'down', 'the', 'mightiest', 'tree', 'in', 'the', 'forest', 'with', 'a', 'herring', 'dramatic', 'chord'], ['We', 'shall', 'do', 'no', 'such', 'thing'], ['Oh', 'please'], ['Cut', 'down', 'a', 'tree', 'with', 'a', 'herring', 'It', 'can', 't', 'be', 'done'], ['KNIGHTS', 'Aaaugh', 'Aaaugh'], ['Augh', 'Ohh', 'Don', 't', 'say', 'that', 'word'], ['What', 'word'], ['I', 'cannot', 'tell', 'suffice', 'to', 'say', 'is', 'one', 'of', 'the', 'words', 'the', 'Knights', 'of', 'Ni', 'cannot', 'hear'], ['How', 'can', 'we', 'not', 'say', 'the', 'word', 'if', 'you', 'don', 't', 'tell', 'us', 'what', 'it', 'is'], ['KNIGHTS', 'Aaaaugh'], ['You', 'said', 'it', 'again'], ['What', 'is'], ['KNIGHTS', 'Agh', 'No', 'not', 'is'], ['No', 'not', 'is', 'You', 'wouldn', 't', 'get', 'vary', 'far', 'in', 'life', 'not', 'saying', 'is'], ['KNIGHTS', 'No', 'not', 'is', 'Not', 'is'], ['My', 'liege', 'it', 's', 'Sir', 'Robin'], ['singing', 'Packing', 'it', 'in', 'and', 'packing', 'it', 'up', 'And', 'sneaking', 'away', 'and', 'buggering', 'up', 'And', 'chickening', 'out', 'and', 'pissing', 'off', 'home', 'Yes', 'bravely', 'he', 'is', 'throwing', 'in', 'the', 'sponge'], ['Sir', 'Robin'], ['My', 'liege', 'It', 's', 'good', 'to', 'see', 'you'], ['Now', 'he', 's', 'said', 'the', 'word'], ['Surely', 'you', 've', 'not', 'given', 'up', 'your', 'quest', 'for', 'the', 'Holy', 'Grail'], ['singing', 'He', 'is', 'sneaking', 'away', 'and', 'buggering', 'up'], ['Shut', 'up', 'No', 'no', 'No', 'Far', 'from', 'it'], ['He', 'said', 'the', 'word', 'again'], ['KNIGHTS', 'Aaaaugh'], ['I', 'was', 'looking', 'for', 'it'], ['KNIGHTS', 'Aaaaugh'], ['Uh', 'here', 'here', 'in', 'this', 'forest'], ['No', 'it', 'is', 'far', 'from', 'this', 'place'], ['KNIGHTS', 'Aaaaugh'], ['Aaaaugh', 'Stop', 'saying', 'the', 'word', 'The', 'word'], ['Oh', 'stop', 'it'], ['KNIGHTS', 'we', 'cannot', 'hear'], ['Ow', 'He', 'said', 'it', 'again'], ['Patsy'], ['Wait', 'I', 'said', 'it', 'I', 'said', 'it', 'clop', 'clop', 'clop', 'Ooh', 'I', 'said', 'it', 'again', 'And', 'there', 'again', 'That', 's', 'three', 'it', 's', 'Ohh'], ['KNIGHTS', 'Aaaaugh'], ['And', 'so', 'Arthur', 'and', 'Bedevere', 'and', 'Sir', 'Robin', 'set', 'out', 'on', 'their', 'search', 'to', 'find', 'the', 'enchanter', 'of', 'whom', 'the', 'old', 'man', 'had', 'spoken', 'in', 'scene', 'twenty', 'four', 'Beyond', 'the', 'forest', 'they', 'met', 'Launcelot', 'and', 'Galahad', 'and', 'there', 'was', 'much', 'rejoicing'], ['Yay', 'Yay', 'woosh'], ['In', 'the', 'frozen', 'land', 'of', 'Nador', 'they', 'were', 'forced', 'to', 'eat', 'Robin', 's', 'minstrels'], ['high', 'pitched', 'Get', 'back', 'Eee'], ['And', 'there', 'was', 'much', 'rejoicing'], ['Yay'], ['A', 'year', 'passed'], ['shivering'], ['Winter', 'changed', 'into', 'Spring'], ['Mmm', 'nice'], ['Spring', 'changed', 'into', 'Summer'], ['Oh', 'Ahh'], ['Summer', 'changed', 'back', 'into', 'Winter'], ['Oh'], ['And', 'Winter', 'gave', 'Spring', 'and', 'Summer', 'a', 'miss', 'and', 'went', 'straight', 'on', 'into', 'Autumn'], ['Aah', 'snap', 'Oh', 'Waa'], ['Until', 'one', 'day'], ['SCENE', '20', 'King', 'Arthur', 'music', 'clop', 'clop', 'clop', 'music', 'stops', 'boom'], ['Eh', 'Oh', 'See', 'it', 'Oh', 'Oh'], ['Knights', 'Forward', 'boom', 'boom', 'boom', 'boom', 'boom', 'squeak', 'boom', 'boom', 'boom', 'boom', 'What', 'manner', 'of', 'man', 'are', 'you', 'that', 'can', 'summon', 'up', 'fire', 'without', 'flint', 'or', 'tinder'], ['TIM', 'I', 'am', 'an', 'enchanter'], ['By', 'what', 'name', 'are', 'you', 'known'], ['There', 'are', 'some', 'who', 'call', 'me', 'Tim'], ['Greetings', 'Tim', 'the', 'Enchanter'], ['Greetings', 'King', 'Arthur'], ['You', 'know', 'my', 'name'], ['I', 'do', 'zoosh', 'You', 'seek', 'the', 'Holy', 'Grail'], ['That', 'is', 'our', 'quest', 'You', 'know', 'much', 'that', 'is', 'hidden', 'O', 'Tim'], ['Quite', 'pweeng', 'boom', 'clap', 'clap', 'clap'], ['Oh'], ['Yes', 'we', 're', 'we', 're', 'looking', 'for', 'the', 'Holy', 'Grail', 'Our', 'quest', 'is', 'to', 'find', 'the', 'Holy', 'Grail'], ['Yeah', 'Yes', 'It', 'is', 'It', 'is', 'Yeah', 'Yup', 'Yup', 'Hm'], ['And', 'so', 'we', 're', 'we', 're', 'we', 're', 'we', 're', 'looking', 'for', 'it'], ['Yes', 'we', 'are'], ['Yeah'], ['We', 'are', 'We', 'are'], ['We', 'have', 'been', 'for', 'some', 'time'], ['Ages'], ['Umhm'], ['Uh', 'uh', 'so', 'uh', 'anything', 'that', 'you', 'could', 'do', 'to', 'uh', 'to', 'help', 'would', 'be', 'very', 'helpful'], ['Look', 'can', 'you', 'tell', 'us', 'where', 'boom'], ['Fine', 'Um', 'I', 'don', 't', 'want', 'to', 'waste', 'any', 'more', 'of', 'your', 'time', 'but', 'uh', 'I', 'don', 't', 'suppose', 'you', 'could', 'uh', 'tell', 'us', 'where', 'we', 'might', 'find', 'a', 'um', 'find', 'a', 'uh', 'a', 'um', 'a', 'uh'], ['A', 'what'], ['A', 'g', 'a', 'a', 'g', 'a', 'g', 'a', 'a', 'g'], ['A', 'grail'], ['Yes', 'I', 'think', 'so'], ['Y', 'y', 'yes'], ['Yes'], ['Yup'], ['That', 's', 'it'], ['Yes'], ['Oh'], ['Oh', 'Thank', 'you'], ['Ahh'], ['Oh', 'Fine'], ['Thank', 'you'], ['Splendid'], ['Aah', 'boom', 'pweeng', 'boom', 'boom'], ['Look', 'um', 'you', 're', 'a', 'busy', 'man', 'uh'], ['Yes', 'I', 'can', 'help', 'you', 'find', 'the', 'Holy', 'Grail'], ['Oh', 'thank', 'you', 'Oh'], ['To', 'the', 'north', 'there', 'lies', 'a', 'cave', 'the', 'cave', 'of', 'Caerbannog', 'wherein', 'carved', 'in', 'mystic', 'runes', 'upon', 'the', 'very', 'living', 'rock', 'the', 'last', 'words', 'of', 'Olfin', 'Bedwere', 'of', 'Rheged', 'boom', 'make', 'plain', 'the', 'last', 'resting', 'place', 'of', 'the', 'most', 'Holy', 'Grail'], ['Where', 'could', 'we', 'find', 'this', 'cave', 'O', 'Tim'], ['Follow', 'But', 'Follow', 'only', 'if', 'ye', 'be', 'men', 'of', 'valor', 'for', 'the', 'entrance', 'to', 'this', 'cave', 'is', 'guarded', 'by', 'a', 'creature', 'so', 'foul', 'so', 'cruel', 'that', 'no', 'man', 'yet', 'has', 'fought', 'with', 'it', 'and', 'lived', 'Bones', 'of', 'full', 'fifty', 'men', 'lie', 'strewn', 'about', 'its', 'lair', 'So', 'brave', 'knights', 'if', 'you', 'do', 'doubt', 'your', 'courage', 'or', 'your', 'strength', 'come', 'no', 'further', 'for', 'death', 'awaits', 'you', 'all', 'with', 'nasty', 'big', 'pointy', 'teeth'], ['What', 'an', 'eccentric', 'performance'], ['SCENE', '21', 'clop', 'clop', 'clop', 'whinny', 'whinny'], ['They', 're', 'nervous', 'sire'], ['Then', 'we', 'd', 'best', 'leave', 'them', 'here', 'and', 'carry', 'on', 'on', 'foot', 'Dis', 'mount'], ['Behold', 'the', 'cave', 'of', 'Caerbannog'], ['Right', 'Keep', 'me', 'covered'], ['What', 'with'], ['W', 'just', 'keep', 'me', 'covered'], ['Too', 'late', 'dramatic', 'chord'], ['What'], ['There', 'he', 'is'], ['Where'], ['There'], ['What', 'behind', 'the', 'rabbit'], ['It', 'is', 'the', 'rabbit'], ['You', 'silly', 'sod'], ['What'], ['You', 'got', 'us', 'all', 'worked', 'up'], ['Well', 'that', 's', 'no', 'ordinary', 'rabbit'], ['Ohh'], ['That', 's', 'the', 'most', 'foul', 'cruel', 'and', 'bad', 'tempered', 'rodent', 'you', 'ever', 'set', 'eyes', 'on'], ['You', 'tit', 'I', 'soiled', 'my', 'armor', 'I', 'was', 'so', 'scared'], ['Look', 'that', 'rabbit', 's', 'got', 'a', 'vicious', 'streak', 'a', 'mile', 'wide', 'it', 's', 'a', 'killer'], ['Get', 'stuffed'], ['He', 'll', 'do', 'you', 'up', 'a', 'treat', 'mate'], ['Oh', 'yeah'], ['You', 'mangy', 'scots', 'git'], ['I', 'm', 'warning', 'you'], ['What', 's', 'he', 'do', 'nibble', 'your', 'bum'], ['He', 's', 'got', 'huge', 'sharp', 'eh', 'he', 'can', 'leap', 'about', 'look', 'at', 'the', 'bones'], ['Go', 'on', 'Bors', 'Chop', 'his', 'head', 'off'], ['Right', 'Silly', 'little', 'bleeder', 'One', 'rabbit', 'stew', 'comin', 'right', 'up'], ['Look', 'squeak'], ['Aaaugh', 'dramatic', 'chord', 'clunk'], ['Jesus', 'Christ'], ['I', 'warned', 'you'], ['I', 'done', 'it', 'again'], ['I', 'warned', 'you', 'but', 'did', 'you', 'listen', 'to', 'me', 'Oh', 'no', 'you', 'knew', 'it', 'all', 'didn', 't', 'you', 'Oh', 'it', 's', 'just', 'a', 'harmless', 'little', 'bunny', 'isn', 't', 'it', 'Well', 'it', 's', 'always', 'the', 'same', 'I', 'always', 'tell', 'them'], ['Oh', 'shut', 'up'], ['Do', 'they', 'listen', 'to', 'me'], ['Right'], ['Oh', 'no'], ['Charge', 'squeak', 'squeak', 'squeak'], ['Aaaaugh', 'Aaaugh', 'etc'], ['Run', 'away', 'Run', 'away'], ['Run', 'away', 'Run', 'away'], ['Ha', 'ha', 'ha', 'ha', 'Ha', 'haw', 'haw', 'Ha', 'Ha', 'ha'], ['Right', 'How', 'many', 'did', 'we', 'lose'], ['Gawain'], ['Ector'], ['And', 'Bors', 'That', 's', 'five'], ['Three', 'sir'], ['Three', 'Three', 'And', 'we', 'd', 'better', 'not', 'risk', 'another', 'frontal', 'assault', 'That', 'rabbit', 's', 'dynamite'], ['Would', 'it', 'help', 'to', 'confuse', 'it', 'if', 'we', 'run', 'away', 'more'], ['Oh', 'shut', 'up', 'and', 'go', 'and', 'change', 'your', 'armor'], ['Let', 'us', 'taunt', 'it', 'It', 'may', 'become', 'so', 'cross', 'that', 'it', 'will', 'make', 'a', 'mistake'], ['Like', 'what'], ['Well', 'ooh'], ['Have', 'we', 'got', 'bows'], ['No'], ['We', 'have', 'the', 'Holy', 'Hand', 'Grenade'], ['Yes', 'of', 'course', 'The', 'Holy', 'Hand', 'Grenade', 'of', 'Antioch', 'Tis', 'one', 'of', 'the', 'sacred', 'relics', 'Brother', 'Maynard', 'carries', 'with', 'him', 'Brother', 'Maynard', 'Bring', 'up', 'the', 'Holy', 'Hand', 'Grenade'], ['chanting', 'Pie', 'Iesu', 'domine', 'dona', 'eis', 'requiem', 'Pie', 'Iesu', 'domine', 'donaeis', 'requiem', 'Pie', 'Iesu', 'domine', 'dona', 'eis', 'requiem', 'Pie', 'Iesu', 'domine', 'dona', 'eisrequiem'], ['How', 'does', 'it', 'um', 'how', 'does', 'it', 'work'], ['I', 'know', 'not', 'my', 'liege'], ['Consult', 'the', 'Book', 'of', 'Armaments'], ['Armaments', 'Chapter', 'Two', 'verses', 'Nine', 'to', 'Twenty', 'one'], ['And', 'Saint', 'Attila', 'raised', 'the', 'hand', 'grenade', 'up', 'on', 'high', 'saying', 'O', 'Lord', 'bless', 'this', 'thy', 'hand', 'grenade', 'that', 'with', 'it', 'thou', 'mayest', 'blow', 'thine', 'enemies', 'to', 'tiny', 'bits', 'in', 'thy', 'mercy', 'And', 'the', 'Lord', 'did', 'grin', 'and', 'the', 'people', 'did', 'feast', 'upon', 'the', 'lambs', 'and', 'sloths', 'and', 'carp', 'and', 'anchovies', 'and', 'orangutans', 'and', 'breakfast', 'cereals', 'and', 'fruit', 'bats', 'and', 'large', 'chu'], ['Skip', 'a', 'bit', 'Brother'], ['And', 'the', 'Lord', 'spake', 'saying', 'First', 'shalt', 'thou', 'take', 'out', 'the', 'Holy', 'Pin', 'Then', 'shalt', 'thou', 'count', 'to', 'three', 'no', 'more', 'no', 'less', 'Three', 'shalt', 'be', 'the', 'number', 'thou', 'shalt', 'count', 'and', 'the', 'number', 'of', 'the', 'counting', 'shall', 'be', 'three', 'Four', 'shalt', 'thou', 'not', 'count', 'nor', 'either', 'count', 'thou', 'two', 'excepting', 'that', 'thou', 'then', 'proceed', 'to', 'three', 'Five', 'is', 'right', 'out', 'Once', 'the', 'number', 'three', 'being', 'the', 'third', 'number', 'be', 'reached', 'then', 'lobbest', 'thou', 'thy', 'Holy', 'Hand', 'Grenade', 'of', 'Antioch', 'towards', 'thy', 'foe', 'who', 'being', 'naughty', 'in', 'my', 'sight', 'shall', 'snuff', 'it'], ['Amen'], ['Amen'], ['Right', 'One', 'two', 'five'], ['Three', 'sir'], ['Three', 'angels', 'sing', 'boom'], ['SCENE', '22'], ['There', 'Look'], ['What', 'does', 'it', 'say'], ['What', 'language', 'is', 'that'], ['Brother', 'Maynard', 'You', 'are', 'a', 'scholar'], ['It', 's', 'Aramaic'], ['Of', 'course', 'Joseph', 'of', 'Arimathea'], ['Course'], ['What', 'does', 'it', 'say'], ['It', 'reads', 'Here', 'may', 'be', 'found', 'the', 'last', 'words', 'of', 'Joseph', 'of', 'Arimathea', 'He', 'who', 'is', 'valiant', 'and', 'pure', 'of', 'spirit', 'may', 'find', 'the', 'Holy', 'Grail', 'in', 'the', 'Castle', 'of', 'uuggggggh'], ['What'], ['the', 'Castle', 'of', 'uuggggggh'], ['What', 'is', 'that'], ['He', 'must', 'have', 'died', 'while', 'carving', 'it'], ['Oh', 'come', 'on'], ['Well', 'that', 's', 'what', 'it', 'says'], ['Look', 'if', 'he', 'was', 'dying', 'he', 'wouldn', 't', 'bother', 'to', 'carve', 'aaggggh', 'He', 'd', 'just', 'say', 'it'], ['Well', 'that', 's', 'what', 's', 'carved', 'in', 'the', 'rock'], ['Perhaps', 'he', 'was', 'dictating'], ['Oh', 'shut', 'up', 'Well', 'does', 'it', 'say', 'anything', 'else'], ['No', 'Just', 'uuggggggh'], ['Aauuggghhh'], ['Aaauggh'], ['Do', 'you', 'suppose', 'he', 'meant', 'the', 'Camaaaaaargue'], ['Where', 's', 'that'], ['France', 'I', 'think'], ['Isn', 't', 'there', 'a', 'Saint', 'Aauuuves', 'in', 'Cornwall'], ['No', 'that', 's', 'Saint', 'Ives'], ['Oh', 'yes', 'Saint', 'Iiiives'], ['Iiiiives'], ['Oooohoohohooo'], ['No', 'no', 'Aauuuuugh', 'at', 'the', 'back', 'of', 'the', 'throat', 'Aauuugh'], ['N', 'no', 'No', 'no', 'no', 'no', 'Oooooooh', 'in', 'surprise', 'and', 'alarm'], ['Oh', 'you', 'mean', 'sort', 'of', 'a', 'aaaah'], ['Yes', 'but', 'I', 'aaaaaah'], ['Oooh'], ['My', 'God', 'dramatic', 'chord', 'roar'], ['It', 's', 'the', 'legendary', 'Black', 'Beast', 'of', 'Aaauugh', 'Black', 'Beast', 'of', 'Aaauugh', 'eats', 'BROTHER', 'MAYNARD'], ['That', 's', 'it', 'That', 's', 'it'], ['Run', 'away'], ['Run', 'away', 'roar', 'Run', 'away', 'Run', 'awaaay', 'Run', 'awaaaaay', 'roar', 'Keep', 'running', 'boom', 'roar', 'Shh', 'Shh', 'Shh', 'Shh', 'Shh', 'Shh', 'Shh', 'Shh'], ['We', 've', 'lost', 'him', 'roar'], ['Aagh'], ['As', 'the', 'horrendous', 'Black', 'Beast', 'lunged', 'forward', 'escape', 'for', 'Arthur', 'and', 'his', 'knights', 'seemed', 'hopeless', 'when', 'suddenly', 'the', 'animator', 'suffered', 'a', 'fatal', 'heart', 'attack'], ['Ulk', 'thump'], ['The', 'cartoon', 'peril', 'was', 'no', 'more', 'The', 'quest', 'for', 'Holy', 'Grail', 'could', 'continue'], ['SCENE', '23', 'gurgle'], ['There', 'it', 'is'], ['The', 'Bridge', 'of', 'Death'], ['Oh', 'great'], ['Look', 'There', 's', 'the', 'old', 'man', 'from', 'scene', 'twenty', 'four'], ['What', 'is', 'he', 'doing', 'here'], ['He', 'is', 'the', 'keeper', 'of', 'the', 'Bridge', 'of', 'Death', 'He', 'asks', 'each', 'traveller', 'five', 'questions'], ['Three', 'questions'], ['Three', 'questions', 'He', 'who', 'answers', 'the', 'five', 'questions'], ['Three', 'questions'], ['Three', 'questions', 'may', 'cross', 'in', 'safety'], ['What', 'if', 'you', 'get', 'a', 'question', 'wrong'], ['Then', 'you', 'are', 'cast', 'into', 'the', 'Gorge', 'of', 'Eternal', 'Peril'], ['Oh', 'I', 'won', 't', 'go'], ['Who', 's', 'going', 'to', 'answer', 'the', 'questions'], ['Sir', 'Robin'], ['Yes'], ['Brave', 'Sir', 'Robin', 'you', 'go'], ['Hey', 'I', 've', 'got', 'a', 'great', 'idea', 'Why', 'doesn', 't', 'Launcelot', 'go'], ['Yes', 'Let', 'me', 'go', 'my', 'liege', 'I', 'will', 'take', 'him', 'single', 'handed', 'I', 'shall', 'make', 'a', 'feint', 'to', 'the', 'north', 'east', 'that', 's'], ['No', 'no', 'No', 'Hang', 'on', 'Hang', 'on', 'Hang', 'on', 'Just', 'answer', 'the', 'five', 'questions'], ['Three', 'questions'], ['Three', 'questions', 'as', 'best', 'you', 'can', 'And', 'we', 'shall', 'watch', 'and', 'pray'], ['I', 'understand', 'my', 'liege'], ['Good', 'luck', 'brave', 'Sir', 'Launcelot', 'God', 'be', 'with', 'you'], ['Stop', 'Who', 'would', 'cross', 'the', 'Bridge', 'of', 'Death', 'must', 'answer', 'me', 'these', 'questions', 'three', 'ere', 'the', 'other', 'side', 'he', 'see'], ['Ask', 'me', 'the', 'questions', 'bridgekeeper', 'I', 'am', 'not', 'afraid'], ['What', 'is', 'your', 'name'], ['My', 'name', 'is', 'Sir', 'Launcelot', 'of', 'Camelot'], ['What', 'is', 'your', 'quest'], ['To', 'seek', 'the', 'Holy', 'Grail'], ['What', 'is', 'your', 'favorite', 'color'], ['Blue'], ['Right', 'Off', 'you', 'go'], ['Oh', 'thank', 'you', 'Thank', 'you', 'very', 'much'], ['That', 's', 'easy'], ['Stop', 'Who', 'approacheth', 'the', 'Bridge', 'of', 'Death', 'must', 'answer', 'me', 'these', 'questions', 'three', 'ere', 'the', 'other', 'side', 'he', 'see'], ['Ask', 'me', 'the', 'questions', 'bridgekeeper', 'I', 'm', 'not', 'afraid'], ['What', 'is', 'your', 'name'], ['Sir', 'Robin', 'of', 'Camelot'], ['What', 'is', 'your', 'quest'], ['To', 'seek', 'the', 'Holy', 'Grail'], ['What', 'is', 'the', 'capital', 'of', 'Assyria'], ['I', 'don', 't', 'know', 'that', 'Auuuuuuuugh'], ['Stop', 'What', 'is', 'your', 'name'], ['Sir', 'Galahad', 'of', 'Camelot'], ['What', 'is', 'your', 'quest'], ['I', 'seek', 'the', 'Grail'], ['What', 'is', 'your', 'favorite', 'color'], ['Blue', 'No', 'yel', 'auuuuuuuugh'], ['Hee', 'hee', 'heh', 'Stop', 'What', 'is', 'your', 'name'], ['It', 'is', 'Arthur', 'King', 'of', 'the', 'Britons'], ['What', 'is', 'your', 'quest'], ['To', 'seek', 'the', 'Holy', 'Grail'], ['What', 'is', 'the', 'air', 'speed', 'velocity', 'of', 'an', 'unladen', 'swallow'], ['What', 'do', 'you', 'mean', 'An', 'African', 'or', 'European', 'swallow'], ['Huh', 'I', 'I', 'don', 't', 'know', 'that', 'Auuuuuuuugh'], ['How', 'do', 'know', 'so', 'much', 'about', 'swallows'], ['Well', 'you', 'have', 'to', 'know', 'these', 'things', 'when', 'you', 're', 'a', 'king', 'you', 'know', 'suspenseful', 'music', 'music', 'suddenly', 'stops', 'intermission', 'suspenseful', 'music', 'resumes'], ['SCENE', '24'], ['Launcelot', 'Launcelot', 'Launcelot'], ['Launcelot', 'Launcelot'], ['Launcelot', 'police', 'radio', 'Launcelot'], ['Launcelot', 'Launcelot', 'angels', 'sing', 'singing', 'stops', 'ethereal', 'music'], ['The', 'Castle', 'Aaagh', 'Our', 'quest', 'is', 'at', 'an', 'end', 'God', 'be', 'praised', 'Almighty', 'God', 'we', 'thank', 'Thee', 'that', 'Thou', 'hast', 'vouchsafed', 'to', 'us', 'the', 'most', 'holy', 'twong', 'baaaa', 'Jesus', 'Christ', 'thud'], ['Allo', 'dappy', 'English', 'k', 'niggets', 'and', 'Monsieur', 'Arthur', 'King', 'who', 'has', 'the', 'brain', 'of', 'a', 'duck', 'you', 'know', 'So', 'we', 'French', 'fellows', 'outwit', 'you', 'a', 'second', 'time'], ['How', 'dare', 'you', 'profane', 'this', 'place', 'with', 'your', 'presence', 'I', 'command', 'you', 'in', 'the', 'name', 'of', 'the', 'Knights', 'of', 'Camelot', 'to', 'open', 'the', 'doors', 'of', 'this', 'sacred', 'castle', 'to', 'which', 'God', 'Himself', 'has', 'guided', 'us'], ['How', 'you', 'English', 'say', 'I', 'one', 'more', 'time', 'mac', 'unclog', 'my', 'nose', 'in', 'your', 'direction', 'sons', 'of', 'a', 'window', 'dresser', 'So', 'you', 'think', 'you', 'could', 'out', 'clever', 'us', 'French', 'folk', 'with', 'your', 'silly', 'knees', 'bent', 'running', 'about', 'advancing', 'behaviour', 'I', 'wave', 'my', 'private', 'parts', 'at', 'your', 'aunties', 'you', 'cheesy', 'lot', 'of', 'second', 'hand', 'electric', 'donkey', 'bottom', 'biters'], ['In', 'the', 'name', 'of', 'the', 'Lord', 'we', 'demand', 'entrance', 'to', 'this', 'sacred', 'castle'], ['No', 'chance', 'English', 'bed', 'wetting', 'types', 'I', 'burst', 'my', 'pimples', 'at', 'you', 'and', 'call', 'your', 'door', 'opening', 'request', 'a', 'silly', 'thing', 'you', 'tiny', 'brained', 'wipers', 'of', 'other', 'people', 's', 'bottoms'], ['If', 'you', 'do', 'not', 'open', 'this', 'door', 'we', 'shall', 'take', 'this', 'castle', 'by', 'force', 'splat', 'In', 'the', 'name', 'of', 'God', 'and', 'the', 'glory', 'of', 'our', 'splat'], ['laughing'], ['Agh', 'Right', 'That', 'settles', 'it'], ['Yes', 'depart', 'a', 'lot', 'at', 'this', 'time', 'and', 'cut', 'the', 'approaching', 'any', 'more', 'or', 'we', 'fire', 'arrows', 'at', 'the', 'tops', 'of', 'your', 'heads', 'and', 'make', 'castanets', 'out', 'of', 'your', 'testicles', 'already', 'Ha', 'ha', 'haaa', 'ha'], ['Walk', 'away', 'Just', 'ignore', 'them'], ['And', 'now', 'remain', 'gone', 'illegitimate', 'faced', 'bugger', 'folk', 'And', 'if', 'you', 'think', 'you', 'got', 'a', 'nasty', 'taunting', 'this', 'time', 'you', 'ain', 't', 'heard', 'nothing', 'yet', 'dappy', 'English', 'k', 'nnniggets', 'Thpppt'], ['taunting'], ['We', 'shall', 'attack', 'at', 'once'], ['Yes', 'my', 'liege'], ['Stand', 'by', 'for', 'attack', 'exciting', 'music', 'music', 'stops', 'silence', 'French', 'persons'], ['taunting', 'Dappy'], ['Today', 'the', 'blood', 'of', 'many', 'a', 'valiant', 'knight', 'shall', 'be', 'avenged', 'In', 'the', 'name', 'of', 'God'], ['Hoo', 'hoo', 'Ohh', 'ha', 'ha', 'ha', 'ha', 'ha'], ['we', 'shall', 'not', 'stop', 'our', 'fight', 'til', 'each', 'one', 'of', 'you', 'lies', 'dead', 'and', 'the', 'Holy', 'Grail', 'returns', 'to', 'those', 'whom', 'God', 'has', 'chosen'], ['Ha', 'ha', 'ha'], ['Charge'], ['ARMY', 'Hooray', 'police', 'siren'], ['HISTORIAN', 'S', 'Yes', 'They', 're', 'the', 'ones', 'I', 'm', 'sure'], ['Come', 'on', 'Anybody', 'armed', 'must', 'go', 'too'], ['All', 'right', 'Come', 'on', 'Back'], ['HISTORIAN', 'S', 'Get', 'that', 'one'], ['Back', 'Right', 'away', 'Just', 'pull', 'it', 'off', 'Come', 'on', 'Come', 'along'], ['Put', 'this', 'man', 'in', 'the', 'van'], ['Clear', 'off', 'Come', 'on'], ['With', 'whom'], ['Which', 'one'], ['Oh', 'this', 'one'], ['Come', 'on', 'Put', 'him', 'in', 'the', 'van'], ['Get', 'a', 'blanket'], ['We', 'have', 'no', 'hospital'], ['Ahh', 'squeak'], ['Ooh'], ['Come', 'on', 'Back', 'Riiight', 'back', 'Come', 'on'], ['Run', 'along', 'Run', 'along'], ['Pull', 'that', 'off', 'My', 'that', 's', 'an', 'offensive', 'weapon', 'that', 'is'], ['Come', 'on', 'Back', 'with', 'em', 'Back', 'Right', 'Come', 'along'], ['Everything', 'squeak'], ['All', 'right', 'sonny', 'That', 's', 'enough', 'Just', 'pack', 'that', 'in', 'crash'], ['Christ'], []]\n"
     ]
    }
   ],
   "source": [
    "# Tokenize each line: tokenized_lines\n",
    "tokenized_lines = [regexp_tokenize(s, r\"\\w+\") for s in lines]\n",
    "print(tokenized_lines)"
   ]
  },
  {
   "cell_type": "code",
   "execution_count": 202,
   "id": "2cc05fed",
   "metadata": {
    "scrolled": true
   },
   "outputs": [
    {
     "name": "stdout",
     "output_type": "stream",
     "text": [
      "[6, 5, 4, 25, 4, 40, 5, 1, 4, 1, 14, 18, 6, 3, 8, 4, 6, 29, 5, 7, 6, 7, 29, 21, 21, 1, 3, 4, 8, 15, 6, 14, 10, 2, 12, 9, 10, 10, 7, 3, 4, 67, 3, 2, 4, 2, 5, 4, 8, 3, 3, 4, 9, 4, 12, 13, 9, 7, 6, 3, 5, 4, 14, 16, 6, 2, 8, 15, 8, 4, 8, 11, 7, 1, 9, 13, 2, 1, 10, 4, 2, 8, 8, 5, 9, 10, 14, 13, 4, 44, 13, 18, 4, 2, 4, 13, 15, 19, 9, 13, 13, 4, 5, 6, 1, 25, 1, 17, 3, 11, 2, 12, 8, 9, 4, 7, 6, 7, 44, 32, 2, 21, 2, 27, 6, 10, 2, 16, 2, 33, 7, 6, 1, 7, 1, 7, 2, 6, 10, 4, 58, 3, 1, 3, 15, 4, 11, 5, 3, 14, 5, 4, 6, 4, 5, 4, 2, 19, 12, 5, 1, 4, 12, 4, 10, 3, 1, 5, 3, 3, 18, 7, 3, 2, 9, 3, 4, 21, 9, 2, 26, 2, 23, 9, 4, 52, 9, 7, 8, 4, 3, 3, 10, 7, 6, 7, 11, 1, 6, 2, 8, 1, 6, 7, 1, 6, 1, 1, 5, 1, 1, 4, 2, 6, 2, 5, 1, 8, 7, 2, 3, 3, 1, 5, 14, 2, 1, 3, 4, 8, 1, 1, 5, 8, 2, 1, 1, 6, 7, 3, 3, 11, 6, 11, 2, 4, 5, 2, 5, 5, 7, 5, 1, 1, 4, 1, 3, 1, 1, 2, 2, 2, 1, 3, 13, 2, 2, 2, 4, 10, 6, 24, 7, 6, 5, 2, 8, 12, 7, 2, 17, 6, 4, 3, 11, 103, 5, 14, 19, 3, 4, 1, 1, 1, 5, 18, 78, 7, 28, 9, 15, 2, 9, 22, 2, 31, 7, 17, 2, 25, 4, 42, 7, 3, 8, 5, 4, 18, 10, 38, 23, 1, 7, 7, 14, 11, 8, 5, 15, 6, 4, 15, 39, 4, 6, 33, 10, 14, 12, 3, 2, 4, 15, 4, 2, 2, 11, 7, 2, 2, 1, 1, 6, 4, 51, 38, 3, 31, 3, 16, 1, 15, 2, 15, 9, 3, 5, 1, 74, 5, 3, 3, 29, 82, 29, 20, 8, 11, 4, 10, 19, 4, 4, 24, 4, 13, 8, 2, 9, 2, 6, 5, 4, 7, 3, 3, 14, 6, 6, 1, 5, 9, 4, 2, 10, 11, 9, 18, 1, 3, 12, 1, 3, 6, 6, 1, 5, 3, 14, 1, 7, 3, 11, 3, 7, 2, 7, 2, 7, 5, 4, 16, 4, 4, 5, 2, 3, 19, 22, 1, 9, 3, 25, 8, 2, 5, 12, 5, 6, 15, 14, 5, 6, 4, 8, 10, 8, 11, 13, 4, 76, 7, 14, 7, 3, 8, 2, 15, 3, 7, 4, 6, 4, 9, 6, 9, 5, 12, 1, 1, 23, 1, 9, 5, 4, 12, 7, 4, 32, 6, 51, 6, 15, 4, 6, 6, 6, 4, 45, 4, 23, 3, 2, 2, 10, 12, 7, 6, 7, 2, 2, 1, 1, 1, 1, 5, 4, 3, 7, 7, 4, 2, 2, 9, 7, 7, 5, 12, 7, 6, 3, 14, 12, 11, 2, 12, 6, 8, 11, 5, 16, 11, 10, 4, 5, 4, 76, 4, 40, 2, 12, 12, 16, 4, 4, 6, 16, 7, 20, 7, 6, 9, 13, 6, 3, 6, 3, 7, 1, 7, 2, 3, 13, 2, 10, 8, 17, 1, 6, 4, 13, 6, 6, 2, 5, 4, 10, 17, 16, 4, 2, 4, 1, 3, 49, 11, 5, 2, 20, 4, 3, 2, 5, 8, 3, 26, 2, 3, 11, 95, 11, 2, 6, 39, 7, 2, 1, 15, 7, 22, 18, 38, 12, 1, 8, 13, 15, 7, 1, 1, 15, 5, 5, 2, 1, 1, 1, 13, 4, 5, 5, 1, 14, 1, 1, 11, 14, 20, 9, 5, 6, 2, 1, 2, 2, 2, 9, 1, 8, 1, 6, 2, 7, 4, 1, 23, 3, 1, 5, 5, 5, 15, 4, 2, 13, 1, 15, 2, 3, 5, 17, 5, 71, 9, 10, 11, 3, 12, 26, 2, 1, 6, 3, 13, 4, 8, 1, 1, 1, 1, 3, 1, 3, 6, 3, 2, 13, 10, 22, 4, 8, 6, 8, 11, 2, 4, 11, 4, 3, 6, 7, 7, 6, 4, 5, 11, 15, 7, 14, 4, 4, 12, 7, 12, 6, 16, 21, 6, 3, 9, 9, 2, 4, 10, 9, 3, 10, 1, 19, 6, 2, 2, 1, 23, 3, 3, 6, 15, 21, 6, 1, 28, 1, 4, 1, 53, 3, 30, 5, 8, 4, 21, 3, 4, 47, 1, 4, 4, 5, 5, 9, 8, 1, 6, 9, 11, 2, 6, 2, 6, 2, 6, 3, 21, 2, 6, 3, 11, 8, 10, 5, 8, 2, 1, 8, 4, 5, 11, 14, 19, 3, 5, 8, 22, 4, 10, 4, 1, 1, 1, 4, 1, 8, 1, 10, 1, 3, 10, 3, 1, 1, 1, 1, 1, 1, 1, 1, 1, 9, 2, 43, 4, 21, 1, 5, 2, 14, 16, 3, 10, 3, 19, 1, 7, 13, 8, 3, 1, 33, 14, 22, 6, 2, 12, 3, 7, 2, 17, 16, 2, 4, 2, 5, 14, 6, 6, 29, 2, 8, 6, 12, 8, 8, 5, 2, 5, 2, 6, 7, 2, 7, 3, 4, 5, 1, 24, 2, 41, 3, 14, 5, 5, 1, 3, 1, 4, 2, 4, 2, 5, 1, 14, 4, 3, 11, 6, 27, 5, 6, 7, 4, 3, 4, 8, 12, 6, 1, 18, 10, 13, 3, 1, 4, 6, 1, 1, 17, 7, 37, 2, 10, 2, 4, 3, 1, 1, 3, 1, 1, 3, 1, 2, 2, 1, 5, 8, 9, 4, 41, 8, 70, 4, 7, 4, 14, 5, 4, 2, 5, 4, 1, 3, 1, 1, 4, 4, 3, 1, 6, 6, 1, 15, 10, 15, 2, 8, 2, 4, 4, 7, 14, 7, 10, 2, 4, 2, 3, 4, 39, 3, 5, 1, 2, 4, 3, 4, 4, 10, 6, 1, 1, 5, 2, 15, 11, 9, 15, 2, 2, 4, 1, 6, 28, 23, 8, 5, 5, 8, 62, 4, 92, 1, 1, 4, 2, 4, 2, 2, 4, 4, 6, 3, 5, 1, 4, 31, 1, 4, 3, 7, 3, 6, 17, 9, 4, 9, 3, 1, 1, 7, 3, 3, 8, 5, 4, 1, 1, 10, 11, 7, 4, 1, 5, 15, 6, 2, 22, 5, 1, 24, 2, 13, 3, 3, 4, 2, 10, 5, 15, 2, 8, 2, 6, 7, 10, 5, 7, 2, 1, 5, 12, 23, 14, 2, 12, 4, 9, 20, 9, 4, 7, 4, 5, 5, 1, 4, 7, 3, 19, 9, 4, 4, 4, 5, 6, 6, 5, 4, 4, 4, 5, 4, 8, 7, 4, 5, 10, 9, 8, 7, 23, 2, 3, 2, 4, 8, 31, 27, 35, 57, 13, 30, 26, 1, 5, 35, 5, 30, 1, 5, 3, 11, 2, 16, 8, 24, 3, 1, 4, 10, 7, 5, 5, 11, 6, 4, 2, 2, 3, 7, 3, 4, 2, 1, 7, 4, 11, 9, 2, 11, 1, 0]\n"
     ]
    }
   ],
   "source": [
    "# Make a frequency list of lengths: line_num_words\n",
    "line_num_words = [len(t_line) for t_line in tokenized_lines]\n",
    "print(line_num_words)"
   ]
  },
  {
   "cell_type": "code",
   "execution_count": 204,
   "id": "df328fe9",
   "metadata": {},
   "outputs": [],
   "source": [
    "import matplotlib.pyplot as plt"
   ]
  },
  {
   "cell_type": "code",
   "execution_count": 205,
   "id": "7ce3c49a",
   "metadata": {},
   "outputs": [
    {
     "data": {
      "image/png": "[encoded data removed]",
      "text/plain": [
       "<Figure size 432x288 with 1 Axes>"
      ]
     },
     "metadata": {
      "needs_background": "light"
     },
     "output_type": "display_data"
    }
   ],
   "source": [
    "# Plot a histogram of the line lengths\n",
    "plt.hist(line_num_words)\n",
    "\n",
    "# Show the plot\n",
    "plt.show()"
   ]
  },
  {
   "cell_type": "code",
   "execution_count": null,
   "id": "ed982ac4",
   "metadata": {},
   "outputs": [],
   "source": []
  },
  {
   "cell_type": "code",
   "execution_count": null,
   "id": "c50cf3af",
   "metadata": {},
   "outputs": [],
   "source": []
  },
  {
   "cell_type": "code",
   "execution_count": null,
   "id": "90a184b6",
   "metadata": {},
   "outputs": [],
   "source": []
  },
  {
   "cell_type": "code",
   "execution_count": null,
   "id": "f0c6cf40",
   "metadata": {},
   "outputs": [],
   "source": []
  },
  {
   "cell_type": "code",
   "execution_count": null,
   "id": "7afeeb80",
   "metadata": {},
   "outputs": [],
   "source": []
  }
 ],
 "metadata": {
  "kernelspec": {
   "display_name": "Python 3",
   "language": "python",
   "name": "python3"
  },
  "language_info": {
   "codemirror_mode": {
    "name": "ipython",
    "version": 3
   },
   "file_extension": ".py",
   "mimetype": "text/x-python",
   "name": "python",
   "nbconvert_exporter": "python",
   "pygments_lexer": "ipython3",
   "version": "3.8.8"
  }
 },
 "nbformat": 4,
 "nbformat_minor": 5
}
