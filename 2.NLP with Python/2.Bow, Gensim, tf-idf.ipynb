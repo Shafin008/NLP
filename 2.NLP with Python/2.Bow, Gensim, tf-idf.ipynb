{
 "cells": [
  {
   "cell_type": "markdown",
   "id": "aea576d0",
   "metadata": {},
   "source": [
    "### Word counts with bag-of-words\n",
    "\n",
    "Welcome to chapter two! We'll begin with using word counts with a bag of words approach.\n",
    "\n",
    "### Bag-of-words\n",
    "\n",
    "Bag of words is a very simple and basic method to `finding topics` in a `text`. For bag of words, \n",
    "\n",
    "- you need to first create tokens using tokenization, and \n",
    "\n",
    "- then count up all the tokens you have. \n",
    "\n",
    "The theory is that the more `frequent` a word or token is, the more `central or important` it might be to the text. \n",
    "\n",
    "Bag of words can be a great way to determine the `significant` words in a text based on the number of times they are used.\n",
    "\n",
    "### Bag-of-words example\n",
    "\n",
    "<img src=\"bow.jpg\" style=\"max-width:600px\">\n",
    "\n",
    "Here we see an example series of sentences, mainly about a cat and a box. If we just us a simple bag of words model with tokenization like we learned in chapter one and remove the punctuation, we can see the example result. Box, cat, The and the are some of the most important words because they are the most frequent. \n",
    "\n",
    "Notice that the word `THE` appears twice in the bag of words, once with `uppercase` and once `lowercase`. If we added a preprocessing step to handle this issue, we could lowercase all of the words in the text so each word is counted only once.\n",
    "\n",
    "\n",
    "### Bag-of-words in Python\n",
    "\n",
    "We can use the NLP fundamentals we already know, such as `tokenization` with NLTK to create a `list of tokens`. \n",
    "\n",
    "We will use a new class called `Counter` which we import from the standard library module `collections`. The list of tokens generated using `word_tokenize` can be passed as the initialization argument for the Counter class. The result is a counter object which has similar structure to a `dictionary` and allows us to see each token and the frequency of the token. \n",
    "\n",
    "<img src=\"c.jpg\" style=\"max-width:600px\">\n",
    "\n",
    "Counter objects also have a method called `most_common`, which takes an `integer argument`, such as 2 and would then return the top 2 tokens in terms of frequency. The return object is a series of tuples inside a list. For each tuple, the first element holds the token and the second element represents the frequency. \n",
    "\n",
    "Note: other than ordering by token frequency, the most_common method does not sort the tokens it returns or tell us there are more tokens with that same frequency."
   ]
  },
  {
   "cell_type": "code",
   "execution_count": null,
   "id": "65b089b0",
   "metadata": {},
   "outputs": [],
   "source": []
  },
  {
   "cell_type": "code",
   "execution_count": 1,
   "id": "07fd441a",
   "metadata": {},
   "outputs": [
    {
     "name": "stdout",
     "output_type": "stream",
     "text": [
      "15854\n"
     ]
    }
   ],
   "source": [
    "with open(\"wiki_text_debugging.txt\", 'r') as f:\n",
    "    article = f.read()\n",
    "\n",
    "print(len(article))"
   ]
  },
  {
   "cell_type": "markdown",
   "id": "8dedf386",
   "metadata": {},
   "source": [
    "## Exercise 1: Building a Counter with bag-of-words\n",
    "\n",
    "In this exercise, you'll build your first `bag-of-words counter` using a `Wikipedia article`, which has been pre-loaded as article. Try doing the bag-of-words without looking at the full article text, and guessing what the topic is! \n",
    "\n",
    "Note that this article text has had very little preprocessing from the raw Wikipedia database entry.\n",
    "\n",
    "- Import `Counter` from `collections`. Use `word_tokenize()` to `split` the article into `tokens`.\n",
    "\n",
    "\n",
    "- Use a `list comprehension` with `t` as the `iterator` variable to `convert` all the `tokens` into `lowercase`. The .lower() method converts text into lowercase.\n",
    "\n",
    "\n",
    "- Create a bag-of-words counter called `bow_simple` by using `Counter()` with `lower_tokens` as the argument.\n",
    "\n",
    "\n",
    "- Use the `.most_common()` method of `bow_simple` to print the `10` most common tokens."
   ]
  },
  {
   "cell_type": "code",
   "execution_count": 2,
   "id": "4c00ce69",
   "metadata": {},
   "outputs": [],
   "source": [
    "## q1\n",
    "from collections import Counter \n",
    "from nltk.tokenize import word_tokenize"
   ]
  },
  {
   "cell_type": "code",
   "execution_count": 3,
   "id": "38cd432e",
   "metadata": {},
   "outputs": [
    {
     "name": "stdout",
     "output_type": "stream",
     "text": [
      "2910\n",
      "[\"'\", \"''\", 'Debugging', \"''\", \"'\", 'is', 'the', 'process', 'of', 'finding', 'and', 'resolving', 'of', 'defects', 'that', 'prevent', 'correct', 'operation', 'of', 'computer', 'software', 'or', 'a', 'system', '.', 'Numerous', 'books', 'have', 'been', 'written', 'about', 'debugging', '(', 'see', 'below', ':', '#', 'Further', 'reading|Further', 'reading', ')', ',', 'as', 'it', 'involves', 'numerous', 'aspects', ',', 'including', 'interactive', 'debugging', ',', 'control', 'flow', ',', 'integration', 'testing', ',', 'Logfile|log', 'files', ',', 'monitoring', '(', 'Application', 'monitoring|application', ',', 'System', 'Monitoring|system', ')', ',', 'memory', 'dumps', ',', 'Profiling', '(', 'computer', 'programming', ')', '|profiling', ',', 'Statistical', 'Process', 'Control', ',', 'and', 'special', 'design', 'tactics', 'to', 'improve', 'detection', 'while', 'simplifying', 'changes', '.', 'Origin', 'A', 'computer', 'log', 'entry', 'from', 'the', 'Mark', '&', 'nbsp', ';', 'II', ',', 'with', 'a', 'moth', 'taped', 'to', 'the', 'page', 'The', 'terms', '``', 'bug', \"''\", 'and', '``', 'debugging', \"''\", 'are', 'popularly', 'attributed', 'to', 'Admiral', 'Grace', 'Hopper', 'in', 'the', '1940s', '.', '[', 'http', ':', '//foldoc.org/Grace+Hopper', 'Grace', 'Hopper', ']', 'from', 'FOLDOC', 'While', 'she', 'was', 'working', 'on', 'a', 'Harvard', 'Mark', 'II|Mark', 'II', 'Computer', 'at', 'Harvard', 'University', ',', 'her', 'associates', 'discovered', 'a', 'moth', 'stuck', 'in', 'a', 'relay', 'and', 'thereby', 'impeding', 'operation', ',', 'whereupon', 'she', 'remarked', 'that', 'they', 'were', '``', 'debugging', \"''\", 'the', 'system', '.', 'However', 'the', 'term', '``', 'bug', \"''\", 'in', 'the', 'meaning', 'of', 'technical', 'error', 'dates', 'back', 'at', 'least', 'to', '1878', 'and', 'Thomas', 'Edison', '(', 'see', 'software', 'bug', 'for', 'a', 'full', 'discussion', ')', ',', 'and', '``', 'debugging', \"''\", 'seems', 'to', 'have', 'been', 'used', 'as', 'a', 'term', 'in', 'aeronautics', 'before', 'entering', 'the', 'world', 'of', 'computers', '.', 'Indeed', ',', 'in', 'an', 'interview', 'Grace', 'Hopper', 'remarked', 'that', 'she', 'was', 'not', 'coining', 'the', 'term', '{', '{', 'Citation', 'needed|date=July', '2015', '}', '}', '.', 'The', 'moth', 'fit', 'the', 'already', 'existing', 'terminology', ',', 'so', 'it', 'was', 'saved', '.', 'A', 'letter', 'from', 'J.', 'Robert', 'Oppenheimer', '(', 'director', 'of', 'the', 'WWII', 'atomic', 'bomb', '``', 'Manhattan', \"''\", 'project', 'at', 'Los', 'Alamos', ',', 'NM', ')', 'used', 'the', 'term', 'in', 'a', 'letter', 'to', 'Dr.', 'Ernest', 'Lawrence', 'at', 'UC', 'Berkeley', ',', 'dated', 'October', '27', ',', '1944', ',', 'http', ':', '//bancroft.berkeley.edu/Exhibits/physics/images/bigscience25.jpg', 'regarding', 'the', 'recruitment', 'of', 'additional', 'technical', 'staff', '.', 'The', 'Oxford', 'English', 'Dictionary', 'entry', 'for', '``', 'debug', \"''\", 'quotes', 'the', 'term', '``', 'debugging', \"''\", 'used', 'in', 'reference', 'to', 'airplane', 'engine', 'testing', 'in', 'a', '1945', 'article', 'in', 'the', 'Journal', 'of', 'the', 'Royal', 'Aeronautical', 'Society', '.', 'An', 'article', 'in', '``', 'Airforce', \"''\", '(', 'June', '1945', 'p.', '&', 'nbsp', ';', '50', ')', 'also', 'refers', 'to', 'debugging', ',', 'this', 'time', 'of', 'aircraft', 'cameras', '.', 'Hopper', \"'s\", 'computer', 'bug|bug', 'was', 'found', 'on', 'September', '9', ',', '1947', '.', 'The', 'term', 'was', 'not', 'adopted', 'by', 'computer', 'programmers', 'until', 'the', 'early', '1950s', '.', 'The', 'seminal', 'article', 'by', 'GillS', '.', 'Gill', ',', '[', 'http', ':', '//www.jstor.org/stable/98663', 'The', 'Diagnosis', 'of', 'Mistakes', 'in', 'Programmes', 'on', 'the', 'EDSAC', ']', ',', 'Proceedings', 'of', 'the', 'Royal', 'Society', 'of', 'London', '.', 'Series', 'A', ',', 'Mathematical', 'and', 'Physical', 'Sciences', ',', 'Vol', '.', '206', ',', 'No', '.', '1087', '(', 'May', '22', ',', '1951', ')', ',', 'pp', '.', '538-554', 'in', '1951', 'is', 'the', 'earliest', 'in-depth', 'discussion', 'of', 'programming', 'errors', ',', 'but', 'it', 'does', 'not', 'use', 'the', 'term', '``', 'bug', \"''\", 'or', '``', 'debugging', \"''\", '.', 'In', 'the', 'Association', 'for', 'Computing', 'Machinery|ACM', \"'s\", 'digital', 'library', ',', 'the', 'term', '``', 'debugging', \"''\", 'is', 'first', 'used', 'in', 'three', 'papers', 'from', '1952', 'ACM', 'National', 'Meetings.Robert', 'V.', 'D.', 'Campbell', ',', '[', 'http', ':', '//portal.acm.org/citation.cfm', '?', 'id=609784.609786', 'Evolution', 'of', 'automatic', 'computation', ']', ',', 'Proceedings', 'of', 'the', '1952', 'ACM', 'national', 'meeting', '(', 'Pittsburgh', ')', ',', 'p', '29-32', ',', '1952.Alex', 'Orden', ',', '[', 'http', ':', '//portal.acm.org/citation.cfm', '?', 'id=609784.609793', 'Solution', 'of', 'systems', 'of', 'linear', 'inequalities', 'on', 'a', 'digital', 'computer', ']', ',', 'Proceedings', 'of', 'the', '1952', 'ACM', 'national', 'meeting', '(', 'Pittsburgh', ')', ',', 'p.', '91-95', ',', '1952.Howard', 'B.', 'Demuth', ',', 'John', 'B.', 'Jackson', ',', 'Edmund', 'Klein', ',', 'N.', 'Metropolis', ',', 'Walter', 'Orvedahl', ',', 'James', 'H.', 'Richardson', ',', '[', 'http', ':', '//portal.acm.org/citation.cfm', '?', 'id=800259.808982', 'MANIAC', ']', ',', 'Proceedings', 'of', 'the', '1952', 'ACM', 'national', 'meeting', '(', 'Toronto', ')', ',', 'p.', '13-16', 'Two', 'of', 'the', 'three', 'use', 'the', 'term', 'in', 'quotation', 'marks', '.', 'By', '1963', '``', 'debugging', \"''\", 'was', 'a', 'common', 'enough', 'term', 'to', 'be', 'mentioned', 'in', 'passing', 'without', 'explanation', 'on', 'page', '1', 'of', 'the', 'Compatible', 'Time-Sharing', 'System|CTSS', 'manual', '.', '[', 'http', ':', '//www.bitsavers.org/pdf/mit/ctss/CTSS_ProgrammersGuide.pdf', 'The', 'Compatible', 'Time-Sharing', 'System', ']', ',', 'M.I.T', '.', 'Press', ',', '1963', 'Kidwell', \"'s\", 'article', '``', 'Stalking', 'the', 'Elusive', 'Computer', 'Bug', \"''\", 'Peggy', 'Aldrich', 'Kidwell', ',', '[', 'http', ':', '//ieeexplore.ieee.org/xpl/freeabs_all.jsp', '?', 'tp=', '&', 'arnumber=728224', '&', 'isnumber=15706', 'Stalking', 'the', 'Elusive', 'Computer', 'Bug', ']', ',', 'IEEE', 'Annals', 'of', 'the', 'History', 'of', 'Computing', ',', '1998.', 'discusses', 'the', 'etymology', 'of', '``', 'bug', \"''\", 'and', '``', 'debug', \"''\", 'in', 'greater', 'detail', '.', 'Scope', 'As', 'software', 'and', 'electronic', 'systems', 'have', 'become', 'generally', 'more', 'complex', ',', 'the', 'various', 'common', 'debugging', 'techniques', 'have', 'expanded', 'with', 'more', 'methods', 'to', 'detect', 'anomalies', ',', 'assess', 'impact', ',', 'and', 'schedule', 'software', 'patches', 'or', 'full', 'updates', 'to', 'a', 'system', '.', 'The', 'words', '``', 'anomaly', \"''\", 'and', '``', 'discrepancy', \"''\", 'can', 'be', 'used', ',', 'as', 'being', 'more', 'neutral', 'terms', ',', 'to', 'avoid', 'the', 'words', '``', 'error', \"''\", 'and', '``', 'defect', \"''\", 'or', '``', 'bug', \"''\", 'where', 'there', 'might', 'be', 'an', 'implication', 'that', 'all', 'so-called', '``', 'errors', \"''\", ',', '``', 'defects', \"''\", 'or', '``', 'bugs', \"''\", 'must', 'be', 'fixed', '(', 'at', 'all', 'costs', ')', '.', 'Instead', ',', 'an', 'impact', 'assessment', 'can', 'be', 'made', 'to', 'determine', 'if', 'changes', 'to', 'remove', 'an', '``', 'anomaly', \"''\", '(', 'or', '``', 'discrepancy', \"''\", ')', 'would', 'be', 'cost-effective', 'for', 'the', 'system', ',', 'or', 'perhaps', 'a', 'scheduled', 'new', 'release', 'might', 'render', 'the', 'change', '(', 's', ')', 'unnecessary', '.', 'Not', 'all', 'issues', 'are', 'life-critical', 'or', 'mission-critical', 'in', 'a', 'system', '.', 'Also', ',', 'it', 'is', 'important', 'to', 'avoid', 'the', 'situation', 'where', 'a', 'change', 'might', 'be', 'more', 'upsetting', 'to', 'users', ',', 'long-term', ',', 'than', 'living', 'with', 'the', 'known', 'problem', '(', 's', ')', '(', 'where', 'the', '``', 'cure', 'would', 'be', 'worse', 'than', 'the', 'disease', \"''\", ')', '.', 'Basing', 'decisions', 'of', 'the', 'acceptability', 'of', 'some', 'anomalies', 'can', 'avoid', 'a', 'culture', 'of', 'a', '``', 'zero-defects', \"''\", 'mandate', ',', 'where', 'people', 'might', 'be', 'tempted', 'to', 'deny', 'the', 'existence', 'of', 'problems', 'so', 'that', 'the', 'result', 'would', 'appear', 'as', 'zero', '``', 'defects', \"''\", '.', 'Considering', 'the', 'collateral', 'issues', ',', 'such', 'as', 'the', 'cost-versus-benefit', 'impact', 'assessment', ',', 'then', 'broader', 'debugging', 'techniques', 'will', 'expand', 'to', 'determine', 'the', 'frequency', 'of', 'anomalies', '(', 'how', 'often', 'the', 'same', '``', 'bugs', \"''\", 'occur', ')', 'to', 'help', 'assess', 'their', 'impact', 'to', 'the', 'overall', 'system', '.', 'Tools', 'Debugging', 'on', 'video', 'game', 'consoles', 'is', 'usually', 'done', 'with', 'special', 'hardware', 'such', 'as', 'this', 'Xbox', '(', 'console', ')', '|Xbox', 'debug', 'unit', 'intended', 'for', 'developers', '.', 'Debugging', 'ranges', 'in', 'complexity', 'from', 'fixing', 'simple', 'errors', 'to', 'performing', 'lengthy', 'and', 'tiresome', 'tasks', 'of', 'data', 'collection', ',', 'analysis', ',', 'and', 'scheduling', 'updates', '.', 'The', 'debugging', 'skill', 'of', 'the', 'programmer', 'can', 'be', 'a', 'major', 'factor', 'in', 'the', 'ability', 'to', 'debug', 'a', 'problem', ',', 'but', 'the', 'difficulty', 'of', 'software', 'debugging', 'varies', 'greatly', 'with', 'the', 'complexity', 'of', 'the', 'system', ',', 'and', 'also', 'depends', ',', 'to', 'some', 'extent', ',', 'on', 'the', 'programming', 'language', '(', 's', ')', 'used', 'and', 'the', 'available', 'tools', ',', 'such', 'as', '``', 'debuggers', \"''\", '.', 'Debuggers', 'are', 'software', 'tools', 'which', 'enable', 'the', 'programmer', 'to', 'monitor', 'the', 'execution', '(', 'computers', ')', '|execution', 'of', 'a', 'program', ',', 'stop', 'it', ',', 'restart', 'it', ',', 'set', 'breakpoints', ',', 'and', 'change', 'values', 'in', 'memory', '.', 'The', 'term', '``', 'debugger', \"''\", 'can', 'also', 'refer', 'to', 'the', 'person', 'who', 'is', 'doing', 'the', 'debugging', '.', 'Generally', ',', 'high-level', 'programming', 'languages', ',', 'such', 'as', 'Java', '(', 'programming', 'language', ')', '|Java', ',', 'make', 'debugging', 'easier', ',', 'because', 'they', 'have', 'features', 'such', 'as', 'exception', 'handling', 'that', 'make', 'real', 'sources', 'of', 'erratic', 'behaviour', 'easier', 'to', 'spot', '.', 'In', 'programming', 'languages', 'such', 'as', 'C', '(', 'programming', 'language', ')', '|C', 'or', 'assembly', 'language|assembly', ',', 'bugs', 'may', 'cause', 'silent', 'problems', 'such', 'as', 'memory', 'corruption', ',', 'and', 'it', 'is', 'often', 'difficult', 'to', 'see', 'where', 'the', 'initial', 'problem', 'happened', '.', 'In', 'those', 'cases', ',', 'memory', 'debugging|memory', 'debugger', 'tools', 'may', 'be', 'needed', '.', 'In', 'certain', 'situations', ',', 'general', 'purpose', 'software', 'tools', 'that', 'are', 'language', 'specific', 'in', 'nature', 'can', 'be', 'very', 'useful', '.', 'These', 'take', 'the', 'form', 'of', '``', 'List', 'of', 'tools', 'for', 'static', 'code', 'analysis|static', 'code', 'analysis', 'tools', \"''\", '.', 'These', 'tools', 'look', 'for', 'a', 'very', 'specific', 'set', 'of', 'known', 'problems', ',', 'some', 'common', 'and', 'some', 'rare', ',', 'within', 'the', 'source', 'code', '.', 'All', 'such', 'issues', 'detected', 'by', 'these', 'tools', 'would', 'rarely', 'be', 'picked', 'up', 'by', 'a', 'compiler', 'or', 'interpreter', ',', 'thus', 'they', 'are', 'not', 'syntax', 'checkers', ',', 'but', 'more', 'semantic', 'checkers', '.', 'Some', 'tools', 'claim', 'to', 'be', 'able', 'to', 'detect', '300+', 'unique', 'problems', '.', 'Both', 'commercial', 'and', 'free', 'tools', 'exist', 'in', 'various', 'languages', '.', 'These', 'tools', 'can', 'be', 'extremely', 'useful', 'when', 'checking', 'very', 'large', 'source', 'trees', ',', 'where', 'it', 'is', 'impractical', 'to', 'do', 'code', 'walkthroughs', '.', 'A', 'typical', 'example', 'of', 'a', 'problem', 'detected', 'would', 'be', 'a', 'variable', 'dereference', 'that', 'occurs', '``', 'before', \"''\", 'the', 'variable', 'is', 'assigned', 'a', 'value', '.', 'Another', 'example', 'would', 'be', 'to', 'perform', 'strong', 'type', 'checking', 'when', 'the', 'language', 'does', 'not', 'require', 'such', '.', 'Thus', ',', 'they', 'are', 'better', 'at', 'locating', 'likely', 'errors', ',', 'versus', 'actual', 'errors', '.', 'As', 'a', 'result', ',', 'these', 'tools', 'have', 'a', 'reputation', 'of', 'false', 'positives', '.', 'The', 'old', 'Unix', '``', 'Lint', 'programming', 'tool|lint', \"''\", 'program', 'is', 'an', 'early', 'example', '.', 'For', 'debugging', 'electronic', 'hardware', '(', 'e.g.', ',', 'computer', 'hardware', ')', 'as', 'well', 'as', 'low-level', 'software', '(', 'e.g.', ',', 'BIOSes', ',', 'device', 'drivers', ')', 'and', 'firmware', ',', 'instruments', 'such', 'as', 'oscilloscopes', ',', 'logic', 'analyzers', 'or', 'in-circuit', 'emulator|in-circuit', 'emulators', '(', 'ICEs', ')', 'are', 'often', 'used', ',', 'alone', 'or', 'in', 'combination', '.', 'An', 'ICE', 'may', 'perform', 'many', 'of', 'the', 'typical', 'software', 'debugger', \"'s\", 'tasks', 'on', 'low-level', 'software', 'and', 'firmware', '.', 'Debugging', 'process', 'Normally', 'the', 'first', 'step', 'in', 'debugging', 'is', 'to', 'attempt', 'to', 'reproduce', 'the', 'problem', '.', 'This', 'can', 'be', 'a', 'non-trivial', 'task', ',', 'for', 'example', 'as', 'with', 'Parallel', 'computing|parallel', 'processes', 'or', 'some', 'unusual', 'software', 'bugs', '.', 'Also', ',', 'specific', 'user', 'environment', 'and', 'usage', 'history', 'can', 'make', 'it', 'difficult', 'to', 'reproduce', 'the', 'problem', '.', 'After', 'the', 'bug', 'is', 'reproduced', ',', 'the', 'input', 'of', 'the', 'program', 'may', 'need', 'to', 'be', 'simplified', 'to', 'make', 'it', 'easier', 'to', 'debug', '.', 'For', 'example', ',', 'a', 'bug', 'in', 'a', 'compiler', 'can', 'make', 'it', 'Crash', '(', 'computing', ')', '|crash', 'when', 'parsing', 'some', 'large', 'source', 'file', '.', 'However', ',', 'after', 'simplification', 'of', 'the', 'test', 'case', ',', 'only', 'few', 'lines', 'from', 'the', 'original', 'source', 'file', 'can', 'be', 'sufficient', 'to', 'reproduce', 'the', 'same', 'crash', '.', 'Such', 'simplification', 'can', 'be', 'made', 'manually', ',', 'using', 'a', 'Divide', 'and', 'conquer', 'algorithm|divide-and-conquer', 'approach', '.', 'The', 'programmer', 'will', 'try', 'to', 'remove', 'some', 'parts', 'of', 'original', 'test', 'case', 'and', 'check', 'if', 'the', 'problem', 'still', 'exists', '.', 'When', 'debugging', 'the', 'problem', 'in', 'a', 'Graphical', 'user', 'interface|GUI', ',', 'the', 'programmer', 'can', 'try', 'to', 'skip', 'some', 'user', 'interaction', 'from', 'the', 'original', 'problem', 'description', 'and', 'check', 'if', 'remaining', 'actions', 'are', 'sufficient', 'for', 'bugs', 'to', 'appear', '.', 'After', 'the', 'test', 'case', 'is', 'sufficiently', 'simplified', ',', 'a', 'programmer', 'can', 'use', 'a', 'debugger', 'tool', 'to', 'examine', 'program', 'states', '(', 'values', 'of', 'variables', ',', 'plus', 'the', 'call', 'stack', ')', 'and', 'track', 'down', 'the', 'origin', 'of', 'the', 'problem', '(', 's', ')', '.', 'Alternatively', ',', 'Tracing', '(', 'software', ')', '|tracing', 'can', 'be', 'used', '.', 'In', 'simple', 'cases', ',', 'tracing', 'is', 'just', 'a', 'few', 'print', 'statements', ',', 'which', 'output', 'the', 'values', 'of', 'variables', 'at', 'certain', 'points', 'of', 'program', 'execution', '.', '{', '{', 'citation', 'needed|date=February', '2016', '}', '}', 'Techniques', '``', 'Interactive', 'debugging', \"''\", '``', '{', '{', 'visible', 'anchor|Print', 'debugging', '}', '}', \"''\", '(', 'or', 'tracing', ')', 'is', 'the', 'act', 'of', 'watching', '(', 'live', 'or', 'recorded', ')', 'trace', 'statements', ',', 'or', 'print', 'statements', ',', 'that', 'indicate', 'the', 'flow', 'of', 'execution', 'of', 'a', 'process', '.', 'This', 'is', 'sometimes', 'called', '``', '{', '{', 'visible', 'anchor|printf', 'debugging', '}', '}', \"''\", ',', 'due', 'to', 'the', 'use', 'of', 'the', 'printf', 'function', 'in', 'C.', 'This', 'kind', 'of', 'debugging', 'was', 'turned', 'on', 'by', 'the', 'command', 'TRON', 'in', 'the', 'original', 'versions', 'of', 'the', 'novice-oriented', 'BASIC', 'programming', 'language', '.', 'TRON', 'stood', 'for', ',', '``', 'Trace', 'On', '.', \"''\", 'TRON', 'caused', 'the', 'line', 'numbers', 'of', 'each', 'BASIC', 'command', 'line', 'to', 'print', 'as', 'the', 'program', 'ran', '.', \"''Remote\", 'debugging', \"''\", 'is', 'the', 'process', 'of', 'debugging', 'a', 'program', 'running', 'on', 'a', 'system', 'different', 'from', 'the', 'debugger', '.', 'To', 'start', 'remote', 'debugging', ',', 'a', 'debugger', 'connects', 'to', 'a', 'remote', 'system', 'over', 'a', 'network', '.', 'The', 'debugger', 'can', 'then', 'control', 'the', 'execution', 'of', 'the', 'program', 'on', 'the', 'remote', 'system', 'and', 'retrieve', 'information', 'about', 'its', 'state', '.', \"''Post-mortem\", 'debugging', \"''\", 'is', 'debugging', 'of', 'the', 'program', 'after', 'it', 'has', 'already', 'Crash', '(', 'computing', ')', '|crashed', '.', 'Related', 'techniques', 'often', 'include', 'various', 'tracing', 'techniques', '(', 'for', 'example', ',', '[', 'http', ':', '//www.drdobbs.com/tools/185300443', 'Postmortem', 'Debugging', ',', 'Stephen', 'Wormuller', ',', 'Dr.', 'Dobbs', 'Journal', ',', '2006', ']', ')', 'and/or', 'analysis', 'of', 'memory', 'dump', '(', 'or', 'core', 'dump', ')', 'of', 'the', 'crashed', 'process', '.', 'The', 'dump', 'of', 'the', 'process', 'could', 'be', 'obtained', 'automatically', 'by', 'the', 'system', '(', 'for', 'example', ',', 'when', 'process', 'has', 'terminated', 'due', 'to', 'an', 'unhandled', 'exception', ')', ',', 'or', 'by', 'a', 'programmer-inserted', 'instruction', ',', 'or', 'manually', 'by', 'the', 'interactive', 'user', '.', \"''\", \"''\", 'Wolf', 'fence', \"''\", 'algorithm', ':', \"''\", 'Edward', 'Gauss', 'described', 'this', 'simple', 'but', 'very', 'useful', 'and', 'now', 'famous', 'algorithm', 'in', 'a', '1982', 'article', 'for', 'communications', 'of', 'the', 'ACM', 'as', 'follows', ':', '``', 'There', \"'s\", 'one', 'wolf', 'in', 'Alaska', ';', 'how', 'do', 'you', 'find', 'it', '?', 'First', 'build', 'a', 'fence', 'down', 'the', 'middle', 'of', 'the', 'state', ',', 'wait', 'for', 'the', 'wolf', 'to', 'howl', ',', 'determine', 'which', 'side', 'of', 'the', 'fence', 'it', 'is', 'on', '.', 'Repeat', 'process', 'on', 'that', 'side', 'only', ',', 'until', 'you', 'get', 'to', 'the', 'point', 'where', 'you', 'can', 'see', 'the', 'wolf', '.', '``', '<', 'ref', 'name=', \"''\", 'communications', 'of', 'the', 'ACM', \"''\", '>', '{', '{', 'cite', 'journal', '|', 'title=', \"''\", 'Pracniques', ':', 'The', '``', 'Wolf', 'Fence', \"''\", 'Algorithm', 'for', 'Debugging', \"''\", ',', '|', 'author=E', '.', 'J.', 'Gauss', '|', 'year=1982', '}', '}', 'This', 'is', 'implemented', 'e.g', '.', 'in', 'the', 'Git', '(', 'software', ')', '|Git', 'version', 'control', 'system', 'as', 'the', 'command', '``', 'git', 'bisect', \"''\", ',', 'which', 'uses', 'the', 'above', 'algorithm', 'to', 'determine', 'which', 'Commit', '(', 'data', 'management', ')', '|commit', 'introduced', 'a', 'particular', 'bug', '.', \"''Delta\", 'Debugging', \"''\", '{', '{', 'snd', '}', '}', 'a', 'technique', 'of', 'automating', 'test', 'case', 'simplification.Andreas', 'Zeller', ':', '<', 'cite', '>', 'Why', 'Programs', 'Fail', ':', 'A', 'Guide', 'to', 'Systematic', 'Debugging', '<', '/cite', '>', ',', 'Morgan', 'Kaufmann', ',', '2005', '.', 'ISBN', '1-55860-866-4', '{', '{', 'rp|p.123', '}', '}', '<', '!', '--', 'for', 'redirect', 'from', \"'Saff\", 'Squeeze', \"'\", '--', '>', '``', 'Saff', 'Squeeze', \"''\", '{', '{', 'snd', '}', '}', 'a', 'technique', 'of', 'isolating', 'failure', 'within', 'the', 'test', 'using', 'progressive', 'inlining', 'of', 'parts', 'of', 'the', 'failing', 'test', '.', '[', 'http', ':', '//www.threeriversinstitute.org/HitEmHighHitEmLow.html', 'Kent', 'Beck', ',', 'Hit', \"'em\", 'High', ',', 'Hit', \"'em\", 'Low', ':', 'Regression', 'Testing', 'and', 'the', 'Saff', 'Squeeze', ']', 'Debugging', 'for', 'embedded', 'systems', 'In', 'contrast', 'to', 'the', 'general', 'purpose', 'computer', 'software', 'design', 'environment', ',', 'a', 'primary', 'characteristic', 'of', 'embedded', 'environments', 'is', 'the', 'sheer', 'number', 'of', 'different', 'platforms', 'available', 'to', 'the', 'developers', '(', 'CPU', 'architectures', ',', 'vendors', ',', 'operating', 'systems', 'and', 'their', 'variants', ')', '.', 'Embedded', 'systems', 'are', ',', 'by', 'definition', ',', 'not', 'general-purpose', 'designs', ':', 'they', 'are', 'typically', 'developed', 'for', 'a', 'single', 'task', '(', 'or', 'small', 'range', 'of', 'tasks', ')', ',', 'and', 'the', 'platform', 'is', 'chosen', 'specifically', 'to', 'optimize', 'that', 'application', '.', 'Not', 'only', 'does', 'this', 'fact', 'make', 'life', 'tough', 'for', 'embedded', 'system', 'developers', ',', 'it', 'also', 'makes', 'debugging', 'and', 'testing', 'of', 'these', 'systems', 'harder', 'as', 'well', ',', 'since', 'different', 'debugging', 'tools', 'are', 'needed', 'in', 'different', 'platforms', '.', 'to', 'identify', 'and', 'fix', 'bugs', 'in', 'the', 'system', '(', 'e.g', '.', 'logical', 'or', 'synchronization', 'problems', 'in', 'the', 'code', ',', 'or', 'a', 'design', 'error', 'in', 'the', 'hardware', ')', ';', 'to', 'collect', 'information', 'about', 'the', 'operating', 'states', 'of', 'the', 'system', 'that', 'may', 'then', 'be', 'used', 'to', 'analyze', 'the', 'system', ':', 'to', 'find', 'ways', 'to', 'boost', 'its', 'performance', 'or', 'to', 'optimize', 'other', 'important', 'characteristics', '(', 'e.g', '.', 'energy', 'consumption', ',', 'reliability', ',', 'real-time', 'response', 'etc.', ')', '.', 'Anti-debugging', 'Anti-debugging', 'is', '``', 'the', 'implementation', 'of', 'one', 'or', 'more', 'techniques', 'within', 'computer', 'code', 'that', 'hinders', 'attempts', 'at', 'reverse', 'engineering', 'or', 'debugging', 'a', 'target', 'process', \"''\", '.', '<', 'ref', 'name=', \"''\", 'veracode-antidebugging', \"''\", '>', '{', '{', 'cite', 'web', '|url=http', ':', '//www.veracode.com/blog/2008/12/anti-debugging-series-part-i/', '|title=Anti-Debugging', 'Series', '-', 'Part', 'I', '|last=Shields', '|first=Tyler', '|date=2008-12-02', '|work=Veracode', '|accessdate=2009-03-17', '}', '}', 'It', 'is', 'actively', 'used', 'by', 'recognized', 'publishers', 'in', 'copy', 'protection|copy-protection', 'schemas', ',', 'but', 'is', 'also', 'used', 'by', 'malware', 'to', 'complicate', 'its', 'detection', 'and', 'elimination.', '<', 'ref', 'name=', \"''\", 'soft-prot', \"''\", '>', '[', 'http', ':', '//people.seas.harvard.edu/~mgagnon/software_protection_through_anti_debugging.pdf', 'Software', 'Protection', 'through', 'Anti-Debugging', 'Michael', 'N', 'Gagnon', ',', 'Stephen', 'Taylor', ',', 'Anup', 'Ghosh', ']', 'Techniques', 'used', 'in', 'anti-debugging', 'include', ':', 'API-based', ':', 'check', 'for', 'the', 'existence', 'of', 'a', 'debugger', 'using', 'system', 'information', 'Exception-based', ':', 'check', 'to', 'see', 'if', 'exceptions', 'are', 'interfered', 'with', 'Process', 'and', 'thread', 'blocks', ':', 'check', 'whether', 'process', 'and', 'thread', 'blocks', 'have', 'been', 'manipulated', 'Modified', 'code', ':', 'check', 'for', 'code', 'modifications', 'made', 'by', 'a', 'debugger', 'handling', 'software', 'breakpoints', 'Hardware-', 'and', 'register-based', ':', 'check', 'for', 'hardware', 'breakpoints', 'and', 'CPU', 'registers', 'Timing', 'and', 'latency', ':', 'check', 'the', 'time', 'taken', 'for', 'the', 'execution', 'of', 'instructions', 'Detecting', 'and', 'penalizing', 'debugger', '<', 'ref', 'name=', \"''\", 'soft-prot', \"''\", '/', '>', '<', '!', '--', 'reference', 'does', 'not', 'exist', '--', '>', 'An', 'early', 'example', 'of', 'anti-debugging', 'existed', 'in', 'early', 'versions', 'of', 'Microsoft', 'Word', 'which', ',', 'if', 'a', 'debugger', 'was', 'detected', ',', 'produced', 'a', 'message', 'that', 'said', ':', '``', 'The', 'tree', 'of', 'evil', 'bears', 'bitter', 'fruit', '.', 'Now', 'trashing', 'program', 'disk', '.', '``', ',', 'after', 'which', 'it', 'caused', 'the', 'floppy', 'disk', 'drive', 'to', 'emit', 'alarming', 'noises', 'with', 'the', 'intent', 'of', 'scaring', 'the', 'user', 'away', 'from', 'attempting', 'it', 'again.', '<', 'ref', 'name=', \"''\", 'SecurityEngineeringRA', \"''\", '>', '{', '{', 'cite', 'book', '|', 'url=http', ':', '//www.cl.cam.ac.uk/~rja14/book.html', '|', 'author=Ross', 'J.', 'Anderson', '|', 'title=Security', 'Engineering', '|', 'isbn', '=', '0-471-38922-6', '|', 'page=684', '}', '}', '<', 'ref', 'name=', \"''\", 'toastytech', \"''\", '>', '{', '{', 'cite', 'web', '|', 'url=http', ':', '//toastytech.com/guis/word1153.html', '|', 'title=Microsoft', 'Word', 'for', 'DOS', '1.15', '}', '}']\n"
     ]
    }
   ],
   "source": [
    "tokens = word_tokenize(article)\n",
    "print(len(tokens))\n",
    "print(tokens)"
   ]
  },
  {
   "cell_type": "code",
   "execution_count": 4,
   "id": "cb2e6ba5",
   "metadata": {
    "scrolled": true
   },
   "outputs": [
    {
     "name": "stdout",
     "output_type": "stream",
     "text": [
      "2910\n",
      "[\"'\", \"''\", 'debugging', \"''\", \"'\", 'is', 'the', 'process', 'of', 'finding', 'and', 'resolving', 'of', 'defects', 'that', 'prevent', 'correct', 'operation', 'of', 'computer', 'software', 'or', 'a', 'system', '.', 'numerous', 'books', 'have', 'been', 'written', 'about', 'debugging', '(', 'see', 'below', ':', '#', 'further', 'reading|further', 'reading', ')', ',', 'as', 'it', 'involves', 'numerous', 'aspects', ',', 'including', 'interactive', 'debugging', ',', 'control', 'flow', ',', 'integration', 'testing', ',', 'logfile|log', 'files', ',', 'monitoring', '(', 'application', 'monitoring|application', ',', 'system', 'monitoring|system', ')', ',', 'memory', 'dumps', ',', 'profiling', '(', 'computer', 'programming', ')', '|profiling', ',', 'statistical', 'process', 'control', ',', 'and', 'special', 'design', 'tactics', 'to', 'improve', 'detection', 'while', 'simplifying', 'changes', '.', 'origin', 'a', 'computer', 'log', 'entry', 'from', 'the', 'mark', '&', 'nbsp', ';', 'ii', ',', 'with', 'a', 'moth', 'taped', 'to', 'the', 'page', 'the', 'terms', '``', 'bug', \"''\", 'and', '``', 'debugging', \"''\", 'are', 'popularly', 'attributed', 'to', 'admiral', 'grace', 'hopper', 'in', 'the', '1940s', '.', '[', 'http', ':', '//foldoc.org/grace+hopper', 'grace', 'hopper', ']', 'from', 'foldoc', 'while', 'she', 'was', 'working', 'on', 'a', 'harvard', 'mark', 'ii|mark', 'ii', 'computer', 'at', 'harvard', 'university', ',', 'her', 'associates', 'discovered', 'a', 'moth', 'stuck', 'in', 'a', 'relay', 'and', 'thereby', 'impeding', 'operation', ',', 'whereupon', 'she', 'remarked', 'that', 'they', 'were', '``', 'debugging', \"''\", 'the', 'system', '.', 'however', 'the', 'term', '``', 'bug', \"''\", 'in', 'the', 'meaning', 'of', 'technical', 'error', 'dates', 'back', 'at', 'least', 'to', '1878', 'and', 'thomas', 'edison', '(', 'see', 'software', 'bug', 'for', 'a', 'full', 'discussion', ')', ',', 'and', '``', 'debugging', \"''\", 'seems', 'to', 'have', 'been', 'used', 'as', 'a', 'term', 'in', 'aeronautics', 'before', 'entering', 'the', 'world', 'of', 'computers', '.', 'indeed', ',', 'in', 'an', 'interview', 'grace', 'hopper', 'remarked', 'that', 'she', 'was', 'not', 'coining', 'the', 'term', '{', '{', 'citation', 'needed|date=july', '2015', '}', '}', '.', 'the', 'moth', 'fit', 'the', 'already', 'existing', 'terminology', ',', 'so', 'it', 'was', 'saved', '.', 'a', 'letter', 'from', 'j.', 'robert', 'oppenheimer', '(', 'director', 'of', 'the', 'wwii', 'atomic', 'bomb', '``', 'manhattan', \"''\", 'project', 'at', 'los', 'alamos', ',', 'nm', ')', 'used', 'the', 'term', 'in', 'a', 'letter', 'to', 'dr.', 'ernest', 'lawrence', 'at', 'uc', 'berkeley', ',', 'dated', 'october', '27', ',', '1944', ',', 'http', ':', '//bancroft.berkeley.edu/exhibits/physics/images/bigscience25.jpg', 'regarding', 'the', 'recruitment', 'of', 'additional', 'technical', 'staff', '.', 'the', 'oxford', 'english', 'dictionary', 'entry', 'for', '``', 'debug', \"''\", 'quotes', 'the', 'term', '``', 'debugging', \"''\", 'used', 'in', 'reference', 'to', 'airplane', 'engine', 'testing', 'in', 'a', '1945', 'article', 'in', 'the', 'journal', 'of', 'the', 'royal', 'aeronautical', 'society', '.', 'an', 'article', 'in', '``', 'airforce', \"''\", '(', 'june', '1945', 'p.', '&', 'nbsp', ';', '50', ')', 'also', 'refers', 'to', 'debugging', ',', 'this', 'time', 'of', 'aircraft', 'cameras', '.', 'hopper', \"'s\", 'computer', 'bug|bug', 'was', 'found', 'on', 'september', '9', ',', '1947', '.', 'the', 'term', 'was', 'not', 'adopted', 'by', 'computer', 'programmers', 'until', 'the', 'early', '1950s', '.', 'the', 'seminal', 'article', 'by', 'gills', '.', 'gill', ',', '[', 'http', ':', '//www.jstor.org/stable/98663', 'the', 'diagnosis', 'of', 'mistakes', 'in', 'programmes', 'on', 'the', 'edsac', ']', ',', 'proceedings', 'of', 'the', 'royal', 'society', 'of', 'london', '.', 'series', 'a', ',', 'mathematical', 'and', 'physical', 'sciences', ',', 'vol', '.', '206', ',', 'no', '.', '1087', '(', 'may', '22', ',', '1951', ')', ',', 'pp', '.', '538-554', 'in', '1951', 'is', 'the', 'earliest', 'in-depth', 'discussion', 'of', 'programming', 'errors', ',', 'but', 'it', 'does', 'not', 'use', 'the', 'term', '``', 'bug', \"''\", 'or', '``', 'debugging', \"''\", '.', 'in', 'the', 'association', 'for', 'computing', 'machinery|acm', \"'s\", 'digital', 'library', ',', 'the', 'term', '``', 'debugging', \"''\", 'is', 'first', 'used', 'in', 'three', 'papers', 'from', '1952', 'acm', 'national', 'meetings.robert', 'v.', 'd.', 'campbell', ',', '[', 'http', ':', '//portal.acm.org/citation.cfm', '?', 'id=609784.609786', 'evolution', 'of', 'automatic', 'computation', ']', ',', 'proceedings', 'of', 'the', '1952', 'acm', 'national', 'meeting', '(', 'pittsburgh', ')', ',', 'p', '29-32', ',', '1952.alex', 'orden', ',', '[', 'http', ':', '//portal.acm.org/citation.cfm', '?', 'id=609784.609793', 'solution', 'of', 'systems', 'of', 'linear', 'inequalities', 'on', 'a', 'digital', 'computer', ']', ',', 'proceedings', 'of', 'the', '1952', 'acm', 'national', 'meeting', '(', 'pittsburgh', ')', ',', 'p.', '91-95', ',', '1952.howard', 'b.', 'demuth', ',', 'john', 'b.', 'jackson', ',', 'edmund', 'klein', ',', 'n.', 'metropolis', ',', 'walter', 'orvedahl', ',', 'james', 'h.', 'richardson', ',', '[', 'http', ':', '//portal.acm.org/citation.cfm', '?', 'id=800259.808982', 'maniac', ']', ',', 'proceedings', 'of', 'the', '1952', 'acm', 'national', 'meeting', '(', 'toronto', ')', ',', 'p.', '13-16', 'two', 'of', 'the', 'three', 'use', 'the', 'term', 'in', 'quotation', 'marks', '.', 'by', '1963', '``', 'debugging', \"''\", 'was', 'a', 'common', 'enough', 'term', 'to', 'be', 'mentioned', 'in', 'passing', 'without', 'explanation', 'on', 'page', '1', 'of', 'the', 'compatible', 'time-sharing', 'system|ctss', 'manual', '.', '[', 'http', ':', '//www.bitsavers.org/pdf/mit/ctss/ctss_programmersguide.pdf', 'the', 'compatible', 'time-sharing', 'system', ']', ',', 'm.i.t', '.', 'press', ',', '1963', 'kidwell', \"'s\", 'article', '``', 'stalking', 'the', 'elusive', 'computer', 'bug', \"''\", 'peggy', 'aldrich', 'kidwell', ',', '[', 'http', ':', '//ieeexplore.ieee.org/xpl/freeabs_all.jsp', '?', 'tp=', '&', 'arnumber=728224', '&', 'isnumber=15706', 'stalking', 'the', 'elusive', 'computer', 'bug', ']', ',', 'ieee', 'annals', 'of', 'the', 'history', 'of', 'computing', ',', '1998.', 'discusses', 'the', 'etymology', 'of', '``', 'bug', \"''\", 'and', '``', 'debug', \"''\", 'in', 'greater', 'detail', '.', 'scope', 'as', 'software', 'and', 'electronic', 'systems', 'have', 'become', 'generally', 'more', 'complex', ',', 'the', 'various', 'common', 'debugging', 'techniques', 'have', 'expanded', 'with', 'more', 'methods', 'to', 'detect', 'anomalies', ',', 'assess', 'impact', ',', 'and', 'schedule', 'software', 'patches', 'or', 'full', 'updates', 'to', 'a', 'system', '.', 'the', 'words', '``', 'anomaly', \"''\", 'and', '``', 'discrepancy', \"''\", 'can', 'be', 'used', ',', 'as', 'being', 'more', 'neutral', 'terms', ',', 'to', 'avoid', 'the', 'words', '``', 'error', \"''\", 'and', '``', 'defect', \"''\", 'or', '``', 'bug', \"''\", 'where', 'there', 'might', 'be', 'an', 'implication', 'that', 'all', 'so-called', '``', 'errors', \"''\", ',', '``', 'defects', \"''\", 'or', '``', 'bugs', \"''\", 'must', 'be', 'fixed', '(', 'at', 'all', 'costs', ')', '.', 'instead', ',', 'an', 'impact', 'assessment', 'can', 'be', 'made', 'to', 'determine', 'if', 'changes', 'to', 'remove', 'an', '``', 'anomaly', \"''\", '(', 'or', '``', 'discrepancy', \"''\", ')', 'would', 'be', 'cost-effective', 'for', 'the', 'system', ',', 'or', 'perhaps', 'a', 'scheduled', 'new', 'release', 'might', 'render', 'the', 'change', '(', 's', ')', 'unnecessary', '.', 'not', 'all', 'issues', 'are', 'life-critical', 'or', 'mission-critical', 'in', 'a', 'system', '.', 'also', ',', 'it', 'is', 'important', 'to', 'avoid', 'the', 'situation', 'where', 'a', 'change', 'might', 'be', 'more', 'upsetting', 'to', 'users', ',', 'long-term', ',', 'than', 'living', 'with', 'the', 'known', 'problem', '(', 's', ')', '(', 'where', 'the', '``', 'cure', 'would', 'be', 'worse', 'than', 'the', 'disease', \"''\", ')', '.', 'basing', 'decisions', 'of', 'the', 'acceptability', 'of', 'some', 'anomalies', 'can', 'avoid', 'a', 'culture', 'of', 'a', '``', 'zero-defects', \"''\", 'mandate', ',', 'where', 'people', 'might', 'be', 'tempted', 'to', 'deny', 'the', 'existence', 'of', 'problems', 'so', 'that', 'the', 'result', 'would', 'appear', 'as', 'zero', '``', 'defects', \"''\", '.', 'considering', 'the', 'collateral', 'issues', ',', 'such', 'as', 'the', 'cost-versus-benefit', 'impact', 'assessment', ',', 'then', 'broader', 'debugging', 'techniques', 'will', 'expand', 'to', 'determine', 'the', 'frequency', 'of', 'anomalies', '(', 'how', 'often', 'the', 'same', '``', 'bugs', \"''\", 'occur', ')', 'to', 'help', 'assess', 'their', 'impact', 'to', 'the', 'overall', 'system', '.', 'tools', 'debugging', 'on', 'video', 'game', 'consoles', 'is', 'usually', 'done', 'with', 'special', 'hardware', 'such', 'as', 'this', 'xbox', '(', 'console', ')', '|xbox', 'debug', 'unit', 'intended', 'for', 'developers', '.', 'debugging', 'ranges', 'in', 'complexity', 'from', 'fixing', 'simple', 'errors', 'to', 'performing', 'lengthy', 'and', 'tiresome', 'tasks', 'of', 'data', 'collection', ',', 'analysis', ',', 'and', 'scheduling', 'updates', '.', 'the', 'debugging', 'skill', 'of', 'the', 'programmer', 'can', 'be', 'a', 'major', 'factor', 'in', 'the', 'ability', 'to', 'debug', 'a', 'problem', ',', 'but', 'the', 'difficulty', 'of', 'software', 'debugging', 'varies', 'greatly', 'with', 'the', 'complexity', 'of', 'the', 'system', ',', 'and', 'also', 'depends', ',', 'to', 'some', 'extent', ',', 'on', 'the', 'programming', 'language', '(', 's', ')', 'used', 'and', 'the', 'available', 'tools', ',', 'such', 'as', '``', 'debuggers', \"''\", '.', 'debuggers', 'are', 'software', 'tools', 'which', 'enable', 'the', 'programmer', 'to', 'monitor', 'the', 'execution', '(', 'computers', ')', '|execution', 'of', 'a', 'program', ',', 'stop', 'it', ',', 'restart', 'it', ',', 'set', 'breakpoints', ',', 'and', 'change', 'values', 'in', 'memory', '.', 'the', 'term', '``', 'debugger', \"''\", 'can', 'also', 'refer', 'to', 'the', 'person', 'who', 'is', 'doing', 'the', 'debugging', '.', 'generally', ',', 'high-level', 'programming', 'languages', ',', 'such', 'as', 'java', '(', 'programming', 'language', ')', '|java', ',', 'make', 'debugging', 'easier', ',', 'because', 'they', 'have', 'features', 'such', 'as', 'exception', 'handling', 'that', 'make', 'real', 'sources', 'of', 'erratic', 'behaviour', 'easier', 'to', 'spot', '.', 'in', 'programming', 'languages', 'such', 'as', 'c', '(', 'programming', 'language', ')', '|c', 'or', 'assembly', 'language|assembly', ',', 'bugs', 'may', 'cause', 'silent', 'problems', 'such', 'as', 'memory', 'corruption', ',', 'and', 'it', 'is', 'often', 'difficult', 'to', 'see', 'where', 'the', 'initial', 'problem', 'happened', '.', 'in', 'those', 'cases', ',', 'memory', 'debugging|memory', 'debugger', 'tools', 'may', 'be', 'needed', '.', 'in', 'certain', 'situations', ',', 'general', 'purpose', 'software', 'tools', 'that', 'are', 'language', 'specific', 'in', 'nature', 'can', 'be', 'very', 'useful', '.', 'these', 'take', 'the', 'form', 'of', '``', 'list', 'of', 'tools', 'for', 'static', 'code', 'analysis|static', 'code', 'analysis', 'tools', \"''\", '.', 'these', 'tools', 'look', 'for', 'a', 'very', 'specific', 'set', 'of', 'known', 'problems', ',', 'some', 'common', 'and', 'some', 'rare', ',', 'within', 'the', 'source', 'code', '.', 'all', 'such', 'issues', 'detected', 'by', 'these', 'tools', 'would', 'rarely', 'be', 'picked', 'up', 'by', 'a', 'compiler', 'or', 'interpreter', ',', 'thus', 'they', 'are', 'not', 'syntax', 'checkers', ',', 'but', 'more', 'semantic', 'checkers', '.', 'some', 'tools', 'claim', 'to', 'be', 'able', 'to', 'detect', '300+', 'unique', 'problems', '.', 'both', 'commercial', 'and', 'free', 'tools', 'exist', 'in', 'various', 'languages', '.', 'these', 'tools', 'can', 'be', 'extremely', 'useful', 'when', 'checking', 'very', 'large', 'source', 'trees', ',', 'where', 'it', 'is', 'impractical', 'to', 'do', 'code', 'walkthroughs', '.', 'a', 'typical', 'example', 'of', 'a', 'problem', 'detected', 'would', 'be', 'a', 'variable', 'dereference', 'that', 'occurs', '``', 'before', \"''\", 'the', 'variable', 'is', 'assigned', 'a', 'value', '.', 'another', 'example', 'would', 'be', 'to', 'perform', 'strong', 'type', 'checking', 'when', 'the', 'language', 'does', 'not', 'require', 'such', '.', 'thus', ',', 'they', 'are', 'better', 'at', 'locating', 'likely', 'errors', ',', 'versus', 'actual', 'errors', '.', 'as', 'a', 'result', ',', 'these', 'tools', 'have', 'a', 'reputation', 'of', 'false', 'positives', '.', 'the', 'old', 'unix', '``', 'lint', 'programming', 'tool|lint', \"''\", 'program', 'is', 'an', 'early', 'example', '.', 'for', 'debugging', 'electronic', 'hardware', '(', 'e.g.', ',', 'computer', 'hardware', ')', 'as', 'well', 'as', 'low-level', 'software', '(', 'e.g.', ',', 'bioses', ',', 'device', 'drivers', ')', 'and', 'firmware', ',', 'instruments', 'such', 'as', 'oscilloscopes', ',', 'logic', 'analyzers', 'or', 'in-circuit', 'emulator|in-circuit', 'emulators', '(', 'ices', ')', 'are', 'often', 'used', ',', 'alone', 'or', 'in', 'combination', '.', 'an', 'ice', 'may', 'perform', 'many', 'of', 'the', 'typical', 'software', 'debugger', \"'s\", 'tasks', 'on', 'low-level', 'software', 'and', 'firmware', '.', 'debugging', 'process', 'normally', 'the', 'first', 'step', 'in', 'debugging', 'is', 'to', 'attempt', 'to', 'reproduce', 'the', 'problem', '.', 'this', 'can', 'be', 'a', 'non-trivial', 'task', ',', 'for', 'example', 'as', 'with', 'parallel', 'computing|parallel', 'processes', 'or', 'some', 'unusual', 'software', 'bugs', '.', 'also', ',', 'specific', 'user', 'environment', 'and', 'usage', 'history', 'can', 'make', 'it', 'difficult', 'to', 'reproduce', 'the', 'problem', '.', 'after', 'the', 'bug', 'is', 'reproduced', ',', 'the', 'input', 'of', 'the', 'program', 'may', 'need', 'to', 'be', 'simplified', 'to', 'make', 'it', 'easier', 'to', 'debug', '.', 'for', 'example', ',', 'a', 'bug', 'in', 'a', 'compiler', 'can', 'make', 'it', 'crash', '(', 'computing', ')', '|crash', 'when', 'parsing', 'some', 'large', 'source', 'file', '.', 'however', ',', 'after', 'simplification', 'of', 'the', 'test', 'case', ',', 'only', 'few', 'lines', 'from', 'the', 'original', 'source', 'file', 'can', 'be', 'sufficient', 'to', 'reproduce', 'the', 'same', 'crash', '.', 'such', 'simplification', 'can', 'be', 'made', 'manually', ',', 'using', 'a', 'divide', 'and', 'conquer', 'algorithm|divide-and-conquer', 'approach', '.', 'the', 'programmer', 'will', 'try', 'to', 'remove', 'some', 'parts', 'of', 'original', 'test', 'case', 'and', 'check', 'if', 'the', 'problem', 'still', 'exists', '.', 'when', 'debugging', 'the', 'problem', 'in', 'a', 'graphical', 'user', 'interface|gui', ',', 'the', 'programmer', 'can', 'try', 'to', 'skip', 'some', 'user', 'interaction', 'from', 'the', 'original', 'problem', 'description', 'and', 'check', 'if', 'remaining', 'actions', 'are', 'sufficient', 'for', 'bugs', 'to', 'appear', '.', 'after', 'the', 'test', 'case', 'is', 'sufficiently', 'simplified', ',', 'a', 'programmer', 'can', 'use', 'a', 'debugger', 'tool', 'to', 'examine', 'program', 'states', '(', 'values', 'of', 'variables', ',', 'plus', 'the', 'call', 'stack', ')', 'and', 'track', 'down', 'the', 'origin', 'of', 'the', 'problem', '(', 's', ')', '.', 'alternatively', ',', 'tracing', '(', 'software', ')', '|tracing', 'can', 'be', 'used', '.', 'in', 'simple', 'cases', ',', 'tracing', 'is', 'just', 'a', 'few', 'print', 'statements', ',', 'which', 'output', 'the', 'values', 'of', 'variables', 'at', 'certain', 'points', 'of', 'program', 'execution', '.', '{', '{', 'citation', 'needed|date=february', '2016', '}', '}', 'techniques', '``', 'interactive', 'debugging', \"''\", '``', '{', '{', 'visible', 'anchor|print', 'debugging', '}', '}', \"''\", '(', 'or', 'tracing', ')', 'is', 'the', 'act', 'of', 'watching', '(', 'live', 'or', 'recorded', ')', 'trace', 'statements', ',', 'or', 'print', 'statements', ',', 'that', 'indicate', 'the', 'flow', 'of', 'execution', 'of', 'a', 'process', '.', 'this', 'is', 'sometimes', 'called', '``', '{', '{', 'visible', 'anchor|printf', 'debugging', '}', '}', \"''\", ',', 'due', 'to', 'the', 'use', 'of', 'the', 'printf', 'function', 'in', 'c.', 'this', 'kind', 'of', 'debugging', 'was', 'turned', 'on', 'by', 'the', 'command', 'tron', 'in', 'the', 'original', 'versions', 'of', 'the', 'novice-oriented', 'basic', 'programming', 'language', '.', 'tron', 'stood', 'for', ',', '``', 'trace', 'on', '.', \"''\", 'tron', 'caused', 'the', 'line', 'numbers', 'of', 'each', 'basic', 'command', 'line', 'to', 'print', 'as', 'the', 'program', 'ran', '.', \"''remote\", 'debugging', \"''\", 'is', 'the', 'process', 'of', 'debugging', 'a', 'program', 'running', 'on', 'a', 'system', 'different', 'from', 'the', 'debugger', '.', 'to', 'start', 'remote', 'debugging', ',', 'a', 'debugger', 'connects', 'to', 'a', 'remote', 'system', 'over', 'a', 'network', '.', 'the', 'debugger', 'can', 'then', 'control', 'the', 'execution', 'of', 'the', 'program', 'on', 'the', 'remote', 'system', 'and', 'retrieve', 'information', 'about', 'its', 'state', '.', \"''post-mortem\", 'debugging', \"''\", 'is', 'debugging', 'of', 'the', 'program', 'after', 'it', 'has', 'already', 'crash', '(', 'computing', ')', '|crashed', '.', 'related', 'techniques', 'often', 'include', 'various', 'tracing', 'techniques', '(', 'for', 'example', ',', '[', 'http', ':', '//www.drdobbs.com/tools/185300443', 'postmortem', 'debugging', ',', 'stephen', 'wormuller', ',', 'dr.', 'dobbs', 'journal', ',', '2006', ']', ')', 'and/or', 'analysis', 'of', 'memory', 'dump', '(', 'or', 'core', 'dump', ')', 'of', 'the', 'crashed', 'process', '.', 'the', 'dump', 'of', 'the', 'process', 'could', 'be', 'obtained', 'automatically', 'by', 'the', 'system', '(', 'for', 'example', ',', 'when', 'process', 'has', 'terminated', 'due', 'to', 'an', 'unhandled', 'exception', ')', ',', 'or', 'by', 'a', 'programmer-inserted', 'instruction', ',', 'or', 'manually', 'by', 'the', 'interactive', 'user', '.', \"''\", \"''\", 'wolf', 'fence', \"''\", 'algorithm', ':', \"''\", 'edward', 'gauss', 'described', 'this', 'simple', 'but', 'very', 'useful', 'and', 'now', 'famous', 'algorithm', 'in', 'a', '1982', 'article', 'for', 'communications', 'of', 'the', 'acm', 'as', 'follows', ':', '``', 'there', \"'s\", 'one', 'wolf', 'in', 'alaska', ';', 'how', 'do', 'you', 'find', 'it', '?', 'first', 'build', 'a', 'fence', 'down', 'the', 'middle', 'of', 'the', 'state', ',', 'wait', 'for', 'the', 'wolf', 'to', 'howl', ',', 'determine', 'which', 'side', 'of', 'the', 'fence', 'it', 'is', 'on', '.', 'repeat', 'process', 'on', 'that', 'side', 'only', ',', 'until', 'you', 'get', 'to', 'the', 'point', 'where', 'you', 'can', 'see', 'the', 'wolf', '.', '``', '<', 'ref', 'name=', \"''\", 'communications', 'of', 'the', 'acm', \"''\", '>', '{', '{', 'cite', 'journal', '|', 'title=', \"''\", 'pracniques', ':', 'the', '``', 'wolf', 'fence', \"''\", 'algorithm', 'for', 'debugging', \"''\", ',', '|', 'author=e', '.', 'j.', 'gauss', '|', 'year=1982', '}', '}', 'this', 'is', 'implemented', 'e.g', '.', 'in', 'the', 'git', '(', 'software', ')', '|git', 'version', 'control', 'system', 'as', 'the', 'command', '``', 'git', 'bisect', \"''\", ',', 'which', 'uses', 'the', 'above', 'algorithm', 'to', 'determine', 'which', 'commit', '(', 'data', 'management', ')', '|commit', 'introduced', 'a', 'particular', 'bug', '.', \"''delta\", 'debugging', \"''\", '{', '{', 'snd', '}', '}', 'a', 'technique', 'of', 'automating', 'test', 'case', 'simplification.andreas', 'zeller', ':', '<', 'cite', '>', 'why', 'programs', 'fail', ':', 'a', 'guide', 'to', 'systematic', 'debugging', '<', '/cite', '>', ',', 'morgan', 'kaufmann', ',', '2005', '.', 'isbn', '1-55860-866-4', '{', '{', 'rp|p.123', '}', '}', '<', '!', '--', 'for', 'redirect', 'from', \"'saff\", 'squeeze', \"'\", '--', '>', '``', 'saff', 'squeeze', \"''\", '{', '{', 'snd', '}', '}', 'a', 'technique', 'of', 'isolating', 'failure', 'within', 'the', 'test', 'using', 'progressive', 'inlining', 'of', 'parts', 'of', 'the', 'failing', 'test', '.', '[', 'http', ':', '//www.threeriversinstitute.org/hitemhighhitemlow.html', 'kent', 'beck', ',', 'hit', \"'em\", 'high', ',', 'hit', \"'em\", 'low', ':', 'regression', 'testing', 'and', 'the', 'saff', 'squeeze', ']', 'debugging', 'for', 'embedded', 'systems', 'in', 'contrast', 'to', 'the', 'general', 'purpose', 'computer', 'software', 'design', 'environment', ',', 'a', 'primary', 'characteristic', 'of', 'embedded', 'environments', 'is', 'the', 'sheer', 'number', 'of', 'different', 'platforms', 'available', 'to', 'the', 'developers', '(', 'cpu', 'architectures', ',', 'vendors', ',', 'operating', 'systems', 'and', 'their', 'variants', ')', '.', 'embedded', 'systems', 'are', ',', 'by', 'definition', ',', 'not', 'general-purpose', 'designs', ':', 'they', 'are', 'typically', 'developed', 'for', 'a', 'single', 'task', '(', 'or', 'small', 'range', 'of', 'tasks', ')', ',', 'and', 'the', 'platform', 'is', 'chosen', 'specifically', 'to', 'optimize', 'that', 'application', '.', 'not', 'only', 'does', 'this', 'fact', 'make', 'life', 'tough', 'for', 'embedded', 'system', 'developers', ',', 'it', 'also', 'makes', 'debugging', 'and', 'testing', 'of', 'these', 'systems', 'harder', 'as', 'well', ',', 'since', 'different', 'debugging', 'tools', 'are', 'needed', 'in', 'different', 'platforms', '.', 'to', 'identify', 'and', 'fix', 'bugs', 'in', 'the', 'system', '(', 'e.g', '.', 'logical', 'or', 'synchronization', 'problems', 'in', 'the', 'code', ',', 'or', 'a', 'design', 'error', 'in', 'the', 'hardware', ')', ';', 'to', 'collect', 'information', 'about', 'the', 'operating', 'states', 'of', 'the', 'system', 'that', 'may', 'then', 'be', 'used', 'to', 'analyze', 'the', 'system', ':', 'to', 'find', 'ways', 'to', 'boost', 'its', 'performance', 'or', 'to', 'optimize', 'other', 'important', 'characteristics', '(', 'e.g', '.', 'energy', 'consumption', ',', 'reliability', ',', 'real-time', 'response', 'etc.', ')', '.', 'anti-debugging', 'anti-debugging', 'is', '``', 'the', 'implementation', 'of', 'one', 'or', 'more', 'techniques', 'within', 'computer', 'code', 'that', 'hinders', 'attempts', 'at', 'reverse', 'engineering', 'or', 'debugging', 'a', 'target', 'process', \"''\", '.', '<', 'ref', 'name=', \"''\", 'veracode-antidebugging', \"''\", '>', '{', '{', 'cite', 'web', '|url=http', ':', '//www.veracode.com/blog/2008/12/anti-debugging-series-part-i/', '|title=anti-debugging', 'series', '-', 'part', 'i', '|last=shields', '|first=tyler', '|date=2008-12-02', '|work=veracode', '|accessdate=2009-03-17', '}', '}', 'it', 'is', 'actively', 'used', 'by', 'recognized', 'publishers', 'in', 'copy', 'protection|copy-protection', 'schemas', ',', 'but', 'is', 'also', 'used', 'by', 'malware', 'to', 'complicate', 'its', 'detection', 'and', 'elimination.', '<', 'ref', 'name=', \"''\", 'soft-prot', \"''\", '>', '[', 'http', ':', '//people.seas.harvard.edu/~mgagnon/software_protection_through_anti_debugging.pdf', 'software', 'protection', 'through', 'anti-debugging', 'michael', 'n', 'gagnon', ',', 'stephen', 'taylor', ',', 'anup', 'ghosh', ']', 'techniques', 'used', 'in', 'anti-debugging', 'include', ':', 'api-based', ':', 'check', 'for', 'the', 'existence', 'of', 'a', 'debugger', 'using', 'system', 'information', 'exception-based', ':', 'check', 'to', 'see', 'if', 'exceptions', 'are', 'interfered', 'with', 'process', 'and', 'thread', 'blocks', ':', 'check', 'whether', 'process', 'and', 'thread', 'blocks', 'have', 'been', 'manipulated', 'modified', 'code', ':', 'check', 'for', 'code', 'modifications', 'made', 'by', 'a', 'debugger', 'handling', 'software', 'breakpoints', 'hardware-', 'and', 'register-based', ':', 'check', 'for', 'hardware', 'breakpoints', 'and', 'cpu', 'registers', 'timing', 'and', 'latency', ':', 'check', 'the', 'time', 'taken', 'for', 'the', 'execution', 'of', 'instructions', 'detecting', 'and', 'penalizing', 'debugger', '<', 'ref', 'name=', \"''\", 'soft-prot', \"''\", '/', '>', '<', '!', '--', 'reference', 'does', 'not', 'exist', '--', '>', 'an', 'early', 'example', 'of', 'anti-debugging', 'existed', 'in', 'early', 'versions', 'of', 'microsoft', 'word', 'which', ',', 'if', 'a', 'debugger', 'was', 'detected', ',', 'produced', 'a', 'message', 'that', 'said', ':', '``', 'the', 'tree', 'of', 'evil', 'bears', 'bitter', 'fruit', '.', 'now', 'trashing', 'program', 'disk', '.', '``', ',', 'after', 'which', 'it', 'caused', 'the', 'floppy', 'disk', 'drive', 'to', 'emit', 'alarming', 'noises', 'with', 'the', 'intent', 'of', 'scaring', 'the', 'user', 'away', 'from', 'attempting', 'it', 'again.', '<', 'ref', 'name=', \"''\", 'securityengineeringra', \"''\", '>', '{', '{', 'cite', 'book', '|', 'url=http', ':', '//www.cl.cam.ac.uk/~rja14/book.html', '|', 'author=ross', 'j.', 'anderson', '|', 'title=security', 'engineering', '|', 'isbn', '=', '0-471-38922-6', '|', 'page=684', '}', '}', '<', 'ref', 'name=', \"''\", 'toastytech', \"''\", '>', '{', '{', 'cite', 'web', '|', 'url=http', ':', '//toastytech.com/guis/word1153.html', '|', 'title=microsoft', 'word', 'for', 'dos', '1.15', '}', '}']\n"
     ]
    }
   ],
   "source": [
    "## q2\n",
    "lower_tokens = [t.lower() for t in tokens]\n",
    "print(len(lower_tokens))\n",
    "print(lower_tokens)"
   ]
  },
  {
   "cell_type": "code",
   "execution_count": 5,
   "id": "942c3950",
   "metadata": {},
   "outputs": [
    {
     "name": "stdout",
     "output_type": "stream",
     "text": [
      "958\n",
      "Counter({',': 151, 'the': 150, '.': 89, 'of': 81, \"''\": 66, 'to': 63, 'a': 60, '``': 47, 'in': 44, 'and': 41, 'debugging': 40, '(': 40, ')': 40, ':': 31, 'for': 26, 'is': 25, 'or': 25, 'be': 24, '{': 22, '}': 22, 'as': 21, 'system': 19, 'it': 18, 'can': 17, 'software': 16, 'that': 14, 'on': 14, 'tools': 14, 'by': 13, 'process': 12, 'computer': 12, 'are': 12, 'used': 12, 'bug': 11, 'http': 11, 'term': 11, 'such': 11, 'debugger': 11, 'from': 10, '[': 10, ']': 10, 'problem': 10, 'program': 10, '<': 10, '>': 10, '|': 10, 'programming': 9, 'an': 9, 'not': 9, 'some': 9, 'with': 8, 'was': 8, 'at': 8, 'this': 8, 'code': 8, 'example': 8, 'check': 8, 'have': 7, 'also': 7, 'techniques': 7, 'where': 7, 'which': 7, 'may': 6, 'acm': 6, 'systems': 6, 'more': 6, 'bugs': 6, 'would': 6, 'language': 6, 'make': 6, 'these': 6, 'test': 6, 'ref': 6, 'name=': 6, 'see': 5, 'memory': 5, 'they': 5, 'debug': 5, 'article': 5, \"'s\": 5, 'errors': 5, 'but': 5, '?': 5, 'if': 5, 'problems': 5, 'hardware': 5, 'programmer': 5, 'execution': 5, 'when': 5, 'user': 5, 'after': 5, 'wolf': 5, 'cite': 5, 'anti-debugging': 5, 'control': 4, 'testing': 4, '&': 4, ';': 4, 'hopper': 4, 'early': 4, 'proceedings': 4, 'does': 4, 'use': 4, 'computing': 4, '1952': 4, 'national': 4, 'impact': 4, 'might': 4, 'all': 4, 'determine': 4, 's': 4, 'often': 4, 'very': 4, 'source': 4, 'case': 4, 'original': 4, 'tracing': 4, 'different': 4, 'fence': 4, 'algorithm': 4, '--': 4, 'embedded': 4, \"'\": 3, 'defects': 3, 'been': 3, 'about': 3, 'interactive': 3, 'design': 3, 'moth': 3, 'grace': 3, 'she': 3, 'error': 3, 'j.': 3, 'journal': 3, 'p.': 3, 'first': 3, '//portal.acm.org/citation.cfm': 3, 'meeting': 3, 'common': 3, 'various': 3, 'anomalies': 3, 'avoid': 3, 'made': 3, 'change': 3, 'issues': 3, 'then': 3, 'developers': 3, 'simple': 3, 'tasks': 3, 'analysis': 3, 'breakpoints': 3, 'values': 3, 'languages': 3, 'easier': 3, 'specific': 3, 'useful': 3, 'within': 3, 'detected': 3, 'reproduce': 3, 'crash': 3, 'only': 3, 'using': 3, 'print': 3, 'statements': 3, 'command': 3, 'tron': 3, 'remote': 3, 'information': 3, 'its': 3, 'dump': 3, 'you': 3, 'e.g': 3, 'squeeze': 3, 'operation': 2, 'numerous': 2, 'flow': 2, 'application': 2, 'special': 2, 'detection': 2, 'while': 2, 'changes': 2, 'origin': 2, 'entry': 2, 'mark': 2, 'nbsp': 2, 'ii': 2, 'page': 2, 'terms': 2, 'harvard': 2, 'remarked': 2, 'however': 2, 'technical': 2, 'full': 2, 'discussion': 2, 'before': 2, 'computers': 2, 'citation': 2, 'already': 2, 'so': 2, 'letter': 2, 'dr.': 2, 'reference': 2, '1945': 2, 'royal': 2, 'society': 2, 'time': 2, 'until': 2, 'series': 2, '1951': 2, 'digital': 2, 'three': 2, 'pittsburgh': 2, 'b.': 2, '1963': 2, 'compatible': 2, 'time-sharing': 2, 'kidwell': 2, 'stalking': 2, 'elusive': 2, 'history': 2, 'electronic': 2, 'generally': 2, 'detect': 2, 'assess': 2, 'updates': 2, 'words': 2, 'anomaly': 2, 'discrepancy': 2, 'there': 2, 'assessment': 2, 'remove': 2, 'important': 2, 'than': 2, 'known': 2, 'existence': 2, 'result': 2, 'appear': 2, 'will': 2, 'how': 2, 'same': 2, 'their': 2, 'complexity': 2, 'data': 2, 'available': 2, 'debuggers': 2, 'set': 2, 'exception': 2, 'handling': 2, 'difficult': 2, 'cases': 2, 'needed': 2, 'certain': 2, 'general': 2, 'purpose': 2, 'compiler': 2, 'thus': 2, 'checkers': 2, 'exist': 2, 'checking': 2, 'large': 2, 'do': 2, 'typical': 2, 'variable': 2, 'perform': 2, 'e.g.': 2, 'well': 2, 'low-level': 2, 'firmware': 2, 'task': 2, 'environment': 2, 'simplified': 2, 'file': 2, 'simplification': 2, 'few': 2, 'sufficient': 2, 'manually': 2, 'try': 2, 'parts': 2, 'states': 2, 'variables': 2, 'down': 2, 'visible': 2, 'trace': 2, 'due': 2, 'versions': 2, 'basic': 2, 'caused': 2, 'line': 2, 'state': 2, 'has': 2, 'include': 2, 'stephen': 2, 'gauss': 2, 'now': 2, 'communications': 2, 'one': 2, 'find': 2, 'side': 2, 'git': 2, 'snd': 2, 'technique': 2, 'isbn': 2, '!': 2, 'saff': 2, 'hit': 2, \"'em\": 2, 'platforms': 2, 'cpu': 2, 'operating': 2, 'optimize': 2, 'engineering': 2, 'web': 2, 'soft-prot': 2, 'thread': 2, 'blocks': 2, 'word': 2, 'disk': 2, 'url=http': 2, 'finding': 1, 'resolving': 1, 'prevent': 1, 'correct': 1, 'books': 1, 'written': 1, 'below': 1, '#': 1, 'further': 1, 'reading|further': 1, 'reading': 1, 'involves': 1, 'aspects': 1, 'including': 1, 'integration': 1, 'logfile|log': 1, 'files': 1, 'monitoring': 1, 'monitoring|application': 1, 'monitoring|system': 1, 'dumps': 1, 'profiling': 1, '|profiling': 1, 'statistical': 1, 'tactics': 1, 'improve': 1, 'simplifying': 1, 'log': 1, 'taped': 1, 'popularly': 1, 'attributed': 1, 'admiral': 1, '1940s': 1, '//foldoc.org/grace+hopper': 1, 'foldoc': 1, 'working': 1, 'ii|mark': 1, 'university': 1, 'her': 1, 'associates': 1, 'discovered': 1, 'stuck': 1, 'relay': 1, 'thereby': 1, 'impeding': 1, 'whereupon': 1, 'were': 1, 'meaning': 1, 'dates': 1, 'back': 1, 'least': 1, '1878': 1, 'thomas': 1, 'edison': 1, 'seems': 1, 'aeronautics': 1, 'entering': 1, 'world': 1, 'indeed': 1, 'interview': 1, 'coining': 1, 'needed|date=july': 1, '2015': 1, 'fit': 1, 'existing': 1, 'terminology': 1, 'saved': 1, 'robert': 1, 'oppenheimer': 1, 'director': 1, 'wwii': 1, 'atomic': 1, 'bomb': 1, 'manhattan': 1, 'project': 1, 'los': 1, 'alamos': 1, 'nm': 1, 'ernest': 1, 'lawrence': 1, 'uc': 1, 'berkeley': 1, 'dated': 1, 'october': 1, '27': 1, '1944': 1, '//bancroft.berkeley.edu/exhibits/physics/images/bigscience25.jpg': 1, 'regarding': 1, 'recruitment': 1, 'additional': 1, 'staff': 1, 'oxford': 1, 'english': 1, 'dictionary': 1, 'quotes': 1, 'airplane': 1, 'engine': 1, 'aeronautical': 1, 'airforce': 1, 'june': 1, '50': 1, 'refers': 1, 'aircraft': 1, 'cameras': 1, 'bug|bug': 1, 'found': 1, 'september': 1, '9': 1, '1947': 1, 'adopted': 1, 'programmers': 1, '1950s': 1, 'seminal': 1, 'gills': 1, 'gill': 1, '//www.jstor.org/stable/98663': 1, 'diagnosis': 1, 'mistakes': 1, 'programmes': 1, 'edsac': 1, 'london': 1, 'mathematical': 1, 'physical': 1, 'sciences': 1, 'vol': 1, '206': 1, 'no': 1, '1087': 1, '22': 1, 'pp': 1, '538-554': 1, 'earliest': 1, 'in-depth': 1, 'association': 1, 'machinery|acm': 1, 'library': 1, 'papers': 1, 'meetings.robert': 1, 'v.': 1, 'd.': 1, 'campbell': 1, 'id=609784.609786': 1, 'evolution': 1, 'automatic': 1, 'computation': 1, 'p': 1, '29-32': 1, '1952.alex': 1, 'orden': 1, 'id=609784.609793': 1, 'solution': 1, 'linear': 1, 'inequalities': 1, '91-95': 1, '1952.howard': 1, 'demuth': 1, 'john': 1, 'jackson': 1, 'edmund': 1, 'klein': 1, 'n.': 1, 'metropolis': 1, 'walter': 1, 'orvedahl': 1, 'james': 1, 'h.': 1, 'richardson': 1, 'id=800259.808982': 1, 'maniac': 1, 'toronto': 1, '13-16': 1, 'two': 1, 'quotation': 1, 'marks': 1, 'enough': 1, 'mentioned': 1, 'passing': 1, 'without': 1, 'explanation': 1, '1': 1, 'system|ctss': 1, 'manual': 1, '//www.bitsavers.org/pdf/mit/ctss/ctss_programmersguide.pdf': 1, 'm.i.t': 1, 'press': 1, 'peggy': 1, 'aldrich': 1, '//ieeexplore.ieee.org/xpl/freeabs_all.jsp': 1, 'tp=': 1, 'arnumber=728224': 1, 'isnumber=15706': 1, 'ieee': 1, 'annals': 1, '1998.': 1, 'discusses': 1, 'etymology': 1, 'greater': 1, 'detail': 1, 'scope': 1, 'become': 1, 'complex': 1, 'expanded': 1, 'methods': 1, 'schedule': 1, 'patches': 1, 'being': 1, 'neutral': 1, 'defect': 1, 'implication': 1, 'so-called': 1, 'must': 1, 'fixed': 1, 'costs': 1, 'instead': 1, 'cost-effective': 1, 'perhaps': 1, 'scheduled': 1, 'new': 1, 'release': 1, 'render': 1, 'unnecessary': 1, 'life-critical': 1, 'mission-critical': 1, 'situation': 1, 'upsetting': 1, 'users': 1, 'long-term': 1, 'living': 1, 'cure': 1, 'worse': 1, 'disease': 1, 'basing': 1, 'decisions': 1, 'acceptability': 1, 'culture': 1, 'zero-defects': 1, 'mandate': 1, 'people': 1, 'tempted': 1, 'deny': 1, 'zero': 1, 'considering': 1, 'collateral': 1, 'cost-versus-benefit': 1, 'broader': 1, 'expand': 1, 'frequency': 1, 'occur': 1, 'help': 1, 'overall': 1, 'video': 1, 'game': 1, 'consoles': 1, 'usually': 1, 'done': 1, 'xbox': 1, 'console': 1, '|xbox': 1, 'unit': 1, 'intended': 1, 'ranges': 1, 'fixing': 1, 'performing': 1, 'lengthy': 1, 'tiresome': 1, 'collection': 1, 'scheduling': 1, 'skill': 1, 'major': 1, 'factor': 1, 'ability': 1, 'difficulty': 1, 'varies': 1, 'greatly': 1, 'depends': 1, 'extent': 1, 'enable': 1, 'monitor': 1, '|execution': 1, 'stop': 1, 'restart': 1, 'refer': 1, 'person': 1, 'who': 1, 'doing': 1, 'high-level': 1, 'java': 1, '|java': 1, 'because': 1, 'features': 1, 'real': 1, 'sources': 1, 'erratic': 1, 'behaviour': 1, 'spot': 1, 'c': 1, '|c': 1, 'assembly': 1, 'language|assembly': 1, 'cause': 1, 'silent': 1, 'corruption': 1, 'initial': 1, 'happened': 1, 'those': 1, 'debugging|memory': 1, 'situations': 1, 'nature': 1, 'take': 1, 'form': 1, 'list': 1, 'static': 1, 'analysis|static': 1, 'look': 1, 'rare': 1, 'rarely': 1, 'picked': 1, 'up': 1, 'interpreter': 1, 'syntax': 1, 'semantic': 1, 'claim': 1, 'able': 1, '300+': 1, 'unique': 1, 'both': 1, 'commercial': 1, 'free': 1, 'extremely': 1, 'trees': 1, 'impractical': 1, 'walkthroughs': 1, 'dereference': 1, 'occurs': 1, 'assigned': 1, 'value': 1, 'another': 1, 'strong': 1, 'type': 1, 'require': 1, 'better': 1, 'locating': 1, 'likely': 1, 'versus': 1, 'actual': 1, 'reputation': 1, 'false': 1, 'positives': 1, 'old': 1, 'unix': 1, 'lint': 1, 'tool|lint': 1, 'bioses': 1, 'device': 1, 'drivers': 1, 'instruments': 1, 'oscilloscopes': 1, 'logic': 1, 'analyzers': 1, 'in-circuit': 1, 'emulator|in-circuit': 1, 'emulators': 1, 'ices': 1, 'alone': 1, 'combination': 1, 'ice': 1, 'many': 1, 'normally': 1, 'step': 1, 'attempt': 1, 'non-trivial': 1, 'parallel': 1, 'computing|parallel': 1, 'processes': 1, 'unusual': 1, 'usage': 1, 'reproduced': 1, 'input': 1, 'need': 1, '|crash': 1, 'parsing': 1, 'lines': 1, 'divide': 1, 'conquer': 1, 'algorithm|divide-and-conquer': 1, 'approach': 1, 'still': 1, 'exists': 1, 'graphical': 1, 'interface|gui': 1, 'skip': 1, 'interaction': 1, 'description': 1, 'remaining': 1, 'actions': 1, 'sufficiently': 1, 'tool': 1, 'examine': 1, 'plus': 1, 'call': 1, 'stack': 1, 'track': 1, 'alternatively': 1, '|tracing': 1, 'just': 1, 'output': 1, 'points': 1, 'needed|date=february': 1, '2016': 1, 'anchor|print': 1, 'act': 1, 'watching': 1, 'live': 1, 'recorded': 1, 'indicate': 1, 'sometimes': 1, 'called': 1, 'anchor|printf': 1, 'printf': 1, 'function': 1, 'c.': 1, 'kind': 1, 'turned': 1, 'novice-oriented': 1, 'stood': 1, 'numbers': 1, 'each': 1, 'ran': 1, \"''remote\": 1, 'running': 1, 'start': 1, 'connects': 1, 'over': 1, 'network': 1, 'retrieve': 1, \"''post-mortem\": 1, '|crashed': 1, 'related': 1, '//www.drdobbs.com/tools/185300443': 1, 'postmortem': 1, 'wormuller': 1, 'dobbs': 1, '2006': 1, 'and/or': 1, 'core': 1, 'crashed': 1, 'could': 1, 'obtained': 1, 'automatically': 1, 'terminated': 1, 'unhandled': 1, 'programmer-inserted': 1, 'instruction': 1, 'edward': 1, 'described': 1, 'famous': 1, '1982': 1, 'follows': 1, 'alaska': 1, 'build': 1, 'middle': 1, 'wait': 1, 'howl': 1, 'repeat': 1, 'get': 1, 'point': 1, 'title=': 1, 'pracniques': 1, 'author=e': 1, 'year=1982': 1, 'implemented': 1, '|git': 1, 'version': 1, 'bisect': 1, 'uses': 1, 'above': 1, 'commit': 1, 'management': 1, '|commit': 1, 'introduced': 1, 'particular': 1, \"''delta\": 1, 'automating': 1, 'simplification.andreas': 1, 'zeller': 1, 'why': 1, 'programs': 1, 'fail': 1, 'guide': 1, 'systematic': 1, '/cite': 1, 'morgan': 1, 'kaufmann': 1, '2005': 1, '1-55860-866-4': 1, 'rp|p.123': 1, 'redirect': 1, \"'saff\": 1, 'isolating': 1, 'failure': 1, 'progressive': 1, 'inlining': 1, 'failing': 1, '//www.threeriversinstitute.org/hitemhighhitemlow.html': 1, 'kent': 1, 'beck': 1, 'high': 1, 'low': 1, 'regression': 1, 'contrast': 1, 'primary': 1, 'characteristic': 1, 'environments': 1, 'sheer': 1, 'number': 1, 'architectures': 1, 'vendors': 1, 'variants': 1, 'definition': 1, 'general-purpose': 1, 'designs': 1, 'typically': 1, 'developed': 1, 'single': 1, 'small': 1, 'range': 1, 'platform': 1, 'chosen': 1, 'specifically': 1, 'fact': 1, 'life': 1, 'tough': 1, 'makes': 1, 'harder': 1, 'since': 1, 'identify': 1, 'fix': 1, 'logical': 1, 'synchronization': 1, 'collect': 1, 'analyze': 1, 'ways': 1, 'boost': 1, 'performance': 1, 'other': 1, 'characteristics': 1, 'energy': 1, 'consumption': 1, 'reliability': 1, 'real-time': 1, 'response': 1, 'etc.': 1, 'implementation': 1, 'hinders': 1, 'attempts': 1, 'reverse': 1, 'target': 1, 'veracode-antidebugging': 1, '|url=http': 1, '//www.veracode.com/blog/2008/12/anti-debugging-series-part-i/': 1, '|title=anti-debugging': 1, '-': 1, 'part': 1, 'i': 1, '|last=shields': 1, '|first=tyler': 1, '|date=2008-12-02': 1, '|work=veracode': 1, '|accessdate=2009-03-17': 1, 'actively': 1, 'recognized': 1, 'publishers': 1, 'copy': 1, 'protection|copy-protection': 1, 'schemas': 1, 'malware': 1, 'complicate': 1, 'elimination.': 1, '//people.seas.harvard.edu/~mgagnon/software_protection_through_anti_debugging.pdf': 1, 'protection': 1, 'through': 1, 'michael': 1, 'n': 1, 'gagnon': 1, 'taylor': 1, 'anup': 1, 'ghosh': 1, 'api-based': 1, 'exception-based': 1, 'exceptions': 1, 'interfered': 1, 'whether': 1, 'manipulated': 1, 'modified': 1, 'modifications': 1, 'hardware-': 1, 'register-based': 1, 'registers': 1, 'timing': 1, 'latency': 1, 'taken': 1, 'instructions': 1, 'detecting': 1, 'penalizing': 1, '/': 1, 'existed': 1, 'microsoft': 1, 'produced': 1, 'message': 1, 'said': 1, 'tree': 1, 'evil': 1, 'bears': 1, 'bitter': 1, 'fruit': 1, 'trashing': 1, 'floppy': 1, 'drive': 1, 'emit': 1, 'alarming': 1, 'noises': 1, 'intent': 1, 'scaring': 1, 'away': 1, 'attempting': 1, 'again.': 1, 'securityengineeringra': 1, 'book': 1, '//www.cl.cam.ac.uk/~rja14/book.html': 1, 'author=ross': 1, 'anderson': 1, 'title=security': 1, '=': 1, '0-471-38922-6': 1, 'page=684': 1, 'toastytech': 1, '//toastytech.com/guis/word1153.html': 1, 'title=microsoft': 1, 'dos': 1, '1.15': 1})\n"
     ]
    }
   ],
   "source": [
    "## q3\n",
    "bow_simple = Counter(lower_tokens)\n",
    "print(len(bow_simple))\n",
    "print(bow_simple)"
   ]
  },
  {
   "cell_type": "code",
   "execution_count": 6,
   "id": "4a99a679",
   "metadata": {
    "scrolled": false
   },
   "outputs": [
    {
     "data": {
      "text/plain": [
       "[(',', 151),\n",
       " ('the', 150),\n",
       " ('.', 89),\n",
       " ('of', 81),\n",
       " (\"''\", 66),\n",
       " ('to', 63),\n",
       " ('a', 60),\n",
       " ('``', 47),\n",
       " ('in', 44),\n",
       " ('and', 41),\n",
       " ('debugging', 40),\n",
       " ('(', 40),\n",
       " (')', 40),\n",
       " (':', 31),\n",
       " ('for', 26),\n",
       " ('is', 25),\n",
       " ('or', 25),\n",
       " ('be', 24),\n",
       " ('{', 22),\n",
       " ('}', 22)]"
      ]
     },
     "execution_count": 6,
     "metadata": {},
     "output_type": "execute_result"
    }
   ],
   "source": [
    "## q4\n",
    "bow_simple.most_common(20)"
   ]
  },
  {
   "cell_type": "code",
   "execution_count": null,
   "id": "9eebdddb",
   "metadata": {},
   "outputs": [],
   "source": []
  },
  {
   "cell_type": "markdown",
   "id": "f44f757b",
   "metadata": {},
   "source": [
    "### Simple text preprocessing\n",
    "\n",
    "Now, we will cover some simple text preprocessing.\n",
    "\n",
    "###  Why preprocess?\n",
    "\n",
    "Text processing helps make for better input data when performing machine learning or other statistical methods. \n",
    "\n",
    "For example, in the last few exercises you have applied small bits of preprocessing (like `tokenization`) to create a bag of words. You also noticed that applying simple techniques like lowercasing all of the tokens, can lead to slightly better results for a bag-of-words model. Preprocessing steps like `tokenization` or `lowercasing` words are commonly used in NLP. \n",
    "\n",
    "Other common techniques are things like `lemmatization` or `stemming`, where you `shorten` the `words` to their `root stems`, or techniques like `removing stop words`, which are common words in a language that don't carry a lot of meaning -- such as `and` or `the`, or `removing punctuation` or `unwanted tokens`. \n",
    "\n",
    "Of course, each model and process will have different results -- so it's good to try a few different approaches to preprocessing and see which works best for your task and goal.\n",
    "\n",
    "###  Text preprocessing with Python\n",
    "\n",
    "We can perform text preprocessing using many of the tools we already know and have learned. \n",
    "\n",
    "<img src=\"c-1.jpg\" style=\"max-width:600px\">\n",
    "\n",
    "In this code, we are using the same text as from our previous example, a few sentences about a cat with a box. \n",
    "\n",
    "\n",
    "- We can use list comprehensions to tokenize the sentences which we first make lowercase using the string lower method. The string is_alpha method will return True if the string has only alphabetical characters. We use the is_alpha method along with an if statement iterating over our tokenized result to only return only alphabetic strings (this will effectively strip tokens with numbers or punctuation). To read out the process in both code and English we say we take each token from the word_tokenize output of the lowercase text if it contains only alphabetical characters. \n",
    "\n",
    "\n",
    "- In the next line, we use another list comprehension to remove words that are in the stopwords list. This stopwords list for english comes built in with the NLTK library. \n",
    "\n",
    "\n",
    "- Finally, we can create a counter and check the two most common words, which are now cat and box (unlike the and box which were the two tokens returned in our first result). Preprocessing has already improved our bag of words and made it more useful by removing the stopwords and non-alphabetic words."
   ]
  },
  {
   "cell_type": "code",
   "execution_count": 7,
   "id": "eb766566",
   "metadata": {},
   "outputs": [
    {
     "name": "stdout",
     "output_type": "stream",
     "text": [
      "2910\n",
      "[\"'\", \"''\", 'debugging', \"''\", \"'\", 'is', 'the', 'process', 'of', 'finding', 'and', 'resolving', 'of', 'defects', 'that', 'prevent', 'correct', 'operation', 'of', 'computer', 'software', 'or', 'a', 'system', '.', 'numerous', 'books', 'have', 'been', 'written', 'about', 'debugging', '(', 'see', 'below', ':', '#', 'further', 'reading|further', 'reading', ')', ',', 'as', 'it', 'involves', 'numerous', 'aspects', ',', 'including', 'interactive', 'debugging', ',', 'control', 'flow', ',', 'integration', 'testing', ',', 'logfile|log', 'files', ',', 'monitoring', '(', 'application', 'monitoring|application', ',', 'system', 'monitoring|system', ')', ',', 'memory', 'dumps', ',', 'profiling', '(', 'computer', 'programming', ')', '|profiling', ',', 'statistical', 'process', 'control', ',', 'and', 'special', 'design', 'tactics', 'to', 'improve', 'detection', 'while', 'simplifying', 'changes', '.', 'origin', 'a', 'computer', 'log', 'entry', 'from', 'the', 'mark', '&', 'nbsp', ';', 'ii', ',', 'with', 'a', 'moth', 'taped', 'to', 'the', 'page', 'the', 'terms', '``', 'bug', \"''\", 'and', '``', 'debugging', \"''\", 'are', 'popularly', 'attributed', 'to', 'admiral', 'grace', 'hopper', 'in', 'the', '1940s', '.', '[', 'http', ':', '//foldoc.org/grace+hopper', 'grace', 'hopper', ']', 'from', 'foldoc', 'while', 'she', 'was', 'working', 'on', 'a', 'harvard', 'mark', 'ii|mark', 'ii', 'computer', 'at', 'harvard', 'university', ',', 'her', 'associates', 'discovered', 'a', 'moth', 'stuck', 'in', 'a', 'relay', 'and', 'thereby', 'impeding', 'operation', ',', 'whereupon', 'she', 'remarked', 'that', 'they', 'were', '``', 'debugging', \"''\", 'the', 'system', '.', 'however', 'the', 'term', '``', 'bug', \"''\", 'in', 'the', 'meaning', 'of', 'technical', 'error', 'dates', 'back', 'at', 'least', 'to', '1878', 'and', 'thomas', 'edison', '(', 'see', 'software', 'bug', 'for', 'a', 'full', 'discussion', ')', ',', 'and', '``', 'debugging', \"''\", 'seems', 'to', 'have', 'been', 'used', 'as', 'a', 'term', 'in', 'aeronautics', 'before', 'entering', 'the', 'world', 'of', 'computers', '.', 'indeed', ',', 'in', 'an', 'interview', 'grace', 'hopper', 'remarked', 'that', 'she', 'was', 'not', 'coining', 'the', 'term', '{', '{', 'citation', 'needed|date=july', '2015', '}', '}', '.', 'the', 'moth', 'fit', 'the', 'already', 'existing', 'terminology', ',', 'so', 'it', 'was', 'saved', '.', 'a', 'letter', 'from', 'j.', 'robert', 'oppenheimer', '(', 'director', 'of', 'the', 'wwii', 'atomic', 'bomb', '``', 'manhattan', \"''\", 'project', 'at', 'los', 'alamos', ',', 'nm', ')', 'used', 'the', 'term', 'in', 'a', 'letter', 'to', 'dr.', 'ernest', 'lawrence', 'at', 'uc', 'berkeley', ',', 'dated', 'october', '27', ',', '1944', ',', 'http', ':', '//bancroft.berkeley.edu/exhibits/physics/images/bigscience25.jpg', 'regarding', 'the', 'recruitment', 'of', 'additional', 'technical', 'staff', '.', 'the', 'oxford', 'english', 'dictionary', 'entry', 'for', '``', 'debug', \"''\", 'quotes', 'the', 'term', '``', 'debugging', \"''\", 'used', 'in', 'reference', 'to', 'airplane', 'engine', 'testing', 'in', 'a', '1945', 'article', 'in', 'the', 'journal', 'of', 'the', 'royal', 'aeronautical', 'society', '.', 'an', 'article', 'in', '``', 'airforce', \"''\", '(', 'june', '1945', 'p.', '&', 'nbsp', ';', '50', ')', 'also', 'refers', 'to', 'debugging', ',', 'this', 'time', 'of', 'aircraft', 'cameras', '.', 'hopper', \"'s\", 'computer', 'bug|bug', 'was', 'found', 'on', 'september', '9', ',', '1947', '.', 'the', 'term', 'was', 'not', 'adopted', 'by', 'computer', 'programmers', 'until', 'the', 'early', '1950s', '.', 'the', 'seminal', 'article', 'by', 'gills', '.', 'gill', ',', '[', 'http', ':', '//www.jstor.org/stable/98663', 'the', 'diagnosis', 'of', 'mistakes', 'in', 'programmes', 'on', 'the', 'edsac', ']', ',', 'proceedings', 'of', 'the', 'royal', 'society', 'of', 'london', '.', 'series', 'a', ',', 'mathematical', 'and', 'physical', 'sciences', ',', 'vol', '.', '206', ',', 'no', '.', '1087', '(', 'may', '22', ',', '1951', ')', ',', 'pp', '.', '538-554', 'in', '1951', 'is', 'the', 'earliest', 'in-depth', 'discussion', 'of', 'programming', 'errors', ',', 'but', 'it', 'does', 'not', 'use', 'the', 'term', '``', 'bug', \"''\", 'or', '``', 'debugging', \"''\", '.', 'in', 'the', 'association', 'for', 'computing', 'machinery|acm', \"'s\", 'digital', 'library', ',', 'the', 'term', '``', 'debugging', \"''\", 'is', 'first', 'used', 'in', 'three', 'papers', 'from', '1952', 'acm', 'national', 'meetings.robert', 'v.', 'd.', 'campbell', ',', '[', 'http', ':', '//portal.acm.org/citation.cfm', '?', 'id=609784.609786', 'evolution', 'of', 'automatic', 'computation', ']', ',', 'proceedings', 'of', 'the', '1952', 'acm', 'national', 'meeting', '(', 'pittsburgh', ')', ',', 'p', '29-32', ',', '1952.alex', 'orden', ',', '[', 'http', ':', '//portal.acm.org/citation.cfm', '?', 'id=609784.609793', 'solution', 'of', 'systems', 'of', 'linear', 'inequalities', 'on', 'a', 'digital', 'computer', ']', ',', 'proceedings', 'of', 'the', '1952', 'acm', 'national', 'meeting', '(', 'pittsburgh', ')', ',', 'p.', '91-95', ',', '1952.howard', 'b.', 'demuth', ',', 'john', 'b.', 'jackson', ',', 'edmund', 'klein', ',', 'n.', 'metropolis', ',', 'walter', 'orvedahl', ',', 'james', 'h.', 'richardson', ',', '[', 'http', ':', '//portal.acm.org/citation.cfm', '?', 'id=800259.808982', 'maniac', ']', ',', 'proceedings', 'of', 'the', '1952', 'acm', 'national', 'meeting', '(', 'toronto', ')', ',', 'p.', '13-16', 'two', 'of', 'the', 'three', 'use', 'the', 'term', 'in', 'quotation', 'marks', '.', 'by', '1963', '``', 'debugging', \"''\", 'was', 'a', 'common', 'enough', 'term', 'to', 'be', 'mentioned', 'in', 'passing', 'without', 'explanation', 'on', 'page', '1', 'of', 'the', 'compatible', 'time-sharing', 'system|ctss', 'manual', '.', '[', 'http', ':', '//www.bitsavers.org/pdf/mit/ctss/ctss_programmersguide.pdf', 'the', 'compatible', 'time-sharing', 'system', ']', ',', 'm.i.t', '.', 'press', ',', '1963', 'kidwell', \"'s\", 'article', '``', 'stalking', 'the', 'elusive', 'computer', 'bug', \"''\", 'peggy', 'aldrich', 'kidwell', ',', '[', 'http', ':', '//ieeexplore.ieee.org/xpl/freeabs_all.jsp', '?', 'tp=', '&', 'arnumber=728224', '&', 'isnumber=15706', 'stalking', 'the', 'elusive', 'computer', 'bug', ']', ',', 'ieee', 'annals', 'of', 'the', 'history', 'of', 'computing', ',', '1998.', 'discusses', 'the', 'etymology', 'of', '``', 'bug', \"''\", 'and', '``', 'debug', \"''\", 'in', 'greater', 'detail', '.', 'scope', 'as', 'software', 'and', 'electronic', 'systems', 'have', 'become', 'generally', 'more', 'complex', ',', 'the', 'various', 'common', 'debugging', 'techniques', 'have', 'expanded', 'with', 'more', 'methods', 'to', 'detect', 'anomalies', ',', 'assess', 'impact', ',', 'and', 'schedule', 'software', 'patches', 'or', 'full', 'updates', 'to', 'a', 'system', '.', 'the', 'words', '``', 'anomaly', \"''\", 'and', '``', 'discrepancy', \"''\", 'can', 'be', 'used', ',', 'as', 'being', 'more', 'neutral', 'terms', ',', 'to', 'avoid', 'the', 'words', '``', 'error', \"''\", 'and', '``', 'defect', \"''\", 'or', '``', 'bug', \"''\", 'where', 'there', 'might', 'be', 'an', 'implication', 'that', 'all', 'so-called', '``', 'errors', \"''\", ',', '``', 'defects', \"''\", 'or', '``', 'bugs', \"''\", 'must', 'be', 'fixed', '(', 'at', 'all', 'costs', ')', '.', 'instead', ',', 'an', 'impact', 'assessment', 'can', 'be', 'made', 'to', 'determine', 'if', 'changes', 'to', 'remove', 'an', '``', 'anomaly', \"''\", '(', 'or', '``', 'discrepancy', \"''\", ')', 'would', 'be', 'cost-effective', 'for', 'the', 'system', ',', 'or', 'perhaps', 'a', 'scheduled', 'new', 'release', 'might', 'render', 'the', 'change', '(', 's', ')', 'unnecessary', '.', 'not', 'all', 'issues', 'are', 'life-critical', 'or', 'mission-critical', 'in', 'a', 'system', '.', 'also', ',', 'it', 'is', 'important', 'to', 'avoid', 'the', 'situation', 'where', 'a', 'change', 'might', 'be', 'more', 'upsetting', 'to', 'users', ',', 'long-term', ',', 'than', 'living', 'with', 'the', 'known', 'problem', '(', 's', ')', '(', 'where', 'the', '``', 'cure', 'would', 'be', 'worse', 'than', 'the', 'disease', \"''\", ')', '.', 'basing', 'decisions', 'of', 'the', 'acceptability', 'of', 'some', 'anomalies', 'can', 'avoid', 'a', 'culture', 'of', 'a', '``', 'zero-defects', \"''\", 'mandate', ',', 'where', 'people', 'might', 'be', 'tempted', 'to', 'deny', 'the', 'existence', 'of', 'problems', 'so', 'that', 'the', 'result', 'would', 'appear', 'as', 'zero', '``', 'defects', \"''\", '.', 'considering', 'the', 'collateral', 'issues', ',', 'such', 'as', 'the', 'cost-versus-benefit', 'impact', 'assessment', ',', 'then', 'broader', 'debugging', 'techniques', 'will', 'expand', 'to', 'determine', 'the', 'frequency', 'of', 'anomalies', '(', 'how', 'often', 'the', 'same', '``', 'bugs', \"''\", 'occur', ')', 'to', 'help', 'assess', 'their', 'impact', 'to', 'the', 'overall', 'system', '.', 'tools', 'debugging', 'on', 'video', 'game', 'consoles', 'is', 'usually', 'done', 'with', 'special', 'hardware', 'such', 'as', 'this', 'xbox', '(', 'console', ')', '|xbox', 'debug', 'unit', 'intended', 'for', 'developers', '.', 'debugging', 'ranges', 'in', 'complexity', 'from', 'fixing', 'simple', 'errors', 'to', 'performing', 'lengthy', 'and', 'tiresome', 'tasks', 'of', 'data', 'collection', ',', 'analysis', ',', 'and', 'scheduling', 'updates', '.', 'the', 'debugging', 'skill', 'of', 'the', 'programmer', 'can', 'be', 'a', 'major', 'factor', 'in', 'the', 'ability', 'to', 'debug', 'a', 'problem', ',', 'but', 'the', 'difficulty', 'of', 'software', 'debugging', 'varies', 'greatly', 'with', 'the', 'complexity', 'of', 'the', 'system', ',', 'and', 'also', 'depends', ',', 'to', 'some', 'extent', ',', 'on', 'the', 'programming', 'language', '(', 's', ')', 'used', 'and', 'the', 'available', 'tools', ',', 'such', 'as', '``', 'debuggers', \"''\", '.', 'debuggers', 'are', 'software', 'tools', 'which', 'enable', 'the', 'programmer', 'to', 'monitor', 'the', 'execution', '(', 'computers', ')', '|execution', 'of', 'a', 'program', ',', 'stop', 'it', ',', 'restart', 'it', ',', 'set', 'breakpoints', ',', 'and', 'change', 'values', 'in', 'memory', '.', 'the', 'term', '``', 'debugger', \"''\", 'can', 'also', 'refer', 'to', 'the', 'person', 'who', 'is', 'doing', 'the', 'debugging', '.', 'generally', ',', 'high-level', 'programming', 'languages', ',', 'such', 'as', 'java', '(', 'programming', 'language', ')', '|java', ',', 'make', 'debugging', 'easier', ',', 'because', 'they', 'have', 'features', 'such', 'as', 'exception', 'handling', 'that', 'make', 'real', 'sources', 'of', 'erratic', 'behaviour', 'easier', 'to', 'spot', '.', 'in', 'programming', 'languages', 'such', 'as', 'c', '(', 'programming', 'language', ')', '|c', 'or', 'assembly', 'language|assembly', ',', 'bugs', 'may', 'cause', 'silent', 'problems', 'such', 'as', 'memory', 'corruption', ',', 'and', 'it', 'is', 'often', 'difficult', 'to', 'see', 'where', 'the', 'initial', 'problem', 'happened', '.', 'in', 'those', 'cases', ',', 'memory', 'debugging|memory', 'debugger', 'tools', 'may', 'be', 'needed', '.', 'in', 'certain', 'situations', ',', 'general', 'purpose', 'software', 'tools', 'that', 'are', 'language', 'specific', 'in', 'nature', 'can', 'be', 'very', 'useful', '.', 'these', 'take', 'the', 'form', 'of', '``', 'list', 'of', 'tools', 'for', 'static', 'code', 'analysis|static', 'code', 'analysis', 'tools', \"''\", '.', 'these', 'tools', 'look', 'for', 'a', 'very', 'specific', 'set', 'of', 'known', 'problems', ',', 'some', 'common', 'and', 'some', 'rare', ',', 'within', 'the', 'source', 'code', '.', 'all', 'such', 'issues', 'detected', 'by', 'these', 'tools', 'would', 'rarely', 'be', 'picked', 'up', 'by', 'a', 'compiler', 'or', 'interpreter', ',', 'thus', 'they', 'are', 'not', 'syntax', 'checkers', ',', 'but', 'more', 'semantic', 'checkers', '.', 'some', 'tools', 'claim', 'to', 'be', 'able', 'to', 'detect', '300+', 'unique', 'problems', '.', 'both', 'commercial', 'and', 'free', 'tools', 'exist', 'in', 'various', 'languages', '.', 'these', 'tools', 'can', 'be', 'extremely', 'useful', 'when', 'checking', 'very', 'large', 'source', 'trees', ',', 'where', 'it', 'is', 'impractical', 'to', 'do', 'code', 'walkthroughs', '.', 'a', 'typical', 'example', 'of', 'a', 'problem', 'detected', 'would', 'be', 'a', 'variable', 'dereference', 'that', 'occurs', '``', 'before', \"''\", 'the', 'variable', 'is', 'assigned', 'a', 'value', '.', 'another', 'example', 'would', 'be', 'to', 'perform', 'strong', 'type', 'checking', 'when', 'the', 'language', 'does', 'not', 'require', 'such', '.', 'thus', ',', 'they', 'are', 'better', 'at', 'locating', 'likely', 'errors', ',', 'versus', 'actual', 'errors', '.', 'as', 'a', 'result', ',', 'these', 'tools', 'have', 'a', 'reputation', 'of', 'false', 'positives', '.', 'the', 'old', 'unix', '``', 'lint', 'programming', 'tool|lint', \"''\", 'program', 'is', 'an', 'early', 'example', '.', 'for', 'debugging', 'electronic', 'hardware', '(', 'e.g.', ',', 'computer', 'hardware', ')', 'as', 'well', 'as', 'low-level', 'software', '(', 'e.g.', ',', 'bioses', ',', 'device', 'drivers', ')', 'and', 'firmware', ',', 'instruments', 'such', 'as', 'oscilloscopes', ',', 'logic', 'analyzers', 'or', 'in-circuit', 'emulator|in-circuit', 'emulators', '(', 'ices', ')', 'are', 'often', 'used', ',', 'alone', 'or', 'in', 'combination', '.', 'an', 'ice', 'may', 'perform', 'many', 'of', 'the', 'typical', 'software', 'debugger', \"'s\", 'tasks', 'on', 'low-level', 'software', 'and', 'firmware', '.', 'debugging', 'process', 'normally', 'the', 'first', 'step', 'in', 'debugging', 'is', 'to', 'attempt', 'to', 'reproduce', 'the', 'problem', '.', 'this', 'can', 'be', 'a', 'non-trivial', 'task', ',', 'for', 'example', 'as', 'with', 'parallel', 'computing|parallel', 'processes', 'or', 'some', 'unusual', 'software', 'bugs', '.', 'also', ',', 'specific', 'user', 'environment', 'and', 'usage', 'history', 'can', 'make', 'it', 'difficult', 'to', 'reproduce', 'the', 'problem', '.', 'after', 'the', 'bug', 'is', 'reproduced', ',', 'the', 'input', 'of', 'the', 'program', 'may', 'need', 'to', 'be', 'simplified', 'to', 'make', 'it', 'easier', 'to', 'debug', '.', 'for', 'example', ',', 'a', 'bug', 'in', 'a', 'compiler', 'can', 'make', 'it', 'crash', '(', 'computing', ')', '|crash', 'when', 'parsing', 'some', 'large', 'source', 'file', '.', 'however', ',', 'after', 'simplification', 'of', 'the', 'test', 'case', ',', 'only', 'few', 'lines', 'from', 'the', 'original', 'source', 'file', 'can', 'be', 'sufficient', 'to', 'reproduce', 'the', 'same', 'crash', '.', 'such', 'simplification', 'can', 'be', 'made', 'manually', ',', 'using', 'a', 'divide', 'and', 'conquer', 'algorithm|divide-and-conquer', 'approach', '.', 'the', 'programmer', 'will', 'try', 'to', 'remove', 'some', 'parts', 'of', 'original', 'test', 'case', 'and', 'check', 'if', 'the', 'problem', 'still', 'exists', '.', 'when', 'debugging', 'the', 'problem', 'in', 'a', 'graphical', 'user', 'interface|gui', ',', 'the', 'programmer', 'can', 'try', 'to', 'skip', 'some', 'user', 'interaction', 'from', 'the', 'original', 'problem', 'description', 'and', 'check', 'if', 'remaining', 'actions', 'are', 'sufficient', 'for', 'bugs', 'to', 'appear', '.', 'after', 'the', 'test', 'case', 'is', 'sufficiently', 'simplified', ',', 'a', 'programmer', 'can', 'use', 'a', 'debugger', 'tool', 'to', 'examine', 'program', 'states', '(', 'values', 'of', 'variables', ',', 'plus', 'the', 'call', 'stack', ')', 'and', 'track', 'down', 'the', 'origin', 'of', 'the', 'problem', '(', 's', ')', '.', 'alternatively', ',', 'tracing', '(', 'software', ')', '|tracing', 'can', 'be', 'used', '.', 'in', 'simple', 'cases', ',', 'tracing', 'is', 'just', 'a', 'few', 'print', 'statements', ',', 'which', 'output', 'the', 'values', 'of', 'variables', 'at', 'certain', 'points', 'of', 'program', 'execution', '.', '{', '{', 'citation', 'needed|date=february', '2016', '}', '}', 'techniques', '``', 'interactive', 'debugging', \"''\", '``', '{', '{', 'visible', 'anchor|print', 'debugging', '}', '}', \"''\", '(', 'or', 'tracing', ')', 'is', 'the', 'act', 'of', 'watching', '(', 'live', 'or', 'recorded', ')', 'trace', 'statements', ',', 'or', 'print', 'statements', ',', 'that', 'indicate', 'the', 'flow', 'of', 'execution', 'of', 'a', 'process', '.', 'this', 'is', 'sometimes', 'called', '``', '{', '{', 'visible', 'anchor|printf', 'debugging', '}', '}', \"''\", ',', 'due', 'to', 'the', 'use', 'of', 'the', 'printf', 'function', 'in', 'c.', 'this', 'kind', 'of', 'debugging', 'was', 'turned', 'on', 'by', 'the', 'command', 'tron', 'in', 'the', 'original', 'versions', 'of', 'the', 'novice-oriented', 'basic', 'programming', 'language', '.', 'tron', 'stood', 'for', ',', '``', 'trace', 'on', '.', \"''\", 'tron', 'caused', 'the', 'line', 'numbers', 'of', 'each', 'basic', 'command', 'line', 'to', 'print', 'as', 'the', 'program', 'ran', '.', \"''remote\", 'debugging', \"''\", 'is', 'the', 'process', 'of', 'debugging', 'a', 'program', 'running', 'on', 'a', 'system', 'different', 'from', 'the', 'debugger', '.', 'to', 'start', 'remote', 'debugging', ',', 'a', 'debugger', 'connects', 'to', 'a', 'remote', 'system', 'over', 'a', 'network', '.', 'the', 'debugger', 'can', 'then', 'control', 'the', 'execution', 'of', 'the', 'program', 'on', 'the', 'remote', 'system', 'and', 'retrieve', 'information', 'about', 'its', 'state', '.', \"''post-mortem\", 'debugging', \"''\", 'is', 'debugging', 'of', 'the', 'program', 'after', 'it', 'has', 'already', 'crash', '(', 'computing', ')', '|crashed', '.', 'related', 'techniques', 'often', 'include', 'various', 'tracing', 'techniques', '(', 'for', 'example', ',', '[', 'http', ':', '//www.drdobbs.com/tools/185300443', 'postmortem', 'debugging', ',', 'stephen', 'wormuller', ',', 'dr.', 'dobbs', 'journal', ',', '2006', ']', ')', 'and/or', 'analysis', 'of', 'memory', 'dump', '(', 'or', 'core', 'dump', ')', 'of', 'the', 'crashed', 'process', '.', 'the', 'dump', 'of', 'the', 'process', 'could', 'be', 'obtained', 'automatically', 'by', 'the', 'system', '(', 'for', 'example', ',', 'when', 'process', 'has', 'terminated', 'due', 'to', 'an', 'unhandled', 'exception', ')', ',', 'or', 'by', 'a', 'programmer-inserted', 'instruction', ',', 'or', 'manually', 'by', 'the', 'interactive', 'user', '.', \"''\", \"''\", 'wolf', 'fence', \"''\", 'algorithm', ':', \"''\", 'edward', 'gauss', 'described', 'this', 'simple', 'but', 'very', 'useful', 'and', 'now', 'famous', 'algorithm', 'in', 'a', '1982', 'article', 'for', 'communications', 'of', 'the', 'acm', 'as', 'follows', ':', '``', 'there', \"'s\", 'one', 'wolf', 'in', 'alaska', ';', 'how', 'do', 'you', 'find', 'it', '?', 'first', 'build', 'a', 'fence', 'down', 'the', 'middle', 'of', 'the', 'state', ',', 'wait', 'for', 'the', 'wolf', 'to', 'howl', ',', 'determine', 'which', 'side', 'of', 'the', 'fence', 'it', 'is', 'on', '.', 'repeat', 'process', 'on', 'that', 'side', 'only', ',', 'until', 'you', 'get', 'to', 'the', 'point', 'where', 'you', 'can', 'see', 'the', 'wolf', '.', '``', '<', 'ref', 'name=', \"''\", 'communications', 'of', 'the', 'acm', \"''\", '>', '{', '{', 'cite', 'journal', '|', 'title=', \"''\", 'pracniques', ':', 'the', '``', 'wolf', 'fence', \"''\", 'algorithm', 'for', 'debugging', \"''\", ',', '|', 'author=e', '.', 'j.', 'gauss', '|', 'year=1982', '}', '}', 'this', 'is', 'implemented', 'e.g', '.', 'in', 'the', 'git', '(', 'software', ')', '|git', 'version', 'control', 'system', 'as', 'the', 'command', '``', 'git', 'bisect', \"''\", ',', 'which', 'uses', 'the', 'above', 'algorithm', 'to', 'determine', 'which', 'commit', '(', 'data', 'management', ')', '|commit', 'introduced', 'a', 'particular', 'bug', '.', \"''delta\", 'debugging', \"''\", '{', '{', 'snd', '}', '}', 'a', 'technique', 'of', 'automating', 'test', 'case', 'simplification.andreas', 'zeller', ':', '<', 'cite', '>', 'why', 'programs', 'fail', ':', 'a', 'guide', 'to', 'systematic', 'debugging', '<', '/cite', '>', ',', 'morgan', 'kaufmann', ',', '2005', '.', 'isbn', '1-55860-866-4', '{', '{', 'rp|p.123', '}', '}', '<', '!', '--', 'for', 'redirect', 'from', \"'saff\", 'squeeze', \"'\", '--', '>', '``', 'saff', 'squeeze', \"''\", '{', '{', 'snd', '}', '}', 'a', 'technique', 'of', 'isolating', 'failure', 'within', 'the', 'test', 'using', 'progressive', 'inlining', 'of', 'parts', 'of', 'the', 'failing', 'test', '.', '[', 'http', ':', '//www.threeriversinstitute.org/hitemhighhitemlow.html', 'kent', 'beck', ',', 'hit', \"'em\", 'high', ',', 'hit', \"'em\", 'low', ':', 'regression', 'testing', 'and', 'the', 'saff', 'squeeze', ']', 'debugging', 'for', 'embedded', 'systems', 'in', 'contrast', 'to', 'the', 'general', 'purpose', 'computer', 'software', 'design', 'environment', ',', 'a', 'primary', 'characteristic', 'of', 'embedded', 'environments', 'is', 'the', 'sheer', 'number', 'of', 'different', 'platforms', 'available', 'to', 'the', 'developers', '(', 'cpu', 'architectures', ',', 'vendors', ',', 'operating', 'systems', 'and', 'their', 'variants', ')', '.', 'embedded', 'systems', 'are', ',', 'by', 'definition', ',', 'not', 'general-purpose', 'designs', ':', 'they', 'are', 'typically', 'developed', 'for', 'a', 'single', 'task', '(', 'or', 'small', 'range', 'of', 'tasks', ')', ',', 'and', 'the', 'platform', 'is', 'chosen', 'specifically', 'to', 'optimize', 'that', 'application', '.', 'not', 'only', 'does', 'this', 'fact', 'make', 'life', 'tough', 'for', 'embedded', 'system', 'developers', ',', 'it', 'also', 'makes', 'debugging', 'and', 'testing', 'of', 'these', 'systems', 'harder', 'as', 'well', ',', 'since', 'different', 'debugging', 'tools', 'are', 'needed', 'in', 'different', 'platforms', '.', 'to', 'identify', 'and', 'fix', 'bugs', 'in', 'the', 'system', '(', 'e.g', '.', 'logical', 'or', 'synchronization', 'problems', 'in', 'the', 'code', ',', 'or', 'a', 'design', 'error', 'in', 'the', 'hardware', ')', ';', 'to', 'collect', 'information', 'about', 'the', 'operating', 'states', 'of', 'the', 'system', 'that', 'may', 'then', 'be', 'used', 'to', 'analyze', 'the', 'system', ':', 'to', 'find', 'ways', 'to', 'boost', 'its', 'performance', 'or', 'to', 'optimize', 'other', 'important', 'characteristics', '(', 'e.g', '.', 'energy', 'consumption', ',', 'reliability', ',', 'real-time', 'response', 'etc.', ')', '.', 'anti-debugging', 'anti-debugging', 'is', '``', 'the', 'implementation', 'of', 'one', 'or', 'more', 'techniques', 'within', 'computer', 'code', 'that', 'hinders', 'attempts', 'at', 'reverse', 'engineering', 'or', 'debugging', 'a', 'target', 'process', \"''\", '.', '<', 'ref', 'name=', \"''\", 'veracode-antidebugging', \"''\", '>', '{', '{', 'cite', 'web', '|url=http', ':', '//www.veracode.com/blog/2008/12/anti-debugging-series-part-i/', '|title=anti-debugging', 'series', '-', 'part', 'i', '|last=shields', '|first=tyler', '|date=2008-12-02', '|work=veracode', '|accessdate=2009-03-17', '}', '}', 'it', 'is', 'actively', 'used', 'by', 'recognized', 'publishers', 'in', 'copy', 'protection|copy-protection', 'schemas', ',', 'but', 'is', 'also', 'used', 'by', 'malware', 'to', 'complicate', 'its', 'detection', 'and', 'elimination.', '<', 'ref', 'name=', \"''\", 'soft-prot', \"''\", '>', '[', 'http', ':', '//people.seas.harvard.edu/~mgagnon/software_protection_through_anti_debugging.pdf', 'software', 'protection', 'through', 'anti-debugging', 'michael', 'n', 'gagnon', ',', 'stephen', 'taylor', ',', 'anup', 'ghosh', ']', 'techniques', 'used', 'in', 'anti-debugging', 'include', ':', 'api-based', ':', 'check', 'for', 'the', 'existence', 'of', 'a', 'debugger', 'using', 'system', 'information', 'exception-based', ':', 'check', 'to', 'see', 'if', 'exceptions', 'are', 'interfered', 'with', 'process', 'and', 'thread', 'blocks', ':', 'check', 'whether', 'process', 'and', 'thread', 'blocks', 'have', 'been', 'manipulated', 'modified', 'code', ':', 'check', 'for', 'code', 'modifications', 'made', 'by', 'a', 'debugger', 'handling', 'software', 'breakpoints', 'hardware-', 'and', 'register-based', ':', 'check', 'for', 'hardware', 'breakpoints', 'and', 'cpu', 'registers', 'timing', 'and', 'latency', ':', 'check', 'the', 'time', 'taken', 'for', 'the', 'execution', 'of', 'instructions', 'detecting', 'and', 'penalizing', 'debugger', '<', 'ref', 'name=', \"''\", 'soft-prot', \"''\", '/', '>', '<', '!', '--', 'reference', 'does', 'not', 'exist', '--', '>', 'an', 'early', 'example', 'of', 'anti-debugging', 'existed', 'in', 'early', 'versions', 'of', 'microsoft', 'word', 'which', ',', 'if', 'a', 'debugger', 'was', 'detected', ',', 'produced', 'a', 'message', 'that', 'said', ':', '``', 'the', 'tree', 'of', 'evil', 'bears', 'bitter', 'fruit', '.', 'now', 'trashing', 'program', 'disk', '.', '``', ',', 'after', 'which', 'it', 'caused', 'the', 'floppy', 'disk', 'drive', 'to', 'emit', 'alarming', 'noises', 'with', 'the', 'intent', 'of', 'scaring', 'the', 'user', 'away', 'from', 'attempting', 'it', 'again.', '<', 'ref', 'name=', \"''\", 'securityengineeringra', \"''\", '>', '{', '{', 'cite', 'book', '|', 'url=http', ':', '//www.cl.cam.ac.uk/~rja14/book.html', '|', 'author=ross', 'j.', 'anderson', '|', 'title=security', 'engineering', '|', 'isbn', '=', '0-471-38922-6', '|', 'page=684', '}', '}', '<', 'ref', 'name=', \"''\", 'toastytech', \"''\", '>', '{', '{', 'cite', 'web', '|', 'url=http', ':', '//toastytech.com/guis/word1153.html', '|', 'title=microsoft', 'word', 'for', 'dos', '1.15', '}', '}']\n"
     ]
    }
   ],
   "source": [
    "print(len(lower_tokens))\n",
    "print(lower_tokens)"
   ]
  },
  {
   "cell_type": "code",
   "execution_count": 8,
   "id": "c5ab5e36",
   "metadata": {},
   "outputs": [],
   "source": [
    "english_stops = ['i','me', 'my', 'myself', 'we', 'our', 'ours', 'ourselves', 'you', 'your', 'yours', 'yourself', 'yourselves', \n",
    "                 'he', 'him', 'his', 'himself', 'she', 'her', 'hers', 'herself', 'it', 'its', 'itself', 'they', 'them', \n",
    "                 'their', 'theirs', 'themselves', 'what', 'which', 'who', 'whom', 'this', 'that', 'these', 'those', 'am' ,\n",
    "                 'is', 'are', 'was', 'were', 'be', 'been', 'being', 'have', 'has', 'had', 'having', 'do', 'does', 'did', \n",
    "                 'doing', 'a', 'an', 'the', 'and', 'but', 'if', 'or', 'because', 'as', 'until', 'while', 'of', 'at', 'by', \n",
    "                 'for', 'with', 'about', 'against', 'between', 'into', 'through', 'during', 'before', 'after', 'above', \n",
    "                 'below', 'to', 'from', 'up', 'down', 'in', 'out', 'on', 'off', 'over', 'under', 'again', 'further', 'then', \n",
    "                 'once', 'here', 'there', 'when', 'where', 'why', 'how', 'all', 'any', 'both', 'each', 'few', 'more', 'most', \n",
    "                 'other', 'some', 'such', 'no', 'nor', 'not', 'only', 'own', 'same', 'so', 'than', 'too', 'very', 's', 't', \n",
    "                 'can', 'will', 'just', 'don', 'should', 'now', 'd', 'll', 'm', 'o', 're', 've', 'y', 'ain', 'aren', 'couldn', \n",
    "                 'didn', 'doesn', 'hadn', 'hasn', 'haven', 'isn', 'ma', 'mightn', 'mustn', 'needn', 'shan', 'shouldn', 'wasn', \n",
    "                 'weren', 'won', 'wouldn', '']"
   ]
  },
  {
   "cell_type": "markdown",
   "id": "3771faf1",
   "metadata": {},
   "source": [
    "## Exercise 2: Text preprocessing practice\n",
    "\n",
    "Now, it's your turn to apply the techniques you've learned to help clean up text for better NLP results. You'll need to remove stop words and non-alphabetic characters, lemmatize, and perform a new bag-of-words on your cleaned text.\n",
    "\n",
    "You start with the same tokens you created in the last exercise: lower_tokens. You also have the Counter class imported.\n",
    "\n",
    "- Import the `WordNetLemmatizer` class from `nltk.stem`. Create a list `alpha_only` that contains only `alphabetical` characters. You can use the `.isalpha()` method to check for this.\n",
    "\n",
    "\n",
    "- Create another list called `no_stops` consisting of words from `alpha_only` that are not contained in english_stops.\n",
    "\n",
    "\n",
    "- Initialize a `WordNetLemmatizer` object called `wordnet_lemmatizer` and use its `.lemmatize()` method on the `tokens` in `no_stops` to create a new list called `lemmatized`.\n",
    "\n",
    "\n",
    "- Create a new `Counter` called bow with the `lemmatized` words. Lastly, print the 10 most common tokens."
   ]
  },
  {
   "cell_type": "code",
   "execution_count": 9,
   "id": "3226e56e",
   "metadata": {},
   "outputs": [
    {
     "name": "stderr",
     "output_type": "stream",
     "text": [
      "[nltk_data] Downloading package stopwords to\n",
      "[nltk_data]     C:\\Users\\User\\AppData\\Roaming\\nltk_data...\n",
      "[nltk_data]   Package stopwords is already up-to-date!\n"
     ]
    },
    {
     "data": {
      "text/plain": [
       "True"
      ]
     },
     "execution_count": 9,
     "metadata": {},
     "output_type": "execute_result"
    }
   ],
   "source": [
    "import nltk\n",
    "from nltk.stem import WordNetLemmatizer\n",
    "from nltk.corpus import stopwords\n",
    "nltk.download('stopwords')"
   ]
  },
  {
   "cell_type": "code",
   "execution_count": 10,
   "id": "569b615e",
   "metadata": {},
   "outputs": [
    {
     "name": "stderr",
     "output_type": "stream",
     "text": [
      "[nltk_data] Downloading package wordnet to\n",
      "[nltk_data]     C:\\Users\\User\\AppData\\Roaming\\nltk_data...\n",
      "[nltk_data]   Package wordnet is already up-to-date!\n"
     ]
    },
    {
     "data": {
      "text/plain": [
       "True"
      ]
     },
     "execution_count": 10,
     "metadata": {},
     "output_type": "execute_result"
    }
   ],
   "source": [
    "nltk.download('wordnet')"
   ]
  },
  {
   "cell_type": "code",
   "execution_count": 11,
   "id": "860a3dc3",
   "metadata": {},
   "outputs": [
    {
     "name": "stdout",
     "output_type": "stream",
     "text": [
      "2144\n",
      "['debugging', 'is', 'the', 'process', 'of', 'finding', 'and', 'resolving', 'of', 'defects', 'that', 'prevent', 'correct', 'operation', 'of', 'computer', 'software', 'or', 'a', 'system', 'numerous', 'books', 'have', 'been', 'written', 'about', 'debugging', 'see', 'below', 'further', 'reading', 'as', 'it', 'involves', 'numerous', 'aspects', 'including', 'interactive', 'debugging', 'control', 'flow', 'integration', 'testing', 'files', 'monitoring', 'application', 'system', 'memory', 'dumps', 'profiling', 'computer', 'programming', 'statistical', 'process', 'control', 'and', 'special', 'design', 'tactics', 'to', 'improve', 'detection', 'while', 'simplifying', 'changes', 'origin', 'a', 'computer', 'log', 'entry', 'from', 'the', 'mark', 'nbsp', 'ii', 'with', 'a', 'moth', 'taped', 'to', 'the', 'page', 'the', 'terms', 'bug', 'and', 'debugging', 'are', 'popularly', 'attributed', 'to', 'admiral', 'grace', 'hopper', 'in', 'the', 'http', 'grace', 'hopper', 'from', 'foldoc', 'while', 'she', 'was', 'working', 'on', 'a', 'harvard', 'mark', 'ii', 'computer', 'at', 'harvard', 'university', 'her', 'associates', 'discovered', 'a', 'moth', 'stuck', 'in', 'a', 'relay', 'and', 'thereby', 'impeding', 'operation', 'whereupon', 'she', 'remarked', 'that', 'they', 'were', 'debugging', 'the', 'system', 'however', 'the', 'term', 'bug', 'in', 'the', 'meaning', 'of', 'technical', 'error', 'dates', 'back', 'at', 'least', 'to', 'and', 'thomas', 'edison', 'see', 'software', 'bug', 'for', 'a', 'full', 'discussion', 'and', 'debugging', 'seems', 'to', 'have', 'been', 'used', 'as', 'a', 'term', 'in', 'aeronautics', 'before', 'entering', 'the', 'world', 'of', 'computers', 'indeed', 'in', 'an', 'interview', 'grace', 'hopper', 'remarked', 'that', 'she', 'was', 'not', 'coining', 'the', 'term', 'citation', 'the', 'moth', 'fit', 'the', 'already', 'existing', 'terminology', 'so', 'it', 'was', 'saved', 'a', 'letter', 'from', 'robert', 'oppenheimer', 'director', 'of', 'the', 'wwii', 'atomic', 'bomb', 'manhattan', 'project', 'at', 'los', 'alamos', 'nm', 'used', 'the', 'term', 'in', 'a', 'letter', 'to', 'ernest', 'lawrence', 'at', 'uc', 'berkeley', 'dated', 'october', 'http', 'regarding', 'the', 'recruitment', 'of', 'additional', 'technical', 'staff', 'the', 'oxford', 'english', 'dictionary', 'entry', 'for', 'debug', 'quotes', 'the', 'term', 'debugging', 'used', 'in', 'reference', 'to', 'airplane', 'engine', 'testing', 'in', 'a', 'article', 'in', 'the', 'journal', 'of', 'the', 'royal', 'aeronautical', 'society', 'an', 'article', 'in', 'airforce', 'june', 'nbsp', 'also', 'refers', 'to', 'debugging', 'this', 'time', 'of', 'aircraft', 'cameras', 'hopper', 'computer', 'was', 'found', 'on', 'september', 'the', 'term', 'was', 'not', 'adopted', 'by', 'computer', 'programmers', 'until', 'the', 'early', 'the', 'seminal', 'article', 'by', 'gills', 'gill', 'http', 'the', 'diagnosis', 'of', 'mistakes', 'in', 'programmes', 'on', 'the', 'edsac', 'proceedings', 'of', 'the', 'royal', 'society', 'of', 'london', 'series', 'a', 'mathematical', 'and', 'physical', 'sciences', 'vol', 'no', 'may', 'pp', 'in', 'is', 'the', 'earliest', 'discussion', 'of', 'programming', 'errors', 'but', 'it', 'does', 'not', 'use', 'the', 'term', 'bug', 'or', 'debugging', 'in', 'the', 'association', 'for', 'computing', 'digital', 'library', 'the', 'term', 'debugging', 'is', 'first', 'used', 'in', 'three', 'papers', 'from', 'acm', 'national', 'campbell', 'http', 'evolution', 'of', 'automatic', 'computation', 'proceedings', 'of', 'the', 'acm', 'national', 'meeting', 'pittsburgh', 'p', 'orden', 'http', 'solution', 'of', 'systems', 'of', 'linear', 'inequalities', 'on', 'a', 'digital', 'computer', 'proceedings', 'of', 'the', 'acm', 'national', 'meeting', 'pittsburgh', 'demuth', 'john', 'jackson', 'edmund', 'klein', 'metropolis', 'walter', 'orvedahl', 'james', 'richardson', 'http', 'maniac', 'proceedings', 'of', 'the', 'acm', 'national', 'meeting', 'toronto', 'two', 'of', 'the', 'three', 'use', 'the', 'term', 'in', 'quotation', 'marks', 'by', 'debugging', 'was', 'a', 'common', 'enough', 'term', 'to', 'be', 'mentioned', 'in', 'passing', 'without', 'explanation', 'on', 'page', 'of', 'the', 'compatible', 'manual', 'http', 'the', 'compatible', 'system', 'press', 'kidwell', 'article', 'stalking', 'the', 'elusive', 'computer', 'bug', 'peggy', 'aldrich', 'kidwell', 'http', 'stalking', 'the', 'elusive', 'computer', 'bug', 'ieee', 'annals', 'of', 'the', 'history', 'of', 'computing', 'discusses', 'the', 'etymology', 'of', 'bug', 'and', 'debug', 'in', 'greater', 'detail', 'scope', 'as', 'software', 'and', 'electronic', 'systems', 'have', 'become', 'generally', 'more', 'complex', 'the', 'various', 'common', 'debugging', 'techniques', 'have', 'expanded', 'with', 'more', 'methods', 'to', 'detect', 'anomalies', 'assess', 'impact', 'and', 'schedule', 'software', 'patches', 'or', 'full', 'updates', 'to', 'a', 'system', 'the', 'words', 'anomaly', 'and', 'discrepancy', 'can', 'be', 'used', 'as', 'being', 'more', 'neutral', 'terms', 'to', 'avoid', 'the', 'words', 'error', 'and', 'defect', 'or', 'bug', 'where', 'there', 'might', 'be', 'an', 'implication', 'that', 'all', 'errors', 'defects', 'or', 'bugs', 'must', 'be', 'fixed', 'at', 'all', 'costs', 'instead', 'an', 'impact', 'assessment', 'can', 'be', 'made', 'to', 'determine', 'if', 'changes', 'to', 'remove', 'an', 'anomaly', 'or', 'discrepancy', 'would', 'be', 'for', 'the', 'system', 'or', 'perhaps', 'a', 'scheduled', 'new', 'release', 'might', 'render', 'the', 'change', 's', 'unnecessary', 'not', 'all', 'issues', 'are', 'or', 'in', 'a', 'system', 'also', 'it', 'is', 'important', 'to', 'avoid', 'the', 'situation', 'where', 'a', 'change', 'might', 'be', 'more', 'upsetting', 'to', 'users', 'than', 'living', 'with', 'the', 'known', 'problem', 's', 'where', 'the', 'cure', 'would', 'be', 'worse', 'than', 'the', 'disease', 'basing', 'decisions', 'of', 'the', 'acceptability', 'of', 'some', 'anomalies', 'can', 'avoid', 'a', 'culture', 'of', 'a', 'mandate', 'where', 'people', 'might', 'be', 'tempted', 'to', 'deny', 'the', 'existence', 'of', 'problems', 'so', 'that', 'the', 'result', 'would', 'appear', 'as', 'zero', 'defects', 'considering', 'the', 'collateral', 'issues', 'such', 'as', 'the', 'impact', 'assessment', 'then', 'broader', 'debugging', 'techniques', 'will', 'expand', 'to', 'determine', 'the', 'frequency', 'of', 'anomalies', 'how', 'often', 'the', 'same', 'bugs', 'occur', 'to', 'help', 'assess', 'their', 'impact', 'to', 'the', 'overall', 'system', 'tools', 'debugging', 'on', 'video', 'game', 'consoles', 'is', 'usually', 'done', 'with', 'special', 'hardware', 'such', 'as', 'this', 'xbox', 'console', 'debug', 'unit', 'intended', 'for', 'developers', 'debugging', 'ranges', 'in', 'complexity', 'from', 'fixing', 'simple', 'errors', 'to', 'performing', 'lengthy', 'and', 'tiresome', 'tasks', 'of', 'data', 'collection', 'analysis', 'and', 'scheduling', 'updates', 'the', 'debugging', 'skill', 'of', 'the', 'programmer', 'can', 'be', 'a', 'major', 'factor', 'in', 'the', 'ability', 'to', 'debug', 'a', 'problem', 'but', 'the', 'difficulty', 'of', 'software', 'debugging', 'varies', 'greatly', 'with', 'the', 'complexity', 'of', 'the', 'system', 'and', 'also', 'depends', 'to', 'some', 'extent', 'on', 'the', 'programming', 'language', 's', 'used', 'and', 'the', 'available', 'tools', 'such', 'as', 'debuggers', 'debuggers', 'are', 'software', 'tools', 'which', 'enable', 'the', 'programmer', 'to', 'monitor', 'the', 'execution', 'computers', 'of', 'a', 'program', 'stop', 'it', 'restart', 'it', 'set', 'breakpoints', 'and', 'change', 'values', 'in', 'memory', 'the', 'term', 'debugger', 'can', 'also', 'refer', 'to', 'the', 'person', 'who', 'is', 'doing', 'the', 'debugging', 'generally', 'programming', 'languages', 'such', 'as', 'java', 'programming', 'language', 'make', 'debugging', 'easier', 'because', 'they', 'have', 'features', 'such', 'as', 'exception', 'handling', 'that', 'make', 'real', 'sources', 'of', 'erratic', 'behaviour', 'easier', 'to', 'spot', 'in', 'programming', 'languages', 'such', 'as', 'c', 'programming', 'language', 'or', 'assembly', 'bugs', 'may', 'cause', 'silent', 'problems', 'such', 'as', 'memory', 'corruption', 'and', 'it', 'is', 'often', 'difficult', 'to', 'see', 'where', 'the', 'initial', 'problem', 'happened', 'in', 'those', 'cases', 'memory', 'debugger', 'tools', 'may', 'be', 'needed', 'in', 'certain', 'situations', 'general', 'purpose', 'software', 'tools', 'that', 'are', 'language', 'specific', 'in', 'nature', 'can', 'be', 'very', 'useful', 'these', 'take', 'the', 'form', 'of', 'list', 'of', 'tools', 'for', 'static', 'code', 'code', 'analysis', 'tools', 'these', 'tools', 'look', 'for', 'a', 'very', 'specific', 'set', 'of', 'known', 'problems', 'some', 'common', 'and', 'some', 'rare', 'within', 'the', 'source', 'code', 'all', 'such', 'issues', 'detected', 'by', 'these', 'tools', 'would', 'rarely', 'be', 'picked', 'up', 'by', 'a', 'compiler', 'or', 'interpreter', 'thus', 'they', 'are', 'not', 'syntax', 'checkers', 'but', 'more', 'semantic', 'checkers', 'some', 'tools', 'claim', 'to', 'be', 'able', 'to', 'detect', 'unique', 'problems', 'both', 'commercial', 'and', 'free', 'tools', 'exist', 'in', 'various', 'languages', 'these', 'tools', 'can', 'be', 'extremely', 'useful', 'when', 'checking', 'very', 'large', 'source', 'trees', 'where', 'it', 'is', 'impractical', 'to', 'do', 'code', 'walkthroughs', 'a', 'typical', 'example', 'of', 'a', 'problem', 'detected', 'would', 'be', 'a', 'variable', 'dereference', 'that', 'occurs', 'before', 'the', 'variable', 'is', 'assigned', 'a', 'value', 'another', 'example', 'would', 'be', 'to', 'perform', 'strong', 'type', 'checking', 'when', 'the', 'language', 'does', 'not', 'require', 'such', 'thus', 'they', 'are', 'better', 'at', 'locating', 'likely', 'errors', 'versus', 'actual', 'errors', 'as', 'a', 'result', 'these', 'tools', 'have', 'a', 'reputation', 'of', 'false', 'positives', 'the', 'old', 'unix', 'lint', 'programming', 'program', 'is', 'an', 'early', 'example', 'for', 'debugging', 'electronic', 'hardware', 'computer', 'hardware', 'as', 'well', 'as', 'software', 'bioses', 'device', 'drivers', 'and', 'firmware', 'instruments', 'such', 'as', 'oscilloscopes', 'logic', 'analyzers', 'or', 'emulators', 'ices', 'are', 'often', 'used', 'alone', 'or', 'in', 'combination', 'an', 'ice', 'may', 'perform', 'many', 'of', 'the', 'typical', 'software', 'debugger', 'tasks', 'on', 'software', 'and', 'firmware', 'debugging', 'process', 'normally', 'the', 'first', 'step', 'in', 'debugging', 'is', 'to', 'attempt', 'to', 'reproduce', 'the', 'problem', 'this', 'can', 'be', 'a', 'task', 'for', 'example', 'as', 'with', 'parallel', 'processes', 'or', 'some', 'unusual', 'software', 'bugs', 'also', 'specific', 'user', 'environment', 'and', 'usage', 'history', 'can', 'make', 'it', 'difficult', 'to', 'reproduce', 'the', 'problem', 'after', 'the', 'bug', 'is', 'reproduced', 'the', 'input', 'of', 'the', 'program', 'may', 'need', 'to', 'be', 'simplified', 'to', 'make', 'it', 'easier', 'to', 'debug', 'for', 'example', 'a', 'bug', 'in', 'a', 'compiler', 'can', 'make', 'it', 'crash', 'computing', 'when', 'parsing', 'some', 'large', 'source', 'file', 'however', 'after', 'simplification', 'of', 'the', 'test', 'case', 'only', 'few', 'lines', 'from', 'the', 'original', 'source', 'file', 'can', 'be', 'sufficient', 'to', 'reproduce', 'the', 'same', 'crash', 'such', 'simplification', 'can', 'be', 'made', 'manually', 'using', 'a', 'divide', 'and', 'conquer', 'approach', 'the', 'programmer', 'will', 'try', 'to', 'remove', 'some', 'parts', 'of', 'original', 'test', 'case', 'and', 'check', 'if', 'the', 'problem', 'still', 'exists', 'when', 'debugging', 'the', 'problem', 'in', 'a', 'graphical', 'user', 'the', 'programmer', 'can', 'try', 'to', 'skip', 'some', 'user', 'interaction', 'from', 'the', 'original', 'problem', 'description', 'and', 'check', 'if', 'remaining', 'actions', 'are', 'sufficient', 'for', 'bugs', 'to', 'appear', 'after', 'the', 'test', 'case', 'is', 'sufficiently', 'simplified', 'a', 'programmer', 'can', 'use', 'a', 'debugger', 'tool', 'to', 'examine', 'program', 'states', 'values', 'of', 'variables', 'plus', 'the', 'call', 'stack', 'and', 'track', 'down', 'the', 'origin', 'of', 'the', 'problem', 's', 'alternatively', 'tracing', 'software', 'can', 'be', 'used', 'in', 'simple', 'cases', 'tracing', 'is', 'just', 'a', 'few', 'print', 'statements', 'which', 'output', 'the', 'values', 'of', 'variables', 'at', 'certain', 'points', 'of', 'program', 'execution', 'citation', 'techniques', 'interactive', 'debugging', 'visible', 'debugging', 'or', 'tracing', 'is', 'the', 'act', 'of', 'watching', 'live', 'or', 'recorded', 'trace', 'statements', 'or', 'print', 'statements', 'that', 'indicate', 'the', 'flow', 'of', 'execution', 'of', 'a', 'process', 'this', 'is', 'sometimes', 'called', 'visible', 'debugging', 'due', 'to', 'the', 'use', 'of', 'the', 'printf', 'function', 'in', 'this', 'kind', 'of', 'debugging', 'was', 'turned', 'on', 'by', 'the', 'command', 'tron', 'in', 'the', 'original', 'versions', 'of', 'the', 'basic', 'programming', 'language', 'tron', 'stood', 'for', 'trace', 'on', 'tron', 'caused', 'the', 'line', 'numbers', 'of', 'each', 'basic', 'command', 'line', 'to', 'print', 'as', 'the', 'program', 'ran', 'debugging', 'is', 'the', 'process', 'of', 'debugging', 'a', 'program', 'running', 'on', 'a', 'system', 'different', 'from', 'the', 'debugger', 'to', 'start', 'remote', 'debugging', 'a', 'debugger', 'connects', 'to', 'a', 'remote', 'system', 'over', 'a', 'network', 'the', 'debugger', 'can', 'then', 'control', 'the', 'execution', 'of', 'the', 'program', 'on', 'the', 'remote', 'system', 'and', 'retrieve', 'information', 'about', 'its', 'state', 'debugging', 'is', 'debugging', 'of', 'the', 'program', 'after', 'it', 'has', 'already', 'crash', 'computing', 'related', 'techniques', 'often', 'include', 'various', 'tracing', 'techniques', 'for', 'example', 'http', 'postmortem', 'debugging', 'stephen', 'wormuller', 'dobbs', 'journal', 'analysis', 'of', 'memory', 'dump', 'or', 'core', 'dump', 'of', 'the', 'crashed', 'process', 'the', 'dump', 'of', 'the', 'process', 'could', 'be', 'obtained', 'automatically', 'by', 'the', 'system', 'for', 'example', 'when', 'process', 'has', 'terminated', 'due', 'to', 'an', 'unhandled', 'exception', 'or', 'by', 'a', 'instruction', 'or', 'manually', 'by', 'the', 'interactive', 'user', 'wolf', 'fence', 'algorithm', 'edward', 'gauss', 'described', 'this', 'simple', 'but', 'very', 'useful', 'and', 'now', 'famous', 'algorithm', 'in', 'a', 'article', 'for', 'communications', 'of', 'the', 'acm', 'as', 'follows', 'there', 'one', 'wolf', 'in', 'alaska', 'how', 'do', 'you', 'find', 'it', 'first', 'build', 'a', 'fence', 'down', 'the', 'middle', 'of', 'the', 'state', 'wait', 'for', 'the', 'wolf', 'to', 'howl', 'determine', 'which', 'side', 'of', 'the', 'fence', 'it', 'is', 'on', 'repeat', 'process', 'on', 'that', 'side', 'only', 'until', 'you', 'get', 'to', 'the', 'point', 'where', 'you', 'can', 'see', 'the', 'wolf', 'ref', 'communications', 'of', 'the', 'acm', 'cite', 'journal', 'pracniques', 'the', 'wolf', 'fence', 'algorithm', 'for', 'debugging', 'gauss', 'this', 'is', 'implemented', 'in', 'the', 'git', 'software', 'version', 'control', 'system', 'as', 'the', 'command', 'git', 'bisect', 'which', 'uses', 'the', 'above', 'algorithm', 'to', 'determine', 'which', 'commit', 'data', 'management', 'introduced', 'a', 'particular', 'bug', 'debugging', 'snd', 'a', 'technique', 'of', 'automating', 'test', 'case', 'zeller', 'cite', 'why', 'programs', 'fail', 'a', 'guide', 'to', 'systematic', 'debugging', 'morgan', 'kaufmann', 'isbn', 'for', 'redirect', 'from', 'squeeze', 'saff', 'squeeze', 'snd', 'a', 'technique', 'of', 'isolating', 'failure', 'within', 'the', 'test', 'using', 'progressive', 'inlining', 'of', 'parts', 'of', 'the', 'failing', 'test', 'http', 'kent', 'beck', 'hit', 'high', 'hit', 'low', 'regression', 'testing', 'and', 'the', 'saff', 'squeeze', 'debugging', 'for', 'embedded', 'systems', 'in', 'contrast', 'to', 'the', 'general', 'purpose', 'computer', 'software', 'design', 'environment', 'a', 'primary', 'characteristic', 'of', 'embedded', 'environments', 'is', 'the', 'sheer', 'number', 'of', 'different', 'platforms', 'available', 'to', 'the', 'developers', 'cpu', 'architectures', 'vendors', 'operating', 'systems', 'and', 'their', 'variants', 'embedded', 'systems', 'are', 'by', 'definition', 'not', 'designs', 'they', 'are', 'typically', 'developed', 'for', 'a', 'single', 'task', 'or', 'small', 'range', 'of', 'tasks', 'and', 'the', 'platform', 'is', 'chosen', 'specifically', 'to', 'optimize', 'that', 'application', 'not', 'only', 'does', 'this', 'fact', 'make', 'life', 'tough', 'for', 'embedded', 'system', 'developers', 'it', 'also', 'makes', 'debugging', 'and', 'testing', 'of', 'these', 'systems', 'harder', 'as', 'well', 'since', 'different', 'debugging', 'tools', 'are', 'needed', 'in', 'different', 'platforms', 'to', 'identify', 'and', 'fix', 'bugs', 'in', 'the', 'system', 'logical', 'or', 'synchronization', 'problems', 'in', 'the', 'code', 'or', 'a', 'design', 'error', 'in', 'the', 'hardware', 'to', 'collect', 'information', 'about', 'the', 'operating', 'states', 'of', 'the', 'system', 'that', 'may', 'then', 'be', 'used', 'to', 'analyze', 'the', 'system', 'to', 'find', 'ways', 'to', 'boost', 'its', 'performance', 'or', 'to', 'optimize', 'other', 'important', 'characteristics', 'energy', 'consumption', 'reliability', 'response', 'is', 'the', 'implementation', 'of', 'one', 'or', 'more', 'techniques', 'within', 'computer', 'code', 'that', 'hinders', 'attempts', 'at', 'reverse', 'engineering', 'or', 'debugging', 'a', 'target', 'process', 'ref', 'cite', 'web', 'series', 'part', 'i', 'it', 'is', 'actively', 'used', 'by', 'recognized', 'publishers', 'in', 'copy', 'schemas', 'but', 'is', 'also', 'used', 'by', 'malware', 'to', 'complicate', 'its', 'detection', 'and', 'ref', 'http', 'software', 'protection', 'through', 'michael', 'n', 'gagnon', 'stephen', 'taylor', 'anup', 'ghosh', 'techniques', 'used', 'in', 'include', 'check', 'for', 'the', 'existence', 'of', 'a', 'debugger', 'using', 'system', 'information', 'check', 'to', 'see', 'if', 'exceptions', 'are', 'interfered', 'with', 'process', 'and', 'thread', 'blocks', 'check', 'whether', 'process', 'and', 'thread', 'blocks', 'have', 'been', 'manipulated', 'modified', 'code', 'check', 'for', 'code', 'modifications', 'made', 'by', 'a', 'debugger', 'handling', 'software', 'breakpoints', 'and', 'check', 'for', 'hardware', 'breakpoints', 'and', 'cpu', 'registers', 'timing', 'and', 'latency', 'check', 'the', 'time', 'taken', 'for', 'the', 'execution', 'of', 'instructions', 'detecting', 'and', 'penalizing', 'debugger', 'ref', 'reference', 'does', 'not', 'exist', 'an', 'early', 'example', 'of', 'existed', 'in', 'early', 'versions', 'of', 'microsoft', 'word', 'which', 'if', 'a', 'debugger', 'was', 'detected', 'produced', 'a', 'message', 'that', 'said', 'the', 'tree', 'of', 'evil', 'bears', 'bitter', 'fruit', 'now', 'trashing', 'program', 'disk', 'after', 'which', 'it', 'caused', 'the', 'floppy', 'disk', 'drive', 'to', 'emit', 'alarming', 'noises', 'with', 'the', 'intent', 'of', 'scaring', 'the', 'user', 'away', 'from', 'attempting', 'it', 'ref', 'securityengineeringra', 'cite', 'book', 'anderson', 'engineering', 'isbn', 'ref', 'toastytech', 'cite', 'web', 'word', 'for', 'dos']\n"
     ]
    }
   ],
   "source": [
    "alpha_only = [w for w in lower_tokens if w.isalpha()]\n",
    "print(len(alpha_only))\n",
    "print(alpha_only)"
   ]
  },
  {
   "cell_type": "code",
   "execution_count": 12,
   "id": "54e12e8c",
   "metadata": {},
   "outputs": [],
   "source": [
    "# # Remove all stop words: no_stops\n",
    "# no_stops = [t for t in alpha_only if t not in english_stops]\n",
    "# print(len(no_stops))\n",
    "# print(no_stops)"
   ]
  },
  {
   "cell_type": "code",
   "execution_count": 13,
   "id": "cced436d",
   "metadata": {},
   "outputs": [],
   "source": [
    "#stopwords.words('english')"
   ]
  },
  {
   "cell_type": "code",
   "execution_count": 14,
   "id": "54f7f0cc",
   "metadata": {
    "scrolled": true
   },
   "outputs": [
    {
     "name": "stdout",
     "output_type": "stream",
     "text": [
      "1271\n",
      "['debugging', 'process', 'finding', 'resolving', 'defects', 'prevent', 'correct', 'operation', 'computer', 'software', 'system', 'numerous', 'books', 'written', 'debugging', 'see', 'reading', 'involves', 'numerous', 'aspects', 'including', 'interactive', 'debugging', 'control', 'flow', 'integration', 'testing', 'files', 'monitoring', 'application', 'system', 'memory', 'dumps', 'profiling', 'computer', 'programming', 'statistical', 'process', 'control', 'special', 'design', 'tactics', 'improve', 'detection', 'simplifying', 'changes', 'origin', 'computer', 'log', 'entry', 'mark', 'nbsp', 'ii', 'moth', 'taped', 'page', 'terms', 'bug', 'debugging', 'popularly', 'attributed', 'admiral', 'grace', 'hopper', 'http', 'grace', 'hopper', 'foldoc', 'working', 'harvard', 'mark', 'ii', 'computer', 'harvard', 'university', 'associates', 'discovered', 'moth', 'stuck', 'relay', 'thereby', 'impeding', 'operation', 'whereupon', 'remarked', 'debugging', 'system', 'however', 'term', 'bug', 'meaning', 'technical', 'error', 'dates', 'back', 'least', 'thomas', 'edison', 'see', 'software', 'bug', 'full', 'discussion', 'debugging', 'seems', 'used', 'term', 'aeronautics', 'entering', 'world', 'computers', 'indeed', 'interview', 'grace', 'hopper', 'remarked', 'coining', 'term', 'citation', 'moth', 'fit', 'already', 'existing', 'terminology', 'saved', 'letter', 'robert', 'oppenheimer', 'director', 'wwii', 'atomic', 'bomb', 'manhattan', 'project', 'los', 'alamos', 'nm', 'used', 'term', 'letter', 'ernest', 'lawrence', 'uc', 'berkeley', 'dated', 'october', 'http', 'regarding', 'recruitment', 'additional', 'technical', 'staff', 'oxford', 'english', 'dictionary', 'entry', 'debug', 'quotes', 'term', 'debugging', 'used', 'reference', 'airplane', 'engine', 'testing', 'article', 'journal', 'royal', 'aeronautical', 'society', 'article', 'airforce', 'june', 'nbsp', 'also', 'refers', 'debugging', 'time', 'aircraft', 'cameras', 'hopper', 'computer', 'found', 'september', 'term', 'adopted', 'computer', 'programmers', 'early', 'seminal', 'article', 'gills', 'gill', 'http', 'diagnosis', 'mistakes', 'programmes', 'edsac', 'proceedings', 'royal', 'society', 'london', 'series', 'mathematical', 'physical', 'sciences', 'vol', 'may', 'pp', 'earliest', 'discussion', 'programming', 'errors', 'use', 'term', 'bug', 'debugging', 'association', 'computing', 'digital', 'library', 'term', 'debugging', 'first', 'used', 'three', 'papers', 'acm', 'national', 'campbell', 'http', 'evolution', 'automatic', 'computation', 'proceedings', 'acm', 'national', 'meeting', 'pittsburgh', 'p', 'orden', 'http', 'solution', 'systems', 'linear', 'inequalities', 'digital', 'computer', 'proceedings', 'acm', 'national', 'meeting', 'pittsburgh', 'demuth', 'john', 'jackson', 'edmund', 'klein', 'metropolis', 'walter', 'orvedahl', 'james', 'richardson', 'http', 'maniac', 'proceedings', 'acm', 'national', 'meeting', 'toronto', 'two', 'three', 'use', 'term', 'quotation', 'marks', 'debugging', 'common', 'enough', 'term', 'mentioned', 'passing', 'without', 'explanation', 'page', 'compatible', 'manual', 'http', 'compatible', 'system', 'press', 'kidwell', 'article', 'stalking', 'elusive', 'computer', 'bug', 'peggy', 'aldrich', 'kidwell', 'http', 'stalking', 'elusive', 'computer', 'bug', 'ieee', 'annals', 'history', 'computing', 'discusses', 'etymology', 'bug', 'debug', 'greater', 'detail', 'scope', 'software', 'electronic', 'systems', 'become', 'generally', 'complex', 'various', 'common', 'debugging', 'techniques', 'expanded', 'methods', 'detect', 'anomalies', 'assess', 'impact', 'schedule', 'software', 'patches', 'full', 'updates', 'system', 'words', 'anomaly', 'discrepancy', 'used', 'neutral', 'terms', 'avoid', 'words', 'error', 'defect', 'bug', 'might', 'implication', 'errors', 'defects', 'bugs', 'must', 'fixed', 'costs', 'instead', 'impact', 'assessment', 'made', 'determine', 'changes', 'remove', 'anomaly', 'discrepancy', 'would', 'system', 'perhaps', 'scheduled', 'new', 'release', 'might', 'render', 'change', 'unnecessary', 'issues', 'system', 'also', 'important', 'avoid', 'situation', 'change', 'might', 'upsetting', 'users', 'living', 'known', 'problem', 'cure', 'would', 'worse', 'disease', 'basing', 'decisions', 'acceptability', 'anomalies', 'avoid', 'culture', 'mandate', 'people', 'might', 'tempted', 'deny', 'existence', 'problems', 'result', 'would', 'appear', 'zero', 'defects', 'considering', 'collateral', 'issues', 'impact', 'assessment', 'broader', 'debugging', 'techniques', 'expand', 'determine', 'frequency', 'anomalies', 'often', 'bugs', 'occur', 'help', 'assess', 'impact', 'overall', 'system', 'tools', 'debugging', 'video', 'game', 'consoles', 'usually', 'done', 'special', 'hardware', 'xbox', 'console', 'debug', 'unit', 'intended', 'developers', 'debugging', 'ranges', 'complexity', 'fixing', 'simple', 'errors', 'performing', 'lengthy', 'tiresome', 'tasks', 'data', 'collection', 'analysis', 'scheduling', 'updates', 'debugging', 'skill', 'programmer', 'major', 'factor', 'ability', 'debug', 'problem', 'difficulty', 'software', 'debugging', 'varies', 'greatly', 'complexity', 'system', 'also', 'depends', 'extent', 'programming', 'language', 'used', 'available', 'tools', 'debuggers', 'debuggers', 'software', 'tools', 'enable', 'programmer', 'monitor', 'execution', 'computers', 'program', 'stop', 'restart', 'set', 'breakpoints', 'change', 'values', 'memory', 'term', 'debugger', 'also', 'refer', 'person', 'debugging', 'generally', 'programming', 'languages', 'java', 'programming', 'language', 'make', 'debugging', 'easier', 'features', 'exception', 'handling', 'make', 'real', 'sources', 'erratic', 'behaviour', 'easier', 'spot', 'programming', 'languages', 'c', 'programming', 'language', 'assembly', 'bugs', 'may', 'cause', 'silent', 'problems', 'memory', 'corruption', 'often', 'difficult', 'see', 'initial', 'problem', 'happened', 'cases', 'memory', 'debugger', 'tools', 'may', 'needed', 'certain', 'situations', 'general', 'purpose', 'software', 'tools', 'language', 'specific', 'nature', 'useful', 'take', 'form', 'list', 'tools', 'static', 'code', 'code', 'analysis', 'tools', 'tools', 'look', 'specific', 'set', 'known', 'problems', 'common', 'rare', 'within', 'source', 'code', 'issues', 'detected', 'tools', 'would', 'rarely', 'picked', 'compiler', 'interpreter', 'thus', 'syntax', 'checkers', 'semantic', 'checkers', 'tools', 'claim', 'able', 'detect', 'unique', 'problems', 'commercial', 'free', 'tools', 'exist', 'various', 'languages', 'tools', 'extremely', 'useful', 'checking', 'large', 'source', 'trees', 'impractical', 'code', 'walkthroughs', 'typical', 'example', 'problem', 'detected', 'would', 'variable', 'dereference', 'occurs', 'variable', 'assigned', 'value', 'another', 'example', 'would', 'perform', 'strong', 'type', 'checking', 'language', 'require', 'thus', 'better', 'locating', 'likely', 'errors', 'versus', 'actual', 'errors', 'result', 'tools', 'reputation', 'false', 'positives', 'old', 'unix', 'lint', 'programming', 'program', 'early', 'example', 'debugging', 'electronic', 'hardware', 'computer', 'hardware', 'well', 'software', 'bioses', 'device', 'drivers', 'firmware', 'instruments', 'oscilloscopes', 'logic', 'analyzers', 'emulators', 'ices', 'often', 'used', 'alone', 'combination', 'ice', 'may', 'perform', 'many', 'typical', 'software', 'debugger', 'tasks', 'software', 'firmware', 'debugging', 'process', 'normally', 'first', 'step', 'debugging', 'attempt', 'reproduce', 'problem', 'task', 'example', 'parallel', 'processes', 'unusual', 'software', 'bugs', 'also', 'specific', 'user', 'environment', 'usage', 'history', 'make', 'difficult', 'reproduce', 'problem', 'bug', 'reproduced', 'input', 'program', 'may', 'need', 'simplified', 'make', 'easier', 'debug', 'example', 'bug', 'compiler', 'make', 'crash', 'computing', 'parsing', 'large', 'source', 'file', 'however', 'simplification', 'test', 'case', 'lines', 'original', 'source', 'file', 'sufficient', 'reproduce', 'crash', 'simplification', 'made', 'manually', 'using', 'divide', 'conquer', 'approach', 'programmer', 'try', 'remove', 'parts', 'original', 'test', 'case', 'check', 'problem', 'still', 'exists', 'debugging', 'problem', 'graphical', 'user', 'programmer', 'try', 'skip', 'user', 'interaction', 'original', 'problem', 'description', 'check', 'remaining', 'actions', 'sufficient', 'bugs', 'appear', 'test', 'case', 'sufficiently', 'simplified', 'programmer', 'use', 'debugger', 'tool', 'examine', 'program', 'states', 'values', 'variables', 'plus', 'call', 'stack', 'track', 'origin', 'problem', 'alternatively', 'tracing', 'software', 'used', 'simple', 'cases', 'tracing', 'print', 'statements', 'output', 'values', 'variables', 'certain', 'points', 'program', 'execution', 'citation', 'techniques', 'interactive', 'debugging', 'visible', 'debugging', 'tracing', 'act', 'watching', 'live', 'recorded', 'trace', 'statements', 'print', 'statements', 'indicate', 'flow', 'execution', 'process', 'sometimes', 'called', 'visible', 'debugging', 'due', 'use', 'printf', 'function', 'kind', 'debugging', 'turned', 'command', 'tron', 'original', 'versions', 'basic', 'programming', 'language', 'tron', 'stood', 'trace', 'tron', 'caused', 'line', 'numbers', 'basic', 'command', 'line', 'print', 'program', 'ran', 'debugging', 'process', 'debugging', 'program', 'running', 'system', 'different', 'debugger', 'start', 'remote', 'debugging', 'debugger', 'connects', 'remote', 'system', 'network', 'debugger', 'control', 'execution', 'program', 'remote', 'system', 'retrieve', 'information', 'state', 'debugging', 'debugging', 'program', 'already', 'crash', 'computing', 'related', 'techniques', 'often', 'include', 'various', 'tracing', 'techniques', 'example', 'http', 'postmortem', 'debugging', 'stephen', 'wormuller', 'dobbs', 'journal', 'analysis', 'memory', 'dump', 'core', 'dump', 'crashed', 'process', 'dump', 'process', 'could', 'obtained', 'automatically', 'system', 'example', 'process', 'terminated', 'due', 'unhandled', 'exception', 'instruction', 'manually', 'interactive', 'user', 'wolf', 'fence', 'algorithm', 'edward', 'gauss', 'described', 'simple', 'useful', 'famous', 'algorithm', 'article', 'communications', 'acm', 'follows', 'one', 'wolf', 'alaska', 'find', 'first', 'build', 'fence', 'middle', 'state', 'wait', 'wolf', 'howl', 'determine', 'side', 'fence', 'repeat', 'process', 'side', 'get', 'point', 'see', 'wolf', 'ref', 'communications', 'acm', 'cite', 'journal', 'pracniques', 'wolf', 'fence', 'algorithm', 'debugging', 'gauss', 'implemented', 'git', 'software', 'version', 'control', 'system', 'command', 'git', 'bisect', 'uses', 'algorithm', 'determine', 'commit', 'data', 'management', 'introduced', 'particular', 'bug', 'debugging', 'snd', 'technique', 'automating', 'test', 'case', 'zeller', 'cite', 'programs', 'fail', 'guide', 'systematic', 'debugging', 'morgan', 'kaufmann', 'isbn', 'redirect', 'squeeze', 'saff', 'squeeze', 'snd', 'technique', 'isolating', 'failure', 'within', 'test', 'using', 'progressive', 'inlining', 'parts', 'failing', 'test', 'http', 'kent', 'beck', 'hit', 'high', 'hit', 'low', 'regression', 'testing', 'saff', 'squeeze', 'debugging', 'embedded', 'systems', 'contrast', 'general', 'purpose', 'computer', 'software', 'design', 'environment', 'primary', 'characteristic', 'embedded', 'environments', 'sheer', 'number', 'different', 'platforms', 'available', 'developers', 'cpu', 'architectures', 'vendors', 'operating', 'systems', 'variants', 'embedded', 'systems', 'definition', 'designs', 'typically', 'developed', 'single', 'task', 'small', 'range', 'tasks', 'platform', 'chosen', 'specifically', 'optimize', 'application', 'fact', 'make', 'life', 'tough', 'embedded', 'system', 'developers', 'also', 'makes', 'debugging', 'testing', 'systems', 'harder', 'well', 'since', 'different', 'debugging', 'tools', 'needed', 'different', 'platforms', 'identify', 'fix', 'bugs', 'system', 'logical', 'synchronization', 'problems', 'code', 'design', 'error', 'hardware', 'collect', 'information', 'operating', 'states', 'system', 'may', 'used', 'analyze', 'system', 'find', 'ways', 'boost', 'performance', 'optimize', 'important', 'characteristics', 'energy', 'consumption', 'reliability', 'response', 'implementation', 'one', 'techniques', 'within', 'computer', 'code', 'hinders', 'attempts', 'reverse', 'engineering', 'debugging', 'target', 'process', 'ref', 'cite', 'web', 'series', 'part', 'actively', 'used', 'recognized', 'publishers', 'copy', 'schemas', 'also', 'used', 'malware', 'complicate', 'detection', 'ref', 'http', 'software', 'protection', 'michael', 'n', 'gagnon', 'stephen', 'taylor', 'anup', 'ghosh', 'techniques', 'used', 'include', 'check', 'existence', 'debugger', 'using', 'system', 'information', 'check', 'see', 'exceptions', 'interfered', 'process', 'thread', 'blocks', 'check', 'whether', 'process', 'thread', 'blocks', 'manipulated', 'modified', 'code', 'check', 'code', 'modifications', 'made', 'debugger', 'handling', 'software', 'breakpoints', 'check', 'hardware', 'breakpoints', 'cpu', 'registers', 'timing', 'latency', 'check', 'time', 'taken', 'execution', 'instructions', 'detecting', 'penalizing', 'debugger', 'ref', 'reference', 'exist', 'early', 'example', 'existed', 'early', 'versions', 'microsoft', 'word', 'debugger', 'detected', 'produced', 'message', 'said', 'tree', 'evil', 'bears', 'bitter', 'fruit', 'trashing', 'program', 'disk', 'caused', 'floppy', 'disk', 'drive', 'emit', 'alarming', 'noises', 'intent', 'scaring', 'user', 'away', 'attempting', 'ref', 'securityengineeringra', 'cite', 'book', 'anderson', 'engineering', 'isbn', 'ref', 'toastytech', 'cite', 'web', 'word', 'dos']\n"
     ]
    }
   ],
   "source": [
    "no_stops = [t for t in alpha_only if t not in stopwords.words('english')]\n",
    "print(len(no_stops))\n",
    "print(no_stops)"
   ]
  },
  {
   "cell_type": "code",
   "execution_count": 15,
   "id": "3aa06c86",
   "metadata": {},
   "outputs": [
    {
     "name": "stdout",
     "output_type": "stream",
     "text": [
      "1271\n",
      "['debugging', 'process', 'finding', 'resolving', 'defect', 'prevent', 'correct', 'operation', 'computer', 'software', 'system', 'numerous', 'book', 'written', 'debugging', 'see', 'reading', 'involves', 'numerous', 'aspect', 'including', 'interactive', 'debugging', 'control', 'flow', 'integration', 'testing', 'file', 'monitoring', 'application', 'system', 'memory', 'dump', 'profiling', 'computer', 'programming', 'statistical', 'process', 'control', 'special', 'design', 'tactic', 'improve', 'detection', 'simplifying', 'change', 'origin', 'computer', 'log', 'entry', 'mark', 'nbsp', 'ii', 'moth', 'taped', 'page', 'term', 'bug', 'debugging', 'popularly', 'attributed', 'admiral', 'grace', 'hopper', 'http', 'grace', 'hopper', 'foldoc', 'working', 'harvard', 'mark', 'ii', 'computer', 'harvard', 'university', 'associate', 'discovered', 'moth', 'stuck', 'relay', 'thereby', 'impeding', 'operation', 'whereupon', 'remarked', 'debugging', 'system', 'however', 'term', 'bug', 'meaning', 'technical', 'error', 'date', 'back', 'least', 'thomas', 'edison', 'see', 'software', 'bug', 'full', 'discussion', 'debugging', 'seems', 'used', 'term', 'aeronautics', 'entering', 'world', 'computer', 'indeed', 'interview', 'grace', 'hopper', 'remarked', 'coining', 'term', 'citation', 'moth', 'fit', 'already', 'existing', 'terminology', 'saved', 'letter', 'robert', 'oppenheimer', 'director', 'wwii', 'atomic', 'bomb', 'manhattan', 'project', 'los', 'alamo', 'nm', 'used', 'term', 'letter', 'ernest', 'lawrence', 'uc', 'berkeley', 'dated', 'october', 'http', 'regarding', 'recruitment', 'additional', 'technical', 'staff', 'oxford', 'english', 'dictionary', 'entry', 'debug', 'quote', 'term', 'debugging', 'used', 'reference', 'airplane', 'engine', 'testing', 'article', 'journal', 'royal', 'aeronautical', 'society', 'article', 'airforce', 'june', 'nbsp', 'also', 'refers', 'debugging', 'time', 'aircraft', 'camera', 'hopper', 'computer', 'found', 'september', 'term', 'adopted', 'computer', 'programmer', 'early', 'seminal', 'article', 'gill', 'gill', 'http', 'diagnosis', 'mistake', 'programme', 'edsac', 'proceeding', 'royal', 'society', 'london', 'series', 'mathematical', 'physical', 'science', 'vol', 'may', 'pp', 'earliest', 'discussion', 'programming', 'error', 'use', 'term', 'bug', 'debugging', 'association', 'computing', 'digital', 'library', 'term', 'debugging', 'first', 'used', 'three', 'paper', 'acm', 'national', 'campbell', 'http', 'evolution', 'automatic', 'computation', 'proceeding', 'acm', 'national', 'meeting', 'pittsburgh', 'p', 'orden', 'http', 'solution', 'system', 'linear', 'inequality', 'digital', 'computer', 'proceeding', 'acm', 'national', 'meeting', 'pittsburgh', 'demuth', 'john', 'jackson', 'edmund', 'klein', 'metropolis', 'walter', 'orvedahl', 'james', 'richardson', 'http', 'maniac', 'proceeding', 'acm', 'national', 'meeting', 'toronto', 'two', 'three', 'use', 'term', 'quotation', 'mark', 'debugging', 'common', 'enough', 'term', 'mentioned', 'passing', 'without', 'explanation', 'page', 'compatible', 'manual', 'http', 'compatible', 'system', 'press', 'kidwell', 'article', 'stalking', 'elusive', 'computer', 'bug', 'peggy', 'aldrich', 'kidwell', 'http', 'stalking', 'elusive', 'computer', 'bug', 'ieee', 'annals', 'history', 'computing', 'discus', 'etymology', 'bug', 'debug', 'greater', 'detail', 'scope', 'software', 'electronic', 'system', 'become', 'generally', 'complex', 'various', 'common', 'debugging', 'technique', 'expanded', 'method', 'detect', 'anomaly', 'ass', 'impact', 'schedule', 'software', 'patch', 'full', 'update', 'system', 'word', 'anomaly', 'discrepancy', 'used', 'neutral', 'term', 'avoid', 'word', 'error', 'defect', 'bug', 'might', 'implication', 'error', 'defect', 'bug', 'must', 'fixed', 'cost', 'instead', 'impact', 'assessment', 'made', 'determine', 'change', 'remove', 'anomaly', 'discrepancy', 'would', 'system', 'perhaps', 'scheduled', 'new', 'release', 'might', 'render', 'change', 'unnecessary', 'issue', 'system', 'also', 'important', 'avoid', 'situation', 'change', 'might', 'upsetting', 'user', 'living', 'known', 'problem', 'cure', 'would', 'worse', 'disease', 'basing', 'decision', 'acceptability', 'anomaly', 'avoid', 'culture', 'mandate', 'people', 'might', 'tempted', 'deny', 'existence', 'problem', 'result', 'would', 'appear', 'zero', 'defect', 'considering', 'collateral', 'issue', 'impact', 'assessment', 'broader', 'debugging', 'technique', 'expand', 'determine', 'frequency', 'anomaly', 'often', 'bug', 'occur', 'help', 'ass', 'impact', 'overall', 'system', 'tool', 'debugging', 'video', 'game', 'console', 'usually', 'done', 'special', 'hardware', 'xbox', 'console', 'debug', 'unit', 'intended', 'developer', 'debugging', 'range', 'complexity', 'fixing', 'simple', 'error', 'performing', 'lengthy', 'tiresome', 'task', 'data', 'collection', 'analysis', 'scheduling', 'update', 'debugging', 'skill', 'programmer', 'major', 'factor', 'ability', 'debug', 'problem', 'difficulty', 'software', 'debugging', 'varies', 'greatly', 'complexity', 'system', 'also', 'depends', 'extent', 'programming', 'language', 'used', 'available', 'tool', 'debugger', 'debugger', 'software', 'tool', 'enable', 'programmer', 'monitor', 'execution', 'computer', 'program', 'stop', 'restart', 'set', 'breakpoints', 'change', 'value', 'memory', 'term', 'debugger', 'also', 'refer', 'person', 'debugging', 'generally', 'programming', 'language', 'java', 'programming', 'language', 'make', 'debugging', 'easier', 'feature', 'exception', 'handling', 'make', 'real', 'source', 'erratic', 'behaviour', 'easier', 'spot', 'programming', 'language', 'c', 'programming', 'language', 'assembly', 'bug', 'may', 'cause', 'silent', 'problem', 'memory', 'corruption', 'often', 'difficult', 'see', 'initial', 'problem', 'happened', 'case', 'memory', 'debugger', 'tool', 'may', 'needed', 'certain', 'situation', 'general', 'purpose', 'software', 'tool', 'language', 'specific', 'nature', 'useful', 'take', 'form', 'list', 'tool', 'static', 'code', 'code', 'analysis', 'tool', 'tool', 'look', 'specific', 'set', 'known', 'problem', 'common', 'rare', 'within', 'source', 'code', 'issue', 'detected', 'tool', 'would', 'rarely', 'picked', 'compiler', 'interpreter', 'thus', 'syntax', 'checker', 'semantic', 'checker', 'tool', 'claim', 'able', 'detect', 'unique', 'problem', 'commercial', 'free', 'tool', 'exist', 'various', 'language', 'tool', 'extremely', 'useful', 'checking', 'large', 'source', 'tree', 'impractical', 'code', 'walkthroughs', 'typical', 'example', 'problem', 'detected', 'would', 'variable', 'dereference', 'occurs', 'variable', 'assigned', 'value', 'another', 'example', 'would', 'perform', 'strong', 'type', 'checking', 'language', 'require', 'thus', 'better', 'locating', 'likely', 'error', 'versus', 'actual', 'error', 'result', 'tool', 'reputation', 'false', 'positive', 'old', 'unix', 'lint', 'programming', 'program', 'early', 'example', 'debugging', 'electronic', 'hardware', 'computer', 'hardware', 'well', 'software', 'bioses', 'device', 'driver', 'firmware', 'instrument', 'oscilloscope', 'logic', 'analyzer', 'emulator', 'ice', 'often', 'used', 'alone', 'combination', 'ice', 'may', 'perform', 'many', 'typical', 'software', 'debugger', 'task', 'software', 'firmware', 'debugging', 'process', 'normally', 'first', 'step', 'debugging', 'attempt', 'reproduce', 'problem', 'task', 'example', 'parallel', 'process', 'unusual', 'software', 'bug', 'also', 'specific', 'user', 'environment', 'usage', 'history', 'make', 'difficult', 'reproduce', 'problem', 'bug', 'reproduced', 'input', 'program', 'may', 'need', 'simplified', 'make', 'easier', 'debug', 'example', 'bug', 'compiler', 'make', 'crash', 'computing', 'parsing', 'large', 'source', 'file', 'however', 'simplification', 'test', 'case', 'line', 'original', 'source', 'file', 'sufficient', 'reproduce', 'crash', 'simplification', 'made', 'manually', 'using', 'divide', 'conquer', 'approach', 'programmer', 'try', 'remove', 'part', 'original', 'test', 'case', 'check', 'problem', 'still', 'exists', 'debugging', 'problem', 'graphical', 'user', 'programmer', 'try', 'skip', 'user', 'interaction', 'original', 'problem', 'description', 'check', 'remaining', 'action', 'sufficient', 'bug', 'appear', 'test', 'case', 'sufficiently', 'simplified', 'programmer', 'use', 'debugger', 'tool', 'examine', 'program', 'state', 'value', 'variable', 'plus', 'call', 'stack', 'track', 'origin', 'problem', 'alternatively', 'tracing', 'software', 'used', 'simple', 'case', 'tracing', 'print', 'statement', 'output', 'value', 'variable', 'certain', 'point', 'program', 'execution', 'citation', 'technique', 'interactive', 'debugging', 'visible', 'debugging', 'tracing', 'act', 'watching', 'live', 'recorded', 'trace', 'statement', 'print', 'statement', 'indicate', 'flow', 'execution', 'process', 'sometimes', 'called', 'visible', 'debugging', 'due', 'use', 'printf', 'function', 'kind', 'debugging', 'turned', 'command', 'tron', 'original', 'version', 'basic', 'programming', 'language', 'tron', 'stood', 'trace', 'tron', 'caused', 'line', 'number', 'basic', 'command', 'line', 'print', 'program', 'ran', 'debugging', 'process', 'debugging', 'program', 'running', 'system', 'different', 'debugger', 'start', 'remote', 'debugging', 'debugger', 'connects', 'remote', 'system', 'network', 'debugger', 'control', 'execution', 'program', 'remote', 'system', 'retrieve', 'information', 'state', 'debugging', 'debugging', 'program', 'already', 'crash', 'computing', 'related', 'technique', 'often', 'include', 'various', 'tracing', 'technique', 'example', 'http', 'postmortem', 'debugging', 'stephen', 'wormuller', 'dobbs', 'journal', 'analysis', 'memory', 'dump', 'core', 'dump', 'crashed', 'process', 'dump', 'process', 'could', 'obtained', 'automatically', 'system', 'example', 'process', 'terminated', 'due', 'unhandled', 'exception', 'instruction', 'manually', 'interactive', 'user', 'wolf', 'fence', 'algorithm', 'edward', 'gauss', 'described', 'simple', 'useful', 'famous', 'algorithm', 'article', 'communication', 'acm', 'follows', 'one', 'wolf', 'alaska', 'find', 'first', 'build', 'fence', 'middle', 'state', 'wait', 'wolf', 'howl', 'determine', 'side', 'fence', 'repeat', 'process', 'side', 'get', 'point', 'see', 'wolf', 'ref', 'communication', 'acm', 'cite', 'journal', 'pracniques', 'wolf', 'fence', 'algorithm', 'debugging', 'gauss', 'implemented', 'git', 'software', 'version', 'control', 'system', 'command', 'git', 'bisect', 'us', 'algorithm', 'determine', 'commit', 'data', 'management', 'introduced', 'particular', 'bug', 'debugging', 'snd', 'technique', 'automating', 'test', 'case', 'zeller', 'cite', 'program', 'fail', 'guide', 'systematic', 'debugging', 'morgan', 'kaufmann', 'isbn', 'redirect', 'squeeze', 'saff', 'squeeze', 'snd', 'technique', 'isolating', 'failure', 'within', 'test', 'using', 'progressive', 'inlining', 'part', 'failing', 'test', 'http', 'kent', 'beck', 'hit', 'high', 'hit', 'low', 'regression', 'testing', 'saff', 'squeeze', 'debugging', 'embedded', 'system', 'contrast', 'general', 'purpose', 'computer', 'software', 'design', 'environment', 'primary', 'characteristic', 'embedded', 'environment', 'sheer', 'number', 'different', 'platform', 'available', 'developer', 'cpu', 'architecture', 'vendor', 'operating', 'system', 'variant', 'embedded', 'system', 'definition', 'design', 'typically', 'developed', 'single', 'task', 'small', 'range', 'task', 'platform', 'chosen', 'specifically', 'optimize', 'application', 'fact', 'make', 'life', 'tough', 'embedded', 'system', 'developer', 'also', 'make', 'debugging', 'testing', 'system', 'harder', 'well', 'since', 'different', 'debugging', 'tool', 'needed', 'different', 'platform', 'identify', 'fix', 'bug', 'system', 'logical', 'synchronization', 'problem', 'code', 'design', 'error', 'hardware', 'collect', 'information', 'operating', 'state', 'system', 'may', 'used', 'analyze', 'system', 'find', 'way', 'boost', 'performance', 'optimize', 'important', 'characteristic', 'energy', 'consumption', 'reliability', 'response', 'implementation', 'one', 'technique', 'within', 'computer', 'code', 'hinders', 'attempt', 'reverse', 'engineering', 'debugging', 'target', 'process', 'ref', 'cite', 'web', 'series', 'part', 'actively', 'used', 'recognized', 'publisher', 'copy', 'schema', 'also', 'used', 'malware', 'complicate', 'detection', 'ref', 'http', 'software', 'protection', 'michael', 'n', 'gagnon', 'stephen', 'taylor', 'anup', 'ghosh', 'technique', 'used', 'include', 'check', 'existence', 'debugger', 'using', 'system', 'information', 'check', 'see', 'exception', 'interfered', 'process', 'thread', 'block', 'check', 'whether', 'process', 'thread', 'block', 'manipulated', 'modified', 'code', 'check', 'code', 'modification', 'made', 'debugger', 'handling', 'software', 'breakpoints', 'check', 'hardware', 'breakpoints', 'cpu', 'register', 'timing', 'latency', 'check', 'time', 'taken', 'execution', 'instruction', 'detecting', 'penalizing', 'debugger', 'ref', 'reference', 'exist', 'early', 'example', 'existed', 'early', 'version', 'microsoft', 'word', 'debugger', 'detected', 'produced', 'message', 'said', 'tree', 'evil', 'bear', 'bitter', 'fruit', 'trashing', 'program', 'disk', 'caused', 'floppy', 'disk', 'drive', 'emit', 'alarming', 'noise', 'intent', 'scaring', 'user', 'away', 'attempting', 'ref', 'securityengineeringra', 'cite', 'book', 'anderson', 'engineering', 'isbn', 'ref', 'toastytech', 'cite', 'web', 'word', 'do']\n"
     ]
    }
   ],
   "source": [
    "# Instantiate the WordNetLemmatizer\n",
    "wordnet_lemmatizer = WordNetLemmatizer()\n",
    "# Lemmatize all tokens into a new list: lemmatized\n",
    "lemmatized = [wordnet_lemmatizer.lemmatize(t) for t in no_stops]\n",
    "print(len(lemmatized))\n",
    "print(lemmatized)"
   ]
  },
  {
   "cell_type": "code",
   "execution_count": 16,
   "id": "1b3a0169",
   "metadata": {
    "scrolled": true
   },
   "outputs": [
    {
     "name": "stdout",
     "output_type": "stream",
     "text": [
      "Counter({'debugging': 40, 'system': 25, 'bug': 17, 'software': 16, 'problem': 15, 'tool': 15, 'computer': 14, 'process': 13, 'term': 13, 'debugger': 13, 'used': 12, 'http': 11, 'program': 11, 'programming': 9, 'technique': 9, 'language': 9, 'error': 8, 'code': 8, 'example': 8, 'check': 8, 'also': 7, 'make': 7, 'programmer': 6, 'may': 6, 'acm': 6, 'would': 6, 'user': 6, 'case': 6, 'test': 6, 'ref': 6, 'see': 5, 'memory': 5, 'change': 5, 'debug': 5, 'article': 5, 'anomaly': 5, 'hardware': 5, 'task': 5, 'execution': 5, 'source': 5, 'wolf': 5, 'cite': 5, 'defect': 4, 'control': 4, 'testing': 4, 'dump': 4, 'design': 4, 'hopper': 4, 'early': 4, 'proceeding': 4, 'use': 4, 'computing': 4, 'national': 4, 'impact': 4, 'word': 4, 'might': 4, 'determine': 4, 'often': 4, 'value': 4, 'variable': 4, 'original': 4, 'state': 4, 'tracing': 4, 'different': 4, 'fence': 4, 'algorithm': 4, 'embedded': 4, 'interactive': 3, 'file': 3, 'mark': 3, 'moth': 3, 'grace': 3, 'journal': 3, 'first': 3, 'meeting': 3, 'common': 3, 'various': 3, 'avoid': 3, 'made': 3, 'issue': 3, 'developer': 3, 'simple': 3, 'analysis': 3, 'breakpoints': 3, 'easier': 3, 'exception': 3, 'specific': 3, 'useful': 3, 'within': 3, 'detected': 3, 'reproduce': 3, 'environment': 3, 'crash': 3, 'line': 3, 'using': 3, 'part': 3, 'print': 3, 'statement': 3, 'command': 3, 'tron': 3, 'version': 3, 'remote': 3, 'information': 3, 'squeeze': 3, 'platform': 3, 'operation': 2, 'numerous': 2, 'book': 2, 'flow': 2, 'application': 2, 'special': 2, 'detection': 2, 'origin': 2, 'entry': 2, 'nbsp': 2, 'ii': 2, 'page': 2, 'harvard': 2, 'remarked': 2, 'however': 2, 'technical': 2, 'full': 2, 'discussion': 2, 'citation': 2, 'already': 2, 'letter': 2, 'reference': 2, 'royal': 2, 'society': 2, 'time': 2, 'gill': 2, 'series': 2, 'digital': 2, 'three': 2, 'pittsburgh': 2, 'compatible': 2, 'kidwell': 2, 'stalking': 2, 'elusive': 2, 'history': 2, 'electronic': 2, 'generally': 2, 'detect': 2, 'ass': 2, 'update': 2, 'discrepancy': 2, 'assessment': 2, 'remove': 2, 'important': 2, 'situation': 2, 'known': 2, 'existence': 2, 'result': 2, 'appear': 2, 'console': 2, 'range': 2, 'complexity': 2, 'data': 2, 'available': 2, 'set': 2, 'handling': 2, 'difficult': 2, 'needed': 2, 'certain': 2, 'general': 2, 'purpose': 2, 'compiler': 2, 'thus': 2, 'checker': 2, 'exist': 2, 'checking': 2, 'large': 2, 'tree': 2, 'typical': 2, 'perform': 2, 'well': 2, 'firmware': 2, 'ice': 2, 'attempt': 2, 'simplified': 2, 'simplification': 2, 'sufficient': 2, 'manually': 2, 'try': 2, 'point': 2, 'visible': 2, 'trace': 2, 'due': 2, 'basic': 2, 'caused': 2, 'number': 2, 'include': 2, 'stephen': 2, 'instruction': 2, 'gauss': 2, 'communication': 2, 'one': 2, 'find': 2, 'side': 2, 'git': 2, 'snd': 2, 'isbn': 2, 'saff': 2, 'hit': 2, 'characteristic': 2, 'cpu': 2, 'operating': 2, 'optimize': 2, 'engineering': 2, 'web': 2, 'thread': 2, 'block': 2, 'disk': 2, 'finding': 1, 'resolving': 1, 'prevent': 1, 'correct': 1, 'written': 1, 'reading': 1, 'involves': 1, 'aspect': 1, 'including': 1, 'integration': 1, 'monitoring': 1, 'profiling': 1, 'statistical': 1, 'tactic': 1, 'improve': 1, 'simplifying': 1, 'log': 1, 'taped': 1, 'popularly': 1, 'attributed': 1, 'admiral': 1, 'foldoc': 1, 'working': 1, 'university': 1, 'associate': 1, 'discovered': 1, 'stuck': 1, 'relay': 1, 'thereby': 1, 'impeding': 1, 'whereupon': 1, 'meaning': 1, 'date': 1, 'back': 1, 'least': 1, 'thomas': 1, 'edison': 1, 'seems': 1, 'aeronautics': 1, 'entering': 1, 'world': 1, 'indeed': 1, 'interview': 1, 'coining': 1, 'fit': 1, 'existing': 1, 'terminology': 1, 'saved': 1, 'robert': 1, 'oppenheimer': 1, 'director': 1, 'wwii': 1, 'atomic': 1, 'bomb': 1, 'manhattan': 1, 'project': 1, 'los': 1, 'alamo': 1, 'nm': 1, 'ernest': 1, 'lawrence': 1, 'uc': 1, 'berkeley': 1, 'dated': 1, 'october': 1, 'regarding': 1, 'recruitment': 1, 'additional': 1, 'staff': 1, 'oxford': 1, 'english': 1, 'dictionary': 1, 'quote': 1, 'airplane': 1, 'engine': 1, 'aeronautical': 1, 'airforce': 1, 'june': 1, 'refers': 1, 'aircraft': 1, 'camera': 1, 'found': 1, 'september': 1, 'adopted': 1, 'seminal': 1, 'diagnosis': 1, 'mistake': 1, 'programme': 1, 'edsac': 1, 'london': 1, 'mathematical': 1, 'physical': 1, 'science': 1, 'vol': 1, 'pp': 1, 'earliest': 1, 'association': 1, 'library': 1, 'paper': 1, 'campbell': 1, 'evolution': 1, 'automatic': 1, 'computation': 1, 'p': 1, 'orden': 1, 'solution': 1, 'linear': 1, 'inequality': 1, 'demuth': 1, 'john': 1, 'jackson': 1, 'edmund': 1, 'klein': 1, 'metropolis': 1, 'walter': 1, 'orvedahl': 1, 'james': 1, 'richardson': 1, 'maniac': 1, 'toronto': 1, 'two': 1, 'quotation': 1, 'enough': 1, 'mentioned': 1, 'passing': 1, 'without': 1, 'explanation': 1, 'manual': 1, 'press': 1, 'peggy': 1, 'aldrich': 1, 'ieee': 1, 'annals': 1, 'discus': 1, 'etymology': 1, 'greater': 1, 'detail': 1, 'scope': 1, 'become': 1, 'complex': 1, 'expanded': 1, 'method': 1, 'schedule': 1, 'patch': 1, 'neutral': 1, 'implication': 1, 'must': 1, 'fixed': 1, 'cost': 1, 'instead': 1, 'perhaps': 1, 'scheduled': 1, 'new': 1, 'release': 1, 'render': 1, 'unnecessary': 1, 'upsetting': 1, 'living': 1, 'cure': 1, 'worse': 1, 'disease': 1, 'basing': 1, 'decision': 1, 'acceptability': 1, 'culture': 1, 'mandate': 1, 'people': 1, 'tempted': 1, 'deny': 1, 'zero': 1, 'considering': 1, 'collateral': 1, 'broader': 1, 'expand': 1, 'frequency': 1, 'occur': 1, 'help': 1, 'overall': 1, 'video': 1, 'game': 1, 'usually': 1, 'done': 1, 'xbox': 1, 'unit': 1, 'intended': 1, 'fixing': 1, 'performing': 1, 'lengthy': 1, 'tiresome': 1, 'collection': 1, 'scheduling': 1, 'skill': 1, 'major': 1, 'factor': 1, 'ability': 1, 'difficulty': 1, 'varies': 1, 'greatly': 1, 'depends': 1, 'extent': 1, 'enable': 1, 'monitor': 1, 'stop': 1, 'restart': 1, 'refer': 1, 'person': 1, 'java': 1, 'feature': 1, 'real': 1, 'erratic': 1, 'behaviour': 1, 'spot': 1, 'c': 1, 'assembly': 1, 'cause': 1, 'silent': 1, 'corruption': 1, 'initial': 1, 'happened': 1, 'nature': 1, 'take': 1, 'form': 1, 'list': 1, 'static': 1, 'look': 1, 'rare': 1, 'rarely': 1, 'picked': 1, 'interpreter': 1, 'syntax': 1, 'semantic': 1, 'claim': 1, 'able': 1, 'unique': 1, 'commercial': 1, 'free': 1, 'extremely': 1, 'impractical': 1, 'walkthroughs': 1, 'dereference': 1, 'occurs': 1, 'assigned': 1, 'another': 1, 'strong': 1, 'type': 1, 'require': 1, 'better': 1, 'locating': 1, 'likely': 1, 'versus': 1, 'actual': 1, 'reputation': 1, 'false': 1, 'positive': 1, 'old': 1, 'unix': 1, 'lint': 1, 'bioses': 1, 'device': 1, 'driver': 1, 'instrument': 1, 'oscilloscope': 1, 'logic': 1, 'analyzer': 1, 'emulator': 1, 'alone': 1, 'combination': 1, 'many': 1, 'normally': 1, 'step': 1, 'parallel': 1, 'unusual': 1, 'usage': 1, 'reproduced': 1, 'input': 1, 'need': 1, 'parsing': 1, 'divide': 1, 'conquer': 1, 'approach': 1, 'still': 1, 'exists': 1, 'graphical': 1, 'skip': 1, 'interaction': 1, 'description': 1, 'remaining': 1, 'action': 1, 'sufficiently': 1, 'examine': 1, 'plus': 1, 'call': 1, 'stack': 1, 'track': 1, 'alternatively': 1, 'output': 1, 'act': 1, 'watching': 1, 'live': 1, 'recorded': 1, 'indicate': 1, 'sometimes': 1, 'called': 1, 'printf': 1, 'function': 1, 'kind': 1, 'turned': 1, 'stood': 1, 'ran': 1, 'running': 1, 'start': 1, 'connects': 1, 'network': 1, 'retrieve': 1, 'related': 1, 'postmortem': 1, 'wormuller': 1, 'dobbs': 1, 'core': 1, 'crashed': 1, 'could': 1, 'obtained': 1, 'automatically': 1, 'terminated': 1, 'unhandled': 1, 'edward': 1, 'described': 1, 'famous': 1, 'follows': 1, 'alaska': 1, 'build': 1, 'middle': 1, 'wait': 1, 'howl': 1, 'repeat': 1, 'get': 1, 'pracniques': 1, 'implemented': 1, 'bisect': 1, 'us': 1, 'commit': 1, 'management': 1, 'introduced': 1, 'particular': 1, 'automating': 1, 'zeller': 1, 'fail': 1, 'guide': 1, 'systematic': 1, 'morgan': 1, 'kaufmann': 1, 'redirect': 1, 'isolating': 1, 'failure': 1, 'progressive': 1, 'inlining': 1, 'failing': 1, 'kent': 1, 'beck': 1, 'high': 1, 'low': 1, 'regression': 1, 'contrast': 1, 'primary': 1, 'sheer': 1, 'architecture': 1, 'vendor': 1, 'variant': 1, 'definition': 1, 'typically': 1, 'developed': 1, 'single': 1, 'small': 1, 'chosen': 1, 'specifically': 1, 'fact': 1, 'life': 1, 'tough': 1, 'harder': 1, 'since': 1, 'identify': 1, 'fix': 1, 'logical': 1, 'synchronization': 1, 'collect': 1, 'analyze': 1, 'way': 1, 'boost': 1, 'performance': 1, 'energy': 1, 'consumption': 1, 'reliability': 1, 'response': 1, 'implementation': 1, 'hinders': 1, 'reverse': 1, 'target': 1, 'actively': 1, 'recognized': 1, 'publisher': 1, 'copy': 1, 'schema': 1, 'malware': 1, 'complicate': 1, 'protection': 1, 'michael': 1, 'n': 1, 'gagnon': 1, 'taylor': 1, 'anup': 1, 'ghosh': 1, 'interfered': 1, 'whether': 1, 'manipulated': 1, 'modified': 1, 'modification': 1, 'register': 1, 'timing': 1, 'latency': 1, 'taken': 1, 'detecting': 1, 'penalizing': 1, 'existed': 1, 'microsoft': 1, 'produced': 1, 'message': 1, 'said': 1, 'evil': 1, 'bear': 1, 'bitter': 1, 'fruit': 1, 'trashing': 1, 'floppy': 1, 'drive': 1, 'emit': 1, 'alarming': 1, 'noise': 1, 'intent': 1, 'scaring': 1, 'away': 1, 'attempting': 1, 'securityengineeringra': 1, 'anderson': 1, 'toastytech': 1, 'do': 1})\n"
     ]
    }
   ],
   "source": [
    "bow = Counter(lemmatized)\n",
    "print(bow)"
   ]
  },
  {
   "cell_type": "code",
   "execution_count": 17,
   "id": "5564fa4b",
   "metadata": {},
   "outputs": [
    {
     "data": {
      "text/plain": [
       "[('debugging', 40),\n",
       " ('system', 25),\n",
       " ('bug', 17),\n",
       " ('software', 16),\n",
       " ('problem', 15),\n",
       " ('tool', 15),\n",
       " ('computer', 14),\n",
       " ('process', 13),\n",
       " ('term', 13),\n",
       " ('debugger', 13),\n",
       " ('used', 12),\n",
       " ('http', 11),\n",
       " ('program', 11),\n",
       " ('programming', 9),\n",
       " ('technique', 9),\n",
       " ('language', 9),\n",
       " ('error', 8),\n",
       " ('code', 8),\n",
       " ('example', 8),\n",
       " ('check', 8)]"
      ]
     },
     "execution_count": 17,
     "metadata": {},
     "output_type": "execute_result"
    }
   ],
   "source": [
    "bow.most_common(20)"
   ]
  },
  {
   "cell_type": "code",
   "execution_count": null,
   "id": "0225310e",
   "metadata": {},
   "outputs": [],
   "source": []
  },
  {
   "cell_type": "markdown",
   "id": "b85b0cdc",
   "metadata": {},
   "source": [
    "### Introduction to gensim\n",
    "\n",
    "Now, we will get started using a new tool called Gensim.\n",
    "\n",
    "### What is gensim?\n",
    "\n",
    "**Gensim** is a popular open-source natural language processing library. It uses top academic models to perform complex tasks like building `document` or `word vectors`, `corpora` and performing `topic identification` and `document comparisons`.\n",
    "\n",
    "### What is a word vector?\n",
    "\n",
    "A word embedding or vector is trained from a larger corpus and is a multi-dimensional representation of a word or document. You can think of it as a multi-dimensional array normally with sparse features (lots of zeros and some ones). With these vectors, we can then see relationships among the words or documents based on how near or far they are and also what similar comparisons we find. \n",
    "\n",
    "Word vectors are multi-dimensional mathematical representations of words created using deep learning methods. They give us insight into relationships between words in a corpus\n",
    "\n",
    "<img src=\"wv.jpg\" style=\"max-width:600px\">\n",
    "\n",
    "For example, in this graphic we can see that the vector operation king minus queen is approximately equal to man minus woman. Or that Spain is to Madrid as Italy is to Rome. The deep learning algorithm used to create word vectors has been able to distill this meaning based on how those words are used throughout the text.\n",
    "\n",
    "\n",
    "### Gensim example\n",
    "\n",
    "<img src=\"wv-1.jpg\" style=\"max-width:600px\">\n",
    "\n",
    "The graphic we have here is an example of LDA visualization. LDA stands for latent dirichlet allocation, and it is a statistical model we can apply to text using Gensim for topic analysis and modelling. This graph is just a portion of a blog post written in 2015 using Gensim to analyze US presidential addresses.\n",
    "\n",
    "\n",
    "### Creating a gensim dictionary\n",
    "\n",
    "Gensim allows you to build corpora and dictionaries using simple classes and functions. \n",
    "\n",
    "A corpus (or if plural, corpora) is a set of texts used to help perform natural language processing tasks. Here, our documents are a list of strings that look like movie reviews about space or sci-fi films. \n",
    "\n",
    "<img src=\"g.jpg\" style=\"max-width:600px\">\n",
    "\n",
    "- First we need to do some basic preprocessing. For brevity, we will only tokenize and lowercase. \n",
    "\n",
    "\n",
    "- For better results, we would want to apply more of the preprocessing we have learned in this chapter, such as removing punctuation and stop words. \n",
    "\n",
    "\n",
    "- Then we can pass the tokenized documents to the Gensim Dictionary class. This will create a mapping with an id for each token. This is the beginning of our corpus. We now can represent whole documents using just a list of their token ids and how often those tokens appear in each document. \n",
    "\n",
    "\n",
    "-  We can take a look at the tokens and their ids by looking at the token2id attribute, which is a dictionary of all of our tokens and their respective ids in our new dictionary.\n",
    "\n",
    "### Creating a gensim corpus\n",
    "\n",
    "Using the dictionary we built, we can then create a Gensim corpus. This is a bit different than a normal corpus -- which is just a collection of documents. \n",
    "\n",
    "Gensim uses a simple bag-of-words model which transforms each document into a bag of words using the token ids and the frequency of each token in the document. \n",
    "\n",
    "<img src=\"g-2.jpg\" style=\"max-width:600px\">\n",
    "\n",
    "-Here, we can see that the Gensim corpus is a list of lists, each list item representing one document. \n",
    "\n",
    "\n",
    "- Each document a series of tuples, the first item representing the tokenid from the dictionary and the second item representing the token frequency in the document. \n",
    "\n",
    "\n",
    "In only a few lines, we have a new bag-of-words model and corpus thanks to Gensim. And unlike our previous Counter-based bag of words, this Gensim model can be easily saved, updated and reused thanks to the extra tools we have available in Gensim. \n",
    "\n",
    "Our dictionary can also be updated with new texts and extract only words that meet particular thresholds. We are building a more advanced and feature-rich bag-of-words model which can then be used for future exercises."
   ]
  },
  {
   "cell_type": "code",
   "execution_count": 28,
   "id": "f961b4cf",
   "metadata": {},
   "outputs": [],
   "source": [
    "from gensim.corpora.dictionary import Dictionary\n",
    "from nltk.tokenize import word_tokenize\n",
    "my_documents = ['The movie was about a spaceship and aliens.', 'I really liked the movie!', \n",
    "                'Awesome action scenes, but boring characters.','The movie was awful! I hate alien films.',\n",
    "                'Space is cool! I liked the movie.', 'More space films, please!']"
   ]
  },
  {
   "cell_type": "code",
   "execution_count": 34,
   "id": "7baa72c7",
   "metadata": {
    "scrolled": true
   },
   "outputs": [
    {
     "name": "stdout",
     "output_type": "stream",
     "text": [
      "Dictionary(29 unique tokens: ['.', 'a', 'about', 'aliens', 'and']...)\n",
      "{'.': 0, 'a': 1, 'about': 2, 'aliens': 3, 'and': 4, 'movie': 5, 'spaceship': 6, 'the': 7, 'was': 8, '!': 9, 'i': 10, 'liked': 11, 'really': 12, ',': 13, 'action': 14, 'awesome': 15, 'boring': 16, 'but': 17, 'characters': 18, 'scenes': 19, 'alien': 20, 'awful': 21, 'films': 22, 'hate': 23, 'cool': 24, 'is': 25, 'space': 26, 'more': 27, 'please': 28}\n"
     ]
    }
   ],
   "source": [
    "tokenized_docs = [word_tokenize(doc.lower()) for doc in my_documents]\n",
    "dictionary = Dictionary(tokenized_docs)\n",
    "print(dictionary)\n",
    "print(dictionary.token2id)"
   ]
  },
  {
   "cell_type": "code",
   "execution_count": 75,
   "id": "181ae278",
   "metadata": {},
   "outputs": [
    {
     "name": "stdout",
     "output_type": "stream",
     "text": [
      "16\n",
      "3\n"
     ]
    }
   ],
   "source": [
    "## Getting the id of a token\n",
    "## suppose we want the id of token 'boring', 'aliens'\n",
    "\n",
    "boring_id = dictionary.token2id.get('boring')\n",
    "print(boring_id)\n",
    "\n",
    "aliens_id = dictionary.token2id.get('aliens')\n",
    "print(aliens_id)"
   ]
  },
  {
   "cell_type": "code",
   "execution_count": 52,
   "id": "0ae3049a",
   "metadata": {},
   "outputs": [],
   "source": [
    "from collections import defaultdict\n",
    "import itertools"
   ]
  },
  {
   "cell_type": "code",
   "execution_count": 53,
   "id": "e5ccc79e",
   "metadata": {},
   "outputs": [
    {
     "name": "stdout",
     "output_type": "stream",
     "text": [
      "[[(0, 1), (1, 1), (2, 1), (3, 1), (4, 1), (5, 1), (6, 1), (7, 1), (8, 1)], [(5, 1), (7, 1), (9, 1), (10, 1), (11, 1), (12, 1)], [(0, 1), (13, 1), (14, 1), (15, 1), (16, 1), (17, 1), (18, 1), (19, 1)], [(0, 1), (5, 1), (7, 1), (8, 1), (9, 1), (10, 1), (20, 1), (21, 1), (22, 1), (23, 1)], [(0, 1), (5, 1), (7, 1), (9, 1), (10, 1), (11, 1), (24, 1), (25, 1), (26, 1)], [(9, 1), (13, 1), (22, 1), (26, 1), (27, 1), (28, 1)]]\n",
      "6\n"
     ]
    }
   ],
   "source": [
    "corpus = [dictionary.doc2bow(doc) for doc in tokenized_docs]\n",
    "print(corpus)\n",
    "print(len(corpus))"
   ]
  },
  {
   "cell_type": "code",
   "execution_count": 54,
   "id": "c57d9fbc",
   "metadata": {
    "scrolled": true
   },
   "outputs": [
    {
     "name": "stdout",
     "output_type": "stream",
     "text": [
      "defaultdict(<class 'int'>, {0: 4, 1: 1, 2: 1, 3: 1, 4: 1, 5: 4, 6: 1, 7: 4, 8: 2, 9: 4, 10: 3, 11: 2, 12: 1, 13: 2, 14: 1, 15: 1, 16: 1, 17: 1, 18: 1, 19: 1, 20: 1, 21: 1, 22: 2, 23: 1, 24: 1, 25: 1, 26: 2, 27: 1, 28: 1})\n"
     ]
    }
   ],
   "source": [
    "# Create the defaultdict: total_word_count\n",
    "total_word_count = defaultdict(int)\n",
    "for word_id, word_count in itertools.chain.from_iterable(corpus):\n",
    "    total_word_count[word_id] += word_count\n",
    "print(total_word_count)"
   ]
  },
  {
   "cell_type": "code",
   "execution_count": 82,
   "id": "33dc2ed7",
   "metadata": {
    "scrolled": true
   },
   "outputs": [
    {
     "name": "stdout",
     "output_type": "stream",
     "text": [
      "{0: 4, 1: 1, 2: 1, 3: 1, 4: 1, 5: 4, 6: 1, 7: 4, 8: 2, 9: 4, 10: 3, 11: 2, 12: 1, 13: 2, 14: 1, 15: 1, 16: 1, 17: 1, 18: 1, 19: 1, 20: 1, 21: 1, 22: 2, 23: 1, 24: 1, 25: 1, 26: 2, 27: 1, 28: 1}\n"
     ]
    }
   ],
   "source": [
    "total_word_count = {}\n",
    "\n",
    "for corpora in corpus:\n",
    "    for word_id, word_count in corpora:\n",
    "        if word_id not in total_word_count:\n",
    "            total_word_count[word_id] = 1\n",
    "        else:\n",
    "            total_word_count[word_id] += 1 \n",
    "print(total_word_count)        "
   ]
  },
  {
   "cell_type": "code",
   "execution_count": 86,
   "id": "0e75045a",
   "metadata": {
    "scrolled": true
   },
   "outputs": [
    {
     "name": "stdout",
     "output_type": "stream",
     "text": [
      ". 4\n",
      "movie 4\n",
      "the 4\n",
      "! 4\n",
      "i 3\n",
      "was 2\n",
      "liked 2\n",
      ", 2\n",
      "films 2\n",
      "space 2\n",
      "a 1\n",
      "about 1\n",
      "aliens 1\n",
      "and 1\n",
      "spaceship 1\n",
      "really 1\n",
      "action 1\n",
      "awesome 1\n",
      "boring 1\n",
      "but 1\n",
      "characters 1\n",
      "scenes 1\n",
      "alien 1\n",
      "awful 1\n",
      "hate 1\n",
      "cool 1\n",
      "is 1\n",
      "more 1\n",
      "please 1\n"
     ]
    }
   ],
   "source": [
    "# Create a sorted list from the defaultdict: sorted_word_count\n",
    "sorted_word_count = sorted(total_word_count.items(), key=lambda w: w[1], reverse=True) \n",
    "#print(sorted_word_count)\n",
    "\n",
    "# Print the top 5 words across all documents alongside the count\n",
    "for word_id, word_count in sorted_word_count:\n",
    "    print(dictionary.get(word_id), word_count)"
   ]
  },
  {
   "cell_type": "code",
   "execution_count": 81,
   "id": "35258d8c",
   "metadata": {
    "scrolled": true
   },
   "outputs": [
    {
     "name": "stdout",
     "output_type": "stream",
     "text": [
      "[(0, 1), (1, 1), (2, 1), (3, 1), (4, 1), (5, 1), (6, 1), (7, 1), (8, 1)]\n",
      ". 1\n",
      "a 1\n",
      "about 1\n",
      "aliens 1\n",
      "and 1\n",
      "movie 1\n",
      "spaceship 1\n",
      "the 1\n",
      "was 1\n",
      "[(5, 1), (7, 1), (9, 1), (10, 1), (11, 1), (12, 1)]\n",
      "movie 1\n",
      "the 1\n",
      "! 1\n",
      "i 1\n",
      "liked 1\n",
      "really 1\n",
      "[(0, 1), (13, 1), (14, 1), (15, 1), (16, 1), (17, 1), (18, 1), (19, 1)]\n",
      ". 1\n",
      ", 1\n",
      "action 1\n",
      "awesome 1\n",
      "boring 1\n",
      "but 1\n",
      "characters 1\n",
      "scenes 1\n",
      "[(0, 1), (5, 1), (7, 1), (8, 1), (9, 1), (10, 1), (20, 1), (21, 1), (22, 1), (23, 1)]\n",
      ". 1\n",
      "movie 1\n",
      "the 1\n",
      "was 1\n",
      "! 1\n",
      "i 1\n",
      "alien 1\n",
      "awful 1\n",
      "films 1\n",
      "hate 1\n",
      "[(0, 1), (5, 1), (7, 1), (9, 1), (10, 1), (11, 1), (24, 1), (25, 1), (26, 1)]\n",
      ". 1\n",
      "movie 1\n",
      "the 1\n",
      "! 1\n",
      "i 1\n",
      "liked 1\n",
      "cool 1\n",
      "is 1\n",
      "space 1\n",
      "[(9, 1), (13, 1), (22, 1), (26, 1), (27, 1), (28, 1)]\n",
      "! 1\n",
      ", 1\n",
      "films 1\n",
      "space 1\n",
      "more 1\n",
      "please 1\n"
     ]
    }
   ],
   "source": [
    "for doc in corpus:\n",
    "    bow_doc = sorted(doc, key=lambda w: w[1], reverse=True)\n",
    "    print(bow_doc)\n",
    "    for word_id, word_count in bow_doc:\n",
    "        print(dictionary.get(word_id), word_count)\n"
   ]
  },
  {
   "cell_type": "markdown",
   "id": "e18dfaab",
   "metadata": {},
   "source": [
    "### What is tf-idf?\n",
    "\n",
    "**Tf-idf** stands for term-frequncy - inverse document frequency. It is a commonly used natural language processing model that helps you determine the most important words in each document in the corpus. \n",
    "\n",
    "The idea behind tf-idf is that each corpus might have more shared words than just stopwords. These common words are like stopwords and should be removed or at least down-weighted in importance. \n",
    "\n",
    "For example, if I am an astronomer, 'sky' might be used often but is not important, so I want to downweight that word. TF-Idf does precisely that. It will take texts that share common language and ensure the most common words across the entire corpus don't show up as keywords. \n",
    "\n",
    "Tf-idf helps keep the document-specific frequent words weighted high and the common words across the entire corpus weighted low.\n",
    "\n",
    "### Tf-idf formula\n",
    "\n",
    "<img src=\"tf.jpg\" style=\"max-width:600px\">\n",
    "\n",
    "The equation to calculate the weights can be outlined like so: The weight of token i in document j is calculated by taking the term frequency (or how many times the token appears in the document) multiplied by the log of the total number of documents divided by the number of documents that contain the same term. \n",
    "\n",
    "Let's unpack this a bit. First, the weight will be low if the term doesnt appear often in the document because the tf variable will then be low. However, the weight will also be a low if the logarithm is close to zero, meaning the internal equation is low. Here we can see if the total number of documents divded by the number of documents that have the term is close to one, then our logarithm will be close to zero. So words that occur across many or all documents will have a very low tf-idf weight. On the contrary, if the word only occurs in a few documents, that logarithm will return a higher number."
   ]
  },
  {
   "cell_type": "markdown",
   "id": "e34fbdb1",
   "metadata": {},
   "source": [
    "## Exercise: \n",
    "\n",
    "You want to calculate the tf-idf weight for the word \"computer\", which appears 5 times in a document containing 100 words. \n",
    "\n",
    "Given a corpus containing 200 documents, with 20 documents mentioning the word \"computer\", tf-idf can be calculated by multiplying term frequency with inverse document frequency.\n",
    "\n",
    "Term frequency = percentage share of the word compared to all tokens in the document Inverse document frequency = logarithm of the total number of documents in a corpora divided by the number of documents containing the term"
   ]
  },
  {
   "cell_type": "code",
   "execution_count": 95,
   "id": "201492e3",
   "metadata": {},
   "outputs": [],
   "source": [
    "tf = 5/100\n",
    "N = 200\n",
    "df = 20"
   ]
  },
  {
   "cell_type": "code",
   "execution_count": 94,
   "id": "284f8137",
   "metadata": {},
   "outputs": [],
   "source": [
    "import numpy as np"
   ]
  },
  {
   "cell_type": "code",
   "execution_count": 96,
   "id": "f5c756c5",
   "metadata": {},
   "outputs": [
    {
     "data": {
      "text/plain": [
       "0.1151292546497023"
      ]
     },
     "execution_count": 96,
     "metadata": {},
     "output_type": "execute_result"
    }
   ],
   "source": [
    "w = tf * np.log(N / df)\n",
    "w"
   ]
  },
  {
   "cell_type": "code",
   "execution_count": 87,
   "id": "8af9351f",
   "metadata": {},
   "outputs": [],
   "source": [
    "from gensim.models.tfidfmodel import TfidfModel"
   ]
  },
  {
   "cell_type": "code",
   "execution_count": 88,
   "id": "bd18e922",
   "metadata": {},
   "outputs": [],
   "source": [
    "my_documents = ['The movie was about a spaceship and aliens.', 'I really liked the movie!', \n",
    "                'Awesome action scenes, but boring characters.','The movie was awful! I hate alien films.',\n",
    "                'Space is cool! I liked the movie.', 'More space films, please!']\n",
    "\n",
    "tokenized_docs = [word_tokenize(doc.lower()) for doc in my_documents]\n",
    "dictionary = Dictionary(tokenized_docs)\n",
    "corpus = [dictionary.doc2bow(doc) for doc in tokenized_docs]"
   ]
  },
  {
   "cell_type": "markdown",
   "id": "36d67169",
   "metadata": {},
   "source": [
    "### Tf-idf with gensim\n",
    "\n",
    "You can build a Tfidf model using Gensim and the corpus you developed previously. Taking a look at the corpus we used in the last video, around movie reviews, we can use the Bag of Words corpus to translate it into a TF-idf model by simply passing it in initialization. We can then reference each document by using it like a dictionary key with our new tfidf model. "
   ]
  },
  {
   "cell_type": "code",
   "execution_count": 101,
   "id": "8926132c",
   "metadata": {
    "scrolled": true
   },
   "outputs": [
    {
     "data": {
      "text/plain": [
       "[(5, 0.1746298276735174),\n",
       " (7, 0.1746298276735174),\n",
       " (9, 0.1746298276735174),\n",
       " (10, 0.29853166221463673),\n",
       " (11, 0.47316148988815415),\n",
       " (12, 0.7716931521027908)]"
      ]
     },
     "execution_count": 101,
     "metadata": {},
     "output_type": "execute_result"
    }
   ],
   "source": [
    "# Create a new TfidfModel using the corpus: tfidf\n",
    "tfidf = TfidfModel(corpus)\n",
    "tfidf_weight = tfidf[corpus[1]] \n",
    "tfidf_weight"
   ]
  },
  {
   "cell_type": "markdown",
   "id": "904be839",
   "metadata": {},
   "source": [
    "For the second document in our corpora, we see the token weights along with the token ids. Notice there are some large differences! Token id 12 has a weight of 0.77 whereas tokens 5,7,9 have weights below 0.18. These weights can help you determine good topics and keywords for a corpus with shared vocabulary."
   ]
  },
  {
   "cell_type": "markdown",
   "id": "3eb970d2",
   "metadata": {},
   "source": [
    "Now it's your turn to determine new significant terms for your corpus by applying gensim's tf-idf. You will again have access to the same corpus and dictionary objects you created in the previous exercises - dictionary, corpus, and doc."
   ]
  },
  {
   "cell_type": "code",
   "execution_count": 102,
   "id": "4a9603ed",
   "metadata": {
    "scrolled": false
   },
   "outputs": [
    {
     "name": "stdout",
     "output_type": "stream",
     "text": [
      "[(0, 0.0962338424792598), (1, 0.4252595231361236), (2, 0.4252595231361236)]\n",
      "[(5, 0.1746298276735174), (7, 0.1746298276735174), (9, 0.1746298276735174)]\n",
      "[(0, 0.08926151827345048), (13, 0.2418550916450883), (14, 0.3944486650167261)]\n",
      "[(0, 0.11167183378630395), (5, 0.11167183378630395), (7, 0.11167183378630395)]\n",
      "[(0, 0.12839429999391858), (5, 0.12839429999391858), (7, 0.12839429999391858)]\n",
      "[(9, 0.1269183979212522), (13, 0.34388683224786987), (22, 0.34388683224786987)]\n"
     ]
    }
   ],
   "source": [
    "# Calculate the first 3 tfidf weights of all doc\n",
    "for doc in corpus:\n",
    "    print(tfidf[doc][0:3])"
   ]
  },
  {
   "cell_type": "markdown",
   "id": "2d705f6a",
   "metadata": {},
   "source": []
  },
  {
   "cell_type": "code",
   "execution_count": null,
   "id": "dff3ef48",
   "metadata": {},
   "outputs": [],
   "source": []
  },
  {
   "cell_type": "code",
   "execution_count": null,
   "id": "3b0efb49",
   "metadata": {},
   "outputs": [],
   "source": []
  },
  {
   "cell_type": "code",
   "execution_count": null,
   "id": "59bde5a2",
   "metadata": {},
   "outputs": [],
   "source": []
  },
  {
   "cell_type": "code",
   "execution_count": null,
   "id": "4f21e578",
   "metadata": {},
   "outputs": [],
   "source": []
  },
  {
   "cell_type": "code",
   "execution_count": null,
   "id": "83700ae0",
   "metadata": {},
   "outputs": [],
   "source": []
  },
  {
   "cell_type": "code",
   "execution_count": null,
   "id": "6a85806c",
   "metadata": {},
   "outputs": [],
   "source": []
  },
  {
   "cell_type": "code",
   "execution_count": null,
   "id": "516aa2bd",
   "metadata": {},
   "outputs": [],
   "source": []
  },
  {
   "cell_type": "code",
   "execution_count": null,
   "id": "f1391ebb",
   "metadata": {},
   "outputs": [],
   "source": []
  },
  {
   "cell_type": "code",
   "execution_count": null,
   "id": "a1762bf7",
   "metadata": {},
   "outputs": [],
   "source": []
  },
  {
   "cell_type": "code",
   "execution_count": null,
   "id": "44ab0e6e",
   "metadata": {},
   "outputs": [],
   "source": []
  },
  {
   "cell_type": "code",
   "execution_count": null,
   "id": "21227f1b",
   "metadata": {},
   "outputs": [],
   "source": []
  },
  {
   "cell_type": "code",
   "execution_count": null,
   "id": "24a4726a",
   "metadata": {},
   "outputs": [],
   "source": []
  },
  {
   "cell_type": "code",
   "execution_count": null,
   "id": "4a0586cf",
   "metadata": {},
   "outputs": [],
   "source": []
  },
  {
   "cell_type": "code",
   "execution_count": null,
   "id": "ae4dcacd",
   "metadata": {},
   "outputs": [],
   "source": []
  },
  {
   "cell_type": "code",
   "execution_count": null,
   "id": "e919f989",
   "metadata": {},
   "outputs": [],
   "source": []
  },
  {
   "cell_type": "code",
   "execution_count": null,
   "id": "04aa4cb4",
   "metadata": {},
   "outputs": [],
   "source": []
  },
  {
   "cell_type": "code",
   "execution_count": null,
   "id": "5f884949",
   "metadata": {},
   "outputs": [],
   "source": []
  },
  {
   "cell_type": "code",
   "execution_count": null,
   "id": "6dcbca91",
   "metadata": {},
   "outputs": [],
   "source": []
  },
  {
   "cell_type": "code",
   "execution_count": null,
   "id": "ba9c4b18",
   "metadata": {},
   "outputs": [],
   "source": []
  },
  {
   "cell_type": "code",
   "execution_count": null,
   "id": "798f7a69",
   "metadata": {},
   "outputs": [],
   "source": []
  },
  {
   "cell_type": "code",
   "execution_count": null,
   "id": "538d485c",
   "metadata": {},
   "outputs": [],
   "source": []
  }
 ],
 "metadata": {
  "kernelspec": {
   "display_name": "Python 3 (ipykernel)",
   "language": "python",
   "name": "python3"
  },
  "language_info": {
   "codemirror_mode": {
    "name": "ipython",
    "version": 3
   },
   "file_extension": ".py",
   "mimetype": "text/x-python",
   "name": "python",
   "nbconvert_exporter": "python",
   "pygments_lexer": "ipython3",
   "version": "3.9.7"
  }
 },
 "nbformat": 4,
 "nbformat_minor": 5
}
