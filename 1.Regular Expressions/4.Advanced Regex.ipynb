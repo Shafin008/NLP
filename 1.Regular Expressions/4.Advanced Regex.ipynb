{
 "cells": [
  {
   "cell_type": "code",
   "execution_count": 1,
   "id": "f86ee3dd",
   "metadata": {},
   "outputs": [],
   "source": [
    "import re"
   ]
  },
  {
   "cell_type": "markdown",
   "id": "097f2c14",
   "metadata": {},
   "source": [
    "### Grouping and capturing\n",
    "\n",
    "In the last stop of our journey, we are going to talk about some advanced concepts of regex. More specifically, we'll talk about capturing groups.\n",
    "\n",
    "####  Group characters\n",
    "Let's say that we have the following text. And we want to extract information about a person, how many and which type of relationships they have. \n",
    "\n",
    "\n",
    "<img src=\"group.jpg\" style=\"max-width:600px\">\n",
    "\n",
    "\n",
    "So, we want to extract- \n",
    "\n",
    "- Clary 2 friends, \n",
    "\n",
    "- Susan 3 brothers and \n",
    "\n",
    "- John 4 sisters, as you can see in the slide. We know the structure of the sentences. \n",
    "\n",
    "Let's try our first approach. We would write something like in the code, any upper or lowercase letter, whitespace, any word character, whitespace, a number, whitespace and any word character. Let's see the output."
   ]
  },
  {
   "cell_type": "code",
   "execution_count": 2,
   "id": "114ab1ce",
   "metadata": {},
   "outputs": [
    {
     "data": {
      "text/plain": [
       "'Clary has 2 friends who she spends a lot of time with. Susan has 3 brothers while John has 3 sisters'"
      ]
     },
     "execution_count": 2,
     "metadata": {},
     "output_type": "execute_result"
    }
   ],
   "source": [
    "text = \"Clary has 2 friends who she spends a lot of time with. Susan has 3 brothers while John has 3 sisters\"\n",
    "text"
   ]
  },
  {
   "cell_type": "code",
   "execution_count": 3,
   "id": "1d4c0881",
   "metadata": {},
   "outputs": [
    {
     "data": {
      "text/plain": [
       "['Clary has 2 friends', 'Susan has 3 brothers', 'John has 3 sisters']"
      ]
     },
     "execution_count": 3,
     "metadata": {},
     "output_type": "execute_result"
    }
   ],
   "source": [
    "re.findall(r'[A-Za-z]+\\s\\w+\\s\\d+\\s\\w+', text)"
   ]
  },
  {
   "cell_type": "markdown",
   "id": "853724aa",
   "metadata": {},
   "source": [
    "Quite close. But we don't want the word `has`.\n",
    "\n",
    "\n",
    "What can we do about this? We start simple by trying to extract only the names. We can place parentheses to group those characters as shown in the slide. Capture them. And retrieve only that group.\n",
    "\n",
    "<img src=\"p.jpg\" style=\"max-width:600px\">\n",
    "\n",
    "In the code, we have now added parentheses to group our first part of the regex. "
   ]
  },
  {
   "cell_type": "code",
   "execution_count": 5,
   "id": "11b7ed40",
   "metadata": {},
   "outputs": [
    {
     "data": {
      "text/plain": [
       "'Clary has 2 friends who she spends a lot of time with. Susan has 3 brothers while John has 3 sisters'"
      ]
     },
     "execution_count": 5,
     "metadata": {},
     "output_type": "execute_result"
    }
   ],
   "source": [
    "text = \"Clary has 2 friends who she spends a lot of time with. Susan has 3 brothers while John has 3 sisters\"\n",
    "text"
   ]
  },
  {
   "cell_type": "code",
   "execution_count": 6,
   "id": "1c3c75f9",
   "metadata": {
    "scrolled": true
   },
   "outputs": [
    {
     "data": {
      "text/plain": [
       "['Clary', 'Susan', 'John']"
      ]
     },
     "execution_count": 6,
     "metadata": {},
     "output_type": "execute_result"
    }
   ],
   "source": [
    "re.findall(r'([A-Za-z]+)\\s\\w+\\s\\d+\\s\\w+', text)"
   ]
  },
  {
   "cell_type": "markdown",
   "id": "9d326cdb",
   "metadata": {},
   "source": [
    "We can observe in the output that the group was captured. And only the three names were retrieved."
   ]
  },
  {
   "cell_type": "markdown",
   "id": "0f4cd08c",
   "metadata": {},
   "source": [
    "Let's look at the example again. We can place parentheses around the three groups that we want to capture. Each group will receive a number. The entire expression will always be group zero. The first group one, the second two, and the third number three. We'll see how to use these numbers later.\n",
    "\n",
    "<img src=\"gr-1.jpg\" style=\"max-width:600px\">\n",
    "\n",
    "Let's see this in the code example. We add the parentheses to group together each of the three parts of the regex. "
   ]
  },
  {
   "cell_type": "code",
   "execution_count": 9,
   "id": "8964d9ad",
   "metadata": {},
   "outputs": [
    {
     "data": {
      "text/plain": [
       "'Clary has 2 friends who she spends a lot of time with. Susan has 3 brothers while John has 3 sisters'"
      ]
     },
     "execution_count": 9,
     "metadata": {},
     "output_type": "execute_result"
    }
   ],
   "source": [
    "text = \"Clary has 2 friends who she spends a lot of time with. Susan has 3 brothers while John has 3 sisters\"\n",
    "text"
   ]
  },
  {
   "cell_type": "code",
   "execution_count": 8,
   "id": "fd810108",
   "metadata": {},
   "outputs": [
    {
     "data": {
      "text/plain": [
       "[('Clary', '2', 'friends'),\n",
       " ('Susan', '3', 'brothers'),\n",
       " ('John', '3', 'sisters')]"
      ]
     },
     "execution_count": 8,
     "metadata": {},
     "output_type": "execute_result"
    }
   ],
   "source": [
    "re.findall(r'([A-Za-z]+)\\s\\w+\\s(\\d+)\\s(\\w+)', text)"
   ]
  },
  {
   "cell_type": "markdown",
   "id": "4ed58a9a",
   "metadata": {},
   "source": [
    "In the output, we got a list of tuples. The first element of each tuple is the match captured corresponding to group one. The second to group two. The last to group three."
   ]
  },
  {
   "cell_type": "markdown",
   "id": "3e911267",
   "metadata": {},
   "source": [
    "### Capturing groups Contd..\n",
    "As we already discussed, we can use capturing groups to match a specific subpattern in a pattern. \n",
    "\n",
    "But we can also use it to organize data. As you saw earlier, the matches are retrieved as lists. \n"
   ]
  },
  {
   "cell_type": "code",
   "execution_count": 11,
   "id": "b236787d",
   "metadata": {},
   "outputs": [
    {
     "data": {
      "text/plain": [
       "[('Clary', '2', 'dogs'), ('John', '3', 'cats')]"
      ]
     },
     "execution_count": 11,
     "metadata": {},
     "output_type": "execute_result"
    }
   ],
   "source": [
    "pets = re.findall(r'([A-Za-z]+)\\s\\w+\\s(\\d+)\\s(\\w+)', \"Clary has 2 dogs but John has 3 cats\")\n",
    "pets"
   ]
  },
  {
   "cell_type": "code",
   "execution_count": 12,
   "id": "eb2fbc7a",
   "metadata": {},
   "outputs": [
    {
     "data": {
      "text/plain": [
       "'Clary'"
      ]
     },
     "execution_count": 12,
     "metadata": {},
     "output_type": "execute_result"
    }
   ],
   "source": [
    "pets[0][0]"
   ]
  },
  {
   "cell_type": "markdown",
   "id": "7fbb8be3",
   "metadata": {},
   "source": [
    "In the code, we placed the parentheses to capture the name of the owner, the number and which type of pets each one has. We can access the information retrieved by using indexing and slicing as seen in the code. "
   ]
  },
  {
   "cell_type": "markdown",
   "id": "362a17a4",
   "metadata": {},
   "source": [
    "###  Capturing groups contd..\n",
    "\n",
    "But capturing groups have one important feature. Remember that quantifiers apply to the character immediately to the left. So, we can place parentheses to group characters and then apply the quantifier to the entire group. \n",
    "\n",
    "<img src=\"qu.jpg\" style=\"max-width:600px\">"
   ]
  },
  {
   "cell_type": "code",
   "execution_count": 13,
   "id": "33782b86",
   "metadata": {},
   "outputs": [
    {
     "data": {
      "text/plain": [
       "<re.Match object; span=(16, 18), match='3e'>"
      ]
     },
     "execution_count": 13,
     "metadata": {},
     "output_type": "execute_result"
    }
   ],
   "source": [
    "re.search(r\"\\d[A-Za-z]+\", \"My user name is 3e4r5fg\")"
   ]
  },
  {
   "cell_type": "code",
   "execution_count": 14,
   "id": "98c1d8e2",
   "metadata": {},
   "outputs": [
    {
     "data": {
      "text/plain": [
       "<re.Match object; span=(16, 22), match='3e4r5f'>"
      ]
     },
     "execution_count": 14,
     "metadata": {},
     "output_type": "execute_result"
    }
   ],
   "source": [
    "## Apply a quantifier to the entire group\n",
    "re.search(r\"(\\d[A-Za-z])+\", \"My user name is 3e4r5fg\")"
   ]
  },
  {
   "cell_type": "markdown",
   "id": "ca262804",
   "metadata": {},
   "source": [
    "In the code, we have placed parentheses to match the group containing a number and any letter. We applied the `+` quantifier to specify that we want this group repeated once or more times. And we get the following match shown in the output."
   ]
  },
  {
   "cell_type": "markdown",
   "id": "5238c080",
   "metadata": {},
   "source": [
    "### Capturing groups\n",
    "\n",
    "But be careful. It's not the same to capture a repeated group than to repeat a capturing group. \n",
    "\n",
    "<img src=\"ca.jpg\" style=\"max-width:600px\">\n",
    "\n",
    "In the first code, we use findall to match a capturing group containing one number. We want this capturing group to be repeated once or more times."
   ]
  },
  {
   "cell_type": "code",
   "execution_count": 15,
   "id": "c7e78c52",
   "metadata": {},
   "outputs": [
    {
     "data": {
      "text/plain": [
       "['5', '3']"
      ]
     },
     "execution_count": 15,
     "metadata": {},
     "output_type": "execute_result"
    }
   ],
   "source": [
    "my_string = \"My lucky numbers are 8755 and 33\"\n",
    "re.findall(r\"(\\d)+\", my_string)"
   ]
  },
  {
   "cell_type": "markdown",
   "id": "bc2c4a70",
   "metadata": {},
   "source": [
    "We get 5 and 3 as an output. Because these numbers are repeated consecutively once or more times. "
   ]
  },
  {
   "cell_type": "markdown",
   "id": "37c87f58",
   "metadata": {},
   "source": [
    "In the second code, we specify that we should capture a group containing one or more repetitions of a number. We now get the following output."
   ]
  },
  {
   "cell_type": "code",
   "execution_count": 17,
   "id": "f0b8199f",
   "metadata": {
    "scrolled": true
   },
   "outputs": [
    {
     "data": {
      "text/plain": [
       "['8755', '33']"
      ]
     },
     "execution_count": 17,
     "metadata": {},
     "output_type": "execute_result"
    }
   ],
   "source": [
    "re.findall(r\"(\\d+)\", my_string)"
   ]
  },
  {
   "cell_type": "markdown",
   "id": "f9185d77",
   "metadata": {},
   "source": [
    "### Exercise 1: Try another name\n",
    "\n",
    "You are still working on your Twitter sentiment analysis. You analyze now some things that caught your attention. You noticed that there are email addresses inserted in some tweets. Now, you are curious to find out which is the most common name.\n",
    "\n",
    "You want to extract the first part of the email. E.g. if you have the email marysmith90@gmail.com, you are only interested in marysmith90.\n",
    "\n",
    "You need to match the entire expression. So you make sure to extract only names present in emails. Also, you are only interested in names containing upper (e.g. A,B, Z) or lowercase letters (e.g. a, d, z) and numbers.\n",
    "\n",
    "The list sentiment_analysis containing the text of three tweets"
   ]
  },
  {
   "cell_type": "code",
   "execution_count": 18,
   "id": "dbc90d25",
   "metadata": {},
   "outputs": [
    {
     "data": {
      "text/plain": [
       "['Just got ur newsletter, those fares really are unbelievable. Write to statravelAU@gmail.com or statravelpo@hotmail.com. They have amazing prices',\n",
       " 'I should have paid more attention when we covered photoshop in my webpage design class in undergrad. Contact me Hollywoodheat34@msn.net.',\n",
       " 'hey missed ya at the meeting. Read your email! msdrama098@hotmail.com']"
      ]
     },
     "execution_count": 18,
     "metadata": {},
     "output_type": "execute_result"
    }
   ],
   "source": [
    "sentiment_analysis = ['Just got ur newsletter, those fares really are unbelievable. Write to statravelAU@gmail.com or statravelpo@hotmail.com. They have amazing prices',\n",
    " 'I should have paid more attention when we covered photoshop in my webpage design class in undergrad. Contact me Hollywoodheat34@msn.net.',\n",
    " 'hey missed ya at the meeting. Read your email! msdrama098@hotmail.com']\n",
    "sentiment_analysis"
   ]
  },
  {
   "cell_type": "code",
   "execution_count": 38,
   "id": "4730d024",
   "metadata": {},
   "outputs": [
    {
     "name": "stdout",
     "output_type": "stream",
     "text": [
      "Lists of users found in this tweet: ['statravelAU', 'statravelpo']\n",
      "Lists of users found in this tweet: ['Hollywoodheat34']\n",
      "Lists of users found in this tweet: ['msdrama098']\n"
     ]
    }
   ],
   "source": [
    "# Write a regex that matches email\n",
    "regex_email = r\"([A-Za-z0-9]+)@\\S+\"\n",
    "\n",
    "for tweet in sentiment_analysis:\n",
    "    # Find all matches of regex in each tweet\n",
    "    email_matched = re.findall(regex_email, tweet)\n",
    "    email_matched\n",
    "\n",
    "    # Complete the format method to print the results\n",
    "    print(\"Lists of users found in this tweet: {}\".format(email_matched))"
   ]
  },
  {
   "cell_type": "code",
   "execution_count": 39,
   "id": "6521ff2b",
   "metadata": {},
   "outputs": [
    {
     "name": "stdout",
     "output_type": "stream",
     "text": [
      "Lists of users found in this tweet: ['statravelAU', 'statravelpo']\n",
      "Lists of users found in this tweet: ['Hollywoodheat34']\n",
      "Lists of users found in this tweet: ['msdrama098']\n"
     ]
    }
   ],
   "source": [
    "# Write a regex that matches email\n",
    "regex_email = r\"([A-Za-z0-9]+)@\"\n",
    "\n",
    "for tweet in sentiment_analysis:\n",
    "    # Find all matches of regex in each tweet\n",
    "    email_matched = re.findall(regex_email, tweet)\n",
    "    email_matched\n",
    "\n",
    "    # Complete the format method to print the results\n",
    "    print(\"Lists of users found in this tweet: {}\".format(email_matched))"
   ]
  },
  {
   "cell_type": "markdown",
   "id": "285abdfd",
   "metadata": {},
   "source": [
    "### Exercise 2: Flying home\n",
    "\n",
    "Your boss assigned you to a small project. They are performing an analysis of the travels people made to attend business meetings. You are given a dataset with only the email subjects for each of the people traveling.\n",
    "\n",
    "You learn that the text followed a pattern. Here is an example:\n",
    "\n",
    "Here you have your boarding pass `LA4214 AER-CDB 06NOV`.\n",
    "\n",
    "You need to extract the information about the flight:\n",
    "\n",
    "- The two letters indicate the airline (e.g LA),\n",
    "\n",
    "- The 4 numbers are the flight number (e.g. 4214).\n",
    "\n",
    "- The three letters correspond to the departure (e.g AER),\n",
    "\n",
    "- The destination (CDB),\n",
    "\n",
    "- The date (06NOV) of the flight.\n",
    "\n",
    "- All letters are always uppercase.\n",
    "\n",
    "The variable `flight` containing one email subject was loaded in your session."
   ]
  },
  {
   "cell_type": "code",
   "execution_count": 40,
   "id": "b92570cf",
   "metadata": {
    "scrolled": true
   },
   "outputs": [
    {
     "data": {
      "text/plain": [
       "'Subject: You are now ready to fly. Here you have your boarding pass IB3723 AMS-MAD 06OCT'"
      ]
     },
     "execution_count": 40,
     "metadata": {},
     "output_type": "execute_result"
    }
   ],
   "source": [
    "flight = 'Subject: You are now ready to fly. Here you have your boarding pass IB3723 AMS-MAD 06OCT'\n",
    "flight"
   ]
  },
  {
   "cell_type": "code",
   "execution_count": 41,
   "id": "a9c260b0",
   "metadata": {},
   "outputs": [
    {
     "data": {
      "text/plain": [
       "[('IB', '3723', 'AMS', 'MAD', '06OCT')]"
      ]
     },
     "execution_count": 41,
     "metadata": {},
     "output_type": "execute_result"
    }
   ],
   "source": [
    "# Write regex to capture information of the flight\n",
    "regex = r\"([A-Z]{2})(\\d{4})\\s([A-Z]{3})-([A-Z]{3})\\s(\\d{2}[A-Z]{3})\"\n",
    "\n",
    "# Find all matches of the flight information\n",
    "flight_matches = re.findall(regex, flight)\n",
    "flight_matches"
   ]
  },
  {
   "cell_type": "code",
   "execution_count": 42,
   "id": "713bd852",
   "metadata": {},
   "outputs": [
    {
     "name": "stdout",
     "output_type": "stream",
     "text": [
      "Airline: IB Flight number: 3723\n"
     ]
    }
   ],
   "source": [
    "#Print the matches\n",
    "print(\"Airline: {} Flight number: {}\".format(flight_matches[0][0], flight_matches[0][1]))"
   ]
  },
  {
   "cell_type": "code",
   "execution_count": 43,
   "id": "3e624ba3",
   "metadata": {},
   "outputs": [
    {
     "name": "stdout",
     "output_type": "stream",
     "text": [
      "Departure: AMS Destination: MAD\n"
     ]
    }
   ],
   "source": [
    "print(\"Departure: {} Destination: {}\".format(flight_matches[0][2], flight_matches[0][3]))"
   ]
  },
  {
   "cell_type": "code",
   "execution_count": 44,
   "id": "1cf37558",
   "metadata": {},
   "outputs": [
    {
     "name": "stdout",
     "output_type": "stream",
     "text": [
      "Date: 06OCT\n"
     ]
    }
   ],
   "source": [
    "print(\"Date: {}\".format(flight_matches[0][4]))"
   ]
  },
  {
   "cell_type": "markdown",
   "id": "e740c0ab",
   "metadata": {},
   "source": [
    "### Alternation and non-capturing groups\n",
    "\n",
    "Now, we'll talk about other ways in which grouping characters can help us.You've learned in previous videos about the vertical bar or pipe(|) operator. \n",
    "\n",
    "Suppose we have the following string. And we want to find all matches for pet names. So we can use the pipe operator to specify that we want to match cat or dog or bird as you see in the code. This will output the following list."
   ]
  },
  {
   "cell_type": "code",
   "execution_count": 45,
   "id": "07959b69",
   "metadata": {},
   "outputs": [
    {
     "data": {
      "text/plain": [
       "['cat', 'dog', 'bird']"
      ]
     },
     "execution_count": 45,
     "metadata": {},
     "output_type": "execute_result"
    }
   ],
   "source": [
    "my_string = \"I want to have a pet. But I don't know if I want a cat, a dog or a bird.\"\n",
    "re.findall(r\"cat|dog|bird\", my_string)"
   ]
  },
  {
   "cell_type": "markdown",
   "id": "24b8a2f3",
   "metadata": {},
   "source": [
    "Now, we changed the string a little bit. And once more we want to find all the pet names. But this time only those that come after a number and a whitespace. So we specify this again with the pipe operator. "
   ]
  },
  {
   "cell_type": "code",
   "execution_count": 46,
   "id": "c16c4ddb",
   "metadata": {},
   "outputs": [
    {
     "data": {
      "text/plain": [
       "['2 cat', 'dog', 'bird']"
      ]
     },
     "execution_count": 46,
     "metadata": {},
     "output_type": "execute_result"
    }
   ],
   "source": [
    "my_string2 = \"I want to have a pet. But I don't know if I want 2 cats, 1 dog or a bird.\"\n",
    "re.findall(r\"\\d+\\scat|dog|bird\", my_string2)"
   ]
  },
  {
   "cell_type": "markdown",
   "id": "731acf31",
   "metadata": {},
   "source": [
    "Hmm we got the wrong output. Why? \n",
    "\n",
    "<img src=\"pi.jpg\" style=\"max-width:600px\">\n",
    "\n",
    "The pipe operator works comparing everything that is to its left (digit whitespace cat) with everything to the right, dog.\n",
    "\n",
    "### Alternation\n",
    "\n",
    "In order to solve this, we can use alternation. In simpler terms, we can use parentheses again to group the optional characters. "
   ]
  },
  {
   "cell_type": "code",
   "execution_count": 47,
   "id": "542b8aa8",
   "metadata": {},
   "outputs": [
    {
     "data": {
      "text/plain": [
       "['cat', 'dog']"
      ]
     },
     "execution_count": 47,
     "metadata": {},
     "output_type": "execute_result"
    }
   ],
   "source": [
    "my_string2 = \"I want to have a pet. But I don't know if I want 2 cats, 1 dog or a bird.\"\n",
    "re.findall(r\"\\d+\\s(cat|dog|bird)\", my_string2)"
   ]
  },
  {
   "cell_type": "markdown",
   "id": "a6a0585f",
   "metadata": {},
   "source": [
    "In the code, now the parentheses are added to group cat or dog or bird. This time we get the output cat and dog. This is the correct match as only these two patterns followed a number and whitespace."
   ]
  },
  {
   "cell_type": "markdown",
   "id": "e95d202f",
   "metadata": {},
   "source": [
    "### Alternation contd..\n",
    "\n",
    "In the previous example, we may also want to match the number. In that case, we need to place parentheses to capture the digit group. "
   ]
  },
  {
   "cell_type": "code",
   "execution_count": 48,
   "id": "0a63b071",
   "metadata": {},
   "outputs": [
    {
     "data": {
      "text/plain": [
       "[('2', 'cat'), ('1', 'dog')]"
      ]
     },
     "execution_count": 48,
     "metadata": {},
     "output_type": "execute_result"
    }
   ],
   "source": [
    "my_string2 = \"I want to have a pet. But I don't know if I want 2 cats, 1 dog or a bird.\"\n",
    "re.findall(r\"(\\d)+\\s(cat|dog|bird)\", my_string2)"
   ]
  },
  {
   "cell_type": "markdown",
   "id": "e1894625",
   "metadata": {},
   "source": [
    "In the code, we now use two pair of parentheses. We use findall in the string. And we get a list with two tuples as shown in the output."
   ]
  },
  {
   "cell_type": "markdown",
   "id": "4bb5784a",
   "metadata": {},
   "source": [
    "###  Non-capturing groups\n",
    "\n",
    "Sometimes, we need to group characters using parentheses. But we are not going to reference back to this group. \n",
    "\n",
    "For these cases, there are a special type of groups called non-capturing groups. For using them, we just need to add question mark colon inside the parenthesis but before the regex.\n",
    "\n",
    "<img src=\"non.jpg\" style=\"max-width:600px\">\n",
    "\n",
    "We have the following string. We want to find all matches of numbers."
   ]
  },
  {
   "cell_type": "code",
   "execution_count": 49,
   "id": "0b10f635",
   "metadata": {},
   "outputs": [
    {
     "data": {
      "text/plain": [
       "'John Smith: 34-34-34-042-980, Rebeca Smith: 10-10-10-434-425'"
      ]
     },
     "execution_count": 49,
     "metadata": {},
     "output_type": "execute_result"
    }
   ],
   "source": [
    "my_string3 = \"John Smith: 34-34-34-042-980, Rebeca Smith: 10-10-10-434-425\"\n",
    "my_string3"
   ]
  },
  {
   "cell_type": "markdown",
   "id": "b5132688",
   "metadata": {},
   "source": [
    "We see that the pattern consists of two numbers and dash repeated three times. After that, three numbers, dash, four numbers. \n",
    "We want to extract only the last part without the first repeated elements. \n",
    "\n",
    "\n",
    "We need to group the first two elements to indicate repetitions. But we don't want to capture them. \n",
    "\n",
    "<img src=\"non-2.jpg\" style=\"max-width:600px\">\n",
    "\n",
    "So we use non-capturing groups to group backslash d repeated two times and dash. Then we indicate this group should be repeated three times. \n",
    "\n",
    "Then, we group backslash d repeated three times, dash, backslash d repeated three times. "
   ]
  },
  {
   "cell_type": "code",
   "execution_count": 51,
   "id": "d8a6adca",
   "metadata": {},
   "outputs": [
    {
     "data": {
      "text/plain": [
       "['042-980', '434-425']"
      ]
     },
     "execution_count": 51,
     "metadata": {},
     "output_type": "execute_result"
    }
   ],
   "source": [
    "my_string3 = \"John Smith: 34-34-34-042-980, Rebeca Smith: 10-10-10-434-425\"\n",
    "re.findall(r\"(?:\\d{2}-){3}(\\d{3}-\\d{3})\", my_string3)"
   ]
  },
  {
   "cell_type": "markdown",
   "id": "809bef7c",
   "metadata": {},
   "source": [
    "In the code, we then match the regex to the string. And we get the numbers we were looking for as shown in the output."
   ]
  },
  {
   "cell_type": "markdown",
   "id": "0bb5cb75",
   "metadata": {},
   "source": [
    "### Alternation with non_capturing groups\n",
    "\n",
    "Finally, we can combine non-capturing groups and alternation together. Remember that alternation implies using parentheses and the pipe operand to group optional characters. \n",
    "\n",
    "Let's suppose that we have the following string. And we want to match all the numbers of the day. We know that they are followed by `th` or `rd`. But we only want to capture the number and not the letters that follow. \n",
    "\n",
    "We write our regex. We capture inside parentheses backslash d repeated once or more times. Then, we can use a non-capturing group. Inside we use the pipe operator to choose between th and rd as shown in the code. We find all the matches in the string. And we get the correct output."
   ]
  },
  {
   "cell_type": "code",
   "execution_count": 52,
   "id": "3edf6f7f",
   "metadata": {},
   "outputs": [
    {
     "data": {
      "text/plain": [
       "['23', '24']"
      ]
     },
     "execution_count": 52,
     "metadata": {},
     "output_type": "execute_result"
    }
   ],
   "source": [
    "my_date = \"Today is 23rd May 2019. Tomorrow is 24th May 19.\"\n",
    "re.findall(r\"(\\d+)(?:th|rd)\", my_date)"
   ]
  },
  {
   "cell_type": "markdown",
   "id": "0a505947",
   "metadata": {},
   "source": [
    "### Exercise 3: Love it!\n",
    "\n",
    "You are still working on the Twitter sentiment analysis project. First, you want to identify positive tweets about movies and concerts.\n",
    "\n",
    "You plan to find all the sentences that contain the words love, like, or enjoy and capture that word. You will limit the tweets by focusing on those that contain the words movie or concert by keeping the word in another group. You will also save the movie or concert name.\n",
    "\n",
    "For example, if you have the sentence: `I love the movie Avengers`. You match and capture `love`. You need to match and capture `movie`. Afterwards, you match and capture anything `until the dot.`\n",
    "\n",
    "The list sentiment_analysis2 containing the text of three tweets"
   ]
  },
  {
   "cell_type": "code",
   "execution_count": 54,
   "id": "4cf85782",
   "metadata": {},
   "outputs": [
    {
     "data": {
      "text/plain": [
       "['I totally love the concert The Book of Souls World Tour. It kinda amazing!',\n",
       " 'I enjoy the movie Wreck-It Ralph. I watched with my girlfriend.',\n",
       " \"I still like the movie Wish Upon a Star. Too bad Disney doesn't show it anymore.\"]"
      ]
     },
     "execution_count": 54,
     "metadata": {},
     "output_type": "execute_result"
    }
   ],
   "source": [
    "sentiment_analysis2 = ['I totally love the concert The Book of Souls World Tour. It kinda amazing!',\n",
    " 'I enjoy the movie Wreck-It Ralph. I watched with my girlfriend.',\n",
    " \"I still like the movie Wish Upon a Star. Too bad Disney doesn't show it anymore.\"]\n",
    "sentiment_analysis2"
   ]
  },
  {
   "cell_type": "code",
   "execution_count": 56,
   "id": "661fba3f",
   "metadata": {},
   "outputs": [
    {
     "name": "stdout",
     "output_type": "stream",
     "text": [
      "Positive comments found [('love', 'concert', 'The Book of Souls World Tour')]\n",
      "Positive comments found [('enjoy', 'movie', 'Wreck-It Ralph')]\n",
      "Positive comments found [('like', 'movie', 'Wish Upon a Star')]\n"
     ]
    }
   ],
   "source": [
    "# Write a regex that matches sentences with the optional words\n",
    "regex_positive = r\"(love|like|enjoy).+?(movie|concert)\\s(.+?)\\.\"\n",
    "\n",
    "for tweet in sentiment_analysis2:\n",
    "    # Find all matches of regex in tweet\n",
    "    positive_matches = re.findall(regex_positive, tweet)\n",
    "    \n",
    "    # Complete format to print out the results\n",
    "    print(\"Positive comments found {}\".format(positive_matches))"
   ]
  },
  {
   "cell_type": "markdown",
   "id": "4fbbe739",
   "metadata": {},
   "source": [
    "### Exercise 4: Ugh! Not for me!\n",
    "\n",
    "After finding positive tweets, you want to do it for negative tweets. Your plan now is to find sentences that contain the words hate, dislike or disapprove. You will again save the movie or concert name. You will get the tweet containing the words movie or concert but this time, you don't plan to save the word.\n",
    "\n",
    "For example, if you have the sentence: `I dislike the movie Avengers a lot.` You match and capture `dislike`. You will match but `not capture` the word `movie`. Afterwards, you match and capture anything `until the dot`.\n",
    "\n",
    "The list sentiment_analysis3 containing the text of three tweets"
   ]
  },
  {
   "cell_type": "markdown",
   "id": "500c9954",
   "metadata": {},
   "source": [
    "- Complete the regular expression to capture the words `hate or dislike or disapprove`. Match but `don't capture` the words `movie or concert`. Match and capture anything appearing `until the .`.\n",
    "\n",
    "\n",
    "- Find all matches of the regex in each element of sentiment_analysis3. Assign them to negative_matches.\n",
    "\n",
    "\n",
    "- Complete the .format() method to print out the results contained in negative_matches for each element in sentiment_analysis."
   ]
  },
  {
   "cell_type": "code",
   "execution_count": 89,
   "id": "e3e2fb7a",
   "metadata": {},
   "outputs": [
    {
     "data": {
      "text/plain": [
       "['That was horrible! I really dislike the movie The cabin and the ant. So boring.',\n",
       " \"I disapprove the movie Honest with you. It's full of cliches.\",\n",
       " 'I dislike very much the concert After twelve Tour. The sound was horrible.']"
      ]
     },
     "execution_count": 89,
     "metadata": {},
     "output_type": "execute_result"
    }
   ],
   "source": [
    "sentiment_analysis3 = ['That was horrible! I really dislike the movie The cabin and the ant. So boring.',\n",
    "                         \"I disapprove the movie Honest with you. It's full of cliches.\",\n",
    "                     'I dislike very much the concert After twelve Tour. The sound was horrible.']\n",
    "sentiment_analysis3"
   ]
  },
  {
   "cell_type": "code",
   "execution_count": 90,
   "id": "f88f7121",
   "metadata": {},
   "outputs": [
    {
     "name": "stdout",
     "output_type": "stream",
     "text": [
      "Negative comments found [('dislike', 'The cabin and the ant')]\n",
      "Negative comments found [('disapprove', 'Honest with you')]\n",
      "Negative comments found [('dislike', 'After twelve Tour')]\n"
     ]
    }
   ],
   "source": [
    "regex_negative = r\"(hate|dislike|disapprove).+?(?:movie|concert)\\s(.+?)\\.\"\n",
    "\n",
    "for tweet in sentiment_analysis3:\n",
    "    negative_captures = re.findall(regex_negative, tweet)\n",
    "    print(\"Negative comments found {}\".format(negative_captures))"
   ]
  },
  {
   "cell_type": "markdown",
   "id": "813873a4",
   "metadata": {},
   "source": [
    "### Numbered groups\n",
    "\n",
    "Imagine we come across this text. \n",
    "\n",
    "<img src=\"t.jpg\" style=\"max-width:600px\">\n",
    "\n",
    "And we want to extract the date highlighted. But we want to extract only the numbers. So, we can place parentheses in a regex to capture these groups as we learned.\n",
    "\n",
    "We have seen that each of these groups receive a number. The whole expression is group zero. The first group one, and so on.\n",
    "\n",
    "<img src=\"t-1.jpg\" style=\"max-width:600px\">"
   ]
  },
  {
   "cell_type": "code",
   "execution_count": 94,
   "id": "124d0449",
   "metadata": {},
   "outputs": [],
   "source": [
    "text = \"Python 3.0 was released on 12-03-2008.\""
   ]
  },
  {
   "cell_type": "markdown",
   "id": "457ff5cf",
   "metadata": {},
   "source": [
    "Let's use dot search to match the pattern to the text. To retrieve the groups captured, we can use the method dot group specifying the number of a group we want. "
   ]
  },
  {
   "cell_type": "code",
   "execution_count": 95,
   "id": "5f75d683",
   "metadata": {},
   "outputs": [
    {
     "data": {
      "text/plain": [
       "<re.Match object; span=(27, 37), match='12-03-2008'>"
      ]
     },
     "execution_count": 95,
     "metadata": {},
     "output_type": "execute_result"
    }
   ],
   "source": [
    "information = re.search('(\\d{1,2})-(\\d{2})-(\\d{4})', text)\n",
    "information"
   ]
  },
  {
   "cell_type": "code",
   "execution_count": 98,
   "id": "92663b6f",
   "metadata": {},
   "outputs": [
    {
     "data": {
      "text/plain": [
       "'12'"
      ]
     },
     "execution_count": 98,
     "metadata": {},
     "output_type": "execute_result"
    }
   ],
   "source": [
    "information.group(1)"
   ]
  },
  {
   "cell_type": "code",
   "execution_count": 99,
   "id": "b3898892",
   "metadata": {},
   "outputs": [
    {
     "data": {
      "text/plain": [
       "'03'"
      ]
     },
     "execution_count": 99,
     "metadata": {},
     "output_type": "execute_result"
    }
   ],
   "source": [
    "information.group(2)"
   ]
  },
  {
   "cell_type": "code",
   "execution_count": 100,
   "id": "96b0edd8",
   "metadata": {
    "scrolled": true
   },
   "outputs": [
    {
     "data": {
      "text/plain": [
       "'2008'"
      ]
     },
     "execution_count": 100,
     "metadata": {},
     "output_type": "execute_result"
    }
   ],
   "source": [
    "information.group(3)"
   ]
  },
  {
   "cell_type": "code",
   "execution_count": 97,
   "id": "85877e33",
   "metadata": {},
   "outputs": [
    {
     "data": {
      "text/plain": [
       "'12-03-2008'"
      ]
     },
     "execution_count": 97,
     "metadata": {},
     "output_type": "execute_result"
    }
   ],
   "source": [
    "information.group(0)"
   ]
  },
  {
   "cell_type": "markdown",
   "id": "4dac5d53",
   "metadata": {},
   "source": [
    "The method retrieves the match corresponding to group number one, two and three as shown in the output. We can also retrieve group zero. It will output the entire expression. \n",
    "\n",
    "\n",
    "`Dot group` can only be used with `dot search` and `dot match` methods."
   ]
  },
  {
   "cell_type": "markdown",
   "id": "3dd4d3fd",
   "metadata": {},
   "source": [
    "### Named groups\n",
    "\n",
    "We can also give names to our capturing groups. Inside the parentheses, we write question mark capital p, and the name inside angle brackets.\n",
    "\n",
    "<img src=\"ng.jpg\" style=\"max-width:600px\">\n",
    "\n",
    "\n",
    "Let's say we have the following string. "
   ]
  },
  {
   "cell_type": "code",
   "execution_count": 101,
   "id": "d342e9c1",
   "metadata": {},
   "outputs": [],
   "source": [
    "text = \"Austin, 78701\""
   ]
  },
  {
   "cell_type": "markdown",
   "id": "59f683fd",
   "metadata": {},
   "source": [
    "We want to match the name of the city and zipcode in different groups. We can use capturing groups and assign them the name city and zipcode as shown in the code. "
   ]
  },
  {
   "cell_type": "code",
   "execution_count": 103,
   "id": "999d8b50",
   "metadata": {},
   "outputs": [
    {
     "data": {
      "text/plain": [
       "<re.Match object; span=(0, 13), match='Austin, 78701'>"
      ]
     },
     "execution_count": 103,
     "metadata": {},
     "output_type": "execute_result"
    }
   ],
   "source": [
    "cities = re.search(r\"(?P<city>[A-Za-z]+).*?(?P<zipcode>\\d{5})\", text)\n",
    "cities"
   ]
  },
  {
   "cell_type": "markdown",
   "id": "d2ac224a",
   "metadata": {},
   "source": [
    "We retrieve the information by using dot group. We indicate the name of the group. \n",
    "\n",
    "For example, specifying city gives us the output Austin. Specifying zipcode gives us the number match as shown."
   ]
  },
  {
   "cell_type": "code",
   "execution_count": 104,
   "id": "304c2b5e",
   "metadata": {},
   "outputs": [
    {
     "data": {
      "text/plain": [
       "'Austin'"
      ]
     },
     "execution_count": 104,
     "metadata": {},
     "output_type": "execute_result"
    }
   ],
   "source": [
    "cities.group(\"city\")"
   ]
  },
  {
   "cell_type": "code",
   "execution_count": 105,
   "id": "fc094fa1",
   "metadata": {},
   "outputs": [
    {
     "data": {
      "text/plain": [
       "'78701'"
      ]
     },
     "execution_count": 105,
     "metadata": {},
     "output_type": "execute_result"
    }
   ],
   "source": [
    "cities.group(\"zipcode\")"
   ]
  },
  {
   "cell_type": "markdown",
   "id": "356d5dd0",
   "metadata": {},
   "source": [
    "### Backreferences\n",
    "\n",
    "There is another way to backreference groups. In fact, the matched group can be reused inside the same regex or outside for substitution. We can do this using backslash and the number of the group.\n",
    "\n",
    "<img src=\"br.jpg\" style=\"max-width:600px\">\n",
    "\n",
    "Let's see an example. We have the following string. We want to find all matches of repeated words. \n"
   ]
  },
  {
   "cell_type": "code",
   "execution_count": 106,
   "id": "3d7146f0",
   "metadata": {},
   "outputs": [
    {
     "data": {
      "text/plain": [
       "['happy']"
      ]
     },
     "execution_count": 106,
     "metadata": {},
     "output_type": "execute_result"
    }
   ],
   "source": [
    "sentence = \"I wish you a happy happy birthday!\"\n",
    "re.findall(r\"(\\w+)\\s\\1\", sentence)"
   ]
  },
  {
   "cell_type": "markdown",
   "id": "eea6fb1e",
   "metadata": {},
   "source": [
    "In the code, we specify that we want to capture a sequence of word characters. Then a whitespace. Then we write backslash one. This will indicate that we want to match the first group captured again. In other words, it says match that sequence of characters that was previously captured once more. And we get the word happy as an output. This was the repeated word in our string."
   ]
  },
  {
   "cell_type": "markdown",
   "id": "2abc432a",
   "metadata": {},
   "source": [
    "### Replacing the repeated word with one occurrence of the same word\n",
    "\n",
    "Now, we will replace the repeated word with one occurrence of the same word. "
   ]
  },
  {
   "cell_type": "code",
   "execution_count": 107,
   "id": "379ec7b7",
   "metadata": {},
   "outputs": [
    {
     "data": {
      "text/plain": [
       "'I wish you a happy birthday!'"
      ]
     },
     "execution_count": 107,
     "metadata": {},
     "output_type": "execute_result"
    }
   ],
   "source": [
    "sentence = \"I wish you a happy happy birthday!\"\n",
    "re.sub(r\"(\\w+)\\s\\1\", r\"\\1\", sentence)"
   ]
  },
  {
   "cell_type": "markdown",
   "id": "20875202",
   "metadata": {},
   "source": [
    "In the code, we use the same regex as before. This time, we use the dot sub method. \n",
    "\n",
    "In the replacement part, we can also reference back to the captured group. We write r backslash one inside quotes. This says replace the entire expression match with the first captured group. \n",
    "\n",
    "In the output string, we have only one occurrence of the word happy."
   ]
  },
  {
   "cell_type": "markdown",
   "id": "8d2b67dc",
   "metadata": {},
   "source": [
    "### Backreferences\n",
    "\n",
    "We can also use named groups for backreferencing. To do this, we use question mark capital p equal sign and the group name. \n",
    "\n",
    "<img src=\"br-1.jpg\" style=\"max-width:600px\">\n",
    "\n",
    "In the code, we want to find all matches of the same number. We use a capturing group and name it code. Later, we reference back to this group. And we obtain the number as an output."
   ]
  },
  {
   "cell_type": "code",
   "execution_count": 108,
   "id": "35aa1577",
   "metadata": {},
   "outputs": [
    {
     "data": {
      "text/plain": [
       "['23434']"
      ]
     },
     "execution_count": 108,
     "metadata": {},
     "output_type": "execute_result"
    }
   ],
   "source": [
    "## Using backreferencing\n",
    "sentence = \"Your new code number is 23434. Please, enter 23434 to open the door.\"\n",
    "re.findall(r\"(?P<code>\\d{5}).*?(?P=code)\", sentence)"
   ]
  },
  {
   "cell_type": "code",
   "execution_count": 109,
   "id": "9669e969",
   "metadata": {},
   "outputs": [
    {
     "data": {
      "text/plain": [
       "['23434', '23434']"
      ]
     },
     "execution_count": 109,
     "metadata": {},
     "output_type": "execute_result"
    }
   ],
   "source": [
    "## If we don't use backreferencing then-\n",
    "\n",
    "sentence = \"Your new code number is 23434. Please, enter 23434 to open the door.\"\n",
    "re.findall(r\"(?P<code>\\d{5}).*?\", sentence)"
   ]
  },
  {
   "cell_type": "markdown",
   "id": "4e991a0a",
   "metadata": {},
   "source": [
    "### Backreferences\n",
    "\n",
    "On the other hand, to reference the group back for `replacement` we need to use `backslash g` and the `group name` inside angle brackets. \n",
    "\n",
    "<img src=\"br-2.jpg\" style=\"max-width:600px\">"
   ]
  },
  {
   "cell_type": "code",
   "execution_count": 114,
   "id": "149868a8",
   "metadata": {},
   "outputs": [
    {
     "data": {
      "text/plain": [
       "['word']"
      ]
     },
     "execution_count": 114,
     "metadata": {},
     "output_type": "execute_result"
    }
   ],
   "source": [
    "sentence = \"This app is not working! It's repeating the last word word.\"\n",
    "re.findall(r\"(?P<word>\\w+)\\s(?P=word)\", sentence)"
   ]
  },
  {
   "cell_type": "code",
   "execution_count": 115,
   "id": "ae2917c1",
   "metadata": {},
   "outputs": [
    {
     "data": {
      "text/plain": [
       "\"This app is not working! It's repeating the last word.\""
      ]
     },
     "execution_count": 115,
     "metadata": {},
     "output_type": "execute_result"
    }
   ],
   "source": [
    "re.sub(r\"(?P<word>\\w+)\\s(?P=word)\", r\"\\g<word>\", sentence)"
   ]
  },
  {
   "cell_type": "markdown",
   "id": "1fb63208",
   "metadata": {},
   "source": [
    "In the code, we want to replace repeated words by one occurrence of the same word. Inside the regex, we use the previous syntax. In the replacement field, we need to use this new syntax as seen in the code to get the following output."
   ]
  },
  {
   "cell_type": "markdown",
   "id": "7d107a54",
   "metadata": {},
   "source": [
    "### Exercise 5: Close the tag, please!\n",
    "\n",
    "In the meantime, you are working on one of your other projects. The company is going to develop a new product. It will help developers automatically check the code they are writing. You need to write a short script for checking that every HTML tag that is open has its proper closure.\n",
    "\n",
    "You have an example of a string containing HTML tags:\n",
    "\n",
    "`<title>The Data Science Company</title>`\n",
    "\n",
    "You learn that an` opening HTML tag` is always at the beginning of the string. It appears inside `<>`. A `closing tag` also appears inside `<>, but it is preceded by /.`\n",
    "\n",
    "You also remember that capturing groups can be referenced using numbers, e.g \\4.\n",
    "\n",
    "The list html_tags, containing three strings with HTML tags,"
   ]
  },
  {
   "cell_type": "code",
   "execution_count": 151,
   "id": "fe13ac15",
   "metadata": {},
   "outputs": [
    {
     "data": {
      "text/plain": [
       "['<body>Welcome to our course! It would be an awesome experience</body>',\n",
       " '<article>To be a data scientist, you need to have knowledge in statistics and mathematics</article>',\n",
       " '<nav>About me Links Contact me!']"
      ]
     },
     "execution_count": 151,
     "metadata": {},
     "output_type": "execute_result"
    }
   ],
   "source": [
    "html_tags = ['<body>Welcome to our course! It would be an awesome experience</body>',\n",
    " '<article>To be a data scientist, you need to have knowledge in statistics and mathematics</article>',\n",
    " '<nav>About me Links Contact me!']\n",
    "html_tags"
   ]
  },
  {
   "cell_type": "markdown",
   "id": "f769fbfa",
   "metadata": {},
   "source": [
    "- Complete the regex in order to match closed HTML tags. Find if there is a match in each string of the list html_tags. Assign the result to match_tag.\n",
    "\n",
    "- If a match is found, print the first group captured and saved in match_tag.\n",
    "\n",
    "- If no match is found, complete the regex to match only the text inside the HTML tag. Assign it to notmatch_tag.\n",
    "\n",
    "- Print the first group captured by the regex and save it in notmatch_tag."
   ]
  },
  {
   "cell_type": "code",
   "execution_count": 152,
   "id": "1efb4bac",
   "metadata": {},
   "outputs": [
    {
     "name": "stdout",
     "output_type": "stream",
     "text": [
      "<re.Match object; span=(0, 69), match='<body>Welcome to our course! It would be an aweso>\n",
      "Your tag body is closed\n",
      "<re.Match object; span=(0, 99), match='<article>To be a data scientist, you need to have>\n",
      "Your tag article is closed\n",
      "None\n",
      "Close your nav tag!\n"
     ]
    }
   ],
   "source": [
    "for string in html_tags:\n",
    "    # Complete the regex and find if it matches a closed HTML tags\n",
    "    match_tag =  re.match(r\"<(\\w+)>.*?</\\1>\", string)\n",
    "    print(match_tag)\n",
    "\n",
    "    if match_tag:\n",
    "        # If it matches print the first group capture\n",
    "        #print(match_tag.group(1))\n",
    "        print(\"Your tag {} is closed\".format(match_tag.group(1))) \n",
    "    else:\n",
    "        # If it doesn't match capture only the tag \n",
    "        notmatch_tag = re.match(r\"<(\\w+)>\", string)\n",
    "        #print(match_tag.group(1))\n",
    "        # Print the first group capture\n",
    "        print(\"Close your {} tag!\".format(notmatch_tag.group(1)))\n"
   ]
  },
  {
   "cell_type": "code",
   "execution_count": 155,
   "id": "812c849d",
   "metadata": {},
   "outputs": [
    {
     "name": "stdout",
     "output_type": "stream",
     "text": [
      "<re.Match object; span=(0, 69), match='<body>Welcome to our course! It would be an aweso>\n",
      "Your tag body is closed\n",
      "<re.Match object; span=(0, 99), match='<article>To be a data scientist, you need to have>\n",
      "Your tag article is closed\n",
      "None\n",
      "Close your nav tag!\n"
     ]
    }
   ],
   "source": [
    "for string in html_tags:\n",
    "    # Complete the regex and find if it matches a closed HTML tags\n",
    "    match_tag =  re.match(r\"<(\\w+)>.*?</\\w+>\", string)\n",
    "    print(match_tag)\n",
    "\n",
    "    if match_tag:\n",
    "        # If it matches print the first group capture\n",
    "        #print(match_tag.group(1))\n",
    "        print(\"Your tag {} is closed\".format(match_tag.group(1))) \n",
    "    else:\n",
    "        # If it doesn't match capture only the tag \n",
    "        notmatch_tag = re.match(r\"<(\\w+)>\", string)\n",
    "        #print(match_tag.group(1))\n",
    "        # Print the first group capture\n",
    "        print(\"Close your {} tag!\".format(notmatch_tag.group(1)))\n"
   ]
  },
  {
   "cell_type": "markdown",
   "id": "fe1c01dd",
   "metadata": {},
   "source": [
    "### Exercise 6: Reeepeated characters\n",
    "\n",
    "Back to your sentiment analysis! Your next task is to replace elongated words that appear in the tweets. We define an elongated word as a word that contains a repeating character twice or more times. e.g. `\"Awesoooome\"`.\n",
    "\n",
    "Replacing those words is very important since a classifier will treat them as a different term from the source words lowering their frequency.\n",
    "\n",
    "To find them, you will use capturing groups and reference them back using numbers. E.g \\4.\n",
    "\n",
    "If you want to find a match for Awesoooome. You first need to capture `Awes`. Then, match `o` and `reference the same character back`, and then, `me`.\n",
    "\n",
    "The list `sentiment_analysis4`, containing the text of three tweets,"
   ]
  },
  {
   "cell_type": "code",
   "execution_count": 156,
   "id": "3189ebd5",
   "metadata": {},
   "outputs": [
    {
     "data": {
      "text/plain": [
       "['@marykatherine_q i know! I heard it this morning and wondered the same thing. Moscooooooow is so behind the times',\n",
       " 'Staying at a friends house...neighborrrrrrrs are so loud-having a party',\n",
       " 'Just woke up an already have read some e-mail']"
      ]
     },
     "execution_count": 156,
     "metadata": {},
     "output_type": "execute_result"
    }
   ],
   "source": [
    "sentiment_analysis4 = ['@marykatherine_q i know! I heard it this morning and wondered the same thing. Moscooooooow is so behind the times',\n",
    " 'Staying at a friends house...neighborrrrrrrs are so loud-having a party',\n",
    " 'Just woke up an already have read some e-mail']\n",
    "sentiment_analysis4"
   ]
  },
  {
   "cell_type": "code",
   "execution_count": 166,
   "id": "3ca534eb",
   "metadata": {},
   "outputs": [
    {
     "name": "stdout",
     "output_type": "stream",
     "text": [
      "Elongated word found: Moscooooooow\n",
      "Elongated word found: neighborrrrrrrs\n",
      "No elongated word found\n"
     ]
    }
   ],
   "source": [
    "# Complete the regex to match an elongated word\n",
    "regex_elongated = r\"\\w*(\\w)\\1\\w*\"\n",
    "\n",
    "for tweet in sentiment_analysis4:\n",
    "    # Find if there is a match in each tweet \n",
    "    match_elongated = re.search(regex_elongated, tweet)\n",
    "    \n",
    "    if match_elongated:\n",
    "        # Assign the captured group zero \n",
    "        elongated_word = match_elongated.group(0)\n",
    "        \n",
    "        # Complete the format method to print the word\n",
    "        print(\"Elongated word found: {word}\".format(word=elongated_word))\n",
    "    else:\n",
    "        print(\"No elongated word found\")     \t"
   ]
  },
  {
   "cell_type": "markdown",
   "id": "0064e99b",
   "metadata": {},
   "source": [
    "### Lookaround\n",
    "\n",
    "In this final discussion, we will look into specific types of non-capturing groups. They help us look around an expression.\n",
    "\n",
    "\n",
    "Look-around will look for what is behind or ahead of a pattern. Imagine that we have the following string.We want to see what is surrounding a specific word. For example, we position ourselves in the word cat. \n",
    "\n",
    "<img src=\"la.jpg\" style=\"max-width:600px\">\n",
    "\n",
    "So look-around will let us answer the following problem. At my current position, `look ahead` and search if `sat` is there. Or `look behind` and search if `white` is there."
   ]
  },
  {
   "cell_type": "markdown",
   "id": "e0fc1503",
   "metadata": {},
   "source": [
    "### Look-ahead\n",
    "\n",
    "We'll start by exploring look-ahead. This non-capturing group checks whether the first part of the expression is followed or not by the lookahead expression. As a consequence, it will return the first part of the expression. In the previous example, we are looking for the word cat. The look ahead expression can be either positive or negative. \n",
    "\n",
    "For positive we use question mark equal. For negative question mark exclamation mark.\n",
    "\n",
    "<img src=\"la-1.jpg\" style=\"max-width:600px\">\n",
    "\n",
    "### Positive look-ahead\n",
    "\n",
    "Let's start with positive lookahead. Let's imagine that we have a string containing file names and the status of that file as shown in the code. "
   ]
  },
  {
   "cell_type": "code",
   "execution_count": 167,
   "id": "10e4af46",
   "metadata": {},
   "outputs": [
    {
     "data": {
      "text/plain": [
       "'tweets.txt transferred, mypass.txt transferred, keywords.txt error'"
      ]
     },
     "execution_count": 167,
     "metadata": {},
     "output_type": "execute_result"
    }
   ],
   "source": [
    "my_text =\"tweets.txt transferred, mypass.txt transferred, keywords.txt error\"\n",
    "my_text"
   ]
  },
  {
   "cell_type": "markdown",
   "id": "6a7da01d",
   "metadata": {},
   "source": [
    "We want to extract only those files that are followed by the word transferred. So- \n",
    "\n",
    "- we start building the regex by indicating any word character followed by dot txt. \n",
    "\n",
    "- We now indicate we want the first part to be followed by the word transferred. We do so by writing question mark equal and then whitespace transferred all inside the parenthesis. \n",
    "\n",
    "With that specification, we get only the desired strings as shown in the output."
   ]
  },
  {
   "cell_type": "code",
   "execution_count": 168,
   "id": "9d82ed40",
   "metadata": {},
   "outputs": [
    {
     "data": {
      "text/plain": [
       "['tweets.txt', 'mypass.txt']"
      ]
     },
     "execution_count": 168,
     "metadata": {},
     "output_type": "execute_result"
    }
   ],
   "source": [
    "re.findall(r\"\\w+\\.txt(?=\\stransferred)\", my_text)"
   ]
  },
  {
   "cell_type": "markdown",
   "id": "27e2d807",
   "metadata": {},
   "source": [
    "### Negative look-ahead\n",
    "\n",
    "Now, let's use negative lookahead in the same example.In this case, we will say that we want those matches that are NOT followed by the expression transferred. We use instead question mark exclamation mark inside parenthesis as seen in the code. Now, we get this other output."
   ]
  },
  {
   "cell_type": "code",
   "execution_count": 169,
   "id": "693ddbec",
   "metadata": {},
   "outputs": [
    {
     "data": {
      "text/plain": [
       "['keywords.txt']"
      ]
     },
     "execution_count": 169,
     "metadata": {},
     "output_type": "execute_result"
    }
   ],
   "source": [
    "my_text =\"tweets.txt transferred, mypass.txt transferred, keywords.txt error\"\n",
    "re.findall(r\"\\w+\\.txt(?!\\stransferred)\", my_text)"
   ]
  },
  {
   "cell_type": "markdown",
   "id": "ffad2e05",
   "metadata": {},
   "source": [
    "### Look-behind\n",
    "\n",
    "The non-capturing group look-behind gets all matches that are preceded or not by a specific pattern. As a consequence, it will return the matches after the look expression. \n",
    "\n",
    "Let's use the same example, but now we are looking before the word cat. Look behind expression can also be either positive or negative. For positive we use question mark angle bracket equal. For negative question mark angle bracket exclamation mark.\n",
    "\n",
    "<img src=\"lb.jpg\" style=\"max-width:600px\">\n",
    "\n",
    "### Positive look-behind\n",
    "\n",
    "Let's look at the following string. We want to find all matches of the names that are preceded by the word member. How do we construct our regex with positive look-behind? "
   ]
  },
  {
   "cell_type": "code",
   "execution_count": 170,
   "id": "fdc16eb0",
   "metadata": {},
   "outputs": [
    {
     "data": {
      "text/plain": [
       "['Angus Young', 'Chris Slade']"
      ]
     },
     "execution_count": 170,
     "metadata": {},
     "output_type": "execute_result"
    }
   ],
   "source": [
    "my_text =\"Member: Angus Young, Member: Chris Slade, Past: Malcolm Young, Past: Cliff Williams.\"\n",
    "re.findall(r\"(?<=Member:\\s)\\w+\\s\\w+\", my_text)"
   ]
  },
  {
   "cell_type": "markdown",
   "id": "a8834ffa",
   "metadata": {},
   "source": [
    "Let's examine the code. At the end of the regex, we'll indicate we want a sequence of word characters whitespace another sequence of word characters. The look-behind expression goes before that expression. We indicate question mark angle bracket equal followed by member, colon, and whitespace. All inside parentheses.  In that way we get the two names that were preceded by the word member as shown in the output."
   ]
  },
  {
   "cell_type": "markdown",
   "id": "090c1f35",
   "metadata": {},
   "source": [
    "### Negative look-behind\n",
    "\n",
    "Now, we have this other string. We will use negative look-behind. We will find all matches of the word cat or dog that are not preceded by the word brown. "
   ]
  },
  {
   "cell_type": "code",
   "execution_count": 173,
   "id": "45baba37",
   "metadata": {},
   "outputs": [
    {
     "data": {
      "text/plain": [
       "['cat']"
      ]
     },
     "execution_count": 173,
     "metadata": {},
     "output_type": "execute_result"
    }
   ],
   "source": [
    "my_text = \"My white cat sat at the table. However, my brown dog was lying on the couch.\"\n",
    "re.findall(r\"(?<!brown\\s)(cat|dog)\", my_text)"
   ]
  },
  {
   "cell_type": "markdown",
   "id": "872fe461",
   "metadata": {},
   "source": [
    "In this code example, we use question mark angle bracket exclamation mark, followed by brown, whitespace. All inside the parenthesis. Then, we indicate our alternation group: cat or dog. Consequently, we get cat as an output. The cat or dog word that is not after the word brown."
   ]
  },
  {
   "cell_type": "code",
   "execution_count": 172,
   "id": "47eab326",
   "metadata": {},
   "outputs": [
    {
     "data": {
      "text/plain": [
       "['cat', 'dog']"
      ]
     },
     "execution_count": 172,
     "metadata": {},
     "output_type": "execute_result"
    }
   ],
   "source": [
    "my_text2 = \"My white cat sat at the table. However, my black dog was lying on the couch.\"\n",
    "re.findall(r\"(?<!brown\\s)(cat|dog)\", my_text2)"
   ]
  },
  {
   "cell_type": "markdown",
   "id": "1e3590f9",
   "metadata": {},
   "source": [
    "### Exercise 7: Surrounding words\n",
    "\n",
    "Now, you want to perform some visualizations with your sentiment_analysis dataset. You are interested in the words surrounding python. You want to count how many times a specific words appears right before and after it.\n",
    "\n",
    "`Positive lookahead (?=)` makes sure that first part of the expression is followed by the lookahead expression. `Positive lookbehind (?<=)` returns all matches that are preceded by the specified pattern.\n",
    "\n",
    "The variable sentiment_analysis5, containing the text of one tweet"
   ]
  },
  {
   "cell_type": "code",
   "execution_count": 174,
   "id": "282b081b",
   "metadata": {},
   "outputs": [
    {
     "data": {
      "text/plain": [
       "'You need excellent python skills to be a data scientist. Must be! Excellent python'"
      ]
     },
     "execution_count": 174,
     "metadata": {},
     "output_type": "execute_result"
    }
   ],
   "source": [
    "sentiment_analysis5 = 'You need excellent python skills to be a data scientist. Must be! Excellent python'\n",
    "sentiment_analysis5"
   ]
  },
  {
   "cell_type": "markdown",
   "id": "b394561d",
   "metadata": {},
   "source": [
    "- Get all the words that are followed by the word python in sentiment_analysis. Print out the word found.\n",
    "\n",
    "- Get all the words that are preceded by the word python or Python in sentiment_analysis. Print out the words found."
   ]
  },
  {
   "cell_type": "code",
   "execution_count": 183,
   "id": "583328f0",
   "metadata": {},
   "outputs": [
    {
     "name": "stdout",
     "output_type": "stream",
     "text": [
      "['excellent', 'Excellent']\n"
     ]
    }
   ],
   "source": [
    "# Positive lookahead\n",
    "look_ahead = re.findall(r\"\\w+(?=\\s[Pp]ython)\", sentiment_analysis5)\n",
    "\n",
    "# Print out\n",
    "print(look_ahead)"
   ]
  },
  {
   "cell_type": "code",
   "execution_count": 184,
   "id": "67aa7149",
   "metadata": {},
   "outputs": [
    {
     "name": "stdout",
     "output_type": "stream",
     "text": [
      "['skills']\n"
     ]
    }
   ],
   "source": [
    "# Positive lookbehind\n",
    "look_behind = re.findall(r\"(?<=[Pp]ython\\s)\\w+\", sentiment_analysis5)\n",
    "\n",
    "# Print out\n",
    "print(look_behind)"
   ]
  },
  {
   "cell_type": "markdown",
   "id": "6169c302",
   "metadata": {},
   "source": [
    "### Exercise 8: Filtering phone numbers\n",
    "\n",
    "Now, you need to write a script for a cell-phone searcher. It should scan a list of phone numbers and return those that meet certain characteristics.\n",
    "\n",
    "The phone numbers in the list have the structure:\n",
    "\n",
    "- Optional area code: 3 numbers\n",
    "\n",
    "- Prefix: 4 numbers\n",
    "\n",
    "- Line number: 6 numbers\n",
    "\n",
    "- Optional extension: 2 numbers\n",
    "\n",
    "- E.g. 654-8764-439434-01.\n",
    "\n",
    "You decide to use .findall() and the non-capturing group's `negative lookahead (?!)` and `negative lookbehind (?<!)`.\n",
    "\n",
    "The list cellphones, containing three phone numbers, "
   ]
  },
  {
   "cell_type": "code",
   "execution_count": 185,
   "id": "987c99c6",
   "metadata": {},
   "outputs": [
    {
     "data": {
      "text/plain": [
       "['4564-646464-01', '345-5785-544245', '6476-579052-01']"
      ]
     },
     "execution_count": 185,
     "metadata": {},
     "output_type": "execute_result"
    }
   ],
   "source": [
    "cellphones = ['4564-646464-01', '345-5785-544245', '6476-579052-01']\n",
    "cellphones"
   ]
  },
  {
   "cell_type": "markdown",
   "id": "0a4d436f",
   "metadata": {},
   "source": [
    "- Get all cell phones numbers that are not preceded by the optional area code.\n",
    "\n",
    "- Get all the cell phones numbers that are not followed by the optional extension."
   ]
  },
  {
   "cell_type": "code",
   "execution_count": 186,
   "id": "d861da86",
   "metadata": {},
   "outputs": [
    {
     "name": "stdout",
     "output_type": "stream",
     "text": [
      "['4564-646464-01']\n",
      "[]\n",
      "['6476-579052-01']\n"
     ]
    }
   ],
   "source": [
    "for phone in cellphones:\n",
    "    # Get all phone numbers not preceded by area code\n",
    "    number = re.findall(r\"(?<!\\d{3}-)\\d{4}-\\d{6}-\\d{2}\", phone)\n",
    "    print(number)"
   ]
  },
  {
   "cell_type": "code",
   "execution_count": 187,
   "id": "6bc9cb40",
   "metadata": {},
   "outputs": [
    {
     "name": "stdout",
     "output_type": "stream",
     "text": [
      "[]\n",
      "['345-5785-544245']\n",
      "[]\n"
     ]
    }
   ],
   "source": [
    "for phone in cellphones:\n",
    "    # Get all phone numbers not followed by optional extension\n",
    "    number = re.findall(r\"\\d{3}-\\d{4}-\\d{6}(?!-\\d{2})\", phone)\n",
    "    print(number)"
   ]
  },
  {
   "cell_type": "code",
   "execution_count": null,
   "id": "3c6506bc",
   "metadata": {},
   "outputs": [],
   "source": []
  },
  {
   "cell_type": "code",
   "execution_count": null,
   "id": "d55b7164",
   "metadata": {},
   "outputs": [],
   "source": []
  }
 ],
 "metadata": {
  "kernelspec": {
   "display_name": "Python 3",
   "language": "python",
   "name": "python3"
  },
  "language_info": {
   "codemirror_mode": {
    "name": "ipython",
    "version": 3
   },
   "file_extension": ".py",
   "mimetype": "text/x-python",
   "name": "python",
   "nbconvert_exporter": "python",
   "pygments_lexer": "ipython3",
   "version": "3.8.8"
  }
 },
 "nbformat": 4,
 "nbformat_minor": 5
}
