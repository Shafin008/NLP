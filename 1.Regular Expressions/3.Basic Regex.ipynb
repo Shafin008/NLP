{
 "cells": [
  {
   "cell_type": "markdown",
   "id": "e4a59f68",
   "metadata": {},
   "source": [
    "### What is a regular expression?\n",
    "\n",
    "A regular expression, or regex, is a string that contains a combination of normal and special characters that describes patterns to find text within a text. \n",
    "\n",
    "This sounds very complicated. Let's break it down to understand it better. Here, we have an example of what a regular expression looks like. \n",
    "\n",
    "\n",
    "<img src=\"re.jpg\" style=\"max-width:600px\">\n",
    "\n",
    "\n",
    "In Python, the `r` at the beginning indicates a raw string. It is always advisable to use it.\n",
    "\n",
    "\n",
    "We said that a regex contains normal characters, or literal characters we already know. The normal characters match themselves. In the case shown, `st` exactly matches an `s` followed by a `t`.\n",
    "\n",
    "\n",
    "They also contain special characters.` Metacharacters` represent `types of characters`. Let's look one by one. \n",
    "\n",
    "\n",
    "- `\\d` represents a `digit`\n",
    "\n",
    "\n",
    "- `\\s` represents a `whitespace`,\n",
    "\n",
    "\n",
    "- `\\w`  represents a `word character`.They also represent ideas, such as location or quantity.\n",
    "\n",
    "\n",
    "In the example, 3 and 10 inside curly braces indicates that the character immediately to the left, in this case backslash w, should appear between 3 and 10 times.\n",
    "\n",
    "#### Pattern:\n",
    "\n",
    "We said that regex describes a pattern. A pattern is a sequence of characters that maps to words or punctuation.\n",
    "\n",
    "As a data scientist, you will use pattern matching \n",
    "\n",
    "- To find and replace specific text. \n",
    "\n",
    "- To validate strings such as passwords or email addresses. \n",
    "\n",
    "Why use regex? They are very powerful and fast. They allow you to search complex patterns that would be very difficult to find otherwise."
   ]
  },
  {
   "cell_type": "markdown",
   "id": "2b6ec220",
   "metadata": {},
   "source": [
    "### The re module\n",
    "\n",
    "Python has a useful library, the re module, to handle regex. You can import it as shown in the code. Let's see how it works. \n",
    "\n",
    "\n",
    "### re.findall() method:\n",
    "\n",
    "To find all matches of a pattern, we use the dot findall method. It takes two arguments: the regex and the string. \n",
    "\n",
    "<img src=\"fi.jpg\" style=\"max-width:600px\">"
   ]
  },
  {
   "cell_type": "code",
   "execution_count": 1,
   "id": "e1018212",
   "metadata": {},
   "outputs": [],
   "source": [
    "import re"
   ]
  },
  {
   "cell_type": "code",
   "execution_count": 2,
   "id": "7268adad",
   "metadata": {},
   "outputs": [
    {
     "data": {
      "text/plain": [
       "['#movies', '#movies']"
      ]
     },
     "execution_count": 2,
     "metadata": {},
     "output_type": "execute_result"
    }
   ],
   "source": [
    "re.findall(r\"#movies\", \"Love #movies! I had fun yesterday going to the #movies\")"
   ]
  },
  {
   "cell_type": "markdown",
   "id": "b14b6b1c",
   "metadata": {},
   "source": [
    "In the code, we want to find all the matches of hashtag movies in the specified string. The method returns a list with the two matches found."
   ]
  },
  {
   "cell_type": "markdown",
   "id": "1490ccb6",
   "metadata": {},
   "source": [
    "###  re.split() method\n",
    "\n",
    "To split a string at each pattern match, we could use the method dot split \n",
    "\n",
    "<img src=\"sp.jpg\" style=\"max-width:600px\">\n",
    "\n",
    "In the example, we want to split the specified string at every exclamation mark match. It returns a list of the substrings as you can see in the output."
   ]
  },
  {
   "cell_type": "code",
   "execution_count": 3,
   "id": "f6f401d7",
   "metadata": {},
   "outputs": [
    {
     "data": {
      "text/plain": [
       "['Nice Place to eat', \" I'll come back\", ' Excellent meat', '']"
      ]
     },
     "execution_count": 3,
     "metadata": {},
     "output_type": "execute_result"
    }
   ],
   "source": [
    "re.split(r\"!\", \"Nice Place to eat! I'll come back! Excellent meat!\")"
   ]
  },
  {
   "cell_type": "markdown",
   "id": "1c7609cf",
   "metadata": {},
   "source": [
    "### re.sub() method\n",
    "\n",
    "Finally, we could replace any pattern match with another string using the dot sub method. It takes three arguments: the regex, replacement and string. \n",
    "\n",
    "<img src=\"su.jpg\" style=\"max-width:600px\">\n",
    "\n",
    "In the example, we replace every match of yellow with the word nice. We get the following output."
   ]
  },
  {
   "cell_type": "code",
   "execution_count": 4,
   "id": "f3621ae3",
   "metadata": {},
   "outputs": [
    {
     "data": {
      "text/plain": [
       "'I have a nice car and a nice house in a nice neighborhood'"
      ]
     },
     "execution_count": 4,
     "metadata": {},
     "output_type": "execute_result"
    }
   ],
   "source": [
    "re.sub(r\"yellow\", \"nice\", \"I have a yellow car and a yellow house in a yellow neighborhood\")"
   ]
  },
  {
   "cell_type": "markdown",
   "id": "8505c0a7",
   "metadata": {},
   "source": [
    "### Supported metacharacters\n",
    "\n",
    "Let's look at the supported metacharacters. \n",
    "\n",
    "In the example, we want to find all matches of the patterns containing User followed by a number. \n",
    "\n",
    "\n",
    "We use backlash d to represent the digit. We get the following matches. \n",
    "\n",
    "\n",
    "Next, we find matches of the pattern containing User followed by a non-digit. In that case, we use backslash capital D obtaining the following match.\n",
    "\n",
    "- `\\d` >>>  `Digit`\n",
    "\n",
    "\n",
    "- `\\D` >>>  `Non-Digit`"
   ]
  },
  {
   "cell_type": "code",
   "execution_count": 5,
   "id": "51c1977a",
   "metadata": {},
   "outputs": [
    {
     "data": {
      "text/plain": [
       "['User9', 'User8']"
      ]
     },
     "execution_count": 5,
     "metadata": {},
     "output_type": "execute_result"
    }
   ],
   "source": [
    "## Find all matches of the patterns containing User followed by a number.\n",
    "re.findall(r\"User\\d\", \"The winners are: User9, UserN, User8\")"
   ]
  },
  {
   "cell_type": "code",
   "execution_count": 6,
   "id": "9c0f0659",
   "metadata": {},
   "outputs": [
    {
     "data": {
      "text/plain": [
       "['UserN']"
      ]
     },
     "execution_count": 6,
     "metadata": {},
     "output_type": "execute_result"
    }
   ],
   "source": [
    "## Find matches of the pattern containing User followed by a non-digit.\n",
    "re.findall(r\"User\\D\", \"The winners are: User9, UserN, User8\")"
   ]
  },
  {
   "cell_type": "markdown",
   "id": "ecd5aa7a",
   "metadata": {},
   "source": [
    "### Supported metacharacters\n",
    "\n",
    "If we want to find all matches of the pattern containing User followed by any digit or normal character, we can use backlash w. We get all following matches. \n",
    "\n",
    "In the next example, we need to find the price in a string. We use backslash capital W to match the dollar sign followed by a digit obtaining the following output.\n",
    "\n",
    "\n",
    "- `\\w` >>>  `Word`\n",
    "\n",
    "\n",
    "- `\\W` >>>  `Non-Word`"
   ]
  },
  {
   "cell_type": "code",
   "execution_count": 7,
   "id": "fb0756cf",
   "metadata": {},
   "outputs": [
    {
     "data": {
      "text/plain": [
       "['User9', 'UserN', 'User8']"
      ]
     },
     "execution_count": 7,
     "metadata": {},
     "output_type": "execute_result"
    }
   ],
   "source": [
    "## Find all matches of the pattern containing 'User' followed by 'any digit' or 'normal character',\n",
    "re.findall(r\"User\\w\", \"The winners are: User9, UserN, User8\")"
   ]
  },
  {
   "cell_type": "code",
   "execution_count": 8,
   "id": "355cbf18",
   "metadata": {},
   "outputs": [
    {
     "data": {
      "text/plain": [
       "['$5']"
      ]
     },
     "execution_count": 8,
     "metadata": {},
     "output_type": "execute_result"
    }
   ],
   "source": [
    "## find the price in a string, for that find all matches that match the dollar sign followed by a digit \n",
    "re.findall(r\"\\W\\d\", \"This skirt is on sale, only $5 today!\")"
   ]
  },
  {
   "cell_type": "markdown",
   "id": "7d0a61cd",
   "metadata": {},
   "source": [
    "### Supported metacharacters\n",
    "\n",
    "Finally, we use backslash s to specify the pattern Data whitespace science getting the following match. \n",
    "\n",
    "In the second example, we use backslash capital S to detect the matches of ice, followed by any non-space character, followed by cream and replace them with the word ice cream.\n",
    "\n",
    "- `\\s` >>>  `Whitespace`\n",
    "\n",
    "\n",
    "- `\\S` >>>  `Non-Whitespace`"
   ]
  },
  {
   "cell_type": "code",
   "execution_count": 9,
   "id": "1796398a",
   "metadata": {},
   "outputs": [
    {
     "data": {
      "text/plain": [
       "['Data Science']"
      ]
     },
     "execution_count": 9,
     "metadata": {},
     "output_type": "execute_result"
    }
   ],
   "source": [
    "re.findall(r\"Data\\sScience\", \"I enjoy learning Data Science\")"
   ]
  },
  {
   "cell_type": "code",
   "execution_count": 10,
   "id": "d4f35b0a",
   "metadata": {},
   "outputs": [
    {
     "data": {
      "text/plain": [
       "'I really like ice cream'"
      ]
     },
     "execution_count": 10,
     "metadata": {},
     "output_type": "execute_result"
    }
   ],
   "source": [
    "re.sub(r\"ice\\Scream\", \"ice cream\", \"I really like ice-cream\")"
   ]
  },
  {
   "cell_type": "markdown",
   "id": "116cb734",
   "metadata": {},
   "source": [
    "### Exercise 1: Are they bots?\n",
    "\n",
    "The company that you are working for asked you to perform a sentiment analysis using a dataset with tweets. First of all, you need to do some cleaning and extract some information.\n",
    "\n",
    "While printing out some text, you realize that some tweets contain user mentions. Some of these mentions follow a very strange pattern. A few examples that you notice: `@robot3!`, `@robot5&` and `@robot7#`\n",
    "\n",
    "To analyze if those users are bots, you will do a proof of concept with one tweet and extract them using the `.findall()` method.\n",
    "\n",
    "You write down some helpful metacharacters to help you later:\n",
    "\n",
    "`\\d: digit`\n",
    "`\\w: word character`\n",
    "`\\W: non-word character`\n",
    "`\\s: whitespace`\n",
    "\n",
    "The text of one tweet was saved in the variable `sentiment_analysis`. "
   ]
  },
  {
   "cell_type": "code",
   "execution_count": 11,
   "id": "ebfbdf8d",
   "metadata": {},
   "outputs": [
    {
     "data": {
      "text/plain": [
       "'@robot9! @robot4& I have a good feeling that the show isgoing to be amazing! @robot9$ @robot7%'"
      ]
     },
     "execution_count": 11,
     "metadata": {},
     "output_type": "execute_result"
    }
   ],
   "source": [
    "sentiment_analysis = '@robot9! @robot4& I have a good feeling that the show isgoing to be amazing! @robot9$ @robot7%'\n",
    "sentiment_analysis"
   ]
  },
  {
   "cell_type": "markdown",
   "id": "12a6d668",
   "metadata": {},
   "source": [
    "- Write a regex that matches the user mentions that starts with `@` and follows the pattern, e.g. `@robot3!`.\n",
    "\n",
    "\n",
    "- Find all the matches of the pattern in the `sentiment_analysis` variable."
   ]
  },
  {
   "cell_type": "code",
   "execution_count": 12,
   "id": "bd828b8d",
   "metadata": {},
   "outputs": [],
   "source": [
    "## q1\n",
    "regex = r\"@robot\\d\\W\""
   ]
  },
  {
   "cell_type": "code",
   "execution_count": 13,
   "id": "031f8669",
   "metadata": {},
   "outputs": [
    {
     "data": {
      "text/plain": [
       "['@robot9!', '@robot4&', '@robot9$', '@robot7%']"
      ]
     },
     "execution_count": 13,
     "metadata": {},
     "output_type": "execute_result"
    }
   ],
   "source": [
    "## q2\n",
    "re.findall(regex, sentiment_analysis)"
   ]
  },
  {
   "cell_type": "markdown",
   "id": "038cf7b0",
   "metadata": {},
   "source": [
    "### Exercise 2: Find the numbers\n",
    "\n",
    "While examining the tweet text in your dataset, you detect that some tweets carry more information. \n",
    "\n",
    "The text contains the number of retweets, user mentions, and likes. You decide to extract this important information that is given as in this example:\n",
    "\n",
    "`Agh,snow! User_mentions:9, likes: 5, number of retweets: 4`\n",
    "\n",
    "You pull a list of metacharacters: `\\d digit,\\w word character,\\s whitespace.`\n",
    "\n",
    "`Always indicate whitespace with metacharacters.`\n",
    "\n",
    "The variable `sentiment_analysis2` containing the text of one tweet "
   ]
  },
  {
   "cell_type": "code",
   "execution_count": 14,
   "id": "a683a308",
   "metadata": {},
   "outputs": [
    {
     "data": {
      "text/plain": [
       "\"Unfortunately one of those moments wasn't a giant squid monster. User_mentions:2, likes: 9, number of retweets: 7\""
      ]
     },
     "execution_count": 14,
     "metadata": {},
     "output_type": "execute_result"
    }
   ],
   "source": [
    "sentiment_analysis2 = \"Unfortunately one of those moments wasn't a giant squid monster. User_mentions:2, likes: 9, number of retweets: 7\"\n",
    "sentiment_analysis2"
   ]
  },
  {
   "cell_type": "markdown",
   "id": "4a002b9c",
   "metadata": {},
   "source": [
    "- Write a regex that matches the number of user mentions given as, for example, `User_mentions:9` in sentiment_analysis.\n",
    "\n",
    "\n",
    "- Write a regex that matches the number of likes given as, for example, `likes: 5` in sentiment_analysis.\n",
    "\n",
    "\n",
    "- Write a regex that matches the number of retweets given as, for example, `number of retweets: 4` in sentiment_analysis."
   ]
  },
  {
   "cell_type": "code",
   "execution_count": 15,
   "id": "050ad345",
   "metadata": {},
   "outputs": [
    {
     "data": {
      "text/plain": [
       "['User_mentions:2']"
      ]
     },
     "execution_count": 15,
     "metadata": {},
     "output_type": "execute_result"
    }
   ],
   "source": [
    "## q1: regex for user mention\n",
    "re.findall(r\"User_mentions:\\d\", sentiment_analysis2)"
   ]
  },
  {
   "cell_type": "code",
   "execution_count": 18,
   "id": "8d2b4449",
   "metadata": {},
   "outputs": [
    {
     "data": {
      "text/plain": [
       "['User_mentions:2']"
      ]
     },
     "execution_count": 18,
     "metadata": {},
     "output_type": "execute_result"
    }
   ],
   "source": [
    "# same\n",
    "re.findall(r\"User_mentions\\W\\d\", sentiment_analysis2)"
   ]
  },
  {
   "cell_type": "code",
   "execution_count": 20,
   "id": "c6c78f52",
   "metadata": {},
   "outputs": [
    {
     "data": {
      "text/plain": [
       "['likes: 9']"
      ]
     },
     "execution_count": 20,
     "metadata": {},
     "output_type": "execute_result"
    }
   ],
   "source": [
    "## q2: regex for num. of likes\n",
    "re.findall(r\"likes:\\s\\d\", sentiment_analysis2)"
   ]
  },
  {
   "cell_type": "code",
   "execution_count": 21,
   "id": "99afe45f",
   "metadata": {},
   "outputs": [
    {
     "data": {
      "text/plain": [
       "['likes: 9']"
      ]
     },
     "execution_count": 21,
     "metadata": {},
     "output_type": "execute_result"
    }
   ],
   "source": [
    "# same\n",
    "re.findall(r\"likes\\W\\s\\d\", sentiment_analysis2)"
   ]
  },
  {
   "cell_type": "code",
   "execution_count": 23,
   "id": "4660fae9",
   "metadata": {},
   "outputs": [
    {
     "data": {
      "text/plain": [
       "['number of retweets: 7']"
      ]
     },
     "execution_count": 23,
     "metadata": {},
     "output_type": "execute_result"
    }
   ],
   "source": [
    "## q3: regex for num. of retweets\n",
    "re.findall(r\"number\\sof\\sretweets:\\s\\d\", sentiment_analysis2)"
   ]
  },
  {
   "cell_type": "code",
   "execution_count": 24,
   "id": "134b6fdf",
   "metadata": {},
   "outputs": [
    {
     "data": {
      "text/plain": [
       "['number of retweets: 7']"
      ]
     },
     "execution_count": 24,
     "metadata": {},
     "output_type": "execute_result"
    }
   ],
   "source": [
    "# same\n",
    "re.findall(r\"number\\sof\\sretweets\\W\\s\\d\", sentiment_analysis2)"
   ]
  },
  {
   "cell_type": "markdown",
   "id": "7b2a9674",
   "metadata": {},
   "source": [
    "### Exercise 3: Match and split\n",
    "\n",
    "Some of the tweets in your dataset were downloaded incorrectly. Instead of having spaces to separate words, they have strange characters. You decide to use regular expressions to handle this situation. You print some of these tweets to understand which pattern you need to match.\n",
    "\n",
    "You notice that the `sentences` are always separated by a `special character`, followed by `a number`, the word `break`, and after that, another `special character`, e.g `&4break!`. The `words` are always separated by a `special character`, the word `new`, and a `normal random character`, e.g `#newH`.\n",
    "\n",
    "The variable `sentiment_analysis3` containing the text of one tweet"
   ]
  },
  {
   "cell_type": "code",
   "execution_count": 25,
   "id": "27a56c8b",
   "metadata": {},
   "outputs": [
    {
     "data": {
      "text/plain": [
       "'He#newHis%newTin love with$newPscrappy. #8break%He is&newYmissing him@newLalready'"
      ]
     },
     "execution_count": 25,
     "metadata": {},
     "output_type": "execute_result"
    }
   ],
   "source": [
    "sentiment_analysis3 = 'He#newHis%newTin love with$newPscrappy. #8break%He is&newYmissing him@newLalready'\n",
    "sentiment_analysis3"
   ]
  },
  {
   "cell_type": "markdown",
   "id": "4a5cecd6",
   "metadata": {},
   "source": [
    "- Write a regex that matches the pattern separating the sentences in sentiment_analysis, e.g. `&4break!`\n",
    "\n",
    "\n",
    "- Replace regex_sentence with a space `\" \"` in the variable sentiment_analysis. Assign it to `sentiment_sub`.\n",
    "\n",
    "\n",
    "- Write a regex that matches the pattern separating the words in sentiment_analysis, e.g. `#newH`.\n",
    "\n",
    "\n",
    "- Replace `regex_words` with a `space` in the variable `sentiment_sub`. Assign it to `sentiment_final` and print out the result."
   ]
  },
  {
   "cell_type": "code",
   "execution_count": 28,
   "id": "6318cc9c",
   "metadata": {},
   "outputs": [
    {
     "data": {
      "text/plain": [
       "'He#newHis%newTin love with$newPscrappy.  He is&newYmissing him@newLalready'"
      ]
     },
     "execution_count": 28,
     "metadata": {},
     "output_type": "execute_result"
    }
   ],
   "source": [
    "## q1,q2\n",
    "regex_sentence = r\"\\W\\dbreak\\W\"\n",
    "sentiment_sub = re.sub(regex_sentence,\" \", sentiment_analysis3)\n",
    "sentiment_sub"
   ]
  },
  {
   "cell_type": "code",
   "execution_count": 30,
   "id": "1c3e6718",
   "metadata": {},
   "outputs": [
    {
     "data": {
      "text/plain": [
       "'He is in love with scrappy.  He is missing him already'"
      ]
     },
     "execution_count": 30,
     "metadata": {},
     "output_type": "execute_result"
    }
   ],
   "source": [
    "## q3,q4\n",
    "regex_word = r\"\\Wnew\\w\"\n",
    "sentiment_final = re.sub(regex_word, \" \", sentiment_sub)\n",
    "sentiment_final"
   ]
  },
  {
   "cell_type": "markdown",
   "id": "7f0df615",
   "metadata": {},
   "source": [
    "### Repeated characters\n",
    "\n",
    "Let's imagine that we are given the task to validate a password.It should contain eight characters followed by four numbers.\n",
    "\n",
    "\n",
    "To search for a pattern, we can use the method dot search. It takes the regex and string. It tells us if there is a match. \n",
    "\n",
    "Let's apply what we have learned until now. We use backslash w eight times to match the first part and backslash d four times to match the last part. So our method finds a match."
   ]
  },
  {
   "cell_type": "code",
   "execution_count": 42,
   "id": "c2ef36bf",
   "metadata": {},
   "outputs": [
    {
     "data": {
      "text/plain": [
       "<re.Match object; span=(0, 12), match='password1234'>"
      ]
     },
     "execution_count": 42,
     "metadata": {},
     "output_type": "execute_result"
    }
   ],
   "source": [
    "password =\"password1234\"\n",
    "re.search(r\"\\w\\w\\w\\w\\w\\w\\w\\w\\d\\d\\d\\d\", password)"
   ]
  },
  {
   "cell_type": "markdown",
   "id": "146d8c6a",
   "metadata": {},
   "source": [
    "### Quantifiers\n",
    "\n",
    "But this seems cumbersome for longer regex. Instead, we can use quantifiers to save this situation. \n",
    "\n",
    "A quantifier is a metacharacter that specifies how many times a character located to its left needs to be matched. \n",
    "\n",
    "<img src=\"q.jpg\" style=\"max-width:600px\">\n",
    "\n",
    "In our example, we specify that backslash w is repeated 8 times and backslash d four times. And we get a match as seen in the output."
   ]
  },
  {
   "cell_type": "code",
   "execution_count": 43,
   "id": "3410a732",
   "metadata": {},
   "outputs": [
    {
     "data": {
      "text/plain": [
       "<re.Match object; span=(0, 12), match='password1234'>"
      ]
     },
     "execution_count": 43,
     "metadata": {},
     "output_type": "execute_result"
    }
   ],
   "source": [
    "password =\"password1234\"\n",
    "re.search(r\"\\w{8}\\d{4}\", password)"
   ]
  },
  {
   "cell_type": "markdown",
   "id": "ca56b7f8",
   "metadata": {},
   "source": [
    "### Quantifiers (\"+\")\n",
    "\n",
    "In the following string, we want to match the dates. We can see that the pattern is one or multiple digits, dash, and again one or multiple digits. \n",
    "\n",
    "> The `\"+\"` metacharacter indicates a character that appears once or more times. \n",
    "\n",
    "Let's construct the regex from simple to complex. We will use dot findall method as you can see in the code."
   ]
  },
  {
   "cell_type": "code",
   "execution_count": 44,
   "id": "afd154db",
   "metadata": {},
   "outputs": [
    {
     "data": {
      "text/plain": [
       "['4-3', '10-04']"
      ]
     },
     "execution_count": 44,
     "metadata": {},
     "output_type": "execute_result"
    }
   ],
   "source": [
    "text =\"Date of start: 4-3. Date of registration: 10-04.\"\n",
    "re.findall(r\"\\d+-\\d+\", text)"
   ]
  },
  {
   "cell_type": "markdown",
   "id": "2bbfd8d5",
   "metadata": {},
   "source": [
    "We indicate that the digit, `\\d`, should appear once or more times adding the `+` quantifier. Then, a dash `-`.\n",
    "And again a digit, `\\d`. It should appear once or more times, so again we use the `plus` quantifier. We get the two matches that we expected as seen in the output."
   ]
  },
  {
   "cell_type": "markdown",
   "id": "99cce21c",
   "metadata": {},
   "source": [
    "###  Quantifiers(\"*\")\n",
    "\n",
    "To indicate that a character should appear zero or more times, we can use the `star(*)` metacharacter. \n",
    "\n",
    "In this example, we have the following string. We want to find all mentions of users, which start with an at. We notice that they could contain or not contain a non-word character in the middle. So, we construct our regex as seen in the code: \n",
    "\n",
    "\n",
    "an `@`, followed by `backslash w plus`, `backslash capital w` with `star` to indicate a `non-word character zero or more times`, then `backslash w plus`. And we get the matches seen in the output."
   ]
  },
  {
   "cell_type": "code",
   "execution_count": 45,
   "id": "da7ebb13",
   "metadata": {},
   "outputs": [
    {
     "data": {
      "text/plain": [
       "['@ameli!a', '@joh&&n', '@mary90']"
      ]
     },
     "execution_count": 45,
     "metadata": {},
     "output_type": "execute_result"
    }
   ],
   "source": [
    "my_string = \"The concert was amazing! @ameli!a @joh&&n @mary90\"\n",
    "re.findall(r\"@\\w+\\W*\\w+\", my_string)"
   ]
  },
  {
   "cell_type": "markdown",
   "id": "74100629",
   "metadata": {},
   "source": [
    "### Quantifiers (\"?\")\n",
    "\n",
    "Another helpful quantifier is the `question mark`. It indicates that a character should appear `zero times or once`. \n",
    "\n",
    "In the example, we need to find matches for the word `color`, which has spelling variations. \n",
    "\n",
    "\n",
    "So, our regex is c, o, l, o, u which can appear once or zero times, so we add the question mark after it, then r. With this regex, we get the two matches wanted."
   ]
  },
  {
   "cell_type": "code",
   "execution_count": 46,
   "id": "99f2e264",
   "metadata": {},
   "outputs": [
    {
     "data": {
      "text/plain": [
       "['color', 'colour']"
      ]
     },
     "execution_count": 46,
     "metadata": {},
     "output_type": "execute_result"
    }
   ],
   "source": [
    "text = \"The color of this image is amazing. However, the colour blue could be brighter.\"\n",
    "re.findall(r\"colou?r\", text)"
   ]
  },
  {
   "cell_type": "markdown",
   "id": "5b7422ce",
   "metadata": {},
   "source": [
    "### Quantifiers(curly braces: {n,m})\n",
    "\n",
    "Finally, we can use the curly braces to indicate a specific `minimum` and `maximum` times. \n",
    "\n",
    "In the example, we want to find all matches for a phone number. We'll use the dot findall method and construct our regex step by step.\n",
    "\n",
    "\n",
    "As we can see, we can have a digit, once or twice, then slash. Then, again a digit, three times. Then, a slash. Then, a digit twice or three times. Then, slash. And finally a digit again. We indicate that this last digit need to appear at least four times leaving the second argument in black. \n",
    "\n",
    "The regex engine returns two matches as expected."
   ]
  },
  {
   "cell_type": "code",
   "execution_count": 47,
   "id": "38daf27c",
   "metadata": {},
   "outputs": [
    {
     "data": {
      "text/plain": [
       "['1-966-847-3131', '54-908-42-42424']"
      ]
     },
     "execution_count": 47,
     "metadata": {},
     "output_type": "execute_result"
    }
   ],
   "source": [
    "phone_number =\"John: 1-966-847-3131 Michelle: 54-908-42-42424\"\n",
    "re.findall(r\"\\d{1,2}-\\d{3}-\\d{2,3}-\\d{4,}\", phone_number)"
   ]
  },
  {
   "cell_type": "code",
   "execution_count": 23,
   "id": "9d9728c0",
   "metadata": {},
   "outputs": [],
   "source": [
    "import pandas as pd"
   ]
  },
  {
   "cell_type": "code",
   "execution_count": 25,
   "id": "1d4401f6",
   "metadata": {
    "scrolled": true
   },
   "outputs": [
    {
     "data": {
      "text/html": [
       "<div>\n",
       "<style scoped>\n",
       "    .dataframe tbody tr th:only-of-type {\n",
       "        vertical-align: middle;\n",
       "    }\n",
       "\n",
       "    .dataframe tbody tr th {\n",
       "        vertical-align: top;\n",
       "    }\n",
       "\n",
       "    .dataframe thead th {\n",
       "        text-align: right;\n",
       "    }\n",
       "</style>\n",
       "<table border=\"1\" class=\"dataframe\">\n",
       "  <thead>\n",
       "    <tr style=\"text-align: right;\">\n",
       "      <th></th>\n",
       "      <th>target</th>\n",
       "      <th>id</th>\n",
       "      <th>date</th>\n",
       "      <th>flag</th>\n",
       "      <th>user</th>\n",
       "      <th>text</th>\n",
       "    </tr>\n",
       "  </thead>\n",
       "  <tbody>\n",
       "    <tr>\n",
       "      <th>0</th>\n",
       "      <td>0</td>\n",
       "      <td>1467821085</td>\n",
       "      <td>Mon Apr 06 22:22:26 PDT 2009</td>\n",
       "      <td>NO_QUERY</td>\n",
       "      <td>crzy_cdn_bulas</td>\n",
       "      <td>our duck and chicken are taking wayyy too long...</td>\n",
       "    </tr>\n",
       "    <tr>\n",
       "      <th>1</th>\n",
       "      <td>0</td>\n",
       "      <td>1467821338</td>\n",
       "      <td>Mon Apr 06 22:22:30 PDT 2009</td>\n",
       "      <td>NO_QUERY</td>\n",
       "      <td>justnetgirl</td>\n",
       "      <td>Put vacation photos online (They were so cute)...</td>\n",
       "    </tr>\n",
       "    <tr>\n",
       "      <th>2</th>\n",
       "      <td>0</td>\n",
       "      <td>1467821455</td>\n",
       "      <td>Mon Apr 06 22:22:32 PDT 2009</td>\n",
       "      <td>NO_QUERY</td>\n",
       "      <td>CiaraRenee</td>\n",
       "      <td>I need a hug</td>\n",
       "    </tr>\n",
       "    <tr>\n",
       "      <th>3</th>\n",
       "      <td>0</td>\n",
       "      <td>1467821715</td>\n",
       "      <td>Mon Apr 06 22:22:37 PDT 2009</td>\n",
       "      <td>NO_QUERY</td>\n",
       "      <td>deelau</td>\n",
       "      <td>@andywana Not sure what they are, only that th...</td>\n",
       "    </tr>\n",
       "    <tr>\n",
       "      <th>4</th>\n",
       "      <td>0</td>\n",
       "      <td>1467822384</td>\n",
       "      <td>Mon Apr 06 22:22:47 PDT 2009</td>\n",
       "      <td>NO_QUERY</td>\n",
       "      <td>Lindsey0920</td>\n",
       "      <td>@oanhLove I hate when that happens...</td>\n",
       "    </tr>\n",
       "  </tbody>\n",
       "</table>\n",
       "</div>"
      ],
      "text/plain": [
       "   target          id                          date      flag            user  \\\n",
       "0       0  1467821085  Mon Apr 06 22:22:26 PDT 2009  NO_QUERY  crzy_cdn_bulas   \n",
       "1       0  1467821338  Mon Apr 06 22:22:30 PDT 2009  NO_QUERY     justnetgirl   \n",
       "2       0  1467821455  Mon Apr 06 22:22:32 PDT 2009  NO_QUERY      CiaraRenee   \n",
       "3       0  1467821715  Mon Apr 06 22:22:37 PDT 2009  NO_QUERY          deelau   \n",
       "4       0  1467822384  Mon Apr 06 22:22:47 PDT 2009  NO_QUERY     Lindsey0920   \n",
       "\n",
       "                                                text  \n",
       "0  our duck and chicken are taking wayyy too long...  \n",
       "1  Put vacation photos online (They were so cute)...  \n",
       "2                                      I need a hug   \n",
       "3  @andywana Not sure what they are, only that th...  \n",
       "4             @oanhLove I hate when that happens...   "
      ]
     },
     "execution_count": 25,
     "metadata": {},
     "output_type": "execute_result"
    }
   ],
   "source": [
    "df = pd.read_csv(\"short_tweets.csv\")\n",
    "df.head()"
   ]
  },
  {
   "cell_type": "code",
   "execution_count": 4,
   "id": "1eb95577",
   "metadata": {},
   "outputs": [
    {
     "name": "stdout",
     "output_type": "stream",
     "text": [
      "Boredd. Colddd @blueKnight39 Internet keeps stuffing up. Save me! https://www.tellyourstory.com\n"
     ]
    }
   ],
   "source": [
    "print(df[\"text\"].iloc[545])"
   ]
  },
  {
   "cell_type": "code",
   "execution_count": 5,
   "id": "a20da4ce",
   "metadata": {},
   "outputs": [
    {
     "name": "stdout",
     "output_type": "stream",
     "text": [
      "I had a horrible nightmare last night @anitaLopez98 @MyredHat31 which affected my sleep, now I'm really tired\n"
     ]
    }
   ],
   "source": [
    "print(df[\"text\"].iloc[546])"
   ]
  },
  {
   "cell_type": "code",
   "execution_count": 6,
   "id": "2df9f85b",
   "metadata": {},
   "outputs": [
    {
     "name": "stdout",
     "output_type": "stream",
     "text": [
      "im lonely  keep me company @YourBestCompany! @foxRadio https://radio.foxnews.com 22 female, new york\n"
     ]
    }
   ],
   "source": [
    "print(df[\"text\"].iloc[547])"
   ]
  },
  {
   "cell_type": "markdown",
   "id": "bee57d6e",
   "metadata": {},
   "source": [
    "### Exercise 4: Everything clean\n",
    "\n",
    "Back to your Twitter sentiment analysis project! There are several types of strings that increase your sentiment analysis complexity. But these strings do not provide any useful sentiment. Among them, we can have links and user mentions.\n",
    "\n",
    "In order to clean the tweets, you want to extract some examples first. You know that most of the times `links` start with `http` and do not contain any whitespace, e.g. `https://www.datacamp.com`. `User mentions` start with `@` and can have `letters` and `numbers` only, e.g. `@johnsmith3`.\n",
    "\n",
    "You write down some helpful quantifiers to help you: `* zero or more times`, `+ once or more`, `? zero or once`.\n",
    "\n",
    "The list `sentiment_analysis4` containing the text of three tweet are already loaded in your session. "
   ]
  },
  {
   "cell_type": "code",
   "execution_count": 50,
   "id": "398a8586",
   "metadata": {},
   "outputs": [
    {
     "data": {
      "text/plain": [
       "['Boredd. Colddd @blueKnight39 Internet keeps stuffing up. Save me! https://www.tellyourstory.com',\n",
       " \"I had a horrible nightmare last night @anitaLopez98 @MyredHat31 which affected my sleep, now I'm really tired\",\n",
       " 'im lonely  keep me company @YourBestCompany! @foxRadio https://radio.foxnews.com 22 female, new york']"
      ]
     },
     "execution_count": 50,
     "metadata": {},
     "output_type": "execute_result"
    }
   ],
   "source": [
    "sentiment_analysis4 = [df[\"text\"].iloc[545], df[\"text\"].iloc[546], df[\"text\"].iloc[547]]\n",
    "sentiment_analysis4"
   ]
  },
  {
   "cell_type": "markdown",
   "id": "58f6d8d6",
   "metadata": {},
   "source": [
    "- Write a regex to find all the matches of `http` links appearing in each tweet in sentiment_analysis4. Print out the result.\n",
    "\n",
    "\n",
    "- Write a regex to find all the matches of `user mentions` appearing in each tweet in sentiment_analysis4. Print out the result."
   ]
  },
  {
   "cell_type": "code",
   "execution_count": 54,
   "id": "915b5696",
   "metadata": {},
   "outputs": [
    {
     "name": "stdout",
     "output_type": "stream",
     "text": [
      "['https://www.tellyourstory.com']\n",
      "['@blueKnight39'] \n",
      "\n",
      "[]\n",
      "['@anitaLopez98', '@MyredHat31'] \n",
      "\n",
      "['https://radio.foxnews.com']\n",
      "['@YourBestCompany', '@foxRadio'] \n",
      "\n"
     ]
    }
   ],
   "source": [
    "for tweets in sentiment_analysis4:\n",
    "    ## q1\n",
    "    print(re.findall(r\"https?\\W+\\w+\\W\\w+\\W\\w+\",tweets))\n",
    "    \n",
    "    ## q2\n",
    "    print(re.findall(r\"@\\w+\\d*\", tweets), \"\\n\")"
   ]
  },
  {
   "cell_type": "markdown",
   "id": "eb339f78",
   "metadata": {},
   "source": [
    "### Exercise 5: Some time ago\n",
    "\n",
    "You are interested in knowing when the tweets were posted. After reading a little bit more, you learn that dates are provided in different ways. You decide to extract the dates using `.findall()` so you can normalize them afterwards to make them all look the same.\n",
    "\n",
    "You realize that the dates are always presented in one of the following ways:\n",
    "\n",
    "`27 minutes ago`\n",
    "\n",
    "`4 hours ago`\n",
    "\n",
    "`23rd june 2018`\n",
    "\n",
    "`1st september 2019 17:25`\n",
    "\n",
    "The list sentiment_analysis5 containing the text of three tweets,"
   ]
  },
  {
   "cell_type": "code",
   "execution_count": 55,
   "id": "e92863c7",
   "metadata": {},
   "outputs": [
    {
     "data": {
      "text/plain": [
       "['I would like to apologize for the repeated Video Games Live related tweets. 32 minutes ago',\n",
       " '@zaydia but i cant figure out how to get there / back / pay for a hotel 1st May 2019',\n",
       " 'FML: So much for seniority, bc of technological ineptness 23rd June 2018 17:54']"
      ]
     },
     "execution_count": 55,
     "metadata": {},
     "output_type": "execute_result"
    }
   ],
   "source": [
    "sentiment_analysis5 = [df[\"text\"].iloc[232], df[\"text\"].iloc[233], df[\"text\"].iloc[234]]\n",
    "sentiment_analysis5"
   ]
  },
  {
   "cell_type": "markdown",
   "id": "bfbdc8d0",
   "metadata": {},
   "source": [
    "- Use for-loop with a regex that finds all dates in a format similar to `27 minutes ago` or `4 hours ago`.\n",
    "\n",
    "\n",
    "- Use for-loop with a regex that finds all dates in a format similar to `23rd june 2018`.\n",
    "\n",
    "\n",
    "- Use for-loop with a regex that finds all dates in a format similar to `1st september 2019 17:25`."
   ]
  },
  {
   "cell_type": "code",
   "execution_count": 69,
   "id": "9707c113",
   "metadata": {},
   "outputs": [
    {
     "name": "stdout",
     "output_type": "stream",
     "text": [
      "['32 minutes ago']\n",
      "[]\n",
      "[]\n",
      "['32 minutes ago']\n",
      "[]\n",
      "[]\n"
     ]
    }
   ],
   "source": [
    "## q1\n",
    "for tweet in sentiment_analysis5:\n",
    "    print(re.findall(r\"\\d+\\s\\w+\\sago\", tweet))\n",
    "    \n",
    "## q1 another way\n",
    "for tweet in sentiment_analysis5:\n",
    "    print(re.findall(r\"\\d{2}\\s\\w+\\sago\", tweet))\n",
    "    "
   ]
  },
  {
   "cell_type": "code",
   "execution_count": 67,
   "id": "0cb3f862",
   "metadata": {
    "scrolled": false
   },
   "outputs": [
    {
     "name": "stdout",
     "output_type": "stream",
     "text": [
      "[]\n",
      "['1st May 2019']\n",
      "['23rd June 2018']\n",
      "[]\n",
      "['1st May 2019']\n",
      "['23rd June 2018']\n"
     ]
    }
   ],
   "source": [
    "## q2\n",
    "for tweet in sentiment_analysis5:    \n",
    "    print(re.findall(r\"\\d+\\w+\\s\\w+\\s\\d+\", tweet))\n",
    "    \n",
    "## q2 another way\n",
    "for tweet in sentiment_analysis5:    \n",
    "    print(re.findall(r\"\\d{1,2}\\w{2}\\s\\w+\\s\\d{4}\", tweet))"
   ]
  },
  {
   "cell_type": "code",
   "execution_count": null,
   "id": "4eeb00fa",
   "metadata": {},
   "outputs": [],
   "source": []
  },
  {
   "cell_type": "code",
   "execution_count": 70,
   "id": "87d55a0a",
   "metadata": {},
   "outputs": [
    {
     "name": "stdout",
     "output_type": "stream",
     "text": [
      "[]\n",
      "[]\n",
      "['23rd June 2018 17:54']\n",
      "[]\n",
      "[]\n",
      "['23rd June 2018 17:54']\n"
     ]
    }
   ],
   "source": [
    "## q3\n",
    "for tweet in sentiment_analysis5:    \n",
    "    print(re.findall(r\"\\d+\\w+\\s\\w+\\s\\d+\\s\\d+:\\d+\", tweet))\n",
    "\n",
    "\n",
    "\n",
    "## q3 another way\n",
    "for tweet in sentiment_analysis5:    \n",
    "    print(re.findall(r\"\\d{1,2}\\w{2}\\s\\w+\\s\\d{4}\\s\\d{2}:\\d{2}\", tweet))"
   ]
  },
  {
   "cell_type": "markdown",
   "id": "47dd3ff4",
   "metadata": {},
   "source": [
    "### Exercise 6: Getting tokens\n",
    "\n",
    "Your next step is to `tokenize` the text of your tweets. `Tokenization is the process of breaking a string into lexical units or, in simpler terms, words.` \n",
    "\n",
    "But first, you need to remove `hashtags` so they do not cloud your process. You realize that hashtags start with a `#` symbol and contain letters and numbers but `never whitespace`. After that, you plan to `split` the text at whitespace matches to get the tokens.\n",
    "\n",
    "You bring your list of quantifiers to help you: `* zero or more times`, `+ once or more`, `? zero or once`, `{n, m} minimum n, maximum m`.\n",
    "\n",
    "The variable `sentiment_analysis6` containing the text of one tweet"
   ]
  },
  {
   "cell_type": "code",
   "execution_count": 71,
   "id": "1202b2a2",
   "metadata": {},
   "outputs": [],
   "source": [
    "sentiment_analysis6 = 'ITS NOT ENOUGH TO SAY THAT IMISS U #MissYou #SoMuch #Friendship #Forever'"
   ]
  },
  {
   "cell_type": "markdown",
   "id": "0ab712a0",
   "metadata": {},
   "source": [
    "- Write a regex that matches the described hashtag pattern. Assign it to the regex variable.\n",
    "\n",
    "\n",
    "- Replace all the matches of the regex with an empty string \"\". Assign it to no_hashtag variable.\n",
    "\n",
    "\n",
    "- Split the text in the no_hashtag variable at every match of one or more consecutive whitespace."
   ]
  },
  {
   "cell_type": "code",
   "execution_count": 72,
   "id": "93a54759",
   "metadata": {},
   "outputs": [],
   "source": [
    "# q1\n",
    "regex_var = r\"#\\w+\""
   ]
  },
  {
   "cell_type": "code",
   "execution_count": 74,
   "id": "4861e861",
   "metadata": {},
   "outputs": [
    {
     "data": {
      "text/plain": [
       "'ITS NOT ENOUGH TO SAY THAT IMISS U    '"
      ]
     },
     "execution_count": 74,
     "metadata": {},
     "output_type": "execute_result"
    }
   ],
   "source": [
    "# q2\n",
    "no_hashtag = re.sub(regex_var, \"\", sentiment_analysis6)\n",
    "no_hashtag"
   ]
  },
  {
   "cell_type": "code",
   "execution_count": 78,
   "id": "97877eb1",
   "metadata": {},
   "outputs": [
    {
     "data": {
      "text/plain": [
       "['ITS', 'NOT', 'ENOUGH', 'TO', 'SAY', 'THAT', 'IMISS', 'U', '']"
      ]
     },
     "execution_count": 78,
     "metadata": {},
     "output_type": "execute_result"
    }
   ],
   "source": [
    "# q3\n",
    "splt = re.split(r\"\\s+\", no_hashtag)\n",
    "splt"
   ]
  },
  {
   "cell_type": "markdown",
   "id": "a70c8b2a",
   "metadata": {},
   "source": [
    "### Regex metacharacters\n",
    "\n",
    "Now, we will look at some other metacharacters that are very useful.\n",
    "\n",
    "\n",
    "Let's first look at two methods of the re module: dot search and dot match. \n",
    "\n",
    "<img src=\"sm.jpg\" style=\"max-width:600px\">\n",
    "\n",
    "As you can see, they have the same syntax and are used to find a match. \n",
    "\n",
    "\n",
    "In the example, we use both methods to find a digit appearing four times. Both methods return an object with the match found. "
   ]
  },
  {
   "cell_type": "code",
   "execution_count": 2,
   "id": "d2a3f311",
   "metadata": {},
   "outputs": [
    {
     "data": {
      "text/plain": [
       "<re.Match object; span=(0, 4), match='4506'>"
      ]
     },
     "execution_count": 2,
     "metadata": {},
     "output_type": "execute_result"
    }
   ],
   "source": [
    "re.search(r\"\\d{4}\", \"4506 people attend the show\")"
   ]
  },
  {
   "cell_type": "code",
   "execution_count": 3,
   "id": "2eefad9e",
   "metadata": {},
   "outputs": [
    {
     "data": {
      "text/plain": [
       "<re.Match object; span=(0, 4), match='4506'>"
      ]
     },
     "execution_count": 3,
     "metadata": {},
     "output_type": "execute_result"
    }
   ],
   "source": [
    "re.match(r\"\\d{4}\", \"4506 people attend the show\")"
   ]
  },
  {
   "cell_type": "markdown",
   "id": "422b6171",
   "metadata": {},
   "source": [
    "The difference is that dot match is anchored at the beginning of the string. \n",
    "\n",
    "In the second example, we used them to find a match for a digit."
   ]
  },
  {
   "cell_type": "code",
   "execution_count": 4,
   "id": "bc7e4375",
   "metadata": {},
   "outputs": [
    {
     "data": {
      "text/plain": [
       "<re.Match object; span=(17, 18), match='3'>"
      ]
     },
     "execution_count": 4,
     "metadata": {},
     "output_type": "execute_result"
    }
   ],
   "source": [
    "re.search(r\"\\d+\", \"Yesterday, I saw 3 shows\")"
   ]
  },
  {
   "cell_type": "code",
   "execution_count": 5,
   "id": "e12c6e3e",
   "metadata": {},
   "outputs": [],
   "source": [
    "re.match(r\"\\d+\",\"Yesterday, I saw 3 shows\")"
   ]
  },
  {
   "cell_type": "markdown",
   "id": "3c52f96a",
   "metadata": {},
   "source": [
    "In this case, dot search finds a match, but dot match does not. This is because the first characters do not match the regex."
   ]
  },
  {
   "cell_type": "markdown",
   "id": "16bbd723",
   "metadata": {},
   "source": [
    "### Special characters (\" . \" meta character)\n",
    "\n",
    "`The dot metacharacter matches any character(except newline)`. \n",
    "\n",
    "In the example code, we need to match links in the string. We know a link starts with w, w, w and ends with c, o, m. So we first write this in our regex. We don't know how many character are in between. So we indicate that we want any character, a dot, once or more times, adding the plus. We can see in the output that we get our match."
   ]
  },
  {
   "cell_type": "code",
   "execution_count": 6,
   "id": "958f0c44",
   "metadata": {},
   "outputs": [
    {
     "data": {
      "text/plain": [
       "['www.amazingpics.com']"
      ]
     },
     "execution_count": 6,
     "metadata": {},
     "output_type": "execute_result"
    }
   ],
   "source": [
    "my_links =\"Just check out this link: www.amazingpics.com. It has amazing photos!\"\n",
    "re.findall(r\"www.+com\", my_links)"
   ]
  },
  {
   "cell_type": "markdown",
   "id": "3814ea8b",
   "metadata": {},
   "source": [
    "###  Special characters  (\" ^ \" meta character)\n",
    "\n",
    "The circumflex anchors the regex to the start of a string. \n",
    "\n",
    "In the example, we find the pattern starting with t, followed by h, e, whitespace, two digits and ending with s. The method finds the following two matches. "
   ]
  },
  {
   "cell_type": "code",
   "execution_count": 7,
   "id": "48c51730",
   "metadata": {},
   "outputs": [
    {
     "data": {
      "text/plain": [
       "['the 80s', 'the 90s']"
      ]
     },
     "execution_count": 7,
     "metadata": {},
     "output_type": "execute_result"
    }
   ],
   "source": [
    "my_string = \"the 80s music was much better that the 90s\"\n",
    "re.findall(r\"the\\s\\d+s\", my_string)"
   ]
  },
  {
   "cell_type": "code",
   "execution_count": 8,
   "id": "79e2d0f2",
   "metadata": {},
   "outputs": [
    {
     "data": {
      "text/plain": [
       "['the 80s']"
      ]
     },
     "execution_count": 8,
     "metadata": {},
     "output_type": "execute_result"
    }
   ],
   "source": [
    "re.findall(r\"^the\\s\\d+s\", my_string)"
   ]
  },
  {
   "cell_type": "markdown",
   "id": "875916ba",
   "metadata": {},
   "source": [
    "Now, when we added the anchor metacharacter. We receive only one match. The one that appears at the beginning of the string."
   ]
  },
  {
   "cell_type": "markdown",
   "id": "26d279f6",
   "metadata": {},
   "source": [
    "###  Special characters (End of the string: dollar metacharacter)\n",
    "\n",
    "`$`  meta character\n",
    "\n",
    "On the contrary, the dollar sign anchors the regex to the end of the string. If we use it in the previous example, we get the match that appears at the end of the string."
   ]
  },
  {
   "cell_type": "code",
   "execution_count": 9,
   "id": "5808d547",
   "metadata": {},
   "outputs": [
    {
     "data": {
      "text/plain": [
       "['the 90s']"
      ]
     },
     "execution_count": 9,
     "metadata": {},
     "output_type": "execute_result"
    }
   ],
   "source": [
    "my_string =\"the 80s music hits were much better that the 90s\"\n",
    "re.findall(r\"the\\s\\d+s$\", my_string)"
   ]
  },
  {
   "cell_type": "markdown",
   "id": "61c95bf3",
   "metadata": {},
   "source": [
    "### Special characters (Escape special characters: \\)\n",
    "\n",
    "What if I want to use characters like dollar sign or dot, which also have other meanings? \n",
    "\n",
    "Let's look at an example. We want to split the string by dot whitespace. We write the following regex. "
   ]
  },
  {
   "cell_type": "code",
   "execution_count": 10,
   "id": "7cc13676",
   "metadata": {},
   "outputs": [
    {
     "name": "stdout",
     "output_type": "stream",
     "text": [
      "['', 'lov', 'th', 'musi', 'o', 'Mr.Go', 'However', 'th', 'soun', 'wa', 'to', 'loud.']\n"
     ]
    }
   ],
   "source": [
    "my_string = \"I love the music of Mr.Go. However, the sound was too loud.\"\n",
    "print(re.split(r\".\\s\", my_string))"
   ]
  },
  {
   "cell_type": "markdown",
   "id": "a355c1cd",
   "metadata": {},
   "source": [
    "And we get an output that it is not what we expected. Why? Because the regex interprets the dot as any character. \n",
    "\n",
    "To solve this situation, we need to escape the character by adding a backslash in front of the dot. Now we get the correct output."
   ]
  },
  {
   "cell_type": "code",
   "execution_count": 11,
   "id": "e070a524",
   "metadata": {},
   "outputs": [
    {
     "name": "stdout",
     "output_type": "stream",
     "text": [
      "['I love the music of Mr.Go', 'However, the sound was too loud.']\n"
     ]
    }
   ],
   "source": [
    "my_string = \"I love the music of Mr.Go. However, the sound was too loud.\"\n",
    "print(re.split(r\"\\.\\s\", my_string))"
   ]
  },
  {
   "cell_type": "markdown",
   "id": "464d1d5b",
   "metadata": {},
   "source": [
    "### OR operator(\" | \")\n",
    "\n",
    "In the example code, we want to match the word elephant. However, we see that it's written with capital E or lower e. In that case, we use the vertical bar. \n",
    "\n",
    "In this way, we indicate that we want to match one variant OR the other obtaining both elephant-matches."
   ]
  },
  {
   "cell_type": "code",
   "execution_count": 12,
   "id": "06946c49",
   "metadata": {},
   "outputs": [
    {
     "data": {
      "text/plain": [
       "['Elephant', 'elephant']"
      ]
     },
     "execution_count": 12,
     "metadata": {},
     "output_type": "execute_result"
    }
   ],
   "source": [
    "my_string = \"Elephants are the world's largest land animal! I would love to see an elephant one day\"\n",
    "re.findall(r\"Elephant|elephant\", my_string)"
   ]
  },
  {
   "cell_type": "markdown",
   "id": "7d70b517",
   "metadata": {},
   "source": [
    "### OR operator (square \" [ ] \" brackets)\n",
    "\n",
    "Square brackets also represent the OR operand. Inside them, we can specify optional characters to match. \n",
    "\n",
    "Look at the example. We want to find a pattern that contains lowercase or uppercase letter followed by a digit. To do so, we can use the square brackets. Inside them, we will use lowercase a dash lowercase z to specify any lowercase letter. Then, uppercase a dash uppercase z to indicate any uppercase letter. Then the plus. Then backslash d. Thus, we get the following matches."
   ]
  },
  {
   "cell_type": "code",
   "execution_count": 13,
   "id": "7190eaa5",
   "metadata": {},
   "outputs": [
    {
     "data": {
      "text/plain": [
       "['MaryJohn2', 'Clary3']"
      ]
     },
     "execution_count": 13,
     "metadata": {},
     "output_type": "execute_result"
    }
   ],
   "source": [
    "my_string = \"Yesterday I spent my afternoon with my friends: MaryJohn2 Clary3\"\n",
    "re.findall(r\"[a-zA-Z]+\\d\", my_string)"
   ]
  },
  {
   "cell_type": "markdown",
   "id": "38a2c1d5",
   "metadata": {},
   "source": [
    "### OR operator (square \" [ ] \" brackets)\n",
    "\n",
    "In the following string, we want to replace the non-word characters by whitespace. We specify optional characters inside the square brackets. The engine searches for one or the other. When it finds a match, it replaces the character by a whitespace, getting the following output."
   ]
  },
  {
   "cell_type": "code",
   "execution_count": 14,
   "id": "91b02386",
   "metadata": {},
   "outputs": [
    {
     "data": {
      "text/plain": [
       "'My name is John Smith. I live in London.'"
      ]
     },
     "execution_count": 14,
     "metadata": {},
     "output_type": "execute_result"
    }
   ],
   "source": [
    "my_string = \"My&name&is#John Smith. I%live$in#London.\"\n",
    "re.sub(r\"[#$%&]\", \" \", my_string)"
   ]
  },
  {
   "cell_type": "code",
   "execution_count": 19,
   "id": "b4ef68f4",
   "metadata": {},
   "outputs": [
    {
     "data": {
      "text/plain": [
       "'My name is John Smith  I live in London '"
      ]
     },
     "execution_count": 19,
     "metadata": {},
     "output_type": "execute_result"
    }
   ],
   "source": [
    "my_string = \"My&name&is#John Smith. I%live$in#London.\"\n",
    "re.sub(r\"[\\W]\", \" \", my_string)"
   ]
  },
  {
   "cell_type": "markdown",
   "id": "cb4d6f39",
   "metadata": {},
   "source": [
    "### OR operand with circumflex \n",
    "\n",
    "The circumflex transforms the expression inside square brackets into negative. \n",
    "\n",
    "In the example, we add the circumflex to specify we want the links that do not contain any number. And we get the following output."
   ]
  },
  {
   "cell_type": "code",
   "execution_count": 20,
   "id": "786b515a",
   "metadata": {},
   "outputs": [
    {
     "data": {
      "text/plain": [
       "['www.hola.com']"
      ]
     },
     "execution_count": 20,
     "metadata": {},
     "output_type": "execute_result"
    }
   ],
   "source": [
    "my_links = \"Bad website: www.99.com. Favorite site: www.hola.com\"\n",
    "re.findall(r\"www[^0-9]+com\", my_links)"
   ]
  },
  {
   "cell_type": "markdown",
   "id": "0131a1fd",
   "metadata": {},
   "source": [
    "### Exercise 7: Finding files\n",
    "\n",
    "You are not satisfied with your tweets dataset cleaning. There are still extra strings that do not provide any sentiment. Among them are strings that refer to text file names.\n",
    "\n",
    "You also find a way to detect them:\n",
    "\n",
    "- `They appear at the start of the string.`\n",
    "\n",
    "- `They always start with a sequence of 2 or 3 upper or lowercase vowels (a e i o u)`.\n",
    "\n",
    "- `They always finish with the txt ending.`\n",
    "\n",
    "You are not sure if you should remove them directly. So you write a script to find and store them in a separate dataset.\n",
    "\n",
    "You write down some metacharacters to help you: `^ anchor to beginning`, `. any character`.\n",
    "\n",
    "The variable `sentiment_analysis7` containing the text of two tweets"
   ]
  },
  {
   "cell_type": "code",
   "execution_count": 26,
   "id": "ea328f24",
   "metadata": {},
   "outputs": [
    {
     "data": {
      "text/plain": [
       "['AIshadowhunters.txt aaaaand back to my literature review. At least i have a friendly cup of coffee to keep me company',\n",
       " \"ouMYTAXES.txt I am worried that I won't get my $900 even though I paid tax last year\"]"
      ]
     },
     "execution_count": 26,
     "metadata": {},
     "output_type": "execute_result"
    }
   ],
   "source": [
    "sentiment_analysis7 = [df[\"text\"].iloc[780], df[\"text\"].iloc[781]]\n",
    "sentiment_analysis7"
   ]
  },
  {
   "cell_type": "markdown",
   "id": "e1fff868",
   "metadata": {},
   "source": [
    "- Write a regex that matches the pattern of the text file names, e.g. `aemyfile.txt`.\n",
    "\n",
    "\n",
    "- Find all matches of the regex in the elements of sentiment_analysis. Print out the result.\n",
    "\n",
    "\n",
    "- Replace all matches of the regex with an `empty string \"\"`. Print out the result."
   ]
  },
  {
   "cell_type": "code",
   "execution_count": 29,
   "id": "375d7985",
   "metadata": {},
   "outputs": [
    {
     "name": "stdout",
     "output_type": "stream",
     "text": [
      "['AIshadowhunters.txt']\n",
      " aaaaand back to my literature review. At least i have a friendly cup of coffee to keep me company \n",
      "\n",
      "['ouMYTAXES.txt']\n",
      " I am worried that I won't get my $900 even though I paid tax last year \n",
      "\n"
     ]
    }
   ],
   "source": [
    "## answer\n",
    "regex_txt = r\"[aeiouAEIOU]{2,3}\\w+\\.txt\"\n",
    "\n",
    "for tweet in sentiment_analysis7:\n",
    "    print(re.findall(regex_txt,tweet))\n",
    "    print(re.sub(regex_txt, \"\", tweet), \"\\n\")"
   ]
  },
  {
   "cell_type": "code",
   "execution_count": 32,
   "id": "2fe54abd",
   "metadata": {},
   "outputs": [
    {
     "name": "stdout",
     "output_type": "stream",
     "text": [
      "['AIshadowhunters.txt']\n",
      " aaaaand back to my literature review. At least i have a friendly cup of coffee to keep me company\n",
      "['ouMYTAXES.txt']\n",
      " I am worried that I won't get my $900 even though I paid tax last year\n"
     ]
    }
   ],
   "source": [
    "## answer another way\n",
    "# Write a regex to match text file name\n",
    "regex = r\"^[aeiouAEIOU]{2,3}.+txt\"\n",
    "\n",
    "for text in sentiment_analysis7:\n",
    "    # Find all matches of the regex\n",
    "    print(re.findall(regex, text))\n",
    "    \n",
    "    # Replace all matches with empty string\n",
    "    print(re.sub(regex, \"\", text))"
   ]
  },
  {
   "cell_type": "markdown",
   "id": "54513cb3",
   "metadata": {},
   "source": [
    "### Exercise 8: Give me your email\n",
    "\n",
    "A colleague has asked for your help! When a user signs up on the company website, they must provide a valid email address.\n",
    "The company puts some rules in place to verify that the given email address is valid:\n",
    "\n",
    "- The first part can contain:\n",
    "\n",
    "    `Upper A-Z or lowercase letters a-z`\n",
    "\n",
    "    `Numbers`\n",
    "\n",
    "    `Characters: !, #, %, &, *, $, . `\n",
    "\n",
    "    `Must have @`\n",
    "\n",
    "\n",
    "- Domain:\n",
    "    \n",
    "    `Can contain any word characters`\n",
    "    \n",
    "    `But only .com ending is allowed`\n",
    "\n",
    "The project consist of writing a script that checks if the email address follow the correct pattern. Your colleague gave you a list of email addresses as examples to test.\n",
    "\n",
    "The list emails as well as the re module are loaded in your session."
   ]
  },
  {
   "cell_type": "markdown",
   "id": "87a1ddab",
   "metadata": {},
   "source": [
    "- Write a regular expression to match valid email addresses as described.\n",
    "\n",
    "\n",
    "- Match the regex to the elements contained in emails.\n",
    "\n",
    "\n",
    "- To print out the message indicating if it is a valid email or not, complete .format() statement."
   ]
  },
  {
   "cell_type": "code",
   "execution_count": 33,
   "id": "95801608",
   "metadata": {},
   "outputs": [
    {
     "data": {
      "text/plain": [
       "['n.john.smith@gmail.com', '87victory@hotmail.com', '!#mary-=@msca.net']"
      ]
     },
     "execution_count": 33,
     "metadata": {},
     "output_type": "execute_result"
    }
   ],
   "source": [
    "emails = ['n.john.smith@gmail.com', '87victory@hotmail.com', '!#mary-=@msca.net']\n",
    "emails"
   ]
  },
  {
   "cell_type": "code",
   "execution_count": 35,
   "id": "ccbfb8c4",
   "metadata": {},
   "outputs": [],
   "source": [
    "## there are three special characters here \"$\", \"*\", \".\", so we have to put \"\\\" before those characters\n",
    "\n",
    "regex_emails = r\"[a-zA-Z0-9!#%&\\*\\$\\.]+@\\w+\\.com\""
   ]
  },
  {
   "cell_type": "code",
   "execution_count": 37,
   "id": "081868ec",
   "metadata": {},
   "outputs": [
    {
     "name": "stdout",
     "output_type": "stream",
     "text": [
      "The email n.john.smith@gmail.com is a valid email\n",
      "The email 87victory@hotmail.com is a valid email\n",
      "The email !#mary-=@msca.net is a invalid email\n"
     ]
    }
   ],
   "source": [
    "for email in emails:\n",
    "    if re.match(regex_emails,email):\n",
    "        print(\"The email {example_email} is a valid email\".format(example_email = email))\n",
    "    else:\n",
    "        print(\"The email {example_email} is a invalid email\".format(example_email = email))"
   ]
  },
  {
   "cell_type": "markdown",
   "id": "1af52928",
   "metadata": {},
   "source": [
    "### Exercise 9: Invalid password\n",
    "\n",
    "The second part of the website project is to write a script that validates the password entered by the user. The company also puts some rules in order to verify valid passwords:\n",
    "\n",
    "- `It can contain lowercase a-z and uppercase letters A-Z`\n",
    "\n",
    "- `It can contain numbers`\n",
    "\n",
    "- `It can contain the symbols: *, #, $, %, !, &, .`\n",
    "\n",
    "- `It must be at least 8 characters long but not more than 20`\n",
    "\n",
    "Your colleague also gave you a list of passwords as examples to test.\n",
    "\n",
    "The list `passwords` and the module re are loaded in your session."
   ]
  },
  {
   "cell_type": "code",
   "execution_count": 38,
   "id": "2f025939",
   "metadata": {},
   "outputs": [
    {
     "data": {
      "text/plain": [
       "['Apple34!rose', 'My87hou#4$', 'abc123']"
      ]
     },
     "execution_count": 38,
     "metadata": {},
     "output_type": "execute_result"
    }
   ],
   "source": [
    "passwords = ['Apple34!rose', 'My87hou#4$', 'abc123']\n",
    "passwords"
   ]
  },
  {
   "cell_type": "markdown",
   "id": "01f3e8c4",
   "metadata": {},
   "source": [
    "- Write a regular expression to check if the `passwords are valid` according to the description.\n",
    "\n",
    "\n",
    "- Search the elements in the passwords list to find out if they are valid passwords.\n",
    "\n",
    "\n",
    "- To print out the message indicating if it is a valid password or not, complete .format() statement."
   ]
  },
  {
   "cell_type": "code",
   "execution_count": 39,
   "id": "1cbdac1b",
   "metadata": {},
   "outputs": [],
   "source": [
    "regex_pass = r\"[a-zA-Z0-9\\*#\\$%!&\\.]{8,20}\""
   ]
  },
  {
   "cell_type": "code",
   "execution_count": 41,
   "id": "62b90392",
   "metadata": {},
   "outputs": [
    {
     "name": "stdout",
     "output_type": "stream",
     "text": [
      "This password Apple34!rose is valid\n",
      "This password My87hou#4$ is valid\n",
      "This password abc123 is invalid\n"
     ]
    }
   ],
   "source": [
    "for password in passwords:\n",
    "    if re.search(regex_pass,password):\n",
    "        print(\"This password {password} is valid\".format(password=password))\n",
    "        \n",
    "    else:\n",
    "        print(\"This password {password} is invalid\".format(password=password))"
   ]
  },
  {
   "cell_type": "markdown",
   "id": "8413b08b",
   "metadata": {},
   "source": [
    "### Greedy vs. non-greedy matching\n",
    "\n",
    "You have already worked with repetitions. Now, we'll deepen our understanding of how the quantifiers work.\n",
    "\n",
    "\n",
    "There are two types of matching methods: greedy and non-greedy (also called lazy) operators. \n",
    "\n",
    "The quantifiers that you have been learning until now (which are called standard quantifiers) are greedy by default.\n",
    "\n",
    "### Greedy matching\n",
    "\n",
    "We said that the standard quantifiers have a greedy behavior, meaning that \n",
    "\n",
    "- they will attempt to match as many characters as possible. \n",
    "\n",
    "- And in doing so, they will return the longest match found with a match attempt. \n",
    "\n",
    "Let's take a look at this code. We want to find a pattern that has one or more digits on the string displayed and our greedy quantifier will return the pattern '12345'. "
   ]
  },
  {
   "cell_type": "code",
   "execution_count": 42,
   "id": "caaf577d",
   "metadata": {},
   "outputs": [
    {
     "data": {
      "text/plain": [
       "<re.Match object; span=(0, 5), match='12345'>"
      ]
     },
     "execution_count": 42,
     "metadata": {},
     "output_type": "execute_result"
    }
   ],
   "source": [
    "re.match(r\"\\d+\", \"12345bcada\")"
   ]
  },
  {
   "cell_type": "markdown",
   "id": "e64c62aa",
   "metadata": {},
   "source": [
    "We can explain this in the following way: \n",
    "\n",
    "<img src=\"g.jpg\" style=\"max-width:600px\">\n",
    "\n",
    "our quantifier will start by matching the first digit found, '1'. Because it is greedy, it will keep going to find 'more' digits and stop only when no other digit can be matched, returning '12345'."
   ]
  },
  {
   "cell_type": "markdown",
   "id": "f402683e",
   "metadata": {},
   "source": [
    "### Non-greedy matching\n",
    "Because they have lazy behavior, \n",
    "\n",
    "- non-greedy quantifiers will attempt to match as few characters as needed \n",
    "\n",
    "- returning the shortest match. \n",
    "\n",
    "So how do we obtain non-greedy quantifiers? We can append a question mark at the end of the greedy quantifiers to convert them into lazy. \n",
    "\n",
    "If we take the same code as before, our non-greedy quantifier will return the pattern '1'. "
   ]
  },
  {
   "cell_type": "code",
   "execution_count": 43,
   "id": "bb349087",
   "metadata": {},
   "outputs": [
    {
     "data": {
      "text/plain": [
       "<re.Match object; span=(0, 1), match='1'>"
      ]
     },
     "execution_count": 43,
     "metadata": {},
     "output_type": "execute_result"
    }
   ],
   "source": [
    "re.match(r\"\\d+?\", \"12345bcada\")"
   ]
  },
  {
   "cell_type": "markdown",
   "id": "e4affd06",
   "metadata": {},
   "source": [
    "<img src=\"n.jpg\" style=\"max-width:600px\">\n",
    "\n",
    "In this case, our quantifier will start by matching the first digit found, '1'. Because it is non-greedy, it will stop there as we stated that we want 'one or more' and one is as few as needed."
   ]
  },
  {
   "cell_type": "markdown",
   "id": "9902f657",
   "metadata": {},
   "source": [
    "### Greedy matching(Backtrack)\n",
    "\n",
    "However, there is another characteristic that we should explore. \n",
    "\n",
    "If the greedy quantifier has matched so many characters that can not match the rest of pattern, it will backtrack, giving up characters matched earlier one at a time and try again. \n",
    "\n",
    "Backtracking is like driving a car without a map. If you drive through a path and hit a dead end street, you need to backtrack along your road to an earlier point to take another street. To make this more clear, we'll take this example code. \n",
    "\n",
    "We use the greedy quantifier `.*` to find anything, zero or more times, followed by the letters `\"h\" \"e\" \"l\" \"l\" \"o\"`. We can see here that it returns the pattern `'xhello'`. "
   ]
  },
  {
   "cell_type": "code",
   "execution_count": 44,
   "id": "65c92f2b",
   "metadata": {},
   "outputs": [
    {
     "data": {
      "text/plain": [
       "<re.Match object; span=(0, 6), match='xhello'>"
      ]
     },
     "execution_count": 44,
     "metadata": {},
     "output_type": "execute_result"
    }
   ],
   "source": [
    "re.match(r\".*hello\", \"xhelloxxxxxx\")"
   ]
  },
  {
   "cell_type": "markdown",
   "id": "99a8a0ba",
   "metadata": {},
   "source": [
    "<img src=\"g-1.jpg\" style=\"max-width:800px\">\n",
    "\n",
    "So our greedy quantifier will start by matching as much as possible, the entire string. Then it tries to match the h, but there are no characters left. So it backtracks, giving up one matched character. Trying again. It still doesn't match the h, so it backtracks one more step repeatedly till it finally matches the h in the regex, and the rest of the characters."
   ]
  },
  {
   "cell_type": "markdown",
   "id": "687b68d8",
   "metadata": {},
   "source": [
    "###  Non-greedy matching(Backtrack)\n",
    "\n",
    "Non-greedy quantifiers also backtrack. In this case, if they have matched so few characters that the rest of the pattern cannot match, they backtrack, expand the matched character one at a time and try again. Let's take the same example code again. \n",
    "\n",
    "This time we will use the lazy quantifier `.*?`. Interestingly, we obtain the same match `'xhello'`. But how this match was obtained is different from the first time."
   ]
  },
  {
   "cell_type": "code",
   "execution_count": 45,
   "id": "0405be8e",
   "metadata": {},
   "outputs": [
    {
     "data": {
      "text/plain": [
       "<re.Match object; span=(0, 6), match='xhello'>"
      ]
     },
     "execution_count": 45,
     "metadata": {},
     "output_type": "execute_result"
    }
   ],
   "source": [
    "re.match(r\".*?hello\", \"xhelloxxxxxx\")"
   ]
  },
  {
   "cell_type": "markdown",
   "id": "b59d6ae0",
   "metadata": {},
   "source": [
    "<img src=\"n-1.jpg\" style=\"max-width:800px\">\n",
    "\n",
    "The lazy quantifier first matches as little as possible, nothing, leaving the entire string unmatched. Then it tries to match the h, but it doesn't work. So it backtracks, matching one more character, the x. Then it tries again, this time matching the h, and afterwards, the rest of the regex."
   ]
  },
  {
   "cell_type": "markdown",
   "id": "cb74eb3b",
   "metadata": {},
   "source": [
    "### Exercise 10: Understanding the difference\n",
    "\n",
    "You need to keep working and cleaning your tweets dataset. You realize that there are some HTML tags present. You need to remove them but keep the inside content as they are useful for analysis.\n",
    "\n",
    "Let's take a look at this sentence containing an `HTML` tag:\n",
    "\n",
    "`I want to see that <strong>amazing show</strong> again!.`\n",
    "\n",
    "You know that to get the HTML tag you need to match anything that sits inside angle brackets `< >`. But the biggest problem is that the closing tag has the same structure. If you match too much, you will end up removing key information. So you need to decide whether to use a greedy or a lazy quantifier.\n",
    "\n",
    "The string is already loaded as `string` to your session."
   ]
  },
  {
   "cell_type": "code",
   "execution_count": 46,
   "id": "64bfc215",
   "metadata": {},
   "outputs": [
    {
     "data": {
      "text/plain": [
       "'I want to see that <strong>amazing show</strong> again!'"
      ]
     },
     "execution_count": 46,
     "metadata": {},
     "output_type": "execute_result"
    }
   ],
   "source": [
    "string = 'I want to see that <strong>amazing show</strong> again!'\n",
    "string"
   ]
  },
  {
   "cell_type": "markdown",
   "id": "8fd79e9a",
   "metadata": {},
   "source": [
    "- Write a regex expression to replace HTML tags with an empty string. Print out the result."
   ]
  },
  {
   "cell_type": "code",
   "execution_count": 47,
   "id": "3ef6e6f7",
   "metadata": {},
   "outputs": [
    {
     "name": "stdout",
     "output_type": "stream",
     "text": [
      "I want to see that amazing show again!\n"
     ]
    }
   ],
   "source": [
    "print(re.sub(r\"<.+?>\", \"\", string))"
   ]
  },
  {
   "cell_type": "markdown",
   "id": "d4f5a780",
   "metadata": {},
   "source": [
    "### Exercise 11: Greedy matching\n",
    "\n",
    "Next, you see that numbers still appear in the text of the tweets. So, you decide to find all of them.\n",
    "\n",
    "Let's imagine that you want to extract the number contained in the sentence I was born on `April 24th`. A `lazy quantifier` will make the regex return `2` and `4`, because they will match as `few` characters as needed. However, a greedy quantifier will return the `entire 24` due to its need to match as much as possible.\n",
    "\n",
    "The re module as well as the variable `sentiment_analysis8` are already loaded in your session. "
   ]
  },
  {
   "cell_type": "code",
   "execution_count": 48,
   "id": "0ddb69f1",
   "metadata": {},
   "outputs": [
    {
     "data": {
      "text/plain": [
       "'Was intending to finish editing my 536-page novel manuscript tonight, but that will probably not happen. And only 12 pages are left '"
      ]
     },
     "execution_count": 48,
     "metadata": {},
     "output_type": "execute_result"
    }
   ],
   "source": [
    "sentiment_analysis8 = 'Was intending to finish editing my 536-page novel manuscript tonight, but that will probably not happen. And only 12 pages are left '\n",
    "sentiment_analysis8"
   ]
  },
  {
   "cell_type": "markdown",
   "id": "c2bf33b5",
   "metadata": {},
   "source": [
    "- Use a `lazy quantifier` to match all numbers that appear in the variable `sentiment_analysis`.\n",
    "\n",
    "- Now, use a `greedy quantifier` to match all numbers that appear in the variable `sentiment_analysis`."
   ]
  },
  {
   "cell_type": "code",
   "execution_count": 49,
   "id": "d3581a91",
   "metadata": {},
   "outputs": [
    {
     "name": "stdout",
     "output_type": "stream",
     "text": [
      "['5', '3', '6', '1', '2']\n"
     ]
    }
   ],
   "source": [
    "## lazy\n",
    "print(re.findall(r\"\\d+?\", sentiment_analysis8))"
   ]
  },
  {
   "cell_type": "code",
   "execution_count": 50,
   "id": "03d88ec2",
   "metadata": {},
   "outputs": [
    {
     "name": "stdout",
     "output_type": "stream",
     "text": [
      "['536', '12']\n"
     ]
    }
   ],
   "source": [
    "## greedy\n",
    "print(re.findall(r\"\\d+\", sentiment_analysis8))"
   ]
  },
  {
   "cell_type": "markdown",
   "id": "251c2aa2",
   "metadata": {},
   "source": [
    "### Exercise12: Lazy approach\n",
    "\n",
    "You have done some cleaning in your dataset but you are worried that there are sentences encased in parentheses that may cloud your analysis.\n",
    "\n",
    "Again, a greedy or a lazy quantifier may lead to different results.\n",
    "\n",
    "For example, if you want to extract a word starting with `a` and ending with `e` in the string `I like apple pie`, you may think that applying the `greedy` regex `a.+e` will return `apple`. However, your match will be `apple pie`. A way to overcome this is to make it `lazy` by using `?` which will return `apple`.\n",
    "\n",
    "The re module and the variable `sentiment_analysis9` are already loaded in your session."
   ]
  },
  {
   "cell_type": "code",
   "execution_count": 51,
   "id": "4b8ca3cc",
   "metadata": {},
   "outputs": [
    {
     "name": "stdout",
     "output_type": "stream",
     "text": [
      "Put vacation photos online (They were so cute) a few yrs ago. PC crashed, and now I forget the name of the site (I'm crying). \n"
     ]
    }
   ],
   "source": [
    "sentiment_analysis9 = \"Put vacation photos online (They were so cute) a few yrs ago. PC crashed, and now I forget the name of the site (I'm crying). \"\n",
    "print(sentiment_analysis9)"
   ]
  },
  {
   "cell_type": "markdown",
   "id": "66d88402",
   "metadata": {},
   "source": [
    "- Use a `greedy quantifier` to match text that appears within `parentheses` in the variable sentiment_analysis.\n",
    "\n",
    "- Now, use a `lazy quantifier` to match text that appears within `parentheses` in the variable sentiment_analysis."
   ]
  },
  {
   "cell_type": "code",
   "execution_count": 53,
   "id": "2ca05978",
   "metadata": {},
   "outputs": [
    {
     "name": "stdout",
     "output_type": "stream",
     "text": [
      "[\"(They were so cute) a few yrs ago. PC crashed, and now I forget the name of the site (I'm crying)\"]\n"
     ]
    }
   ],
   "source": [
    "## greedy\n",
    "print(re.findall(r\"\\(.+\\)\", sentiment_analysis9))"
   ]
  },
  {
   "cell_type": "code",
   "execution_count": 54,
   "id": "df210ba0",
   "metadata": {},
   "outputs": [
    {
     "name": "stdout",
     "output_type": "stream",
     "text": [
      "['(They were so cute)', \"(I'm crying)\"]\n"
     ]
    }
   ],
   "source": [
    "## lazy\n",
    "print(re.findall(r\"\\(.+?\\)\", sentiment_analysis9))"
   ]
  },
  {
   "cell_type": "markdown",
   "id": "5a1379a3",
   "metadata": {},
   "source": [
    "Notice that using greedy quantifiers always leads to longer matches that sometimes are not desired. Making quantifiers lazy by adding `?` to match a shorter pattern is a very important consideration to keep in mind when handling data for text mining."
   ]
  },
  {
   "cell_type": "code",
   "execution_count": null,
   "id": "9ae69f68",
   "metadata": {},
   "outputs": [],
   "source": []
  },
  {
   "cell_type": "code",
   "execution_count": null,
   "id": "62c89c4e",
   "metadata": {},
   "outputs": [],
   "source": []
  }
 ],
 "metadata": {
  "kernelspec": {
   "display_name": "Python 3",
   "language": "python",
   "name": "python3"
  },
  "language_info": {
   "codemirror_mode": {
    "name": "ipython",
    "version": 3
   },
   "file_extension": ".py",
   "mimetype": "text/x-python",
   "name": "python",
   "nbconvert_exporter": "python",
   "pygments_lexer": "ipython3",
   "version": "3.8.8"
  }
 },
 "nbformat": 4,
 "nbformat_minor": 5
}
