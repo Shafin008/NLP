{
 "cells": [
  {
   "cell_type": "markdown",
   "id": "f5b48cb2",
   "metadata": {},
   "source": [
    "### Splitting\n",
    "\n",
    "There are methods that can convert between a string and other types of data, such as lists by breaking a string into pieces. \n",
    "\n",
    "Let's work with the following example. We want to split the string into a list of substrings. Python provides us with two methods: dot split and dot rsplit. Both of them return a list.They both take a separating element by which we are splitting the string, and a maxsplit that tells us the maximum number of substrings we want. "
   ]
  },
  {
   "cell_type": "code",
   "execution_count": 1,
   "id": "28ee6865",
   "metadata": {},
   "outputs": [
    {
     "data": {
      "text/plain": [
       "'This string will be split'"
      ]
     },
     "execution_count": 1,
     "metadata": {},
     "output_type": "execute_result"
    }
   ],
   "source": [
    "my_string = \"This string will be split\"\n",
    "my_string"
   ]
  },
  {
   "cell_type": "code",
   "execution_count": 5,
   "id": "9e099388",
   "metadata": {},
   "outputs": [
    {
     "data": {
      "text/plain": [
       "['This', 'string', 'will be split']"
      ]
     },
     "execution_count": 5,
     "metadata": {},
     "output_type": "execute_result"
    }
   ],
   "source": [
    "## .split() method\n",
    "my_string.split(sep=\" \", maxsplit=2)"
   ]
  },
  {
   "cell_type": "code",
   "execution_count": 6,
   "id": "4dd2b5c1",
   "metadata": {},
   "outputs": [
    {
     "data": {
      "text/plain": [
       "['This string will', 'be', 'split']"
      ]
     },
     "execution_count": 6,
     "metadata": {},
     "output_type": "execute_result"
    }
   ],
   "source": [
    "my_string.rsplit(sep=\" \", maxsplit=2)"
   ]
  },
  {
   "cell_type": "markdown",
   "id": "a797c1f5",
   "metadata": {},
   "source": [
    "As we can see in the code, the difference is that .split() starts splitting at the left. .rsplit() begins at the right of the string. \n",
    "\n",
    "If maxsplit is not specified both methods behave in the same way. They give as many substrings as possible. If you want the split to be done by the whitespace you don't have to specify the sep argument."
   ]
  },
  {
   "cell_type": "code",
   "execution_count": 7,
   "id": "5a965b18",
   "metadata": {},
   "outputs": [
    {
     "data": {
      "text/plain": [
       "['This', 'string', 'will', 'be', 'split']"
      ]
     },
     "execution_count": 7,
     "metadata": {},
     "output_type": "execute_result"
    }
   ],
   "source": [
    "## .split() method\n",
    "my_string.split()"
   ]
  },
  {
   "cell_type": "code",
   "execution_count": 8,
   "id": "72533aea",
   "metadata": {},
   "outputs": [
    {
     "data": {
      "text/plain": [
       "['This', 'string', 'will', 'be', 'split']"
      ]
     },
     "execution_count": 8,
     "metadata": {},
     "output_type": "execute_result"
    }
   ],
   "source": [
    "my_string.rsplit()"
   ]
  },
  {
   "cell_type": "markdown",
   "id": "91a5ad65",
   "metadata": {},
   "source": [
    "Consider the following string. If we print it out, we can see that contains two lines. Why is that? "
   ]
  },
  {
   "cell_type": "code",
   "execution_count": 9,
   "id": "cf5ab9c4",
   "metadata": {},
   "outputs": [
    {
     "name": "stdout",
     "output_type": "stream",
     "text": [
      "This string will be split\n",
      "in two\n"
     ]
    }
   ],
   "source": [
    "my_string = \"This string will be split\\nin two\"\n",
    "print(my_string)"
   ]
  },
  {
   "cell_type": "code",
   "execution_count": 10,
   "id": "f6b30620",
   "metadata": {},
   "outputs": [
    {
     "name": "stdout",
     "output_type": "stream",
     "text": [
      "This string will be split\r",
      "in two\n"
     ]
    }
   ],
   "source": [
    "my_string2 = \"This string will be split\\rin two\"\n",
    "print(my_string2) "
   ]
  },
  {
   "cell_type": "markdown",
   "id": "b22f3040",
   "metadata": {},
   "source": [
    "There are some escape sequences such as \\n or \\r that indicates a line boundary. Sometimes, we want to split a string into lines. So in the case of our string, we want to split it at the \\n."
   ]
  },
  {
   "cell_type": "markdown",
   "id": "b9f161a2",
   "metadata": {},
   "source": [
    "### splitlines\n",
    "\n",
    "For this aim, Python has the method splitlines(). "
   ]
  },
  {
   "cell_type": "code",
   "execution_count": 11,
   "id": "e7bbb62e",
   "metadata": {},
   "outputs": [
    {
     "name": "stdout",
     "output_type": "stream",
     "text": [
      "This string will be split\n",
      "in two\n"
     ]
    }
   ],
   "source": [
    "my_string = \"This string will be split\\nin two\"\n",
    "print(my_string)"
   ]
  },
  {
   "cell_type": "code",
   "execution_count": 12,
   "id": "d0aedfff",
   "metadata": {},
   "outputs": [
    {
     "data": {
      "text/plain": [
       "['This string will be split', 'in two']"
      ]
     },
     "execution_count": 12,
     "metadata": {},
     "output_type": "execute_result"
    }
   ],
   "source": [
    "my_string.splitlines()"
   ]
  },
  {
   "cell_type": "markdown",
   "id": "918e4424",
   "metadata": {},
   "source": [
    "As we can see in the code, the string is split at the slash n sequence returning a list of two elements."
   ]
  },
  {
   "cell_type": "markdown",
   "id": "400856b6",
   "metadata": {},
   "source": [
    "### Joining\n",
    "Some methods can paste or concatenate together the objects in a list or other iterable data. This is the case for dot join method. The syntax is simple. \n",
    "\n",
    "- It first takes the separating element. \n",
    "\n",
    "- Inside the call, we specify the list or iterable element. "
   ]
  },
  {
   "cell_type": "code",
   "execution_count": 13,
   "id": "a06cc71c",
   "metadata": {},
   "outputs": [
    {
     "data": {
      "text/plain": [
       "['this', 'would', 'be', 'a', 'string']"
      ]
     },
     "execution_count": 13,
     "metadata": {},
     "output_type": "execute_result"
    }
   ],
   "source": [
    "my_list = [\"this\", \"would\", \"be\", \"a\", \"string\"]\n",
    "my_list"
   ]
  },
  {
   "cell_type": "code",
   "execution_count": 15,
   "id": "21b12d37",
   "metadata": {},
   "outputs": [
    {
     "data": {
      "text/plain": [
       "'this would be a string'"
      ]
     },
     "execution_count": 15,
     "metadata": {},
     "output_type": "execute_result"
    }
   ],
   "source": [
    "list_to_str = \" \".join(my_list)\n",
    "list_to_str"
   ]
  },
  {
   "cell_type": "markdown",
   "id": "140455f5",
   "metadata": {},
   "source": [
    "We can observe in the example, that whitespace is specified as a separator and the data type is a list. The result is a single string containing all the objects in the list separated by whitespace."
   ]
  },
  {
   "cell_type": "markdown",
   "id": "6977dd8b",
   "metadata": {},
   "source": [
    "### Stripping characters\n",
    "\n",
    "Lastly, we'll talk about methods that will trim characters from a string. The dot strip method will remove both leading and trailing characters. Inside the call, we can specifying a character. If we don't do it, whitespace will be removed. \n",
    "\n",
    "Let's say we have the following string. And we apply the dot strip method as shown. We get a string where both the leading space and the trailing escape sequence were removed."
   ]
  },
  {
   "cell_type": "code",
   "execution_count": 17,
   "id": "0aa4c1f6",
   "metadata": {},
   "outputs": [
    {
     "name": "stdout",
     "output_type": "stream",
     "text": [
      " This string will be stripped\n",
      "\n",
      "This string will be stripped\n"
     ]
    }
   ],
   "source": [
    "my_string = \" This string will be stripped\\n\"\n",
    "print(my_string)\n",
    "\n",
    "new_str = my_string.strip()\n",
    "print(new_str)"
   ]
  },
  {
   "cell_type": "markdown",
   "id": "c55b74dd",
   "metadata": {},
   "source": [
    "### Stripping characters2\n",
    "\n",
    "- We can apply .rstrip() method and it will return a string where the trailing slash n was removed. \n",
    "\n",
    "- If we apply the .lstrip() method, we'll get a string with the leading whitespace eliminated."
   ]
  },
  {
   "cell_type": "code",
   "execution_count": 19,
   "id": "76adfab8",
   "metadata": {},
   "outputs": [
    {
     "name": "stdout",
     "output_type": "stream",
     "text": [
      " This string will be stripped\n",
      "\n",
      " This string will be stripped\n",
      "This string will be stripped\n",
      "\n"
     ]
    }
   ],
   "source": [
    "my_string = \" This string will be stripped\\n\"\n",
    "print(my_string)\n",
    "\n",
    "## applying .rstrip(), it'll remove trailing \\n\n",
    "print(my_string.rstrip())\n",
    "\n",
    "## applying .lstrip(), it'll remove leading whitespace\n",
    "print(my_string.lstrip())"
   ]
  },
  {
   "cell_type": "markdown",
   "id": "c1e343d6",
   "metadata": {},
   "source": [
    "### Exercise 1: Normalizing reviews\n",
    "\n",
    "It's time to extract some important words present in your movie review dataset. First, you need to normalize them and then, count their frequency. Part of the normalization implies converting all the words to lowercase, removing special characters and extracting the root of a word so you count the variants as one.\n",
    "\n",
    "So imagine you have the following reviews: 'The movie surprises me very much' and 'Marvel movies always surprise their audience'. If you count the word frequency, you will count 'surprises' one time and 'surprise' one time. However, the verb 'surprise' appears in both and its frequency should be two.\n",
    "\n",
    "The text of a movie review for only one example has been already saved in the variable movie."
   ]
  },
  {
   "cell_type": "code",
   "execution_count": 20,
   "id": "c07807cb",
   "metadata": {},
   "outputs": [
    {
     "name": "stdout",
     "output_type": "stream",
     "text": [
      "$I supposed that coming from MTV Films I should expect no less$\n"
     ]
    }
   ],
   "source": [
    "movie = '$I supposed that coming from MTV Films I should expect no less$'\n",
    "print(movie)"
   ]
  },
  {
   "cell_type": "markdown",
   "id": "79c8dd4d",
   "metadata": {},
   "source": [
    "- Convert the string in the variable movie to lowercase. Print the result.\n",
    "\n",
    "\n",
    "- Remove the '$' that occur at the start and at the end of the string contained in movie_lower. Print the results.\n",
    "\n",
    "\n",
    "- Split the string contained in movie_no_sign into as many substrings as possible. Print the results.\n",
    "\n",
    "\n",
    "- Get the root of the second word contained in movie_split."
   ]
  },
  {
   "cell_type": "code",
   "execution_count": 21,
   "id": "0f8cd802",
   "metadata": {},
   "outputs": [
    {
     "name": "stdout",
     "output_type": "stream",
     "text": [
      "$i supposed that coming from mtv films i should expect no less$\n"
     ]
    }
   ],
   "source": [
    "# Convert the string in the variable movie to lowercase. Print the result.\n",
    "movie_lower = movie.lower()\n",
    "print(movie_lower)"
   ]
  },
  {
   "cell_type": "code",
   "execution_count": 23,
   "id": "c9f8210e",
   "metadata": {},
   "outputs": [
    {
     "name": "stdout",
     "output_type": "stream",
     "text": [
      "i supposed that coming from mtv films i should expect no less\n"
     ]
    }
   ],
   "source": [
    "# Remove the '$' that occur at the start and at the end of the string contained in movie_lower. Print the results.\n",
    "movie_no_sign = movie_lower.strip(\"$\")\n",
    "print(movie_no_sign)"
   ]
  },
  {
   "cell_type": "code",
   "execution_count": 24,
   "id": "608a94ae",
   "metadata": {},
   "outputs": [
    {
     "name": "stdout",
     "output_type": "stream",
     "text": [
      "['i', 'supposed', 'that', 'coming', 'from', 'mtv', 'films', 'i', 'should', 'expect', 'no', 'less']\n"
     ]
    }
   ],
   "source": [
    "# Split the string contained in movie_no_sign into as many substrings as possible. Print the results.\n",
    "movie_split = movie_no_sign.split()\n",
    "print(movie_split)"
   ]
  },
  {
   "cell_type": "code",
   "execution_count": 25,
   "id": "f15873c6",
   "metadata": {},
   "outputs": [
    {
     "name": "stdout",
     "output_type": "stream",
     "text": [
      "suppose\n"
     ]
    }
   ],
   "source": [
    "# Get the root of the second word contained in movie_split.\n",
    "root_word = movie_split[1][:-1]\n",
    "print(root_word)"
   ]
  },
  {
   "cell_type": "markdown",
   "id": "f8134b4b",
   "metadata": {},
   "source": [
    "### Exercise 2: Time to join!\n",
    "\n",
    "The text of a movie review has been already saved in the variable movie."
   ]
  },
  {
   "cell_type": "code",
   "execution_count": 27,
   "id": "c2258c7e",
   "metadata": {},
   "outputs": [
    {
     "name": "stdout",
     "output_type": "stream",
     "text": [
      "the film,however,is all good<\\i>\n"
     ]
    }
   ],
   "source": [
    "movie = 'the film,however,is all good<\\\\i>'\n",
    "print(movie)"
   ]
  },
  {
   "cell_type": "markdown",
   "id": "b2651366",
   "metadata": {},
   "source": [
    "While normalizing your text, you noticed that one review had a particular structure. This review ends with the HTML tag <\\\\i> and it has a lot of commas in different places of the sentence. You decide to remove the tag from the end and use the strategy of splitting the string and joining it back again without the commas.\n",
    "\n",
    "- Remove tag <\\\\i> from the end of the string. Print the results.\n",
    "\n",
    "\n",
    "- Split the string contained in movie_tag using the commas as a separating element. Print the results.\n",
    "\n",
    "\n",
    "- Join back together the list of substring contained in movie_no_comma using a space as a join element. Print the results."
   ]
  },
  {
   "cell_type": "code",
   "execution_count": 28,
   "id": "b86eb106",
   "metadata": {},
   "outputs": [
    {
     "name": "stdout",
     "output_type": "stream",
     "text": [
      "the film,however,is all good\n"
     ]
    }
   ],
   "source": [
    "# Remove tag <\\i> from the end of the string. Print the results.\n",
    "movie_tag = movie.strip(\"<\\\\i>\")\n",
    "print(movie_tag)"
   ]
  },
  {
   "cell_type": "code",
   "execution_count": 29,
   "id": "51ffec69",
   "metadata": {},
   "outputs": [
    {
     "name": "stdout",
     "output_type": "stream",
     "text": [
      "['the film', 'however', 'is all good']\n"
     ]
    }
   ],
   "source": [
    "# Split the string contained in movie_tag using the commas as a separating element. Print the results.\n",
    "movie_no_comma = movie_tag.split(\",\")\n",
    "print(movie_no_comma)"
   ]
  },
  {
   "cell_type": "code",
   "execution_count": 31,
   "id": "0d3618ec",
   "metadata": {},
   "outputs": [
    {
     "name": "stdout",
     "output_type": "stream",
     "text": [
      "the film however is all good\n"
     ]
    }
   ],
   "source": [
    "## Join back together the list of substring contained in movie_no_comma using a space as a join element. Print the results.\n",
    "movie_join = \" \".join(movie_no_comma)\n",
    "print(movie_join)"
   ]
  },
  {
   "cell_type": "markdown",
   "id": "6e823350",
   "metadata": {},
   "source": [
    "### Exercise 3: Split lines or split the line?\n",
    "\n",
    "The text of the file has been already saved in the variable file. "
   ]
  },
  {
   "cell_type": "code",
   "execution_count": 32,
   "id": "02a56678",
   "metadata": {},
   "outputs": [
    {
     "name": "stdout",
     "output_type": "stream",
     "text": [
      "mtv films election, a high school comedy, is a current example\n",
      "from there, director steven spielberg wastes no time, taking us into the water on a midnight swim\n"
     ]
    }
   ],
   "source": [
    "file = 'mtv films election, a high school comedy, is a current example\\nfrom there, director steven spielberg wastes no time, taking us into the water on a midnight swim'\n",
    "print(file)"
   ]
  },
  {
   "cell_type": "markdown",
   "id": "30569328",
   "metadata": {},
   "source": [
    "You are about to leave work when a colleague asks you to use your string manipulation skills to help him. You need to read strings from a file in a way that if the file contains strings on different lines, they are stored as separate elements. He also wants you to break the strings into pieces if you see that they contain commas.\n",
    "\n",
    "- Split the string file into many substrings at line boundaries. Print out the resulting variable file_split.\n",
    "\n",
    "\n",
    "- Split the strings into many substrings using commas as a separator element.\n",
    "\n",
    "\n",
    "- Split the strings into many substrings using a space as a separator element."
   ]
  },
  {
   "cell_type": "code",
   "execution_count": 33,
   "id": "62b5f4ac",
   "metadata": {},
   "outputs": [
    {
     "name": "stdout",
     "output_type": "stream",
     "text": [
      "['mtv films election, a high school comedy, is a current example', 'from there, director steven spielberg wastes no time, taking us into the water on a midnight swim']\n"
     ]
    }
   ],
   "source": [
    "## Split the string file into many substrings at line boundaries. Print out the resulting variable file_split.\n",
    "file_split = file.splitlines()\n",
    "print(file_split)"
   ]
  },
  {
   "cell_type": "code",
   "execution_count": 36,
   "id": "fef48be9",
   "metadata": {},
   "outputs": [
    {
     "name": "stdout",
     "output_type": "stream",
     "text": [
      "mtv films election, a high school comedy, is a current example\n",
      "['mtv films election', ' a high school comedy', ' is a current example']\n",
      "from there, director steven spielberg wastes no time, taking us into the water on a midnight swim\n",
      "['from there', ' director steven spielberg wastes no time', ' taking us into the water on a midnight swim']\n"
     ]
    }
   ],
   "source": [
    "# Split the strings into many substrings using commas as a separator element.\n",
    "for substrings in file_split:\n",
    "    print(substrings)\n",
    "    substrings_split = substrings.split(',')\n",
    "    print(substrings_split)"
   ]
  },
  {
   "cell_type": "code",
   "execution_count": 37,
   "id": "cac7fbb2",
   "metadata": {},
   "outputs": [
    {
     "name": "stdout",
     "output_type": "stream",
     "text": [
      "mtv films election, a high school comedy, is a current example\n",
      "['mtv', 'films', 'election,', 'a', 'high', 'school', 'comedy,', 'is', 'a', 'current', 'example']\n",
      "from there, director steven spielberg wastes no time, taking us into the water on a midnight swim\n",
      "['from', 'there,', 'director', 'steven', 'spielberg', 'wastes', 'no', 'time,', 'taking', 'us', 'into', 'the', 'water', 'on', 'a', 'midnight', 'swim']\n"
     ]
    }
   ],
   "source": [
    "# Split the strings into many substrings using a space as a separator element.\n",
    "for substrings in file_split:\n",
    "    print(substrings)\n",
    "    substrings_split = substrings.split(' ')\n",
    "    print(substrings_split)"
   ]
  },
  {
   "cell_type": "code",
   "execution_count": 38,
   "id": "89b91690",
   "metadata": {},
   "outputs": [],
   "source": [
    "import pandas as pd"
   ]
  },
  {
   "cell_type": "code",
   "execution_count": 39,
   "id": "b3c43da7",
   "metadata": {},
   "outputs": [
    {
     "data": {
      "text/html": [
       "<div>\n",
       "<style scoped>\n",
       "    .dataframe tbody tr th:only-of-type {\n",
       "        vertical-align: middle;\n",
       "    }\n",
       "\n",
       "    .dataframe tbody tr th {\n",
       "        vertical-align: top;\n",
       "    }\n",
       "\n",
       "    .dataframe thead th {\n",
       "        text-align: right;\n",
       "    }\n",
       "</style>\n",
       "<table border=\"1\" class=\"dataframe\">\n",
       "  <thead>\n",
       "    <tr style=\"text-align: right;\">\n",
       "      <th></th>\n",
       "      <th>id</th>\n",
       "      <th>tag</th>\n",
       "      <th>html</th>\n",
       "      <th>sent id</th>\n",
       "      <th>text</th>\n",
       "      <th>target</th>\n",
       "    </tr>\n",
       "  </thead>\n",
       "  <tbody>\n",
       "    <tr>\n",
       "      <th>0</th>\n",
       "      <td>0</td>\n",
       "      <td>cv000</td>\n",
       "      <td>29590</td>\n",
       "      <td>0</td>\n",
       "      <td>films adapted from comic books have had plenty...</td>\n",
       "      <td>pos</td>\n",
       "    </tr>\n",
       "    <tr>\n",
       "      <th>1</th>\n",
       "      <td>0</td>\n",
       "      <td>cv000</td>\n",
       "      <td>29590</td>\n",
       "      <td>1</td>\n",
       "      <td>for starters , it was created by alan moore ( ...</td>\n",
       "      <td>pos</td>\n",
       "    </tr>\n",
       "    <tr>\n",
       "      <th>2</th>\n",
       "      <td>0</td>\n",
       "      <td>cv000</td>\n",
       "      <td>29590</td>\n",
       "      <td>2</td>\n",
       "      <td>to say moore and campbell thoroughly researche...</td>\n",
       "      <td>pos</td>\n",
       "    </tr>\n",
       "    <tr>\n",
       "      <th>3</th>\n",
       "      <td>0</td>\n",
       "      <td>cv000</td>\n",
       "      <td>29590</td>\n",
       "      <td>3</td>\n",
       "      <td>the book ( or \" graphic novel , \" if you will ...</td>\n",
       "      <td>pos</td>\n",
       "    </tr>\n",
       "    <tr>\n",
       "      <th>4</th>\n",
       "      <td>0</td>\n",
       "      <td>cv000</td>\n",
       "      <td>29590</td>\n",
       "      <td>4</td>\n",
       "      <td>in other words , don't dismiss this film becau...</td>\n",
       "      <td>pos</td>\n",
       "    </tr>\n",
       "    <tr>\n",
       "      <th>...</th>\n",
       "      <td>...</td>\n",
       "      <td>...</td>\n",
       "      <td>...</td>\n",
       "      <td>...</td>\n",
       "      <td>...</td>\n",
       "      <td>...</td>\n",
       "    </tr>\n",
       "    <tr>\n",
       "      <th>19995</th>\n",
       "      <td>6</td>\n",
       "      <td>cv615</td>\n",
       "      <td>14182</td>\n",
       "      <td>20</td>\n",
       "      <td>wilder's script is stunning , as he carefully ...</td>\n",
       "      <td>pos</td>\n",
       "    </tr>\n",
       "    <tr>\n",
       "      <th>19996</th>\n",
       "      <td>6</td>\n",
       "      <td>cv615</td>\n",
       "      <td>14182</td>\n",
       "      <td>21</td>\n",
       "      <td>wilder manages to create scenes of utter hyste...</td>\n",
       "      <td>pos</td>\n",
       "    </tr>\n",
       "    <tr>\n",
       "      <th>19997</th>\n",
       "      <td>6</td>\n",
       "      <td>cv615</td>\n",
       "      <td>14182</td>\n",
       "      <td>22</td>\n",
       "      <td>wilder's is dead wrong when he says nobody's p...</td>\n",
       "      <td>pos</td>\n",
       "    </tr>\n",
       "    <tr>\n",
       "      <th>19998</th>\n",
       "      <td>6</td>\n",
       "      <td>cv615</td>\n",
       "      <td>14182</td>\n",
       "      <td>23</td>\n",
       "      <td>nobody's perfect but billy wilder .</td>\n",
       "      <td>pos</td>\n",
       "    </tr>\n",
       "    <tr>\n",
       "      <th>19999</th>\n",
       "      <td>6</td>\n",
       "      <td>cv616</td>\n",
       "      <td>29319</td>\n",
       "      <td>0</td>\n",
       "      <td>a welcome cinematic trend over the past couple...</td>\n",
       "      <td>pos</td>\n",
       "    </tr>\n",
       "  </tbody>\n",
       "</table>\n",
       "<p>20000 rows × 6 columns</p>\n",
       "</div>"
      ],
      "text/plain": [
       "       id    tag   html  sent id  \\\n",
       "0       0  cv000  29590        0   \n",
       "1       0  cv000  29590        1   \n",
       "2       0  cv000  29590        2   \n",
       "3       0  cv000  29590        3   \n",
       "4       0  cv000  29590        4   \n",
       "...    ..    ...    ...      ...   \n",
       "19995   6  cv615  14182       20   \n",
       "19996   6  cv615  14182       21   \n",
       "19997   6  cv615  14182       22   \n",
       "19998   6  cv615  14182       23   \n",
       "19999   6  cv616  29319        0   \n",
       "\n",
       "                                                    text target  \n",
       "0      films adapted from comic books have had plenty...    pos  \n",
       "1      for starters , it was created by alan moore ( ...    pos  \n",
       "2      to say moore and campbell thoroughly researche...    pos  \n",
       "3      the book ( or \" graphic novel , \" if you will ...    pos  \n",
       "4      in other words , don't dismiss this film becau...    pos  \n",
       "...                                                  ...    ...  \n",
       "19995  wilder's script is stunning , as he carefully ...    pos  \n",
       "19996  wilder manages to create scenes of utter hyste...    pos  \n",
       "19997  wilder's is dead wrong when he says nobody's p...    pos  \n",
       "19998                nobody's perfect but billy wilder .    pos  \n",
       "19999  a welcome cinematic trend over the past couple...    pos  \n",
       "\n",
       "[20000 rows x 6 columns]"
      ]
     },
     "execution_count": 39,
     "metadata": {},
     "output_type": "execute_result"
    }
   ],
   "source": [
    "df = pd.read_csv(\"short_movies.csv\")\n",
    "df"
   ]
  },
  {
   "cell_type": "code",
   "execution_count": 43,
   "id": "da37f7e5",
   "metadata": {},
   "outputs": [
    {
     "name": "stdout",
     "output_type": "stream",
     "text": [
      "heck , jackie doesn't even have enough money for a haircut , looks like , much less a personal hairstylist .\n"
     ]
    }
   ],
   "source": [
    "print(df[\"text\"].iloc[137])"
   ]
  },
  {
   "cell_type": "code",
   "execution_count": 44,
   "id": "37eb83f9",
   "metadata": {},
   "outputs": [
    {
     "name": "stdout",
     "output_type": "stream",
     "text": [
      "in condor , chan plays the same character he's always played , himself , a mixture of bruce lee and tim allen , a master of both kung-fu and slapstick-fu .\n"
     ]
    }
   ],
   "source": [
    "print(df[\"text\"].iloc[138])"
   ]
  },
  {
   "cell_type": "code",
   "execution_count": 45,
   "id": "9d0e562c",
   "metadata": {},
   "outputs": [
    {
     "name": "stdout",
     "output_type": "stream",
     "text": [
      "it's clear that he's passionate about his beliefs , and that he's not just a punk looking for an excuse to beat people up .\n"
     ]
    }
   ],
   "source": [
    "print(df[\"text\"].iloc[200])"
   ]
  },
  {
   "cell_type": "code",
   "execution_count": 46,
   "id": "58646748",
   "metadata": {},
   "outputs": [
    {
     "name": "stdout",
     "output_type": "stream",
     "text": [
      "I believe you I always said that the actor actor actor is amazing in every movie he has played\n"
     ]
    }
   ],
   "source": [
    "print(df[\"text\"].iloc[201])"
   ]
  },
  {
   "cell_type": "code",
   "execution_count": 47,
   "id": "2173ca9a",
   "metadata": {},
   "outputs": [
    {
     "name": "stdout",
     "output_type": "stream",
     "text": [
      "it's astonishing how frightening the actor actor norton looks with a shaved head and a swastika on his chest.\n"
     ]
    }
   ],
   "source": [
    "print(df[\"text\"].iloc[202])"
   ]
  },
  {
   "cell_type": "markdown",
   "id": "f59c8acc",
   "metadata": {},
   "source": [
    "###  Finding substrings\n",
    "\n",
    "Python has several built-in methods that will help you search a target string for a specified substring. \n",
    "\n",
    "The first method is .find(). As you can see in the slide, it takes the desired substring as a mandatory argument. You can specify two other arguments. An inclusive starting position and an exclusive ending position. \n",
    "\n",
    "<img src=\"f.jpg\" style=\"max-width:500px\">"
   ]
  },
  {
   "cell_type": "code",
   "execution_count": 48,
   "id": "dafda458",
   "metadata": {},
   "outputs": [
    {
     "name": "stdout",
     "output_type": "stream",
     "text": [
      "Where's Waldo?\n"
     ]
    }
   ],
   "source": [
    "my_string = \"Where's Waldo?\"\n",
    "print(my_string)"
   ]
  },
  {
   "cell_type": "code",
   "execution_count": 50,
   "id": "07cfa6f6",
   "metadata": {},
   "outputs": [
    {
     "data": {
      "text/plain": [
       "8"
      ]
     },
     "execution_count": 50,
     "metadata": {},
     "output_type": "execute_result"
    }
   ],
   "source": [
    "my_string.find(\"Waldo\")"
   ]
  },
  {
   "cell_type": "code",
   "execution_count": 51,
   "id": "a84cc8b5",
   "metadata": {},
   "outputs": [
    {
     "data": {
      "text/plain": [
       "-1"
      ]
     },
     "execution_count": 51,
     "metadata": {},
     "output_type": "execute_result"
    }
   ],
   "source": [
    "my_string.find(\"Wenda\")"
   ]
  },
  {
   "cell_type": "markdown",
   "id": "31c5eca5",
   "metadata": {},
   "source": [
    "In the example code, we search for Waldo in the string Where's Waldo?. The dot find method returns the lowest index in the string where it can find the substring, in this case, eight. \n",
    "\n",
    "If we search for Wenda, the substring is not found and the method returns minus one."
   ]
  },
  {
   "cell_type": "markdown",
   "id": "dfbebcae",
   "metadata": {},
   "source": [
    "Now, we check if we can find Waldo between characters number zero and five. In the code, we specify the starting position, zero, and the ending position, six, because this position is not inclusive. "
   ]
  },
  {
   "cell_type": "code",
   "execution_count": 52,
   "id": "f382160d",
   "metadata": {
    "scrolled": true
   },
   "outputs": [
    {
     "data": {
      "text/plain": [
       "-1"
      ]
     },
     "execution_count": 52,
     "metadata": {},
     "output_type": "execute_result"
    }
   ],
   "source": [
    "my_string.find(\"Waldo\", 0, 6)"
   ]
  },
  {
   "cell_type": "markdown",
   "id": "5d70a61d",
   "metadata": {},
   "source": [
    "The dot find method will not find the substring and returns minus one as we see in the output."
   ]
  },
  {
   "cell_type": "markdown",
   "id": "ccf511c5",
   "metadata": {},
   "source": [
    "###  Index function\n",
    "\n",
    "The dot index method is identical to dot find. In the slide, we see that it takes the desired substring as mandatory argument. It can take optional starting and ending positions as well. \n",
    "\n",
    "<img src=\"i-1.jpg\" style=\"max-width:500px\">"
   ]
  },
  {
   "cell_type": "code",
   "execution_count": 53,
   "id": "3ba2dfd1",
   "metadata": {},
   "outputs": [
    {
     "data": {
      "text/plain": [
       "8"
      ]
     },
     "execution_count": 53,
     "metadata": {},
     "output_type": "execute_result"
    }
   ],
   "source": [
    "my_string.index(\"Waldo\")"
   ]
  },
  {
   "cell_type": "code",
   "execution_count": 54,
   "id": "0290dc67",
   "metadata": {},
   "outputs": [
    {
     "ename": "ValueError",
     "evalue": "substring not found",
     "output_type": "error",
     "traceback": [
      "\u001b[1;31m---------------------------------------------------------------------------\u001b[0m",
      "\u001b[1;31mValueError\u001b[0m                                Traceback (most recent call last)",
      "\u001b[1;32m<ipython-input-54-5ec1f8bea9d3>\u001b[0m in \u001b[0;36m<module>\u001b[1;34m\u001b[0m\n\u001b[1;32m----> 1\u001b[1;33m \u001b[0mmy_string\u001b[0m\u001b[1;33m.\u001b[0m\u001b[0mindex\u001b[0m\u001b[1;33m(\u001b[0m\u001b[1;34m\"Wenda\"\u001b[0m\u001b[1;33m)\u001b[0m\u001b[1;33m\u001b[0m\u001b[1;33m\u001b[0m\u001b[0m\n\u001b[0m",
      "\u001b[1;31mValueError\u001b[0m: substring not found"
     ]
    }
   ],
   "source": [
    "my_string.index(\"Wenda\")"
   ]
  },
  {
   "cell_type": "markdown",
   "id": "487affac",
   "metadata": {},
   "source": [
    "In the example, we search again for Waldo using dot index. We get eight again. When we look for a substring that is not there, we have a difference. The dot index method raises an exception, as we can see in the output."
   ]
  },
  {
   "cell_type": "markdown",
   "id": "2381adce",
   "metadata": {},
   "source": [
    "We can handle this using the try except block. In the slide, you can observe the syntax. The try part will test the given code. If any error appears the except part will be executed obtaining the following output as a result."
   ]
  },
  {
   "cell_type": "code",
   "execution_count": 55,
   "id": "d768d92e",
   "metadata": {},
   "outputs": [
    {
     "name": "stdout",
     "output_type": "stream",
     "text": [
      "Not found\n"
     ]
    }
   ],
   "source": [
    "my_string = \"Where's Waldo?\"\n",
    "\n",
    "try:\n",
    "    my_string.index(\"Wenda\")\n",
    "except ValueError:\n",
    "    print(\"Not found\")"
   ]
  },
  {
   "cell_type": "markdown",
   "id": "c7384000",
   "metadata": {},
   "source": [
    "### Counting occurrences\n",
    "\n",
    "The dot count method searches for a specified substring in the target string. It returns the number of non-overlapping occurrences. In simple words, how many times the substring is present in the string. The syntax of dot count is very similar to the other methods as we can observe. \n",
    "\n",
    "\n",
    "<img src=\"c.jpg\" style=\"max-width:500px\">"
   ]
  },
  {
   "cell_type": "code",
   "execution_count": 56,
   "id": "a10a3771",
   "metadata": {},
   "outputs": [
    {
     "data": {
      "text/plain": [
       "2"
      ]
     },
     "execution_count": 56,
     "metadata": {},
     "output_type": "execute_result"
    }
   ],
   "source": [
    "my_string = \"How many fruits do you have in your fruit basket?\"\n",
    "my_string.count(\"fruit\")"
   ]
  },
  {
   "cell_type": "markdown",
   "id": "9097f0db",
   "metadata": {},
   "source": [
    "In the example, we use the dot count method to get how many times fruit appears. In the output, we see that is two.\n",
    "\n",
    "Then, we limit the occurrences of fruit between character zero and fifteen of the string as we can observe in the code. The method will return 1.\n",
    "\n",
    "Remember that starting position is inclusive, but the ending is not."
   ]
  },
  {
   "cell_type": "code",
   "execution_count": 57,
   "id": "1e8b8de7",
   "metadata": {},
   "outputs": [
    {
     "data": {
      "text/plain": [
       "1"
      ]
     },
     "execution_count": 57,
     "metadata": {},
     "output_type": "execute_result"
    }
   ],
   "source": [
    "my_string.count(\"fruit\", 0, 16)"
   ]
  },
  {
   "cell_type": "markdown",
   "id": "23b4b305",
   "metadata": {},
   "source": [
    "###  Replacing substrings\n",
    "\n",
    "Sometimes you will want to replace occurrences of a substring with a new substring. In this case, Python provides us with the dot replace method. As we see in the slide, it takes three arguments: the substring to replace, the new string to replace it, and an optional number that indicates how many occurrences to replace. \n",
    "\n",
    "<img src=\"r.jpg\" style=\"max-width:500px\">\n",
    "\n",
    "In the example code, we replace the substring house with car. The method will return a copy with all house substrings replaced. "
   ]
  },
  {
   "cell_type": "code",
   "execution_count": 58,
   "id": "535ab086",
   "metadata": {},
   "outputs": [
    {
     "name": "stdout",
     "output_type": "stream",
     "text": [
      "The red car is between the blue car and the old car\n"
     ]
    }
   ],
   "source": [
    "my_string = \"The red house is between the blue house and the old house\"\n",
    "print(my_string.replace(\"house\", \"car\"))"
   ]
  },
  {
   "cell_type": "markdown",
   "id": "2d88672f",
   "metadata": {},
   "source": [
    "In the next example, we specified that we only want 2 of the occurrences to be replaced."
   ]
  },
  {
   "cell_type": "code",
   "execution_count": 59,
   "id": "fc9805c3",
   "metadata": {},
   "outputs": [
    {
     "name": "stdout",
     "output_type": "stream",
     "text": [
      "The red car is between the blue car and the old house\n"
     ]
    }
   ],
   "source": [
    "print(my_string.replace(\"house\", \"car\", 2))"
   ]
  },
  {
   "cell_type": "markdown",
   "id": "44402aee",
   "metadata": {},
   "source": [
    "We see in the output that the method return a copy of the string with the first two occurrences of house replaced by car."
   ]
  },
  {
   "cell_type": "code",
   "execution_count": null,
   "id": "a6fd8c85",
   "metadata": {},
   "outputs": [],
   "source": []
  },
  {
   "cell_type": "markdown",
   "id": "d935dc4a",
   "metadata": {},
   "source": [
    "### Exercise 4: Finding a substring\n",
    "\n",
    "The text of three movie reviews has been already saved in the variable movies. "
   ]
  },
  {
   "cell_type": "code",
   "execution_count": 61,
   "id": "d06fcd0e",
   "metadata": {},
   "outputs": [
    {
     "name": "stdout",
     "output_type": "stream",
     "text": [
      "[\"it's clear that he's passionate about his beliefs , and that he's not just a punk looking for an excuse to beat people up .\", 'I believe you I always said that the actor actor actor is amazing in every movie he has played', \"it's astonishing how frightening the actor actor norton looks with a shaved head and a swastika on his chest.\"]\n"
     ]
    }
   ],
   "source": [
    "movies = [df[\"text\"].iloc[200],df[\"text\"].iloc[201], df[\"text\"].iloc[202]]\n",
    "print(movies)"
   ]
  },
  {
   "cell_type": "markdown",
   "id": "7c1f7620",
   "metadata": {},
   "source": [
    "It's a new day at work and you need to continue cleaning your dataset for the movie prediction project. While exploring the dataset, you notice a strange pattern: there are some repeated, consecutive words occurring between the character at position 37 and the character at position 41. \n",
    "\n",
    "You decide to write a function to find out which movie reviews show this peculiarity, remembering that the ending position you specify is not inclusive. If you detect the word, you also want to change the string by replacing it with only one instance of the word.\n",
    "\n",
    "- Find if the substring 'actor' occurs between the characters with index 37 and 41 inclusive. If it is not detected, print the statement 'Word not found'.\n",
    "\n",
    "\n",
    "- Replace 'actor actor' with the substring 'actor' if actor occurs only two repeated times.\n",
    "\n",
    "\n",
    "- Replace 'actor actor actor' with the substring 'actor' if actor appears three repeated times."
   ]
  },
  {
   "cell_type": "code",
   "execution_count": 62,
   "id": "97444871",
   "metadata": {},
   "outputs": [
    {
     "name": "stdout",
     "output_type": "stream",
     "text": [
      "Word not found\n",
      "I believe you I always said that the actor is amazing in every movie he has played\n",
      "it's astonishing how frightening the actor norton looks with a shaved head and a swastika on his chest.\n"
     ]
    }
   ],
   "source": [
    "for movie in movies:\n",
    "    if movie.find(\"actor\", 37,42) == -1:\n",
    "        print(\"Word not found\")\n",
    "        \n",
    "    elif movie.count(\"actor\") == 2:\n",
    "        print(movie.replace(\"actor actor\", \"actor\"))\n",
    "        \n",
    "    elif movie.count(\"actor\") > 2:\n",
    "        print(movie.replace(\"actor actor actor\", \"actor\"))"
   ]
  },
  {
   "cell_type": "markdown",
   "id": "4511291e",
   "metadata": {},
   "source": [
    "### Exercise 5: Where's the word?\n",
    "\n",
    "The text of two movie reviews has been already saved in the variable movies2. "
   ]
  },
  {
   "cell_type": "code",
   "execution_count": 63,
   "id": "2bb120d6",
   "metadata": {},
   "outputs": [
    {
     "name": "stdout",
     "output_type": "stream",
     "text": [
      "[\"heck , jackie doesn't even have enough money for a haircut , looks like , much less a personal hairstylist .\", \"in condor , chan plays the same character he's always played , himself , a mixture of bruce lee and tim allen , a master of both kung-fu and slapstick-fu .\"]\n"
     ]
    }
   ],
   "source": [
    "movies2 = [df[\"text\"].iloc[137],df[\"text\"].iloc[138]]\n",
    "print(movies2)"
   ]
  },
  {
   "cell_type": "markdown",
   "id": "3e782605",
   "metadata": {},
   "source": [
    "Before finishing cleaning your dataset, you want to check if a specific word occurs in the reviews. You noticed earlier a specific pattern in the strings. Now, you want to create a function to check if a word is present between characters with index 12, and 50, remembering that ending position is exclusive, and print out the lowest index where this word occurs. There are two methods to handle this situation. You want to see which one works best.\n",
    "\n",
    "- Find the index where 'money' occurs between characters with index 12 and 50. If not found, the method should return -1.\n",
    "\n",
    "- Find the index where 'money' occurs between characters with index 12 and 50. If not found, it should raise an error."
   ]
  },
  {
   "cell_type": "code",
   "execution_count": 66,
   "id": "160c006b",
   "metadata": {},
   "outputs": [
    {
     "name": "stdout",
     "output_type": "stream",
     "text": [
      "39\n",
      "-1\n"
     ]
    }
   ],
   "source": [
    "## Find the index where money occurs between characters with index 12 and 50. If not found, the method should return -1.\n",
    "for review in movies2:\n",
    "    print(review.find(\"money\", 12, 51))"
   ]
  },
  {
   "cell_type": "code",
   "execution_count": 67,
   "id": "3b4a40b8",
   "metadata": {},
   "outputs": [
    {
     "name": "stdout",
     "output_type": "stream",
     "text": [
      "39\n",
      "substring not found\n"
     ]
    }
   ],
   "source": [
    "# Find the index where 'money' occurs between characters with index 12 and 50. If not found, it should raise an error.\n",
    "for review in movies2:\n",
    "    try:\n",
    "        print(review.index(\"money\", 12, 51))\n",
    "    except:\n",
    "        print(\"substring not found\")"
   ]
  },
  {
   "cell_type": "markdown",
   "id": "84954565",
   "metadata": {},
   "source": [
    "### Exercise 6: Replacing negations\n",
    "\n",
    "In order to keep working with your prediction project, your next task is to figure out how to handle negations that occur in your dataset. Some algorithms for prediction do not work well with negations, so a good way to handle this is to remove either `not or n't`, and to replace the next word by its `antonym`.\n",
    "\n",
    "Let's imagine that you have the string: `The movie isn't good`. You will need to remove `n't` and replace `good for bad`. This way, your string ends up being `The movie is bad`. You notice that in the first column of the dataset, you have a string that uses the word isn't followed by important.\n",
    "\n",
    "The text of this column has been already saved in the variable `movies3` so you start working with it. "
   ]
  },
  {
   "cell_type": "code",
   "execution_count": 68,
   "id": "f2ae148d",
   "metadata": {},
   "outputs": [
    {
     "name": "stdout",
     "output_type": "stream",
     "text": [
      "the rest of the story isn't important because all it does is serve as a mere backdrop for the two stars to share the screen .\n"
     ]
    }
   ],
   "source": [
    "movies3 = \"the rest of the story isn't important because all it does is serve as a mere backdrop for the two stars to share the screen .\"\n",
    "print(movies3)"
   ]
  },
  {
   "cell_type": "markdown",
   "id": "470fef36",
   "metadata": {},
   "source": [
    "- Replace the substring 'isn't' with the word 'is'.\n",
    "\n",
    "\n",
    "- Replace the substring 'important' with the word 'insignificant'.\n",
    "\n",
    "\n",
    "- Print out the result contained in the variable movies_antonym."
   ]
  },
  {
   "cell_type": "code",
   "execution_count": 69,
   "id": "d502ccf2",
   "metadata": {},
   "outputs": [
    {
     "name": "stdout",
     "output_type": "stream",
     "text": [
      "the rest of the story is important because all it does is serve as a mere backdrop for the two stars to share the screen .\n"
     ]
    }
   ],
   "source": [
    "## Replace the substring 'isn't' with the word 'is'.\n",
    "movies_no_negation = movies3.replace(\"isn't\", \"is\")\n",
    "print(movies_no_negation)"
   ]
  },
  {
   "cell_type": "code",
   "execution_count": 71,
   "id": "e30c0c23",
   "metadata": {},
   "outputs": [
    {
     "name": "stdout",
     "output_type": "stream",
     "text": [
      "the rest of the story is insignificant because all it does is serve as a mere backdrop for the two stars to share the screen .\n"
     ]
    }
   ],
   "source": [
    "## Replace the substring 'important' with the word 'insignificant'.\n",
    "movies_antonym = movies_no_negation.replace('important', 'insignificant')\n",
    "print(movies_antonym)"
   ]
  },
  {
   "cell_type": "code",
   "execution_count": null,
   "id": "58b7f677",
   "metadata": {},
   "outputs": [],
   "source": []
  }
 ],
 "metadata": {
  "kernelspec": {
   "display_name": "Python 3",
   "language": "python",
   "name": "python3"
  },
  "language_info": {
   "codemirror_mode": {
    "name": "ipython",
    "version": 3
   },
   "file_extension": ".py",
   "mimetype": "text/x-python",
   "name": "python",
   "nbconvert_exporter": "python",
   "pygments_lexer": "ipython3",
   "version": "3.8.8"
  }
 },
 "nbformat": 4,
 "nbformat_minor": 5
}
