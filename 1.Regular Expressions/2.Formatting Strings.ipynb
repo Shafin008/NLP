{
 "cells": [
  {
   "cell_type": "markdown",
   "id": "92cfa362",
   "metadata": {},
   "source": [
    "### What is string formatting?\n",
    "\n",
    "String formatting is also called string interpolation. It is the process of inserting a custom string in a predefined text. As data scientist, you will use it to insert a title in a graph, show an error message or pass a statement into a function.\n",
    "\n",
    "### Methods for formatting\n",
    "\n",
    "The modern versions of Python have three main approaches to string formatting: \n",
    "\n",
    "- positional formatting, \n",
    "\n",
    "\n",
    "- formatted strings literals, and \n",
    "\n",
    "\n",
    "- template methods\n",
    "\n",
    "\n",
    "### Positional formatting\n",
    "\n",
    "Positional formatting works in the following way. We put placeholders defined by a pair of curly braces in a text. We call the string dot format method. Then, we pass the desired value into the method. The method replaces the placeholders using the values in order of appearance. \n",
    "\n",
    "<img src=\"pf.jpg\" style=\"max-width:600px\">\n",
    "\n",
    "Let's examine the example. We define a string and insert two placeholders. We pass two strings to the method which will be passed to get the following output. We can use variables for both the string and the values passed to the method. "
   ]
  },
  {
   "cell_type": "code",
   "execution_count": 1,
   "id": "437de9c2",
   "metadata": {},
   "outputs": [
    {
     "name": "stdout",
     "output_type": "stream",
     "text": [
      "Machine learning provides systems the ability to learn automatically\n"
     ]
    }
   ],
   "source": [
    "print(\"Machine learning provides {} the ability to learn {}\".format(\"systems\", \"automatically\"))"
   ]
  },
  {
   "cell_type": "markdown",
   "id": "2c6a218e",
   "metadata": {},
   "source": [
    "In the example code, we defined a string with placeholders along with two other variables. We apply the format method to the string using the two defined variables. \n",
    "\n",
    "The method reads the string and replaces the placeholders with the given values. And we get the output."
   ]
  },
  {
   "cell_type": "markdown",
   "id": "2e64b202",
   "metadata": {},
   "source": [
    "### Reordering values\n",
    "\n",
    "We can add index numbers into the curly braces. This affects the order in which the method replaces placeholders. In the example, we left the placeholders empty. The method replaces them with the values in the given order. And we get the output shown here.  "
   ]
  },
  {
   "cell_type": "code",
   "execution_count": 3,
   "id": "37455e53",
   "metadata": {},
   "outputs": [
    {
     "name": "stdout",
     "output_type": "stream",
     "text": [
      "Supervised algorithms rely on labeled datasets\n"
     ]
    }
   ],
   "source": [
    "my_string = \"{} rely on {} datasets\"\n",
    "method = \"Supervised algorithms\"\n",
    "condition = \"labeled\"\n",
    "\n",
    "print(my_string.format(method, condition))"
   ]
  },
  {
   "cell_type": "markdown",
   "id": "d47e441c",
   "metadata": {},
   "source": [
    "If we add the index numbers, the replacement order changes accordingly. Now, the output changes as you can observe."
   ]
  },
  {
   "cell_type": "code",
   "execution_count": 4,
   "id": "9c3431a1",
   "metadata": {},
   "outputs": [
    {
     "name": "stdout",
     "output_type": "stream",
     "text": [
      "Betty has a friend called Linda and a sister called Daisy\n"
     ]
    }
   ],
   "source": [
    "print(\"{} has a friend called {} and a sister called {}\".format(\"Betty\", \"Linda\", \"Daisy\"))"
   ]
  },
  {
   "cell_type": "code",
   "execution_count": 5,
   "id": "7522bd3a",
   "metadata": {},
   "outputs": [
    {
     "name": "stdout",
     "output_type": "stream",
     "text": [
      "Daisy has a friend called Betty and a sister called Linda\n"
     ]
    }
   ],
   "source": [
    "print(\"{2} has a friend called {0} and a sister called {1}\".format(\"Betty\", \"Linda\", \"Daisy\"))"
   ]
  },
  {
   "cell_type": "markdown",
   "id": "453b07bd",
   "metadata": {},
   "source": [
    "### Named placeholders\n",
    "\n",
    "We can also introduce keyword arguments that are called by their keyword name. \n",
    "\n",
    "In the example code, we inserted keywords in the placeholders. Then, we call these keywords in the format method. We then assign which variable will be passed for each of them resulting in the following output."
   ]
  },
  {
   "cell_type": "code",
   "execution_count": 6,
   "id": "b376fdbb",
   "metadata": {},
   "outputs": [
    {
     "name": "stdout",
     "output_type": "stream",
     "text": [
      "Unsupervised algorithms try to find patterns in the dataset\n"
     ]
    }
   ],
   "source": [
    "tool=\"Unsupervised algorithms\"\n",
    "goal=\"patterns\"\n",
    "\n",
    "print(\"{title} try to find {aim} in the dataset\".format(title=tool, aim=goal))"
   ]
  },
  {
   "cell_type": "code",
   "execution_count": 7,
   "id": "dc1aef75",
   "metadata": {},
   "outputs": [
    {
     "name": "stdout",
     "output_type": "stream",
     "text": [
      "Unsupervised algorithms try to find patterns in the dataset\n"
     ]
    }
   ],
   "source": [
    "my_methods = {\"tool\": \"Unsupervised algorithms\", \n",
    "              \n",
    "              \"goal\": \"patterns\"}\n",
    "\n",
    "print('{data[tool]} try to find {data[goal]} in the dataset'.format(data=my_methods))"
   ]
  },
  {
   "cell_type": "markdown",
   "id": "75ce29f9",
   "metadata": {},
   "source": [
    "Let's examine this code. We have defined a dictionary with keys: tool and goal. We want to insert their values in a string. Inside the placeholders, we can specify the value associated with the key tool of the variable data using bracket notation. \n",
    "\n",
    "Pay attention to the code. Data is the dictionary specified in the method and tool is the key present in that dictionary. So, we get the desired output shown in the slide. \n",
    "\n",
    "Be careful! You need to specify the index without using quotes."
   ]
  },
  {
   "cell_type": "markdown",
   "id": "9cba6d61",
   "metadata": {},
   "source": [
    "### Format specifier\n",
    "\n",
    "We can also use format specifiers inside the curly braces. This defines how individual values are presented. We’ll use the syntax index colon specifier. One of the most common format specifiers is float represented by the letter f. "
   ]
  },
  {
   "cell_type": "code",
   "execution_count": 8,
   "id": "b56bebdf",
   "metadata": {},
   "outputs": [
    {
     "name": "stdout",
     "output_type": "stream",
     "text": [
      "Only 0.515567% of the data produced worldwide is analyzed!\n"
     ]
    }
   ],
   "source": [
    "print(\"Only {0:f}% of the {1} produced worldwide is {2}!\".format(0.5155675, \"data\", \"analyzed\"))"
   ]
  },
  {
   "cell_type": "markdown",
   "id": "e71cbe2d",
   "metadata": {},
   "source": [
    "In the code, we specified that the value passed with index 0 will be a float, getting the displayed output. \n",
    "\n",
    "We could also add dot two f indicating that we want the float to have two decimals as seen in the resulting output."
   ]
  },
  {
   "cell_type": "code",
   "execution_count": 9,
   "id": "1b1600ef",
   "metadata": {},
   "outputs": [
    {
     "name": "stdout",
     "output_type": "stream",
     "text": [
      "Only 0.52% of the data produced worldwide is analyzed!\n"
     ]
    }
   ],
   "source": [
    "print(\"Only {0:.2f}% of the {1} produced worldwide is {2}!\".format(0.5155675, \"data\", \"analyzed\"))"
   ]
  },
  {
   "cell_type": "markdown",
   "id": "8cf14320",
   "metadata": {},
   "source": [
    "### Formatting datetime\n",
    "\n",
    "Python has a module called datetime that allows us to, for example, get the date and time for today. "
   ]
  },
  {
   "cell_type": "code",
   "execution_count": 10,
   "id": "68e811c4",
   "metadata": {},
   "outputs": [
    {
     "name": "stdout",
     "output_type": "stream",
     "text": [
      "2022-02-03 20:30:14.195017\n"
     ]
    }
   ],
   "source": [
    "from datetime import datetime\n",
    "print(datetime.now())"
   ]
  },
  {
   "cell_type": "markdown",
   "id": "88e1f501",
   "metadata": {},
   "source": [
    "You can see that the format returned is very particular. \n",
    "\n",
    "We can use format specifiers such as percentage y, m, d, h and capital m to adjust the format to something more familiar to us "
   ]
  },
  {
   "cell_type": "code",
   "execution_count": 11,
   "id": "aa57a5de",
   "metadata": {},
   "outputs": [
    {
     "name": "stdout",
     "output_type": "stream",
     "text": [
      "Today's date is 2022-02-03 20:31\n"
     ]
    }
   ],
   "source": [
    "print(\"Today's date is {:%Y-%m-%d %H:%M}\".format(datetime.now()))"
   ]
  },
  {
   "cell_type": "markdown",
   "id": "6d4f668b",
   "metadata": {},
   "source": [
    "### Exercise 1: Put it in order!\n",
    "\n",
    "Your company is analyzing the best way to provide users with different online courses. Your job is to scrape Wikipedia pages searching for tools used in Data Science subfields. You'll store the tool and field name in a database. \n",
    "\n",
    "After a text analysis, you realize that the information is provided in a specific position of the text but sometimes the field name is given first and the tool after that, while in other cases it's the other way around.\n",
    "\n",
    "You decide to use positional formatting to handle these situations because it provides a way to reorder placeholders.\n",
    "\n",
    "The text of one article has already been saved in the variable 'wikipedia_article'. Also, the empty list 'my_list' is already defined."
   ]
  },
  {
   "cell_type": "code",
   "execution_count": 14,
   "id": "07a5b037",
   "metadata": {},
   "outputs": [
    {
     "data": {
      "text/plain": [
       "'In computer science, artificial intelligence (AI), sometimes called machine intelligence, is intelligence demonstrated by machines, in contrast to the natural intelligence displayed by humans and animals.'"
      ]
     },
     "execution_count": 14,
     "metadata": {},
     "output_type": "execute_result"
    }
   ],
   "source": [
    "wikipedia_article ='In computer science, artificial intelligence (AI), sometimes called machine intelligence, is intelligence demonstrated by machines, in contrast to the natural intelligence displayed by humans and animals.'\n",
    "\n",
    "wikipedia_article"
   ]
  },
  {
   "cell_type": "code",
   "execution_count": 17,
   "id": "97a87bad",
   "metadata": {},
   "outputs": [],
   "source": [
    "## Empty list\n",
    "\n",
    "my_list = []"
   ]
  },
  {
   "cell_type": "markdown",
   "id": "f49067d5",
   "metadata": {},
   "source": [
    "- Assign the substrings going from the 4th to the 19th character inclusive, and from the 22nd to the 44th character inclusive of wikipedia_article to the variables first_pos and second_pos, respectively. Adjust the strings to be lowercase.\n",
    "\n",
    "\n",
    "- Define a string with the text \"The tool is used in\" adding placeholders after the word 'tool' and the word 'in' for future positional formatting. Append it to the list my_list.\n",
    "\n",
    "\n",
    "- Define a string with the text \"The tool is used in\" adding placeholders after the word 'tool' and 'in' but reorder them so the second argument passed to the method will replace the first placeholder. Append to the list my_list.\n",
    "\n",
    "\n",
    "- Craete the for-loop so that it uses the .format() method and the variables first_pos and second_pos to print out every string in my_list."
   ]
  },
  {
   "cell_type": "code",
   "execution_count": 16,
   "id": "8870f2bf",
   "metadata": {},
   "outputs": [
    {
     "data": {
      "text/plain": [
       "'In computer science, artificial intelligence (AI), sometimes called machine intelligence, is intelligence demonstrated by machines, in contrast to the natural intelligence displayed by humans and animals.'"
      ]
     },
     "execution_count": 16,
     "metadata": {},
     "output_type": "execute_result"
    }
   ],
   "source": [
    "wikipedia_article"
   ]
  },
  {
   "cell_type": "code",
   "execution_count": 15,
   "id": "6db96305",
   "metadata": {},
   "outputs": [
    {
     "name": "stdout",
     "output_type": "stream",
     "text": [
      "computer science\n",
      "artificial intelligence\n"
     ]
    }
   ],
   "source": [
    "## 1st question\n",
    "\n",
    "first_pos = wikipedia_article[3:19]\n",
    "print(first_pos)\n",
    "\n",
    "second_pos = wikipedia_article[21:44]\n",
    "print(second_pos)"
   ]
  },
  {
   "cell_type": "code",
   "execution_count": 18,
   "id": "5c740e08",
   "metadata": {},
   "outputs": [],
   "source": [
    "## 2nd question\n",
    "my_list.append(\"The tool {} is used in {}\")"
   ]
  },
  {
   "cell_type": "code",
   "execution_count": 19,
   "id": "ce6e5f3d",
   "metadata": {},
   "outputs": [],
   "source": [
    "## 3rd question\n",
    "my_list.append(\"The tool {1} is used in {0}\")"
   ]
  },
  {
   "cell_type": "code",
   "execution_count": 20,
   "id": "1e11c8cc",
   "metadata": {},
   "outputs": [
    {
     "data": {
      "text/plain": [
       "['The tool {} is used in {}', 'The tool {1} is used in {0}']"
      ]
     },
     "execution_count": 20,
     "metadata": {},
     "output_type": "execute_result"
    }
   ],
   "source": [
    "my_list"
   ]
  },
  {
   "cell_type": "code",
   "execution_count": 21,
   "id": "a7d850d7",
   "metadata": {},
   "outputs": [
    {
     "name": "stdout",
     "output_type": "stream",
     "text": [
      "The tool computer science is used in artificial intelligence\n",
      "The tool artificial intelligence is used in computer science\n"
     ]
    }
   ],
   "source": [
    "## 4th q\n",
    "for string in my_list:\n",
    "    print(string.format(first_pos,second_pos))"
   ]
  },
  {
   "cell_type": "markdown",
   "id": "df431500",
   "metadata": {},
   "source": [
    "### Exercise 2: Calling by its name\n",
    "\n",
    "You have created your database with the tools and the different Data Science subfields they are used in. The company is considering creating courses using these tools and sending personalized emails to the users recommending the different topics. They have asked you to make this process more time-efficient. \n",
    "\n",
    "To do this, you want to create a template email with a standard message changing the different tools and corresponding field name.\n",
    "\n",
    "First, you want to try doing this with just one example as a proof of concept. You use positional formatting and named placeholders to call the variables in a dictionary.\n",
    "\n",
    "The variable 'courses' containing one tool and one field name has been saved. "
   ]
  },
  {
   "cell_type": "code",
   "execution_count": 22,
   "id": "ee5f348f",
   "metadata": {},
   "outputs": [
    {
     "data": {
      "text/plain": [
       "['artificial intelligence', 'neural networks']"
      ]
     },
     "execution_count": 22,
     "metadata": {},
     "output_type": "execute_result"
    }
   ],
   "source": [
    "courses = ['artificial intelligence', 'neural networks']\n",
    "courses"
   ]
  },
  {
   "cell_type": "code",
   "execution_count": 34,
   "id": "99992530",
   "metadata": {},
   "outputs": [],
   "source": [
    "my_message = \"If you are interested in ____, you can take the course related to ____\""
   ]
  },
  {
   "cell_type": "markdown",
   "id": "757b10d2",
   "metadata": {},
   "source": [
    "- Create a dictionary assigning the first and second element appearing in the list courses to the keys \"field\" and \"tool\" respectively.\n",
    "\n",
    "\n",
    "- Complete the placeholders accessing inside to the elements linked with the keys field and tool in the dictionary data.\n",
    "\n",
    "\n",
    "- Print out the resulting message using the .format() method, passing the plan dictionary to replace the data placeholders."
   ]
  },
  {
   "cell_type": "code",
   "execution_count": 23,
   "id": "03b7f420",
   "metadata": {},
   "outputs": [
    {
     "data": {
      "text/plain": [
       "{'field': 'artificial intelligence', 'tool': 'neural networks'}"
      ]
     },
     "execution_count": 23,
     "metadata": {},
     "output_type": "execute_result"
    }
   ],
   "source": [
    "## 1st\n",
    "plan = {\"field\" : courses[0],\n",
    "        \"tool\" : courses[1]}\n",
    "plan"
   ]
  },
  {
   "cell_type": "code",
   "execution_count": 27,
   "id": "94ba7946",
   "metadata": {},
   "outputs": [
    {
     "data": {
      "text/plain": [
       "'If you are interested in artificial intelligence, you can take the course related to neural networks'"
      ]
     },
     "execution_count": 27,
     "metadata": {},
     "output_type": "execute_result"
    }
   ],
   "source": [
    "## 2nd and 3rd\n",
    "my_message = \"If you are interested in {data[field]}, you can take the course related to {data[tool]}\"\n",
    "my_message.format(data=plan)"
   ]
  },
  {
   "cell_type": "code",
   "execution_count": null,
   "id": "1a047cf6",
   "metadata": {},
   "outputs": [],
   "source": [
    "# Create a dictionary\n",
    "plan = {\n",
    "  \t\t\"field\": courses[0],\n",
    "        \"tool\": courses[1]\n",
    "        }\n",
    "\n",
    "# Complete the placeholders accessing elements of field and tool keys in the data dictionary\n",
    "my_message = \"If you are interested in {data[field]}, you can take the course related to {data[tool]}\"\n",
    "\n",
    "# Use the plan dictionary to replace placeholders\n",
    "print(my_message.format(data=plan))"
   ]
  },
  {
   "cell_type": "markdown",
   "id": "85206008",
   "metadata": {},
   "source": [
    "### Exercise 3: What day is today?\n",
    "\n",
    "It's lunch time and you are talking with some of your colleagues. They comment that they feel that every morning someone should send them a reminder of what day it is so they can check in the calendar what their assignments are for that day.\n",
    "\n",
    "You want to help out and decide to write a small script that takes the date and time of the day so that every morning, a message is sent to your colleagues. You can use the module datetime along with named placeholders to achieve your goal.\n",
    "\n",
    "The date should be expressed as Month day, year, e.g. `April 16, 2019` and the time as hh:mm, e.g. `16:30`.\n",
    "\n",
    "You write down some specifiers to help you:` %d(day), %B (monthname), %m (monthnumber), %Y(year), %H (hour) and %M(minutes)`"
   ]
  },
  {
   "cell_type": "code",
   "execution_count": 28,
   "id": "8fef9ec7",
   "metadata": {},
   "outputs": [],
   "source": [
    "message = \"Good morning. Today is {____:____ ____, ____}. It's {today:___:____} ... time to work!\""
   ]
  },
  {
   "cell_type": "markdown",
   "id": "d87497a4",
   "metadata": {},
   "source": [
    "- Import the function datetime from the module datetime .\n",
    "\n",
    "\n",
    "- Obtain the date of today and assign it to the variable get_date.\n",
    "\n",
    "\n",
    "- Complete the string message by adding to the placeholders named today and the format specifiers to format the date as 'month_name day, year' and time as 'hour:minutes'.\n",
    "\n",
    "\n",
    "- Print the message using the .format() method and the variable get_date to replace the named placeholder."
   ]
  },
  {
   "cell_type": "code",
   "execution_count": 31,
   "id": "174516cf",
   "metadata": {},
   "outputs": [
    {
     "name": "stdout",
     "output_type": "stream",
     "text": [
      "2022-02-03 21:00:59.130076\n"
     ]
    }
   ],
   "source": [
    "## 1st and 2nd\n",
    "from datetime import datetime\n",
    "\n",
    "get_date = datetime.now()\n",
    "print(get_date)"
   ]
  },
  {
   "cell_type": "code",
   "execution_count": 32,
   "id": "681691ed",
   "metadata": {},
   "outputs": [],
   "source": [
    "## 3rd\n",
    "message = \"Good morning. Today is {today:%B %d, %Y}. It's {today:%H:%M} ... time to work!\""
   ]
  },
  {
   "cell_type": "code",
   "execution_count": 33,
   "id": "f016f42e",
   "metadata": {},
   "outputs": [
    {
     "name": "stdout",
     "output_type": "stream",
     "text": [
      "Good morning. Today is February 03, 2022. It's 21:00 ... time to work!\n"
     ]
    }
   ],
   "source": [
    "## 4th\n",
    "print(message.format(today = get_date))"
   ]
  },
  {
   "cell_type": "markdown",
   "id": "0b3a290a",
   "metadata": {},
   "source": [
    "### Formatted string literal\n",
    "\n",
    "Modern versions of Python introduced a new powerful string formatting: formatted string literal method.\n",
    "\n",
    "### f-strings\n",
    "\n",
    "The strings defined by this method are called f-strings. They have a minimal syntax as you can see in the slide. To defined them, you need to add the prefix f before the string. Inside quotes, you put your text along with curly braces, which identify placeholders where you insert the expressions. \n",
    "\n",
    "<img src=\"fs.jpg\" style=\"max-width:600px\">\n",
    "\n",
    "In the example code, we have two variables, way and method. Then, we define an f-string. Inside curly braces, we pass the two variables. The method replaces the placeholders with the variables. And we obtain the following output."
   ]
  },
  {
   "cell_type": "code",
   "execution_count": 35,
   "id": "34dea9f3",
   "metadata": {},
   "outputs": [
    {
     "name": "stdout",
     "output_type": "stream",
     "text": [
      "Practicing how to code is the best method for learning Python faster\n"
     ]
    }
   ],
   "source": [
    "way =\"code\"\n",
    "method =\"learning Python faster\"\n",
    "\n",
    "print(f\"Practicing how to {way} is the best method for {method}\")"
   ]
  },
  {
   "cell_type": "markdown",
   "id": "5d6a694a",
   "metadata": {},
   "source": [
    "### Type conversion\n",
    "\n",
    "f-strings allow us to convert expressions into different types. \n",
    "\n",
    "- We can use exclamation mark s for strings, \n",
    "\n",
    "\n",
    "- exclamation mark r for printable representation of strings, or\n",
    "\n",
    "\n",
    "- exclamation mark a to escape non-ascii characters. \n",
    "\n",
    "\n",
    "<img src=\"tc.jpg\" style=\"max-width:600px\">\n",
    "\n",
    "Let's imagine we define the variable name as you can see in the slide. The variable should be surrounded by quotes in the resulting string. We can add after the variable the exclamation r conversion. This will return a printable representation of the string. "
   ]
  },
  {
   "cell_type": "code",
   "execution_count": 36,
   "id": "388bb736",
   "metadata": {},
   "outputs": [
    {
     "name": "stdout",
     "output_type": "stream",
     "text": [
      "Python is called 'Python' due to a comedy series\n"
     ]
    }
   ],
   "source": [
    "name = \"Python\"\n",
    "print(f\"Python is called {name!r} due to a comedy series\")"
   ]
  },
  {
   "cell_type": "markdown",
   "id": "0b1712cd",
   "metadata": {},
   "source": [
    "In the output, we can see that quotes are surrounding the variable."
   ]
  },
  {
   "cell_type": "markdown",
   "id": "04645eae",
   "metadata": {},
   "source": [
    "### Format specifiers\n",
    "\n",
    "We can also use format specifiers such as e for scientific notation, d for digit and f for float. \n",
    "\n",
    "<img src=\"fsp.jpg\" style=\"max-width:600px\">\n",
    "\n",
    "In the example code, we define a variable containing a number. Then, we insert it in the f-string. We specify that we want it to have only two decimals. And we get the following string."
   ]
  },
  {
   "cell_type": "code",
   "execution_count": 37,
   "id": "980ee7bc",
   "metadata": {},
   "outputs": [
    {
     "name": "stdout",
     "output_type": "stream",
     "text": [
      "In the last 2 years, 90.42% of the data was produced worldwide!\n"
     ]
    }
   ],
   "source": [
    "number = 90.41890417471841\n",
    "print(f\"In the last 2 years, {number:.2f}% of the data was produced worldwide!\")"
   ]
  },
  {
   "cell_type": "markdown",
   "id": "57b5b9b4",
   "metadata": {},
   "source": [
    "### Format specifiers(Datetime)\n",
    "\n",
    "We can also format datetime. We only need to insert the variable containing the datetime object. After that, we placed a colon and the specifiers month name, day and year. And we get the string containing the date as we see on the code."
   ]
  },
  {
   "cell_type": "code",
   "execution_count": 38,
   "id": "1499d5a9",
   "metadata": {},
   "outputs": [
    {
     "name": "stdout",
     "output_type": "stream",
     "text": [
      "Today's date is February 03, 2022\n"
     ]
    }
   ],
   "source": [
    "my_today = datetime.now()\n",
    "print(f\"Today's date is {my_today:%B %d, %Y}\")"
   ]
  },
  {
   "cell_type": "markdown",
   "id": "e2279f93",
   "metadata": {},
   "source": [
    "###  Index lookups\n",
    "\n",
    "Do you remember when we accessed dictionaries from the string format method? To insert the value associated with a specific key, we specify the index without quotes. \n",
    "\n",
    "Let's try the same to access dictionaries in f-strings. As we see in the code, Python raises an error telling us that it cannot find the variable. \n",
    "\n",
    "This is due to the fact we need to surround the index with quotes."
   ]
  },
  {
   "cell_type": "code",
   "execution_count": 39,
   "id": "8c2ca382",
   "metadata": {},
   "outputs": [
    {
     "name": "stdout",
     "output_type": "stream",
     "text": [
      "Is your dad called John?\n"
     ]
    }
   ],
   "source": [
    "## string format method\n",
    "family = {\"dad\": \"John\", \"siblings\": \"Peter\"}\n",
    "print(\"Is your dad called {family[dad]}?\".format(family=family))"
   ]
  },
  {
   "cell_type": "code",
   "execution_count": 40,
   "id": "ec8cdcc4",
   "metadata": {},
   "outputs": [
    {
     "ename": "NameError",
     "evalue": "name 'dad' is not defined",
     "output_type": "error",
     "traceback": [
      "\u001b[1;31m---------------------------------------------------------------------------\u001b[0m",
      "\u001b[1;31mNameError\u001b[0m                                 Traceback (most recent call last)",
      "\u001b[1;32m<ipython-input-40-be2e298c33a5>\u001b[0m in \u001b[0;36m<module>\u001b[1;34m\u001b[0m\n\u001b[1;32m----> 1\u001b[1;33m \u001b[0mprint\u001b[0m\u001b[1;33m(\u001b[0m\u001b[1;34mf\"Is your dad called {family[dad]}?\"\u001b[0m\u001b[1;33m)\u001b[0m\u001b[1;33m\u001b[0m\u001b[1;33m\u001b[0m\u001b[0m\n\u001b[0m",
      "\u001b[1;31mNameError\u001b[0m: name 'dad' is not defined"
     ]
    }
   ],
   "source": [
    "print(f\"Is your dad called {family[dad]}?\")"
   ]
  },
  {
   "cell_type": "markdown",
   "id": "957b44a7",
   "metadata": {},
   "source": [
    "Our only solution to this problem is to use single quotes to get the desire output."
   ]
  },
  {
   "cell_type": "code",
   "execution_count": 41,
   "id": "73385a52",
   "metadata": {},
   "outputs": [
    {
     "name": "stdout",
     "output_type": "stream",
     "text": [
      "Is your dad called John?\n"
     ]
    }
   ],
   "source": [
    "print(f\"Is your dad called {family['dad']}?\")"
   ]
  },
  {
   "cell_type": "markdown",
   "id": "f6d87183",
   "metadata": {},
   "source": [
    "### Inline operations\n",
    "\n",
    "One of the biggest advantages of f-strings is that they allow us to perform inline operations. \n",
    "\n",
    "In the example, we define two numeric variables. We then insert them into the f-string. We can also multiply them inside the expression. And we get the result of that operation in the output."
   ]
  },
  {
   "cell_type": "code",
   "execution_count": 42,
   "id": "59e79a6c",
   "metadata": {},
   "outputs": [
    {
     "name": "stdout",
     "output_type": "stream",
     "text": [
      "4 multiplied by 7 is 28\n"
     ]
    }
   ],
   "source": [
    "my_number = 4\n",
    "my_multiplier = 7\n",
    "\n",
    "print(f'{my_number} multiplied by {my_multiplier} is {my_number * my_multiplier}')"
   ]
  },
  {
   "cell_type": "markdown",
   "id": "2df0baf6",
   "metadata": {},
   "source": [
    "### Calling functions\n",
    "\n",
    "We can also call functions inside the expression of f-strings. \n",
    "\n",
    "In the example, we define a function. Then, we call this function and pass two numbers inside the expression in the f-string. This will return the value in the final stringe."
   ]
  },
  {
   "cell_type": "code",
   "execution_count": 43,
   "id": "d8337823",
   "metadata": {},
   "outputs": [
    {
     "name": "stdout",
     "output_type": "stream",
     "text": [
      "If you sum up 10 and 20 the result is 30\n"
     ]
    }
   ],
   "source": [
    "def my_function(a, b):\n",
    "    return a + b\n",
    "\n",
    "print(f\"If you sum up 10 and 20 the result is {my_function(10, 20)}\")"
   ]
  },
  {
   "cell_type": "markdown",
   "id": "4cbed6cf",
   "metadata": {},
   "source": [
    "### Exercise 4: Literally formatting\n",
    "\n",
    "You remember that you've created a website that displayed data science facts but it was too slow. You think that it could be due to the string formatting you used. Because f-strings are very fast and easy to use, you decide to rewrite that project.\n",
    "\n",
    "The variables 'field1', 'field2' and 'field3' containing character strings as well as the numeric variables 'fact1', 'fact2', 'fact3' and 'fact4' have been saved."
   ]
  },
  {
   "cell_type": "code",
   "execution_count": 44,
   "id": "b0bb07b9",
   "metadata": {},
   "outputs": [],
   "source": [
    "field1 = 'sexiest job'\n",
    "field2 = 'data is produced daily'\n",
    "field3 = 'Individuals'"
   ]
  },
  {
   "cell_type": "code",
   "execution_count": 45,
   "id": "ef6f6709",
   "metadata": {},
   "outputs": [],
   "source": [
    "fact1 = 21\n",
    "fact2 = 2500000000000000000\n",
    "fact3 = 72.41415415151\n",
    "fact4 = 1.09"
   ]
  },
  {
   "cell_type": "markdown",
   "id": "ac935722",
   "metadata": {},
   "source": [
    "- Complete the f-string to include the variable field1 with quotes and the variable fact1 as a digit."
   ]
  },
  {
   "cell_type": "code",
   "execution_count": 47,
   "id": "df314f59",
   "metadata": {},
   "outputs": [
    {
     "name": "stdout",
     "output_type": "stream",
     "text": [
      "Data science is considered ____ in the ____st century\n"
     ]
    }
   ],
   "source": [
    "# Complete the f-string\n",
    "print(f\"Data science is considered ____ in the ____st century\")"
   ]
  },
  {
   "cell_type": "markdown",
   "id": "003d2030",
   "metadata": {},
   "source": [
    "- Complete the f-string to include the variable fact2 using exponential notation, and the variable field2"
   ]
  },
  {
   "cell_type": "code",
   "execution_count": 48,
   "id": "338c9a5a",
   "metadata": {},
   "outputs": [
    {
     "name": "stdout",
     "output_type": "stream",
     "text": [
      "About ____ of ____ in the world\n"
     ]
    }
   ],
   "source": [
    "# Complete the f-string\n",
    "print(f\"About ____ of ____ in the world\")"
   ]
  },
  {
   "cell_type": "markdown",
   "id": "b99335e4",
   "metadata": {},
   "source": [
    "- Complete the f-string to include field3 and fact3 rounded to 2 decimals, and then fact4 rounded to one decimal."
   ]
  },
  {
   "cell_type": "code",
   "execution_count": 49,
   "id": "dd71f7c2",
   "metadata": {},
   "outputs": [
    {
     "name": "stdout",
     "output_type": "stream",
     "text": [
      "____ create around ____% of the data but only ____% is analyzed\n"
     ]
    }
   ],
   "source": [
    "# Complete the f-string\n",
    "print(f\"____ create around ____% of the data but only ____% is analyzed\")"
   ]
  },
  {
   "cell_type": "code",
   "execution_count": 54,
   "id": "8c58fd21",
   "metadata": {},
   "outputs": [],
   "source": [
    "## answers"
   ]
  },
  {
   "cell_type": "code",
   "execution_count": 50,
   "id": "231a4fe3",
   "metadata": {
    "scrolled": true
   },
   "outputs": [
    {
     "name": "stdout",
     "output_type": "stream",
     "text": [
      "Data science is considered 'sexiest job' in the 21st century\n"
     ]
    }
   ],
   "source": [
    "## q1\n",
    "print(f\"Data science is considered {field1!r} in the {fact1:d}st century\")"
   ]
  },
  {
   "cell_type": "code",
   "execution_count": 51,
   "id": "cf88922e",
   "metadata": {},
   "outputs": [
    {
     "name": "stdout",
     "output_type": "stream",
     "text": [
      "About 2.500000e+18 of data is produced daily in the world\n"
     ]
    }
   ],
   "source": [
    "## q2\n",
    "print(f\"About {fact2:e} of {field2} in the world\")"
   ]
  },
  {
   "cell_type": "code",
   "execution_count": 53,
   "id": "e73a9247",
   "metadata": {},
   "outputs": [
    {
     "name": "stdout",
     "output_type": "stream",
     "text": [
      "Individuals create around 72.41% of the data but only 1.1% is analyzed\n"
     ]
    }
   ],
   "source": [
    "## q3\n",
    "print(f\"{field3} create around {fact3:0.2f}% of the data but only {fact4:0.1f}% is analyzed\")"
   ]
  },
  {
   "cell_type": "markdown",
   "id": "de500776",
   "metadata": {},
   "source": [
    "### Exercise 5: Make this function\n",
    "\n",
    "So you plan to rewrite some more of your old code. Now you know that f-strings allow you to evaluate expressions where they appear and include function and method calls. You decide to use them in a project where you analyze 120 tweets to check if they include links to different news. In that way, you expect the code to be cleaner and more readable.\n",
    "\n",
    "The variables 'number1', 'number2','string1', and 'list_links' have already been pre-loaded."
   ]
  },
  {
   "cell_type": "code",
   "execution_count": 55,
   "id": "f15d6f3e",
   "metadata": {},
   "outputs": [],
   "source": [
    "number1 = 120\n",
    "number2 = 7\n",
    "\n",
    "string1 = 'httpswww.datacamp.com'\n",
    "\n",
    "list_links = ['www.news.com','www.google.com','www.yahoo.com','www.bbc.com',\n",
    "              'www.msn.com','www.facebook.com','www.news.google.com']"
   ]
  },
  {
   "cell_type": "code",
   "execution_count": 56,
   "id": "7e7f102e",
   "metadata": {},
   "outputs": [
    {
     "name": "stdout",
     "output_type": "stream",
     "text": [
      "___ tweets were downloaded in ____ minutes indicating a speed of ____ tweets per min\n"
     ]
    }
   ],
   "source": [
    "# Include both variables and the result of dividing them \n",
    "print(f\"___ tweets were downloaded in ____ minutes indicating a speed of ____ tweets per min\")"
   ]
  },
  {
   "cell_type": "markdown",
   "id": "3868b3c0",
   "metadata": {},
   "source": [
    "- Inside the f-string, include number1,number2 and the result of dividing number1 by number2 rounded to one decimal."
   ]
  },
  {
   "cell_type": "code",
   "execution_count": 59,
   "id": "07c4ec32",
   "metadata": {
    "scrolled": true
   },
   "outputs": [],
   "source": [
    "# Replace the substring https by an empty string\n",
    "print(f\"{____.____(____, ____)}\")"
   ]
  },
  {
   "cell_type": "markdown",
   "id": "edc123e5",
   "metadata": {},
   "source": [
    "- Inside the f-string, use .replace() to replace the substring https with an empty substring in string1"
   ]
  },
  {
   "cell_type": "code",
   "execution_count": 60,
   "id": "e3a8cac6",
   "metadata": {},
   "outputs": [
    {
     "name": "stdout",
     "output_type": "stream",
     "text": [
      "Only ____% of the posts contain links\n"
     ]
    }
   ],
   "source": [
    "# Divide the length of list by 120 rounded to two decimals\n",
    "print(f\"Only ____% of the posts contain links\")"
   ]
  },
  {
   "cell_type": "markdown",
   "id": "7329343f",
   "metadata": {},
   "source": [
    "- Inside the f-string, get list_links length, multiply it by 100 and divide it by 120. Round the result to two decimals."
   ]
  },
  {
   "cell_type": "code",
   "execution_count": 61,
   "id": "a121f1e6",
   "metadata": {},
   "outputs": [],
   "source": [
    "## Answers"
   ]
  },
  {
   "cell_type": "code",
   "execution_count": 64,
   "id": "7d718ad9",
   "metadata": {},
   "outputs": [
    {
     "data": {
      "text/plain": [
       "(120, 7)"
      ]
     },
     "execution_count": 64,
     "metadata": {},
     "output_type": "execute_result"
    }
   ],
   "source": [
    "number1,number2"
   ]
  },
  {
   "cell_type": "code",
   "execution_count": 65,
   "id": "c4ca2a40",
   "metadata": {},
   "outputs": [
    {
     "name": "stdout",
     "output_type": "stream",
     "text": [
      "120 tweets were downloaded in 7 minutes indicating a speed of 17.1 tweets per min\n"
     ]
    }
   ],
   "source": [
    "## q1\n",
    "print(f\"{number1} tweets were downloaded in {number2} minutes indicating a speed of {number1/number2:0.1f} tweets per min\")"
   ]
  },
  {
   "cell_type": "code",
   "execution_count": 63,
   "id": "fea1348a",
   "metadata": {},
   "outputs": [
    {
     "data": {
      "text/plain": [
       "'httpswww.datacamp.com'"
      ]
     },
     "execution_count": 63,
     "metadata": {},
     "output_type": "execute_result"
    }
   ],
   "source": [
    "string1"
   ]
  },
  {
   "cell_type": "code",
   "execution_count": 66,
   "id": "b3b4e267",
   "metadata": {},
   "outputs": [
    {
     "name": "stdout",
     "output_type": "stream",
     "text": [
      "www.datacamp.com\n"
     ]
    }
   ],
   "source": [
    "## q2\n",
    "print(f\"{string1.replace('https', '')}\")"
   ]
  },
  {
   "cell_type": "code",
   "execution_count": 67,
   "id": "b264d316",
   "metadata": {},
   "outputs": [
    {
     "data": {
      "text/plain": [
       "['www.news.com',\n",
       " 'www.google.com',\n",
       " 'www.yahoo.com',\n",
       " 'www.bbc.com',\n",
       " 'www.msn.com',\n",
       " 'www.facebook.com',\n",
       " 'www.news.google.com']"
      ]
     },
     "execution_count": 67,
     "metadata": {},
     "output_type": "execute_result"
    }
   ],
   "source": [
    "list_links"
   ]
  },
  {
   "cell_type": "code",
   "execution_count": 69,
   "id": "5e578acc",
   "metadata": {},
   "outputs": [
    {
     "name": "stdout",
     "output_type": "stream",
     "text": [
      "Only 5.83% of the posts contain links\n"
     ]
    }
   ],
   "source": [
    "## q3\n",
    "print(f\"Only {len(list_links)*100/120:0.2f}% of the posts contain links\")"
   ]
  },
  {
   "cell_type": "markdown",
   "id": "52875007",
   "metadata": {},
   "source": [
    "### Exercise 6: On time\n",
    "\n",
    "Lastly, you want to rewrite an old real estate prediction project. At the time, you obtained historical information about house prices and used it to make a prediction on future values.\n",
    "\n",
    "The date was in the datetime format: datetime.datetime(1990, 3, 17) but to print it out, you format it as 3-17-1990. \n",
    "\n",
    "You also remember that you defined a dictionary for each neighborhood. Now, you believe that you can handle both type of data better with f-strings.\n",
    "\n",
    "Two dictionaries, east and west, both with the keys date and price, have already been loaded."
   ]
  },
  {
   "cell_type": "code",
   "execution_count": 71,
   "id": "08a4f8c4",
   "metadata": {},
   "outputs": [
    {
     "name": "stdout",
     "output_type": "stream",
     "text": [
      "{'date': datetime.datetime(2007, 4, 20, 0, 0), 'price': 1232443}\n",
      "{'date': datetime.datetime(2006, 5, 26, 0, 0), 'price': 1432673}\n"
     ]
    }
   ],
   "source": [
    "east = {'date': datetime(2007, 4, 20, 0, 0), 'price': 1232443}\n",
    "print(east)\n",
    "\n",
    "west = {'date': datetime(2006, 5, 26, 0, 0), 'price': 1432673}\n",
    "print(west)"
   ]
  },
  {
   "cell_type": "code",
   "execution_count": 74,
   "id": "04860272",
   "metadata": {},
   "outputs": [],
   "source": [
    "# Access values of date and price in east dictionary\n",
    "print(f\"The price for a house in the east neighborhood was ${____[____]} in {____[____]:____-____-____}\")"
   ]
  },
  {
   "cell_type": "markdown",
   "id": "3bfbe930",
   "metadata": {},
   "source": [
    "- Inside the f-string, access the values of the keys price and date in east dictionary. Format the date to month-day-year."
   ]
  },
  {
   "cell_type": "code",
   "execution_count": 75,
   "id": "1c81c77f",
   "metadata": {},
   "outputs": [],
   "source": [
    "# Access values of date and price in west dictionary\n",
    "print(f\"The price for a house in the west neighborhood was $____ in ____.\")"
   ]
  },
  {
   "cell_type": "markdown",
   "id": "73b5eaf8",
   "metadata": {},
   "source": [
    "- Inside the f-string, access the values of the keys price and date in west dictionary. Format the date to month-day-year."
   ]
  },
  {
   "cell_type": "code",
   "execution_count": 76,
   "id": "e4f75e57",
   "metadata": {},
   "outputs": [],
   "source": [
    "## Answers"
   ]
  },
  {
   "cell_type": "code",
   "execution_count": 77,
   "id": "3c6e2a23",
   "metadata": {},
   "outputs": [
    {
     "data": {
      "text/plain": [
       "{'date': datetime.datetime(2007, 4, 20, 0, 0), 'price': 1232443}"
      ]
     },
     "execution_count": 77,
     "metadata": {},
     "output_type": "execute_result"
    }
   ],
   "source": [
    "east"
   ]
  },
  {
   "cell_type": "code",
   "execution_count": 78,
   "id": "2ee18423",
   "metadata": {},
   "outputs": [
    {
     "name": "stdout",
     "output_type": "stream",
     "text": [
      "The price for a house in the east neighborhood was $1232443 in 04-20-2007\n"
     ]
    }
   ],
   "source": [
    "## q1\n",
    "print(f\"The price for a house in the east neighborhood was ${east['price']} in {east['date']:%m-%d-%Y}\")"
   ]
  },
  {
   "cell_type": "code",
   "execution_count": 80,
   "id": "d13dd58d",
   "metadata": {},
   "outputs": [
    {
     "data": {
      "text/plain": [
       "{'date': datetime.datetime(2006, 5, 26, 0, 0), 'price': 1432673}"
      ]
     },
     "execution_count": 80,
     "metadata": {},
     "output_type": "execute_result"
    }
   ],
   "source": [
    "west"
   ]
  },
  {
   "cell_type": "code",
   "execution_count": 79,
   "id": "f86357b0",
   "metadata": {},
   "outputs": [
    {
     "name": "stdout",
     "output_type": "stream",
     "text": [
      "The price for a house in the west neighborhood was $1432673 in 05-26-2006\n"
     ]
    }
   ],
   "source": [
    "## q2\n",
    "print(f\"The price for a house in the west neighborhood was ${west['price']} in {west['date']:%m-%d-%Y}\")"
   ]
  },
  {
   "cell_type": "markdown",
   "id": "7b2d5239",
   "metadata": {},
   "source": [
    "### Template strings\n",
    "\n",
    "Template strings have a simpler syntax. They are slow. And they don't allow the use of format specifiers. Yet, they are very suitable in some specific situations. Specially, when working with externally formatted strings that you don't have control over.\n",
    "\n",
    "<img src=\"ts.jpg\" style=\"max-width:600px\">\n",
    "\n",
    "### Basic syntax\n",
    "\n",
    "Template strings do not belong to the Python core features. You need to import the Template class from the string module. \n",
    "\n",
    "- First, you need to create the template string. For that, you use the Template constructor that takes only the string, as you can observe in the slide. Template strings use dollar signs to identify placeholders or identifiers. \n",
    "\n",
    "\n",
    "- Then, you need to call the method that substitutes the identifier by the string values. For that, you use the identifier name equal the replacement string. And we'll get the output shown in the slide."
   ]
  },
  {
   "cell_type": "code",
   "execution_count": 81,
   "id": "439e7034",
   "metadata": {},
   "outputs": [],
   "source": [
    "from string import Template"
   ]
  },
  {
   "cell_type": "code",
   "execution_count": 82,
   "id": "a0010ac0",
   "metadata": {},
   "outputs": [
    {
     "data": {
      "text/plain": [
       "'Data science has been called sexiest job of the 21st century'"
      ]
     },
     "execution_count": 82,
     "metadata": {},
     "output_type": "execute_result"
    }
   ],
   "source": [
    "my_string = Template('Data science has been called $identifier')\n",
    "my_string.substitute(identifier=\"sexiest job of the 21st century\")"
   ]
  },
  {
   "cell_type": "markdown",
   "id": "31c3b319",
   "metadata": {},
   "source": [
    "###  Substitution\n",
    "\n",
    "We can place many identifiers as well as variables when using Template strings. \n",
    "\n",
    "In the example code, we define two variables containing strings. We can create a template having two identifiers with a designated name. Afterward, we call the method substitute to assign the identifiers to the different variables. And we get the following output."
   ]
  },
  {
   "cell_type": "code",
   "execution_count": 83,
   "id": "0544ac65",
   "metadata": {},
   "outputs": [
    {
     "data": {
      "text/plain": [
       "'Data science has been called sexiest job of the 21st century'"
      ]
     },
     "execution_count": 83,
     "metadata": {},
     "output_type": "execute_result"
    }
   ],
   "source": [
    "job = \"Data science\"\n",
    "name = \"sexiest job of the 21st century\"\n",
    "my_string = Template('$title has been called $description')\n",
    "my_string.substitute(title=job, description=name)"
   ]
  },
  {
   "cell_type": "markdown",
   "id": "4d37c971",
   "metadata": {},
   "source": [
    "### Substitution(enclosing the identifier)\n",
    "\n",
    "Sometimes we need to add extra curly braces after the dollar sign to enclose the identifier. This is required when valid characters follow the identifier but are not part of it. "
   ]
  },
  {
   "cell_type": "code",
   "execution_count": 84,
   "id": "9cf1779f",
   "metadata": {},
   "outputs": [
    {
     "data": {
      "text/plain": [
       "'I find Python very interesting but my sister has lost interest'"
      ]
     },
     "execution_count": 84,
     "metadata": {},
     "output_type": "execute_result"
    }
   ],
   "source": [
    "my_string = Template('I find Python very ${noun}ing but my sister has lost $noun')\n",
    "my_string.substitute(noun=\"interest\")"
   ]
  },
  {
   "cell_type": "markdown",
   "id": "2d4ce14a",
   "metadata": {},
   "source": [
    "Let's clarify this. In the example, we need to add the 'ing' immediately after the first identifier. We need to include curly braces. If we don't do it, Python believes that 'ing' belong to the identifier name. We replace it by the variable noun obtaining the shown output."
   ]
  },
  {
   "cell_type": "markdown",
   "id": "24618cd9",
   "metadata": {},
   "source": [
    "### Substitution\n",
    "\n",
    "- Use $$ to escape the dollar sign\n",
    "\n",
    "Let's imagine now that you are working with numbers and you want to include the dollar sign as part of a string. Because they are use for identifiers, you will need to escape this character by adding an extra dollar sign. And get the correct output as seen in the code."
   ]
  },
  {
   "cell_type": "code",
   "execution_count": 86,
   "id": "9f517b4a",
   "metadata": {},
   "outputs": [
    {
     "data": {
      "text/plain": [
       "'I paid for the Python course only $ 12.50, amazing!'"
      ]
     },
     "execution_count": 86,
     "metadata": {},
     "output_type": "execute_result"
    }
   ],
   "source": [
    "my_string = Template('I paid for the Python course only $$ $price, amazing!')\n",
    "my_string.substitute(price=\"12.50\")"
   ]
  },
  {
   "cell_type": "markdown",
   "id": "bb3ba45a",
   "metadata": {},
   "source": [
    "### Substitution(Dictionary)\n",
    "\n",
    "In the example code, we have defined a dictionary with only one key. However, when we define our template string, we include two identifiers. \n",
    "\n",
    "What would happen if we pass this dictionary to the method substitute? "
   ]
  },
  {
   "cell_type": "code",
   "execution_count": 87,
   "id": "60e1508e",
   "metadata": {},
   "outputs": [
    {
     "data": {
      "text/plain": [
       "{'flavor': 'chocolate'}"
      ]
     },
     "execution_count": 87,
     "metadata": {},
     "output_type": "execute_result"
    }
   ],
   "source": [
    "favorite = dict(flavor=\"chocolate\")\n",
    "favorite"
   ]
  },
  {
   "cell_type": "code",
   "execution_count": 88,
   "id": "5e53cd78",
   "metadata": {
    "scrolled": true
   },
   "outputs": [
    {
     "ename": "KeyError",
     "evalue": "'cake'",
     "output_type": "error",
     "traceback": [
      "\u001b[1;31m---------------------------------------------------------------------------\u001b[0m",
      "\u001b[1;31mKeyError\u001b[0m                                  Traceback (most recent call last)",
      "\u001b[1;32m<ipython-input-88-aa5d3f3e4986>\u001b[0m in \u001b[0;36m<module>\u001b[1;34m\u001b[0m\n\u001b[0;32m      1\u001b[0m \u001b[0mmy_string\u001b[0m \u001b[1;33m=\u001b[0m \u001b[0mTemplate\u001b[0m\u001b[1;33m(\u001b[0m\u001b[1;34m'I love $flavor $cake very much'\u001b[0m\u001b[1;33m)\u001b[0m\u001b[1;33m\u001b[0m\u001b[1;33m\u001b[0m\u001b[0m\n\u001b[1;32m----> 2\u001b[1;33m \u001b[0mmy_string\u001b[0m\u001b[1;33m.\u001b[0m\u001b[0msubstitute\u001b[0m\u001b[1;33m(\u001b[0m\u001b[0mfavorite\u001b[0m\u001b[1;33m)\u001b[0m\u001b[1;33m\u001b[0m\u001b[1;33m\u001b[0m\u001b[0m\n\u001b[0m",
      "\u001b[1;32m~\\anaconda3\\lib\\string.py\u001b[0m in \u001b[0;36msubstitute\u001b[1;34m(self, mapping, **kws)\u001b[0m\n\u001b[0;32m    124\u001b[0m             raise ValueError('Unrecognized named group in pattern',\n\u001b[0;32m    125\u001b[0m                              self.pattern)\n\u001b[1;32m--> 126\u001b[1;33m         \u001b[1;32mreturn\u001b[0m \u001b[0mself\u001b[0m\u001b[1;33m.\u001b[0m\u001b[0mpattern\u001b[0m\u001b[1;33m.\u001b[0m\u001b[0msub\u001b[0m\u001b[1;33m(\u001b[0m\u001b[0mconvert\u001b[0m\u001b[1;33m,\u001b[0m \u001b[0mself\u001b[0m\u001b[1;33m.\u001b[0m\u001b[0mtemplate\u001b[0m\u001b[1;33m)\u001b[0m\u001b[1;33m\u001b[0m\u001b[1;33m\u001b[0m\u001b[0m\n\u001b[0m\u001b[0;32m    127\u001b[0m \u001b[1;33m\u001b[0m\u001b[0m\n\u001b[0;32m    128\u001b[0m     \u001b[1;32mdef\u001b[0m \u001b[0msafe_substitute\u001b[0m\u001b[1;33m(\u001b[0m\u001b[0mself\u001b[0m\u001b[1;33m,\u001b[0m \u001b[0mmapping\u001b[0m\u001b[1;33m=\u001b[0m\u001b[0m_sentinel_dict\u001b[0m\u001b[1;33m,\u001b[0m \u001b[1;33m/\u001b[0m\u001b[1;33m,\u001b[0m \u001b[1;33m**\u001b[0m\u001b[0mkws\u001b[0m\u001b[1;33m)\u001b[0m\u001b[1;33m:\u001b[0m\u001b[1;33m\u001b[0m\u001b[1;33m\u001b[0m\u001b[0m\n",
      "\u001b[1;32m~\\anaconda3\\lib\\string.py\u001b[0m in \u001b[0;36mconvert\u001b[1;34m(mo)\u001b[0m\n\u001b[0;32m    117\u001b[0m             \u001b[0mnamed\u001b[0m \u001b[1;33m=\u001b[0m \u001b[0mmo\u001b[0m\u001b[1;33m.\u001b[0m\u001b[0mgroup\u001b[0m\u001b[1;33m(\u001b[0m\u001b[1;34m'named'\u001b[0m\u001b[1;33m)\u001b[0m \u001b[1;32mor\u001b[0m \u001b[0mmo\u001b[0m\u001b[1;33m.\u001b[0m\u001b[0mgroup\u001b[0m\u001b[1;33m(\u001b[0m\u001b[1;34m'braced'\u001b[0m\u001b[1;33m)\u001b[0m\u001b[1;33m\u001b[0m\u001b[1;33m\u001b[0m\u001b[0m\n\u001b[0;32m    118\u001b[0m             \u001b[1;32mif\u001b[0m \u001b[0mnamed\u001b[0m \u001b[1;32mis\u001b[0m \u001b[1;32mnot\u001b[0m \u001b[1;32mNone\u001b[0m\u001b[1;33m:\u001b[0m\u001b[1;33m\u001b[0m\u001b[1;33m\u001b[0m\u001b[0m\n\u001b[1;32m--> 119\u001b[1;33m                 \u001b[1;32mreturn\u001b[0m \u001b[0mstr\u001b[0m\u001b[1;33m(\u001b[0m\u001b[0mmapping\u001b[0m\u001b[1;33m[\u001b[0m\u001b[0mnamed\u001b[0m\u001b[1;33m]\u001b[0m\u001b[1;33m)\u001b[0m\u001b[1;33m\u001b[0m\u001b[1;33m\u001b[0m\u001b[0m\n\u001b[0m\u001b[0;32m    120\u001b[0m             \u001b[1;32mif\u001b[0m \u001b[0mmo\u001b[0m\u001b[1;33m.\u001b[0m\u001b[0mgroup\u001b[0m\u001b[1;33m(\u001b[0m\u001b[1;34m'escaped'\u001b[0m\u001b[1;33m)\u001b[0m \u001b[1;32mis\u001b[0m \u001b[1;32mnot\u001b[0m \u001b[1;32mNone\u001b[0m\u001b[1;33m:\u001b[0m\u001b[1;33m\u001b[0m\u001b[1;33m\u001b[0m\u001b[0m\n\u001b[0;32m    121\u001b[0m                 \u001b[1;32mreturn\u001b[0m \u001b[0mself\u001b[0m\u001b[1;33m.\u001b[0m\u001b[0mdelimiter\u001b[0m\u001b[1;33m\u001b[0m\u001b[1;33m\u001b[0m\u001b[0m\n",
      "\u001b[1;31mKeyError\u001b[0m: 'cake'"
     ]
    }
   ],
   "source": [
    "my_string = Template('I love $flavor $cake very much')\n",
    "my_string.substitute(favorite)"
   ]
  },
  {
   "cell_type": "markdown",
   "id": "38290096",
   "metadata": {},
   "source": [
    "Python will raise an error. It tries to replace every placeholder and some of them are missing. \n",
    "\n",
    "We could try using the try except block again. "
   ]
  },
  {
   "cell_type": "code",
   "execution_count": 89,
   "id": "ce8f86dc",
   "metadata": {},
   "outputs": [],
   "source": [
    "favorite = dict(flavor=\"chocolate\")\n",
    "my_string = Template('I love $flavor $cake very much')"
   ]
  },
  {
   "cell_type": "code",
   "execution_count": 90,
   "id": "ca47313f",
   "metadata": {},
   "outputs": [
    {
     "name": "stdout",
     "output_type": "stream",
     "text": [
      "missing information\n"
     ]
    }
   ],
   "source": [
    "try:\n",
    "    my_string.substitute(favorite)\n",
    "except KeyError:\n",
    "    print(\"missing information\")"
   ]
  },
  {
   "cell_type": "markdown",
   "id": "6a33f941",
   "metadata": {},
   "source": [
    "You can observe the syntax. The try part will test the given code. If any error appears the except part will be executed obtaining the following output as a result."
   ]
  },
  {
   "cell_type": "markdown",
   "id": "0e7be364",
   "metadata": {},
   "source": [
    "### Safe substitution\n",
    "\n",
    "A better way to handle this situation is using the safe substitute method. This method will always try to return a usable string. How? \n",
    "\n",
    "It will place missing placeholders in the resulting string. \n",
    "\n",
    "Let's say we have the same situation as before. Now, if we pass the dictionary to the safe substitute, we will not get an error. Instead, we'll get the identifier dollar sign cake in our resulting string, as you can observe in the output."
   ]
  },
  {
   "cell_type": "code",
   "execution_count": 91,
   "id": "8993547d",
   "metadata": {},
   "outputs": [
    {
     "data": {
      "text/plain": [
       "'I love chocolate $cake very much'"
      ]
     },
     "execution_count": 91,
     "metadata": {},
     "output_type": "execute_result"
    }
   ],
   "source": [
    "favorite = dict(flavor=\"chocolate\")\n",
    "my_string = Template('I love $flavor $cake very much')\n",
    "my_string.safe_substitute(favorite)"
   ]
  },
  {
   "cell_type": "markdown",
   "id": "b5678026",
   "metadata": {},
   "source": [
    "Template strings are a simpler string substitution mechanism and even though it's less powerful, it's the right choice when you are not sure about the source of strings."
   ]
  },
  {
   "cell_type": "markdown",
   "id": "0bcb92d9",
   "metadata": {},
   "source": [
    "### Exercise 7: Preparing a report\n",
    "\n",
    "Once again, you scraped Wikipedia pages. This time, you searched for the description of useful tools used for text mining. Your first task is to prepare a report about different tools you found. You want to format the information contained in the dataset to be printed out as: \n",
    "\n",
    "(tool) is a (description).\n",
    "\n",
    "In this case, template strings are the best solution to interpolate data generated by external sources into an already created template.\n",
    "\n",
    "For this example, the variables 'tool1', 'tool2' and 'tool3' contain three article titles. Each variable 'description1', 'description2' and 'description3' contains the corresponding article description."
   ]
  },
  {
   "cell_type": "code",
   "execution_count": 94,
   "id": "15ffef04",
   "metadata": {},
   "outputs": [],
   "source": [
    "tool1 = 'Natural Language Toolkit'\n",
    "tool2 = 'TextBlob'\n",
    "tool3 = 'Gensim'"
   ]
  },
  {
   "cell_type": "code",
   "execution_count": 93,
   "id": "47b2aaab",
   "metadata": {},
   "outputs": [
    {
     "name": "stdout",
     "output_type": "stream",
     "text": [
      "suite of libraries and programs for symbolic and statistical natural language processing (NLP) for English written in the Python programming language. It was developed by Steven Bird and Edward Loper in the Department of Computer and Information Science at the University of Pennsylvania. \n",
      "\n",
      "Python library for processing textual data. It provides a simple API for diving into common natural language processing tasks such as part-of-speech tagging, noun phrase extraction, sentiment analysis, classification, translation, and more. \n",
      "\n",
      "robust open-source vector space modeling and topic modeling toolkit implemented in Python. It uses NumPy, SciPy and optionally Cython for performance. Gensim is specifically designed to handle large text collections, using data streaming and efficient incremental algorithms, which differentiates it from most other scientific software packages that only target batch and in-memory processing.\n"
     ]
    }
   ],
   "source": [
    "description1 = 'suite of libraries and programs for symbolic and statistical natural language processing (NLP) for English written in the Python programming language. It was developed by Steven Bird and Edward Loper in the Department of Computer and Information Science at the University of Pennsylvania.'\n",
    "print(description1,\"\\n\")\n",
    "\n",
    "description2 = 'Python library for processing textual data. It provides a simple API for diving into common natural language processing tasks such as part-of-speech tagging, noun phrase extraction, sentiment analysis, classification, translation, and more.'\n",
    "print(description2,\"\\n\")\n",
    "\n",
    "description3 = 'robust open-source vector space modeling and topic modeling toolkit implemented in Python. It uses NumPy, SciPy and optionally Cython for performance. Gensim is specifically designed to handle large text collections, using data streaming and efficient incremental algorithms, which differentiates it from most other scientific software packages that only target batch and in-memory processing.'\n",
    "print(description3)"
   ]
  },
  {
   "cell_type": "markdown",
   "id": "99f070a4",
   "metadata": {},
   "source": [
    "- First of all, import Template from string module."
   ]
  },
  {
   "cell_type": "code",
   "execution_count": null,
   "id": "8d9e98f9",
   "metadata": {},
   "outputs": [],
   "source": [
    "# Create a template\n",
    "wikipedia = Template(\"____ is a ____\")"
   ]
  },
  {
   "cell_type": "markdown",
   "id": "322445ae",
   "metadata": {},
   "source": [
    "- Complete the template using '$tool'  and '$description' identifiers."
   ]
  },
  {
   "cell_type": "code",
   "execution_count": null,
   "id": "759cc7f2",
   "metadata": {},
   "outputs": [],
   "source": [
    "# Substitute variables in template\n",
    "print(wikipedia.____(____=____, ____=____))\n",
    "print(wikipedia.____(____=____, ____=____))\n",
    "print(wikipedia.____(____=____, ____=____))"
   ]
  },
  {
   "cell_type": "markdown",
   "id": "cf1fff37",
   "metadata": {},
   "source": [
    "- Substitute identifiers with the correct tool and description variables in the template and print out the results."
   ]
  },
  {
   "cell_type": "code",
   "execution_count": 95,
   "id": "4d5a87ed",
   "metadata": {},
   "outputs": [],
   "source": [
    "from string import Template"
   ]
  },
  {
   "cell_type": "code",
   "execution_count": 101,
   "id": "777d8ebf",
   "metadata": {},
   "outputs": [],
   "source": [
    "## q2\n",
    "wikipedia = Template(\"$tool is a $description\")"
   ]
  },
  {
   "cell_type": "code",
   "execution_count": 102,
   "id": "9744d1a1",
   "metadata": {},
   "outputs": [
    {
     "name": "stdout",
     "output_type": "stream",
     "text": [
      "Natural Language Toolkit is a suite of libraries and programs for symbolic and statistical natural language processing (NLP) for English written in the Python programming language. It was developed by Steven Bird and Edward Loper in the Department of Computer and Information Science at the University of Pennsylvania. \n",
      "\n",
      "TextBlob is a Python library for processing textual data. It provides a simple API for diving into common natural language processing tasks such as part-of-speech tagging, noun phrase extraction, sentiment analysis, classification, translation, and more. \n",
      "\n",
      "Gensim is a robust open-source vector space modeling and topic modeling toolkit implemented in Python. It uses NumPy, SciPy and optionally Cython for performance. Gensim is specifically designed to handle large text collections, using data streaming and efficient incremental algorithms, which differentiates it from most other scientific software packages that only target batch and in-memory processing.\n"
     ]
    }
   ],
   "source": [
    "## q3\n",
    "# Substitute variables in template\n",
    "print(wikipedia.substitute(tool=tool1, description=description1), \"\\n\")\n",
    "print(wikipedia.substitute(tool=tool2, description=description2), \"\\n\")\n",
    "print(wikipedia.substitute(tool=tool3, description=description3))"
   ]
  },
  {
   "cell_type": "markdown",
   "id": "16b85661",
   "metadata": {},
   "source": [
    "### Exercise 8: Identifying prices\n",
    "\n",
    "After you showed your report to your boss, he came up with the idea of offering courses to the company's users on some of the tools you studied. In order to make a pilot test, you will send an email offering a course about one of the tools, randomly chosen from your dataset. You also mention that the estimated fee needs to be paid on a monthly basis.\n",
    "\n",
    "For writing the email, you will use Template strings. You remember that you need to be careful when you use the dollar sign since it is used for identifiers in this case.\n",
    "\n",
    "For this example, the list tools contains the corresponding 'tool name', 'fee' and 'payment type' for the product offer. "
   ]
  },
  {
   "cell_type": "code",
   "execution_count": 103,
   "id": "5b858240",
   "metadata": {},
   "outputs": [],
   "source": [
    "tools = ['Natural Language Toolkit', '20', 'month']"
   ]
  },
  {
   "cell_type": "code",
   "execution_count": null,
   "id": "ad1b37a7",
   "metadata": {},
   "outputs": [],
   "source": [
    "# Import template\n",
    "from string import Template\n",
    "\n",
    "# Select variables\n",
    "our_tool = ____\n",
    "our_fee = ____\n",
    "our_pay = ____\n",
    "\n",
    "# Create template\n",
    "course = ____(\"We are offering a 3-month beginner course on ____ just for ____ ____ ____\")\n",
    "\n",
    "# Substitute identifiers with three variables\n",
    "print(____.____(____=____, ____=____, ____=____))"
   ]
  },
  {
   "cell_type": "markdown",
   "id": "dfef1a8b",
   "metadata": {},
   "source": [
    "- Assign the first, second, and third element of tools to the variables our_tool, our_fee and our_pay respectively.\n",
    "\n",
    "\n",
    "- Complete the template string using dollar sign tool, dollar sign fee, and dollar sign pay  as  identifiers. Add the dollar sign before the dollar sign fee identifier and add the characters ly directly after the dollar sign pay identifier.\n",
    "\n",
    "\n",
    "- Substitute identifiers with the three variables you created and print out the results."
   ]
  },
  {
   "cell_type": "code",
   "execution_count": 104,
   "id": "d7d12ba1",
   "metadata": {},
   "outputs": [],
   "source": [
    "## q1\n",
    "# Select variables\n",
    "our_tool = tools[0]\n",
    "our_fee = tools[1]\n",
    "our_pay = tools[2]"
   ]
  },
  {
   "cell_type": "code",
   "execution_count": 105,
   "id": "37ed024d",
   "metadata": {},
   "outputs": [
    {
     "data": {
      "text/plain": [
       "'We are offering a 3-month beginner course on Natural Language Toolkit just for $ 20 monthly'"
      ]
     },
     "execution_count": 105,
     "metadata": {},
     "output_type": "execute_result"
    }
   ],
   "source": [
    "## q2\n",
    "# Create template\n",
    "course = Template(\"We are offering a 3-month beginner course on $tool just for $$ $fee ${pay}ly\")\n",
    "\n",
    "## q3\n",
    "course.substitute(tool = our_tool, fee = our_fee, pay = our_pay)"
   ]
  },
  {
   "cell_type": "markdown",
   "id": "329ab403",
   "metadata": {},
   "source": [
    "### Exercise 9: Playing safe\n",
    "\n",
    "You are in charge of a new project! Your job is to start collecting information from the company's main application users. You will make an online quiz and ask your users to voluntarily answer two questions. However, it is not mandatory for the user to answer both. \n",
    "\n",
    "You will be handling user-provided strings so you decide to use the Template method to print the input information. This allows users to double-check their answers before submitting them.\n",
    "\n",
    "The answer of one user has been stored in the dictionary 'answers'. "
   ]
  },
  {
   "cell_type": "code",
   "execution_count": 106,
   "id": "8aa00738",
   "metadata": {},
   "outputs": [],
   "source": [
    "answers = {'answer1': 'I really like the app. But there are some features that can be improved'}"
   ]
  },
  {
   "cell_type": "code",
   "execution_count": null,
   "id": "cc4dd96d",
   "metadata": {},
   "outputs": [],
   "source": [
    "# Complete template string using identifiers\n",
    "the_answers = ____(\"Check your answer 1: ____, and your answer 2: ____\")\n",
    "\n",
    "# Use substitute to replace identifiers\n",
    "try:\n",
    "    print(____.____(____))\n",
    "except KeyError:\n",
    "    print(\"Missing information\")\n",
    "    \n",
    "# Use safe_substitute to replace identifiers\n",
    "try:\n",
    "    print(____.____(____))\n",
    "except KeyError:\n",
    "    print(\"Missing information\")"
   ]
  },
  {
   "cell_type": "markdown",
   "id": "9fe1acde",
   "metadata": {},
   "source": [
    "- Complete the template string using dollar sign answer1 and dollar sign answer2 as identifiers.\n",
    "\n",
    "\n",
    "- Use the method .substitute() to replace the identifiers with the values in answers in the predefined template.\n",
    "\n",
    "\n",
    "- Use the method .safe_substitute() to replace the identifiers with the values in answers in the predefined template."
   ]
  },
  {
   "cell_type": "code",
   "execution_count": 107,
   "id": "557d3a63",
   "metadata": {},
   "outputs": [],
   "source": [
    "# q1\n",
    "# Complete template string using identifiers\n",
    "the_answers = Template(\"Check your answer 1: $answer1, and your answer 2: $answer2\")"
   ]
  },
  {
   "cell_type": "code",
   "execution_count": 108,
   "id": "4f328ea3",
   "metadata": {},
   "outputs": [
    {
     "name": "stdout",
     "output_type": "stream",
     "text": [
      "Missing information\n"
     ]
    }
   ],
   "source": [
    "## q2\n",
    "# Use substitute to replace identifiers\n",
    "try:\n",
    "    print(the_answers.substitute(answers))\n",
    "except KeyError:\n",
    "    print(\"Missing information\")"
   ]
  },
  {
   "cell_type": "code",
   "execution_count": 109,
   "id": "08754071",
   "metadata": {},
   "outputs": [
    {
     "name": "stdout",
     "output_type": "stream",
     "text": [
      "Check your answer 1: I really like the app. But there are some features that can be improved, and your answer 2: $answer2\n"
     ]
    }
   ],
   "source": [
    "## q3\n",
    "\n",
    "# Use safe_substitute to replace identifiers\n",
    "try:\n",
    "    print(the_answers.safe_substitute(answers))\n",
    "except KeyError:\n",
    "    print(\"Missing information\")"
   ]
  },
  {
   "cell_type": "code",
   "execution_count": null,
   "id": "7726a37f",
   "metadata": {},
   "outputs": [],
   "source": []
  },
  {
   "cell_type": "code",
   "execution_count": null,
   "id": "09feebb1",
   "metadata": {},
   "outputs": [],
   "source": []
  }
 ],
 "metadata": {
  "kernelspec": {
   "display_name": "Python 3",
   "language": "python",
   "name": "python3"
  },
  "language_info": {
   "codemirror_mode": {
    "name": "ipython",
    "version": 3
   },
   "file_extension": ".py",
   "mimetype": "text/x-python",
   "name": "python",
   "nbconvert_exporter": "python",
   "pygments_lexer": "ipython3",
   "version": "3.8.8"
  }
 },
 "nbformat": 4,
 "nbformat_minor": 5
}
